{
 "cells": [
  {
   "cell_type": "code",
   "execution_count": 7,
   "metadata": {},
   "outputs": [
    {
     "data": {
      "text/plain": [
       "{'active_prob': 1.0,\n",
       " 'is_read_out': False,\n",
       " 'children': [{'active_prob': 0.2,\n",
       "   'is_read_out': True,\n",
       "   'is_allopatry': True,\n",
       "   'children': [{'active_prob': 0.5, 'is_read_out': True},\n",
       "    {'active_prob': 0.5, 'is_read_out': True}]},\n",
       "  {'active_prob': 0.2,\n",
       "   'is_read_out': True,\n",
       "   'is_allopatry': True,\n",
       "   'children': [{'active_prob': 0.5, 'is_read_out': True},\n",
       "    {'active_prob': 0.5, 'is_read_out': True}]}]}"
      ]
     },
     "execution_count": 7,
     "metadata": {},
     "output_type": "execute_result"
    }
   ],
   "source": [
    "from copy import deepcopy\n",
    "import json\n",
    "\n",
    "root = {\n",
    "    'active_prob': 1.0,\n",
    "    'is_read_out': False,\n",
    "    'children': []\n",
    "}\n",
    "\n",
    "l1 = {\n",
    "        'active_prob': 0.2,\n",
    "        'is_read_out': True,\n",
    "        'is_allopatry': True,\n",
    "        'children': []\n",
    "    }\n",
    "l2 = {\n",
    "    'active_prob': 0.5,\n",
    "    'is_read_out': True,\n",
    "}\n",
    "\n",
    "\n",
    "for _ in range(2):\n",
    "    child1 = deepcopy(l1)\n",
    "    for _ in range(2):\n",
    "        child1['children'].append(deepcopy(l2))\n",
    "    root['children'].append(child1)\n",
    "\n",
    "with open('simple_tree.json', 'w') as f:\n",
    "    json.dump(root, f, indent=2)\n",
    "\n",
    "\n",
    "root"
   ]
  }
 ],
 "metadata": {
  "kernelspec": {
   "display_name": "gpt",
   "language": "python",
   "name": "python3"
  },
  "language_info": {
   "codemirror_mode": {
    "name": "ipython",
    "version": 3
   },
   "file_extension": ".py",
   "mimetype": "text/x-python",
   "name": "python",
   "nbconvert_exporter": "python",
   "pygments_lexer": "ipython3",
   "version": "3.10.11"
  },
  "orig_nbformat": 4
 },
 "nbformat": 4,
 "nbformat_minor": 2
}
