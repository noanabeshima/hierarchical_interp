{
 "cells": [
  {
   "cell_type": "code",
   "execution_count": 11,
   "metadata": {},
   "outputs": [
    {
     "data": {
      "text/plain": [
       "'{\\n  \"active_prob\": 1.0,\\n  \"is_read_out\": false,\\n  \"children\": [\\n    {\\n      \"active_prob\": 0.15,\\n      \"is_read_out\": true,\\n      \"is_allopatry\": true,\\n      \"children\": [\\n        {\\n          \"active_prob\": 0.2,\\n          \"is_read_out\": true,\\n          \"is_allopatry\": true,\\n          \"children\": [\\n            {\\n              \"active_prob\": 0.25,\\n              \"is_allopatry\": false,\\n              \"is_read_out\": true,\\n              \"children\": []\\n            },\\n            {\\n              \"active_prob\": 0.25,\\n              \"is_allopatry\": false,\\n              \"is_read_out\": true,\\n              \"children\": []\\n            },\\n            {\\n              \"active_prob\": 0.25,\\n              \"is_allopatry\": false,\\n              \"is_read_out\": true,\\n              \"children\": []\\n            },\\n            {\\n              \"active_prob\": 0.25,\\n              \"is_allopatry\": false,\\n              \"is_read_out\": true,\\n              \"children\": []\\n            }\\n          ]\\n        },\\n        {\\n          \"active_prob\": 0.2,\\n          \"is_read_out\": true,\\n          \"is_allopatry\": true,\\n          \"children\": [\\n            {\\n              \"active_prob\": 0.25,\\n              \"is_allopatry\": false,\\n              \"is_read_out\": true,\\n              \"children\": []\\n            },\\n            {\\n              \"active_prob\": 0.25,\\n              \"is_allopatry\": false,\\n              \"is_read_out\": true,\\n              \"children\": []\\n            },\\n            {\\n              \"active_prob\": 0.25,\\n              \"is_allopatry\": false,\\n              \"is_read_out\": true,\\n              \"children\": []\\n            },\\n            {\\n              \"active_prob\": 0.25,\\n              \"is_allopatry\": false,\\n              \"is_read_out\": true,\\n              \"children\": []\\n            }\\n          ]\\n        },\\n        {\\n          \"active_prob\": 0.2,\\n          \"is_read_out\": true,\\n          \"is_allopatry\": true,\\n          \"children\": [\\n            {\\n              \"active_prob\": 0.25,\\n              \"is_allopatry\": false,\\n              \"is_read_out\": true,\\n              \"children\": []\\n            },\\n            {\\n              \"active_prob\": 0.25,\\n              \"is_allopatry\": false,\\n              \"is_read_out\": true,\\n              \"children\": []\\n            },\\n            {\\n              \"active_prob\": 0.25,\\n              \"is_allopatry\": false,\\n              \"is_read_out\": true,\\n              \"children\": []\\n            },\\n            {\\n              \"active_prob\": 0.25,\\n              \"is_allopatry\": false,\\n              \"is_read_out\": true,\\n              \"children\": []\\n            }\\n          ]\\n        },\\n        {\\n          \"active_prob\": 0.2,\\n          \"is_read_out\": true,\\n          \"is_allopatry\": true,\\n          \"children\": [\\n            {\\n              \"active_prob\": 0.25,\\n              \"is_allopatry\": false,\\n              \"is_read_out\": true,\\n              \"children\": []\\n            },\\n            {\\n              \"active_prob\": 0.25,\\n              \"is_allopatry\": false,\\n              \"is_read_out\": true,\\n              \"children\": []\\n            },\\n            {\\n              \"active_prob\": 0.25,\\n              \"is_allopatry\": false,\\n              \"is_read_out\": true,\\n              \"children\": []\\n            },\\n            {\\n              \"active_prob\": 0.25,\\n              \"is_allopatry\": false,\\n              \"is_read_out\": true,\\n              \"children\": []\\n            }\\n          ]\\n        },\\n        {\\n          \"active_prob\": 0.2,\\n          \"is_read_out\": true,\\n          \"is_allopatry\": true,\\n          \"children\": [\\n            {\\n              \"active_prob\": 0.25,\\n              \"is_allopatry\": false,\\n              \"is_read_out\": true,\\n              \"children\": []\\n            },\\n            {\\n              \"active_prob\": 0.25,\\n              \"is_allopatry\": false,\\n              \"is_read_out\": true,\\n              \"children\": []\\n            },\\n            {\\n              \"active_prob\": 0.25,\\n              \"is_allopatry\": false,\\n              \"is_read_out\": true,\\n              \"children\": []\\n            },\\n            {\\n              \"active_prob\": 0.25,\\n              \"is_allopatry\": false,\\n              \"is_read_out\": true,\\n              \"children\": []\\n            }\\n          ]\\n        }\\n      ]\\n    },\\n    {\\n      \"active_prob\": 0.15,\\n      \"is_read_out\": true,\\n      \"is_allopatry\": true,\\n      \"children\": [\\n        {\\n          \"active_prob\": 0.2,\\n          \"is_read_out\": true,\\n          \"is_allopatry\": true,\\n          \"children\": [\\n            {\\n              \"active_prob\": 0.25,\\n              \"is_allopatry\": false,\\n              \"is_read_out\": true,\\n              \"children\": []\\n            },\\n            {\\n              \"active_prob\": 0.25,\\n              \"is_allopatry\": false,\\n              \"is_read_out\": true,\\n              \"children\": []\\n            },\\n            {\\n              \"active_prob\": 0.25,\\n              \"is_allopatry\": false,\\n              \"is_read_out\": true,\\n              \"children\": []\\n            },\\n            {\\n              \"active_prob\": 0.25,\\n              \"is_allopatry\": false,\\n              \"is_read_out\": true,\\n              \"children\": []\\n            }\\n          ]\\n        },\\n        {\\n          \"active_prob\": 0.2,\\n          \"is_read_out\": true,\\n          \"is_allopatry\": true,\\n          \"children\": [\\n            {\\n              \"active_prob\": 0.25,\\n              \"is_allopatry\": false,\\n              \"is_read_out\": true,\\n              \"children\": []\\n            },\\n            {\\n              \"active_prob\": 0.25,\\n              \"is_allopatry\": false,\\n              \"is_read_out\": true,\\n              \"children\": []\\n            },\\n            {\\n              \"active_prob\": 0.25,\\n              \"is_allopatry\": false,\\n              \"is_read_out\": true,\\n              \"children\": []\\n            },\\n            {\\n              \"active_prob\": 0.25,\\n              \"is_allopatry\": false,\\n              \"is_read_out\": true,\\n              \"children\": []\\n            }\\n          ]\\n        },\\n        {\\n          \"active_prob\": 0.2,\\n          \"is_read_out\": true,\\n          \"is_allopatry\": true,\\n          \"children\": [\\n            {\\n              \"active_prob\": 0.25,\\n              \"is_allopatry\": false,\\n              \"is_read_out\": true,\\n              \"children\": []\\n            },\\n            {\\n              \"active_prob\": 0.25,\\n              \"is_allopatry\": false,\\n              \"is_read_out\": true,\\n              \"children\": []\\n            },\\n            {\\n              \"active_prob\": 0.25,\\n              \"is_allopatry\": false,\\n              \"is_read_out\": true,\\n              \"children\": []\\n            },\\n            {\\n              \"active_prob\": 0.25,\\n              \"is_allopatry\": false,\\n              \"is_read_out\": true,\\n              \"children\": []\\n            }\\n          ]\\n        },\\n        {\\n          \"active_prob\": 0.2,\\n          \"is_read_out\": true,\\n          \"is_allopatry\": true,\\n          \"children\": [\\n            {\\n              \"active_prob\": 0.25,\\n              \"is_allopatry\": false,\\n              \"is_read_out\": true,\\n              \"children\": []\\n            },\\n            {\\n              \"active_prob\": 0.25,\\n              \"is_allopatry\": false,\\n              \"is_read_out\": true,\\n              \"children\": []\\n            },\\n            {\\n              \"active_prob\": 0.25,\\n              \"is_allopatry\": false,\\n              \"is_read_out\": true,\\n              \"children\": []\\n            },\\n            {\\n              \"active_prob\": 0.25,\\n              \"is_allopatry\": false,\\n              \"is_read_out\": true,\\n              \"children\": []\\n            }\\n          ]\\n        },\\n        {\\n          \"active_prob\": 0.2,\\n          \"is_read_out\": true,\\n          \"is_allopatry\": true,\\n          \"children\": [\\n            {\\n              \"active_prob\": 0.25,\\n              \"is_allopatry\": false,\\n              \"is_read_out\": true,\\n              \"children\": []\\n            },\\n            {\\n              \"active_prob\": 0.25,\\n              \"is_allopatry\": false,\\n              \"is_read_out\": true,\\n              \"children\": []\\n            },\\n            {\\n              \"active_prob\": 0.25,\\n              \"is_allopatry\": false,\\n              \"is_read_out\": true,\\n              \"children\": []\\n            },\\n            {\\n              \"active_prob\": 0.25,\\n              \"is_allopatry\": false,\\n              \"is_read_out\": true,\\n              \"children\": []\\n            }\\n          ]\\n        }\\n      ]\\n    },\\n    {\\n      \"active_prob\": 0.15,\\n      \"is_read_out\": true,\\n      \"is_allopatry\": true,\\n      \"children\": [\\n        {\\n          \"active_prob\": 0.2,\\n          \"is_read_out\": true,\\n          \"is_allopatry\": true,\\n          \"children\": [\\n            {\\n              \"active_prob\": 0.25,\\n              \"is_allopatry\": false,\\n              \"is_read_out\": true,\\n              \"children\": []\\n            },\\n            {\\n              \"active_prob\": 0.25,\\n              \"is_allopatry\": false,\\n              \"is_read_out\": true,\\n              \"children\": []\\n            },\\n            {\\n              \"active_prob\": 0.25,\\n              \"is_allopatry\": false,\\n              \"is_read_out\": true,\\n              \"children\": []\\n            },\\n            {\\n              \"active_prob\": 0.25,\\n              \"is_allopatry\": false,\\n              \"is_read_out\": true,\\n              \"children\": []\\n            }\\n          ]\\n        },\\n        {\\n          \"active_prob\": 0.2,\\n          \"is_read_out\": true,\\n          \"is_allopatry\": true,\\n          \"children\": [\\n            {\\n              \"active_prob\": 0.25,\\n              \"is_allopatry\": false,\\n              \"is_read_out\": true,\\n              \"children\": []\\n            },\\n            {\\n              \"active_prob\": 0.25,\\n              \"is_allopatry\": false,\\n              \"is_read_out\": true,\\n              \"children\": []\\n            },\\n            {\\n              \"active_prob\": 0.25,\\n              \"is_allopatry\": false,\\n              \"is_read_out\": true,\\n              \"children\": []\\n            },\\n            {\\n              \"active_prob\": 0.25,\\n              \"is_allopatry\": false,\\n              \"is_read_out\": true,\\n              \"children\": []\\n            }\\n          ]\\n        },\\n        {\\n          \"active_prob\": 0.2,\\n          \"is_read_out\": true,\\n          \"is_allopatry\": true,\\n          \"children\": [\\n            {\\n              \"active_prob\": 0.25,\\n              \"is_allopatry\": false,\\n              \"is_read_out\": true,\\n              \"children\": []\\n            },\\n            {\\n              \"active_prob\": 0.25,\\n              \"is_allopatry\": false,\\n              \"is_read_out\": true,\\n              \"children\": []\\n            },\\n            {\\n              \"active_prob\": 0.25,\\n              \"is_allopatry\": false,\\n              \"is_read_out\": true,\\n              \"children\": []\\n            },\\n            {\\n              \"active_prob\": 0.25,\\n              \"is_allopatry\": false,\\n              \"is_read_out\": true,\\n              \"children\": []\\n            }\\n          ]\\n        },\\n        {\\n          \"active_prob\": 0.2,\\n          \"is_read_out\": true,\\n          \"is_allopatry\": true,\\n          \"children\": [\\n            {\\n              \"active_prob\": 0.25,\\n              \"is_allopatry\": false,\\n              \"is_read_out\": true,\\n              \"children\": []\\n            },\\n            {\\n              \"active_prob\": 0.25,\\n              \"is_allopatry\": false,\\n              \"is_read_out\": true,\\n              \"children\": []\\n            },\\n            {\\n              \"active_prob\": 0.25,\\n              \"is_allopatry\": false,\\n              \"is_read_out\": true,\\n              \"children\": []\\n            },\\n            {\\n              \"active_prob\": 0.25,\\n              \"is_allopatry\": false,\\n              \"is_read_out\": true,\\n              \"children\": []\\n            }\\n          ]\\n        },\\n        {\\n          \"active_prob\": 0.2,\\n          \"is_read_out\": true,\\n          \"is_allopatry\": true,\\n          \"children\": [\\n            {\\n              \"active_prob\": 0.25,\\n              \"is_allopatry\": false,\\n              \"is_read_out\": true,\\n              \"children\": []\\n            },\\n            {\\n              \"active_prob\": 0.25,\\n              \"is_allopatry\": false,\\n              \"is_read_out\": true,\\n              \"children\": []\\n            },\\n            {\\n              \"active_prob\": 0.25,\\n              \"is_allopatry\": false,\\n              \"is_read_out\": true,\\n              \"children\": []\\n            },\\n            {\\n              \"active_prob\": 0.25,\\n              \"is_allopatry\": false,\\n              \"is_read_out\": true,\\n              \"children\": []\\n            }\\n          ]\\n        }\\n      ]\\n    }\\n  ]\\n}'"
      ]
     },
     "execution_count": 11,
     "metadata": {},
     "output_type": "execute_result"
    }
   ],
   "source": [
    "from copy import deepcopy\n",
    "import json\n",
    "\n",
    "root = {\n",
    "    'active_prob': 1.0,\n",
    "    'is_read_out': False,\n",
    "    'children': []\n",
    "}\n",
    "\n",
    "l1 = {\n",
    "        'active_prob': 0.15,\n",
    "        'is_read_out': True,\n",
    "        'is_allopatry': True,\n",
    "        'children': []\n",
    "    }\n",
    "l2 = {\n",
    "    'active_prob': 0.2,\n",
    "    'is_read_out': True,\n",
    "    'is_allopatry': True,\n",
    "    'children': []\n",
    "}\n",
    "\n",
    "l3 = {\n",
    "    'active_prob': 0.25,\n",
    "    'is_allopatry': False,\n",
    "    'is_read_out': True,\n",
    "    'children': []\n",
    "}\n",
    "\n",
    "\n",
    "layers = [l1, l2, l3]\n",
    "\n",
    "\n",
    "for _ in range(3):\n",
    "    child1 = deepcopy(l1)\n",
    "    for _ in range(5):\n",
    "        child2 = deepcopy(l2)\n",
    "        for _ in range(4):\n",
    "            child3 = deepcopy(l3)\n",
    "            child2['children'].append(child3)\n",
    "        child1['children'].append(child2)\n",
    "    root['children'].append(child1)\n",
    "\n",
    "with open('tree.json', 'w') as f:\n",
    "    json.dump(root, f, indent=2)\n",
    "\n",
    "\n",
    "print(json.dumps(root, indent=2))"
   ]
  }
 ],
 "metadata": {
  "kernelspec": {
   "display_name": "Python 3",
   "language": "python",
   "name": "python3"
  },
  "language_info": {
   "codemirror_mode": {
    "name": "ipython",
    "version": 3
   },
   "file_extension": ".py",
   "mimetype": "text/x-python",
   "name": "python",
   "nbconvert_exporter": "python",
   "pygments_lexer": "ipython3",
   "version": "3.6.9"
  },
  "orig_nbformat": 4,
  "vscode": {
   "interpreter": {
    "hash": "31f2aee4e71d21fbe5cf8b01ff0e069b9275f58929596ceb00d14d90e3e16cd6"
   }
  }
 },
 "nbformat": 4,
 "nbformat_minor": 2
}
