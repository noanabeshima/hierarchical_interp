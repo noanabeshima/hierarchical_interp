{
 "cells": [
  {
   "cell_type": "code",
   "execution_count": null,
   "metadata": {},
   "outputs": [],
   "source": [
    "import torch\n",
    "import torch.nn as nn\n",
    "import torch.nn.functional as F\n",
    "import torch.optim as optim\n",
    "import torch.distributions as dists\n",
    "\n",
    "from noa_tools import reload_module\n",
    "\n",
    "# reload_module('toy_models')\n",
    "reload_module('discrete_tree')\n",
    "from discrete_tree import Tree\n",
    "\n",
    "import json\n",
    "\n",
    "device = torch.device(\"cuda\" if torch.cuda.is_available() else \"cpu\")\n",
    "# device = 'cpu'\n",
    "\n",
    "tree_dict = json.load(open('./tree.json', 'r'))\n",
    "\n",
    "tree = Tree(tree_dict=tree_dict)\n",
    "\n",
    "batch = tree.sample(30,)"
   ]
  },
  {
   "cell_type": "code",
   "execution_count": null,
   "metadata": {},
   "outputs": [],
   "source": []
  },
  {
   "cell_type": "code",
   "execution_count": null,
   "metadata": {},
   "outputs": [],
   "source": [
    "eps = 0.05\n",
    "batch = tree.sample(100,)\n",
    "noise = 1 + eps * (torch.randn_like(batch))\n",
    "\n",
    "noisy_batch = batch * noise"
   ]
  },
  {
   "cell_type": "code",
   "execution_count": null,
   "metadata": {},
   "outputs": [],
   "source": [
    "from noa_tools import heatmap\n",
    "\n",
    "heatmap(noisy_batch)\n"
   ]
  },
  {
   "cell_type": "code",
   "execution_count": 389,
   "metadata": {},
   "outputs": [
    {
     "name": "stderr",
     "output_type": "stream",
     "text": [
      "/media/noa/big_ssd/old/hierarchical_interp/models.py:81: FutureWarning:\n",
      "\n",
      "`torch.cuda.amp.GradScaler(args...)` is deprecated. Please use `torch.amp.GradScaler('cuda', args...)` instead.\n",
      "\n"
     ]
    },
    {
     "data": {
      "text/plain": [
       "Parameter containing:\n",
       "tensor([0.1139, 0.2903, 0.5018, 0.7399, 1.0000], device='cuda:0')"
      ]
     },
     "execution_count": 389,
     "metadata": {},
     "output_type": "execute_result"
    }
   ],
   "source": [
    "reload_module('models')\n",
    "from models import SegmentedSAE\n",
    "from noa_tools import grid_from_configs\n",
    "import numpy as np\n",
    "\n",
    "default_config =  {\n",
    "    'n_features' : [tree.n_features+20],\n",
    "    'target_l0': [10],\n",
    "    'n_blocks': [5],\n",
    "    'min_features': [1],\n",
    "    'd_model': [30],\n",
    "    'beta1': [1],\n",
    "    'beta2': [4],\n",
    "    'project_name': ['tree_test'],\n",
    "    'n_epochs': [1],\n",
    "    'n_steps': [5000],\n",
    "    'log_interval': [50],\n",
    "    'lr': [1e-2],\n",
    "    'block_weight_power': [1.35]\n",
    "}\n",
    "\n",
    "config = default_config\n",
    "\n",
    "grid = grid_from_configs(config)\n",
    "\n",
    "config = grid[0]\n",
    "\n",
    "config['adam_beta1'] = (1-1/(2**config['beta1']))\n",
    "config['adam_beta2'] = (1-1/(2**config['beta2']))\n",
    "\n",
    "sae = SegmentedSAE(**config).to('cuda:0')\n",
    "true_feats = torch.randn(tree.n_features, config['d_model']).to(sae.W_enc.device)/np.sqrt(config['d_model'])\n",
    "# randomize true_feat_scales from 0.5 to 2\n",
    "true_feat_scales = torch.rand(tree.n_features, device=sae.W_enc.device) * 1 + 1\n",
    "true_feats *= true_feat_scales[:, None]\n",
    "\n",
    "\n",
    "sae.block_weights"
   ]
  },
  {
   "cell_type": "code",
   "execution_count": 390,
   "metadata": {},
   "outputs": [
    {
     "name": "stderr",
     "output_type": "stream",
     "text": [
      "100%|██████████| 5000/5000 [01:17<00:00, 64.83it/s]\n"
     ]
    }
   ],
   "source": [
    "from tqdm import tqdm\n",
    "\n",
    "from torch.utils.data import Dataset, DataLoader\n",
    "\n",
    "class TreeDataset(Dataset):\n",
    "    def __init__(self, tree, true_feats, batch_size, num_batches):\n",
    "        self.tree = tree\n",
    "        self.true_feats = true_feats.cpu()\n",
    "        self.batch_size = batch_size\n",
    "        self.num_batches = num_batches\n",
    "\n",
    "    def __len__(self):\n",
    "        return self.num_batches\n",
    "\n",
    "    def __getitem__(self, idx):\n",
    "        true_acts = self.tree.sample(self.batch_size)\n",
    "        x = true_acts @ self.true_feats\n",
    "        return x\n",
    "\n",
    "dataset = TreeDataset(tree, true_feats.cpu(), batch_size=200, num_batches=config['n_steps'])\n",
    "dataloader = DataLoader(dataset, batch_size=None, num_workers=6, pin_memory=True)\n",
    "\n",
    "for step, batch in tqdm(enumerate(dataloader), total=config['n_steps']):\n",
    "    sae.step(batch.to(sae.W_enc.device))\n"
   ]
  },
  {
   "cell_type": "code",
   "execution_count": 391,
   "metadata": {},
   "outputs": [],
   "source": [
    "true_feats_n = true_feats/true_feats.norm(dim=-1, keepdim=True)\n",
    "sae_feats_n = sae.W_dec/sae.W_dec.norm(dim=-1, keepdim=True)"
   ]
  },
  {
   "cell_type": "code",
   "execution_count": 392,
   "metadata": {},
   "outputs": [],
   "source": [
    "from scipy.optimize import linear_sum_assignment\n",
    "import numpy as np\n",
    "\n",
    "sims = (sae_feats_n @ true_feats_n.T).cpu()\n",
    "max_value = sims.max()\n",
    "cost_matrix = max_value - sims\n",
    "\n",
    "row_ind, col_ind = row_ind, col_ind = linear_sum_assignment(cost_matrix.detach().cpu().numpy().T)\n",
    "leftover_features = np.array(list(set(np.arange(sae_feats_n.shape[0])) - set(col_ind)))\n",
    "\n",
    "matching_perm = torch.tensor(col_ind)\n",
    "feat_perm = np.concatenate([col_ind, leftover_features])\n",
    "\n",
    "feat_perm = torch.tensor(feat_perm)\n",
    "\n",
    "\n",
    "feat_perm = matching_perm\n",
    "\n"
   ]
  },
  {
   "cell_type": "code",
   "execution_count": 393,
   "metadata": {},
   "outputs": [],
   "source": [
    "sims = (true_feats_n @ sae_feats_n[feat_perm].T)"
   ]
  },
  {
   "cell_type": "code",
   "execution_count": 394,
   "metadata": {},
   "outputs": [
    {
     "data": {
      "application/vnd.plotly.v1+json": {
       "config": {
        "plotlyServerURL": "https://plot.ly"
       },
       "data": [
        {
         "colorscale": [
          [
           0,
           "#440154"
          ],
          [
           0.1111111111111111,
           "#482878"
          ],
          [
           0.2222222222222222,
           "#3e4989"
          ],
          [
           0.3333333333333333,
           "#31688e"
          ],
          [
           0.4444444444444444,
           "#26828e"
          ],
          [
           0.5555555555555556,
           "#1f9e89"
          ],
          [
           0.6666666666666666,
           "#35b779"
          ],
          [
           0.7777777777777778,
           "#6ece58"
          ],
          [
           0.8888888888888888,
           "#b5de2b"
          ],
          [
           1,
           "#fde725"
          ]
         ],
         "hoverinfo": "text",
         "text": [
          [
           "true: 0<br>sae: 0<br>val: 1<br>",
           "true: 0<br>sae: 1<br>val: -0.014<br>",
           "true: 0<br>sae: 2<br>val: 0.079<br>",
           "true: 0<br>sae: 3<br>val: -0.048<br>",
           "true: 0<br>sae: 4<br>val: -0.22<br>",
           "true: 0<br>sae: 5<br>val: 0.22<br>",
           "true: 0<br>sae: 6<br>val: -0.29<br>",
           "true: 0<br>sae: 7<br>val: -0.061<br>",
           "true: 0<br>sae: 8<br>val: -0.038<br>",
           "true: 0<br>sae: 9<br>val: -0.075<br>",
           "true: 0<br>sae: 10<br>val: 0.26<br>",
           "true: 0<br>sae: 11<br>val: -0.18<br>",
           "true: 0<br>sae: 12<br>val: -0.21<br>",
           "true: 0<br>sae: 13<br>val: -0.26<br>",
           "true: 0<br>sae: 14<br>val: -0.062<br>",
           "true: 0<br>sae: 15<br>val: 0.24<br>",
           "true: 0<br>sae: 16<br>val: 0.051<br>",
           "true: 0<br>sae: 17<br>val: 0.4<br>",
           "true: 0<br>sae: 18<br>val: -0.1<br>",
           "true: 0<br>sae: 19<br>val: -0.19<br>",
           "true: 0<br>sae: 20<br>val: -0.0032<br>",
           "true: 0<br>sae: 21<br>val: -0.17<br>"
          ],
          [
           "true: 1<br>sae: 0<br>val: 0.031<br>",
           "true: 1<br>sae: 1<br>val: 1<br>",
           "true: 1<br>sae: 2<br>val: -0.12<br>",
           "true: 1<br>sae: 3<br>val: 0.15<br>",
           "true: 1<br>sae: 4<br>val: -0.25<br>",
           "true: 1<br>sae: 5<br>val: -0.21<br>",
           "true: 1<br>sae: 6<br>val: -0.00014<br>",
           "true: 1<br>sae: 7<br>val: -0.097<br>",
           "true: 1<br>sae: 8<br>val: 0.2<br>",
           "true: 1<br>sae: 9<br>val: 0.017<br>",
           "true: 1<br>sae: 10<br>val: -0.06<br>",
           "true: 1<br>sae: 11<br>val: 0.052<br>",
           "true: 1<br>sae: 12<br>val: -0.32<br>",
           "true: 1<br>sae: 13<br>val: 0.052<br>",
           "true: 1<br>sae: 14<br>val: 0.35<br>",
           "true: 1<br>sae: 15<br>val: -0.057<br>",
           "true: 1<br>sae: 16<br>val: -0.038<br>",
           "true: 1<br>sae: 17<br>val: 0.032<br>",
           "true: 1<br>sae: 18<br>val: 0.17<br>",
           "true: 1<br>sae: 19<br>val: -0.035<br>",
           "true: 1<br>sae: 20<br>val: -0.057<br>",
           "true: 1<br>sae: 21<br>val: 0.12<br>"
          ],
          [
           "true: 2<br>sae: 0<br>val: -0.12<br>",
           "true: 2<br>sae: 1<br>val: -0.092<br>",
           "true: 2<br>sae: 2<br>val: 0.98<br>",
           "true: 2<br>sae: 3<br>val: 0.016<br>",
           "true: 2<br>sae: 4<br>val: 0.36<br>",
           "true: 2<br>sae: 5<br>val: -0.1<br>",
           "true: 2<br>sae: 6<br>val: -0.18<br>",
           "true: 2<br>sae: 7<br>val: -0.067<br>",
           "true: 2<br>sae: 8<br>val: 0.11<br>",
           "true: 2<br>sae: 9<br>val: 0.19<br>",
           "true: 2<br>sae: 10<br>val: -0.35<br>",
           "true: 2<br>sae: 11<br>val: -0.15<br>",
           "true: 2<br>sae: 12<br>val: 0.18<br>",
           "true: 2<br>sae: 13<br>val: 0.058<br>",
           "true: 2<br>sae: 14<br>val: -0.0082<br>",
           "true: 2<br>sae: 15<br>val: -0.016<br>",
           "true: 2<br>sae: 16<br>val: 0.24<br>",
           "true: 2<br>sae: 17<br>val: 0.00025<br>",
           "true: 2<br>sae: 18<br>val: 0.057<br>",
           "true: 2<br>sae: 19<br>val: 0.044<br>",
           "true: 2<br>sae: 20<br>val: -0.01<br>",
           "true: 2<br>sae: 21<br>val: 0.25<br>"
          ],
          [
           "true: 3<br>sae: 0<br>val: 0.059<br>",
           "true: 3<br>sae: 1<br>val: 0.13<br>",
           "true: 3<br>sae: 2<br>val: -0.04<br>",
           "true: 3<br>sae: 3<br>val: 1<br>",
           "true: 3<br>sae: 4<br>val: -0.078<br>",
           "true: 3<br>sae: 5<br>val: -0.26<br>",
           "true: 3<br>sae: 6<br>val: -0.15<br>",
           "true: 3<br>sae: 7<br>val: 0.11<br>",
           "true: 3<br>sae: 8<br>val: 0.33<br>",
           "true: 3<br>sae: 9<br>val: 0.22<br>",
           "true: 3<br>sae: 10<br>val: 0.06<br>",
           "true: 3<br>sae: 11<br>val: -0.081<br>",
           "true: 3<br>sae: 12<br>val: -0.076<br>",
           "true: 3<br>sae: 13<br>val: -0.082<br>",
           "true: 3<br>sae: 14<br>val: 0.12<br>",
           "true: 3<br>sae: 15<br>val: -0.36<br>",
           "true: 3<br>sae: 16<br>val: 0.006<br>",
           "true: 3<br>sae: 17<br>val: 0.067<br>",
           "true: 3<br>sae: 18<br>val: -0.29<br>",
           "true: 3<br>sae: 19<br>val: 0.0014<br>",
           "true: 3<br>sae: 20<br>val: -0.049<br>",
           "true: 3<br>sae: 21<br>val: 0.055<br>"
          ],
          [
           "true: 4<br>sae: 0<br>val: -0.24<br>",
           "true: 4<br>sae: 1<br>val: -0.23<br>",
           "true: 4<br>sae: 2<br>val: 0.32<br>",
           "true: 4<br>sae: 3<br>val: -0.035<br>",
           "true: 4<br>sae: 4<br>val: 1<br>",
           "true: 4<br>sae: 5<br>val: -0.062<br>",
           "true: 4<br>sae: 6<br>val: -0.03<br>",
           "true: 4<br>sae: 7<br>val: 0.061<br>",
           "true: 4<br>sae: 8<br>val: 0.23<br>",
           "true: 4<br>sae: 9<br>val: 0.12<br>",
           "true: 4<br>sae: 10<br>val: -0.12<br>",
           "true: 4<br>sae: 11<br>val: -0.087<br>",
           "true: 4<br>sae: 12<br>val: 0.34<br>",
           "true: 4<br>sae: 13<br>val: 0.17<br>",
           "true: 4<br>sae: 14<br>val: 0.021<br>",
           "true: 4<br>sae: 15<br>val: -0.038<br>",
           "true: 4<br>sae: 16<br>val: 0.22<br>",
           "true: 4<br>sae: 17<br>val: 0.0091<br>",
           "true: 4<br>sae: 18<br>val: -0.25<br>",
           "true: 4<br>sae: 19<br>val: -0.076<br>",
           "true: 4<br>sae: 20<br>val: -0.16<br>",
           "true: 4<br>sae: 21<br>val: 0.047<br>"
          ],
          [
           "true: 5<br>sae: 0<br>val: 0.11<br>",
           "true: 5<br>sae: 1<br>val: -0.26<br>",
           "true: 5<br>sae: 2<br>val: 0.074<br>",
           "true: 5<br>sae: 3<br>val: -0.27<br>",
           "true: 5<br>sae: 4<br>val: 0.35<br>",
           "true: 5<br>sae: 5<br>val: 0.93<br>",
           "true: 5<br>sae: 6<br>val: -0.11<br>",
           "true: 5<br>sae: 7<br>val: -0.28<br>",
           "true: 5<br>sae: 8<br>val: -0.28<br>",
           "true: 5<br>sae: 9<br>val: -0.12<br>",
           "true: 5<br>sae: 10<br>val: 0.21<br>",
           "true: 5<br>sae: 11<br>val: -0.049<br>",
           "true: 5<br>sae: 12<br>val: -0.0044<br>",
           "true: 5<br>sae: 13<br>val: -0.12<br>",
           "true: 5<br>sae: 14<br>val: -0.014<br>",
           "true: 5<br>sae: 15<br>val: 0.19<br>",
           "true: 5<br>sae: 16<br>val: 0.28<br>",
           "true: 5<br>sae: 17<br>val: -0.091<br>",
           "true: 5<br>sae: 18<br>val: -0.19<br>",
           "true: 5<br>sae: 19<br>val: 0.0005<br>",
           "true: 5<br>sae: 20<br>val: 0.15<br>",
           "true: 5<br>sae: 21<br>val: -0.027<br>"
          ],
          [
           "true: 6<br>sae: 0<br>val: 0.21<br>",
           "true: 6<br>sae: 1<br>val: 0.086<br>",
           "true: 6<br>sae: 2<br>val: -0.16<br>",
           "true: 6<br>sae: 3<br>val: -0.054<br>",
           "true: 6<br>sae: 4<br>val: -0.26<br>",
           "true: 6<br>sae: 5<br>val: -0.12<br>",
           "true: 6<br>sae: 6<br>val: 0.62<br>",
           "true: 6<br>sae: 7<br>val: -0.14<br>",
           "true: 6<br>sae: 8<br>val: -0.21<br>",
           "true: 6<br>sae: 9<br>val: 0.077<br>",
           "true: 6<br>sae: 10<br>val: 0.058<br>",
           "true: 6<br>sae: 11<br>val: 0.047<br>",
           "true: 6<br>sae: 12<br>val: -0.15<br>",
           "true: 6<br>sae: 13<br>val: 0.17<br>",
           "true: 6<br>sae: 14<br>val: -0.026<br>",
           "true: 6<br>sae: 15<br>val: 0.26<br>",
           "true: 6<br>sae: 16<br>val: -0.22<br>",
           "true: 6<br>sae: 17<br>val: 0.74<br>",
           "true: 6<br>sae: 18<br>val: 0.14<br>",
           "true: 6<br>sae: 19<br>val: 0.2<br>",
           "true: 6<br>sae: 20<br>val: -0.1<br>",
           "true: 6<br>sae: 21<br>val: 0.038<br>"
          ],
          [
           "true: 7<br>sae: 0<br>val: 0.011<br>",
           "true: 7<br>sae: 1<br>val: -0.053<br>",
           "true: 7<br>sae: 2<br>val: -0.14<br>",
           "true: 7<br>sae: 3<br>val: 0.13<br>",
           "true: 7<br>sae: 4<br>val: -0.16<br>",
           "true: 7<br>sae: 5<br>val: -0.26<br>",
           "true: 7<br>sae: 6<br>val: 0.12<br>",
           "true: 7<br>sae: 7<br>val: 0.98<br>",
           "true: 7<br>sae: 8<br>val: -0.2<br>",
           "true: 7<br>sae: 9<br>val: -0.01<br>",
           "true: 7<br>sae: 10<br>val: 0.087<br>",
           "true: 7<br>sae: 11<br>val: -0.17<br>",
           "true: 7<br>sae: 12<br>val: 0.16<br>",
           "true: 7<br>sae: 13<br>val: -0.35<br>",
           "true: 7<br>sae: 14<br>val: -0.062<br>",
           "true: 7<br>sae: 15<br>val: -0.21<br>",
           "true: 7<br>sae: 16<br>val: -0.016<br>",
           "true: 7<br>sae: 17<br>val: -0.2<br>",
           "true: 7<br>sae: 18<br>val: 0.15<br>",
           "true: 7<br>sae: 19<br>val: -0.3<br>",
           "true: 7<br>sae: 20<br>val: -0.2<br>",
           "true: 7<br>sae: 21<br>val: -0.25<br>"
          ],
          [
           "true: 8<br>sae: 0<br>val: 0.0095<br>",
           "true: 8<br>sae: 1<br>val: 0.16<br>",
           "true: 8<br>sae: 2<br>val: 0.12<br>",
           "true: 8<br>sae: 3<br>val: 0.31<br>",
           "true: 8<br>sae: 4<br>val: 0.21<br>",
           "true: 8<br>sae: 5<br>val: -0.38<br>",
           "true: 8<br>sae: 6<br>val: -0.28<br>",
           "true: 8<br>sae: 7<br>val: -0.11<br>",
           "true: 8<br>sae: 8<br>val: 0.99<br>",
           "true: 8<br>sae: 9<br>val: 0.66<br>",
           "true: 8<br>sae: 10<br>val: -0.011<br>",
           "true: 8<br>sae: 11<br>val: -0.13<br>",
           "true: 8<br>sae: 12<br>val: 0.022<br>",
           "true: 8<br>sae: 13<br>val: 0.17<br>",
           "true: 8<br>sae: 14<br>val: -0.18<br>",
           "true: 8<br>sae: 15<br>val: -0.1<br>",
           "true: 8<br>sae: 16<br>val: 0.086<br>",
           "true: 8<br>sae: 17<br>val: 0.049<br>",
           "true: 8<br>sae: 18<br>val: -0.006<br>",
           "true: 8<br>sae: 19<br>val: -0.07<br>",
           "true: 8<br>sae: 20<br>val: 0.081<br>",
           "true: 8<br>sae: 21<br>val: 0.1<br>"
          ],
          [
           "true: 9<br>sae: 0<br>val: -0.079<br>",
           "true: 9<br>sae: 1<br>val: -0.16<br>",
           "true: 9<br>sae: 2<br>val: 0.1<br>",
           "true: 9<br>sae: 3<br>val: -0.0027<br>",
           "true: 9<br>sae: 4<br>val: -0.035<br>",
           "true: 9<br>sae: 5<br>val: 0.089<br>",
           "true: 9<br>sae: 6<br>val: 0.28<br>",
           "true: 9<br>sae: 7<br>val: 0.1<br>",
           "true: 9<br>sae: 8<br>val: -0.044<br>",
           "true: 9<br>sae: 9<br>val: 0.75<br>",
           "true: 9<br>sae: 10<br>val: -0.0094<br>",
           "true: 9<br>sae: 11<br>val: -0.27<br>",
           "true: 9<br>sae: 12<br>val: 0.33<br>",
           "true: 9<br>sae: 13<br>val: 0.13<br>",
           "true: 9<br>sae: 14<br>val: -0.11<br>",
           "true: 9<br>sae: 15<br>val: 0.22<br>",
           "true: 9<br>sae: 16<br>val: 0.16<br>",
           "true: 9<br>sae: 17<br>val: 0.11<br>",
           "true: 9<br>sae: 18<br>val: -0.046<br>",
           "true: 9<br>sae: 19<br>val: 0.36<br>",
           "true: 9<br>sae: 20<br>val: 0.063<br>",
           "true: 9<br>sae: 21<br>val: 0.021<br>"
          ],
          [
           "true: 10<br>sae: 0<br>val: 0.25<br>",
           "true: 10<br>sae: 1<br>val: 0.0058<br>",
           "true: 10<br>sae: 2<br>val: -0.33<br>",
           "true: 10<br>sae: 3<br>val: 0.11<br>",
           "true: 10<br>sae: 4<br>val: -0.11<br>",
           "true: 10<br>sae: 5<br>val: 0.22<br>",
           "true: 10<br>sae: 6<br>val: -0.096<br>",
           "true: 10<br>sae: 7<br>val: -0.035<br>",
           "true: 10<br>sae: 8<br>val: 0.19<br>",
           "true: 10<br>sae: 9<br>val: 0.054<br>",
           "true: 10<br>sae: 10<br>val: 0.96<br>",
           "true: 10<br>sae: 11<br>val: -0.18<br>",
           "true: 10<br>sae: 12<br>val: -0.19<br>",
           "true: 10<br>sae: 13<br>val: 0.16<br>",
           "true: 10<br>sae: 14<br>val: -0.095<br>",
           "true: 10<br>sae: 15<br>val: -0.13<br>",
           "true: 10<br>sae: 16<br>val: -0.0062<br>",
           "true: 10<br>sae: 17<br>val: 0.078<br>",
           "true: 10<br>sae: 18<br>val: -0.17<br>",
           "true: 10<br>sae: 19<br>val: -0.025<br>",
           "true: 10<br>sae: 20<br>val: 0.05<br>",
           "true: 10<br>sae: 21<br>val: -0.3<br>"
          ],
          [
           "true: 11<br>sae: 0<br>val: -0.16<br>",
           "true: 11<br>sae: 1<br>val: 0.1<br>",
           "true: 11<br>sae: 2<br>val: -0.2<br>",
           "true: 11<br>sae: 3<br>val: -0.037<br>",
           "true: 11<br>sae: 4<br>val: -0.083<br>",
           "true: 11<br>sae: 5<br>val: -0.038<br>",
           "true: 11<br>sae: 6<br>val: -0.028<br>",
           "true: 11<br>sae: 7<br>val: -0.22<br>",
           "true: 11<br>sae: 8<br>val: 0.16<br>",
           "true: 11<br>sae: 9<br>val: -0.17<br>",
           "true: 11<br>sae: 10<br>val: -0.3<br>",
           "true: 11<br>sae: 11<br>val: 0.98<br>",
           "true: 11<br>sae: 12<br>val: 0.026<br>",
           "true: 11<br>sae: 13<br>val: -0.098<br>",
           "true: 11<br>sae: 14<br>val: -0.15<br>",
           "true: 11<br>sae: 15<br>val: 0.19<br>",
           "true: 11<br>sae: 16<br>val: -0.067<br>",
           "true: 11<br>sae: 17<br>val: 0.044<br>",
           "true: 11<br>sae: 18<br>val: -0.036<br>",
           "true: 11<br>sae: 19<br>val: 0.077<br>",
           "true: 11<br>sae: 20<br>val: 0.23<br>",
           "true: 11<br>sae: 21<br>val: 0.26<br>"
          ],
          [
           "true: 12<br>sae: 0<br>val: -0.21<br>",
           "true: 12<br>sae: 1<br>val: -0.31<br>",
           "true: 12<br>sae: 2<br>val: 0.17<br>",
           "true: 12<br>sae: 3<br>val: -0.047<br>",
           "true: 12<br>sae: 4<br>val: 0.34<br>",
           "true: 12<br>sae: 5<br>val: -0.13<br>",
           "true: 12<br>sae: 6<br>val: -0.033<br>",
           "true: 12<br>sae: 7<br>val: 0.23<br>",
           "true: 12<br>sae: 8<br>val: 0.032<br>",
           "true: 12<br>sae: 9<br>val: 0.28<br>",
           "true: 12<br>sae: 10<br>val: -0.17<br>",
           "true: 12<br>sae: 11<br>val: 0.046<br>",
           "true: 12<br>sae: 12<br>val: 1<br>",
           "true: 12<br>sae: 13<br>val: 0.027<br>",
           "true: 12<br>sae: 14<br>val: -0.23<br>",
           "true: 12<br>sae: 15<br>val: 0.071<br>",
           "true: 12<br>sae: 16<br>val: 0.16<br>",
           "true: 12<br>sae: 17<br>val: -0.034<br>",
           "true: 12<br>sae: 18<br>val: -0.2<br>",
           "true: 12<br>sae: 19<br>val: 0.082<br>",
           "true: 12<br>sae: 20<br>val: -0.063<br>",
           "true: 12<br>sae: 21<br>val: -0.2<br>"
          ],
          [
           "true: 13<br>sae: 0<br>val: -0.25<br>",
           "true: 13<br>sae: 1<br>val: 0.056<br>",
           "true: 13<br>sae: 2<br>val: 0.011<br>",
           "true: 13<br>sae: 3<br>val: -0.085<br>",
           "true: 13<br>sae: 4<br>val: 0.17<br>",
           "true: 13<br>sae: 5<br>val: -0.2<br>",
           "true: 13<br>sae: 6<br>val: 0.15<br>",
           "true: 13<br>sae: 7<br>val: -0.31<br>",
           "true: 13<br>sae: 8<br>val: 0.18<br>",
           "true: 13<br>sae: 9<br>val: 0.22<br>",
           "true: 13<br>sae: 10<br>val: 0.15<br>",
           "true: 13<br>sae: 11<br>val: -0.15<br>",
           "true: 13<br>sae: 12<br>val: 0.019<br>",
           "true: 13<br>sae: 13<br>val: 1<br>",
           "true: 13<br>sae: 14<br>val: 0.16<br>",
           "true: 13<br>sae: 15<br>val: -0.013<br>",
           "true: 13<br>sae: 16<br>val: -0.13<br>",
           "true: 13<br>sae: 17<br>val: 0.17<br>",
           "true: 13<br>sae: 18<br>val: 0.15<br>",
           "true: 13<br>sae: 19<br>val: 0.28<br>",
           "true: 13<br>sae: 20<br>val: -0.069<br>",
           "true: 13<br>sae: 21<br>val: 0.0051<br>"
          ],
          [
           "true: 14<br>sae: 0<br>val: -0.027<br>",
           "true: 14<br>sae: 1<br>val: 0.35<br>",
           "true: 14<br>sae: 2<br>val: -0.027<br>",
           "true: 14<br>sae: 3<br>val: 0.11<br>",
           "true: 14<br>sae: 4<br>val: 0.016<br>",
           "true: 14<br>sae: 5<br>val: -0.019<br>",
           "true: 14<br>sae: 6<br>val: -0.053<br>",
           "true: 14<br>sae: 7<br>val: -0.062<br>",
           "true: 14<br>sae: 8<br>val: -0.19<br>",
           "true: 14<br>sae: 9<br>val: -0.19<br>",
           "true: 14<br>sae: 10<br>val: -0.025<br>",
           "true: 14<br>sae: 11<br>val: -0.1<br>",
           "true: 14<br>sae: 12<br>val: -0.23<br>",
           "true: 14<br>sae: 13<br>val: 0.17<br>",
           "true: 14<br>sae: 14<br>val: 1<br>",
           "true: 14<br>sae: 15<br>val: -0.23<br>",
           "true: 14<br>sae: 16<br>val: -0.29<br>",
           "true: 14<br>sae: 17<br>val: 0.028<br>",
           "true: 14<br>sae: 18<br>val: 0.12<br>",
           "true: 14<br>sae: 19<br>val: -0.063<br>",
           "true: 14<br>sae: 20<br>val: -0.032<br>",
           "true: 14<br>sae: 21<br>val: 0.044<br>"
          ],
          [
           "true: 15<br>sae: 0<br>val: 0.23<br>",
           "true: 15<br>sae: 1<br>val: -0.028<br>",
           "true: 15<br>sae: 2<br>val: 0.059<br>",
           "true: 15<br>sae: 3<br>val: -0.37<br>",
           "true: 15<br>sae: 4<br>val: -0.0071<br>",
           "true: 15<br>sae: 5<br>val: 0.17<br>",
           "true: 15<br>sae: 6<br>val: 0.22<br>",
           "true: 15<br>sae: 7<br>val: -0.25<br>",
           "true: 15<br>sae: 8<br>val: -0.066<br>",
           "true: 15<br>sae: 9<br>val: 0.11<br>",
           "true: 15<br>sae: 10<br>val: -0.18<br>",
           "true: 15<br>sae: 11<br>val: 0.18<br>",
           "true: 15<br>sae: 12<br>val: 0.057<br>",
           "true: 15<br>sae: 13<br>val: -0.013<br>",
           "true: 15<br>sae: 14<br>val: -0.23<br>",
           "true: 15<br>sae: 15<br>val: 1<br>",
           "true: 15<br>sae: 16<br>val: -0.00051<br>",
           "true: 15<br>sae: 17<br>val: 0.12<br>",
           "true: 15<br>sae: 18<br>val: 0.085<br>",
           "true: 15<br>sae: 19<br>val: 0.13<br>",
           "true: 15<br>sae: 20<br>val: 0.14<br>",
           "true: 15<br>sae: 21<br>val: 0.13<br>"
          ],
          [
           "true: 16<br>sae: 0<br>val: 0.067<br>",
           "true: 16<br>sae: 1<br>val: -0.04<br>",
           "true: 16<br>sae: 2<br>val: 0.26<br>",
           "true: 16<br>sae: 3<br>val: -0.011<br>",
           "true: 16<br>sae: 4<br>val: 0.25<br>",
           "true: 16<br>sae: 5<br>val: 0.19<br>",
           "true: 16<br>sae: 6<br>val: -0.088<br>",
           "true: 16<br>sae: 7<br>val: 0.00072<br>",
           "true: 16<br>sae: 8<br>val: 0.1<br>",
           "true: 16<br>sae: 9<br>val: 0.21<br>",
           "true: 16<br>sae: 10<br>val: -0.03<br>",
           "true: 16<br>sae: 11<br>val: -0.1<br>",
           "true: 16<br>sae: 12<br>val: 0.16<br>",
           "true: 16<br>sae: 13<br>val: -0.12<br>",
           "true: 16<br>sae: 14<br>val: -0.3<br>",
           "true: 16<br>sae: 15<br>val: 0.013<br>",
           "true: 16<br>sae: 16<br>val: 1<br>",
           "true: 16<br>sae: 17<br>val: -0.17<br>",
           "true: 16<br>sae: 18<br>val: -0.23<br>",
           "true: 16<br>sae: 19<br>val: -0.0093<br>",
           "true: 16<br>sae: 20<br>val: -0.084<br>",
           "true: 16<br>sae: 21<br>val: 0.14<br>"
          ],
          [
           "true: 17<br>sae: 0<br>val: 0.47<br>",
           "true: 17<br>sae: 1<br>val: -0.015<br>",
           "true: 17<br>sae: 2<br>val: 0.14<br>",
           "true: 17<br>sae: 3<br>val: 0.11<br>",
           "true: 17<br>sae: 4<br>val: 0.0053<br>",
           "true: 17<br>sae: 5<br>val: -0.014<br>",
           "true: 17<br>sae: 6<br>val: -0.49<br>",
           "true: 17<br>sae: 7<br>val: -0.18<br>",
           "true: 17<br>sae: 8<br>val: 0.13<br>",
           "true: 17<br>sae: 9<br>val: 0.015<br>",
           "true: 17<br>sae: 10<br>val: 0.072<br>",
           "true: 17<br>sae: 11<br>val: 0.015<br>",
           "true: 17<br>sae: 12<br>val: -0.023<br>",
           "true: 17<br>sae: 13<br>val: 0.019<br>",
           "true: 17<br>sae: 14<br>val: 0.045<br>",
           "true: 17<br>sae: 15<br>val: -0.086<br>",
           "true: 17<br>sae: 16<br>val: -0.16<br>",
           "true: 17<br>sae: 17<br>val: 0.85<br>",
           "true: 17<br>sae: 18<br>val: 0.11<br>",
           "true: 17<br>sae: 19<br>val: -0.0066<br>",
           "true: 17<br>sae: 20<br>val: 0.016<br>",
           "true: 17<br>sae: 21<br>val: -0.16<br>"
          ],
          [
           "true: 18<br>sae: 0<br>val: -0.096<br>",
           "true: 18<br>sae: 1<br>val: 0.2<br>",
           "true: 18<br>sae: 2<br>val: 0.066<br>",
           "true: 18<br>sae: 3<br>val: -0.31<br>",
           "true: 18<br>sae: 4<br>val: -0.27<br>",
           "true: 18<br>sae: 5<br>val: -0.11<br>",
           "true: 18<br>sae: 6<br>val: -0.043<br>",
           "true: 18<br>sae: 7<br>val: 0.084<br>",
           "true: 18<br>sae: 8<br>val: 0.0099<br>",
           "true: 18<br>sae: 9<br>val: -0.015<br>",
           "true: 18<br>sae: 10<br>val: -0.18<br>",
           "true: 18<br>sae: 11<br>val: -0.045<br>",
           "true: 18<br>sae: 12<br>val: -0.21<br>",
           "true: 18<br>sae: 13<br>val: 0.16<br>",
           "true: 18<br>sae: 14<br>val: 0.11<br>",
           "true: 18<br>sae: 15<br>val: 0.1<br>",
           "true: 18<br>sae: 16<br>val: -0.22<br>",
           "true: 18<br>sae: 17<br>val: 0.14<br>",
           "true: 18<br>sae: 18<br>val: 1<br>",
           "true: 18<br>sae: 19<br>val: -0.013<br>",
           "true: 18<br>sae: 20<br>val: -0.04<br>",
           "true: 18<br>sae: 21<br>val: 0.17<br>"
          ],
          [
           "true: 19<br>sae: 0<br>val: -0.17<br>",
           "true: 19<br>sae: 1<br>val: -0.04<br>",
           "true: 19<br>sae: 2<br>val: 0.0079<br>",
           "true: 19<br>sae: 3<br>val: -0.0061<br>",
           "true: 19<br>sae: 4<br>val: -0.064<br>",
           "true: 19<br>sae: 5<br>val: 0.013<br>",
           "true: 19<br>sae: 6<br>val: 0.11<br>",
           "true: 19<br>sae: 7<br>val: -0.34<br>",
           "true: 19<br>sae: 8<br>val: -0.042<br>",
           "true: 19<br>sae: 9<br>val: 0.24<br>",
           "true: 19<br>sae: 10<br>val: -0.049<br>",
           "true: 19<br>sae: 11<br>val: 0.049<br>",
           "true: 19<br>sae: 12<br>val: 0.073<br>",
           "true: 19<br>sae: 13<br>val: 0.29<br>",
           "true: 19<br>sae: 14<br>val: -0.067<br>",
           "true: 19<br>sae: 15<br>val: 0.13<br>",
           "true: 19<br>sae: 16<br>val: -0.017<br>",
           "true: 19<br>sae: 17<br>val: 0.13<br>",
           "true: 19<br>sae: 18<br>val: -0.027<br>",
           "true: 19<br>sae: 19<br>val: 1<br>",
           "true: 19<br>sae: 20<br>val: 0.079<br>",
           "true: 19<br>sae: 21<br>val: 0.23<br>"
          ],
          [
           "true: 20<br>sae: 0<br>val: 0.014<br>",
           "true: 20<br>sae: 1<br>val: -0.046<br>",
           "true: 20<br>sae: 2<br>val: 0.0062<br>",
           "true: 20<br>sae: 3<br>val: -0.045<br>",
           "true: 20<br>sae: 4<br>val: -0.16<br>",
           "true: 20<br>sae: 5<br>val: 0.22<br>",
           "true: 20<br>sae: 6<br>val: -0.2<br>",
           "true: 20<br>sae: 7<br>val: -0.26<br>",
           "true: 20<br>sae: 8<br>val: 0.14<br>",
           "true: 20<br>sae: 9<br>val: 0.13<br>",
           "true: 20<br>sae: 10<br>val: -0.024<br>",
           "true: 20<br>sae: 11<br>val: 0.19<br>",
           "true: 20<br>sae: 12<br>val: -0.068<br>",
           "true: 20<br>sae: 13<br>val: -0.062<br>",
           "true: 20<br>sae: 14<br>val: -0.038<br>",
           "true: 20<br>sae: 15<br>val: 0.15<br>",
           "true: 20<br>sae: 16<br>val: -0.077<br>",
           "true: 20<br>sae: 17<br>val: -0.05<br>",
           "true: 20<br>sae: 18<br>val: -0.041<br>",
           "true: 20<br>sae: 19<br>val: 0.089<br>",
           "true: 20<br>sae: 20<br>val: 1<br>",
           "true: 20<br>sae: 21<br>val: -0.27<br>"
          ],
          [
           "true: 21<br>sae: 0<br>val: -0.15<br>",
           "true: 21<br>sae: 1<br>val: 0.1<br>",
           "true: 21<br>sae: 2<br>val: 0.21<br>",
           "true: 21<br>sae: 3<br>val: 0.021<br>",
           "true: 21<br>sae: 4<br>val: 0.056<br>",
           "true: 21<br>sae: 5<br>val: -0.062<br>",
           "true: 21<br>sae: 6<br>val: 0.11<br>",
           "true: 21<br>sae: 7<br>val: -0.25<br>",
           "true: 21<br>sae: 8<br>val: 0.14<br>",
           "true: 21<br>sae: 9<br>val: 0.1<br>",
           "true: 21<br>sae: 10<br>val: -0.39<br>",
           "true: 21<br>sae: 11<br>val: 0.24<br>",
           "true: 21<br>sae: 12<br>val: -0.21<br>",
           "true: 21<br>sae: 13<br>val: 0.013<br>",
           "true: 21<br>sae: 14<br>val: 0.035<br>",
           "true: 21<br>sae: 15<br>val: 0.12<br>",
           "true: 21<br>sae: 16<br>val: 0.14<br>",
           "true: 21<br>sae: 17<br>val: -0.041<br>",
           "true: 21<br>sae: 18<br>val: 0.15<br>",
           "true: 21<br>sae: 19<br>val: 0.23<br>",
           "true: 21<br>sae: 20<br>val: -0.28<br>",
           "true: 21<br>sae: 21<br>val: 1<br>"
          ]
         ],
         "type": "heatmap",
         "z": [
          [
           0.9961555,
           -0.013881242,
           0.07920886,
           -0.047598142,
           -0.2208165,
           0.21688849,
           -0.2861824,
           -0.060546122,
           -0.03776616,
           -0.07482123,
           0.25760338,
           -0.18242182,
           -0.20948748,
           -0.2555015,
           -0.062308617,
           0.23678079,
           0.050948635,
           0.40392056,
           -0.101928845,
           -0.18929893,
           -0.0032143202,
           -0.17088643
          ],
          [
           0.030625498,
           0.9962589,
           -0.12140717,
           0.14565535,
           -0.25420785,
           -0.20697683,
           -0.00013680477,
           -0.09701738,
           0.20367628,
           0.016641127,
           -0.05986271,
           0.051879432,
           -0.31712663,
           0.051757075,
           0.34899986,
           -0.056568865,
           -0.037878614,
           0.031652573,
           0.17231427,
           -0.03495376,
           -0.056905042,
           0.11949249
          ],
          [
           -0.120200925,
           -0.092431426,
           0.97648203,
           0.01627694,
           0.35627133,
           -0.10034035,
           -0.1769702,
           -0.06675877,
           0.113692485,
           0.19246478,
           -0.35466695,
           -0.15415905,
           0.18404262,
           0.05753956,
           -0.008232149,
           -0.015575715,
           0.23710656,
           0.00024665846,
           0.057164192,
           0.043611586,
           -0.010457716,
           0.25025275
          ],
          [
           0.05867792,
           0.12501402,
           -0.03962439,
           0.99665,
           -0.07770096,
           -0.25622487,
           -0.14665988,
           0.11369391,
           0.3281001,
           0.22041732,
           0.05999034,
           -0.08123626,
           -0.07608298,
           -0.08186038,
           0.12073773,
           -0.35719538,
           0.0060004666,
           0.067352094,
           -0.29452258,
           0.001363419,
           -0.049324453,
           0.054521777
          ],
          [
           -0.2435378,
           -0.23195216,
           0.32405418,
           -0.034816697,
           0.99624014,
           -0.062085204,
           -0.030309135,
           0.06145259,
           0.22623496,
           0.118284285,
           -0.11767175,
           -0.08665512,
           0.3371929,
           0.16732188,
           0.021320514,
           -0.037779476,
           0.22344244,
           0.009101385,
           -0.24844559,
           -0.07621278,
           -0.15666115,
           0.046829678
          ],
          [
           0.10943132,
           -0.25886357,
           0.0744285,
           -0.26720217,
           0.35135144,
           0.93359476,
           -0.10626539,
           -0.27736863,
           -0.28434107,
           -0.1157344,
           0.21420613,
           -0.048929386,
           -0.0043796552,
           -0.12184716,
           -0.013623678,
           0.18814397,
           0.27670136,
           -0.090665795,
           -0.19082387,
           0.0005034879,
           0.14804998,
           -0.026964677
          ],
          [
           0.20703219,
           0.08633592,
           -0.16192195,
           -0.054227144,
           -0.25780278,
           -0.11529481,
           0.6172124,
           -0.14462708,
           -0.20864737,
           0.07681983,
           0.05761206,
           0.046896607,
           -0.15068433,
           0.16530624,
           -0.026240304,
           0.25656444,
           -0.22117074,
           0.7405598,
           0.14459926,
           0.19980723,
           -0.102739416,
           0.03753603
          ],
          [
           0.010882141,
           -0.052807808,
           -0.1445644,
           0.1341856,
           -0.1564687,
           -0.260547,
           0.1176707,
           0.9766967,
           -0.1980114,
           -0.0102743115,
           0.087066896,
           -0.16516286,
           0.16104977,
           -0.34695232,
           -0.062040746,
           -0.2091186,
           -0.015506249,
           -0.20476292,
           0.14996599,
           -0.3043616,
           -0.20296085,
           -0.24756375
          ],
          [
           0.009528578,
           0.16029242,
           0.123085216,
           0.30647963,
           0.20793739,
           -0.3754313,
           -0.2800718,
           -0.10692671,
           0.9906334,
           0.6603419,
           -0.011149229,
           -0.12658337,
           0.022120943,
           0.170594,
           -0.18461367,
           -0.103015855,
           0.086386636,
           0.049291447,
           -0.0060004015,
           -0.069799736,
           0.081389345,
           0.10391885
          ],
          [
           -0.07929135,
           -0.16147543,
           0.102006026,
           -0.0027092975,
           -0.034557577,
           0.08892065,
           0.2787708,
           0.10469518,
           -0.04428604,
           0.74754107,
           -0.009398594,
           -0.26980796,
           0.33251238,
           0.1259219,
           -0.10506973,
           0.21721645,
           0.16296367,
           0.11256339,
           -0.046092346,
           0.3564413,
           0.06265508,
           0.021455256
          ],
          [
           0.25160682,
           0.005776055,
           -0.3334502,
           0.11299593,
           -0.11257294,
           0.21976273,
           -0.09560978,
           -0.035015248,
           0.19338423,
           0.05367724,
           0.9572158,
           -0.18439883,
           -0.18541186,
           0.15530097,
           -0.09456944,
           -0.12990671,
           -0.006181814,
           0.078450814,
           -0.17400815,
           -0.024707258,
           0.05041506,
           -0.2963078
          ],
          [
           -0.16157275,
           0.10047474,
           -0.19504817,
           -0.03668583,
           -0.08273129,
           -0.03755476,
           -0.028341353,
           -0.21570882,
           0.1598418,
           -0.16896334,
           -0.29687715,
           0.97853315,
           0.025999816,
           -0.09839388,
           -0.14523424,
           0.19429757,
           -0.06654712,
           0.043862827,
           -0.036170386,
           0.07745444,
           0.22516413,
           0.26425877
          ],
          [
           -0.21257079,
           -0.30541918,
           0.16522093,
           -0.047062766,
           0.33765757,
           -0.13065217,
           -0.033073116,
           0.2313775,
           0.031877,
           0.28434142,
           -0.16757573,
           0.045793846,
           0.9994904,
           0.026790034,
           -0.2311068,
           0.07068044,
           0.15983613,
           -0.034245845,
           -0.20227785,
           0.081518054,
           -0.063445225,
           -0.20109026
          ],
          [
           -0.24980035,
           0.056444407,
           0.0112738535,
           -0.084509134,
           0.16768143,
           -0.20318283,
           0.15166764,
           -0.31475732,
           0.17519954,
           0.21546727,
           0.14871094,
           -0.14971322,
           0.018656649,
           0.9996957,
           0.1611334,
           -0.0129497275,
           -0.12601253,
           0.1667047,
           0.14639294,
           0.2826833,
           -0.06856826,
           0.0050522676
          ],
          [
           -0.026607625,
           0.3506651,
           -0.026803281,
           0.11388241,
           0.016065655,
           -0.018590417,
           -0.053215746,
           -0.06207756,
           -0.19100416,
           -0.19386414,
           -0.025427926,
           -0.1032492,
           -0.23093559,
           0.16823179,
           0.99968225,
           -0.22546497,
           -0.2875867,
           0.027523184,
           0.12339885,
           -0.062962644,
           -0.031565838,
           0.04395191
          ],
          [
           0.22981685,
           -0.027512733,
           0.058876224,
           -0.37196112,
           -0.0071282275,
           0.17046645,
           0.21851587,
           -0.2518136,
           -0.06645024,
           0.10971859,
           -0.17776844,
           0.18382424,
           0.0568473,
           -0.013005622,
           -0.22932453,
           0.99896216,
           -0.00050539896,
           0.11880943,
           0.08478047,
           0.13310236,
           0.13639593,
           0.12603591
          ],
          [
           0.06662716,
           -0.039995164,
           0.25600362,
           -0.011249185,
           0.2515372,
           0.19291607,
           -0.08799407,
           0.0007178448,
           0.10132678,
           0.20777652,
           -0.029728228,
           -0.10105027,
           0.15789475,
           -0.115178645,
           -0.29722407,
           0.013280354,
           0.99874157,
           -0.17362013,
           -0.2341267,
           -0.0093336515,
           -0.08417965,
           0.14386903
          ],
          [
           0.4698429,
           -0.015344522,
           0.1420777,
           0.11183382,
           0.005299897,
           -0.013797225,
           -0.49095738,
           -0.18246971,
           0.12545958,
           0.014911015,
           0.07217472,
           0.015197368,
           -0.023326153,
           0.019416656,
           0.04526515,
           -0.08631822,
           -0.16242127,
           0.85466176,
           0.10601564,
           -0.006603565,
           0.015650857,
           -0.15976413
          ],
          [
           -0.09639537,
           0.20229383,
           0.0660444,
           -0.30603397,
           -0.2652577,
           -0.10864065,
           -0.042608924,
           0.083707176,
           0.009877783,
           -0.015341386,
           -0.1804808,
           -0.044997513,
           -0.21013844,
           0.15660614,
           0.112670906,
           0.10089872,
           -0.22472782,
           0.13913189,
           0.99848825,
           -0.012814745,
           -0.04023791,
           0.1684577
          ],
          [
           -0.17363852,
           -0.040487487,
           0.00791559,
           -0.0061260313,
           -0.06350905,
           0.012672372,
           0.10862537,
           -0.3409715,
           -0.04209152,
           0.23621216,
           -0.049042977,
           0.049103256,
           0.072867185,
           0.29193988,
           -0.06655434,
           0.13076581,
           -0.016877346,
           0.1285296,
           -0.027128706,
           0.99935853,
           0.07908726,
           0.22770481
          ],
          [
           0.013699251,
           -0.04622624,
           0.0062215785,
           -0.044687036,
           -0.159164,
           0.22399712,
           -0.1990066,
           -0.2560162,
           0.14092068,
           0.12936828,
           -0.023984522,
           0.1898002,
           -0.06832172,
           -0.062403902,
           -0.03803752,
           0.14831547,
           -0.07736825,
           -0.04974559,
           -0.040887002,
           0.08876246,
           0.99847996,
           -0.26872054
          ],
          [
           -0.1453298,
           0.10377397,
           0.21000215,
           0.021036167,
           0.056060035,
           -0.06216497,
           0.113583416,
           -0.2549522,
           0.13756607,
           0.10156561,
           -0.3851578,
           0.23789594,
           -0.2082255,
           0.012770584,
           0.03483811,
           0.12278396,
           0.13632074,
           -0.040671773,
           0.1511671,
           0.23063509,
           -0.2790494,
           0.9993865
          ]
         ]
        }
       ],
       "layout": {
        "template": {
         "data": {
          "bar": [
           {
            "error_x": {
             "color": "#2a3f5f"
            },
            "error_y": {
             "color": "#2a3f5f"
            },
            "marker": {
             "line": {
              "color": "#E5ECF6",
              "width": 0.5
             },
             "pattern": {
              "fillmode": "overlay",
              "size": 10,
              "solidity": 0.2
             }
            },
            "type": "bar"
           }
          ],
          "barpolar": [
           {
            "marker": {
             "line": {
              "color": "#E5ECF6",
              "width": 0.5
             },
             "pattern": {
              "fillmode": "overlay",
              "size": 10,
              "solidity": 0.2
             }
            },
            "type": "barpolar"
           }
          ],
          "carpet": [
           {
            "aaxis": {
             "endlinecolor": "#2a3f5f",
             "gridcolor": "white",
             "linecolor": "white",
             "minorgridcolor": "white",
             "startlinecolor": "#2a3f5f"
            },
            "baxis": {
             "endlinecolor": "#2a3f5f",
             "gridcolor": "white",
             "linecolor": "white",
             "minorgridcolor": "white",
             "startlinecolor": "#2a3f5f"
            },
            "type": "carpet"
           }
          ],
          "choropleth": [
           {
            "colorbar": {
             "outlinewidth": 0,
             "ticks": ""
            },
            "type": "choropleth"
           }
          ],
          "contour": [
           {
            "colorbar": {
             "outlinewidth": 0,
             "ticks": ""
            },
            "colorscale": [
             [
              0,
              "#0d0887"
             ],
             [
              0.1111111111111111,
              "#46039f"
             ],
             [
              0.2222222222222222,
              "#7201a8"
             ],
             [
              0.3333333333333333,
              "#9c179e"
             ],
             [
              0.4444444444444444,
              "#bd3786"
             ],
             [
              0.5555555555555556,
              "#d8576b"
             ],
             [
              0.6666666666666666,
              "#ed7953"
             ],
             [
              0.7777777777777778,
              "#fb9f3a"
             ],
             [
              0.8888888888888888,
              "#fdca26"
             ],
             [
              1,
              "#f0f921"
             ]
            ],
            "type": "contour"
           }
          ],
          "contourcarpet": [
           {
            "colorbar": {
             "outlinewidth": 0,
             "ticks": ""
            },
            "type": "contourcarpet"
           }
          ],
          "heatmap": [
           {
            "colorbar": {
             "outlinewidth": 0,
             "ticks": ""
            },
            "colorscale": [
             [
              0,
              "#0d0887"
             ],
             [
              0.1111111111111111,
              "#46039f"
             ],
             [
              0.2222222222222222,
              "#7201a8"
             ],
             [
              0.3333333333333333,
              "#9c179e"
             ],
             [
              0.4444444444444444,
              "#bd3786"
             ],
             [
              0.5555555555555556,
              "#d8576b"
             ],
             [
              0.6666666666666666,
              "#ed7953"
             ],
             [
              0.7777777777777778,
              "#fb9f3a"
             ],
             [
              0.8888888888888888,
              "#fdca26"
             ],
             [
              1,
              "#f0f921"
             ]
            ],
            "type": "heatmap"
           }
          ],
          "heatmapgl": [
           {
            "colorbar": {
             "outlinewidth": 0,
             "ticks": ""
            },
            "colorscale": [
             [
              0,
              "#0d0887"
             ],
             [
              0.1111111111111111,
              "#46039f"
             ],
             [
              0.2222222222222222,
              "#7201a8"
             ],
             [
              0.3333333333333333,
              "#9c179e"
             ],
             [
              0.4444444444444444,
              "#bd3786"
             ],
             [
              0.5555555555555556,
              "#d8576b"
             ],
             [
              0.6666666666666666,
              "#ed7953"
             ],
             [
              0.7777777777777778,
              "#fb9f3a"
             ],
             [
              0.8888888888888888,
              "#fdca26"
             ],
             [
              1,
              "#f0f921"
             ]
            ],
            "type": "heatmapgl"
           }
          ],
          "histogram": [
           {
            "marker": {
             "pattern": {
              "fillmode": "overlay",
              "size": 10,
              "solidity": 0.2
             }
            },
            "type": "histogram"
           }
          ],
          "histogram2d": [
           {
            "colorbar": {
             "outlinewidth": 0,
             "ticks": ""
            },
            "colorscale": [
             [
              0,
              "#0d0887"
             ],
             [
              0.1111111111111111,
              "#46039f"
             ],
             [
              0.2222222222222222,
              "#7201a8"
             ],
             [
              0.3333333333333333,
              "#9c179e"
             ],
             [
              0.4444444444444444,
              "#bd3786"
             ],
             [
              0.5555555555555556,
              "#d8576b"
             ],
             [
              0.6666666666666666,
              "#ed7953"
             ],
             [
              0.7777777777777778,
              "#fb9f3a"
             ],
             [
              0.8888888888888888,
              "#fdca26"
             ],
             [
              1,
              "#f0f921"
             ]
            ],
            "type": "histogram2d"
           }
          ],
          "histogram2dcontour": [
           {
            "colorbar": {
             "outlinewidth": 0,
             "ticks": ""
            },
            "colorscale": [
             [
              0,
              "#0d0887"
             ],
             [
              0.1111111111111111,
              "#46039f"
             ],
             [
              0.2222222222222222,
              "#7201a8"
             ],
             [
              0.3333333333333333,
              "#9c179e"
             ],
             [
              0.4444444444444444,
              "#bd3786"
             ],
             [
              0.5555555555555556,
              "#d8576b"
             ],
             [
              0.6666666666666666,
              "#ed7953"
             ],
             [
              0.7777777777777778,
              "#fb9f3a"
             ],
             [
              0.8888888888888888,
              "#fdca26"
             ],
             [
              1,
              "#f0f921"
             ]
            ],
            "type": "histogram2dcontour"
           }
          ],
          "mesh3d": [
           {
            "colorbar": {
             "outlinewidth": 0,
             "ticks": ""
            },
            "type": "mesh3d"
           }
          ],
          "parcoords": [
           {
            "line": {
             "colorbar": {
              "outlinewidth": 0,
              "ticks": ""
             }
            },
            "type": "parcoords"
           }
          ],
          "pie": [
           {
            "automargin": true,
            "type": "pie"
           }
          ],
          "scatter": [
           {
            "fillpattern": {
             "fillmode": "overlay",
             "size": 10,
             "solidity": 0.2
            },
            "type": "scatter"
           }
          ],
          "scatter3d": [
           {
            "line": {
             "colorbar": {
              "outlinewidth": 0,
              "ticks": ""
             }
            },
            "marker": {
             "colorbar": {
              "outlinewidth": 0,
              "ticks": ""
             }
            },
            "type": "scatter3d"
           }
          ],
          "scattercarpet": [
           {
            "marker": {
             "colorbar": {
              "outlinewidth": 0,
              "ticks": ""
             }
            },
            "type": "scattercarpet"
           }
          ],
          "scattergeo": [
           {
            "marker": {
             "colorbar": {
              "outlinewidth": 0,
              "ticks": ""
             }
            },
            "type": "scattergeo"
           }
          ],
          "scattergl": [
           {
            "marker": {
             "colorbar": {
              "outlinewidth": 0,
              "ticks": ""
             }
            },
            "type": "scattergl"
           }
          ],
          "scattermapbox": [
           {
            "marker": {
             "colorbar": {
              "outlinewidth": 0,
              "ticks": ""
             }
            },
            "type": "scattermapbox"
           }
          ],
          "scatterpolar": [
           {
            "marker": {
             "colorbar": {
              "outlinewidth": 0,
              "ticks": ""
             }
            },
            "type": "scatterpolar"
           }
          ],
          "scatterpolargl": [
           {
            "marker": {
             "colorbar": {
              "outlinewidth": 0,
              "ticks": ""
             }
            },
            "type": "scatterpolargl"
           }
          ],
          "scatterternary": [
           {
            "marker": {
             "colorbar": {
              "outlinewidth": 0,
              "ticks": ""
             }
            },
            "type": "scatterternary"
           }
          ],
          "surface": [
           {
            "colorbar": {
             "outlinewidth": 0,
             "ticks": ""
            },
            "colorscale": [
             [
              0,
              "#0d0887"
             ],
             [
              0.1111111111111111,
              "#46039f"
             ],
             [
              0.2222222222222222,
              "#7201a8"
             ],
             [
              0.3333333333333333,
              "#9c179e"
             ],
             [
              0.4444444444444444,
              "#bd3786"
             ],
             [
              0.5555555555555556,
              "#d8576b"
             ],
             [
              0.6666666666666666,
              "#ed7953"
             ],
             [
              0.7777777777777778,
              "#fb9f3a"
             ],
             [
              0.8888888888888888,
              "#fdca26"
             ],
             [
              1,
              "#f0f921"
             ]
            ],
            "type": "surface"
           }
          ],
          "table": [
           {
            "cells": {
             "fill": {
              "color": "#EBF0F8"
             },
             "line": {
              "color": "white"
             }
            },
            "header": {
             "fill": {
              "color": "#C8D4E3"
             },
             "line": {
              "color": "white"
             }
            },
            "type": "table"
           }
          ]
         },
         "layout": {
          "annotationdefaults": {
           "arrowcolor": "#2a3f5f",
           "arrowhead": 0,
           "arrowwidth": 1
          },
          "autotypenumbers": "strict",
          "coloraxis": {
           "colorbar": {
            "outlinewidth": 0,
            "ticks": ""
           }
          },
          "colorscale": {
           "diverging": [
            [
             0,
             "#8e0152"
            ],
            [
             0.1,
             "#c51b7d"
            ],
            [
             0.2,
             "#de77ae"
            ],
            [
             0.3,
             "#f1b6da"
            ],
            [
             0.4,
             "#fde0ef"
            ],
            [
             0.5,
             "#f7f7f7"
            ],
            [
             0.6,
             "#e6f5d0"
            ],
            [
             0.7,
             "#b8e186"
            ],
            [
             0.8,
             "#7fbc41"
            ],
            [
             0.9,
             "#4d9221"
            ],
            [
             1,
             "#276419"
            ]
           ],
           "sequential": [
            [
             0,
             "#0d0887"
            ],
            [
             0.1111111111111111,
             "#46039f"
            ],
            [
             0.2222222222222222,
             "#7201a8"
            ],
            [
             0.3333333333333333,
             "#9c179e"
            ],
            [
             0.4444444444444444,
             "#bd3786"
            ],
            [
             0.5555555555555556,
             "#d8576b"
            ],
            [
             0.6666666666666666,
             "#ed7953"
            ],
            [
             0.7777777777777778,
             "#fb9f3a"
            ],
            [
             0.8888888888888888,
             "#fdca26"
            ],
            [
             1,
             "#f0f921"
            ]
           ],
           "sequentialminus": [
            [
             0,
             "#0d0887"
            ],
            [
             0.1111111111111111,
             "#46039f"
            ],
            [
             0.2222222222222222,
             "#7201a8"
            ],
            [
             0.3333333333333333,
             "#9c179e"
            ],
            [
             0.4444444444444444,
             "#bd3786"
            ],
            [
             0.5555555555555556,
             "#d8576b"
            ],
            [
             0.6666666666666666,
             "#ed7953"
            ],
            [
             0.7777777777777778,
             "#fb9f3a"
            ],
            [
             0.8888888888888888,
             "#fdca26"
            ],
            [
             1,
             "#f0f921"
            ]
           ]
          },
          "colorway": [
           "#636efa",
           "#EF553B",
           "#00cc96",
           "#ab63fa",
           "#FFA15A",
           "#19d3f3",
           "#FF6692",
           "#B6E880",
           "#FF97FF",
           "#FECB52"
          ],
          "font": {
           "color": "#2a3f5f"
          },
          "geo": {
           "bgcolor": "white",
           "lakecolor": "white",
           "landcolor": "#E5ECF6",
           "showlakes": true,
           "showland": true,
           "subunitcolor": "white"
          },
          "hoverlabel": {
           "align": "left"
          },
          "hovermode": "closest",
          "mapbox": {
           "style": "light"
          },
          "paper_bgcolor": "white",
          "plot_bgcolor": "#E5ECF6",
          "polar": {
           "angularaxis": {
            "gridcolor": "white",
            "linecolor": "white",
            "ticks": ""
           },
           "bgcolor": "#E5ECF6",
           "radialaxis": {
            "gridcolor": "white",
            "linecolor": "white",
            "ticks": ""
           }
          },
          "scene": {
           "xaxis": {
            "backgroundcolor": "#E5ECF6",
            "gridcolor": "white",
            "gridwidth": 2,
            "linecolor": "white",
            "showbackground": true,
            "ticks": "",
            "zerolinecolor": "white"
           },
           "yaxis": {
            "backgroundcolor": "#E5ECF6",
            "gridcolor": "white",
            "gridwidth": 2,
            "linecolor": "white",
            "showbackground": true,
            "ticks": "",
            "zerolinecolor": "white"
           },
           "zaxis": {
            "backgroundcolor": "#E5ECF6",
            "gridcolor": "white",
            "gridwidth": 2,
            "linecolor": "white",
            "showbackground": true,
            "ticks": "",
            "zerolinecolor": "white"
           }
          },
          "shapedefaults": {
           "line": {
            "color": "#2a3f5f"
           }
          },
          "ternary": {
           "aaxis": {
            "gridcolor": "white",
            "linecolor": "white",
            "ticks": ""
           },
           "baxis": {
            "gridcolor": "white",
            "linecolor": "white",
            "ticks": ""
           },
           "bgcolor": "#E5ECF6",
           "caxis": {
            "gridcolor": "white",
            "linecolor": "white",
            "ticks": ""
           }
          },
          "title": {
           "x": 0.05
          },
          "xaxis": {
           "automargin": true,
           "gridcolor": "white",
           "linecolor": "white",
           "ticks": "",
           "title": {
            "standoff": 15
           },
           "zerolinecolor": "white",
           "zerolinewidth": 2
          },
          "yaxis": {
           "automargin": true,
           "gridcolor": "white",
           "linecolor": "white",
           "ticks": "",
           "title": {
            "standoff": 15
           },
           "zerolinecolor": "white",
           "zerolinewidth": 2
          }
         }
        },
        "title": {
         "text": "(true, sae)"
        },
        "xaxis": {
         "showticklabels": false,
         "title": {
          "text": "sae (22)"
         }
        },
        "yaxis": {
         "autorange": "reversed",
         "showticklabels": false,
         "title": {
          "text": "true (22)"
         }
        }
       }
      }
     },
     "metadata": {},
     "output_type": "display_data"
    }
   ],
   "source": [
    "heatmap(sims, dim_names=('true', 'sae'))"
   ]
  },
  {
   "cell_type": "code",
   "execution_count": 395,
   "metadata": {},
   "outputs": [
    {
     "data": {
      "text/plain": [
       "tensor([1.8080, 1.6467, 1.7225, 1.3327, 1.9697, 1.8803, 1.7138, 2.2196, 1.3900,\n",
       "        1.5465, 0.8768, 0.8329, 1.3875, 1.9596, 1.3327, 1.3107, 1.2169, 1.8947,\n",
       "        1.2024, 1.4808, 1.1072, 1.6775], device='cuda:0')"
      ]
     },
     "execution_count": 395,
     "metadata": {},
     "output_type": "execute_result"
    }
   ],
   "source": [
    "true_feats.norm(dim=-1)"
   ]
  },
  {
   "cell_type": "code",
   "execution_count": 396,
   "metadata": {},
   "outputs": [
    {
     "data": {
      "text/plain": [
       "tensor([[ 0.0000,  0.0000,  0.0000,  ...,  0.0000,  0.0000,  0.0000],\n",
       "        [ 0.0000,  0.0000,  0.0000,  ...,  0.0000,  0.0000,  0.0000],\n",
       "        [ 0.0000,  0.0000,  0.0000,  ...,  0.0000,  0.0000,  0.0000],\n",
       "        ...,\n",
       "        [ 0.0000,  0.0000,  0.0000,  ...,  0.0000,  0.0000,  0.0000],\n",
       "        [ 0.0000,  0.0000,  0.0000,  ..., 10.6564,  0.0000,  0.0000],\n",
       "        [ 0.0000,  0.0000,  0.0000,  ..., 10.4083,  0.0000,  0.0000]],\n",
       "       device='cuda:0')"
      ]
     },
     "execution_count": 396,
     "metadata": {},
     "output_type": "execute_result"
    }
   ],
   "source": [
    "sae_acts"
   ]
  },
  {
   "cell_type": "code",
   "execution_count": 398,
   "metadata": {},
   "outputs": [
    {
     "data": {
      "application/vnd.plotly.v1+json": {
       "config": {
        "plotlyServerURL": "https://plot.ly"
       },
       "data": [
        {
         "colorscale": [
          [
           0,
           "#440154"
          ],
          [
           0.1111111111111111,
           "#482878"
          ],
          [
           0.2222222222222222,
           "#3e4989"
          ],
          [
           0.3333333333333333,
           "#31688e"
          ],
          [
           0.4444444444444444,
           "#26828e"
          ],
          [
           0.5555555555555556,
           "#1f9e89"
          ],
          [
           0.6666666666666666,
           "#35b779"
          ],
          [
           0.7777777777777778,
           "#6ece58"
          ],
          [
           0.8888888888888888,
           "#b5de2b"
          ],
          [
           1,
           "#fde725"
          ]
         ],
         "hoverinfo": "text",
         "text": [
          [
           "batch: 0<br>sae_feat: 0<br>val: 0<br>",
           "batch: 0<br>sae_feat: 1<br>val: 0<br>",
           "batch: 0<br>sae_feat: 2<br>val: 0<br>",
           "batch: 0<br>sae_feat: 3<br>val: 0<br>",
           "batch: 0<br>sae_feat: 4<br>val: 0<br>",
           "batch: 0<br>sae_feat: 5<br>val: 0<br>",
           "batch: 0<br>sae_feat: 6<br>val: 0<br>",
           "batch: 0<br>sae_feat: 7<br>val: 0<br>",
           "batch: 0<br>sae_feat: 8<br>val: 11<br>",
           "batch: 0<br>sae_feat: 9<br>val: 0<br>",
           "batch: 0<br>sae_feat: 10<br>val: 0<br>",
           "batch: 0<br>sae_feat: 11<br>val: 0<br>",
           "batch: 0<br>sae_feat: 12<br>val: 0<br>",
           "batch: 0<br>sae_feat: 13<br>val: 0<br>",
           "batch: 0<br>sae_feat: 14<br>val: 0<br>",
           "batch: 0<br>sae_feat: 15<br>val: 0<br>",
           "batch: 0<br>sae_feat: 16<br>val: 0<br>",
           "batch: 0<br>sae_feat: 17<br>val: 0<br>",
           "batch: 0<br>sae_feat: 18<br>val: 0<br>",
           "batch: 0<br>sae_feat: 19<br>val: 0<br>",
           "batch: 0<br>sae_feat: 20<br>val: 0<br>",
           "batch: 0<br>sae_feat: 21<br>val: 0<br>"
          ],
          [
           "batch: 1<br>sae_feat: 0<br>val: 0<br>",
           "batch: 1<br>sae_feat: 1<br>val: 0<br>",
           "batch: 1<br>sae_feat: 2<br>val: 0<br>",
           "batch: 1<br>sae_feat: 3<br>val: 0<br>",
           "batch: 1<br>sae_feat: 4<br>val: 0<br>",
           "batch: 1<br>sae_feat: 5<br>val: 0<br>",
           "batch: 1<br>sae_feat: 6<br>val: 0<br>",
           "batch: 1<br>sae_feat: 7<br>val: 0<br>",
           "batch: 1<br>sae_feat: 8<br>val: 0<br>",
           "batch: 1<br>sae_feat: 9<br>val: 0<br>",
           "batch: 1<br>sae_feat: 10<br>val: 0<br>",
           "batch: 1<br>sae_feat: 11<br>val: 0<br>",
           "batch: 1<br>sae_feat: 12<br>val: 0<br>",
           "batch: 1<br>sae_feat: 13<br>val: 0<br>",
           "batch: 1<br>sae_feat: 14<br>val: 9.8<br>",
           "batch: 1<br>sae_feat: 15<br>val: 0<br>",
           "batch: 1<br>sae_feat: 16<br>val: 0<br>",
           "batch: 1<br>sae_feat: 17<br>val: 10<br>",
           "batch: 1<br>sae_feat: 18<br>val: 0<br>",
           "batch: 1<br>sae_feat: 19<br>val: 0<br>",
           "batch: 1<br>sae_feat: 20<br>val: 0<br>",
           "batch: 1<br>sae_feat: 21<br>val: 0<br>"
          ],
          [
           "batch: 2<br>sae_feat: 0<br>val: 0<br>",
           "batch: 2<br>sae_feat: 1<br>val: 0<br>",
           "batch: 2<br>sae_feat: 2<br>val: 0<br>",
           "batch: 2<br>sae_feat: 3<br>val: 0<br>",
           "batch: 2<br>sae_feat: 4<br>val: 0<br>",
           "batch: 2<br>sae_feat: 5<br>val: 0<br>",
           "batch: 2<br>sae_feat: 6<br>val: 0<br>",
           "batch: 2<br>sae_feat: 7<br>val: 0<br>",
           "batch: 2<br>sae_feat: 8<br>val: 0<br>",
           "batch: 2<br>sae_feat: 9<br>val: 0<br>",
           "batch: 2<br>sae_feat: 10<br>val: 0<br>",
           "batch: 2<br>sae_feat: 11<br>val: 0<br>",
           "batch: 2<br>sae_feat: 12<br>val: 0<br>",
           "batch: 2<br>sae_feat: 13<br>val: 0<br>",
           "batch: 2<br>sae_feat: 14<br>val: 0<br>",
           "batch: 2<br>sae_feat: 15<br>val: 0<br>",
           "batch: 2<br>sae_feat: 16<br>val: 0<br>",
           "batch: 2<br>sae_feat: 17<br>val: 0<br>",
           "batch: 2<br>sae_feat: 18<br>val: 6.7<br>",
           "batch: 2<br>sae_feat: 19<br>val: 0<br>",
           "batch: 2<br>sae_feat: 20<br>val: 0<br>",
           "batch: 2<br>sae_feat: 21<br>val: 11<br>"
          ],
          [
           "batch: 3<br>sae_feat: 0<br>val: 0<br>",
           "batch: 3<br>sae_feat: 1<br>val: 0<br>",
           "batch: 3<br>sae_feat: 2<br>val: 0<br>",
           "batch: 3<br>sae_feat: 3<br>val: 0<br>",
           "batch: 3<br>sae_feat: 4<br>val: 16<br>",
           "batch: 3<br>sae_feat: 5<br>val: 0<br>",
           "batch: 3<br>sae_feat: 6<br>val: 0<br>",
           "batch: 3<br>sae_feat: 7<br>val: 0<br>",
           "batch: 3<br>sae_feat: 8<br>val: 0<br>",
           "batch: 3<br>sae_feat: 9<br>val: 0<br>",
           "batch: 3<br>sae_feat: 10<br>val: 0<br>",
           "batch: 3<br>sae_feat: 11<br>val: 0<br>",
           "batch: 3<br>sae_feat: 12<br>val: 0<br>",
           "batch: 3<br>sae_feat: 13<br>val: 14<br>",
           "batch: 3<br>sae_feat: 14<br>val: 0<br>",
           "batch: 3<br>sae_feat: 15<br>val: 0<br>",
           "batch: 3<br>sae_feat: 16<br>val: 0<br>",
           "batch: 3<br>sae_feat: 17<br>val: 0<br>",
           "batch: 3<br>sae_feat: 18<br>val: 0<br>",
           "batch: 3<br>sae_feat: 19<br>val: 0<br>",
           "batch: 3<br>sae_feat: 20<br>val: 0<br>",
           "batch: 3<br>sae_feat: 21<br>val: 0<br>"
          ],
          [
           "batch: 4<br>sae_feat: 0<br>val: 13<br>",
           "batch: 4<br>sae_feat: 1<br>val: 0<br>",
           "batch: 4<br>sae_feat: 2<br>val: 0<br>",
           "batch: 4<br>sae_feat: 3<br>val: 6.7<br>",
           "batch: 4<br>sae_feat: 4<br>val: 0<br>",
           "batch: 4<br>sae_feat: 5<br>val: 0<br>",
           "batch: 4<br>sae_feat: 6<br>val: 0<br>",
           "batch: 4<br>sae_feat: 7<br>val: 0<br>",
           "batch: 4<br>sae_feat: 8<br>val: 0<br>",
           "batch: 4<br>sae_feat: 9<br>val: 0<br>",
           "batch: 4<br>sae_feat: 10<br>val: 0<br>",
           "batch: 4<br>sae_feat: 11<br>val: 0<br>",
           "batch: 4<br>sae_feat: 12<br>val: 0<br>",
           "batch: 4<br>sae_feat: 13<br>val: 0<br>",
           "batch: 4<br>sae_feat: 14<br>val: 0<br>",
           "batch: 4<br>sae_feat: 15<br>val: 0<br>",
           "batch: 4<br>sae_feat: 16<br>val: 0<br>",
           "batch: 4<br>sae_feat: 17<br>val: 0<br>",
           "batch: 4<br>sae_feat: 18<br>val: 0<br>",
           "batch: 4<br>sae_feat: 19<br>val: 0<br>",
           "batch: 4<br>sae_feat: 20<br>val: 0<br>",
           "batch: 4<br>sae_feat: 21<br>val: 0<br>"
          ],
          [
           "batch: 5<br>sae_feat: 0<br>val: 0<br>",
           "batch: 5<br>sae_feat: 1<br>val: 0<br>",
           "batch: 5<br>sae_feat: 2<br>val: 0<br>",
           "batch: 5<br>sae_feat: 3<br>val: 0<br>",
           "batch: 5<br>sae_feat: 4<br>val: 16<br>",
           "batch: 5<br>sae_feat: 5<br>val: 0<br>",
           "batch: 5<br>sae_feat: 6<br>val: 0<br>",
           "batch: 5<br>sae_feat: 7<br>val: 0<br>",
           "batch: 5<br>sae_feat: 8<br>val: 0<br>",
           "batch: 5<br>sae_feat: 9<br>val: 0<br>",
           "batch: 5<br>sae_feat: 10<br>val: 0<br>",
           "batch: 5<br>sae_feat: 11<br>val: 0<br>",
           "batch: 5<br>sae_feat: 12<br>val: 0<br>",
           "batch: 5<br>sae_feat: 13<br>val: 0<br>",
           "batch: 5<br>sae_feat: 14<br>val: 0<br>",
           "batch: 5<br>sae_feat: 15<br>val: 0<br>",
           "batch: 5<br>sae_feat: 16<br>val: 0<br>",
           "batch: 5<br>sae_feat: 17<br>val: 0<br>",
           "batch: 5<br>sae_feat: 18<br>val: 0<br>",
           "batch: 5<br>sae_feat: 19<br>val: 0<br>",
           "batch: 5<br>sae_feat: 20<br>val: 0<br>",
           "batch: 5<br>sae_feat: 21<br>val: 0<br>"
          ],
          [
           "batch: 6<br>sae_feat: 0<br>val: 0<br>",
           "batch: 6<br>sae_feat: 1<br>val: 0<br>",
           "batch: 6<br>sae_feat: 2<br>val: 0<br>",
           "batch: 6<br>sae_feat: 3<br>val: 0<br>",
           "batch: 6<br>sae_feat: 4<br>val: 0<br>",
           "batch: 6<br>sae_feat: 5<br>val: 0<br>",
           "batch: 6<br>sae_feat: 6<br>val: 0<br>",
           "batch: 6<br>sae_feat: 7<br>val: 0<br>",
           "batch: 6<br>sae_feat: 8<br>val: 0<br>",
           "batch: 6<br>sae_feat: 9<br>val: 0<br>",
           "batch: 6<br>sae_feat: 10<br>val: 0<br>",
           "batch: 6<br>sae_feat: 11<br>val: 0<br>",
           "batch: 6<br>sae_feat: 12<br>val: 0<br>",
           "batch: 6<br>sae_feat: 13<br>val: 14<br>",
           "batch: 6<br>sae_feat: 14<br>val: 0<br>",
           "batch: 6<br>sae_feat: 15<br>val: 0<br>",
           "batch: 6<br>sae_feat: 16<br>val: 0<br>",
           "batch: 6<br>sae_feat: 17<br>val: 0<br>",
           "batch: 6<br>sae_feat: 18<br>val: 0<br>",
           "batch: 6<br>sae_feat: 19<br>val: 0<br>",
           "batch: 6<br>sae_feat: 20<br>val: 0<br>",
           "batch: 6<br>sae_feat: 21<br>val: 0<br>"
          ],
          [
           "batch: 7<br>sae_feat: 0<br>val: 0<br>",
           "batch: 7<br>sae_feat: 1<br>val: 0<br>",
           "batch: 7<br>sae_feat: 2<br>val: 0<br>",
           "batch: 7<br>sae_feat: 3<br>val: 0<br>",
           "batch: 7<br>sae_feat: 4<br>val: 0<br>",
           "batch: 7<br>sae_feat: 5<br>val: 0<br>",
           "batch: 7<br>sae_feat: 6<br>val: 0<br>",
           "batch: 7<br>sae_feat: 7<br>val: 0<br>",
           "batch: 7<br>sae_feat: 8<br>val: 0<br>",
           "batch: 7<br>sae_feat: 9<br>val: 0<br>",
           "batch: 7<br>sae_feat: 10<br>val: 0<br>",
           "batch: 7<br>sae_feat: 11<br>val: 0<br>",
           "batch: 7<br>sae_feat: 12<br>val: 0<br>",
           "batch: 7<br>sae_feat: 13<br>val: 0<br>",
           "batch: 7<br>sae_feat: 14<br>val: 0<br>",
           "batch: 7<br>sae_feat: 15<br>val: 0<br>",
           "batch: 7<br>sae_feat: 16<br>val: 0<br>",
           "batch: 7<br>sae_feat: 17<br>val: 0<br>",
           "batch: 7<br>sae_feat: 18<br>val: 0<br>",
           "batch: 7<br>sae_feat: 19<br>val: 0<br>",
           "batch: 7<br>sae_feat: 20<br>val: 0<br>",
           "batch: 7<br>sae_feat: 21<br>val: 0<br>"
          ],
          [
           "batch: 8<br>sae_feat: 0<br>val: 0<br>",
           "batch: 8<br>sae_feat: 1<br>val: 0<br>",
           "batch: 8<br>sae_feat: 2<br>val: 0<br>",
           "batch: 8<br>sae_feat: 3<br>val: 0<br>",
           "batch: 8<br>sae_feat: 4<br>val: 0<br>",
           "batch: 8<br>sae_feat: 5<br>val: 0<br>",
           "batch: 8<br>sae_feat: 6<br>val: 0<br>",
           "batch: 8<br>sae_feat: 7<br>val: 0<br>",
           "batch: 8<br>sae_feat: 8<br>val: 0<br>",
           "batch: 8<br>sae_feat: 9<br>val: 0<br>",
           "batch: 8<br>sae_feat: 10<br>val: 0<br>",
           "batch: 8<br>sae_feat: 11<br>val: 0<br>",
           "batch: 8<br>sae_feat: 12<br>val: 9.3<br>",
           "batch: 8<br>sae_feat: 13<br>val: 0<br>",
           "batch: 8<br>sae_feat: 14<br>val: 9.6<br>",
           "batch: 8<br>sae_feat: 15<br>val: 0<br>",
           "batch: 8<br>sae_feat: 16<br>val: 0<br>",
           "batch: 8<br>sae_feat: 17<br>val: 0<br>",
           "batch: 8<br>sae_feat: 18<br>val: 0<br>",
           "batch: 8<br>sae_feat: 19<br>val: 0<br>",
           "batch: 8<br>sae_feat: 20<br>val: 0<br>",
           "batch: 8<br>sae_feat: 21<br>val: 0<br>"
          ],
          [
           "batch: 9<br>sae_feat: 0<br>val: 11<br>",
           "batch: 9<br>sae_feat: 1<br>val: 0<br>",
           "batch: 9<br>sae_feat: 2<br>val: 11<br>",
           "batch: 9<br>sae_feat: 3<br>val: 0<br>",
           "batch: 9<br>sae_feat: 4<br>val: 0<br>",
           "batch: 9<br>sae_feat: 5<br>val: 0<br>",
           "batch: 9<br>sae_feat: 6<br>val: 0<br>",
           "batch: 9<br>sae_feat: 7<br>val: 0<br>",
           "batch: 9<br>sae_feat: 8<br>val: 0<br>",
           "batch: 9<br>sae_feat: 9<br>val: 0<br>",
           "batch: 9<br>sae_feat: 10<br>val: 0<br>",
           "batch: 9<br>sae_feat: 11<br>val: 0<br>",
           "batch: 9<br>sae_feat: 12<br>val: 0<br>",
           "batch: 9<br>sae_feat: 13<br>val: 0<br>",
           "batch: 9<br>sae_feat: 14<br>val: 0<br>",
           "batch: 9<br>sae_feat: 15<br>val: 0<br>",
           "batch: 9<br>sae_feat: 16<br>val: 0<br>",
           "batch: 9<br>sae_feat: 17<br>val: 0<br>",
           "batch: 9<br>sae_feat: 18<br>val: 0<br>",
           "batch: 9<br>sae_feat: 19<br>val: 0<br>",
           "batch: 9<br>sae_feat: 20<br>val: 0<br>",
           "batch: 9<br>sae_feat: 21<br>val: 0<br>"
          ],
          [
           "batch: 10<br>sae_feat: 0<br>val: 0<br>",
           "batch: 10<br>sae_feat: 1<br>val: 0<br>",
           "batch: 10<br>sae_feat: 2<br>val: 0<br>",
           "batch: 10<br>sae_feat: 3<br>val: 0<br>",
           "batch: 10<br>sae_feat: 4<br>val: 22<br>",
           "batch: 10<br>sae_feat: 5<br>val: 10<br>",
           "batch: 10<br>sae_feat: 6<br>val: 0<br>",
           "batch: 10<br>sae_feat: 7<br>val: 0<br>",
           "batch: 10<br>sae_feat: 8<br>val: 0<br>",
           "batch: 10<br>sae_feat: 9<br>val: 0<br>",
           "batch: 10<br>sae_feat: 10<br>val: 0<br>",
           "batch: 10<br>sae_feat: 11<br>val: 0<br>",
           "batch: 10<br>sae_feat: 12<br>val: 0<br>",
           "batch: 10<br>sae_feat: 13<br>val: 14<br>",
           "batch: 10<br>sae_feat: 14<br>val: 0<br>",
           "batch: 10<br>sae_feat: 15<br>val: 7.7<br>",
           "batch: 10<br>sae_feat: 16<br>val: 0<br>",
           "batch: 10<br>sae_feat: 17<br>val: 0<br>",
           "batch: 10<br>sae_feat: 18<br>val: 0<br>",
           "batch: 10<br>sae_feat: 19<br>val: 0<br>",
           "batch: 10<br>sae_feat: 20<br>val: 0<br>",
           "batch: 10<br>sae_feat: 21<br>val: 0<br>"
          ],
          [
           "batch: 11<br>sae_feat: 0<br>val: 0<br>",
           "batch: 11<br>sae_feat: 1<br>val: 0<br>",
           "batch: 11<br>sae_feat: 2<br>val: 0<br>",
           "batch: 11<br>sae_feat: 3<br>val: 0<br>",
           "batch: 11<br>sae_feat: 4<br>val: 0<br>",
           "batch: 11<br>sae_feat: 5<br>val: 0<br>",
           "batch: 11<br>sae_feat: 6<br>val: 0<br>",
           "batch: 11<br>sae_feat: 7<br>val: 0<br>",
           "batch: 11<br>sae_feat: 8<br>val: 0<br>",
           "batch: 11<br>sae_feat: 9<br>val: 0<br>",
           "batch: 11<br>sae_feat: 10<br>val: 0<br>",
           "batch: 11<br>sae_feat: 11<br>val: 0<br>",
           "batch: 11<br>sae_feat: 12<br>val: 0<br>",
           "batch: 11<br>sae_feat: 13<br>val: 0<br>",
           "batch: 11<br>sae_feat: 14<br>val: 0<br>",
           "batch: 11<br>sae_feat: 15<br>val: 0<br>",
           "batch: 11<br>sae_feat: 16<br>val: 0<br>",
           "batch: 11<br>sae_feat: 17<br>val: 0<br>",
           "batch: 11<br>sae_feat: 18<br>val: 0<br>",
           "batch: 11<br>sae_feat: 19<br>val: 0<br>",
           "batch: 11<br>sae_feat: 20<br>val: 6.7<br>",
           "batch: 11<br>sae_feat: 21<br>val: 0<br>"
          ],
          [
           "batch: 12<br>sae_feat: 0<br>val: 0<br>",
           "batch: 12<br>sae_feat: 1<br>val: 0<br>",
           "batch: 12<br>sae_feat: 2<br>val: 0<br>",
           "batch: 12<br>sae_feat: 3<br>val: 0<br>",
           "batch: 12<br>sae_feat: 4<br>val: 16<br>",
           "batch: 12<br>sae_feat: 5<br>val: 0<br>",
           "batch: 12<br>sae_feat: 6<br>val: 0<br>",
           "batch: 12<br>sae_feat: 7<br>val: 0<br>",
           "batch: 12<br>sae_feat: 8<br>val: 0<br>",
           "batch: 12<br>sae_feat: 9<br>val: 0<br>",
           "batch: 12<br>sae_feat: 10<br>val: 0<br>",
           "batch: 12<br>sae_feat: 11<br>val: 0<br>",
           "batch: 12<br>sae_feat: 12<br>val: 0<br>",
           "batch: 12<br>sae_feat: 13<br>val: 0<br>",
           "batch: 12<br>sae_feat: 14<br>val: 0<br>",
           "batch: 12<br>sae_feat: 15<br>val: 0<br>",
           "batch: 12<br>sae_feat: 16<br>val: 0<br>",
           "batch: 12<br>sae_feat: 17<br>val: 10<br>",
           "batch: 12<br>sae_feat: 18<br>val: 0<br>",
           "batch: 12<br>sae_feat: 19<br>val: 0<br>",
           "batch: 12<br>sae_feat: 20<br>val: 0<br>",
           "batch: 12<br>sae_feat: 21<br>val: 0<br>"
          ],
          [
           "batch: 13<br>sae_feat: 0<br>val: 0<br>",
           "batch: 13<br>sae_feat: 1<br>val: 0<br>",
           "batch: 13<br>sae_feat: 2<br>val: 0<br>",
           "batch: 13<br>sae_feat: 3<br>val: 0<br>",
           "batch: 13<br>sae_feat: 4<br>val: 16<br>",
           "batch: 13<br>sae_feat: 5<br>val: 0<br>",
           "batch: 13<br>sae_feat: 6<br>val: 0<br>",
           "batch: 13<br>sae_feat: 7<br>val: 0<br>",
           "batch: 13<br>sae_feat: 8<br>val: 0<br>",
           "batch: 13<br>sae_feat: 9<br>val: 0<br>",
           "batch: 13<br>sae_feat: 10<br>val: 0<br>",
           "batch: 13<br>sae_feat: 11<br>val: 0<br>",
           "batch: 13<br>sae_feat: 12<br>val: 0<br>",
           "batch: 13<br>sae_feat: 13<br>val: 0<br>",
           "batch: 13<br>sae_feat: 14<br>val: 0<br>",
           "batch: 13<br>sae_feat: 15<br>val: 0<br>",
           "batch: 13<br>sae_feat: 16<br>val: 0<br>",
           "batch: 13<br>sae_feat: 17<br>val: 0<br>",
           "batch: 13<br>sae_feat: 18<br>val: 0<br>",
           "batch: 13<br>sae_feat: 19<br>val: 0<br>",
           "batch: 13<br>sae_feat: 20<br>val: 0<br>",
           "batch: 13<br>sae_feat: 21<br>val: 0<br>"
          ],
          [
           "batch: 14<br>sae_feat: 0<br>val: 13<br>",
           "batch: 14<br>sae_feat: 1<br>val: 0<br>",
           "batch: 14<br>sae_feat: 2<br>val: 0<br>",
           "batch: 14<br>sae_feat: 3<br>val: 0<br>",
           "batch: 14<br>sae_feat: 4<br>val: 0<br>",
           "batch: 14<br>sae_feat: 5<br>val: 0<br>",
           "batch: 14<br>sae_feat: 6<br>val: 0<br>",
           "batch: 14<br>sae_feat: 7<br>val: 0<br>",
           "batch: 14<br>sae_feat: 8<br>val: 0<br>",
           "batch: 14<br>sae_feat: 9<br>val: 0<br>",
           "batch: 14<br>sae_feat: 10<br>val: 0<br>",
           "batch: 14<br>sae_feat: 11<br>val: 0<br>",
           "batch: 14<br>sae_feat: 12<br>val: 0<br>",
           "batch: 14<br>sae_feat: 13<br>val: 0<br>",
           "batch: 14<br>sae_feat: 14<br>val: 0<br>",
           "batch: 14<br>sae_feat: 15<br>val: 0<br>",
           "batch: 14<br>sae_feat: 16<br>val: 0<br>",
           "batch: 14<br>sae_feat: 17<br>val: 0<br>",
           "batch: 14<br>sae_feat: 18<br>val: 0<br>",
           "batch: 14<br>sae_feat: 19<br>val: 0<br>",
           "batch: 14<br>sae_feat: 20<br>val: 0<br>",
           "batch: 14<br>sae_feat: 21<br>val: 0<br>"
          ],
          [
           "batch: 15<br>sae_feat: 0<br>val: 0<br>",
           "batch: 15<br>sae_feat: 1<br>val: 0<br>",
           "batch: 15<br>sae_feat: 2<br>val: 0<br>",
           "batch: 15<br>sae_feat: 3<br>val: 0<br>",
           "batch: 15<br>sae_feat: 4<br>val: 0<br>",
           "batch: 15<br>sae_feat: 5<br>val: 0<br>",
           "batch: 15<br>sae_feat: 6<br>val: 0<br>",
           "batch: 15<br>sae_feat: 7<br>val: 0<br>",
           "batch: 15<br>sae_feat: 8<br>val: 0<br>",
           "batch: 15<br>sae_feat: 9<br>val: 15<br>",
           "batch: 15<br>sae_feat: 10<br>val: 0<br>",
           "batch: 15<br>sae_feat: 11<br>val: 0<br>",
           "batch: 15<br>sae_feat: 12<br>val: 0<br>",
           "batch: 15<br>sae_feat: 13<br>val: 0<br>",
           "batch: 15<br>sae_feat: 14<br>val: 0<br>",
           "batch: 15<br>sae_feat: 15<br>val: 0<br>",
           "batch: 15<br>sae_feat: 16<br>val: 0<br>",
           "batch: 15<br>sae_feat: 17<br>val: 0<br>",
           "batch: 15<br>sae_feat: 18<br>val: 0<br>",
           "batch: 15<br>sae_feat: 19<br>val: 0<br>",
           "batch: 15<br>sae_feat: 20<br>val: 0<br>",
           "batch: 15<br>sae_feat: 21<br>val: 0<br>"
          ],
          [
           "batch: 16<br>sae_feat: 0<br>val: 0<br>",
           "batch: 16<br>sae_feat: 1<br>val: 0<br>",
           "batch: 16<br>sae_feat: 2<br>val: 0<br>",
           "batch: 16<br>sae_feat: 3<br>val: 0<br>",
           "batch: 16<br>sae_feat: 4<br>val: 0<br>",
           "batch: 16<br>sae_feat: 5<br>val: 0<br>",
           "batch: 16<br>sae_feat: 6<br>val: 0<br>",
           "batch: 16<br>sae_feat: 7<br>val: 0<br>",
           "batch: 16<br>sae_feat: 8<br>val: 0<br>",
           "batch: 16<br>sae_feat: 9<br>val: 0<br>",
           "batch: 16<br>sae_feat: 10<br>val: 0<br>",
           "batch: 16<br>sae_feat: 11<br>val: 0<br>",
           "batch: 16<br>sae_feat: 12<br>val: 0<br>",
           "batch: 16<br>sae_feat: 13<br>val: 0<br>",
           "batch: 16<br>sae_feat: 14<br>val: 0<br>",
           "batch: 16<br>sae_feat: 15<br>val: 0<br>",
           "batch: 16<br>sae_feat: 16<br>val: 0<br>",
           "batch: 16<br>sae_feat: 17<br>val: 0<br>",
           "batch: 16<br>sae_feat: 18<br>val: 0<br>",
           "batch: 16<br>sae_feat: 19<br>val: 0<br>",
           "batch: 16<br>sae_feat: 20<br>val: 0<br>",
           "batch: 16<br>sae_feat: 21<br>val: 0<br>"
          ],
          [
           "batch: 17<br>sae_feat: 0<br>val: 0<br>",
           "batch: 17<br>sae_feat: 1<br>val: 0<br>",
           "batch: 17<br>sae_feat: 2<br>val: 0<br>",
           "batch: 17<br>sae_feat: 3<br>val: 0<br>",
           "batch: 17<br>sae_feat: 4<br>val: 0<br>",
           "batch: 17<br>sae_feat: 5<br>val: 0<br>",
           "batch: 17<br>sae_feat: 6<br>val: 0<br>",
           "batch: 17<br>sae_feat: 7<br>val: 0<br>",
           "batch: 17<br>sae_feat: 8<br>val: 0<br>",
           "batch: 17<br>sae_feat: 9<br>val: 0<br>",
           "batch: 17<br>sae_feat: 10<br>val: 0<br>",
           "batch: 17<br>sae_feat: 11<br>val: 0<br>",
           "batch: 17<br>sae_feat: 12<br>val: 0<br>",
           "batch: 17<br>sae_feat: 13<br>val: 0<br>",
           "batch: 17<br>sae_feat: 14<br>val: 0<br>",
           "batch: 17<br>sae_feat: 15<br>val: 0<br>",
           "batch: 17<br>sae_feat: 16<br>val: 0<br>",
           "batch: 17<br>sae_feat: 17<br>val: 0<br>",
           "batch: 17<br>sae_feat: 18<br>val: 0<br>",
           "batch: 17<br>sae_feat: 19<br>val: 0<br>",
           "batch: 17<br>sae_feat: 20<br>val: 0<br>",
           "batch: 17<br>sae_feat: 21<br>val: 0<br>"
          ],
          [
           "batch: 18<br>sae_feat: 0<br>val: 0<br>",
           "batch: 18<br>sae_feat: 1<br>val: 0<br>",
           "batch: 18<br>sae_feat: 2<br>val: 0<br>",
           "batch: 18<br>sae_feat: 3<br>val: 0<br>",
           "batch: 18<br>sae_feat: 4<br>val: 0<br>",
           "batch: 18<br>sae_feat: 5<br>val: 0<br>",
           "batch: 18<br>sae_feat: 6<br>val: 0<br>",
           "batch: 18<br>sae_feat: 7<br>val: 0<br>",
           "batch: 18<br>sae_feat: 8<br>val: 0<br>",
           "batch: 18<br>sae_feat: 9<br>val: 0<br>",
           "batch: 18<br>sae_feat: 10<br>val: 0<br>",
           "batch: 18<br>sae_feat: 11<br>val: 0<br>",
           "batch: 18<br>sae_feat: 12<br>val: 0<br>",
           "batch: 18<br>sae_feat: 13<br>val: 0<br>",
           "batch: 18<br>sae_feat: 14<br>val: 0<br>",
           "batch: 18<br>sae_feat: 15<br>val: 0<br>",
           "batch: 18<br>sae_feat: 16<br>val: 6.5<br>",
           "batch: 18<br>sae_feat: 17<br>val: 0<br>",
           "batch: 18<br>sae_feat: 18<br>val: 0<br>",
           "batch: 18<br>sae_feat: 19<br>val: 0<br>",
           "batch: 18<br>sae_feat: 20<br>val: 0<br>",
           "batch: 18<br>sae_feat: 21<br>val: 0<br>"
          ],
          [
           "batch: 19<br>sae_feat: 0<br>val: 0<br>",
           "batch: 19<br>sae_feat: 1<br>val: 0<br>",
           "batch: 19<br>sae_feat: 2<br>val: 0<br>",
           "batch: 19<br>sae_feat: 3<br>val: 0<br>",
           "batch: 19<br>sae_feat: 4<br>val: 0<br>",
           "batch: 19<br>sae_feat: 5<br>val: 0<br>",
           "batch: 19<br>sae_feat: 6<br>val: 0<br>",
           "batch: 19<br>sae_feat: 7<br>val: 0<br>",
           "batch: 19<br>sae_feat: 8<br>val: 0<br>",
           "batch: 19<br>sae_feat: 9<br>val: 0<br>",
           "batch: 19<br>sae_feat: 10<br>val: 0<br>",
           "batch: 19<br>sae_feat: 11<br>val: 0<br>",
           "batch: 19<br>sae_feat: 12<br>val: 0<br>",
           "batch: 19<br>sae_feat: 13<br>val: 0<br>",
           "batch: 19<br>sae_feat: 14<br>val: 0<br>",
           "batch: 19<br>sae_feat: 15<br>val: 0<br>",
           "batch: 19<br>sae_feat: 16<br>val: 0<br>",
           "batch: 19<br>sae_feat: 17<br>val: 0<br>",
           "batch: 19<br>sae_feat: 18<br>val: 0<br>",
           "batch: 19<br>sae_feat: 19<br>val: 0<br>",
           "batch: 19<br>sae_feat: 20<br>val: 0<br>",
           "batch: 19<br>sae_feat: 21<br>val: 0<br>"
          ],
          [
           "batch: 20<br>sae_feat: 0<br>val: 0<br>",
           "batch: 20<br>sae_feat: 1<br>val: 0<br>",
           "batch: 20<br>sae_feat: 2<br>val: 0<br>",
           "batch: 20<br>sae_feat: 3<br>val: 0<br>",
           "batch: 20<br>sae_feat: 4<br>val: 0<br>",
           "batch: 20<br>sae_feat: 5<br>val: 0<br>",
           "batch: 20<br>sae_feat: 6<br>val: 0<br>",
           "batch: 20<br>sae_feat: 7<br>val: 0<br>",
           "batch: 20<br>sae_feat: 8<br>val: 0<br>",
           "batch: 20<br>sae_feat: 9<br>val: 0<br>",
           "batch: 20<br>sae_feat: 10<br>val: 0<br>",
           "batch: 20<br>sae_feat: 11<br>val: 0<br>",
           "batch: 20<br>sae_feat: 12<br>val: 0<br>",
           "batch: 20<br>sae_feat: 13<br>val: 0<br>",
           "batch: 20<br>sae_feat: 14<br>val: 0<br>",
           "batch: 20<br>sae_feat: 15<br>val: 0<br>",
           "batch: 20<br>sae_feat: 16<br>val: 0<br>",
           "batch: 20<br>sae_feat: 17<br>val: 0<br>",
           "batch: 20<br>sae_feat: 18<br>val: 0<br>",
           "batch: 20<br>sae_feat: 19<br>val: 0<br>",
           "batch: 20<br>sae_feat: 20<br>val: 6.7<br>",
           "batch: 20<br>sae_feat: 21<br>val: 0<br>"
          ],
          [
           "batch: 21<br>sae_feat: 0<br>val: 0<br>",
           "batch: 21<br>sae_feat: 1<br>val: 0<br>",
           "batch: 21<br>sae_feat: 2<br>val: 0<br>",
           "batch: 21<br>sae_feat: 3<br>val: 0<br>",
           "batch: 21<br>sae_feat: 4<br>val: 0<br>",
           "batch: 21<br>sae_feat: 5<br>val: 0<br>",
           "batch: 21<br>sae_feat: 6<br>val: 0<br>",
           "batch: 21<br>sae_feat: 7<br>val: 0<br>",
           "batch: 21<br>sae_feat: 8<br>val: 0<br>",
           "batch: 21<br>sae_feat: 9<br>val: 0<br>",
           "batch: 21<br>sae_feat: 10<br>val: 0<br>",
           "batch: 21<br>sae_feat: 11<br>val: 0<br>",
           "batch: 21<br>sae_feat: 12<br>val: 0<br>",
           "batch: 21<br>sae_feat: 13<br>val: 0<br>",
           "batch: 21<br>sae_feat: 14<br>val: 0<br>",
           "batch: 21<br>sae_feat: 15<br>val: 0<br>",
           "batch: 21<br>sae_feat: 16<br>val: 0<br>",
           "batch: 21<br>sae_feat: 17<br>val: 0<br>",
           "batch: 21<br>sae_feat: 18<br>val: 0<br>",
           "batch: 21<br>sae_feat: 19<br>val: 0<br>",
           "batch: 21<br>sae_feat: 20<br>val: 0<br>",
           "batch: 21<br>sae_feat: 21<br>val: 0<br>"
          ],
          [
           "batch: 22<br>sae_feat: 0<br>val: 13<br>",
           "batch: 22<br>sae_feat: 1<br>val: 0<br>",
           "batch: 22<br>sae_feat: 2<br>val: 0<br>",
           "batch: 22<br>sae_feat: 3<br>val: 0<br>",
           "batch: 22<br>sae_feat: 4<br>val: 0<br>",
           "batch: 22<br>sae_feat: 5<br>val: 0<br>",
           "batch: 22<br>sae_feat: 6<br>val: 0<br>",
           "batch: 22<br>sae_feat: 7<br>val: 0<br>",
           "batch: 22<br>sae_feat: 8<br>val: 0<br>",
           "batch: 22<br>sae_feat: 9<br>val: 0<br>",
           "batch: 22<br>sae_feat: 10<br>val: 0<br>",
           "batch: 22<br>sae_feat: 11<br>val: 0<br>",
           "batch: 22<br>sae_feat: 12<br>val: 0<br>",
           "batch: 22<br>sae_feat: 13<br>val: 0<br>",
           "batch: 22<br>sae_feat: 14<br>val: 0<br>",
           "batch: 22<br>sae_feat: 15<br>val: 0<br>",
           "batch: 22<br>sae_feat: 16<br>val: 0<br>",
           "batch: 22<br>sae_feat: 17<br>val: 0<br>",
           "batch: 22<br>sae_feat: 18<br>val: 0<br>",
           "batch: 22<br>sae_feat: 19<br>val: 0<br>",
           "batch: 22<br>sae_feat: 20<br>val: 0<br>",
           "batch: 22<br>sae_feat: 21<br>val: 0<br>"
          ],
          [
           "batch: 23<br>sae_feat: 0<br>val: 0<br>",
           "batch: 23<br>sae_feat: 1<br>val: 0<br>",
           "batch: 23<br>sae_feat: 2<br>val: 0<br>",
           "batch: 23<br>sae_feat: 3<br>val: 0<br>",
           "batch: 23<br>sae_feat: 4<br>val: 0<br>",
           "batch: 23<br>sae_feat: 5<br>val: 0<br>",
           "batch: 23<br>sae_feat: 6<br>val: 0<br>",
           "batch: 23<br>sae_feat: 7<br>val: 0<br>",
           "batch: 23<br>sae_feat: 8<br>val: 0<br>",
           "batch: 23<br>sae_feat: 9<br>val: 15<br>",
           "batch: 23<br>sae_feat: 10<br>val: 0<br>",
           "batch: 23<br>sae_feat: 11<br>val: 0<br>",
           "batch: 23<br>sae_feat: 12<br>val: 0<br>",
           "batch: 23<br>sae_feat: 13<br>val: 0<br>",
           "batch: 23<br>sae_feat: 14<br>val: 9.6<br>",
           "batch: 23<br>sae_feat: 15<br>val: 0<br>",
           "batch: 23<br>sae_feat: 16<br>val: 0<br>",
           "batch: 23<br>sae_feat: 17<br>val: 0<br>",
           "batch: 23<br>sae_feat: 18<br>val: 0<br>",
           "batch: 23<br>sae_feat: 19<br>val: 0<br>",
           "batch: 23<br>sae_feat: 20<br>val: 0<br>",
           "batch: 23<br>sae_feat: 21<br>val: 0<br>"
          ],
          [
           "batch: 24<br>sae_feat: 0<br>val: 0<br>",
           "batch: 24<br>sae_feat: 1<br>val: 0<br>",
           "batch: 24<br>sae_feat: 2<br>val: 0<br>",
           "batch: 24<br>sae_feat: 3<br>val: 0<br>",
           "batch: 24<br>sae_feat: 4<br>val: 0<br>",
           "batch: 24<br>sae_feat: 5<br>val: 0<br>",
           "batch: 24<br>sae_feat: 6<br>val: 0<br>",
           "batch: 24<br>sae_feat: 7<br>val: 0<br>",
           "batch: 24<br>sae_feat: 8<br>val: 0<br>",
           "batch: 24<br>sae_feat: 9<br>val: 0<br>",
           "batch: 24<br>sae_feat: 10<br>val: 0<br>",
           "batch: 24<br>sae_feat: 11<br>val: 0<br>",
           "batch: 24<br>sae_feat: 12<br>val: 0<br>",
           "batch: 24<br>sae_feat: 13<br>val: 0<br>",
           "batch: 24<br>sae_feat: 14<br>val: 0<br>",
           "batch: 24<br>sae_feat: 15<br>val: 0<br>",
           "batch: 24<br>sae_feat: 16<br>val: 0<br>",
           "batch: 24<br>sae_feat: 17<br>val: 0<br>",
           "batch: 24<br>sae_feat: 18<br>val: 0<br>",
           "batch: 24<br>sae_feat: 19<br>val: 0<br>",
           "batch: 24<br>sae_feat: 20<br>val: 0<br>",
           "batch: 24<br>sae_feat: 21<br>val: 0<br>"
          ],
          [
           "batch: 25<br>sae_feat: 0<br>val: 0<br>",
           "batch: 25<br>sae_feat: 1<br>val: 0<br>",
           "batch: 25<br>sae_feat: 2<br>val: 0<br>",
           "batch: 25<br>sae_feat: 3<br>val: 0<br>",
           "batch: 25<br>sae_feat: 4<br>val: 0<br>",
           "batch: 25<br>sae_feat: 5<br>val: 0<br>",
           "batch: 25<br>sae_feat: 6<br>val: 0<br>",
           "batch: 25<br>sae_feat: 7<br>val: 0<br>",
           "batch: 25<br>sae_feat: 8<br>val: 11<br>",
           "batch: 25<br>sae_feat: 9<br>val: 0<br>",
           "batch: 25<br>sae_feat: 10<br>val: 0<br>",
           "batch: 25<br>sae_feat: 11<br>val: 0<br>",
           "batch: 25<br>sae_feat: 12<br>val: 0<br>",
           "batch: 25<br>sae_feat: 13<br>val: 0<br>",
           "batch: 25<br>sae_feat: 14<br>val: 0<br>",
           "batch: 25<br>sae_feat: 15<br>val: 0<br>",
           "batch: 25<br>sae_feat: 16<br>val: 0<br>",
           "batch: 25<br>sae_feat: 17<br>val: 0<br>",
           "batch: 25<br>sae_feat: 18<br>val: 0<br>",
           "batch: 25<br>sae_feat: 19<br>val: 9.6<br>",
           "batch: 25<br>sae_feat: 20<br>val: 0<br>",
           "batch: 25<br>sae_feat: 21<br>val: 10<br>"
          ],
          [
           "batch: 26<br>sae_feat: 0<br>val: 0<br>",
           "batch: 26<br>sae_feat: 1<br>val: 0<br>",
           "batch: 26<br>sae_feat: 2<br>val: 0<br>",
           "batch: 26<br>sae_feat: 3<br>val: 0<br>",
           "batch: 26<br>sae_feat: 4<br>val: 0<br>",
           "batch: 26<br>sae_feat: 5<br>val: 0<br>",
           "batch: 26<br>sae_feat: 6<br>val: 0<br>",
           "batch: 26<br>sae_feat: 7<br>val: 0<br>",
           "batch: 26<br>sae_feat: 8<br>val: 0<br>",
           "batch: 26<br>sae_feat: 9<br>val: 0<br>",
           "batch: 26<br>sae_feat: 10<br>val: 0<br>",
           "batch: 26<br>sae_feat: 11<br>val: 0<br>",
           "batch: 26<br>sae_feat: 12<br>val: 0<br>",
           "batch: 26<br>sae_feat: 13<br>val: 0<br>",
           "batch: 26<br>sae_feat: 14<br>val: 0<br>",
           "batch: 26<br>sae_feat: 15<br>val: 0<br>",
           "batch: 26<br>sae_feat: 16<br>val: 6.5<br>",
           "batch: 26<br>sae_feat: 17<br>val: 0<br>",
           "batch: 26<br>sae_feat: 18<br>val: 0<br>",
           "batch: 26<br>sae_feat: 19<br>val: 0<br>",
           "batch: 26<br>sae_feat: 20<br>val: 0<br>",
           "batch: 26<br>sae_feat: 21<br>val: 0<br>"
          ],
          [
           "batch: 27<br>sae_feat: 0<br>val: 13<br>",
           "batch: 27<br>sae_feat: 1<br>val: 10<br>",
           "batch: 27<br>sae_feat: 2<br>val: 0<br>",
           "batch: 27<br>sae_feat: 3<br>val: 0<br>",
           "batch: 27<br>sae_feat: 4<br>val: 0<br>",
           "batch: 27<br>sae_feat: 5<br>val: 0<br>",
           "batch: 27<br>sae_feat: 6<br>val: 0<br>",
           "batch: 27<br>sae_feat: 7<br>val: 0<br>",
           "batch: 27<br>sae_feat: 8<br>val: 0<br>",
           "batch: 27<br>sae_feat: 9<br>val: 0<br>",
           "batch: 27<br>sae_feat: 10<br>val: 0<br>",
           "batch: 27<br>sae_feat: 11<br>val: 0<br>",
           "batch: 27<br>sae_feat: 12<br>val: 0<br>",
           "batch: 27<br>sae_feat: 13<br>val: 0<br>",
           "batch: 27<br>sae_feat: 14<br>val: 0<br>",
           "batch: 27<br>sae_feat: 15<br>val: 0<br>",
           "batch: 27<br>sae_feat: 16<br>val: 0<br>",
           "batch: 27<br>sae_feat: 17<br>val: 0<br>",
           "batch: 27<br>sae_feat: 18<br>val: 0<br>",
           "batch: 27<br>sae_feat: 19<br>val: 0<br>",
           "batch: 27<br>sae_feat: 20<br>val: 0<br>",
           "batch: 27<br>sae_feat: 21<br>val: 0<br>"
          ],
          [
           "batch: 28<br>sae_feat: 0<br>val: 0<br>",
           "batch: 28<br>sae_feat: 1<br>val: 0<br>",
           "batch: 28<br>sae_feat: 2<br>val: 0<br>",
           "batch: 28<br>sae_feat: 3<br>val: 0<br>",
           "batch: 28<br>sae_feat: 4<br>val: 13<br>",
           "batch: 28<br>sae_feat: 5<br>val: 0<br>",
           "batch: 28<br>sae_feat: 6<br>val: 5.2<br>",
           "batch: 28<br>sae_feat: 7<br>val: 0<br>",
           "batch: 28<br>sae_feat: 8<br>val: 0<br>",
           "batch: 28<br>sae_feat: 9<br>val: 0<br>",
           "batch: 28<br>sae_feat: 10<br>val: 0<br>",
           "batch: 28<br>sae_feat: 11<br>val: 0<br>",
           "batch: 28<br>sae_feat: 12<br>val: 0<br>",
           "batch: 28<br>sae_feat: 13<br>val: 14<br>",
           "batch: 28<br>sae_feat: 14<br>val: 0<br>",
           "batch: 28<br>sae_feat: 15<br>val: 0<br>",
           "batch: 28<br>sae_feat: 16<br>val: 0<br>",
           "batch: 28<br>sae_feat: 17<br>val: 7.9<br>",
           "batch: 28<br>sae_feat: 18<br>val: 0<br>",
           "batch: 28<br>sae_feat: 19<br>val: 0<br>",
           "batch: 28<br>sae_feat: 20<br>val: 0<br>",
           "batch: 28<br>sae_feat: 21<br>val: 0<br>"
          ],
          [
           "batch: 29<br>sae_feat: 0<br>val: 13<br>",
           "batch: 29<br>sae_feat: 1<br>val: 0<br>",
           "batch: 29<br>sae_feat: 2<br>val: 0<br>",
           "batch: 29<br>sae_feat: 3<br>val: 0<br>",
           "batch: 29<br>sae_feat: 4<br>val: 0<br>",
           "batch: 29<br>sae_feat: 5<br>val: 0<br>",
           "batch: 29<br>sae_feat: 6<br>val: 0<br>",
           "batch: 29<br>sae_feat: 7<br>val: 0<br>",
           "batch: 29<br>sae_feat: 8<br>val: 0<br>",
           "batch: 29<br>sae_feat: 9<br>val: 0<br>",
           "batch: 29<br>sae_feat: 10<br>val: 0<br>",
           "batch: 29<br>sae_feat: 11<br>val: 0<br>",
           "batch: 29<br>sae_feat: 12<br>val: 0<br>",
           "batch: 29<br>sae_feat: 13<br>val: 0<br>",
           "batch: 29<br>sae_feat: 14<br>val: 0<br>",
           "batch: 29<br>sae_feat: 15<br>val: 0<br>",
           "batch: 29<br>sae_feat: 16<br>val: 0<br>",
           "batch: 29<br>sae_feat: 17<br>val: 0<br>",
           "batch: 29<br>sae_feat: 18<br>val: 0<br>",
           "batch: 29<br>sae_feat: 19<br>val: 0<br>",
           "batch: 29<br>sae_feat: 20<br>val: 0<br>",
           "batch: 29<br>sae_feat: 21<br>val: 0<br>"
          ],
          [
           "batch: 30<br>sae_feat: 0<br>val: 0<br>",
           "batch: 30<br>sae_feat: 1<br>val: 0<br>",
           "batch: 30<br>sae_feat: 2<br>val: 0<br>",
           "batch: 30<br>sae_feat: 3<br>val: 0<br>",
           "batch: 30<br>sae_feat: 4<br>val: 0<br>",
           "batch: 30<br>sae_feat: 5<br>val: 0<br>",
           "batch: 30<br>sae_feat: 6<br>val: 0<br>",
           "batch: 30<br>sae_feat: 7<br>val: 0<br>",
           "batch: 30<br>sae_feat: 8<br>val: 0<br>",
           "batch: 30<br>sae_feat: 9<br>val: 0<br>",
           "batch: 30<br>sae_feat: 10<br>val: 0<br>",
           "batch: 30<br>sae_feat: 11<br>val: 0<br>",
           "batch: 30<br>sae_feat: 12<br>val: 0<br>",
           "batch: 30<br>sae_feat: 13<br>val: 0<br>",
           "batch: 30<br>sae_feat: 14<br>val: 0<br>",
           "batch: 30<br>sae_feat: 15<br>val: 0<br>",
           "batch: 30<br>sae_feat: 16<br>val: 0<br>",
           "batch: 30<br>sae_feat: 17<br>val: 0<br>",
           "batch: 30<br>sae_feat: 18<br>val: 0<br>",
           "batch: 30<br>sae_feat: 19<br>val: 0<br>",
           "batch: 30<br>sae_feat: 20<br>val: 0<br>",
           "batch: 30<br>sae_feat: 21<br>val: 0<br>"
          ],
          [
           "batch: 31<br>sae_feat: 0<br>val: 0<br>",
           "batch: 31<br>sae_feat: 1<br>val: 0<br>",
           "batch: 31<br>sae_feat: 2<br>val: 0<br>",
           "batch: 31<br>sae_feat: 3<br>val: 0<br>",
           "batch: 31<br>sae_feat: 4<br>val: 0<br>",
           "batch: 31<br>sae_feat: 5<br>val: 0<br>",
           "batch: 31<br>sae_feat: 6<br>val: 0<br>",
           "batch: 31<br>sae_feat: 7<br>val: 0<br>",
           "batch: 31<br>sae_feat: 8<br>val: 0<br>",
           "batch: 31<br>sae_feat: 9<br>val: 0<br>",
           "batch: 31<br>sae_feat: 10<br>val: 0<br>",
           "batch: 31<br>sae_feat: 11<br>val: 0<br>",
           "batch: 31<br>sae_feat: 12<br>val: 0<br>",
           "batch: 31<br>sae_feat: 13<br>val: 0<br>",
           "batch: 31<br>sae_feat: 14<br>val: 0<br>",
           "batch: 31<br>sae_feat: 15<br>val: 0<br>",
           "batch: 31<br>sae_feat: 16<br>val: 0<br>",
           "batch: 31<br>sae_feat: 17<br>val: 0<br>",
           "batch: 31<br>sae_feat: 18<br>val: 0<br>",
           "batch: 31<br>sae_feat: 19<br>val: 0<br>",
           "batch: 31<br>sae_feat: 20<br>val: 0<br>",
           "batch: 31<br>sae_feat: 21<br>val: 0<br>"
          ],
          [
           "batch: 32<br>sae_feat: 0<br>val: 0<br>",
           "batch: 32<br>sae_feat: 1<br>val: 0<br>",
           "batch: 32<br>sae_feat: 2<br>val: 0<br>",
           "batch: 32<br>sae_feat: 3<br>val: 0<br>",
           "batch: 32<br>sae_feat: 4<br>val: 0<br>",
           "batch: 32<br>sae_feat: 5<br>val: 0<br>",
           "batch: 32<br>sae_feat: 6<br>val: 0<br>",
           "batch: 32<br>sae_feat: 7<br>val: 0<br>",
           "batch: 32<br>sae_feat: 8<br>val: 11<br>",
           "batch: 32<br>sae_feat: 9<br>val: 0<br>",
           "batch: 32<br>sae_feat: 10<br>val: 0<br>",
           "batch: 32<br>sae_feat: 11<br>val: 0<br>",
           "batch: 32<br>sae_feat: 12<br>val: 0<br>",
           "batch: 32<br>sae_feat: 13<br>val: 0<br>",
           "batch: 32<br>sae_feat: 14<br>val: 0<br>",
           "batch: 32<br>sae_feat: 15<br>val: 7.4<br>",
           "batch: 32<br>sae_feat: 16<br>val: 0<br>",
           "batch: 32<br>sae_feat: 17<br>val: 0<br>",
           "batch: 32<br>sae_feat: 18<br>val: 0<br>",
           "batch: 32<br>sae_feat: 19<br>val: 0<br>",
           "batch: 32<br>sae_feat: 20<br>val: 0<br>",
           "batch: 32<br>sae_feat: 21<br>val: 0<br>"
          ],
          [
           "batch: 33<br>sae_feat: 0<br>val: 13<br>",
           "batch: 33<br>sae_feat: 1<br>val: 0<br>",
           "batch: 33<br>sae_feat: 2<br>val: 0<br>",
           "batch: 33<br>sae_feat: 3<br>val: 0<br>",
           "batch: 33<br>sae_feat: 4<br>val: 0<br>",
           "batch: 33<br>sae_feat: 5<br>val: 0<br>",
           "batch: 33<br>sae_feat: 6<br>val: 0<br>",
           "batch: 33<br>sae_feat: 7<br>val: 0<br>",
           "batch: 33<br>sae_feat: 8<br>val: 0<br>",
           "batch: 33<br>sae_feat: 9<br>val: 0<br>",
           "batch: 33<br>sae_feat: 10<br>val: 0<br>",
           "batch: 33<br>sae_feat: 11<br>val: 0<br>",
           "batch: 33<br>sae_feat: 12<br>val: 9.2<br>",
           "batch: 33<br>sae_feat: 13<br>val: 0<br>",
           "batch: 33<br>sae_feat: 14<br>val: 0<br>",
           "batch: 33<br>sae_feat: 15<br>val: 0<br>",
           "batch: 33<br>sae_feat: 16<br>val: 0<br>",
           "batch: 33<br>sae_feat: 17<br>val: 0<br>",
           "batch: 33<br>sae_feat: 18<br>val: 0<br>",
           "batch: 33<br>sae_feat: 19<br>val: 0<br>",
           "batch: 33<br>sae_feat: 20<br>val: 0<br>",
           "batch: 33<br>sae_feat: 21<br>val: 10<br>"
          ],
          [
           "batch: 34<br>sae_feat: 0<br>val: 0<br>",
           "batch: 34<br>sae_feat: 1<br>val: 0<br>",
           "batch: 34<br>sae_feat: 2<br>val: 0<br>",
           "batch: 34<br>sae_feat: 3<br>val: 0<br>",
           "batch: 34<br>sae_feat: 4<br>val: 0<br>",
           "batch: 34<br>sae_feat: 5<br>val: 0<br>",
           "batch: 34<br>sae_feat: 6<br>val: 0<br>",
           "batch: 34<br>sae_feat: 7<br>val: 0<br>",
           "batch: 34<br>sae_feat: 8<br>val: 12<br>",
           "batch: 34<br>sae_feat: 9<br>val: 0<br>",
           "batch: 34<br>sae_feat: 10<br>val: 4.2<br>",
           "batch: 34<br>sae_feat: 11<br>val: 0<br>",
           "batch: 34<br>sae_feat: 12<br>val: 0<br>",
           "batch: 34<br>sae_feat: 13<br>val: 0<br>",
           "batch: 34<br>sae_feat: 14<br>val: 0<br>",
           "batch: 34<br>sae_feat: 15<br>val: 0<br>",
           "batch: 34<br>sae_feat: 16<br>val: 0<br>",
           "batch: 34<br>sae_feat: 17<br>val: 0<br>",
           "batch: 34<br>sae_feat: 18<br>val: 0<br>",
           "batch: 34<br>sae_feat: 19<br>val: 0<br>",
           "batch: 34<br>sae_feat: 20<br>val: 0<br>",
           "batch: 34<br>sae_feat: 21<br>val: 0<br>"
          ],
          [
           "batch: 35<br>sae_feat: 0<br>val: 0<br>",
           "batch: 35<br>sae_feat: 1<br>val: 0<br>",
           "batch: 35<br>sae_feat: 2<br>val: 0<br>",
           "batch: 35<br>sae_feat: 3<br>val: 0<br>",
           "batch: 35<br>sae_feat: 4<br>val: 0<br>",
           "batch: 35<br>sae_feat: 5<br>val: 0<br>",
           "batch: 35<br>sae_feat: 6<br>val: 0<br>",
           "batch: 35<br>sae_feat: 7<br>val: 0<br>",
           "batch: 35<br>sae_feat: 8<br>val: 11<br>",
           "batch: 35<br>sae_feat: 9<br>val: 0<br>",
           "batch: 35<br>sae_feat: 10<br>val: 0<br>",
           "batch: 35<br>sae_feat: 11<br>val: 0<br>",
           "batch: 35<br>sae_feat: 12<br>val: 0<br>",
           "batch: 35<br>sae_feat: 13<br>val: 0<br>",
           "batch: 35<br>sae_feat: 14<br>val: 0<br>",
           "batch: 35<br>sae_feat: 15<br>val: 0<br>",
           "batch: 35<br>sae_feat: 16<br>val: 0<br>",
           "batch: 35<br>sae_feat: 17<br>val: 0<br>",
           "batch: 35<br>sae_feat: 18<br>val: 0<br>",
           "batch: 35<br>sae_feat: 19<br>val: 0<br>",
           "batch: 35<br>sae_feat: 20<br>val: 0<br>",
           "batch: 35<br>sae_feat: 21<br>val: 0<br>"
          ],
          [
           "batch: 36<br>sae_feat: 0<br>val: 0<br>",
           "batch: 36<br>sae_feat: 1<br>val: 0<br>",
           "batch: 36<br>sae_feat: 2<br>val: 0<br>",
           "batch: 36<br>sae_feat: 3<br>val: 0<br>",
           "batch: 36<br>sae_feat: 4<br>val: 0<br>",
           "batch: 36<br>sae_feat: 5<br>val: 0<br>",
           "batch: 36<br>sae_feat: 6<br>val: 0<br>",
           "batch: 36<br>sae_feat: 7<br>val: 0<br>",
           "batch: 36<br>sae_feat: 8<br>val: 0<br>",
           "batch: 36<br>sae_feat: 9<br>val: 0<br>",
           "batch: 36<br>sae_feat: 10<br>val: 0<br>",
           "batch: 36<br>sae_feat: 11<br>val: 0<br>",
           "batch: 36<br>sae_feat: 12<br>val: 0<br>",
           "batch: 36<br>sae_feat: 13<br>val: 0<br>",
           "batch: 36<br>sae_feat: 14<br>val: 0<br>",
           "batch: 36<br>sae_feat: 15<br>val: 0<br>",
           "batch: 36<br>sae_feat: 16<br>val: 0<br>",
           "batch: 36<br>sae_feat: 17<br>val: 0<br>",
           "batch: 36<br>sae_feat: 18<br>val: 0<br>",
           "batch: 36<br>sae_feat: 19<br>val: 9.4<br>",
           "batch: 36<br>sae_feat: 20<br>val: 0<br>",
           "batch: 36<br>sae_feat: 21<br>val: 0<br>"
          ],
          [
           "batch: 37<br>sae_feat: 0<br>val: 0<br>",
           "batch: 37<br>sae_feat: 1<br>val: 0<br>",
           "batch: 37<br>sae_feat: 2<br>val: 0<br>",
           "batch: 37<br>sae_feat: 3<br>val: 0<br>",
           "batch: 37<br>sae_feat: 4<br>val: 0<br>",
           "batch: 37<br>sae_feat: 5<br>val: 0<br>",
           "batch: 37<br>sae_feat: 6<br>val: 0<br>",
           "batch: 37<br>sae_feat: 7<br>val: 0<br>",
           "batch: 37<br>sae_feat: 8<br>val: 0<br>",
           "batch: 37<br>sae_feat: 9<br>val: 0<br>",
           "batch: 37<br>sae_feat: 10<br>val: 0<br>",
           "batch: 37<br>sae_feat: 11<br>val: 0<br>",
           "batch: 37<br>sae_feat: 12<br>val: 0<br>",
           "batch: 37<br>sae_feat: 13<br>val: 0<br>",
           "batch: 37<br>sae_feat: 14<br>val: 0<br>",
           "batch: 37<br>sae_feat: 15<br>val: 0<br>",
           "batch: 37<br>sae_feat: 16<br>val: 0<br>",
           "batch: 37<br>sae_feat: 17<br>val: 0<br>",
           "batch: 37<br>sae_feat: 18<br>val: 0<br>",
           "batch: 37<br>sae_feat: 19<br>val: 0<br>",
           "batch: 37<br>sae_feat: 20<br>val: 0<br>",
           "batch: 37<br>sae_feat: 21<br>val: 0<br>"
          ],
          [
           "batch: 38<br>sae_feat: 0<br>val: 0<br>",
           "batch: 38<br>sae_feat: 1<br>val: 0<br>",
           "batch: 38<br>sae_feat: 2<br>val: 0<br>",
           "batch: 38<br>sae_feat: 3<br>val: 0<br>",
           "batch: 38<br>sae_feat: 4<br>val: 0<br>",
           "batch: 38<br>sae_feat: 5<br>val: 0<br>",
           "batch: 38<br>sae_feat: 6<br>val: 0<br>",
           "batch: 38<br>sae_feat: 7<br>val: 0<br>",
           "batch: 38<br>sae_feat: 8<br>val: 0<br>",
           "batch: 38<br>sae_feat: 9<br>val: 0<br>",
           "batch: 38<br>sae_feat: 10<br>val: 0<br>",
           "batch: 38<br>sae_feat: 11<br>val: 0<br>",
           "batch: 38<br>sae_feat: 12<br>val: 0<br>",
           "batch: 38<br>sae_feat: 13<br>val: 0<br>",
           "batch: 38<br>sae_feat: 14<br>val: 0<br>",
           "batch: 38<br>sae_feat: 15<br>val: 0<br>",
           "batch: 38<br>sae_feat: 16<br>val: 0<br>",
           "batch: 38<br>sae_feat: 17<br>val: 9.9<br>",
           "batch: 38<br>sae_feat: 18<br>val: 0<br>",
           "batch: 38<br>sae_feat: 19<br>val: 0<br>",
           "batch: 38<br>sae_feat: 20<br>val: 0<br>",
           "batch: 38<br>sae_feat: 21<br>val: 0<br>"
          ],
          [
           "batch: 39<br>sae_feat: 0<br>val: 0<br>",
           "batch: 39<br>sae_feat: 1<br>val: 0<br>",
           "batch: 39<br>sae_feat: 2<br>val: 0<br>",
           "batch: 39<br>sae_feat: 3<br>val: 0<br>",
           "batch: 39<br>sae_feat: 4<br>val: 0<br>",
           "batch: 39<br>sae_feat: 5<br>val: 0<br>",
           "batch: 39<br>sae_feat: 6<br>val: 0<br>",
           "batch: 39<br>sae_feat: 7<br>val: 0<br>",
           "batch: 39<br>sae_feat: 8<br>val: 0<br>",
           "batch: 39<br>sae_feat: 9<br>val: 0<br>",
           "batch: 39<br>sae_feat: 10<br>val: 0<br>",
           "batch: 39<br>sae_feat: 11<br>val: 0<br>",
           "batch: 39<br>sae_feat: 12<br>val: 0<br>",
           "batch: 39<br>sae_feat: 13<br>val: 0<br>",
           "batch: 39<br>sae_feat: 14<br>val: 0<br>",
           "batch: 39<br>sae_feat: 15<br>val: 0<br>",
           "batch: 39<br>sae_feat: 16<br>val: 0<br>",
           "batch: 39<br>sae_feat: 17<br>val: 0<br>",
           "batch: 39<br>sae_feat: 18<br>val: 0<br>",
           "batch: 39<br>sae_feat: 19<br>val: 0<br>",
           "batch: 39<br>sae_feat: 20<br>val: 0<br>",
           "batch: 39<br>sae_feat: 21<br>val: 0<br>"
          ],
          [
           "batch: 40<br>sae_feat: 0<br>val: 0<br>",
           "batch: 40<br>sae_feat: 1<br>val: 0<br>",
           "batch: 40<br>sae_feat: 2<br>val: 0<br>",
           "batch: 40<br>sae_feat: 3<br>val: 0<br>",
           "batch: 40<br>sae_feat: 4<br>val: 0<br>",
           "batch: 40<br>sae_feat: 5<br>val: 0<br>",
           "batch: 40<br>sae_feat: 6<br>val: 0<br>",
           "batch: 40<br>sae_feat: 7<br>val: 0<br>",
           "batch: 40<br>sae_feat: 8<br>val: 0<br>",
           "batch: 40<br>sae_feat: 9<br>val: 0<br>",
           "batch: 40<br>sae_feat: 10<br>val: 0<br>",
           "batch: 40<br>sae_feat: 11<br>val: 0<br>",
           "batch: 40<br>sae_feat: 12<br>val: 0<br>",
           "batch: 40<br>sae_feat: 13<br>val: 0<br>",
           "batch: 40<br>sae_feat: 14<br>val: 0<br>",
           "batch: 40<br>sae_feat: 15<br>val: 0<br>",
           "batch: 40<br>sae_feat: 16<br>val: 0<br>",
           "batch: 40<br>sae_feat: 17<br>val: 0<br>",
           "batch: 40<br>sae_feat: 18<br>val: 0<br>",
           "batch: 40<br>sae_feat: 19<br>val: 0<br>",
           "batch: 40<br>sae_feat: 20<br>val: 0<br>",
           "batch: 40<br>sae_feat: 21<br>val: 0<br>"
          ],
          [
           "batch: 41<br>sae_feat: 0<br>val: 0<br>",
           "batch: 41<br>sae_feat: 1<br>val: 0<br>",
           "batch: 41<br>sae_feat: 2<br>val: 0<br>",
           "batch: 41<br>sae_feat: 3<br>val: 0<br>",
           "batch: 41<br>sae_feat: 4<br>val: 0<br>",
           "batch: 41<br>sae_feat: 5<br>val: 0<br>",
           "batch: 41<br>sae_feat: 6<br>val: 0<br>",
           "batch: 41<br>sae_feat: 7<br>val: 0<br>",
           "batch: 41<br>sae_feat: 8<br>val: 0<br>",
           "batch: 41<br>sae_feat: 9<br>val: 0<br>",
           "batch: 41<br>sae_feat: 10<br>val: 0<br>",
           "batch: 41<br>sae_feat: 11<br>val: 0<br>",
           "batch: 41<br>sae_feat: 12<br>val: 0<br>",
           "batch: 41<br>sae_feat: 13<br>val: 0<br>",
           "batch: 41<br>sae_feat: 14<br>val: 0<br>",
           "batch: 41<br>sae_feat: 15<br>val: 0<br>",
           "batch: 41<br>sae_feat: 16<br>val: 0<br>",
           "batch: 41<br>sae_feat: 17<br>val: 0<br>",
           "batch: 41<br>sae_feat: 18<br>val: 0<br>",
           "batch: 41<br>sae_feat: 19<br>val: 0<br>",
           "batch: 41<br>sae_feat: 20<br>val: 0<br>",
           "batch: 41<br>sae_feat: 21<br>val: 0<br>"
          ],
          [
           "batch: 42<br>sae_feat: 0<br>val: 13<br>",
           "batch: 42<br>sae_feat: 1<br>val: 0<br>",
           "batch: 42<br>sae_feat: 2<br>val: 0<br>",
           "batch: 42<br>sae_feat: 3<br>val: 6.6<br>",
           "batch: 42<br>sae_feat: 4<br>val: 0<br>",
           "batch: 42<br>sae_feat: 5<br>val: 0<br>",
           "batch: 42<br>sae_feat: 6<br>val: 0<br>",
           "batch: 42<br>sae_feat: 7<br>val: 0<br>",
           "batch: 42<br>sae_feat: 8<br>val: 0<br>",
           "batch: 42<br>sae_feat: 9<br>val: 0<br>",
           "batch: 42<br>sae_feat: 10<br>val: 0<br>",
           "batch: 42<br>sae_feat: 11<br>val: 0<br>",
           "batch: 42<br>sae_feat: 12<br>val: 0<br>",
           "batch: 42<br>sae_feat: 13<br>val: 0<br>",
           "batch: 42<br>sae_feat: 14<br>val: 0<br>",
           "batch: 42<br>sae_feat: 15<br>val: 0<br>",
           "batch: 42<br>sae_feat: 16<br>val: 0<br>",
           "batch: 42<br>sae_feat: 17<br>val: 11<br>",
           "batch: 42<br>sae_feat: 18<br>val: 0<br>",
           "batch: 42<br>sae_feat: 19<br>val: 0<br>",
           "batch: 42<br>sae_feat: 20<br>val: 0<br>",
           "batch: 42<br>sae_feat: 21<br>val: 0<br>"
          ],
          [
           "batch: 43<br>sae_feat: 0<br>val: 13<br>",
           "batch: 43<br>sae_feat: 1<br>val: 0<br>",
           "batch: 43<br>sae_feat: 2<br>val: 0<br>",
           "batch: 43<br>sae_feat: 3<br>val: 0<br>",
           "batch: 43<br>sae_feat: 4<br>val: 22<br>",
           "batch: 43<br>sae_feat: 5<br>val: 9.9<br>",
           "batch: 43<br>sae_feat: 6<br>val: 0<br>",
           "batch: 43<br>sae_feat: 7<br>val: 0<br>",
           "batch: 43<br>sae_feat: 8<br>val: 0<br>",
           "batch: 43<br>sae_feat: 9<br>val: 0<br>",
           "batch: 43<br>sae_feat: 10<br>val: 0<br>",
           "batch: 43<br>sae_feat: 11<br>val: 0<br>",
           "batch: 43<br>sae_feat: 12<br>val: 0<br>",
           "batch: 43<br>sae_feat: 13<br>val: 0<br>",
           "batch: 43<br>sae_feat: 14<br>val: 0<br>",
           "batch: 43<br>sae_feat: 15<br>val: 0<br>",
           "batch: 43<br>sae_feat: 16<br>val: 0<br>",
           "batch: 43<br>sae_feat: 17<br>val: 0<br>",
           "batch: 43<br>sae_feat: 18<br>val: 0<br>",
           "batch: 43<br>sae_feat: 19<br>val: 0<br>",
           "batch: 43<br>sae_feat: 20<br>val: 0<br>",
           "batch: 43<br>sae_feat: 21<br>val: 0<br>"
          ],
          [
           "batch: 44<br>sae_feat: 0<br>val: 0<br>",
           "batch: 44<br>sae_feat: 1<br>val: 0<br>",
           "batch: 44<br>sae_feat: 2<br>val: 0<br>",
           "batch: 44<br>sae_feat: 3<br>val: 0<br>",
           "batch: 44<br>sae_feat: 4<br>val: 0<br>",
           "batch: 44<br>sae_feat: 5<br>val: 0<br>",
           "batch: 44<br>sae_feat: 6<br>val: 0<br>",
           "batch: 44<br>sae_feat: 7<br>val: 0<br>",
           "batch: 44<br>sae_feat: 8<br>val: 0<br>",
           "batch: 44<br>sae_feat: 9<br>val: 0<br>",
           "batch: 44<br>sae_feat: 10<br>val: 0<br>",
           "batch: 44<br>sae_feat: 11<br>val: 0<br>",
           "batch: 44<br>sae_feat: 12<br>val: 0<br>",
           "batch: 44<br>sae_feat: 13<br>val: 0<br>",
           "batch: 44<br>sae_feat: 14<br>val: 0<br>",
           "batch: 44<br>sae_feat: 15<br>val: 0<br>",
           "batch: 44<br>sae_feat: 16<br>val: 0<br>",
           "batch: 44<br>sae_feat: 17<br>val: 0<br>",
           "batch: 44<br>sae_feat: 18<br>val: 0<br>",
           "batch: 44<br>sae_feat: 19<br>val: 0<br>",
           "batch: 44<br>sae_feat: 20<br>val: 0<br>",
           "batch: 44<br>sae_feat: 21<br>val: 0<br>"
          ],
          [
           "batch: 45<br>sae_feat: 0<br>val: 0<br>",
           "batch: 45<br>sae_feat: 1<br>val: 0<br>",
           "batch: 45<br>sae_feat: 2<br>val: 0<br>",
           "batch: 45<br>sae_feat: 3<br>val: 0<br>",
           "batch: 45<br>sae_feat: 4<br>val: 0<br>",
           "batch: 45<br>sae_feat: 5<br>val: 0<br>",
           "batch: 45<br>sae_feat: 6<br>val: 0<br>",
           "batch: 45<br>sae_feat: 7<br>val: 0<br>",
           "batch: 45<br>sae_feat: 8<br>val: 0<br>",
           "batch: 45<br>sae_feat: 9<br>val: 0<br>",
           "batch: 45<br>sae_feat: 10<br>val: 0<br>",
           "batch: 45<br>sae_feat: 11<br>val: 0<br>",
           "batch: 45<br>sae_feat: 12<br>val: 0<br>",
           "batch: 45<br>sae_feat: 13<br>val: 0<br>",
           "batch: 45<br>sae_feat: 14<br>val: 0<br>",
           "batch: 45<br>sae_feat: 15<br>val: 0<br>",
           "batch: 45<br>sae_feat: 16<br>val: 0<br>",
           "batch: 45<br>sae_feat: 17<br>val: 0<br>",
           "batch: 45<br>sae_feat: 18<br>val: 0<br>",
           "batch: 45<br>sae_feat: 19<br>val: 9.4<br>",
           "batch: 45<br>sae_feat: 20<br>val: 0<br>",
           "batch: 45<br>sae_feat: 21<br>val: 0<br>"
          ],
          [
           "batch: 46<br>sae_feat: 0<br>val: 13<br>",
           "batch: 46<br>sae_feat: 1<br>val: 0<br>",
           "batch: 46<br>sae_feat: 2<br>val: 0<br>",
           "batch: 46<br>sae_feat: 3<br>val: 0<br>",
           "batch: 46<br>sae_feat: 4<br>val: 0<br>",
           "batch: 46<br>sae_feat: 5<br>val: 0<br>",
           "batch: 46<br>sae_feat: 6<br>val: 0<br>",
           "batch: 46<br>sae_feat: 7<br>val: 0<br>",
           "batch: 46<br>sae_feat: 8<br>val: 0<br>",
           "batch: 46<br>sae_feat: 9<br>val: 0<br>",
           "batch: 46<br>sae_feat: 10<br>val: 0<br>",
           "batch: 46<br>sae_feat: 11<br>val: 0<br>",
           "batch: 46<br>sae_feat: 12<br>val: 0<br>",
           "batch: 46<br>sae_feat: 13<br>val: 0<br>",
           "batch: 46<br>sae_feat: 14<br>val: 0<br>",
           "batch: 46<br>sae_feat: 15<br>val: 0<br>",
           "batch: 46<br>sae_feat: 16<br>val: 0<br>",
           "batch: 46<br>sae_feat: 17<br>val: 0<br>",
           "batch: 46<br>sae_feat: 18<br>val: 0<br>",
           "batch: 46<br>sae_feat: 19<br>val: 0<br>",
           "batch: 46<br>sae_feat: 20<br>val: 0<br>",
           "batch: 46<br>sae_feat: 21<br>val: 0<br>"
          ],
          [
           "batch: 47<br>sae_feat: 0<br>val: 0<br>",
           "batch: 47<br>sae_feat: 1<br>val: 0<br>",
           "batch: 47<br>sae_feat: 2<br>val: 0<br>",
           "batch: 47<br>sae_feat: 3<br>val: 0<br>",
           "batch: 47<br>sae_feat: 4<br>val: 0<br>",
           "batch: 47<br>sae_feat: 5<br>val: 0<br>",
           "batch: 47<br>sae_feat: 6<br>val: 0<br>",
           "batch: 47<br>sae_feat: 7<br>val: 0<br>",
           "batch: 47<br>sae_feat: 8<br>val: 0<br>",
           "batch: 47<br>sae_feat: 9<br>val: 0<br>",
           "batch: 47<br>sae_feat: 10<br>val: 0<br>",
           "batch: 47<br>sae_feat: 11<br>val: 0<br>",
           "batch: 47<br>sae_feat: 12<br>val: 0<br>",
           "batch: 47<br>sae_feat: 13<br>val: 0<br>",
           "batch: 47<br>sae_feat: 14<br>val: 0<br>",
           "batch: 47<br>sae_feat: 15<br>val: 0<br>",
           "batch: 47<br>sae_feat: 16<br>val: 0<br>",
           "batch: 47<br>sae_feat: 17<br>val: 0<br>",
           "batch: 47<br>sae_feat: 18<br>val: 0<br>",
           "batch: 47<br>sae_feat: 19<br>val: 0<br>",
           "batch: 47<br>sae_feat: 20<br>val: 6.7<br>",
           "batch: 47<br>sae_feat: 21<br>val: 0<br>"
          ],
          [
           "batch: 48<br>sae_feat: 0<br>val: 0<br>",
           "batch: 48<br>sae_feat: 1<br>val: 0<br>",
           "batch: 48<br>sae_feat: 2<br>val: 0<br>",
           "batch: 48<br>sae_feat: 3<br>val: 0<br>",
           "batch: 48<br>sae_feat: 4<br>val: 0<br>",
           "batch: 48<br>sae_feat: 5<br>val: 0<br>",
           "batch: 48<br>sae_feat: 6<br>val: 0<br>",
           "batch: 48<br>sae_feat: 7<br>val: 0<br>",
           "batch: 48<br>sae_feat: 8<br>val: 0<br>",
           "batch: 48<br>sae_feat: 9<br>val: 0<br>",
           "batch: 48<br>sae_feat: 10<br>val: 0<br>",
           "batch: 48<br>sae_feat: 11<br>val: 0<br>",
           "batch: 48<br>sae_feat: 12<br>val: 0<br>",
           "batch: 48<br>sae_feat: 13<br>val: 0<br>",
           "batch: 48<br>sae_feat: 14<br>val: 0<br>",
           "batch: 48<br>sae_feat: 15<br>val: 0<br>",
           "batch: 48<br>sae_feat: 16<br>val: 0<br>",
           "batch: 48<br>sae_feat: 17<br>val: 0<br>",
           "batch: 48<br>sae_feat: 18<br>val: 0<br>",
           "batch: 48<br>sae_feat: 19<br>val: 0<br>",
           "batch: 48<br>sae_feat: 20<br>val: 0<br>",
           "batch: 48<br>sae_feat: 21<br>val: 0<br>"
          ],
          [
           "batch: 49<br>sae_feat: 0<br>val: 13<br>",
           "batch: 49<br>sae_feat: 1<br>val: 0<br>",
           "batch: 49<br>sae_feat: 2<br>val: 0<br>",
           "batch: 49<br>sae_feat: 3<br>val: 6.7<br>",
           "batch: 49<br>sae_feat: 4<br>val: 0<br>",
           "batch: 49<br>sae_feat: 5<br>val: 0<br>",
           "batch: 49<br>sae_feat: 6<br>val: 0<br>",
           "batch: 49<br>sae_feat: 7<br>val: 0<br>",
           "batch: 49<br>sae_feat: 8<br>val: 0<br>",
           "batch: 49<br>sae_feat: 9<br>val: 0<br>",
           "batch: 49<br>sae_feat: 10<br>val: 0<br>",
           "batch: 49<br>sae_feat: 11<br>val: 0<br>",
           "batch: 49<br>sae_feat: 12<br>val: 0<br>",
           "batch: 49<br>sae_feat: 13<br>val: 0<br>",
           "batch: 49<br>sae_feat: 14<br>val: 0<br>",
           "batch: 49<br>sae_feat: 15<br>val: 0<br>",
           "batch: 49<br>sae_feat: 16<br>val: 0<br>",
           "batch: 49<br>sae_feat: 17<br>val: 0<br>",
           "batch: 49<br>sae_feat: 18<br>val: 0<br>",
           "batch: 49<br>sae_feat: 19<br>val: 0<br>",
           "batch: 49<br>sae_feat: 20<br>val: 0<br>",
           "batch: 49<br>sae_feat: 21<br>val: 0<br>"
          ]
         ],
         "type": "heatmap",
         "z": [
          [
           0,
           0,
           0,
           0,
           0,
           0,
           0,
           0,
           10.636225,
           0,
           0,
           0,
           0,
           0,
           0,
           0,
           0,
           0,
           0,
           0,
           0,
           0
          ],
          [
           0,
           0,
           0,
           0,
           0,
           0,
           0,
           0,
           0,
           0,
           0,
           0,
           0,
           0,
           9.815338,
           0,
           0,
           10.062292,
           0,
           0,
           0,
           0
          ],
          [
           0,
           0,
           0,
           0,
           0,
           0,
           0,
           0,
           0,
           0,
           0,
           0,
           0,
           0,
           0,
           0,
           0,
           0,
           6.722718,
           0,
           0,
           10.648371
          ],
          [
           0,
           0,
           0,
           0,
           16.466433,
           0,
           0,
           0,
           0,
           0,
           0,
           0,
           0,
           13.801706,
           0,
           0,
           0,
           0,
           0,
           0,
           0,
           0
          ],
          [
           13.4877615,
           0,
           0,
           6.657744,
           0,
           0,
           0,
           0,
           0,
           0,
           0,
           0,
           0,
           0,
           0,
           0,
           0,
           0,
           0,
           0,
           0,
           0
          ],
          [
           0,
           0,
           0,
           0,
           16.142056,
           0,
           0,
           0,
           0,
           0,
           0,
           0,
           0,
           0,
           0,
           0,
           0,
           0,
           0,
           0,
           0,
           0
          ],
          [
           0,
           0,
           0,
           0,
           0,
           0,
           0,
           0,
           0,
           0,
           0,
           0,
           0,
           13.72736,
           0,
           0,
           0,
           0,
           0,
           0,
           0,
           0
          ],
          [
           0,
           0,
           0,
           0,
           0,
           0,
           0,
           0,
           0,
           0,
           0,
           0,
           0,
           0,
           0,
           0,
           0,
           0,
           0,
           0,
           0,
           0
          ],
          [
           0,
           0,
           0,
           0,
           0,
           0,
           0,
           0,
           0,
           0,
           0,
           0,
           9.279224,
           0,
           9.621217,
           0,
           0,
           0,
           0,
           0,
           0,
           0
          ],
          [
           10.773764,
           0,
           11.080264,
           0,
           0,
           0,
           0,
           0,
           0,
           0,
           0,
           0,
           0,
           0,
           0,
           0,
           0,
           0,
           0,
           0,
           0,
           0
          ],
          [
           0,
           0,
           0,
           0,
           22.072577,
           10.046813,
           0,
           0,
           0,
           0,
           0,
           0,
           0,
           13.70783,
           0,
           7.652671,
           0,
           0,
           0,
           0,
           0,
           0
          ],
          [
           0,
           0,
           0,
           0,
           0,
           0,
           0,
           0,
           0,
           0,
           0,
           0,
           0,
           0,
           0,
           0,
           0,
           0,
           0,
           0,
           6.669973,
           0
          ],
          [
           0,
           0,
           0,
           0,
           16.27487,
           0,
           0,
           0,
           0,
           0,
           0,
           0,
           0,
           0,
           0,
           0,
           0,
           9.986059,
           0,
           0,
           0,
           0
          ],
          [
           0,
           0,
           0,
           0,
           16.142056,
           0,
           0,
           0,
           0,
           0,
           0,
           0,
           0,
           0,
           0,
           0,
           0,
           0,
           0,
           0,
           0,
           0
          ],
          [
           13.134834,
           0,
           0,
           0,
           0,
           0,
           0,
           0,
           0,
           0,
           0,
           0,
           0,
           0,
           0,
           0,
           0,
           0,
           0,
           0,
           0,
           0
          ],
          [
           0,
           0,
           0,
           0,
           0,
           0,
           0,
           0,
           0,
           14.889988,
           0,
           0,
           0,
           0,
           0,
           0,
           0,
           0,
           0,
           0,
           0,
           0
          ],
          [
           0,
           0,
           0,
           0,
           0,
           0,
           0,
           0,
           0,
           0,
           0,
           0,
           0,
           0,
           0,
           0,
           0,
           0,
           0,
           0,
           0,
           0
          ],
          [
           0,
           0,
           0,
           0,
           0,
           0,
           0,
           0,
           0,
           0,
           0,
           0,
           0,
           0,
           0,
           0,
           0,
           0,
           0,
           0,
           0,
           0
          ],
          [
           0,
           0,
           0,
           0,
           0,
           0,
           0,
           0,
           0,
           0,
           0,
           0,
           0,
           0,
           0,
           0,
           6.546411,
           0,
           0,
           0,
           0,
           0
          ],
          [
           0,
           0,
           0,
           0,
           0,
           0,
           0,
           0,
           0,
           0,
           0,
           0,
           0,
           0,
           0,
           0,
           0,
           0,
           0,
           0,
           0,
           0
          ],
          [
           0,
           0,
           0,
           0,
           0,
           0,
           0,
           0,
           0,
           0,
           0,
           0,
           0,
           0,
           0,
           0,
           0,
           0,
           0,
           0,
           6.669973,
           0
          ],
          [
           0,
           0,
           0,
           0,
           0,
           0,
           0,
           0,
           0,
           0,
           0,
           0,
           0,
           0,
           0,
           0,
           0,
           0,
           0,
           0,
           0,
           0
          ],
          [
           13.134834,
           0,
           0,
           0,
           0,
           0,
           0,
           0,
           0,
           0,
           0,
           0,
           0,
           0,
           0,
           0,
           0,
           0,
           0,
           0,
           0,
           0
          ],
          [
           0,
           0,
           0,
           0,
           0,
           0,
           0,
           0,
           0,
           14.872818,
           0,
           0,
           0,
           0,
           9.631825,
           0,
           0,
           0,
           0,
           0,
           0,
           0
          ],
          [
           0,
           0,
           0,
           0,
           0,
           0,
           0,
           0,
           0,
           0,
           0,
           0,
           0,
           0,
           0,
           0,
           0,
           0,
           0,
           0,
           0,
           0
          ],
          [
           0,
           0,
           0,
           0,
           0,
           0,
           0,
           0,
           11.390877,
           0,
           0,
           0,
           0,
           0,
           0,
           0,
           0,
           0,
           0,
           9.57151,
           0,
           10.260194
          ],
          [
           0,
           0,
           0,
           0,
           0,
           0,
           0,
           0,
           0,
           0,
           0,
           0,
           0,
           0,
           0,
           0,
           6.546411,
           0,
           0,
           0,
           0,
           0
          ],
          [
           13.168441,
           10.121661,
           0,
           0,
           0,
           0,
           0,
           0,
           0,
           0,
           0,
           0,
           0,
           0,
           0,
           0,
           0,
           0,
           0,
           0,
           0,
           0
          ],
          [
           0,
           0,
           0,
           0,
           12.727225,
           0,
           5.1951222,
           0,
           0,
           0,
           0,
           0,
           0,
           14.045301,
           0,
           0,
           0,
           7.9143662,
           0,
           0,
           0,
           0
          ],
          [
           13.134834,
           0,
           0,
           0,
           0,
           0,
           0,
           0,
           0,
           0,
           0,
           0,
           0,
           0,
           0,
           0,
           0,
           0,
           0,
           0,
           0,
           0
          ],
          [
           0,
           0,
           0,
           0,
           0,
           0,
           0,
           0,
           0,
           0,
           0,
           0,
           0,
           0,
           0,
           0,
           0,
           0,
           0,
           0,
           0,
           0
          ],
          [
           0,
           0,
           0,
           0,
           0,
           0,
           0,
           0,
           0,
           0,
           0,
           0,
           0,
           0,
           0,
           0,
           0,
           0,
           0,
           0,
           0,
           0
          ],
          [
           0,
           0,
           0,
           0,
           0,
           0,
           0,
           0,
           10.62027,
           0,
           0,
           0,
           0,
           0,
           0,
           7.3772087,
           0,
           0,
           0,
           0,
           0,
           0
          ],
          [
           13.168827,
           0,
           0,
           0,
           0,
           0,
           0,
           0,
           0,
           0,
           0,
           0,
           9.184615,
           0,
           0,
           0,
           0,
           0,
           0,
           0,
           0,
           10.108306
          ],
          [
           0,
           0,
           0,
           0,
           0,
           0,
           0,
           0,
           12.036315,
           0,
           4.224895,
           0,
           0,
           0,
           0,
           0,
           0,
           0,
           0,
           0,
           0,
           0
          ],
          [
           0,
           0,
           0,
           0,
           0,
           0,
           0,
           0,
           10.636225,
           0,
           0,
           0,
           0,
           0,
           0,
           0,
           0,
           0,
           0,
           0,
           0,
           0
          ],
          [
           0,
           0,
           0,
           0,
           0,
           0,
           0,
           0,
           0,
           0,
           0,
           0,
           0,
           0,
           0,
           0,
           0,
           0,
           0,
           9.441194,
           0,
           0
          ],
          [
           0,
           0,
           0,
           0,
           0,
           0,
           0,
           0,
           0,
           0,
           0,
           0,
           0,
           0,
           0,
           0,
           0,
           0,
           0,
           0,
           0,
           0
          ],
          [
           0,
           0,
           0,
           0,
           0,
           0,
           0,
           0,
           0,
           0,
           0,
           0,
           0,
           0,
           0,
           0,
           0,
           9.934376,
           0,
           0,
           0,
           0
          ],
          [
           0,
           0,
           0,
           0,
           0,
           0,
           0,
           0,
           0,
           0,
           0,
           0,
           0,
           0,
           0,
           0,
           0,
           0,
           0,
           0,
           0,
           0
          ],
          [
           0,
           0,
           0,
           0,
           0,
           0,
           0,
           0,
           0,
           0,
           0,
           0,
           0,
           0,
           0,
           0,
           0,
           0,
           0,
           0,
           0,
           0
          ],
          [
           0,
           0,
           0,
           0,
           0,
           0,
           0,
           0,
           0,
           0,
           0,
           0,
           0,
           0,
           0,
           0,
           0,
           0,
           0,
           0,
           0,
           0
          ],
          [
           13.494431,
           0,
           0,
           6.6018386,
           0,
           0,
           0,
           0,
           0,
           0,
           0,
           0,
           0,
           0,
           0,
           0,
           0,
           10.62579,
           0,
           0,
           0,
           0
          ],
          [
           13.441295,
           0,
           0,
           0,
           21.584747,
           9.935217,
           0,
           0,
           0,
           0,
           0,
           0,
           0,
           0,
           0,
           0,
           0,
           0,
           0,
           0,
           0,
           0
          ],
          [
           0,
           0,
           0,
           0,
           0,
           0,
           0,
           0,
           0,
           0,
           0,
           0,
           0,
           0,
           0,
           0,
           0,
           0,
           0,
           0,
           0,
           0
          ],
          [
           0,
           0,
           0,
           0,
           0,
           0,
           0,
           0,
           0,
           0,
           0,
           0,
           0,
           0,
           0,
           0,
           0,
           0,
           0,
           9.441194,
           0,
           0
          ],
          [
           13.134834,
           0,
           0,
           0,
           0,
           0,
           0,
           0,
           0,
           0,
           0,
           0,
           0,
           0,
           0,
           0,
           0,
           0,
           0,
           0,
           0,
           0
          ],
          [
           0,
           0,
           0,
           0,
           0,
           0,
           0,
           0,
           0,
           0,
           0,
           0,
           0,
           0,
           0,
           0,
           0,
           0,
           0,
           0,
           6.669973,
           0
          ],
          [
           0,
           0,
           0,
           0,
           0,
           0,
           0,
           0,
           0,
           0,
           0,
           0,
           0,
           0,
           0,
           0,
           0,
           0,
           0,
           0,
           0,
           0
          ],
          [
           13.4877615,
           0,
           0,
           6.657744,
           0,
           0,
           0,
           0,
           0,
           0,
           0,
           0,
           0,
           0,
           0,
           0,
           0,
           0,
           0,
           0,
           0,
           0
          ]
         ]
        }
       ],
       "layout": {
        "template": {
         "data": {
          "bar": [
           {
            "error_x": {
             "color": "#2a3f5f"
            },
            "error_y": {
             "color": "#2a3f5f"
            },
            "marker": {
             "line": {
              "color": "#E5ECF6",
              "width": 0.5
             },
             "pattern": {
              "fillmode": "overlay",
              "size": 10,
              "solidity": 0.2
             }
            },
            "type": "bar"
           }
          ],
          "barpolar": [
           {
            "marker": {
             "line": {
              "color": "#E5ECF6",
              "width": 0.5
             },
             "pattern": {
              "fillmode": "overlay",
              "size": 10,
              "solidity": 0.2
             }
            },
            "type": "barpolar"
           }
          ],
          "carpet": [
           {
            "aaxis": {
             "endlinecolor": "#2a3f5f",
             "gridcolor": "white",
             "linecolor": "white",
             "minorgridcolor": "white",
             "startlinecolor": "#2a3f5f"
            },
            "baxis": {
             "endlinecolor": "#2a3f5f",
             "gridcolor": "white",
             "linecolor": "white",
             "minorgridcolor": "white",
             "startlinecolor": "#2a3f5f"
            },
            "type": "carpet"
           }
          ],
          "choropleth": [
           {
            "colorbar": {
             "outlinewidth": 0,
             "ticks": ""
            },
            "type": "choropleth"
           }
          ],
          "contour": [
           {
            "colorbar": {
             "outlinewidth": 0,
             "ticks": ""
            },
            "colorscale": [
             [
              0,
              "#0d0887"
             ],
             [
              0.1111111111111111,
              "#46039f"
             ],
             [
              0.2222222222222222,
              "#7201a8"
             ],
             [
              0.3333333333333333,
              "#9c179e"
             ],
             [
              0.4444444444444444,
              "#bd3786"
             ],
             [
              0.5555555555555556,
              "#d8576b"
             ],
             [
              0.6666666666666666,
              "#ed7953"
             ],
             [
              0.7777777777777778,
              "#fb9f3a"
             ],
             [
              0.8888888888888888,
              "#fdca26"
             ],
             [
              1,
              "#f0f921"
             ]
            ],
            "type": "contour"
           }
          ],
          "contourcarpet": [
           {
            "colorbar": {
             "outlinewidth": 0,
             "ticks": ""
            },
            "type": "contourcarpet"
           }
          ],
          "heatmap": [
           {
            "colorbar": {
             "outlinewidth": 0,
             "ticks": ""
            },
            "colorscale": [
             [
              0,
              "#0d0887"
             ],
             [
              0.1111111111111111,
              "#46039f"
             ],
             [
              0.2222222222222222,
              "#7201a8"
             ],
             [
              0.3333333333333333,
              "#9c179e"
             ],
             [
              0.4444444444444444,
              "#bd3786"
             ],
             [
              0.5555555555555556,
              "#d8576b"
             ],
             [
              0.6666666666666666,
              "#ed7953"
             ],
             [
              0.7777777777777778,
              "#fb9f3a"
             ],
             [
              0.8888888888888888,
              "#fdca26"
             ],
             [
              1,
              "#f0f921"
             ]
            ],
            "type": "heatmap"
           }
          ],
          "heatmapgl": [
           {
            "colorbar": {
             "outlinewidth": 0,
             "ticks": ""
            },
            "colorscale": [
             [
              0,
              "#0d0887"
             ],
             [
              0.1111111111111111,
              "#46039f"
             ],
             [
              0.2222222222222222,
              "#7201a8"
             ],
             [
              0.3333333333333333,
              "#9c179e"
             ],
             [
              0.4444444444444444,
              "#bd3786"
             ],
             [
              0.5555555555555556,
              "#d8576b"
             ],
             [
              0.6666666666666666,
              "#ed7953"
             ],
             [
              0.7777777777777778,
              "#fb9f3a"
             ],
             [
              0.8888888888888888,
              "#fdca26"
             ],
             [
              1,
              "#f0f921"
             ]
            ],
            "type": "heatmapgl"
           }
          ],
          "histogram": [
           {
            "marker": {
             "pattern": {
              "fillmode": "overlay",
              "size": 10,
              "solidity": 0.2
             }
            },
            "type": "histogram"
           }
          ],
          "histogram2d": [
           {
            "colorbar": {
             "outlinewidth": 0,
             "ticks": ""
            },
            "colorscale": [
             [
              0,
              "#0d0887"
             ],
             [
              0.1111111111111111,
              "#46039f"
             ],
             [
              0.2222222222222222,
              "#7201a8"
             ],
             [
              0.3333333333333333,
              "#9c179e"
             ],
             [
              0.4444444444444444,
              "#bd3786"
             ],
             [
              0.5555555555555556,
              "#d8576b"
             ],
             [
              0.6666666666666666,
              "#ed7953"
             ],
             [
              0.7777777777777778,
              "#fb9f3a"
             ],
             [
              0.8888888888888888,
              "#fdca26"
             ],
             [
              1,
              "#f0f921"
             ]
            ],
            "type": "histogram2d"
           }
          ],
          "histogram2dcontour": [
           {
            "colorbar": {
             "outlinewidth": 0,
             "ticks": ""
            },
            "colorscale": [
             [
              0,
              "#0d0887"
             ],
             [
              0.1111111111111111,
              "#46039f"
             ],
             [
              0.2222222222222222,
              "#7201a8"
             ],
             [
              0.3333333333333333,
              "#9c179e"
             ],
             [
              0.4444444444444444,
              "#bd3786"
             ],
             [
              0.5555555555555556,
              "#d8576b"
             ],
             [
              0.6666666666666666,
              "#ed7953"
             ],
             [
              0.7777777777777778,
              "#fb9f3a"
             ],
             [
              0.8888888888888888,
              "#fdca26"
             ],
             [
              1,
              "#f0f921"
             ]
            ],
            "type": "histogram2dcontour"
           }
          ],
          "mesh3d": [
           {
            "colorbar": {
             "outlinewidth": 0,
             "ticks": ""
            },
            "type": "mesh3d"
           }
          ],
          "parcoords": [
           {
            "line": {
             "colorbar": {
              "outlinewidth": 0,
              "ticks": ""
             }
            },
            "type": "parcoords"
           }
          ],
          "pie": [
           {
            "automargin": true,
            "type": "pie"
           }
          ],
          "scatter": [
           {
            "fillpattern": {
             "fillmode": "overlay",
             "size": 10,
             "solidity": 0.2
            },
            "type": "scatter"
           }
          ],
          "scatter3d": [
           {
            "line": {
             "colorbar": {
              "outlinewidth": 0,
              "ticks": ""
             }
            },
            "marker": {
             "colorbar": {
              "outlinewidth": 0,
              "ticks": ""
             }
            },
            "type": "scatter3d"
           }
          ],
          "scattercarpet": [
           {
            "marker": {
             "colorbar": {
              "outlinewidth": 0,
              "ticks": ""
             }
            },
            "type": "scattercarpet"
           }
          ],
          "scattergeo": [
           {
            "marker": {
             "colorbar": {
              "outlinewidth": 0,
              "ticks": ""
             }
            },
            "type": "scattergeo"
           }
          ],
          "scattergl": [
           {
            "marker": {
             "colorbar": {
              "outlinewidth": 0,
              "ticks": ""
             }
            },
            "type": "scattergl"
           }
          ],
          "scattermapbox": [
           {
            "marker": {
             "colorbar": {
              "outlinewidth": 0,
              "ticks": ""
             }
            },
            "type": "scattermapbox"
           }
          ],
          "scatterpolar": [
           {
            "marker": {
             "colorbar": {
              "outlinewidth": 0,
              "ticks": ""
             }
            },
            "type": "scatterpolar"
           }
          ],
          "scatterpolargl": [
           {
            "marker": {
             "colorbar": {
              "outlinewidth": 0,
              "ticks": ""
             }
            },
            "type": "scatterpolargl"
           }
          ],
          "scatterternary": [
           {
            "marker": {
             "colorbar": {
              "outlinewidth": 0,
              "ticks": ""
             }
            },
            "type": "scatterternary"
           }
          ],
          "surface": [
           {
            "colorbar": {
             "outlinewidth": 0,
             "ticks": ""
            },
            "colorscale": [
             [
              0,
              "#0d0887"
             ],
             [
              0.1111111111111111,
              "#46039f"
             ],
             [
              0.2222222222222222,
              "#7201a8"
             ],
             [
              0.3333333333333333,
              "#9c179e"
             ],
             [
              0.4444444444444444,
              "#bd3786"
             ],
             [
              0.5555555555555556,
              "#d8576b"
             ],
             [
              0.6666666666666666,
              "#ed7953"
             ],
             [
              0.7777777777777778,
              "#fb9f3a"
             ],
             [
              0.8888888888888888,
              "#fdca26"
             ],
             [
              1,
              "#f0f921"
             ]
            ],
            "type": "surface"
           }
          ],
          "table": [
           {
            "cells": {
             "fill": {
              "color": "#EBF0F8"
             },
             "line": {
              "color": "white"
             }
            },
            "header": {
             "fill": {
              "color": "#C8D4E3"
             },
             "line": {
              "color": "white"
             }
            },
            "type": "table"
           }
          ]
         },
         "layout": {
          "annotationdefaults": {
           "arrowcolor": "#2a3f5f",
           "arrowhead": 0,
           "arrowwidth": 1
          },
          "autotypenumbers": "strict",
          "coloraxis": {
           "colorbar": {
            "outlinewidth": 0,
            "ticks": ""
           }
          },
          "colorscale": {
           "diverging": [
            [
             0,
             "#8e0152"
            ],
            [
             0.1,
             "#c51b7d"
            ],
            [
             0.2,
             "#de77ae"
            ],
            [
             0.3,
             "#f1b6da"
            ],
            [
             0.4,
             "#fde0ef"
            ],
            [
             0.5,
             "#f7f7f7"
            ],
            [
             0.6,
             "#e6f5d0"
            ],
            [
             0.7,
             "#b8e186"
            ],
            [
             0.8,
             "#7fbc41"
            ],
            [
             0.9,
             "#4d9221"
            ],
            [
             1,
             "#276419"
            ]
           ],
           "sequential": [
            [
             0,
             "#0d0887"
            ],
            [
             0.1111111111111111,
             "#46039f"
            ],
            [
             0.2222222222222222,
             "#7201a8"
            ],
            [
             0.3333333333333333,
             "#9c179e"
            ],
            [
             0.4444444444444444,
             "#bd3786"
            ],
            [
             0.5555555555555556,
             "#d8576b"
            ],
            [
             0.6666666666666666,
             "#ed7953"
            ],
            [
             0.7777777777777778,
             "#fb9f3a"
            ],
            [
             0.8888888888888888,
             "#fdca26"
            ],
            [
             1,
             "#f0f921"
            ]
           ],
           "sequentialminus": [
            [
             0,
             "#0d0887"
            ],
            [
             0.1111111111111111,
             "#46039f"
            ],
            [
             0.2222222222222222,
             "#7201a8"
            ],
            [
             0.3333333333333333,
             "#9c179e"
            ],
            [
             0.4444444444444444,
             "#bd3786"
            ],
            [
             0.5555555555555556,
             "#d8576b"
            ],
            [
             0.6666666666666666,
             "#ed7953"
            ],
            [
             0.7777777777777778,
             "#fb9f3a"
            ],
            [
             0.8888888888888888,
             "#fdca26"
            ],
            [
             1,
             "#f0f921"
            ]
           ]
          },
          "colorway": [
           "#636efa",
           "#EF553B",
           "#00cc96",
           "#ab63fa",
           "#FFA15A",
           "#19d3f3",
           "#FF6692",
           "#B6E880",
           "#FF97FF",
           "#FECB52"
          ],
          "font": {
           "color": "#2a3f5f"
          },
          "geo": {
           "bgcolor": "white",
           "lakecolor": "white",
           "landcolor": "#E5ECF6",
           "showlakes": true,
           "showland": true,
           "subunitcolor": "white"
          },
          "hoverlabel": {
           "align": "left"
          },
          "hovermode": "closest",
          "mapbox": {
           "style": "light"
          },
          "paper_bgcolor": "white",
          "plot_bgcolor": "#E5ECF6",
          "polar": {
           "angularaxis": {
            "gridcolor": "white",
            "linecolor": "white",
            "ticks": ""
           },
           "bgcolor": "#E5ECF6",
           "radialaxis": {
            "gridcolor": "white",
            "linecolor": "white",
            "ticks": ""
           }
          },
          "scene": {
           "xaxis": {
            "backgroundcolor": "#E5ECF6",
            "gridcolor": "white",
            "gridwidth": 2,
            "linecolor": "white",
            "showbackground": true,
            "ticks": "",
            "zerolinecolor": "white"
           },
           "yaxis": {
            "backgroundcolor": "#E5ECF6",
            "gridcolor": "white",
            "gridwidth": 2,
            "linecolor": "white",
            "showbackground": true,
            "ticks": "",
            "zerolinecolor": "white"
           },
           "zaxis": {
            "backgroundcolor": "#E5ECF6",
            "gridcolor": "white",
            "gridwidth": 2,
            "linecolor": "white",
            "showbackground": true,
            "ticks": "",
            "zerolinecolor": "white"
           }
          },
          "shapedefaults": {
           "line": {
            "color": "#2a3f5f"
           }
          },
          "ternary": {
           "aaxis": {
            "gridcolor": "white",
            "linecolor": "white",
            "ticks": ""
           },
           "baxis": {
            "gridcolor": "white",
            "linecolor": "white",
            "ticks": ""
           },
           "bgcolor": "#E5ECF6",
           "caxis": {
            "gridcolor": "white",
            "linecolor": "white",
            "ticks": ""
           }
          },
          "title": {
           "x": 0.05
          },
          "xaxis": {
           "automargin": true,
           "gridcolor": "white",
           "linecolor": "white",
           "ticks": "",
           "title": {
            "standoff": 15
           },
           "zerolinecolor": "white",
           "zerolinewidth": 2
          },
          "yaxis": {
           "automargin": true,
           "gridcolor": "white",
           "linecolor": "white",
           "ticks": "",
           "title": {
            "standoff": 15
           },
           "zerolinecolor": "white",
           "zerolinewidth": 2
          }
         }
        },
        "title": {
         "text": "sae acts"
        },
        "xaxis": {
         "showticklabels": false,
         "title": {
          "text": "sae_feat (22)"
         }
        },
        "yaxis": {
         "autorange": "reversed",
         "showticklabels": false,
         "title": {
          "text": "batch (50)"
         }
        }
       }
      }
     },
     "metadata": {},
     "output_type": "display_data"
    },
    {
     "data": {
      "application/vnd.plotly.v1+json": {
       "config": {
        "plotlyServerURL": "https://plot.ly"
       },
       "data": [
        {
         "colorscale": [
          [
           0,
           "#440154"
          ],
          [
           0.1111111111111111,
           "#482878"
          ],
          [
           0.2222222222222222,
           "#3e4989"
          ],
          [
           0.3333333333333333,
           "#31688e"
          ],
          [
           0.4444444444444444,
           "#26828e"
          ],
          [
           0.5555555555555556,
           "#1f9e89"
          ],
          [
           0.6666666666666666,
           "#35b779"
          ],
          [
           0.7777777777777778,
           "#6ece58"
          ],
          [
           0.8888888888888888,
           "#b5de2b"
          ],
          [
           1,
           "#fde725"
          ]
         ],
         "hoverinfo": "text",
         "text": [
          [
           "batch: 0<br>true_feat: 0<br>val: 0<br>",
           "batch: 0<br>true_feat: 1<br>val: 0<br>",
           "batch: 0<br>true_feat: 2<br>val: 0<br>",
           "batch: 0<br>true_feat: 3<br>val: 0<br>",
           "batch: 0<br>true_feat: 4<br>val: 0<br>",
           "batch: 0<br>true_feat: 5<br>val: 0<br>",
           "batch: 0<br>true_feat: 6<br>val: 0<br>",
           "batch: 0<br>true_feat: 7<br>val: 0<br>",
           "batch: 0<br>true_feat: 8<br>val: 1.4<br>",
           "batch: 0<br>true_feat: 9<br>val: 0<br>",
           "batch: 0<br>true_feat: 10<br>val: 0<br>",
           "batch: 0<br>true_feat: 11<br>val: 0<br>",
           "batch: 0<br>true_feat: 12<br>val: 0<br>",
           "batch: 0<br>true_feat: 13<br>val: 0<br>",
           "batch: 0<br>true_feat: 14<br>val: 0<br>",
           "batch: 0<br>true_feat: 15<br>val: 0<br>",
           "batch: 0<br>true_feat: 16<br>val: 0<br>",
           "batch: 0<br>true_feat: 17<br>val: 0<br>",
           "batch: 0<br>true_feat: 18<br>val: 0<br>",
           "batch: 0<br>true_feat: 19<br>val: 0<br>",
           "batch: 0<br>true_feat: 20<br>val: 0<br>",
           "batch: 0<br>true_feat: 21<br>val: 0<br>"
          ],
          [
           "batch: 1<br>true_feat: 0<br>val: 0<br>",
           "batch: 1<br>true_feat: 1<br>val: 0<br>",
           "batch: 1<br>true_feat: 2<br>val: 0<br>",
           "batch: 1<br>true_feat: 3<br>val: 0<br>",
           "batch: 1<br>true_feat: 4<br>val: 0<br>",
           "batch: 1<br>true_feat: 5<br>val: 0<br>",
           "batch: 1<br>true_feat: 6<br>val: 0<br>",
           "batch: 1<br>true_feat: 7<br>val: 0<br>",
           "batch: 1<br>true_feat: 8<br>val: 0<br>",
           "batch: 1<br>true_feat: 9<br>val: 0<br>",
           "batch: 1<br>true_feat: 10<br>val: 0<br>",
           "batch: 1<br>true_feat: 11<br>val: 0<br>",
           "batch: 1<br>true_feat: 12<br>val: 0<br>",
           "batch: 1<br>true_feat: 13<br>val: 0<br>",
           "batch: 1<br>true_feat: 14<br>val: 1.3<br>",
           "batch: 1<br>true_feat: 15<br>val: 0<br>",
           "batch: 1<br>true_feat: 16<br>val: 0<br>",
           "batch: 1<br>true_feat: 17<br>val: 1.9<br>",
           "batch: 1<br>true_feat: 18<br>val: 0<br>",
           "batch: 1<br>true_feat: 19<br>val: 0<br>",
           "batch: 1<br>true_feat: 20<br>val: 0<br>",
           "batch: 1<br>true_feat: 21<br>val: 0<br>"
          ],
          [
           "batch: 2<br>true_feat: 0<br>val: 0<br>",
           "batch: 2<br>true_feat: 1<br>val: 0<br>",
           "batch: 2<br>true_feat: 2<br>val: 0<br>",
           "batch: 2<br>true_feat: 3<br>val: 0<br>",
           "batch: 2<br>true_feat: 4<br>val: 0<br>",
           "batch: 2<br>true_feat: 5<br>val: 0<br>",
           "batch: 2<br>true_feat: 6<br>val: 0<br>",
           "batch: 2<br>true_feat: 7<br>val: 0<br>",
           "batch: 2<br>true_feat: 8<br>val: 0<br>",
           "batch: 2<br>true_feat: 9<br>val: 0<br>",
           "batch: 2<br>true_feat: 10<br>val: 0<br>",
           "batch: 2<br>true_feat: 11<br>val: 0<br>",
           "batch: 2<br>true_feat: 12<br>val: 0<br>",
           "batch: 2<br>true_feat: 13<br>val: 0<br>",
           "batch: 2<br>true_feat: 14<br>val: 0<br>",
           "batch: 2<br>true_feat: 15<br>val: 0<br>",
           "batch: 2<br>true_feat: 16<br>val: 0<br>",
           "batch: 2<br>true_feat: 17<br>val: 0<br>",
           "batch: 2<br>true_feat: 18<br>val: 1.2<br>",
           "batch: 2<br>true_feat: 19<br>val: 0<br>",
           "batch: 2<br>true_feat: 20<br>val: 0<br>",
           "batch: 2<br>true_feat: 21<br>val: 1.7<br>"
          ],
          [
           "batch: 3<br>true_feat: 0<br>val: 0<br>",
           "batch: 3<br>true_feat: 1<br>val: 0<br>",
           "batch: 3<br>true_feat: 2<br>val: 0<br>",
           "batch: 3<br>true_feat: 3<br>val: 0<br>",
           "batch: 3<br>true_feat: 4<br>val: 2<br>",
           "batch: 3<br>true_feat: 5<br>val: 0<br>",
           "batch: 3<br>true_feat: 6<br>val: 0<br>",
           "batch: 3<br>true_feat: 7<br>val: 0<br>",
           "batch: 3<br>true_feat: 8<br>val: 0<br>",
           "batch: 3<br>true_feat: 9<br>val: 0<br>",
           "batch: 3<br>true_feat: 10<br>val: 0<br>",
           "batch: 3<br>true_feat: 11<br>val: 0<br>",
           "batch: 3<br>true_feat: 12<br>val: 0<br>",
           "batch: 3<br>true_feat: 13<br>val: 2<br>",
           "batch: 3<br>true_feat: 14<br>val: 0<br>",
           "batch: 3<br>true_feat: 15<br>val: 0<br>",
           "batch: 3<br>true_feat: 16<br>val: 0<br>",
           "batch: 3<br>true_feat: 17<br>val: 0<br>",
           "batch: 3<br>true_feat: 18<br>val: 0<br>",
           "batch: 3<br>true_feat: 19<br>val: 0<br>",
           "batch: 3<br>true_feat: 20<br>val: 0<br>",
           "batch: 3<br>true_feat: 21<br>val: 0<br>"
          ],
          [
           "batch: 4<br>true_feat: 0<br>val: 1.8<br>",
           "batch: 4<br>true_feat: 1<br>val: 0<br>",
           "batch: 4<br>true_feat: 2<br>val: 0<br>",
           "batch: 4<br>true_feat: 3<br>val: 1.3<br>",
           "batch: 4<br>true_feat: 4<br>val: 0<br>",
           "batch: 4<br>true_feat: 5<br>val: 0<br>",
           "batch: 4<br>true_feat: 6<br>val: 0<br>",
           "batch: 4<br>true_feat: 7<br>val: 0<br>",
           "batch: 4<br>true_feat: 8<br>val: 0<br>",
           "batch: 4<br>true_feat: 9<br>val: 0<br>",
           "batch: 4<br>true_feat: 10<br>val: 0<br>",
           "batch: 4<br>true_feat: 11<br>val: 0<br>",
           "batch: 4<br>true_feat: 12<br>val: 0<br>",
           "batch: 4<br>true_feat: 13<br>val: 0<br>",
           "batch: 4<br>true_feat: 14<br>val: 0<br>",
           "batch: 4<br>true_feat: 15<br>val: 0<br>",
           "batch: 4<br>true_feat: 16<br>val: 0<br>",
           "batch: 4<br>true_feat: 17<br>val: 0<br>",
           "batch: 4<br>true_feat: 18<br>val: 0<br>",
           "batch: 4<br>true_feat: 19<br>val: 0<br>",
           "batch: 4<br>true_feat: 20<br>val: 0<br>",
           "batch: 4<br>true_feat: 21<br>val: 0<br>"
          ],
          [
           "batch: 5<br>true_feat: 0<br>val: 0<br>",
           "batch: 5<br>true_feat: 1<br>val: 0<br>",
           "batch: 5<br>true_feat: 2<br>val: 0<br>",
           "batch: 5<br>true_feat: 3<br>val: 0<br>",
           "batch: 5<br>true_feat: 4<br>val: 2<br>",
           "batch: 5<br>true_feat: 5<br>val: 0<br>",
           "batch: 5<br>true_feat: 6<br>val: 0<br>",
           "batch: 5<br>true_feat: 7<br>val: 0<br>",
           "batch: 5<br>true_feat: 8<br>val: 0<br>",
           "batch: 5<br>true_feat: 9<br>val: 0<br>",
           "batch: 5<br>true_feat: 10<br>val: 0<br>",
           "batch: 5<br>true_feat: 11<br>val: 0<br>",
           "batch: 5<br>true_feat: 12<br>val: 0<br>",
           "batch: 5<br>true_feat: 13<br>val: 0<br>",
           "batch: 5<br>true_feat: 14<br>val: 0<br>",
           "batch: 5<br>true_feat: 15<br>val: 0<br>",
           "batch: 5<br>true_feat: 16<br>val: 0<br>",
           "batch: 5<br>true_feat: 17<br>val: 0<br>",
           "batch: 5<br>true_feat: 18<br>val: 0<br>",
           "batch: 5<br>true_feat: 19<br>val: 0<br>",
           "batch: 5<br>true_feat: 20<br>val: 0<br>",
           "batch: 5<br>true_feat: 21<br>val: 0<br>"
          ],
          [
           "batch: 6<br>true_feat: 0<br>val: 0<br>",
           "batch: 6<br>true_feat: 1<br>val: 0<br>",
           "batch: 6<br>true_feat: 2<br>val: 0<br>",
           "batch: 6<br>true_feat: 3<br>val: 0<br>",
           "batch: 6<br>true_feat: 4<br>val: 0<br>",
           "batch: 6<br>true_feat: 5<br>val: 0<br>",
           "batch: 6<br>true_feat: 6<br>val: 0<br>",
           "batch: 6<br>true_feat: 7<br>val: 0<br>",
           "batch: 6<br>true_feat: 8<br>val: 0<br>",
           "batch: 6<br>true_feat: 9<br>val: 0<br>",
           "batch: 6<br>true_feat: 10<br>val: 0<br>",
           "batch: 6<br>true_feat: 11<br>val: 0<br>",
           "batch: 6<br>true_feat: 12<br>val: 0<br>",
           "batch: 6<br>true_feat: 13<br>val: 2<br>",
           "batch: 6<br>true_feat: 14<br>val: 0<br>",
           "batch: 6<br>true_feat: 15<br>val: 0<br>",
           "batch: 6<br>true_feat: 16<br>val: 0<br>",
           "batch: 6<br>true_feat: 17<br>val: 0<br>",
           "batch: 6<br>true_feat: 18<br>val: 0<br>",
           "batch: 6<br>true_feat: 19<br>val: 0<br>",
           "batch: 6<br>true_feat: 20<br>val: 0<br>",
           "batch: 6<br>true_feat: 21<br>val: 0<br>"
          ],
          [
           "batch: 7<br>true_feat: 0<br>val: 0<br>",
           "batch: 7<br>true_feat: 1<br>val: 0<br>",
           "batch: 7<br>true_feat: 2<br>val: 0<br>",
           "batch: 7<br>true_feat: 3<br>val: 0<br>",
           "batch: 7<br>true_feat: 4<br>val: 0<br>",
           "batch: 7<br>true_feat: 5<br>val: 0<br>",
           "batch: 7<br>true_feat: 6<br>val: 0<br>",
           "batch: 7<br>true_feat: 7<br>val: 0<br>",
           "batch: 7<br>true_feat: 8<br>val: 0<br>",
           "batch: 7<br>true_feat: 9<br>val: 0<br>",
           "batch: 7<br>true_feat: 10<br>val: 0<br>",
           "batch: 7<br>true_feat: 11<br>val: 0<br>",
           "batch: 7<br>true_feat: 12<br>val: 0<br>",
           "batch: 7<br>true_feat: 13<br>val: 0<br>",
           "batch: 7<br>true_feat: 14<br>val: 0<br>",
           "batch: 7<br>true_feat: 15<br>val: 0<br>",
           "batch: 7<br>true_feat: 16<br>val: 0<br>",
           "batch: 7<br>true_feat: 17<br>val: 0<br>",
           "batch: 7<br>true_feat: 18<br>val: 0<br>",
           "batch: 7<br>true_feat: 19<br>val: 0<br>",
           "batch: 7<br>true_feat: 20<br>val: 0<br>",
           "batch: 7<br>true_feat: 21<br>val: 0<br>"
          ],
          [
           "batch: 8<br>true_feat: 0<br>val: 0<br>",
           "batch: 8<br>true_feat: 1<br>val: 0<br>",
           "batch: 8<br>true_feat: 2<br>val: 0<br>",
           "batch: 8<br>true_feat: 3<br>val: 0<br>",
           "batch: 8<br>true_feat: 4<br>val: 0<br>",
           "batch: 8<br>true_feat: 5<br>val: 0<br>",
           "batch: 8<br>true_feat: 6<br>val: 0<br>",
           "batch: 8<br>true_feat: 7<br>val: 0<br>",
           "batch: 8<br>true_feat: 8<br>val: 0<br>",
           "batch: 8<br>true_feat: 9<br>val: 0<br>",
           "batch: 8<br>true_feat: 10<br>val: 0<br>",
           "batch: 8<br>true_feat: 11<br>val: 0<br>",
           "batch: 8<br>true_feat: 12<br>val: 1.4<br>",
           "batch: 8<br>true_feat: 13<br>val: 0<br>",
           "batch: 8<br>true_feat: 14<br>val: 1.3<br>",
           "batch: 8<br>true_feat: 15<br>val: 0<br>",
           "batch: 8<br>true_feat: 16<br>val: 0<br>",
           "batch: 8<br>true_feat: 17<br>val: 0<br>",
           "batch: 8<br>true_feat: 18<br>val: 0<br>",
           "batch: 8<br>true_feat: 19<br>val: 0<br>",
           "batch: 8<br>true_feat: 20<br>val: 0<br>",
           "batch: 8<br>true_feat: 21<br>val: 0<br>"
          ],
          [
           "batch: 9<br>true_feat: 0<br>val: 1.8<br>",
           "batch: 9<br>true_feat: 1<br>val: 0<br>",
           "batch: 9<br>true_feat: 2<br>val: 1.7<br>",
           "batch: 9<br>true_feat: 3<br>val: 0<br>",
           "batch: 9<br>true_feat: 4<br>val: 0<br>",
           "batch: 9<br>true_feat: 5<br>val: 0<br>",
           "batch: 9<br>true_feat: 6<br>val: 0<br>",
           "batch: 9<br>true_feat: 7<br>val: 0<br>",
           "batch: 9<br>true_feat: 8<br>val: 0<br>",
           "batch: 9<br>true_feat: 9<br>val: 0<br>",
           "batch: 9<br>true_feat: 10<br>val: 0<br>",
           "batch: 9<br>true_feat: 11<br>val: 0<br>",
           "batch: 9<br>true_feat: 12<br>val: 0<br>",
           "batch: 9<br>true_feat: 13<br>val: 0<br>",
           "batch: 9<br>true_feat: 14<br>val: 0<br>",
           "batch: 9<br>true_feat: 15<br>val: 0<br>",
           "batch: 9<br>true_feat: 16<br>val: 0<br>",
           "batch: 9<br>true_feat: 17<br>val: 0<br>",
           "batch: 9<br>true_feat: 18<br>val: 0<br>",
           "batch: 9<br>true_feat: 19<br>val: 0<br>",
           "batch: 9<br>true_feat: 20<br>val: 0<br>",
           "batch: 9<br>true_feat: 21<br>val: 0<br>"
          ],
          [
           "batch: 10<br>true_feat: 0<br>val: 0<br>",
           "batch: 10<br>true_feat: 1<br>val: 0<br>",
           "batch: 10<br>true_feat: 2<br>val: 0<br>",
           "batch: 10<br>true_feat: 3<br>val: 0<br>",
           "batch: 10<br>true_feat: 4<br>val: 2<br>",
           "batch: 10<br>true_feat: 5<br>val: 1.9<br>",
           "batch: 10<br>true_feat: 6<br>val: 0<br>",
           "batch: 10<br>true_feat: 7<br>val: 0<br>",
           "batch: 10<br>true_feat: 8<br>val: 0<br>",
           "batch: 10<br>true_feat: 9<br>val: 0<br>",
           "batch: 10<br>true_feat: 10<br>val: 0<br>",
           "batch: 10<br>true_feat: 11<br>val: 0<br>",
           "batch: 10<br>true_feat: 12<br>val: 0<br>",
           "batch: 10<br>true_feat: 13<br>val: 2<br>",
           "batch: 10<br>true_feat: 14<br>val: 0<br>",
           "batch: 10<br>true_feat: 15<br>val: 1.3<br>",
           "batch: 10<br>true_feat: 16<br>val: 0<br>",
           "batch: 10<br>true_feat: 17<br>val: 0<br>",
           "batch: 10<br>true_feat: 18<br>val: 0<br>",
           "batch: 10<br>true_feat: 19<br>val: 0<br>",
           "batch: 10<br>true_feat: 20<br>val: 0<br>",
           "batch: 10<br>true_feat: 21<br>val: 0<br>"
          ],
          [
           "batch: 11<br>true_feat: 0<br>val: 0<br>",
           "batch: 11<br>true_feat: 1<br>val: 0<br>",
           "batch: 11<br>true_feat: 2<br>val: 0<br>",
           "batch: 11<br>true_feat: 3<br>val: 0<br>",
           "batch: 11<br>true_feat: 4<br>val: 0<br>",
           "batch: 11<br>true_feat: 5<br>val: 0<br>",
           "batch: 11<br>true_feat: 6<br>val: 0<br>",
           "batch: 11<br>true_feat: 7<br>val: 0<br>",
           "batch: 11<br>true_feat: 8<br>val: 0<br>",
           "batch: 11<br>true_feat: 9<br>val: 0<br>",
           "batch: 11<br>true_feat: 10<br>val: 0<br>",
           "batch: 11<br>true_feat: 11<br>val: 0<br>",
           "batch: 11<br>true_feat: 12<br>val: 0<br>",
           "batch: 11<br>true_feat: 13<br>val: 0<br>",
           "batch: 11<br>true_feat: 14<br>val: 0<br>",
           "batch: 11<br>true_feat: 15<br>val: 0<br>",
           "batch: 11<br>true_feat: 16<br>val: 0<br>",
           "batch: 11<br>true_feat: 17<br>val: 0<br>",
           "batch: 11<br>true_feat: 18<br>val: 0<br>",
           "batch: 11<br>true_feat: 19<br>val: 0<br>",
           "batch: 11<br>true_feat: 20<br>val: 1.1<br>",
           "batch: 11<br>true_feat: 21<br>val: 0<br>"
          ],
          [
           "batch: 12<br>true_feat: 0<br>val: 0<br>",
           "batch: 12<br>true_feat: 1<br>val: 0<br>",
           "batch: 12<br>true_feat: 2<br>val: 0<br>",
           "batch: 12<br>true_feat: 3<br>val: 0<br>",
           "batch: 12<br>true_feat: 4<br>val: 2<br>",
           "batch: 12<br>true_feat: 5<br>val: 0<br>",
           "batch: 12<br>true_feat: 6<br>val: 0<br>",
           "batch: 12<br>true_feat: 7<br>val: 0<br>",
           "batch: 12<br>true_feat: 8<br>val: 0<br>",
           "batch: 12<br>true_feat: 9<br>val: 0<br>",
           "batch: 12<br>true_feat: 10<br>val: 0<br>",
           "batch: 12<br>true_feat: 11<br>val: 0<br>",
           "batch: 12<br>true_feat: 12<br>val: 0<br>",
           "batch: 12<br>true_feat: 13<br>val: 0<br>",
           "batch: 12<br>true_feat: 14<br>val: 0<br>",
           "batch: 12<br>true_feat: 15<br>val: 0<br>",
           "batch: 12<br>true_feat: 16<br>val: 0<br>",
           "batch: 12<br>true_feat: 17<br>val: 1.9<br>",
           "batch: 12<br>true_feat: 18<br>val: 0<br>",
           "batch: 12<br>true_feat: 19<br>val: 0<br>",
           "batch: 12<br>true_feat: 20<br>val: 0<br>",
           "batch: 12<br>true_feat: 21<br>val: 0<br>"
          ],
          [
           "batch: 13<br>true_feat: 0<br>val: 0<br>",
           "batch: 13<br>true_feat: 1<br>val: 0<br>",
           "batch: 13<br>true_feat: 2<br>val: 0<br>",
           "batch: 13<br>true_feat: 3<br>val: 0<br>",
           "batch: 13<br>true_feat: 4<br>val: 2<br>",
           "batch: 13<br>true_feat: 5<br>val: 0<br>",
           "batch: 13<br>true_feat: 6<br>val: 0<br>",
           "batch: 13<br>true_feat: 7<br>val: 0<br>",
           "batch: 13<br>true_feat: 8<br>val: 0<br>",
           "batch: 13<br>true_feat: 9<br>val: 0<br>",
           "batch: 13<br>true_feat: 10<br>val: 0<br>",
           "batch: 13<br>true_feat: 11<br>val: 0<br>",
           "batch: 13<br>true_feat: 12<br>val: 0<br>",
           "batch: 13<br>true_feat: 13<br>val: 0<br>",
           "batch: 13<br>true_feat: 14<br>val: 0<br>",
           "batch: 13<br>true_feat: 15<br>val: 0<br>",
           "batch: 13<br>true_feat: 16<br>val: 0<br>",
           "batch: 13<br>true_feat: 17<br>val: 0<br>",
           "batch: 13<br>true_feat: 18<br>val: 0<br>",
           "batch: 13<br>true_feat: 19<br>val: 0<br>",
           "batch: 13<br>true_feat: 20<br>val: 0<br>",
           "batch: 13<br>true_feat: 21<br>val: 0<br>"
          ],
          [
           "batch: 14<br>true_feat: 0<br>val: 1.8<br>",
           "batch: 14<br>true_feat: 1<br>val: 0<br>",
           "batch: 14<br>true_feat: 2<br>val: 0<br>",
           "batch: 14<br>true_feat: 3<br>val: 0<br>",
           "batch: 14<br>true_feat: 4<br>val: 0<br>",
           "batch: 14<br>true_feat: 5<br>val: 0<br>",
           "batch: 14<br>true_feat: 6<br>val: 0<br>",
           "batch: 14<br>true_feat: 7<br>val: 0<br>",
           "batch: 14<br>true_feat: 8<br>val: 0<br>",
           "batch: 14<br>true_feat: 9<br>val: 0<br>",
           "batch: 14<br>true_feat: 10<br>val: 0<br>",
           "batch: 14<br>true_feat: 11<br>val: 0<br>",
           "batch: 14<br>true_feat: 12<br>val: 0<br>",
           "batch: 14<br>true_feat: 13<br>val: 0<br>",
           "batch: 14<br>true_feat: 14<br>val: 0<br>",
           "batch: 14<br>true_feat: 15<br>val: 0<br>",
           "batch: 14<br>true_feat: 16<br>val: 0<br>",
           "batch: 14<br>true_feat: 17<br>val: 0<br>",
           "batch: 14<br>true_feat: 18<br>val: 0<br>",
           "batch: 14<br>true_feat: 19<br>val: 0<br>",
           "batch: 14<br>true_feat: 20<br>val: 0<br>",
           "batch: 14<br>true_feat: 21<br>val: 0<br>"
          ],
          [
           "batch: 15<br>true_feat: 0<br>val: 0<br>",
           "batch: 15<br>true_feat: 1<br>val: 0<br>",
           "batch: 15<br>true_feat: 2<br>val: 0<br>",
           "batch: 15<br>true_feat: 3<br>val: 0<br>",
           "batch: 15<br>true_feat: 4<br>val: 0<br>",
           "batch: 15<br>true_feat: 5<br>val: 0<br>",
           "batch: 15<br>true_feat: 6<br>val: 0<br>",
           "batch: 15<br>true_feat: 7<br>val: 0<br>",
           "batch: 15<br>true_feat: 8<br>val: 1.4<br>",
           "batch: 15<br>true_feat: 9<br>val: 1.5<br>",
           "batch: 15<br>true_feat: 10<br>val: 0<br>",
           "batch: 15<br>true_feat: 11<br>val: 0<br>",
           "batch: 15<br>true_feat: 12<br>val: 0<br>",
           "batch: 15<br>true_feat: 13<br>val: 0<br>",
           "batch: 15<br>true_feat: 14<br>val: 0<br>",
           "batch: 15<br>true_feat: 15<br>val: 0<br>",
           "batch: 15<br>true_feat: 16<br>val: 0<br>",
           "batch: 15<br>true_feat: 17<br>val: 0<br>",
           "batch: 15<br>true_feat: 18<br>val: 0<br>",
           "batch: 15<br>true_feat: 19<br>val: 0<br>",
           "batch: 15<br>true_feat: 20<br>val: 0<br>",
           "batch: 15<br>true_feat: 21<br>val: 0<br>"
          ],
          [
           "batch: 16<br>true_feat: 0<br>val: 0<br>",
           "batch: 16<br>true_feat: 1<br>val: 0<br>",
           "batch: 16<br>true_feat: 2<br>val: 0<br>",
           "batch: 16<br>true_feat: 3<br>val: 0<br>",
           "batch: 16<br>true_feat: 4<br>val: 0<br>",
           "batch: 16<br>true_feat: 5<br>val: 0<br>",
           "batch: 16<br>true_feat: 6<br>val: 0<br>",
           "batch: 16<br>true_feat: 7<br>val: 0<br>",
           "batch: 16<br>true_feat: 8<br>val: 0<br>",
           "batch: 16<br>true_feat: 9<br>val: 0<br>",
           "batch: 16<br>true_feat: 10<br>val: 0<br>",
           "batch: 16<br>true_feat: 11<br>val: 0<br>",
           "batch: 16<br>true_feat: 12<br>val: 0<br>",
           "batch: 16<br>true_feat: 13<br>val: 0<br>",
           "batch: 16<br>true_feat: 14<br>val: 0<br>",
           "batch: 16<br>true_feat: 15<br>val: 0<br>",
           "batch: 16<br>true_feat: 16<br>val: 0<br>",
           "batch: 16<br>true_feat: 17<br>val: 0<br>",
           "batch: 16<br>true_feat: 18<br>val: 0<br>",
           "batch: 16<br>true_feat: 19<br>val: 0<br>",
           "batch: 16<br>true_feat: 20<br>val: 0<br>",
           "batch: 16<br>true_feat: 21<br>val: 0<br>"
          ],
          [
           "batch: 17<br>true_feat: 0<br>val: 0<br>",
           "batch: 17<br>true_feat: 1<br>val: 0<br>",
           "batch: 17<br>true_feat: 2<br>val: 0<br>",
           "batch: 17<br>true_feat: 3<br>val: 0<br>",
           "batch: 17<br>true_feat: 4<br>val: 0<br>",
           "batch: 17<br>true_feat: 5<br>val: 0<br>",
           "batch: 17<br>true_feat: 6<br>val: 0<br>",
           "batch: 17<br>true_feat: 7<br>val: 0<br>",
           "batch: 17<br>true_feat: 8<br>val: 0<br>",
           "batch: 17<br>true_feat: 9<br>val: 0<br>",
           "batch: 17<br>true_feat: 10<br>val: 0<br>",
           "batch: 17<br>true_feat: 11<br>val: 0<br>",
           "batch: 17<br>true_feat: 12<br>val: 0<br>",
           "batch: 17<br>true_feat: 13<br>val: 0<br>",
           "batch: 17<br>true_feat: 14<br>val: 0<br>",
           "batch: 17<br>true_feat: 15<br>val: 0<br>",
           "batch: 17<br>true_feat: 16<br>val: 0<br>",
           "batch: 17<br>true_feat: 17<br>val: 0<br>",
           "batch: 17<br>true_feat: 18<br>val: 0<br>",
           "batch: 17<br>true_feat: 19<br>val: 0<br>",
           "batch: 17<br>true_feat: 20<br>val: 0<br>",
           "batch: 17<br>true_feat: 21<br>val: 0<br>"
          ],
          [
           "batch: 18<br>true_feat: 0<br>val: 0<br>",
           "batch: 18<br>true_feat: 1<br>val: 0<br>",
           "batch: 18<br>true_feat: 2<br>val: 0<br>",
           "batch: 18<br>true_feat: 3<br>val: 0<br>",
           "batch: 18<br>true_feat: 4<br>val: 0<br>",
           "batch: 18<br>true_feat: 5<br>val: 0<br>",
           "batch: 18<br>true_feat: 6<br>val: 0<br>",
           "batch: 18<br>true_feat: 7<br>val: 0<br>",
           "batch: 18<br>true_feat: 8<br>val: 0<br>",
           "batch: 18<br>true_feat: 9<br>val: 0<br>",
           "batch: 18<br>true_feat: 10<br>val: 0<br>",
           "batch: 18<br>true_feat: 11<br>val: 0<br>",
           "batch: 18<br>true_feat: 12<br>val: 0<br>",
           "batch: 18<br>true_feat: 13<br>val: 0<br>",
           "batch: 18<br>true_feat: 14<br>val: 0<br>",
           "batch: 18<br>true_feat: 15<br>val: 0<br>",
           "batch: 18<br>true_feat: 16<br>val: 1.2<br>",
           "batch: 18<br>true_feat: 17<br>val: 0<br>",
           "batch: 18<br>true_feat: 18<br>val: 0<br>",
           "batch: 18<br>true_feat: 19<br>val: 0<br>",
           "batch: 18<br>true_feat: 20<br>val: 0<br>",
           "batch: 18<br>true_feat: 21<br>val: 0<br>"
          ],
          [
           "batch: 19<br>true_feat: 0<br>val: 0<br>",
           "batch: 19<br>true_feat: 1<br>val: 0<br>",
           "batch: 19<br>true_feat: 2<br>val: 0<br>",
           "batch: 19<br>true_feat: 3<br>val: 0<br>",
           "batch: 19<br>true_feat: 4<br>val: 0<br>",
           "batch: 19<br>true_feat: 5<br>val: 0<br>",
           "batch: 19<br>true_feat: 6<br>val: 0<br>",
           "batch: 19<br>true_feat: 7<br>val: 0<br>",
           "batch: 19<br>true_feat: 8<br>val: 0<br>",
           "batch: 19<br>true_feat: 9<br>val: 0<br>",
           "batch: 19<br>true_feat: 10<br>val: 0<br>",
           "batch: 19<br>true_feat: 11<br>val: 0<br>",
           "batch: 19<br>true_feat: 12<br>val: 0<br>",
           "batch: 19<br>true_feat: 13<br>val: 0<br>",
           "batch: 19<br>true_feat: 14<br>val: 0<br>",
           "batch: 19<br>true_feat: 15<br>val: 0<br>",
           "batch: 19<br>true_feat: 16<br>val: 0<br>",
           "batch: 19<br>true_feat: 17<br>val: 0<br>",
           "batch: 19<br>true_feat: 18<br>val: 0<br>",
           "batch: 19<br>true_feat: 19<br>val: 0<br>",
           "batch: 19<br>true_feat: 20<br>val: 0<br>",
           "batch: 19<br>true_feat: 21<br>val: 0<br>"
          ],
          [
           "batch: 20<br>true_feat: 0<br>val: 0<br>",
           "batch: 20<br>true_feat: 1<br>val: 0<br>",
           "batch: 20<br>true_feat: 2<br>val: 0<br>",
           "batch: 20<br>true_feat: 3<br>val: 0<br>",
           "batch: 20<br>true_feat: 4<br>val: 0<br>",
           "batch: 20<br>true_feat: 5<br>val: 0<br>",
           "batch: 20<br>true_feat: 6<br>val: 0<br>",
           "batch: 20<br>true_feat: 7<br>val: 0<br>",
           "batch: 20<br>true_feat: 8<br>val: 0<br>",
           "batch: 20<br>true_feat: 9<br>val: 0<br>",
           "batch: 20<br>true_feat: 10<br>val: 0<br>",
           "batch: 20<br>true_feat: 11<br>val: 0<br>",
           "batch: 20<br>true_feat: 12<br>val: 0<br>",
           "batch: 20<br>true_feat: 13<br>val: 0<br>",
           "batch: 20<br>true_feat: 14<br>val: 0<br>",
           "batch: 20<br>true_feat: 15<br>val: 0<br>",
           "batch: 20<br>true_feat: 16<br>val: 0<br>",
           "batch: 20<br>true_feat: 17<br>val: 0<br>",
           "batch: 20<br>true_feat: 18<br>val: 0<br>",
           "batch: 20<br>true_feat: 19<br>val: 0<br>",
           "batch: 20<br>true_feat: 20<br>val: 1.1<br>",
           "batch: 20<br>true_feat: 21<br>val: 0<br>"
          ],
          [
           "batch: 21<br>true_feat: 0<br>val: 0<br>",
           "batch: 21<br>true_feat: 1<br>val: 0<br>",
           "batch: 21<br>true_feat: 2<br>val: 0<br>",
           "batch: 21<br>true_feat: 3<br>val: 0<br>",
           "batch: 21<br>true_feat: 4<br>val: 0<br>",
           "batch: 21<br>true_feat: 5<br>val: 0<br>",
           "batch: 21<br>true_feat: 6<br>val: 0<br>",
           "batch: 21<br>true_feat: 7<br>val: 0<br>",
           "batch: 21<br>true_feat: 8<br>val: 0<br>",
           "batch: 21<br>true_feat: 9<br>val: 0<br>",
           "batch: 21<br>true_feat: 10<br>val: 0<br>",
           "batch: 21<br>true_feat: 11<br>val: 0<br>",
           "batch: 21<br>true_feat: 12<br>val: 0<br>",
           "batch: 21<br>true_feat: 13<br>val: 0<br>",
           "batch: 21<br>true_feat: 14<br>val: 0<br>",
           "batch: 21<br>true_feat: 15<br>val: 0<br>",
           "batch: 21<br>true_feat: 16<br>val: 0<br>",
           "batch: 21<br>true_feat: 17<br>val: 0<br>",
           "batch: 21<br>true_feat: 18<br>val: 0<br>",
           "batch: 21<br>true_feat: 19<br>val: 0<br>",
           "batch: 21<br>true_feat: 20<br>val: 0<br>",
           "batch: 21<br>true_feat: 21<br>val: 0<br>"
          ],
          [
           "batch: 22<br>true_feat: 0<br>val: 1.8<br>",
           "batch: 22<br>true_feat: 1<br>val: 0<br>",
           "batch: 22<br>true_feat: 2<br>val: 0<br>",
           "batch: 22<br>true_feat: 3<br>val: 0<br>",
           "batch: 22<br>true_feat: 4<br>val: 0<br>",
           "batch: 22<br>true_feat: 5<br>val: 0<br>",
           "batch: 22<br>true_feat: 6<br>val: 0<br>",
           "batch: 22<br>true_feat: 7<br>val: 0<br>",
           "batch: 22<br>true_feat: 8<br>val: 0<br>",
           "batch: 22<br>true_feat: 9<br>val: 0<br>",
           "batch: 22<br>true_feat: 10<br>val: 0<br>",
           "batch: 22<br>true_feat: 11<br>val: 0<br>",
           "batch: 22<br>true_feat: 12<br>val: 0<br>",
           "batch: 22<br>true_feat: 13<br>val: 0<br>",
           "batch: 22<br>true_feat: 14<br>val: 0<br>",
           "batch: 22<br>true_feat: 15<br>val: 0<br>",
           "batch: 22<br>true_feat: 16<br>val: 0<br>",
           "batch: 22<br>true_feat: 17<br>val: 0<br>",
           "batch: 22<br>true_feat: 18<br>val: 0<br>",
           "batch: 22<br>true_feat: 19<br>val: 0<br>",
           "batch: 22<br>true_feat: 20<br>val: 0<br>",
           "batch: 22<br>true_feat: 21<br>val: 0<br>"
          ],
          [
           "batch: 23<br>true_feat: 0<br>val: 0<br>",
           "batch: 23<br>true_feat: 1<br>val: 0<br>",
           "batch: 23<br>true_feat: 2<br>val: 0<br>",
           "batch: 23<br>true_feat: 3<br>val: 0<br>",
           "batch: 23<br>true_feat: 4<br>val: 0<br>",
           "batch: 23<br>true_feat: 5<br>val: 0<br>",
           "batch: 23<br>true_feat: 6<br>val: 0<br>",
           "batch: 23<br>true_feat: 7<br>val: 0<br>",
           "batch: 23<br>true_feat: 8<br>val: 1.4<br>",
           "batch: 23<br>true_feat: 9<br>val: 1.5<br>",
           "batch: 23<br>true_feat: 10<br>val: 0<br>",
           "batch: 23<br>true_feat: 11<br>val: 0<br>",
           "batch: 23<br>true_feat: 12<br>val: 0<br>",
           "batch: 23<br>true_feat: 13<br>val: 0<br>",
           "batch: 23<br>true_feat: 14<br>val: 1.3<br>",
           "batch: 23<br>true_feat: 15<br>val: 0<br>",
           "batch: 23<br>true_feat: 16<br>val: 0<br>",
           "batch: 23<br>true_feat: 17<br>val: 0<br>",
           "batch: 23<br>true_feat: 18<br>val: 0<br>",
           "batch: 23<br>true_feat: 19<br>val: 0<br>",
           "batch: 23<br>true_feat: 20<br>val: 0<br>",
           "batch: 23<br>true_feat: 21<br>val: 0<br>"
          ],
          [
           "batch: 24<br>true_feat: 0<br>val: 0<br>",
           "batch: 24<br>true_feat: 1<br>val: 0<br>",
           "batch: 24<br>true_feat: 2<br>val: 0<br>",
           "batch: 24<br>true_feat: 3<br>val: 0<br>",
           "batch: 24<br>true_feat: 4<br>val: 0<br>",
           "batch: 24<br>true_feat: 5<br>val: 0<br>",
           "batch: 24<br>true_feat: 6<br>val: 0<br>",
           "batch: 24<br>true_feat: 7<br>val: 0<br>",
           "batch: 24<br>true_feat: 8<br>val: 0<br>",
           "batch: 24<br>true_feat: 9<br>val: 0<br>",
           "batch: 24<br>true_feat: 10<br>val: 0<br>",
           "batch: 24<br>true_feat: 11<br>val: 0<br>",
           "batch: 24<br>true_feat: 12<br>val: 0<br>",
           "batch: 24<br>true_feat: 13<br>val: 0<br>",
           "batch: 24<br>true_feat: 14<br>val: 0<br>",
           "batch: 24<br>true_feat: 15<br>val: 0<br>",
           "batch: 24<br>true_feat: 16<br>val: 0<br>",
           "batch: 24<br>true_feat: 17<br>val: 0<br>",
           "batch: 24<br>true_feat: 18<br>val: 0<br>",
           "batch: 24<br>true_feat: 19<br>val: 0<br>",
           "batch: 24<br>true_feat: 20<br>val: 0<br>",
           "batch: 24<br>true_feat: 21<br>val: 0<br>"
          ],
          [
           "batch: 25<br>true_feat: 0<br>val: 0<br>",
           "batch: 25<br>true_feat: 1<br>val: 0<br>",
           "batch: 25<br>true_feat: 2<br>val: 0<br>",
           "batch: 25<br>true_feat: 3<br>val: 0<br>",
           "batch: 25<br>true_feat: 4<br>val: 0<br>",
           "batch: 25<br>true_feat: 5<br>val: 0<br>",
           "batch: 25<br>true_feat: 6<br>val: 0<br>",
           "batch: 25<br>true_feat: 7<br>val: 0<br>",
           "batch: 25<br>true_feat: 8<br>val: 1.4<br>",
           "batch: 25<br>true_feat: 9<br>val: 0<br>",
           "batch: 25<br>true_feat: 10<br>val: 0<br>",
           "batch: 25<br>true_feat: 11<br>val: 0<br>",
           "batch: 25<br>true_feat: 12<br>val: 0<br>",
           "batch: 25<br>true_feat: 13<br>val: 0<br>",
           "batch: 25<br>true_feat: 14<br>val: 0<br>",
           "batch: 25<br>true_feat: 15<br>val: 0<br>",
           "batch: 25<br>true_feat: 16<br>val: 0<br>",
           "batch: 25<br>true_feat: 17<br>val: 0<br>",
           "batch: 25<br>true_feat: 18<br>val: 0<br>",
           "batch: 25<br>true_feat: 19<br>val: 1.5<br>",
           "batch: 25<br>true_feat: 20<br>val: 0<br>",
           "batch: 25<br>true_feat: 21<br>val: 1.7<br>"
          ],
          [
           "batch: 26<br>true_feat: 0<br>val: 0<br>",
           "batch: 26<br>true_feat: 1<br>val: 0<br>",
           "batch: 26<br>true_feat: 2<br>val: 0<br>",
           "batch: 26<br>true_feat: 3<br>val: 0<br>",
           "batch: 26<br>true_feat: 4<br>val: 0<br>",
           "batch: 26<br>true_feat: 5<br>val: 0<br>",
           "batch: 26<br>true_feat: 6<br>val: 0<br>",
           "batch: 26<br>true_feat: 7<br>val: 0<br>",
           "batch: 26<br>true_feat: 8<br>val: 0<br>",
           "batch: 26<br>true_feat: 9<br>val: 0<br>",
           "batch: 26<br>true_feat: 10<br>val: 0<br>",
           "batch: 26<br>true_feat: 11<br>val: 0<br>",
           "batch: 26<br>true_feat: 12<br>val: 0<br>",
           "batch: 26<br>true_feat: 13<br>val: 0<br>",
           "batch: 26<br>true_feat: 14<br>val: 0<br>",
           "batch: 26<br>true_feat: 15<br>val: 0<br>",
           "batch: 26<br>true_feat: 16<br>val: 1.2<br>",
           "batch: 26<br>true_feat: 17<br>val: 0<br>",
           "batch: 26<br>true_feat: 18<br>val: 0<br>",
           "batch: 26<br>true_feat: 19<br>val: 0<br>",
           "batch: 26<br>true_feat: 20<br>val: 0<br>",
           "batch: 26<br>true_feat: 21<br>val: 0<br>"
          ],
          [
           "batch: 27<br>true_feat: 0<br>val: 1.8<br>",
           "batch: 27<br>true_feat: 1<br>val: 1.6<br>",
           "batch: 27<br>true_feat: 2<br>val: 0<br>",
           "batch: 27<br>true_feat: 3<br>val: 0<br>",
           "batch: 27<br>true_feat: 4<br>val: 0<br>",
           "batch: 27<br>true_feat: 5<br>val: 0<br>",
           "batch: 27<br>true_feat: 6<br>val: 0<br>",
           "batch: 27<br>true_feat: 7<br>val: 0<br>",
           "batch: 27<br>true_feat: 8<br>val: 0<br>",
           "batch: 27<br>true_feat: 9<br>val: 0<br>",
           "batch: 27<br>true_feat: 10<br>val: 0<br>",
           "batch: 27<br>true_feat: 11<br>val: 0<br>",
           "batch: 27<br>true_feat: 12<br>val: 0<br>",
           "batch: 27<br>true_feat: 13<br>val: 0<br>",
           "batch: 27<br>true_feat: 14<br>val: 0<br>",
           "batch: 27<br>true_feat: 15<br>val: 0<br>",
           "batch: 27<br>true_feat: 16<br>val: 0<br>",
           "batch: 27<br>true_feat: 17<br>val: 0<br>",
           "batch: 27<br>true_feat: 18<br>val: 0<br>",
           "batch: 27<br>true_feat: 19<br>val: 0<br>",
           "batch: 27<br>true_feat: 20<br>val: 0<br>",
           "batch: 27<br>true_feat: 21<br>val: 0<br>"
          ],
          [
           "batch: 28<br>true_feat: 0<br>val: 0<br>",
           "batch: 28<br>true_feat: 1<br>val: 0<br>",
           "batch: 28<br>true_feat: 2<br>val: 0<br>",
           "batch: 28<br>true_feat: 3<br>val: 0<br>",
           "batch: 28<br>true_feat: 4<br>val: 2<br>",
           "batch: 28<br>true_feat: 5<br>val: 0<br>",
           "batch: 28<br>true_feat: 6<br>val: 1.7<br>",
           "batch: 28<br>true_feat: 7<br>val: 0<br>",
           "batch: 28<br>true_feat: 8<br>val: 0<br>",
           "batch: 28<br>true_feat: 9<br>val: 0<br>",
           "batch: 28<br>true_feat: 10<br>val: 0<br>",
           "batch: 28<br>true_feat: 11<br>val: 0<br>",
           "batch: 28<br>true_feat: 12<br>val: 0<br>",
           "batch: 28<br>true_feat: 13<br>val: 2<br>",
           "batch: 28<br>true_feat: 14<br>val: 0<br>",
           "batch: 28<br>true_feat: 15<br>val: 0<br>",
           "batch: 28<br>true_feat: 16<br>val: 0<br>",
           "batch: 28<br>true_feat: 17<br>val: 0<br>",
           "batch: 28<br>true_feat: 18<br>val: 0<br>",
           "batch: 28<br>true_feat: 19<br>val: 0<br>",
           "batch: 28<br>true_feat: 20<br>val: 0<br>",
           "batch: 28<br>true_feat: 21<br>val: 0<br>"
          ],
          [
           "batch: 29<br>true_feat: 0<br>val: 1.8<br>",
           "batch: 29<br>true_feat: 1<br>val: 0<br>",
           "batch: 29<br>true_feat: 2<br>val: 0<br>",
           "batch: 29<br>true_feat: 3<br>val: 0<br>",
           "batch: 29<br>true_feat: 4<br>val: 0<br>",
           "batch: 29<br>true_feat: 5<br>val: 0<br>",
           "batch: 29<br>true_feat: 6<br>val: 0<br>",
           "batch: 29<br>true_feat: 7<br>val: 0<br>",
           "batch: 29<br>true_feat: 8<br>val: 0<br>",
           "batch: 29<br>true_feat: 9<br>val: 0<br>",
           "batch: 29<br>true_feat: 10<br>val: 0<br>",
           "batch: 29<br>true_feat: 11<br>val: 0<br>",
           "batch: 29<br>true_feat: 12<br>val: 0<br>",
           "batch: 29<br>true_feat: 13<br>val: 0<br>",
           "batch: 29<br>true_feat: 14<br>val: 0<br>",
           "batch: 29<br>true_feat: 15<br>val: 0<br>",
           "batch: 29<br>true_feat: 16<br>val: 0<br>",
           "batch: 29<br>true_feat: 17<br>val: 0<br>",
           "batch: 29<br>true_feat: 18<br>val: 0<br>",
           "batch: 29<br>true_feat: 19<br>val: 0<br>",
           "batch: 29<br>true_feat: 20<br>val: 0<br>",
           "batch: 29<br>true_feat: 21<br>val: 0<br>"
          ],
          [
           "batch: 30<br>true_feat: 0<br>val: 0<br>",
           "batch: 30<br>true_feat: 1<br>val: 0<br>",
           "batch: 30<br>true_feat: 2<br>val: 0<br>",
           "batch: 30<br>true_feat: 3<br>val: 0<br>",
           "batch: 30<br>true_feat: 4<br>val: 0<br>",
           "batch: 30<br>true_feat: 5<br>val: 0<br>",
           "batch: 30<br>true_feat: 6<br>val: 0<br>",
           "batch: 30<br>true_feat: 7<br>val: 0<br>",
           "batch: 30<br>true_feat: 8<br>val: 0<br>",
           "batch: 30<br>true_feat: 9<br>val: 0<br>",
           "batch: 30<br>true_feat: 10<br>val: 0<br>",
           "batch: 30<br>true_feat: 11<br>val: 0<br>",
           "batch: 30<br>true_feat: 12<br>val: 0<br>",
           "batch: 30<br>true_feat: 13<br>val: 0<br>",
           "batch: 30<br>true_feat: 14<br>val: 0<br>",
           "batch: 30<br>true_feat: 15<br>val: 0<br>",
           "batch: 30<br>true_feat: 16<br>val: 0<br>",
           "batch: 30<br>true_feat: 17<br>val: 0<br>",
           "batch: 30<br>true_feat: 18<br>val: 0<br>",
           "batch: 30<br>true_feat: 19<br>val: 0<br>",
           "batch: 30<br>true_feat: 20<br>val: 0<br>",
           "batch: 30<br>true_feat: 21<br>val: 0<br>"
          ],
          [
           "batch: 31<br>true_feat: 0<br>val: 0<br>",
           "batch: 31<br>true_feat: 1<br>val: 0<br>",
           "batch: 31<br>true_feat: 2<br>val: 0<br>",
           "batch: 31<br>true_feat: 3<br>val: 0<br>",
           "batch: 31<br>true_feat: 4<br>val: 0<br>",
           "batch: 31<br>true_feat: 5<br>val: 0<br>",
           "batch: 31<br>true_feat: 6<br>val: 0<br>",
           "batch: 31<br>true_feat: 7<br>val: 0<br>",
           "batch: 31<br>true_feat: 8<br>val: 0<br>",
           "batch: 31<br>true_feat: 9<br>val: 0<br>",
           "batch: 31<br>true_feat: 10<br>val: 0<br>",
           "batch: 31<br>true_feat: 11<br>val: 0<br>",
           "batch: 31<br>true_feat: 12<br>val: 0<br>",
           "batch: 31<br>true_feat: 13<br>val: 0<br>",
           "batch: 31<br>true_feat: 14<br>val: 0<br>",
           "batch: 31<br>true_feat: 15<br>val: 0<br>",
           "batch: 31<br>true_feat: 16<br>val: 0<br>",
           "batch: 31<br>true_feat: 17<br>val: 0<br>",
           "batch: 31<br>true_feat: 18<br>val: 0<br>",
           "batch: 31<br>true_feat: 19<br>val: 0<br>",
           "batch: 31<br>true_feat: 20<br>val: 0<br>",
           "batch: 31<br>true_feat: 21<br>val: 0<br>"
          ],
          [
           "batch: 32<br>true_feat: 0<br>val: 0<br>",
           "batch: 32<br>true_feat: 1<br>val: 0<br>",
           "batch: 32<br>true_feat: 2<br>val: 0<br>",
           "batch: 32<br>true_feat: 3<br>val: 0<br>",
           "batch: 32<br>true_feat: 4<br>val: 0<br>",
           "batch: 32<br>true_feat: 5<br>val: 0<br>",
           "batch: 32<br>true_feat: 6<br>val: 0<br>",
           "batch: 32<br>true_feat: 7<br>val: 0<br>",
           "batch: 32<br>true_feat: 8<br>val: 1.4<br>",
           "batch: 32<br>true_feat: 9<br>val: 0<br>",
           "batch: 32<br>true_feat: 10<br>val: 0<br>",
           "batch: 32<br>true_feat: 11<br>val: 0<br>",
           "batch: 32<br>true_feat: 12<br>val: 0<br>",
           "batch: 32<br>true_feat: 13<br>val: 0<br>",
           "batch: 32<br>true_feat: 14<br>val: 0<br>",
           "batch: 32<br>true_feat: 15<br>val: 1.3<br>",
           "batch: 32<br>true_feat: 16<br>val: 0<br>",
           "batch: 32<br>true_feat: 17<br>val: 0<br>",
           "batch: 32<br>true_feat: 18<br>val: 0<br>",
           "batch: 32<br>true_feat: 19<br>val: 0<br>",
           "batch: 32<br>true_feat: 20<br>val: 0<br>",
           "batch: 32<br>true_feat: 21<br>val: 0<br>"
          ],
          [
           "batch: 33<br>true_feat: 0<br>val: 1.8<br>",
           "batch: 33<br>true_feat: 1<br>val: 0<br>",
           "batch: 33<br>true_feat: 2<br>val: 0<br>",
           "batch: 33<br>true_feat: 3<br>val: 0<br>",
           "batch: 33<br>true_feat: 4<br>val: 0<br>",
           "batch: 33<br>true_feat: 5<br>val: 0<br>",
           "batch: 33<br>true_feat: 6<br>val: 0<br>",
           "batch: 33<br>true_feat: 7<br>val: 0<br>",
           "batch: 33<br>true_feat: 8<br>val: 0<br>",
           "batch: 33<br>true_feat: 9<br>val: 0<br>",
           "batch: 33<br>true_feat: 10<br>val: 0<br>",
           "batch: 33<br>true_feat: 11<br>val: 0<br>",
           "batch: 33<br>true_feat: 12<br>val: 1.4<br>",
           "batch: 33<br>true_feat: 13<br>val: 0<br>",
           "batch: 33<br>true_feat: 14<br>val: 0<br>",
           "batch: 33<br>true_feat: 15<br>val: 0<br>",
           "batch: 33<br>true_feat: 16<br>val: 0<br>",
           "batch: 33<br>true_feat: 17<br>val: 0<br>",
           "batch: 33<br>true_feat: 18<br>val: 0<br>",
           "batch: 33<br>true_feat: 19<br>val: 0<br>",
           "batch: 33<br>true_feat: 20<br>val: 0<br>",
           "batch: 33<br>true_feat: 21<br>val: 1.7<br>"
          ],
          [
           "batch: 34<br>true_feat: 0<br>val: 0<br>",
           "batch: 34<br>true_feat: 1<br>val: 0<br>",
           "batch: 34<br>true_feat: 2<br>val: 0<br>",
           "batch: 34<br>true_feat: 3<br>val: 0<br>",
           "batch: 34<br>true_feat: 4<br>val: 0<br>",
           "batch: 34<br>true_feat: 5<br>val: 0<br>",
           "batch: 34<br>true_feat: 6<br>val: 0<br>",
           "batch: 34<br>true_feat: 7<br>val: 0<br>",
           "batch: 34<br>true_feat: 8<br>val: 1.4<br>",
           "batch: 34<br>true_feat: 9<br>val: 0<br>",
           "batch: 34<br>true_feat: 10<br>val: 0.88<br>",
           "batch: 34<br>true_feat: 11<br>val: 0<br>",
           "batch: 34<br>true_feat: 12<br>val: 0<br>",
           "batch: 34<br>true_feat: 13<br>val: 0<br>",
           "batch: 34<br>true_feat: 14<br>val: 0<br>",
           "batch: 34<br>true_feat: 15<br>val: 0<br>",
           "batch: 34<br>true_feat: 16<br>val: 0<br>",
           "batch: 34<br>true_feat: 17<br>val: 0<br>",
           "batch: 34<br>true_feat: 18<br>val: 0<br>",
           "batch: 34<br>true_feat: 19<br>val: 0<br>",
           "batch: 34<br>true_feat: 20<br>val: 0<br>",
           "batch: 34<br>true_feat: 21<br>val: 0<br>"
          ],
          [
           "batch: 35<br>true_feat: 0<br>val: 0<br>",
           "batch: 35<br>true_feat: 1<br>val: 0<br>",
           "batch: 35<br>true_feat: 2<br>val: 0<br>",
           "batch: 35<br>true_feat: 3<br>val: 0<br>",
           "batch: 35<br>true_feat: 4<br>val: 0<br>",
           "batch: 35<br>true_feat: 5<br>val: 0<br>",
           "batch: 35<br>true_feat: 6<br>val: 0<br>",
           "batch: 35<br>true_feat: 7<br>val: 0<br>",
           "batch: 35<br>true_feat: 8<br>val: 1.4<br>",
           "batch: 35<br>true_feat: 9<br>val: 0<br>",
           "batch: 35<br>true_feat: 10<br>val: 0<br>",
           "batch: 35<br>true_feat: 11<br>val: 0<br>",
           "batch: 35<br>true_feat: 12<br>val: 0<br>",
           "batch: 35<br>true_feat: 13<br>val: 0<br>",
           "batch: 35<br>true_feat: 14<br>val: 0<br>",
           "batch: 35<br>true_feat: 15<br>val: 0<br>",
           "batch: 35<br>true_feat: 16<br>val: 0<br>",
           "batch: 35<br>true_feat: 17<br>val: 0<br>",
           "batch: 35<br>true_feat: 18<br>val: 0<br>",
           "batch: 35<br>true_feat: 19<br>val: 0<br>",
           "batch: 35<br>true_feat: 20<br>val: 0<br>",
           "batch: 35<br>true_feat: 21<br>val: 0<br>"
          ],
          [
           "batch: 36<br>true_feat: 0<br>val: 0<br>",
           "batch: 36<br>true_feat: 1<br>val: 0<br>",
           "batch: 36<br>true_feat: 2<br>val: 0<br>",
           "batch: 36<br>true_feat: 3<br>val: 0<br>",
           "batch: 36<br>true_feat: 4<br>val: 0<br>",
           "batch: 36<br>true_feat: 5<br>val: 0<br>",
           "batch: 36<br>true_feat: 6<br>val: 0<br>",
           "batch: 36<br>true_feat: 7<br>val: 0<br>",
           "batch: 36<br>true_feat: 8<br>val: 0<br>",
           "batch: 36<br>true_feat: 9<br>val: 0<br>",
           "batch: 36<br>true_feat: 10<br>val: 0<br>",
           "batch: 36<br>true_feat: 11<br>val: 0<br>",
           "batch: 36<br>true_feat: 12<br>val: 0<br>",
           "batch: 36<br>true_feat: 13<br>val: 0<br>",
           "batch: 36<br>true_feat: 14<br>val: 0<br>",
           "batch: 36<br>true_feat: 15<br>val: 0<br>",
           "batch: 36<br>true_feat: 16<br>val: 0<br>",
           "batch: 36<br>true_feat: 17<br>val: 0<br>",
           "batch: 36<br>true_feat: 18<br>val: 0<br>",
           "batch: 36<br>true_feat: 19<br>val: 1.5<br>",
           "batch: 36<br>true_feat: 20<br>val: 0<br>",
           "batch: 36<br>true_feat: 21<br>val: 0<br>"
          ],
          [
           "batch: 37<br>true_feat: 0<br>val: 0<br>",
           "batch: 37<br>true_feat: 1<br>val: 0<br>",
           "batch: 37<br>true_feat: 2<br>val: 0<br>",
           "batch: 37<br>true_feat: 3<br>val: 0<br>",
           "batch: 37<br>true_feat: 4<br>val: 0<br>",
           "batch: 37<br>true_feat: 5<br>val: 0<br>",
           "batch: 37<br>true_feat: 6<br>val: 0<br>",
           "batch: 37<br>true_feat: 7<br>val: 0<br>",
           "batch: 37<br>true_feat: 8<br>val: 0<br>",
           "batch: 37<br>true_feat: 9<br>val: 0<br>",
           "batch: 37<br>true_feat: 10<br>val: 0<br>",
           "batch: 37<br>true_feat: 11<br>val: 0<br>",
           "batch: 37<br>true_feat: 12<br>val: 0<br>",
           "batch: 37<br>true_feat: 13<br>val: 0<br>",
           "batch: 37<br>true_feat: 14<br>val: 0<br>",
           "batch: 37<br>true_feat: 15<br>val: 0<br>",
           "batch: 37<br>true_feat: 16<br>val: 0<br>",
           "batch: 37<br>true_feat: 17<br>val: 0<br>",
           "batch: 37<br>true_feat: 18<br>val: 0<br>",
           "batch: 37<br>true_feat: 19<br>val: 0<br>",
           "batch: 37<br>true_feat: 20<br>val: 0<br>",
           "batch: 37<br>true_feat: 21<br>val: 0<br>"
          ],
          [
           "batch: 38<br>true_feat: 0<br>val: 0<br>",
           "batch: 38<br>true_feat: 1<br>val: 0<br>",
           "batch: 38<br>true_feat: 2<br>val: 0<br>",
           "batch: 38<br>true_feat: 3<br>val: 0<br>",
           "batch: 38<br>true_feat: 4<br>val: 0<br>",
           "batch: 38<br>true_feat: 5<br>val: 0<br>",
           "batch: 38<br>true_feat: 6<br>val: 0<br>",
           "batch: 38<br>true_feat: 7<br>val: 0<br>",
           "batch: 38<br>true_feat: 8<br>val: 0<br>",
           "batch: 38<br>true_feat: 9<br>val: 0<br>",
           "batch: 38<br>true_feat: 10<br>val: 0<br>",
           "batch: 38<br>true_feat: 11<br>val: 0<br>",
           "batch: 38<br>true_feat: 12<br>val: 0<br>",
           "batch: 38<br>true_feat: 13<br>val: 0<br>",
           "batch: 38<br>true_feat: 14<br>val: 0<br>",
           "batch: 38<br>true_feat: 15<br>val: 0<br>",
           "batch: 38<br>true_feat: 16<br>val: 0<br>",
           "batch: 38<br>true_feat: 17<br>val: 1.9<br>",
           "batch: 38<br>true_feat: 18<br>val: 0<br>",
           "batch: 38<br>true_feat: 19<br>val: 0<br>",
           "batch: 38<br>true_feat: 20<br>val: 0<br>",
           "batch: 38<br>true_feat: 21<br>val: 0<br>"
          ],
          [
           "batch: 39<br>true_feat: 0<br>val: 0<br>",
           "batch: 39<br>true_feat: 1<br>val: 0<br>",
           "batch: 39<br>true_feat: 2<br>val: 0<br>",
           "batch: 39<br>true_feat: 3<br>val: 0<br>",
           "batch: 39<br>true_feat: 4<br>val: 0<br>",
           "batch: 39<br>true_feat: 5<br>val: 0<br>",
           "batch: 39<br>true_feat: 6<br>val: 0<br>",
           "batch: 39<br>true_feat: 7<br>val: 0<br>",
           "batch: 39<br>true_feat: 8<br>val: 0<br>",
           "batch: 39<br>true_feat: 9<br>val: 0<br>",
           "batch: 39<br>true_feat: 10<br>val: 0<br>",
           "batch: 39<br>true_feat: 11<br>val: 0<br>",
           "batch: 39<br>true_feat: 12<br>val: 0<br>",
           "batch: 39<br>true_feat: 13<br>val: 0<br>",
           "batch: 39<br>true_feat: 14<br>val: 0<br>",
           "batch: 39<br>true_feat: 15<br>val: 0<br>",
           "batch: 39<br>true_feat: 16<br>val: 0<br>",
           "batch: 39<br>true_feat: 17<br>val: 0<br>",
           "batch: 39<br>true_feat: 18<br>val: 0<br>",
           "batch: 39<br>true_feat: 19<br>val: 0<br>",
           "batch: 39<br>true_feat: 20<br>val: 0<br>",
           "batch: 39<br>true_feat: 21<br>val: 0<br>"
          ],
          [
           "batch: 40<br>true_feat: 0<br>val: 0<br>",
           "batch: 40<br>true_feat: 1<br>val: 0<br>",
           "batch: 40<br>true_feat: 2<br>val: 0<br>",
           "batch: 40<br>true_feat: 3<br>val: 0<br>",
           "batch: 40<br>true_feat: 4<br>val: 0<br>",
           "batch: 40<br>true_feat: 5<br>val: 0<br>",
           "batch: 40<br>true_feat: 6<br>val: 0<br>",
           "batch: 40<br>true_feat: 7<br>val: 0<br>",
           "batch: 40<br>true_feat: 8<br>val: 0<br>",
           "batch: 40<br>true_feat: 9<br>val: 0<br>",
           "batch: 40<br>true_feat: 10<br>val: 0<br>",
           "batch: 40<br>true_feat: 11<br>val: 0<br>",
           "batch: 40<br>true_feat: 12<br>val: 0<br>",
           "batch: 40<br>true_feat: 13<br>val: 0<br>",
           "batch: 40<br>true_feat: 14<br>val: 0<br>",
           "batch: 40<br>true_feat: 15<br>val: 0<br>",
           "batch: 40<br>true_feat: 16<br>val: 0<br>",
           "batch: 40<br>true_feat: 17<br>val: 0<br>",
           "batch: 40<br>true_feat: 18<br>val: 0<br>",
           "batch: 40<br>true_feat: 19<br>val: 0<br>",
           "batch: 40<br>true_feat: 20<br>val: 0<br>",
           "batch: 40<br>true_feat: 21<br>val: 0<br>"
          ],
          [
           "batch: 41<br>true_feat: 0<br>val: 0<br>",
           "batch: 41<br>true_feat: 1<br>val: 0<br>",
           "batch: 41<br>true_feat: 2<br>val: 0<br>",
           "batch: 41<br>true_feat: 3<br>val: 0<br>",
           "batch: 41<br>true_feat: 4<br>val: 0<br>",
           "batch: 41<br>true_feat: 5<br>val: 0<br>",
           "batch: 41<br>true_feat: 6<br>val: 0<br>",
           "batch: 41<br>true_feat: 7<br>val: 0<br>",
           "batch: 41<br>true_feat: 8<br>val: 0<br>",
           "batch: 41<br>true_feat: 9<br>val: 0<br>",
           "batch: 41<br>true_feat: 10<br>val: 0<br>",
           "batch: 41<br>true_feat: 11<br>val: 0<br>",
           "batch: 41<br>true_feat: 12<br>val: 0<br>",
           "batch: 41<br>true_feat: 13<br>val: 0<br>",
           "batch: 41<br>true_feat: 14<br>val: 0<br>",
           "batch: 41<br>true_feat: 15<br>val: 0<br>",
           "batch: 41<br>true_feat: 16<br>val: 0<br>",
           "batch: 41<br>true_feat: 17<br>val: 0<br>",
           "batch: 41<br>true_feat: 18<br>val: 0<br>",
           "batch: 41<br>true_feat: 19<br>val: 0<br>",
           "batch: 41<br>true_feat: 20<br>val: 0<br>",
           "batch: 41<br>true_feat: 21<br>val: 0<br>"
          ],
          [
           "batch: 42<br>true_feat: 0<br>val: 1.8<br>",
           "batch: 42<br>true_feat: 1<br>val: 0<br>",
           "batch: 42<br>true_feat: 2<br>val: 0<br>",
           "batch: 42<br>true_feat: 3<br>val: 1.3<br>",
           "batch: 42<br>true_feat: 4<br>val: 0<br>",
           "batch: 42<br>true_feat: 5<br>val: 0<br>",
           "batch: 42<br>true_feat: 6<br>val: 0<br>",
           "batch: 42<br>true_feat: 7<br>val: 0<br>",
           "batch: 42<br>true_feat: 8<br>val: 0<br>",
           "batch: 42<br>true_feat: 9<br>val: 0<br>",
           "batch: 42<br>true_feat: 10<br>val: 0<br>",
           "batch: 42<br>true_feat: 11<br>val: 0<br>",
           "batch: 42<br>true_feat: 12<br>val: 0<br>",
           "batch: 42<br>true_feat: 13<br>val: 0<br>",
           "batch: 42<br>true_feat: 14<br>val: 0<br>",
           "batch: 42<br>true_feat: 15<br>val: 0<br>",
           "batch: 42<br>true_feat: 16<br>val: 0<br>",
           "batch: 42<br>true_feat: 17<br>val: 1.9<br>",
           "batch: 42<br>true_feat: 18<br>val: 0<br>",
           "batch: 42<br>true_feat: 19<br>val: 0<br>",
           "batch: 42<br>true_feat: 20<br>val: 0<br>",
           "batch: 42<br>true_feat: 21<br>val: 0<br>"
          ],
          [
           "batch: 43<br>true_feat: 0<br>val: 1.8<br>",
           "batch: 43<br>true_feat: 1<br>val: 0<br>",
           "batch: 43<br>true_feat: 2<br>val: 0<br>",
           "batch: 43<br>true_feat: 3<br>val: 0<br>",
           "batch: 43<br>true_feat: 4<br>val: 2<br>",
           "batch: 43<br>true_feat: 5<br>val: 1.9<br>",
           "batch: 43<br>true_feat: 6<br>val: 0<br>",
           "batch: 43<br>true_feat: 7<br>val: 0<br>",
           "batch: 43<br>true_feat: 8<br>val: 0<br>",
           "batch: 43<br>true_feat: 9<br>val: 0<br>",
           "batch: 43<br>true_feat: 10<br>val: 0<br>",
           "batch: 43<br>true_feat: 11<br>val: 0<br>",
           "batch: 43<br>true_feat: 12<br>val: 0<br>",
           "batch: 43<br>true_feat: 13<br>val: 0<br>",
           "batch: 43<br>true_feat: 14<br>val: 0<br>",
           "batch: 43<br>true_feat: 15<br>val: 0<br>",
           "batch: 43<br>true_feat: 16<br>val: 0<br>",
           "batch: 43<br>true_feat: 17<br>val: 0<br>",
           "batch: 43<br>true_feat: 18<br>val: 0<br>",
           "batch: 43<br>true_feat: 19<br>val: 0<br>",
           "batch: 43<br>true_feat: 20<br>val: 0<br>",
           "batch: 43<br>true_feat: 21<br>val: 0<br>"
          ],
          [
           "batch: 44<br>true_feat: 0<br>val: 0<br>",
           "batch: 44<br>true_feat: 1<br>val: 0<br>",
           "batch: 44<br>true_feat: 2<br>val: 0<br>",
           "batch: 44<br>true_feat: 3<br>val: 0<br>",
           "batch: 44<br>true_feat: 4<br>val: 0<br>",
           "batch: 44<br>true_feat: 5<br>val: 0<br>",
           "batch: 44<br>true_feat: 6<br>val: 0<br>",
           "batch: 44<br>true_feat: 7<br>val: 0<br>",
           "batch: 44<br>true_feat: 8<br>val: 0<br>",
           "batch: 44<br>true_feat: 9<br>val: 0<br>",
           "batch: 44<br>true_feat: 10<br>val: 0<br>",
           "batch: 44<br>true_feat: 11<br>val: 0<br>",
           "batch: 44<br>true_feat: 12<br>val: 0<br>",
           "batch: 44<br>true_feat: 13<br>val: 0<br>",
           "batch: 44<br>true_feat: 14<br>val: 0<br>",
           "batch: 44<br>true_feat: 15<br>val: 0<br>",
           "batch: 44<br>true_feat: 16<br>val: 0<br>",
           "batch: 44<br>true_feat: 17<br>val: 0<br>",
           "batch: 44<br>true_feat: 18<br>val: 0<br>",
           "batch: 44<br>true_feat: 19<br>val: 0<br>",
           "batch: 44<br>true_feat: 20<br>val: 0<br>",
           "batch: 44<br>true_feat: 21<br>val: 0<br>"
          ],
          [
           "batch: 45<br>true_feat: 0<br>val: 0<br>",
           "batch: 45<br>true_feat: 1<br>val: 0<br>",
           "batch: 45<br>true_feat: 2<br>val: 0<br>",
           "batch: 45<br>true_feat: 3<br>val: 0<br>",
           "batch: 45<br>true_feat: 4<br>val: 0<br>",
           "batch: 45<br>true_feat: 5<br>val: 0<br>",
           "batch: 45<br>true_feat: 6<br>val: 0<br>",
           "batch: 45<br>true_feat: 7<br>val: 0<br>",
           "batch: 45<br>true_feat: 8<br>val: 0<br>",
           "batch: 45<br>true_feat: 9<br>val: 0<br>",
           "batch: 45<br>true_feat: 10<br>val: 0<br>",
           "batch: 45<br>true_feat: 11<br>val: 0<br>",
           "batch: 45<br>true_feat: 12<br>val: 0<br>",
           "batch: 45<br>true_feat: 13<br>val: 0<br>",
           "batch: 45<br>true_feat: 14<br>val: 0<br>",
           "batch: 45<br>true_feat: 15<br>val: 0<br>",
           "batch: 45<br>true_feat: 16<br>val: 0<br>",
           "batch: 45<br>true_feat: 17<br>val: 0<br>",
           "batch: 45<br>true_feat: 18<br>val: 0<br>",
           "batch: 45<br>true_feat: 19<br>val: 1.5<br>",
           "batch: 45<br>true_feat: 20<br>val: 0<br>",
           "batch: 45<br>true_feat: 21<br>val: 0<br>"
          ],
          [
           "batch: 46<br>true_feat: 0<br>val: 1.8<br>",
           "batch: 46<br>true_feat: 1<br>val: 0<br>",
           "batch: 46<br>true_feat: 2<br>val: 0<br>",
           "batch: 46<br>true_feat: 3<br>val: 0<br>",
           "batch: 46<br>true_feat: 4<br>val: 0<br>",
           "batch: 46<br>true_feat: 5<br>val: 0<br>",
           "batch: 46<br>true_feat: 6<br>val: 0<br>",
           "batch: 46<br>true_feat: 7<br>val: 0<br>",
           "batch: 46<br>true_feat: 8<br>val: 0<br>",
           "batch: 46<br>true_feat: 9<br>val: 0<br>",
           "batch: 46<br>true_feat: 10<br>val: 0<br>",
           "batch: 46<br>true_feat: 11<br>val: 0<br>",
           "batch: 46<br>true_feat: 12<br>val: 0<br>",
           "batch: 46<br>true_feat: 13<br>val: 0<br>",
           "batch: 46<br>true_feat: 14<br>val: 0<br>",
           "batch: 46<br>true_feat: 15<br>val: 0<br>",
           "batch: 46<br>true_feat: 16<br>val: 0<br>",
           "batch: 46<br>true_feat: 17<br>val: 0<br>",
           "batch: 46<br>true_feat: 18<br>val: 0<br>",
           "batch: 46<br>true_feat: 19<br>val: 0<br>",
           "batch: 46<br>true_feat: 20<br>val: 0<br>",
           "batch: 46<br>true_feat: 21<br>val: 0<br>"
          ],
          [
           "batch: 47<br>true_feat: 0<br>val: 0<br>",
           "batch: 47<br>true_feat: 1<br>val: 0<br>",
           "batch: 47<br>true_feat: 2<br>val: 0<br>",
           "batch: 47<br>true_feat: 3<br>val: 0<br>",
           "batch: 47<br>true_feat: 4<br>val: 0<br>",
           "batch: 47<br>true_feat: 5<br>val: 0<br>",
           "batch: 47<br>true_feat: 6<br>val: 0<br>",
           "batch: 47<br>true_feat: 7<br>val: 0<br>",
           "batch: 47<br>true_feat: 8<br>val: 0<br>",
           "batch: 47<br>true_feat: 9<br>val: 0<br>",
           "batch: 47<br>true_feat: 10<br>val: 0<br>",
           "batch: 47<br>true_feat: 11<br>val: 0<br>",
           "batch: 47<br>true_feat: 12<br>val: 0<br>",
           "batch: 47<br>true_feat: 13<br>val: 0<br>",
           "batch: 47<br>true_feat: 14<br>val: 0<br>",
           "batch: 47<br>true_feat: 15<br>val: 0<br>",
           "batch: 47<br>true_feat: 16<br>val: 0<br>",
           "batch: 47<br>true_feat: 17<br>val: 0<br>",
           "batch: 47<br>true_feat: 18<br>val: 0<br>",
           "batch: 47<br>true_feat: 19<br>val: 0<br>",
           "batch: 47<br>true_feat: 20<br>val: 1.1<br>",
           "batch: 47<br>true_feat: 21<br>val: 0<br>"
          ],
          [
           "batch: 48<br>true_feat: 0<br>val: 0<br>",
           "batch: 48<br>true_feat: 1<br>val: 0<br>",
           "batch: 48<br>true_feat: 2<br>val: 0<br>",
           "batch: 48<br>true_feat: 3<br>val: 0<br>",
           "batch: 48<br>true_feat: 4<br>val: 0<br>",
           "batch: 48<br>true_feat: 5<br>val: 0<br>",
           "batch: 48<br>true_feat: 6<br>val: 0<br>",
           "batch: 48<br>true_feat: 7<br>val: 0<br>",
           "batch: 48<br>true_feat: 8<br>val: 0<br>",
           "batch: 48<br>true_feat: 9<br>val: 0<br>",
           "batch: 48<br>true_feat: 10<br>val: 0<br>",
           "batch: 48<br>true_feat: 11<br>val: 0<br>",
           "batch: 48<br>true_feat: 12<br>val: 0<br>",
           "batch: 48<br>true_feat: 13<br>val: 0<br>",
           "batch: 48<br>true_feat: 14<br>val: 0<br>",
           "batch: 48<br>true_feat: 15<br>val: 0<br>",
           "batch: 48<br>true_feat: 16<br>val: 0<br>",
           "batch: 48<br>true_feat: 17<br>val: 0<br>",
           "batch: 48<br>true_feat: 18<br>val: 0<br>",
           "batch: 48<br>true_feat: 19<br>val: 0<br>",
           "batch: 48<br>true_feat: 20<br>val: 0<br>",
           "batch: 48<br>true_feat: 21<br>val: 0<br>"
          ],
          [
           "batch: 49<br>true_feat: 0<br>val: 1.8<br>",
           "batch: 49<br>true_feat: 1<br>val: 0<br>",
           "batch: 49<br>true_feat: 2<br>val: 0<br>",
           "batch: 49<br>true_feat: 3<br>val: 1.3<br>",
           "batch: 49<br>true_feat: 4<br>val: 0<br>",
           "batch: 49<br>true_feat: 5<br>val: 0<br>",
           "batch: 49<br>true_feat: 6<br>val: 0<br>",
           "batch: 49<br>true_feat: 7<br>val: 0<br>",
           "batch: 49<br>true_feat: 8<br>val: 0<br>",
           "batch: 49<br>true_feat: 9<br>val: 0<br>",
           "batch: 49<br>true_feat: 10<br>val: 0<br>",
           "batch: 49<br>true_feat: 11<br>val: 0<br>",
           "batch: 49<br>true_feat: 12<br>val: 0<br>",
           "batch: 49<br>true_feat: 13<br>val: 0<br>",
           "batch: 49<br>true_feat: 14<br>val: 0<br>",
           "batch: 49<br>true_feat: 15<br>val: 0<br>",
           "batch: 49<br>true_feat: 16<br>val: 0<br>",
           "batch: 49<br>true_feat: 17<br>val: 0<br>",
           "batch: 49<br>true_feat: 18<br>val: 0<br>",
           "batch: 49<br>true_feat: 19<br>val: 0<br>",
           "batch: 49<br>true_feat: 20<br>val: 0<br>",
           "batch: 49<br>true_feat: 21<br>val: 0<br>"
          ]
         ],
         "type": "heatmap",
         "z": [
          [
           0,
           0,
           0,
           0,
           0,
           0,
           0,
           0,
           1.3900474,
           0,
           0,
           0,
           0,
           0,
           0,
           0,
           0,
           0,
           0,
           0,
           0,
           0
          ],
          [
           0,
           0,
           0,
           0,
           0,
           0,
           0,
           0,
           0,
           0,
           0,
           0,
           0,
           0,
           1.3327411,
           0,
           0,
           1.8946791,
           0,
           0,
           0,
           0
          ],
          [
           0,
           0,
           0,
           0,
           0,
           0,
           0,
           0,
           0,
           0,
           0,
           0,
           0,
           0,
           0,
           0,
           0,
           0,
           1.2023746,
           0,
           0,
           1.6774839
          ],
          [
           0,
           0,
           0,
           0,
           1.9696648,
           0,
           0,
           0,
           0,
           0,
           0,
           0,
           0,
           1.9596279,
           0,
           0,
           0,
           0,
           0,
           0,
           0,
           0
          ],
          [
           1.8080051,
           0,
           0,
           1.3326609,
           0,
           0,
           0,
           0,
           0,
           0,
           0,
           0,
           0,
           0,
           0,
           0,
           0,
           0,
           0,
           0,
           0,
           0
          ],
          [
           0,
           0,
           0,
           0,
           1.9696648,
           0,
           0,
           0,
           0,
           0,
           0,
           0,
           0,
           0,
           0,
           0,
           0,
           0,
           0,
           0,
           0,
           0
          ],
          [
           0,
           0,
           0,
           0,
           0,
           0,
           0,
           0,
           0,
           0,
           0,
           0,
           0,
           1.9596279,
           0,
           0,
           0,
           0,
           0,
           0,
           0,
           0
          ],
          [
           0,
           0,
           0,
           0,
           0,
           0,
           0,
           0,
           0,
           0,
           0,
           0,
           0,
           0,
           0,
           0,
           0,
           0,
           0,
           0,
           0,
           0
          ],
          [
           0,
           0,
           0,
           0,
           0,
           0,
           0,
           0,
           0,
           0,
           0,
           0,
           1.387532,
           0,
           1.3327411,
           0,
           0,
           0,
           0,
           0,
           0,
           0
          ],
          [
           1.8080051,
           0,
           1.7224861,
           0,
           0,
           0,
           0,
           0,
           0,
           0,
           0,
           0,
           0,
           0,
           0,
           0,
           0,
           0,
           0,
           0,
           0,
           0
          ],
          [
           0,
           0,
           0,
           0,
           1.9696648,
           1.8802705,
           0,
           0,
           0,
           0,
           0,
           0,
           0,
           1.9596279,
           0,
           1.3106644,
           0,
           0,
           0,
           0,
           0,
           0
          ],
          [
           0,
           0,
           0,
           0,
           0,
           0,
           0,
           0,
           0,
           0,
           0,
           0,
           0,
           0,
           0,
           0,
           0,
           0,
           0,
           0,
           1.1071725,
           0
          ],
          [
           0,
           0,
           0,
           0,
           1.9696648,
           0,
           0,
           0,
           0,
           0,
           0,
           0,
           0,
           0,
           0,
           0,
           0,
           1.8946791,
           0,
           0,
           0,
           0
          ],
          [
           0,
           0,
           0,
           0,
           1.9696648,
           0,
           0,
           0,
           0,
           0,
           0,
           0,
           0,
           0,
           0,
           0,
           0,
           0,
           0,
           0,
           0,
           0
          ],
          [
           1.8080051,
           0,
           0,
           0,
           0,
           0,
           0,
           0,
           0,
           0,
           0,
           0,
           0,
           0,
           0,
           0,
           0,
           0,
           0,
           0,
           0,
           0
          ],
          [
           0,
           0,
           0,
           0,
           0,
           0,
           0,
           0,
           1.3900474,
           1.5465351,
           0,
           0,
           0,
           0,
           0,
           0,
           0,
           0,
           0,
           0,
           0,
           0
          ],
          [
           0,
           0,
           0,
           0,
           0,
           0,
           0,
           0,
           0,
           0,
           0,
           0,
           0,
           0,
           0,
           0,
           0,
           0,
           0,
           0,
           0,
           0
          ],
          [
           0,
           0,
           0,
           0,
           0,
           0,
           0,
           0,
           0,
           0,
           0,
           0,
           0,
           0,
           0,
           0,
           0,
           0,
           0,
           0,
           0,
           0
          ],
          [
           0,
           0,
           0,
           0,
           0,
           0,
           0,
           0,
           0,
           0,
           0,
           0,
           0,
           0,
           0,
           0,
           1.2168689,
           0,
           0,
           0,
           0,
           0
          ],
          [
           0,
           0,
           0,
           0,
           0,
           0,
           0,
           0,
           0,
           0,
           0,
           0,
           0,
           0,
           0,
           0,
           0,
           0,
           0,
           0,
           0,
           0
          ],
          [
           0,
           0,
           0,
           0,
           0,
           0,
           0,
           0,
           0,
           0,
           0,
           0,
           0,
           0,
           0,
           0,
           0,
           0,
           0,
           0,
           1.1071725,
           0
          ],
          [
           0,
           0,
           0,
           0,
           0,
           0,
           0,
           0,
           0,
           0,
           0,
           0,
           0,
           0,
           0,
           0,
           0,
           0,
           0,
           0,
           0,
           0
          ],
          [
           1.8080051,
           0,
           0,
           0,
           0,
           0,
           0,
           0,
           0,
           0,
           0,
           0,
           0,
           0,
           0,
           0,
           0,
           0,
           0,
           0,
           0,
           0
          ],
          [
           0,
           0,
           0,
           0,
           0,
           0,
           0,
           0,
           1.3900474,
           1.5465351,
           0,
           0,
           0,
           0,
           1.3327411,
           0,
           0,
           0,
           0,
           0,
           0,
           0
          ],
          [
           0,
           0,
           0,
           0,
           0,
           0,
           0,
           0,
           0,
           0,
           0,
           0,
           0,
           0,
           0,
           0,
           0,
           0,
           0,
           0,
           0,
           0
          ],
          [
           0,
           0,
           0,
           0,
           0,
           0,
           0,
           0,
           1.3900474,
           0,
           0,
           0,
           0,
           0,
           0,
           0,
           0,
           0,
           0,
           1.4807864,
           0,
           1.6774839
          ],
          [
           0,
           0,
           0,
           0,
           0,
           0,
           0,
           0,
           0,
           0,
           0,
           0,
           0,
           0,
           0,
           0,
           1.2168689,
           0,
           0,
           0,
           0,
           0
          ],
          [
           1.8080051,
           1.6467175,
           0,
           0,
           0,
           0,
           0,
           0,
           0,
           0,
           0,
           0,
           0,
           0,
           0,
           0,
           0,
           0,
           0,
           0,
           0,
           0
          ],
          [
           0,
           0,
           0,
           0,
           1.9696648,
           0,
           1.7137828,
           0,
           0,
           0,
           0,
           0,
           0,
           1.9596279,
           0,
           0,
           0,
           0,
           0,
           0,
           0,
           0
          ],
          [
           1.8080051,
           0,
           0,
           0,
           0,
           0,
           0,
           0,
           0,
           0,
           0,
           0,
           0,
           0,
           0,
           0,
           0,
           0,
           0,
           0,
           0,
           0
          ],
          [
           0,
           0,
           0,
           0,
           0,
           0,
           0,
           0,
           0,
           0,
           0,
           0,
           0,
           0,
           0,
           0,
           0,
           0,
           0,
           0,
           0,
           0
          ],
          [
           0,
           0,
           0,
           0,
           0,
           0,
           0,
           0,
           0,
           0,
           0,
           0,
           0,
           0,
           0,
           0,
           0,
           0,
           0,
           0,
           0,
           0
          ],
          [
           0,
           0,
           0,
           0,
           0,
           0,
           0,
           0,
           1.3900474,
           0,
           0,
           0,
           0,
           0,
           0,
           1.3106644,
           0,
           0,
           0,
           0,
           0,
           0
          ],
          [
           1.8080051,
           0,
           0,
           0,
           0,
           0,
           0,
           0,
           0,
           0,
           0,
           0,
           1.387532,
           0,
           0,
           0,
           0,
           0,
           0,
           0,
           0,
           1.6774839
          ],
          [
           0,
           0,
           0,
           0,
           0,
           0,
           0,
           0,
           1.3900474,
           0,
           0.8768124,
           0,
           0,
           0,
           0,
           0,
           0,
           0,
           0,
           0,
           0,
           0
          ],
          [
           0,
           0,
           0,
           0,
           0,
           0,
           0,
           0,
           1.3900474,
           0,
           0,
           0,
           0,
           0,
           0,
           0,
           0,
           0,
           0,
           0,
           0,
           0
          ],
          [
           0,
           0,
           0,
           0,
           0,
           0,
           0,
           0,
           0,
           0,
           0,
           0,
           0,
           0,
           0,
           0,
           0,
           0,
           0,
           1.4807864,
           0,
           0
          ],
          [
           0,
           0,
           0,
           0,
           0,
           0,
           0,
           0,
           0,
           0,
           0,
           0,
           0,
           0,
           0,
           0,
           0,
           0,
           0,
           0,
           0,
           0
          ],
          [
           0,
           0,
           0,
           0,
           0,
           0,
           0,
           0,
           0,
           0,
           0,
           0,
           0,
           0,
           0,
           0,
           0,
           1.8946791,
           0,
           0,
           0,
           0
          ],
          [
           0,
           0,
           0,
           0,
           0,
           0,
           0,
           0,
           0,
           0,
           0,
           0,
           0,
           0,
           0,
           0,
           0,
           0,
           0,
           0,
           0,
           0
          ],
          [
           0,
           0,
           0,
           0,
           0,
           0,
           0,
           0,
           0,
           0,
           0,
           0,
           0,
           0,
           0,
           0,
           0,
           0,
           0,
           0,
           0,
           0
          ],
          [
           0,
           0,
           0,
           0,
           0,
           0,
           0,
           0,
           0,
           0,
           0,
           0,
           0,
           0,
           0,
           0,
           0,
           0,
           0,
           0,
           0,
           0
          ],
          [
           1.8080051,
           0,
           0,
           1.3326609,
           0,
           0,
           0,
           0,
           0,
           0,
           0,
           0,
           0,
           0,
           0,
           0,
           0,
           1.8946791,
           0,
           0,
           0,
           0
          ],
          [
           1.8080051,
           0,
           0,
           0,
           1.9696648,
           1.8802705,
           0,
           0,
           0,
           0,
           0,
           0,
           0,
           0,
           0,
           0,
           0,
           0,
           0,
           0,
           0,
           0
          ],
          [
           0,
           0,
           0,
           0,
           0,
           0,
           0,
           0,
           0,
           0,
           0,
           0,
           0,
           0,
           0,
           0,
           0,
           0,
           0,
           0,
           0,
           0
          ],
          [
           0,
           0,
           0,
           0,
           0,
           0,
           0,
           0,
           0,
           0,
           0,
           0,
           0,
           0,
           0,
           0,
           0,
           0,
           0,
           1.4807864,
           0,
           0
          ],
          [
           1.8080051,
           0,
           0,
           0,
           0,
           0,
           0,
           0,
           0,
           0,
           0,
           0,
           0,
           0,
           0,
           0,
           0,
           0,
           0,
           0,
           0,
           0
          ],
          [
           0,
           0,
           0,
           0,
           0,
           0,
           0,
           0,
           0,
           0,
           0,
           0,
           0,
           0,
           0,
           0,
           0,
           0,
           0,
           0,
           1.1071725,
           0
          ],
          [
           0,
           0,
           0,
           0,
           0,
           0,
           0,
           0,
           0,
           0,
           0,
           0,
           0,
           0,
           0,
           0,
           0,
           0,
           0,
           0,
           0,
           0
          ],
          [
           1.8080051,
           0,
           0,
           1.3326609,
           0,
           0,
           0,
           0,
           0,
           0,
           0,
           0,
           0,
           0,
           0,
           0,
           0,
           0,
           0,
           0,
           0,
           0
          ]
         ]
        }
       ],
       "layout": {
        "template": {
         "data": {
          "bar": [
           {
            "error_x": {
             "color": "#2a3f5f"
            },
            "error_y": {
             "color": "#2a3f5f"
            },
            "marker": {
             "line": {
              "color": "#E5ECF6",
              "width": 0.5
             },
             "pattern": {
              "fillmode": "overlay",
              "size": 10,
              "solidity": 0.2
             }
            },
            "type": "bar"
           }
          ],
          "barpolar": [
           {
            "marker": {
             "line": {
              "color": "#E5ECF6",
              "width": 0.5
             },
             "pattern": {
              "fillmode": "overlay",
              "size": 10,
              "solidity": 0.2
             }
            },
            "type": "barpolar"
           }
          ],
          "carpet": [
           {
            "aaxis": {
             "endlinecolor": "#2a3f5f",
             "gridcolor": "white",
             "linecolor": "white",
             "minorgridcolor": "white",
             "startlinecolor": "#2a3f5f"
            },
            "baxis": {
             "endlinecolor": "#2a3f5f",
             "gridcolor": "white",
             "linecolor": "white",
             "minorgridcolor": "white",
             "startlinecolor": "#2a3f5f"
            },
            "type": "carpet"
           }
          ],
          "choropleth": [
           {
            "colorbar": {
             "outlinewidth": 0,
             "ticks": ""
            },
            "type": "choropleth"
           }
          ],
          "contour": [
           {
            "colorbar": {
             "outlinewidth": 0,
             "ticks": ""
            },
            "colorscale": [
             [
              0,
              "#0d0887"
             ],
             [
              0.1111111111111111,
              "#46039f"
             ],
             [
              0.2222222222222222,
              "#7201a8"
             ],
             [
              0.3333333333333333,
              "#9c179e"
             ],
             [
              0.4444444444444444,
              "#bd3786"
             ],
             [
              0.5555555555555556,
              "#d8576b"
             ],
             [
              0.6666666666666666,
              "#ed7953"
             ],
             [
              0.7777777777777778,
              "#fb9f3a"
             ],
             [
              0.8888888888888888,
              "#fdca26"
             ],
             [
              1,
              "#f0f921"
             ]
            ],
            "type": "contour"
           }
          ],
          "contourcarpet": [
           {
            "colorbar": {
             "outlinewidth": 0,
             "ticks": ""
            },
            "type": "contourcarpet"
           }
          ],
          "heatmap": [
           {
            "colorbar": {
             "outlinewidth": 0,
             "ticks": ""
            },
            "colorscale": [
             [
              0,
              "#0d0887"
             ],
             [
              0.1111111111111111,
              "#46039f"
             ],
             [
              0.2222222222222222,
              "#7201a8"
             ],
             [
              0.3333333333333333,
              "#9c179e"
             ],
             [
              0.4444444444444444,
              "#bd3786"
             ],
             [
              0.5555555555555556,
              "#d8576b"
             ],
             [
              0.6666666666666666,
              "#ed7953"
             ],
             [
              0.7777777777777778,
              "#fb9f3a"
             ],
             [
              0.8888888888888888,
              "#fdca26"
             ],
             [
              1,
              "#f0f921"
             ]
            ],
            "type": "heatmap"
           }
          ],
          "heatmapgl": [
           {
            "colorbar": {
             "outlinewidth": 0,
             "ticks": ""
            },
            "colorscale": [
             [
              0,
              "#0d0887"
             ],
             [
              0.1111111111111111,
              "#46039f"
             ],
             [
              0.2222222222222222,
              "#7201a8"
             ],
             [
              0.3333333333333333,
              "#9c179e"
             ],
             [
              0.4444444444444444,
              "#bd3786"
             ],
             [
              0.5555555555555556,
              "#d8576b"
             ],
             [
              0.6666666666666666,
              "#ed7953"
             ],
             [
              0.7777777777777778,
              "#fb9f3a"
             ],
             [
              0.8888888888888888,
              "#fdca26"
             ],
             [
              1,
              "#f0f921"
             ]
            ],
            "type": "heatmapgl"
           }
          ],
          "histogram": [
           {
            "marker": {
             "pattern": {
              "fillmode": "overlay",
              "size": 10,
              "solidity": 0.2
             }
            },
            "type": "histogram"
           }
          ],
          "histogram2d": [
           {
            "colorbar": {
             "outlinewidth": 0,
             "ticks": ""
            },
            "colorscale": [
             [
              0,
              "#0d0887"
             ],
             [
              0.1111111111111111,
              "#46039f"
             ],
             [
              0.2222222222222222,
              "#7201a8"
             ],
             [
              0.3333333333333333,
              "#9c179e"
             ],
             [
              0.4444444444444444,
              "#bd3786"
             ],
             [
              0.5555555555555556,
              "#d8576b"
             ],
             [
              0.6666666666666666,
              "#ed7953"
             ],
             [
              0.7777777777777778,
              "#fb9f3a"
             ],
             [
              0.8888888888888888,
              "#fdca26"
             ],
             [
              1,
              "#f0f921"
             ]
            ],
            "type": "histogram2d"
           }
          ],
          "histogram2dcontour": [
           {
            "colorbar": {
             "outlinewidth": 0,
             "ticks": ""
            },
            "colorscale": [
             [
              0,
              "#0d0887"
             ],
             [
              0.1111111111111111,
              "#46039f"
             ],
             [
              0.2222222222222222,
              "#7201a8"
             ],
             [
              0.3333333333333333,
              "#9c179e"
             ],
             [
              0.4444444444444444,
              "#bd3786"
             ],
             [
              0.5555555555555556,
              "#d8576b"
             ],
             [
              0.6666666666666666,
              "#ed7953"
             ],
             [
              0.7777777777777778,
              "#fb9f3a"
             ],
             [
              0.8888888888888888,
              "#fdca26"
             ],
             [
              1,
              "#f0f921"
             ]
            ],
            "type": "histogram2dcontour"
           }
          ],
          "mesh3d": [
           {
            "colorbar": {
             "outlinewidth": 0,
             "ticks": ""
            },
            "type": "mesh3d"
           }
          ],
          "parcoords": [
           {
            "line": {
             "colorbar": {
              "outlinewidth": 0,
              "ticks": ""
             }
            },
            "type": "parcoords"
           }
          ],
          "pie": [
           {
            "automargin": true,
            "type": "pie"
           }
          ],
          "scatter": [
           {
            "fillpattern": {
             "fillmode": "overlay",
             "size": 10,
             "solidity": 0.2
            },
            "type": "scatter"
           }
          ],
          "scatter3d": [
           {
            "line": {
             "colorbar": {
              "outlinewidth": 0,
              "ticks": ""
             }
            },
            "marker": {
             "colorbar": {
              "outlinewidth": 0,
              "ticks": ""
             }
            },
            "type": "scatter3d"
           }
          ],
          "scattercarpet": [
           {
            "marker": {
             "colorbar": {
              "outlinewidth": 0,
              "ticks": ""
             }
            },
            "type": "scattercarpet"
           }
          ],
          "scattergeo": [
           {
            "marker": {
             "colorbar": {
              "outlinewidth": 0,
              "ticks": ""
             }
            },
            "type": "scattergeo"
           }
          ],
          "scattergl": [
           {
            "marker": {
             "colorbar": {
              "outlinewidth": 0,
              "ticks": ""
             }
            },
            "type": "scattergl"
           }
          ],
          "scattermapbox": [
           {
            "marker": {
             "colorbar": {
              "outlinewidth": 0,
              "ticks": ""
             }
            },
            "type": "scattermapbox"
           }
          ],
          "scatterpolar": [
           {
            "marker": {
             "colorbar": {
              "outlinewidth": 0,
              "ticks": ""
             }
            },
            "type": "scatterpolar"
           }
          ],
          "scatterpolargl": [
           {
            "marker": {
             "colorbar": {
              "outlinewidth": 0,
              "ticks": ""
             }
            },
            "type": "scatterpolargl"
           }
          ],
          "scatterternary": [
           {
            "marker": {
             "colorbar": {
              "outlinewidth": 0,
              "ticks": ""
             }
            },
            "type": "scatterternary"
           }
          ],
          "surface": [
           {
            "colorbar": {
             "outlinewidth": 0,
             "ticks": ""
            },
            "colorscale": [
             [
              0,
              "#0d0887"
             ],
             [
              0.1111111111111111,
              "#46039f"
             ],
             [
              0.2222222222222222,
              "#7201a8"
             ],
             [
              0.3333333333333333,
              "#9c179e"
             ],
             [
              0.4444444444444444,
              "#bd3786"
             ],
             [
              0.5555555555555556,
              "#d8576b"
             ],
             [
              0.6666666666666666,
              "#ed7953"
             ],
             [
              0.7777777777777778,
              "#fb9f3a"
             ],
             [
              0.8888888888888888,
              "#fdca26"
             ],
             [
              1,
              "#f0f921"
             ]
            ],
            "type": "surface"
           }
          ],
          "table": [
           {
            "cells": {
             "fill": {
              "color": "#EBF0F8"
             },
             "line": {
              "color": "white"
             }
            },
            "header": {
             "fill": {
              "color": "#C8D4E3"
             },
             "line": {
              "color": "white"
             }
            },
            "type": "table"
           }
          ]
         },
         "layout": {
          "annotationdefaults": {
           "arrowcolor": "#2a3f5f",
           "arrowhead": 0,
           "arrowwidth": 1
          },
          "autotypenumbers": "strict",
          "coloraxis": {
           "colorbar": {
            "outlinewidth": 0,
            "ticks": ""
           }
          },
          "colorscale": {
           "diverging": [
            [
             0,
             "#8e0152"
            ],
            [
             0.1,
             "#c51b7d"
            ],
            [
             0.2,
             "#de77ae"
            ],
            [
             0.3,
             "#f1b6da"
            ],
            [
             0.4,
             "#fde0ef"
            ],
            [
             0.5,
             "#f7f7f7"
            ],
            [
             0.6,
             "#e6f5d0"
            ],
            [
             0.7,
             "#b8e186"
            ],
            [
             0.8,
             "#7fbc41"
            ],
            [
             0.9,
             "#4d9221"
            ],
            [
             1,
             "#276419"
            ]
           ],
           "sequential": [
            [
             0,
             "#0d0887"
            ],
            [
             0.1111111111111111,
             "#46039f"
            ],
            [
             0.2222222222222222,
             "#7201a8"
            ],
            [
             0.3333333333333333,
             "#9c179e"
            ],
            [
             0.4444444444444444,
             "#bd3786"
            ],
            [
             0.5555555555555556,
             "#d8576b"
            ],
            [
             0.6666666666666666,
             "#ed7953"
            ],
            [
             0.7777777777777778,
             "#fb9f3a"
            ],
            [
             0.8888888888888888,
             "#fdca26"
            ],
            [
             1,
             "#f0f921"
            ]
           ],
           "sequentialminus": [
            [
             0,
             "#0d0887"
            ],
            [
             0.1111111111111111,
             "#46039f"
            ],
            [
             0.2222222222222222,
             "#7201a8"
            ],
            [
             0.3333333333333333,
             "#9c179e"
            ],
            [
             0.4444444444444444,
             "#bd3786"
            ],
            [
             0.5555555555555556,
             "#d8576b"
            ],
            [
             0.6666666666666666,
             "#ed7953"
            ],
            [
             0.7777777777777778,
             "#fb9f3a"
            ],
            [
             0.8888888888888888,
             "#fdca26"
            ],
            [
             1,
             "#f0f921"
            ]
           ]
          },
          "colorway": [
           "#636efa",
           "#EF553B",
           "#00cc96",
           "#ab63fa",
           "#FFA15A",
           "#19d3f3",
           "#FF6692",
           "#B6E880",
           "#FF97FF",
           "#FECB52"
          ],
          "font": {
           "color": "#2a3f5f"
          },
          "geo": {
           "bgcolor": "white",
           "lakecolor": "white",
           "landcolor": "#E5ECF6",
           "showlakes": true,
           "showland": true,
           "subunitcolor": "white"
          },
          "hoverlabel": {
           "align": "left"
          },
          "hovermode": "closest",
          "mapbox": {
           "style": "light"
          },
          "paper_bgcolor": "white",
          "plot_bgcolor": "#E5ECF6",
          "polar": {
           "angularaxis": {
            "gridcolor": "white",
            "linecolor": "white",
            "ticks": ""
           },
           "bgcolor": "#E5ECF6",
           "radialaxis": {
            "gridcolor": "white",
            "linecolor": "white",
            "ticks": ""
           }
          },
          "scene": {
           "xaxis": {
            "backgroundcolor": "#E5ECF6",
            "gridcolor": "white",
            "gridwidth": 2,
            "linecolor": "white",
            "showbackground": true,
            "ticks": "",
            "zerolinecolor": "white"
           },
           "yaxis": {
            "backgroundcolor": "#E5ECF6",
            "gridcolor": "white",
            "gridwidth": 2,
            "linecolor": "white",
            "showbackground": true,
            "ticks": "",
            "zerolinecolor": "white"
           },
           "zaxis": {
            "backgroundcolor": "#E5ECF6",
            "gridcolor": "white",
            "gridwidth": 2,
            "linecolor": "white",
            "showbackground": true,
            "ticks": "",
            "zerolinecolor": "white"
           }
          },
          "shapedefaults": {
           "line": {
            "color": "#2a3f5f"
           }
          },
          "ternary": {
           "aaxis": {
            "gridcolor": "white",
            "linecolor": "white",
            "ticks": ""
           },
           "baxis": {
            "gridcolor": "white",
            "linecolor": "white",
            "ticks": ""
           },
           "bgcolor": "#E5ECF6",
           "caxis": {
            "gridcolor": "white",
            "linecolor": "white",
            "ticks": ""
           }
          },
          "title": {
           "x": 0.05
          },
          "xaxis": {
           "automargin": true,
           "gridcolor": "white",
           "linecolor": "white",
           "ticks": "",
           "title": {
            "standoff": 15
           },
           "zerolinecolor": "white",
           "zerolinewidth": 2
          },
          "yaxis": {
           "automargin": true,
           "gridcolor": "white",
           "linecolor": "white",
           "ticks": "",
           "title": {
            "standoff": 15
           },
           "zerolinecolor": "white",
           "zerolinewidth": 2
          }
         }
        },
        "title": {
         "text": "true feats (scaled)"
        },
        "xaxis": {
         "showticklabels": false,
         "title": {
          "text": "true_feat (22)"
         }
        },
        "yaxis": {
         "autorange": "reversed",
         "showticklabels": false,
         "title": {
          "text": "batch (50)"
         }
        }
       }
      }
     },
     "metadata": {},
     "output_type": "display_data"
    }
   ],
   "source": [
    "sample = tree.sample(50).to(sae.W_enc.device)\n",
    "\n",
    "\n",
    "# heatmap(sample)\n",
    "\n",
    "with torch.no_grad():\n",
    "    sae_acts = sae.get_acts(sample @ true_feats)*sae.W_dec.norm(dim=-1)[None]\n",
    "    sae_acts = sae_acts[:,feat_perm]\n",
    "\n",
    "\n",
    "heatmap(sae_acts, title='sae acts', dim_names=('batch', 'sae_feat')).show()\n",
    "\n",
    "\n",
    "feat_norms = true_feats.norm(dim=-1)\n",
    "scaled_sample = sample * feat_norms[None, :]\n",
    "heatmap(scaled_sample, dim_names=('batch', 'true_feat'), title='true feats (scaled)')\n"
   ]
  },
  {
   "cell_type": "code",
   "execution_count": 168,
   "metadata": {},
   "outputs": [
    {
     "data": {
      "application/vnd.plotly.v1+json": {
       "config": {
        "plotlyServerURL": "https://plot.ly"
       },
       "data": [
        {
         "colorscale": [
          [
           0,
           "#440154"
          ],
          [
           0.1111111111111111,
           "#482878"
          ],
          [
           0.2222222222222222,
           "#3e4989"
          ],
          [
           0.3333333333333333,
           "#31688e"
          ],
          [
           0.4444444444444444,
           "#26828e"
          ],
          [
           0.5555555555555556,
           "#1f9e89"
          ],
          [
           0.6666666666666666,
           "#35b779"
          ],
          [
           0.7777777777777778,
           "#6ece58"
          ],
          [
           0.8888888888888888,
           "#b5de2b"
          ],
          [
           1,
           "#fde725"
          ]
         ],
         "hoverinfo": "text",
         "text": [
          [
           "row: 0<br>col: 0<br>val: 1<br>",
           "row: 0<br>col: 1<br>val: -0.16<br>",
           "row: 0<br>col: 2<br>val: -0.11<br>",
           "row: 0<br>col: 3<br>val: 0.042<br>",
           "row: 0<br>col: 4<br>val: 0.1<br>",
           "row: 0<br>col: 5<br>val: -0.26<br>",
           "row: 0<br>col: 6<br>val: 0.15<br>",
           "row: 0<br>col: 7<br>val: 0.064<br>",
           "row: 0<br>col: 8<br>val: 0.037<br>",
           "row: 0<br>col: 9<br>val: -0.1<br>",
           "row: 0<br>col: 10<br>val: 0.0061<br>",
           "row: 0<br>col: 11<br>val: 0.098<br>",
           "row: 0<br>col: 12<br>val: 0.13<br>",
           "row: 0<br>col: 13<br>val: 0.0098<br>",
           "row: 0<br>col: 14<br>val: -0.079<br>",
           "row: 0<br>col: 15<br>val: -0.24<br>",
           "row: 0<br>col: 16<br>val: 0.12<br>",
           "row: 0<br>col: 17<br>val: -0.17<br>",
           "row: 0<br>col: 18<br>val: -0.035<br>",
           "row: 0<br>col: 19<br>val: 0.43<br>",
           "row: 0<br>col: 20<br>val: -0.13<br>",
           "row: 0<br>col: 21<br>val: 0.45<br>"
          ],
          [
           "row: 1<br>col: 0<br>val: -0.16<br>",
           "row: 1<br>col: 1<br>val: 1<br>",
           "row: 1<br>col: 2<br>val: 0.15<br>",
           "row: 1<br>col: 3<br>val: -0.27<br>",
           "row: 1<br>col: 4<br>val: 0.0056<br>",
           "row: 1<br>col: 5<br>val: -0.25<br>",
           "row: 1<br>col: 6<br>val: 0.16<br>",
           "row: 1<br>col: 7<br>val: 0.25<br>",
           "row: 1<br>col: 8<br>val: -0.11<br>",
           "row: 1<br>col: 9<br>val: -0.015<br>",
           "row: 1<br>col: 10<br>val: 0.29<br>",
           "row: 1<br>col: 11<br>val: -0.084<br>",
           "row: 1<br>col: 12<br>val: -0.034<br>",
           "row: 1<br>col: 13<br>val: -0.11<br>",
           "row: 1<br>col: 14<br>val: -0.12<br>",
           "row: 1<br>col: 15<br>val: 0.093<br>",
           "row: 1<br>col: 16<br>val: -0.14<br>",
           "row: 1<br>col: 17<br>val: 0.37<br>",
           "row: 1<br>col: 18<br>val: 0.051<br>",
           "row: 1<br>col: 19<br>val: -0.45<br>",
           "row: 1<br>col: 20<br>val: 0.095<br>",
           "row: 1<br>col: 21<br>val: -0.11<br>"
          ],
          [
           "row: 2<br>col: 0<br>val: -0.11<br>",
           "row: 2<br>col: 1<br>val: 0.15<br>",
           "row: 2<br>col: 2<br>val: 1<br>",
           "row: 2<br>col: 3<br>val: -0.05<br>",
           "row: 2<br>col: 4<br>val: 0.0079<br>",
           "row: 2<br>col: 5<br>val: -0.18<br>",
           "row: 2<br>col: 6<br>val: -0.11<br>",
           "row: 2<br>col: 7<br>val: 0.27<br>",
           "row: 2<br>col: 8<br>val: 0.0051<br>",
           "row: 2<br>col: 9<br>val: -0.12<br>",
           "row: 2<br>col: 10<br>val: -0.083<br>",
           "row: 2<br>col: 11<br>val: -0.23<br>",
           "row: 2<br>col: 12<br>val: 0.15<br>",
           "row: 2<br>col: 13<br>val: -0.069<br>",
           "row: 2<br>col: 14<br>val: 0.061<br>",
           "row: 2<br>col: 15<br>val: -0.011<br>",
           "row: 2<br>col: 16<br>val: 0.13<br>",
           "row: 2<br>col: 17<br>val: 0.15<br>",
           "row: 2<br>col: 18<br>val: 0.12<br>",
           "row: 2<br>col: 19<br>val: -0.12<br>",
           "row: 2<br>col: 20<br>val: -0.073<br>",
           "row: 2<br>col: 21<br>val: -0.2<br>"
          ],
          [
           "row: 3<br>col: 0<br>val: 0.042<br>",
           "row: 3<br>col: 1<br>val: -0.27<br>",
           "row: 3<br>col: 2<br>val: -0.05<br>",
           "row: 3<br>col: 3<br>val: 1<br>",
           "row: 3<br>col: 4<br>val: 0.068<br>",
           "row: 3<br>col: 5<br>val: 0.045<br>",
           "row: 3<br>col: 6<br>val: -0.067<br>",
           "row: 3<br>col: 7<br>val: 0.039<br>",
           "row: 3<br>col: 8<br>val: 0.18<br>",
           "row: 3<br>col: 9<br>val: -0.18<br>",
           "row: 3<br>col: 10<br>val: -0.3<br>",
           "row: 3<br>col: 11<br>val: -0.37<br>",
           "row: 3<br>col: 12<br>val: 0.0066<br>",
           "row: 3<br>col: 13<br>val: 0.076<br>",
           "row: 3<br>col: 14<br>val: 0.11<br>",
           "row: 3<br>col: 15<br>val: -0.073<br>",
           "row: 3<br>col: 16<br>val: -0.071<br>",
           "row: 3<br>col: 17<br>val: -0.23<br>",
           "row: 3<br>col: 18<br>val: -0.018<br>",
           "row: 3<br>col: 19<br>val: 0.25<br>",
           "row: 3<br>col: 20<br>val: -0.02<br>",
           "row: 3<br>col: 21<br>val: 0.2<br>"
          ],
          [
           "row: 4<br>col: 0<br>val: 0.1<br>",
           "row: 4<br>col: 1<br>val: 0.0056<br>",
           "row: 4<br>col: 2<br>val: 0.0079<br>",
           "row: 4<br>col: 3<br>val: 0.068<br>",
           "row: 4<br>col: 4<br>val: 1<br>",
           "row: 4<br>col: 5<br>val: -0.23<br>",
           "row: 4<br>col: 6<br>val: 0.27<br>",
           "row: 4<br>col: 7<br>val: 0.41<br>",
           "row: 4<br>col: 8<br>val: -0.11<br>",
           "row: 4<br>col: 9<br>val: -0.13<br>",
           "row: 4<br>col: 10<br>val: 0.14<br>",
           "row: 4<br>col: 11<br>val: -0.18<br>",
           "row: 4<br>col: 12<br>val: -0.085<br>",
           "row: 4<br>col: 13<br>val: 0.097<br>",
           "row: 4<br>col: 14<br>val: -0.082<br>",
           "row: 4<br>col: 15<br>val: 0.092<br>",
           "row: 4<br>col: 16<br>val: -0.42<br>",
           "row: 4<br>col: 17<br>val: -0.043<br>",
           "row: 4<br>col: 18<br>val: 0.33<br>",
           "row: 4<br>col: 19<br>val: -0.0069<br>",
           "row: 4<br>col: 20<br>val: 0.011<br>",
           "row: 4<br>col: 21<br>val: 0.27<br>"
          ],
          [
           "row: 5<br>col: 0<br>val: -0.26<br>",
           "row: 5<br>col: 1<br>val: -0.25<br>",
           "row: 5<br>col: 2<br>val: -0.18<br>",
           "row: 5<br>col: 3<br>val: 0.045<br>",
           "row: 5<br>col: 4<br>val: -0.23<br>",
           "row: 5<br>col: 5<br>val: 1<br>",
           "row: 5<br>col: 6<br>val: -0.17<br>",
           "row: 5<br>col: 7<br>val: -0.23<br>",
           "row: 5<br>col: 8<br>val: 0.038<br>",
           "row: 5<br>col: 9<br>val: 0.32<br>",
           "row: 5<br>col: 10<br>val: -0.48<br>",
           "row: 5<br>col: 11<br>val: 0.1<br>",
           "row: 5<br>col: 12<br>val: 0.023<br>",
           "row: 5<br>col: 13<br>val: -0.048<br>",
           "row: 5<br>col: 14<br>val: 0.13<br>",
           "row: 5<br>col: 15<br>val: -0.0019<br>",
           "row: 5<br>col: 16<br>val: 0.15<br>",
           "row: 5<br>col: 17<br>val: -0.41<br>",
           "row: 5<br>col: 18<br>val: -0.23<br>",
           "row: 5<br>col: 19<br>val: -0.035<br>",
           "row: 5<br>col: 20<br>val: -0.06<br>",
           "row: 5<br>col: 21<br>val: -0.26<br>"
          ],
          [
           "row: 6<br>col: 0<br>val: 0.15<br>",
           "row: 6<br>col: 1<br>val: 0.16<br>",
           "row: 6<br>col: 2<br>val: -0.11<br>",
           "row: 6<br>col: 3<br>val: -0.067<br>",
           "row: 6<br>col: 4<br>val: 0.27<br>",
           "row: 6<br>col: 5<br>val: -0.17<br>",
           "row: 6<br>col: 6<br>val: 1<br>",
           "row: 6<br>col: 7<br>val: -0.039<br>",
           "row: 6<br>col: 8<br>val: 0.03<br>",
           "row: 6<br>col: 9<br>val: -0.02<br>",
           "row: 6<br>col: 10<br>val: 0.21<br>",
           "row: 6<br>col: 11<br>val: -0.068<br>",
           "row: 6<br>col: 12<br>val: -0.34<br>",
           "row: 6<br>col: 13<br>val: 0.18<br>",
           "row: 6<br>col: 14<br>val: 0.1<br>",
           "row: 6<br>col: 15<br>val: -0.11<br>",
           "row: 6<br>col: 16<br>val: 0.016<br>",
           "row: 6<br>col: 17<br>val: -0.035<br>",
           "row: 6<br>col: 18<br>val: -0.15<br>",
           "row: 6<br>col: 19<br>val: 0.23<br>",
           "row: 6<br>col: 20<br>val: -0.19<br>",
           "row: 6<br>col: 21<br>val: 0.19<br>"
          ],
          [
           "row: 7<br>col: 0<br>val: 0.064<br>",
           "row: 7<br>col: 1<br>val: 0.25<br>",
           "row: 7<br>col: 2<br>val: 0.27<br>",
           "row: 7<br>col: 3<br>val: 0.039<br>",
           "row: 7<br>col: 4<br>val: 0.41<br>",
           "row: 7<br>col: 5<br>val: -0.23<br>",
           "row: 7<br>col: 6<br>val: -0.039<br>",
           "row: 7<br>col: 7<br>val: 1<br>",
           "row: 7<br>col: 8<br>val: -0.18<br>",
           "row: 7<br>col: 9<br>val: -0.024<br>",
           "row: 7<br>col: 10<br>val: 0.35<br>",
           "row: 7<br>col: 11<br>val: -0.42<br>",
           "row: 7<br>col: 12<br>val: 0.078<br>",
           "row: 7<br>col: 13<br>val: -0.086<br>",
           "row: 7<br>col: 14<br>val: -0.12<br>",
           "row: 7<br>col: 15<br>val: -0.098<br>",
           "row: 7<br>col: 16<br>val: -0.11<br>",
           "row: 7<br>col: 17<br>val: 0.13<br>",
           "row: 7<br>col: 18<br>val: 0.27<br>",
           "row: 7<br>col: 19<br>val: -0.26<br>",
           "row: 7<br>col: 20<br>val: -0.16<br>",
           "row: 7<br>col: 21<br>val: 0.096<br>"
          ],
          [
           "row: 8<br>col: 0<br>val: 0.037<br>",
           "row: 8<br>col: 1<br>val: -0.11<br>",
           "row: 8<br>col: 2<br>val: 0.0051<br>",
           "row: 8<br>col: 3<br>val: 0.18<br>",
           "row: 8<br>col: 4<br>val: -0.11<br>",
           "row: 8<br>col: 5<br>val: 0.038<br>",
           "row: 8<br>col: 6<br>val: 0.03<br>",
           "row: 8<br>col: 7<br>val: -0.18<br>",
           "row: 8<br>col: 8<br>val: 1<br>",
           "row: 8<br>col: 9<br>val: -0.12<br>",
           "row: 8<br>col: 10<br>val: -0.34<br>",
           "row: 8<br>col: 11<br>val: 0.26<br>",
           "row: 8<br>col: 12<br>val: 0.36<br>",
           "row: 8<br>col: 13<br>val: -0.35<br>",
           "row: 8<br>col: 14<br>val: 0.048<br>",
           "row: 8<br>col: 15<br>val: 0.14<br>",
           "row: 8<br>col: 16<br>val: 0.22<br>",
           "row: 8<br>col: 17<br>val: -0.42<br>",
           "row: 8<br>col: 18<br>val: -0.037<br>",
           "row: 8<br>col: 19<br>val: 0.12<br>",
           "row: 8<br>col: 20<br>val: 0.13<br>",
           "row: 8<br>col: 21<br>val: 0.38<br>"
          ],
          [
           "row: 9<br>col: 0<br>val: -0.1<br>",
           "row: 9<br>col: 1<br>val: -0.015<br>",
           "row: 9<br>col: 2<br>val: -0.12<br>",
           "row: 9<br>col: 3<br>val: -0.18<br>",
           "row: 9<br>col: 4<br>val: -0.13<br>",
           "row: 9<br>col: 5<br>val: 0.32<br>",
           "row: 9<br>col: 6<br>val: -0.02<br>",
           "row: 9<br>col: 7<br>val: -0.024<br>",
           "row: 9<br>col: 8<br>val: -0.12<br>",
           "row: 9<br>col: 9<br>val: 1<br>",
           "row: 9<br>col: 10<br>val: -0.14<br>",
           "row: 9<br>col: 11<br>val: -0.13<br>",
           "row: 9<br>col: 12<br>val: -0.15<br>",
           "row: 9<br>col: 13<br>val: -0.31<br>",
           "row: 9<br>col: 14<br>val: -0.13<br>",
           "row: 9<br>col: 15<br>val: -0.28<br>",
           "row: 9<br>col: 16<br>val: 0.023<br>",
           "row: 9<br>col: 17<br>val: -0.18<br>",
           "row: 9<br>col: 18<br>val: -0.49<br>",
           "row: 9<br>col: 19<br>val: -0.11<br>",
           "row: 9<br>col: 20<br>val: 0.24<br>",
           "row: 9<br>col: 21<br>val: -0.085<br>"
          ],
          [
           "row: 10<br>col: 0<br>val: 0.0061<br>",
           "row: 10<br>col: 1<br>val: 0.29<br>",
           "row: 10<br>col: 2<br>val: -0.083<br>",
           "row: 10<br>col: 3<br>val: -0.3<br>",
           "row: 10<br>col: 4<br>val: 0.14<br>",
           "row: 10<br>col: 5<br>val: -0.48<br>",
           "row: 10<br>col: 6<br>val: 0.21<br>",
           "row: 10<br>col: 7<br>val: 0.35<br>",
           "row: 10<br>col: 8<br>val: -0.34<br>",
           "row: 10<br>col: 9<br>val: -0.14<br>",
           "row: 10<br>col: 10<br>val: 1<br>",
           "row: 10<br>col: 11<br>val: -0.21<br>",
           "row: 10<br>col: 12<br>val: -0.16<br>",
           "row: 10<br>col: 13<br>val: -0.036<br>",
           "row: 10<br>col: 14<br>val: -0.29<br>",
           "row: 10<br>col: 15<br>val: -0.018<br>",
           "row: 10<br>col: 16<br>val: -0.14<br>",
           "row: 10<br>col: 17<br>val: 0.58<br>",
           "row: 10<br>col: 18<br>val: 0.054<br>",
           "row: 10<br>col: 19<br>val: -0.3<br>",
           "row: 10<br>col: 20<br>val: -0.012<br>",
           "row: 10<br>col: 21<br>val: -0.0076<br>"
          ],
          [
           "row: 11<br>col: 0<br>val: 0.098<br>",
           "row: 11<br>col: 1<br>val: -0.084<br>",
           "row: 11<br>col: 2<br>val: -0.23<br>",
           "row: 11<br>col: 3<br>val: -0.37<br>",
           "row: 11<br>col: 4<br>val: -0.18<br>",
           "row: 11<br>col: 5<br>val: 0.1<br>",
           "row: 11<br>col: 6<br>val: -0.068<br>",
           "row: 11<br>col: 7<br>val: -0.42<br>",
           "row: 11<br>col: 8<br>val: 0.26<br>",
           "row: 11<br>col: 9<br>val: -0.13<br>",
           "row: 11<br>col: 10<br>val: -0.21<br>",
           "row: 11<br>col: 11<br>val: 1<br>",
           "row: 11<br>col: 12<br>val: -0.013<br>",
           "row: 11<br>col: 13<br>val: -0.1<br>",
           "row: 11<br>col: 14<br>val: 0.24<br>",
           "row: 11<br>col: 15<br>val: 0.33<br>",
           "row: 11<br>col: 16<br>val: 0.044<br>",
           "row: 11<br>col: 17<br>val: -0.26<br>",
           "row: 11<br>col: 18<br>val: 0.2<br>",
           "row: 11<br>col: 19<br>val: 0.25<br>",
           "row: 11<br>col: 20<br>val: -0.24<br>",
           "row: 11<br>col: 21<br>val: 0.18<br>"
          ],
          [
           "row: 12<br>col: 0<br>val: 0.13<br>",
           "row: 12<br>col: 1<br>val: -0.034<br>",
           "row: 12<br>col: 2<br>val: 0.15<br>",
           "row: 12<br>col: 3<br>val: 0.0066<br>",
           "row: 12<br>col: 4<br>val: -0.085<br>",
           "row: 12<br>col: 5<br>val: 0.023<br>",
           "row: 12<br>col: 6<br>val: -0.34<br>",
           "row: 12<br>col: 7<br>val: 0.078<br>",
           "row: 12<br>col: 8<br>val: 0.36<br>",
           "row: 12<br>col: 9<br>val: -0.15<br>",
           "row: 12<br>col: 10<br>val: -0.16<br>",
           "row: 12<br>col: 11<br>val: -0.013<br>",
           "row: 12<br>col: 12<br>val: 1<br>",
           "row: 12<br>col: 13<br>val: -0.22<br>",
           "row: 12<br>col: 14<br>val: 0.0018<br>",
           "row: 12<br>col: 15<br>val: 0.11<br>",
           "row: 12<br>col: 16<br>val: -0.048<br>",
           "row: 12<br>col: 17<br>val: -0.064<br>",
           "row: 12<br>col: 18<br>val: -0.023<br>",
           "row: 12<br>col: 19<br>val: -0.051<br>",
           "row: 12<br>col: 20<br>val: 0.17<br>",
           "row: 12<br>col: 21<br>val: 0.15<br>"
          ],
          [
           "row: 13<br>col: 0<br>val: 0.0098<br>",
           "row: 13<br>col: 1<br>val: -0.11<br>",
           "row: 13<br>col: 2<br>val: -0.069<br>",
           "row: 13<br>col: 3<br>val: 0.076<br>",
           "row: 13<br>col: 4<br>val: 0.097<br>",
           "row: 13<br>col: 5<br>val: -0.048<br>",
           "row: 13<br>col: 6<br>val: 0.18<br>",
           "row: 13<br>col: 7<br>val: -0.086<br>",
           "row: 13<br>col: 8<br>val: -0.35<br>",
           "row: 13<br>col: 9<br>val: -0.31<br>",
           "row: 13<br>col: 10<br>val: -0.036<br>",
           "row: 13<br>col: 11<br>val: -0.1<br>",
           "row: 13<br>col: 12<br>val: -0.22<br>",
           "row: 13<br>col: 13<br>val: 1<br>",
           "row: 13<br>col: 14<br>val: 0.24<br>",
           "row: 13<br>col: 15<br>val: 0.1<br>",
           "row: 13<br>col: 16<br>val: 0.0053<br>",
           "row: 13<br>col: 17<br>val: 0.23<br>",
           "row: 13<br>col: 18<br>val: 0.12<br>",
           "row: 13<br>col: 19<br>val: 0.0086<br>",
           "row: 13<br>col: 20<br>val: -0.05<br>",
           "row: 13<br>col: 21<br>val: -0.024<br>"
          ],
          [
           "row: 14<br>col: 0<br>val: -0.079<br>",
           "row: 14<br>col: 1<br>val: -0.12<br>",
           "row: 14<br>col: 2<br>val: 0.061<br>",
           "row: 14<br>col: 3<br>val: 0.11<br>",
           "row: 14<br>col: 4<br>val: -0.082<br>",
           "row: 14<br>col: 5<br>val: 0.13<br>",
           "row: 14<br>col: 6<br>val: 0.1<br>",
           "row: 14<br>col: 7<br>val: -0.12<br>",
           "row: 14<br>col: 8<br>val: 0.048<br>",
           "row: 14<br>col: 9<br>val: -0.13<br>",
           "row: 14<br>col: 10<br>val: -0.29<br>",
           "row: 14<br>col: 11<br>val: 0.24<br>",
           "row: 14<br>col: 12<br>val: 0.0018<br>",
           "row: 14<br>col: 13<br>val: 0.24<br>",
           "row: 14<br>col: 14<br>val: 1<br>",
           "row: 14<br>col: 15<br>val: -0.14<br>",
           "row: 14<br>col: 16<br>val: 0.069<br>",
           "row: 14<br>col: 17<br>val: -0.18<br>",
           "row: 14<br>col: 18<br>val: 0.21<br>",
           "row: 14<br>col: 19<br>val: 0.24<br>",
           "row: 14<br>col: 20<br>val: -0.34<br>",
           "row: 14<br>col: 21<br>val: -0.018<br>"
          ],
          [
           "row: 15<br>col: 0<br>val: -0.24<br>",
           "row: 15<br>col: 1<br>val: 0.093<br>",
           "row: 15<br>col: 2<br>val: -0.011<br>",
           "row: 15<br>col: 3<br>val: -0.073<br>",
           "row: 15<br>col: 4<br>val: 0.092<br>",
           "row: 15<br>col: 5<br>val: -0.0019<br>",
           "row: 15<br>col: 6<br>val: -0.11<br>",
           "row: 15<br>col: 7<br>val: -0.098<br>",
           "row: 15<br>col: 8<br>val: 0.14<br>",
           "row: 15<br>col: 9<br>val: -0.28<br>",
           "row: 15<br>col: 10<br>val: -0.018<br>",
           "row: 15<br>col: 11<br>val: 0.33<br>",
           "row: 15<br>col: 12<br>val: 0.11<br>",
           "row: 15<br>col: 13<br>val: 0.1<br>",
           "row: 15<br>col: 14<br>val: -0.14<br>",
           "row: 15<br>col: 15<br>val: 1<br>",
           "row: 15<br>col: 16<br>val: -0.2<br>",
           "row: 15<br>col: 17<br>val: 0.11<br>",
           "row: 15<br>col: 18<br>val: 0.18<br>",
           "row: 15<br>col: 19<br>val: 0.0064<br>",
           "row: 15<br>col: 20<br>val: -0.06<br>",
           "row: 15<br>col: 21<br>val: 0.16<br>"
          ],
          [
           "row: 16<br>col: 0<br>val: 0.12<br>",
           "row: 16<br>col: 1<br>val: -0.14<br>",
           "row: 16<br>col: 2<br>val: 0.13<br>",
           "row: 16<br>col: 3<br>val: -0.071<br>",
           "row: 16<br>col: 4<br>val: -0.42<br>",
           "row: 16<br>col: 5<br>val: 0.15<br>",
           "row: 16<br>col: 6<br>val: 0.016<br>",
           "row: 16<br>col: 7<br>val: -0.11<br>",
           "row: 16<br>col: 8<br>val: 0.22<br>",
           "row: 16<br>col: 9<br>val: 0.023<br>",
           "row: 16<br>col: 10<br>val: -0.14<br>",
           "row: 16<br>col: 11<br>val: 0.044<br>",
           "row: 16<br>col: 12<br>val: -0.048<br>",
           "row: 16<br>col: 13<br>val: 0.0053<br>",
           "row: 16<br>col: 14<br>val: 0.069<br>",
           "row: 16<br>col: 15<br>val: -0.2<br>",
           "row: 16<br>col: 16<br>val: 1<br>",
           "row: 16<br>col: 17<br>val: -0.19<br>",
           "row: 16<br>col: 18<br>val: -0.21<br>",
           "row: 16<br>col: 19<br>val: 0.017<br>",
           "row: 16<br>col: 20<br>val: -0.048<br>",
           "row: 16<br>col: 21<br>val: -0.1<br>"
          ],
          [
           "row: 17<br>col: 0<br>val: -0.17<br>",
           "row: 17<br>col: 1<br>val: 0.37<br>",
           "row: 17<br>col: 2<br>val: 0.15<br>",
           "row: 17<br>col: 3<br>val: -0.23<br>",
           "row: 17<br>col: 4<br>val: -0.043<br>",
           "row: 17<br>col: 5<br>val: -0.41<br>",
           "row: 17<br>col: 6<br>val: -0.035<br>",
           "row: 17<br>col: 7<br>val: 0.13<br>",
           "row: 17<br>col: 8<br>val: -0.42<br>",
           "row: 17<br>col: 9<br>val: -0.18<br>",
           "row: 17<br>col: 10<br>val: 0.58<br>",
           "row: 17<br>col: 11<br>val: -0.26<br>",
           "row: 17<br>col: 12<br>val: -0.064<br>",
           "row: 17<br>col: 13<br>val: 0.23<br>",
           "row: 17<br>col: 14<br>val: -0.18<br>",
           "row: 17<br>col: 15<br>val: 0.11<br>",
           "row: 17<br>col: 16<br>val: -0.19<br>",
           "row: 17<br>col: 17<br>val: 1<br>",
           "row: 17<br>col: 18<br>val: 0.3<br>",
           "row: 17<br>col: 19<br>val: -0.21<br>",
           "row: 17<br>col: 20<br>val: 0.12<br>",
           "row: 17<br>col: 21<br>val: -0.2<br>"
          ],
          [
           "row: 18<br>col: 0<br>val: -0.035<br>",
           "row: 18<br>col: 1<br>val: 0.051<br>",
           "row: 18<br>col: 2<br>val: 0.12<br>",
           "row: 18<br>col: 3<br>val: -0.018<br>",
           "row: 18<br>col: 4<br>val: 0.33<br>",
           "row: 18<br>col: 5<br>val: -0.23<br>",
           "row: 18<br>col: 6<br>val: -0.15<br>",
           "row: 18<br>col: 7<br>val: 0.27<br>",
           "row: 18<br>col: 8<br>val: -0.037<br>",
           "row: 18<br>col: 9<br>val: -0.49<br>",
           "row: 18<br>col: 10<br>val: 0.054<br>",
           "row: 18<br>col: 11<br>val: 0.2<br>",
           "row: 18<br>col: 12<br>val: -0.023<br>",
           "row: 18<br>col: 13<br>val: 0.12<br>",
           "row: 18<br>col: 14<br>val: 0.21<br>",
           "row: 18<br>col: 15<br>val: 0.18<br>",
           "row: 18<br>col: 16<br>val: -0.21<br>",
           "row: 18<br>col: 17<br>val: 0.3<br>",
           "row: 18<br>col: 18<br>val: 1<br>",
           "row: 18<br>col: 19<br>val: 0.068<br>",
           "row: 18<br>col: 20<br>val: -0.19<br>",
           "row: 18<br>col: 21<br>val: 0.2<br>"
          ],
          [
           "row: 19<br>col: 0<br>val: 0.43<br>",
           "row: 19<br>col: 1<br>val: -0.45<br>",
           "row: 19<br>col: 2<br>val: -0.12<br>",
           "row: 19<br>col: 3<br>val: 0.25<br>",
           "row: 19<br>col: 4<br>val: -0.0069<br>",
           "row: 19<br>col: 5<br>val: -0.035<br>",
           "row: 19<br>col: 6<br>val: 0.23<br>",
           "row: 19<br>col: 7<br>val: -0.26<br>",
           "row: 19<br>col: 8<br>val: 0.12<br>",
           "row: 19<br>col: 9<br>val: -0.11<br>",
           "row: 19<br>col: 10<br>val: -0.3<br>",
           "row: 19<br>col: 11<br>val: 0.25<br>",
           "row: 19<br>col: 12<br>val: -0.051<br>",
           "row: 19<br>col: 13<br>val: 0.0086<br>",
           "row: 19<br>col: 14<br>val: 0.24<br>",
           "row: 19<br>col: 15<br>val: 0.0064<br>",
           "row: 19<br>col: 16<br>val: 0.017<br>",
           "row: 19<br>col: 17<br>val: -0.21<br>",
           "row: 19<br>col: 18<br>val: 0.068<br>",
           "row: 19<br>col: 19<br>val: 1<br>",
           "row: 19<br>col: 20<br>val: -0.35<br>",
           "row: 19<br>col: 21<br>val: 0.32<br>"
          ],
          [
           "row: 20<br>col: 0<br>val: -0.13<br>",
           "row: 20<br>col: 1<br>val: 0.095<br>",
           "row: 20<br>col: 2<br>val: -0.073<br>",
           "row: 20<br>col: 3<br>val: -0.02<br>",
           "row: 20<br>col: 4<br>val: 0.011<br>",
           "row: 20<br>col: 5<br>val: -0.06<br>",
           "row: 20<br>col: 6<br>val: -0.19<br>",
           "row: 20<br>col: 7<br>val: -0.16<br>",
           "row: 20<br>col: 8<br>val: 0.13<br>",
           "row: 20<br>col: 9<br>val: 0.24<br>",
           "row: 20<br>col: 10<br>val: -0.012<br>",
           "row: 20<br>col: 11<br>val: -0.24<br>",
           "row: 20<br>col: 12<br>val: 0.17<br>",
           "row: 20<br>col: 13<br>val: -0.05<br>",
           "row: 20<br>col: 14<br>val: -0.34<br>",
           "row: 20<br>col: 15<br>val: -0.06<br>",
           "row: 20<br>col: 16<br>val: -0.048<br>",
           "row: 20<br>col: 17<br>val: 0.12<br>",
           "row: 20<br>col: 18<br>val: -0.19<br>",
           "row: 20<br>col: 19<br>val: -0.35<br>",
           "row: 20<br>col: 20<br>val: 1<br>",
           "row: 20<br>col: 21<br>val: 0.04<br>"
          ],
          [
           "row: 21<br>col: 0<br>val: 0.45<br>",
           "row: 21<br>col: 1<br>val: -0.11<br>",
           "row: 21<br>col: 2<br>val: -0.2<br>",
           "row: 21<br>col: 3<br>val: 0.2<br>",
           "row: 21<br>col: 4<br>val: 0.27<br>",
           "row: 21<br>col: 5<br>val: -0.26<br>",
           "row: 21<br>col: 6<br>val: 0.19<br>",
           "row: 21<br>col: 7<br>val: 0.096<br>",
           "row: 21<br>col: 8<br>val: 0.38<br>",
           "row: 21<br>col: 9<br>val: -0.085<br>",
           "row: 21<br>col: 10<br>val: -0.0076<br>",
           "row: 21<br>col: 11<br>val: 0.18<br>",
           "row: 21<br>col: 12<br>val: 0.15<br>",
           "row: 21<br>col: 13<br>val: -0.024<br>",
           "row: 21<br>col: 14<br>val: -0.018<br>",
           "row: 21<br>col: 15<br>val: 0.16<br>",
           "row: 21<br>col: 16<br>val: -0.1<br>",
           "row: 21<br>col: 17<br>val: -0.2<br>",
           "row: 21<br>col: 18<br>val: 0.2<br>",
           "row: 21<br>col: 19<br>val: 0.32<br>",
           "row: 21<br>col: 20<br>val: 0.04<br>",
           "row: 21<br>col: 21<br>val: 1<br>"
          ]
         ],
         "type": "heatmap",
         "z": [
          [
           0.99999994,
           -0.15673445,
           -0.107823394,
           0.04220043,
           0.103507005,
           -0.26341367,
           0.14827663,
           0.06387289,
           0.037000544,
           -0.10202551,
           0.0061000604,
           0.098470725,
           0.13164984,
           0.009794623,
           -0.078914136,
           -0.24256164,
           0.11615145,
           -0.16777886,
           -0.035395443,
           0.42660686,
           -0.12725276,
           0.45435497
          ],
          [
           -0.15673445,
           1,
           0.15411411,
           -0.27448562,
           0.0056174546,
           -0.2521835,
           0.15836851,
           0.2506602,
           -0.10917785,
           -0.0151191875,
           0.28975925,
           -0.08361402,
           -0.033682197,
           -0.112020686,
           -0.11542161,
           0.0933767,
           -0.14456129,
           0.3703742,
           0.051002305,
           -0.45080507,
           0.09538116,
           -0.10986478
          ],
          [
           -0.107823394,
           0.15411411,
           0.99999994,
           -0.0499795,
           0.007910643,
           -0.18486956,
           -0.105794474,
           0.26705712,
           0.0050901063,
           -0.12300549,
           -0.08287677,
           -0.23492949,
           0.15290856,
           -0.06850541,
           0.06101446,
           -0.010870061,
           0.12822802,
           0.15406242,
           0.11875599,
           -0.11743729,
           -0.07310652,
           -0.20253345
          ],
          [
           0.04220043,
           -0.27448562,
           -0.0499795,
           1,
           0.06826303,
           0.045443416,
           -0.06744261,
           0.03941872,
           0.18461466,
           -0.17913422,
           -0.29556072,
           -0.3654763,
           0.0066147526,
           0.07618426,
           0.1063609,
           -0.07315409,
           -0.071213976,
           -0.23117138,
           -0.017537387,
           0.25166363,
           -0.019959468,
           0.20237368
          ],
          [
           0.103507005,
           0.0056174546,
           0.007910643,
           0.06826303,
           1.0000001,
           -0.23299009,
           0.27207372,
           0.41175994,
           -0.10785354,
           -0.12941077,
           0.14178565,
           -0.17586221,
           -0.085321754,
           0.09749144,
           -0.08221572,
           0.09177284,
           -0.4208959,
           -0.042802937,
           0.3317809,
           -0.0068922993,
           0.0105617,
           0.2677349
          ],
          [
           -0.26341367,
           -0.2521835,
           -0.18486956,
           0.045443416,
           -0.23299009,
           1.0000001,
           -0.16846783,
           -0.22768377,
           0.03798774,
           0.32041928,
           -0.47841018,
           0.10021592,
           0.023364525,
           -0.047962524,
           0.13018708,
           -0.0019163974,
           0.14999114,
           -0.40599725,
           -0.22614095,
           -0.035278995,
           -0.060449366,
           -0.2570753
          ],
          [
           0.14827663,
           0.15836851,
           -0.105794474,
           -0.06744261,
           0.27207372,
           -0.16846783,
           0.99999994,
           -0.03929896,
           0.030431597,
           -0.019516615,
           0.21359447,
           -0.068220295,
           -0.33527926,
           0.18294327,
           0.10328663,
           -0.10615437,
           0.016266653,
           -0.035077035,
           -0.14829491,
           0.2288559,
           -0.19338089,
           0.18515621
          ],
          [
           0.06387289,
           0.2506602,
           0.26705712,
           0.03941872,
           0.41175994,
           -0.22768377,
           -0.03929896,
           1,
           -0.18159162,
           -0.0235961,
           0.35100272,
           -0.41794533,
           0.07840804,
           -0.08578882,
           -0.116931975,
           -0.09849235,
           -0.10568484,
           0.12529783,
           0.2677646,
           -0.25809333,
           -0.15500386,
           0.09563966
          ],
          [
           0.037000544,
           -0.10917785,
           0.0050901063,
           0.18461466,
           -0.10785354,
           0.03798774,
           0.030431597,
           -0.18159162,
           0.99999994,
           -0.11676128,
           -0.34425342,
           0.26139104,
           0.36377326,
           -0.34761184,
           0.048360076,
           0.13948783,
           0.2182252,
           -0.41886967,
           -0.037146747,
           0.117348425,
           0.12500039,
           0.38380858
          ],
          [
           -0.10202551,
           -0.0151191875,
           -0.12300549,
           -0.17913422,
           -0.12941077,
           0.32041928,
           -0.019516615,
           -0.0235961,
           -0.11676128,
           1.0000001,
           -0.14139435,
           -0.1288511,
           -0.15384492,
           -0.31089497,
           -0.13454822,
           -0.27968103,
           0.023021067,
           -0.17660537,
           -0.49185762,
           -0.10883266,
           0.24132788,
           -0.08500285
          ],
          [
           0.0061000604,
           0.28975925,
           -0.08287677,
           -0.29556072,
           0.14178565,
           -0.47841018,
           0.21359447,
           0.35100272,
           -0.34425342,
           -0.14139435,
           1.0000001,
           -0.21488222,
           -0.15982398,
           -0.036030803,
           -0.28665042,
           -0.017832886,
           -0.14085697,
           0.58459747,
           0.05422382,
           -0.3032937,
           -0.011727889,
           -0.007648805
          ],
          [
           0.098470725,
           -0.08361402,
           -0.23492949,
           -0.3654763,
           -0.17586221,
           0.10021592,
           -0.068220295,
           -0.41794533,
           0.26139104,
           -0.1288511,
           -0.21488222,
           1,
           -0.013450814,
           -0.09953545,
           0.24429527,
           0.33051473,
           0.04446622,
           -0.2576376,
           0.2035657,
           0.25233626,
           -0.23518813,
           0.1848238
          ],
          [
           0.13164984,
           -0.033682197,
           0.15290856,
           0.0066147526,
           -0.085321754,
           0.023364525,
           -0.33527926,
           0.07840804,
           0.36377326,
           -0.15384492,
           -0.15982398,
           -0.013450814,
           1,
           -0.22477183,
           0.0018270481,
           0.10752036,
           -0.0479101,
           -0.063958555,
           -0.023484115,
           -0.051393796,
           0.17139964,
           0.15407126
          ],
          [
           0.009794623,
           -0.112020686,
           -0.06850541,
           0.07618426,
           0.09749144,
           -0.047962524,
           0.18294327,
           -0.08578882,
           -0.34761184,
           -0.31089497,
           -0.036030803,
           -0.09953545,
           -0.22477183,
           1.0000001,
           0.23957287,
           0.10426218,
           0.0053203376,
           0.2284003,
           0.12158769,
           0.008589381,
           -0.050251372,
           -0.023689106
          ],
          [
           -0.078914136,
           -0.11542161,
           0.06101446,
           0.1063609,
           -0.08221572,
           0.13018708,
           0.10328663,
           -0.116931975,
           0.048360076,
           -0.13454822,
           -0.28665042,
           0.24429527,
           0.0018270481,
           0.23957287,
           0.99999994,
           -0.13537137,
           0.069158904,
           -0.1841191,
           0.20539458,
           0.23914635,
           -0.33627707,
           -0.017524524
          ],
          [
           -0.24256164,
           0.0933767,
           -0.010870061,
           -0.07315409,
           0.09177284,
           -0.0019163974,
           -0.10615437,
           -0.09849235,
           0.13948783,
           -0.27968103,
           -0.017832886,
           0.33051473,
           0.10752036,
           0.10426218,
           -0.13537137,
           1,
           -0.1984354,
           0.10832482,
           0.1798816,
           0.0063761347,
           -0.060414765,
           0.16154745
          ],
          [
           0.11615145,
           -0.14456129,
           0.12822802,
           -0.071213976,
           -0.4208959,
           0.14999114,
           0.016266653,
           -0.10568484,
           0.2182252,
           0.023021067,
           -0.14085697,
           0.04446622,
           -0.0479101,
           0.0053203376,
           0.069158904,
           -0.1984354,
           1.0000001,
           -0.19207294,
           -0.20688123,
           0.01651773,
           -0.04808514,
           -0.09975351
          ],
          [
           -0.16777886,
           0.3703742,
           0.15406242,
           -0.23117138,
           -0.042802937,
           -0.40599725,
           -0.035077035,
           0.12529783,
           -0.41886967,
           -0.17660537,
           0.58459747,
           -0.2576376,
           -0.063958555,
           0.2284003,
           -0.1841191,
           0.10832482,
           -0.19207294,
           1.0000001,
           0.29525837,
           -0.2147761,
           0.12313976,
           -0.19824627
          ],
          [
           -0.035395443,
           0.051002305,
           0.11875599,
           -0.017537387,
           0.3317809,
           -0.22614095,
           -0.14829491,
           0.2677646,
           -0.037146747,
           -0.49185762,
           0.05422382,
           0.2035657,
           -0.023484115,
           0.12158769,
           0.20539458,
           0.1798816,
           -0.20688123,
           0.29525837,
           1,
           0.06799939,
           -0.18964103,
           0.20165841
          ],
          [
           0.42660686,
           -0.45080507,
           -0.11743729,
           0.25166363,
           -0.0068922993,
           -0.035278995,
           0.2288559,
           -0.25809333,
           0.117348425,
           -0.10883266,
           -0.3032937,
           0.25233626,
           -0.051393796,
           0.008589381,
           0.23914635,
           0.0063761347,
           0.01651773,
           -0.2147761,
           0.06799939,
           1,
           -0.34754026,
           0.32458463
          ],
          [
           -0.12725276,
           0.09538116,
           -0.07310652,
           -0.019959468,
           0.0105617,
           -0.060449366,
           -0.19338089,
           -0.15500386,
           0.12500039,
           0.24132788,
           -0.011727889,
           -0.23518813,
           0.17139964,
           -0.050251372,
           -0.33627707,
           -0.060414765,
           -0.04808514,
           0.12313976,
           -0.18964103,
           -0.34754026,
           0.9999999,
           0.03972313
          ],
          [
           0.45435497,
           -0.10986478,
           -0.20253345,
           0.20237368,
           0.2677349,
           -0.2570753,
           0.18515621,
           0.09563966,
           0.38380858,
           -0.08500285,
           -0.007648805,
           0.1848238,
           0.15407126,
           -0.023689106,
           -0.017524524,
           0.16154745,
           -0.09975351,
           -0.19824627,
           0.20165841,
           0.32458463,
           0.03972313,
           1
          ]
         ]
        }
       ],
       "layout": {
        "template": {
         "data": {
          "bar": [
           {
            "error_x": {
             "color": "#2a3f5f"
            },
            "error_y": {
             "color": "#2a3f5f"
            },
            "marker": {
             "line": {
              "color": "#E5ECF6",
              "width": 0.5
             },
             "pattern": {
              "fillmode": "overlay",
              "size": 10,
              "solidity": 0.2
             }
            },
            "type": "bar"
           }
          ],
          "barpolar": [
           {
            "marker": {
             "line": {
              "color": "#E5ECF6",
              "width": 0.5
             },
             "pattern": {
              "fillmode": "overlay",
              "size": 10,
              "solidity": 0.2
             }
            },
            "type": "barpolar"
           }
          ],
          "carpet": [
           {
            "aaxis": {
             "endlinecolor": "#2a3f5f",
             "gridcolor": "white",
             "linecolor": "white",
             "minorgridcolor": "white",
             "startlinecolor": "#2a3f5f"
            },
            "baxis": {
             "endlinecolor": "#2a3f5f",
             "gridcolor": "white",
             "linecolor": "white",
             "minorgridcolor": "white",
             "startlinecolor": "#2a3f5f"
            },
            "type": "carpet"
           }
          ],
          "choropleth": [
           {
            "colorbar": {
             "outlinewidth": 0,
             "ticks": ""
            },
            "type": "choropleth"
           }
          ],
          "contour": [
           {
            "colorbar": {
             "outlinewidth": 0,
             "ticks": ""
            },
            "colorscale": [
             [
              0,
              "#0d0887"
             ],
             [
              0.1111111111111111,
              "#46039f"
             ],
             [
              0.2222222222222222,
              "#7201a8"
             ],
             [
              0.3333333333333333,
              "#9c179e"
             ],
             [
              0.4444444444444444,
              "#bd3786"
             ],
             [
              0.5555555555555556,
              "#d8576b"
             ],
             [
              0.6666666666666666,
              "#ed7953"
             ],
             [
              0.7777777777777778,
              "#fb9f3a"
             ],
             [
              0.8888888888888888,
              "#fdca26"
             ],
             [
              1,
              "#f0f921"
             ]
            ],
            "type": "contour"
           }
          ],
          "contourcarpet": [
           {
            "colorbar": {
             "outlinewidth": 0,
             "ticks": ""
            },
            "type": "contourcarpet"
           }
          ],
          "heatmap": [
           {
            "colorbar": {
             "outlinewidth": 0,
             "ticks": ""
            },
            "colorscale": [
             [
              0,
              "#0d0887"
             ],
             [
              0.1111111111111111,
              "#46039f"
             ],
             [
              0.2222222222222222,
              "#7201a8"
             ],
             [
              0.3333333333333333,
              "#9c179e"
             ],
             [
              0.4444444444444444,
              "#bd3786"
             ],
             [
              0.5555555555555556,
              "#d8576b"
             ],
             [
              0.6666666666666666,
              "#ed7953"
             ],
             [
              0.7777777777777778,
              "#fb9f3a"
             ],
             [
              0.8888888888888888,
              "#fdca26"
             ],
             [
              1,
              "#f0f921"
             ]
            ],
            "type": "heatmap"
           }
          ],
          "heatmapgl": [
           {
            "colorbar": {
             "outlinewidth": 0,
             "ticks": ""
            },
            "colorscale": [
             [
              0,
              "#0d0887"
             ],
             [
              0.1111111111111111,
              "#46039f"
             ],
             [
              0.2222222222222222,
              "#7201a8"
             ],
             [
              0.3333333333333333,
              "#9c179e"
             ],
             [
              0.4444444444444444,
              "#bd3786"
             ],
             [
              0.5555555555555556,
              "#d8576b"
             ],
             [
              0.6666666666666666,
              "#ed7953"
             ],
             [
              0.7777777777777778,
              "#fb9f3a"
             ],
             [
              0.8888888888888888,
              "#fdca26"
             ],
             [
              1,
              "#f0f921"
             ]
            ],
            "type": "heatmapgl"
           }
          ],
          "histogram": [
           {
            "marker": {
             "pattern": {
              "fillmode": "overlay",
              "size": 10,
              "solidity": 0.2
             }
            },
            "type": "histogram"
           }
          ],
          "histogram2d": [
           {
            "colorbar": {
             "outlinewidth": 0,
             "ticks": ""
            },
            "colorscale": [
             [
              0,
              "#0d0887"
             ],
             [
              0.1111111111111111,
              "#46039f"
             ],
             [
              0.2222222222222222,
              "#7201a8"
             ],
             [
              0.3333333333333333,
              "#9c179e"
             ],
             [
              0.4444444444444444,
              "#bd3786"
             ],
             [
              0.5555555555555556,
              "#d8576b"
             ],
             [
              0.6666666666666666,
              "#ed7953"
             ],
             [
              0.7777777777777778,
              "#fb9f3a"
             ],
             [
              0.8888888888888888,
              "#fdca26"
             ],
             [
              1,
              "#f0f921"
             ]
            ],
            "type": "histogram2d"
           }
          ],
          "histogram2dcontour": [
           {
            "colorbar": {
             "outlinewidth": 0,
             "ticks": ""
            },
            "colorscale": [
             [
              0,
              "#0d0887"
             ],
             [
              0.1111111111111111,
              "#46039f"
             ],
             [
              0.2222222222222222,
              "#7201a8"
             ],
             [
              0.3333333333333333,
              "#9c179e"
             ],
             [
              0.4444444444444444,
              "#bd3786"
             ],
             [
              0.5555555555555556,
              "#d8576b"
             ],
             [
              0.6666666666666666,
              "#ed7953"
             ],
             [
              0.7777777777777778,
              "#fb9f3a"
             ],
             [
              0.8888888888888888,
              "#fdca26"
             ],
             [
              1,
              "#f0f921"
             ]
            ],
            "type": "histogram2dcontour"
           }
          ],
          "mesh3d": [
           {
            "colorbar": {
             "outlinewidth": 0,
             "ticks": ""
            },
            "type": "mesh3d"
           }
          ],
          "parcoords": [
           {
            "line": {
             "colorbar": {
              "outlinewidth": 0,
              "ticks": ""
             }
            },
            "type": "parcoords"
           }
          ],
          "pie": [
           {
            "automargin": true,
            "type": "pie"
           }
          ],
          "scatter": [
           {
            "fillpattern": {
             "fillmode": "overlay",
             "size": 10,
             "solidity": 0.2
            },
            "type": "scatter"
           }
          ],
          "scatter3d": [
           {
            "line": {
             "colorbar": {
              "outlinewidth": 0,
              "ticks": ""
             }
            },
            "marker": {
             "colorbar": {
              "outlinewidth": 0,
              "ticks": ""
             }
            },
            "type": "scatter3d"
           }
          ],
          "scattercarpet": [
           {
            "marker": {
             "colorbar": {
              "outlinewidth": 0,
              "ticks": ""
             }
            },
            "type": "scattercarpet"
           }
          ],
          "scattergeo": [
           {
            "marker": {
             "colorbar": {
              "outlinewidth": 0,
              "ticks": ""
             }
            },
            "type": "scattergeo"
           }
          ],
          "scattergl": [
           {
            "marker": {
             "colorbar": {
              "outlinewidth": 0,
              "ticks": ""
             }
            },
            "type": "scattergl"
           }
          ],
          "scattermapbox": [
           {
            "marker": {
             "colorbar": {
              "outlinewidth": 0,
              "ticks": ""
             }
            },
            "type": "scattermapbox"
           }
          ],
          "scatterpolar": [
           {
            "marker": {
             "colorbar": {
              "outlinewidth": 0,
              "ticks": ""
             }
            },
            "type": "scatterpolar"
           }
          ],
          "scatterpolargl": [
           {
            "marker": {
             "colorbar": {
              "outlinewidth": 0,
              "ticks": ""
             }
            },
            "type": "scatterpolargl"
           }
          ],
          "scatterternary": [
           {
            "marker": {
             "colorbar": {
              "outlinewidth": 0,
              "ticks": ""
             }
            },
            "type": "scatterternary"
           }
          ],
          "surface": [
           {
            "colorbar": {
             "outlinewidth": 0,
             "ticks": ""
            },
            "colorscale": [
             [
              0,
              "#0d0887"
             ],
             [
              0.1111111111111111,
              "#46039f"
             ],
             [
              0.2222222222222222,
              "#7201a8"
             ],
             [
              0.3333333333333333,
              "#9c179e"
             ],
             [
              0.4444444444444444,
              "#bd3786"
             ],
             [
              0.5555555555555556,
              "#d8576b"
             ],
             [
              0.6666666666666666,
              "#ed7953"
             ],
             [
              0.7777777777777778,
              "#fb9f3a"
             ],
             [
              0.8888888888888888,
              "#fdca26"
             ],
             [
              1,
              "#f0f921"
             ]
            ],
            "type": "surface"
           }
          ],
          "table": [
           {
            "cells": {
             "fill": {
              "color": "#EBF0F8"
             },
             "line": {
              "color": "white"
             }
            },
            "header": {
             "fill": {
              "color": "#C8D4E3"
             },
             "line": {
              "color": "white"
             }
            },
            "type": "table"
           }
          ]
         },
         "layout": {
          "annotationdefaults": {
           "arrowcolor": "#2a3f5f",
           "arrowhead": 0,
           "arrowwidth": 1
          },
          "autotypenumbers": "strict",
          "coloraxis": {
           "colorbar": {
            "outlinewidth": 0,
            "ticks": ""
           }
          },
          "colorscale": {
           "diverging": [
            [
             0,
             "#8e0152"
            ],
            [
             0.1,
             "#c51b7d"
            ],
            [
             0.2,
             "#de77ae"
            ],
            [
             0.3,
             "#f1b6da"
            ],
            [
             0.4,
             "#fde0ef"
            ],
            [
             0.5,
             "#f7f7f7"
            ],
            [
             0.6,
             "#e6f5d0"
            ],
            [
             0.7,
             "#b8e186"
            ],
            [
             0.8,
             "#7fbc41"
            ],
            [
             0.9,
             "#4d9221"
            ],
            [
             1,
             "#276419"
            ]
           ],
           "sequential": [
            [
             0,
             "#0d0887"
            ],
            [
             0.1111111111111111,
             "#46039f"
            ],
            [
             0.2222222222222222,
             "#7201a8"
            ],
            [
             0.3333333333333333,
             "#9c179e"
            ],
            [
             0.4444444444444444,
             "#bd3786"
            ],
            [
             0.5555555555555556,
             "#d8576b"
            ],
            [
             0.6666666666666666,
             "#ed7953"
            ],
            [
             0.7777777777777778,
             "#fb9f3a"
            ],
            [
             0.8888888888888888,
             "#fdca26"
            ],
            [
             1,
             "#f0f921"
            ]
           ],
           "sequentialminus": [
            [
             0,
             "#0d0887"
            ],
            [
             0.1111111111111111,
             "#46039f"
            ],
            [
             0.2222222222222222,
             "#7201a8"
            ],
            [
             0.3333333333333333,
             "#9c179e"
            ],
            [
             0.4444444444444444,
             "#bd3786"
            ],
            [
             0.5555555555555556,
             "#d8576b"
            ],
            [
             0.6666666666666666,
             "#ed7953"
            ],
            [
             0.7777777777777778,
             "#fb9f3a"
            ],
            [
             0.8888888888888888,
             "#fdca26"
            ],
            [
             1,
             "#f0f921"
            ]
           ]
          },
          "colorway": [
           "#636efa",
           "#EF553B",
           "#00cc96",
           "#ab63fa",
           "#FFA15A",
           "#19d3f3",
           "#FF6692",
           "#B6E880",
           "#FF97FF",
           "#FECB52"
          ],
          "font": {
           "color": "#2a3f5f"
          },
          "geo": {
           "bgcolor": "white",
           "lakecolor": "white",
           "landcolor": "#E5ECF6",
           "showlakes": true,
           "showland": true,
           "subunitcolor": "white"
          },
          "hoverlabel": {
           "align": "left"
          },
          "hovermode": "closest",
          "mapbox": {
           "style": "light"
          },
          "paper_bgcolor": "white",
          "plot_bgcolor": "#E5ECF6",
          "polar": {
           "angularaxis": {
            "gridcolor": "white",
            "linecolor": "white",
            "ticks": ""
           },
           "bgcolor": "#E5ECF6",
           "radialaxis": {
            "gridcolor": "white",
            "linecolor": "white",
            "ticks": ""
           }
          },
          "scene": {
           "xaxis": {
            "backgroundcolor": "#E5ECF6",
            "gridcolor": "white",
            "gridwidth": 2,
            "linecolor": "white",
            "showbackground": true,
            "ticks": "",
            "zerolinecolor": "white"
           },
           "yaxis": {
            "backgroundcolor": "#E5ECF6",
            "gridcolor": "white",
            "gridwidth": 2,
            "linecolor": "white",
            "showbackground": true,
            "ticks": "",
            "zerolinecolor": "white"
           },
           "zaxis": {
            "backgroundcolor": "#E5ECF6",
            "gridcolor": "white",
            "gridwidth": 2,
            "linecolor": "white",
            "showbackground": true,
            "ticks": "",
            "zerolinecolor": "white"
           }
          },
          "shapedefaults": {
           "line": {
            "color": "#2a3f5f"
           }
          },
          "ternary": {
           "aaxis": {
            "gridcolor": "white",
            "linecolor": "white",
            "ticks": ""
           },
           "baxis": {
            "gridcolor": "white",
            "linecolor": "white",
            "ticks": ""
           },
           "bgcolor": "#E5ECF6",
           "caxis": {
            "gridcolor": "white",
            "linecolor": "white",
            "ticks": ""
           }
          },
          "title": {
           "x": 0.05
          },
          "xaxis": {
           "automargin": true,
           "gridcolor": "white",
           "linecolor": "white",
           "ticks": "",
           "title": {
            "standoff": 15
           },
           "zerolinecolor": "white",
           "zerolinewidth": 2
          },
          "yaxis": {
           "automargin": true,
           "gridcolor": "white",
           "linecolor": "white",
           "ticks": "",
           "title": {
            "standoff": 15
           },
           "zerolinecolor": "white",
           "zerolinewidth": 2
          }
         }
        },
        "title": {
         "text": "(22, 22)"
        },
        "xaxis": {
         "showticklabels": false,
         "title": {
          "text": "col (22)"
         }
        },
        "yaxis": {
         "autorange": "reversed",
         "showticklabels": false,
         "title": {
          "text": "row (22)"
         }
        }
       }
      }
     },
     "metadata": {},
     "output_type": "display_data"
    }
   ],
   "source": [
    "heatmap(true_feats_n @ true_feats_n.T)"
   ]
  },
  {
   "cell_type": "code",
   "execution_count": null,
   "metadata": {},
   "outputs": [],
   "source": [
    "heatmap(true_feats_n @ sae_feats_n[feat_perm].T)"
   ]
  }
 ],
 "metadata": {
  "kernelspec": {
   "display_name": "tokre",
   "language": "python",
   "name": "python3"
  },
  "language_info": {
   "codemirror_mode": {
    "name": "ipython",
    "version": 3
   },
   "file_extension": ".py",
   "mimetype": "text/x-python",
   "name": "python",
   "nbconvert_exporter": "python",
   "pygments_lexer": "ipython3",
   "version": "3.11.9"
  }
 },
 "nbformat": 4,
 "nbformat_minor": 2
}
