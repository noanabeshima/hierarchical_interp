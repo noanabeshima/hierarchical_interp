{
 "cells": [
  {
   "attachments": {},
   "cell_type": "markdown",
   "metadata": {},
   "source": [
    "## Reconstruct toy features using Method of Optimal Directions (MOD)"
   ]
  },
  {
   "cell_type": "code",
   "execution_count": 1,
   "metadata": {},
   "outputs": [],
   "source": [
    "import torch\n",
    "import torch.nn as nn\n",
    "import torch.nn.functional as F\n",
    "import torch.optim as optim\n",
    "import torch.distributions as dists\n",
    "import numpy as np\n",
    "from interp_utils import see, asee\n",
    "from interp_utils import get_scheduler\n",
    "from interp_utils import reload_module\n",
    "from tqdm import tqdm\n",
    "p=print\n"
   ]
  },
  {
   "cell_type": "code",
   "execution_count": null,
   "metadata": {},
   "outputs": [],
   "source": [
    "\n"
   ]
  },
  {
   "cell_type": "code",
   "execution_count": 2,
   "metadata": {},
   "outputs": [
    {
     "name": "stderr",
     "output_type": "stream",
     "text": [
      "loss: 0.017, mse: 0.005, sparse: 0.013: 100%|██████████| 1000/1000 [00:16<00:00, 61.91it/s]\n",
      "loss: 0.006, mse: 0.006: 100%|██████████| 1000/1000 [00:10<00:00, 92.58it/s]\n",
      "loss: 0.017, mse: 0.004, sparse: 0.013: 100%|██████████| 1000/1000 [00:13<00:00, 71.81it/s]\n",
      "loss: 0.005, mse: 0.005: 100%|██████████| 1000/1000 [00:10<00:00, 94.62it/s]\n",
      "loss: 0.018, mse: 0.006, sparse: 0.013: 100%|██████████| 1000/1000 [00:12<00:00, 82.12it/s]\n",
      "loss: 0.006, mse: 0.006: 100%|██████████| 1000/1000 [00:09<00:00, 102.42it/s]\n",
      "loss: 0.019, mse: 0.006, sparse: 0.013: 100%|██████████| 1000/1000 [00:12<00:00, 81.62it/s]\n",
      "loss: 0.006, mse: 0.006: 100%|██████████| 1000/1000 [00:11<00:00, 86.65it/s]\n",
      "loss: 0.020, mse: 0.007, sparse: 0.013:  32%|███▏      | 322/1000 [00:04<00:08, 75.60it/s]\n"
     ]
    },
    {
     "ename": "KeyboardInterrupt",
     "evalue": "",
     "output_type": "error",
     "traceback": [
      "\u001b[0;31m---------------------------------------------------------------------------\u001b[0m",
      "\u001b[0;31mKeyboardInterrupt\u001b[0m                         Traceback (most recent call last)",
      "Cell \u001b[0;32mIn[2], line 30\u001b[0m\n\u001b[1;32m     27\u001b[0m batch, features \u001b[39m=\u001b[39m toy(BATCH_SIZE)\n\u001b[1;32m     29\u001b[0m \u001b[39m# update codes\u001b[39;00m\n\u001b[0;32m---> 30\u001b[0m nnmf\u001b[39m.\u001b[39;49mtrain(batch, frozen_atoms\u001b[39m=\u001b[39;49mepoch \u001b[39m>\u001b[39;49m \u001b[39m1\u001b[39;49m, sparse_coef\u001b[39m=\u001b[39;49mSPARSE_COEF, n_steps\u001b[39m=\u001b[39;49mCODE_STEPS, reinit_codes\u001b[39m=\u001b[39;49m\u001b[39mTrue\u001b[39;49;00m)\n\u001b[1;32m     32\u001b[0m \u001b[39m# update atoms\u001b[39;00m\n\u001b[1;32m     33\u001b[0m nnmf\u001b[39m.\u001b[39mtrain(batch, frozen_codes\u001b[39m=\u001b[39m\u001b[39mTrue\u001b[39;00m, sparse_coef\u001b[39m=\u001b[39mSPARSE_COEF, n_steps\u001b[39m=\u001b[39mATOM_STEPS)\n",
      "File \u001b[0;32m~/hierarchical-interp/hierarchical_interp/sparse_features/models.py:103\u001b[0m, in \u001b[0;36mSparseNNMF.train\u001b[0;34m(self, batch, n_steps, lr, sparse_coef, frozen_codes, frozen_atoms, reinit_codes)\u001b[0m\n\u001b[1;32m    101\u001b[0m optimizer\u001b[39m.\u001b[39mzero_grad()\n\u001b[1;32m    102\u001b[0m loss\u001b[39m.\u001b[39mbackward()\n\u001b[0;32m--> 103\u001b[0m optimizer\u001b[39m.\u001b[39;49mstep()\n\u001b[1;32m    104\u001b[0m scheduler\u001b[39m.\u001b[39mstep()\n\u001b[1;32m    106\u001b[0m \u001b[39mif\u001b[39;00m frozen_codes:\n",
      "File \u001b[0;32m~/.miniconda/envs/gpt/lib/python3.10/site-packages/torch/optim/lr_scheduler.py:68\u001b[0m, in \u001b[0;36m_LRScheduler.__init__.<locals>.with_counter.<locals>.wrapper\u001b[0;34m(*args, **kwargs)\u001b[0m\n\u001b[1;32m     66\u001b[0m instance\u001b[39m.\u001b[39m_step_count \u001b[39m+\u001b[39m\u001b[39m=\u001b[39m \u001b[39m1\u001b[39m\n\u001b[1;32m     67\u001b[0m wrapped \u001b[39m=\u001b[39m func\u001b[39m.\u001b[39m\u001b[39m__get__\u001b[39m(instance, \u001b[39mcls\u001b[39m)\n\u001b[0;32m---> 68\u001b[0m \u001b[39mreturn\u001b[39;00m wrapped(\u001b[39m*\u001b[39;49margs, \u001b[39m*\u001b[39;49m\u001b[39m*\u001b[39;49mkwargs)\n",
      "File \u001b[0;32m~/.miniconda/envs/gpt/lib/python3.10/site-packages/torch/optim/optimizer.py:140\u001b[0m, in \u001b[0;36mOptimizer._hook_for_profile.<locals>.profile_hook_step.<locals>.wrapper\u001b[0;34m(*args, **kwargs)\u001b[0m\n\u001b[1;32m    138\u001b[0m profile_name \u001b[39m=\u001b[39m \u001b[39m\"\u001b[39m\u001b[39mOptimizer.step#\u001b[39m\u001b[39m{}\u001b[39;00m\u001b[39m.step\u001b[39m\u001b[39m\"\u001b[39m\u001b[39m.\u001b[39mformat(obj\u001b[39m.\u001b[39m\u001b[39m__class__\u001b[39m\u001b[39m.\u001b[39m\u001b[39m__name__\u001b[39m)\n\u001b[1;32m    139\u001b[0m \u001b[39mwith\u001b[39;00m torch\u001b[39m.\u001b[39mautograd\u001b[39m.\u001b[39mprofiler\u001b[39m.\u001b[39mrecord_function(profile_name):\n\u001b[0;32m--> 140\u001b[0m     out \u001b[39m=\u001b[39m func(\u001b[39m*\u001b[39;49margs, \u001b[39m*\u001b[39;49m\u001b[39m*\u001b[39;49mkwargs)\n\u001b[1;32m    141\u001b[0m     obj\u001b[39m.\u001b[39m_optimizer_step_code()\n\u001b[1;32m    142\u001b[0m     \u001b[39mreturn\u001b[39;00m out\n",
      "File \u001b[0;32m~/.miniconda/envs/gpt/lib/python3.10/site-packages/torch/optim/optimizer.py:23\u001b[0m, in \u001b[0;36m_use_grad_for_differentiable.<locals>._use_grad\u001b[0;34m(self, *args, **kwargs)\u001b[0m\n\u001b[1;32m     21\u001b[0m \u001b[39mtry\u001b[39;00m:\n\u001b[1;32m     22\u001b[0m     torch\u001b[39m.\u001b[39mset_grad_enabled(\u001b[39mself\u001b[39m\u001b[39m.\u001b[39mdefaults[\u001b[39m'\u001b[39m\u001b[39mdifferentiable\u001b[39m\u001b[39m'\u001b[39m])\n\u001b[0;32m---> 23\u001b[0m     ret \u001b[39m=\u001b[39m func(\u001b[39mself\u001b[39;49m, \u001b[39m*\u001b[39;49margs, \u001b[39m*\u001b[39;49m\u001b[39m*\u001b[39;49mkwargs)\n\u001b[1;32m     24\u001b[0m \u001b[39mfinally\u001b[39;00m:\n\u001b[1;32m     25\u001b[0m     torch\u001b[39m.\u001b[39mset_grad_enabled(prev_grad)\n",
      "File \u001b[0;32m~/.miniconda/envs/gpt/lib/python3.10/site-packages/torch/optim/adam.py:234\u001b[0m, in \u001b[0;36mAdam.step\u001b[0;34m(self, closure, grad_scaler)\u001b[0m\n\u001b[1;32m    231\u001b[0m                 \u001b[39mraise\u001b[39;00m \u001b[39mRuntimeError\u001b[39;00m(\u001b[39m'\u001b[39m\u001b[39m`requires_grad` is not supported for `step` in differentiable mode\u001b[39m\u001b[39m'\u001b[39m)\n\u001b[1;32m    232\u001b[0m             state_steps\u001b[39m.\u001b[39mappend(state[\u001b[39m'\u001b[39m\u001b[39mstep\u001b[39m\u001b[39m'\u001b[39m])\n\u001b[0;32m--> 234\u001b[0m     adam(params_with_grad,\n\u001b[1;32m    235\u001b[0m          grads,\n\u001b[1;32m    236\u001b[0m          exp_avgs,\n\u001b[1;32m    237\u001b[0m          exp_avg_sqs,\n\u001b[1;32m    238\u001b[0m          max_exp_avg_sqs,\n\u001b[1;32m    239\u001b[0m          state_steps,\n\u001b[1;32m    240\u001b[0m          amsgrad\u001b[39m=\u001b[39;49mgroup[\u001b[39m'\u001b[39;49m\u001b[39mamsgrad\u001b[39;49m\u001b[39m'\u001b[39;49m],\n\u001b[1;32m    241\u001b[0m          beta1\u001b[39m=\u001b[39;49mbeta1,\n\u001b[1;32m    242\u001b[0m          beta2\u001b[39m=\u001b[39;49mbeta2,\n\u001b[1;32m    243\u001b[0m          lr\u001b[39m=\u001b[39;49mgroup[\u001b[39m'\u001b[39;49m\u001b[39mlr\u001b[39;49m\u001b[39m'\u001b[39;49m],\n\u001b[1;32m    244\u001b[0m          weight_decay\u001b[39m=\u001b[39;49mgroup[\u001b[39m'\u001b[39;49m\u001b[39mweight_decay\u001b[39;49m\u001b[39m'\u001b[39;49m],\n\u001b[1;32m    245\u001b[0m          eps\u001b[39m=\u001b[39;49mgroup[\u001b[39m'\u001b[39;49m\u001b[39meps\u001b[39;49m\u001b[39m'\u001b[39;49m],\n\u001b[1;32m    246\u001b[0m          maximize\u001b[39m=\u001b[39;49mgroup[\u001b[39m'\u001b[39;49m\u001b[39mmaximize\u001b[39;49m\u001b[39m'\u001b[39;49m],\n\u001b[1;32m    247\u001b[0m          foreach\u001b[39m=\u001b[39;49mgroup[\u001b[39m'\u001b[39;49m\u001b[39mforeach\u001b[39;49m\u001b[39m'\u001b[39;49m],\n\u001b[1;32m    248\u001b[0m          capturable\u001b[39m=\u001b[39;49mgroup[\u001b[39m'\u001b[39;49m\u001b[39mcapturable\u001b[39;49m\u001b[39m'\u001b[39;49m],\n\u001b[1;32m    249\u001b[0m          differentiable\u001b[39m=\u001b[39;49mgroup[\u001b[39m'\u001b[39;49m\u001b[39mdifferentiable\u001b[39;49m\u001b[39m'\u001b[39;49m],\n\u001b[1;32m    250\u001b[0m          fused\u001b[39m=\u001b[39;49mgroup[\u001b[39m'\u001b[39;49m\u001b[39mfused\u001b[39;49m\u001b[39m'\u001b[39;49m],\n\u001b[1;32m    251\u001b[0m          grad_scale\u001b[39m=\u001b[39;49mgrad_scale,\n\u001b[1;32m    252\u001b[0m          found_inf\u001b[39m=\u001b[39;49mfound_inf)\n\u001b[1;32m    254\u001b[0m \u001b[39mreturn\u001b[39;00m loss\n",
      "File \u001b[0;32m~/.miniconda/envs/gpt/lib/python3.10/site-packages/torch/optim/adam.py:300\u001b[0m, in \u001b[0;36madam\u001b[0;34m(params, grads, exp_avgs, exp_avg_sqs, max_exp_avg_sqs, state_steps, foreach, capturable, differentiable, fused, grad_scale, found_inf, amsgrad, beta1, beta2, lr, weight_decay, eps, maximize)\u001b[0m\n\u001b[1;32m    297\u001b[0m \u001b[39melse\u001b[39;00m:\n\u001b[1;32m    298\u001b[0m     func \u001b[39m=\u001b[39m _single_tensor_adam\n\u001b[0;32m--> 300\u001b[0m func(params,\n\u001b[1;32m    301\u001b[0m      grads,\n\u001b[1;32m    302\u001b[0m      exp_avgs,\n\u001b[1;32m    303\u001b[0m      exp_avg_sqs,\n\u001b[1;32m    304\u001b[0m      max_exp_avg_sqs,\n\u001b[1;32m    305\u001b[0m      state_steps,\n\u001b[1;32m    306\u001b[0m      amsgrad\u001b[39m=\u001b[39;49mamsgrad,\n\u001b[1;32m    307\u001b[0m      beta1\u001b[39m=\u001b[39;49mbeta1,\n\u001b[1;32m    308\u001b[0m      beta2\u001b[39m=\u001b[39;49mbeta2,\n\u001b[1;32m    309\u001b[0m      lr\u001b[39m=\u001b[39;49mlr,\n\u001b[1;32m    310\u001b[0m      weight_decay\u001b[39m=\u001b[39;49mweight_decay,\n\u001b[1;32m    311\u001b[0m      eps\u001b[39m=\u001b[39;49meps,\n\u001b[1;32m    312\u001b[0m      maximize\u001b[39m=\u001b[39;49mmaximize,\n\u001b[1;32m    313\u001b[0m      capturable\u001b[39m=\u001b[39;49mcapturable,\n\u001b[1;32m    314\u001b[0m      differentiable\u001b[39m=\u001b[39;49mdifferentiable,\n\u001b[1;32m    315\u001b[0m      grad_scale\u001b[39m=\u001b[39;49mgrad_scale,\n\u001b[1;32m    316\u001b[0m      found_inf\u001b[39m=\u001b[39;49mfound_inf)\n",
      "File \u001b[0;32m~/.miniconda/envs/gpt/lib/python3.10/site-packages/torch/optim/adam.py:412\u001b[0m, in \u001b[0;36m_single_tensor_adam\u001b[0;34m(params, grads, exp_avgs, exp_avg_sqs, max_exp_avg_sqs, state_steps, grad_scale, found_inf, amsgrad, beta1, beta2, lr, weight_decay, eps, maximize, capturable, differentiable)\u001b[0m\n\u001b[1;32m    409\u001b[0m \u001b[39melse\u001b[39;00m:\n\u001b[1;32m    410\u001b[0m     denom \u001b[39m=\u001b[39m (exp_avg_sq\u001b[39m.\u001b[39msqrt() \u001b[39m/\u001b[39m bias_correction2_sqrt)\u001b[39m.\u001b[39madd_(eps)\n\u001b[0;32m--> 412\u001b[0m param\u001b[39m.\u001b[39;49maddcdiv_(exp_avg, denom, value\u001b[39m=\u001b[39;49m\u001b[39m-\u001b[39;49mstep_size)\n",
      "\u001b[0;31mKeyboardInterrupt\u001b[0m: "
     ]
    }
   ],
   "source": [
    "reload_module('interp_models')\n",
    "from interp_models import Autoencoder, SparseAutoencoder, SparseNNMF\n",
    "from tqdm import tqdm\n",
    "from interp_utils import get_scheduler\n",
    "\n",
    "reload_module('toy_models')\n",
    "from toy_models import SparseIndependent\n",
    "\n",
    "N_FEATURES = 300\n",
    "D_MODEL = 100\n",
    "N_EPOCHS = 10\n",
    "CODE_STEPS = 1000\n",
    "ATOM_STEPS=1000\n",
    "BATCH_SIZE=10000\n",
    "SPARSE_COEF = 1\n",
    "\n",
    "toy = SparseIndependent(n_features=N_FEATURES, d_model=D_MODEL, feature_sparsity=0.04)\n",
    "hidden_state, ground_truth = toy(D_MODEL)\n",
    "\n",
    "nnmf = SparseNNMF(n_features=N_FEATURES, d_model=D_MODEL)\n",
    "\n",
    "\n",
    "for epoch in range(N_EPOCHS):\n",
    "    optimizer = optim.Adam(nnmf.parameters(), lr=1e-2)\n",
    "    scheduler = get_scheduler(optimizer, CODE_STEPS)\n",
    "\n",
    "    batch, features = toy(BATCH_SIZE)\n",
    "\n",
    "    # update codes\n",
    "    nnmf.train(batch, frozen_atoms=epoch > 1, sparse_coef=SPARSE_COEF, n_steps=CODE_STEPS, reinit_codes=True)\n",
    "\n",
    "    # update atoms\n",
    "    nnmf.train(batch, frozen_codes=True, sparse_coef=SPARSE_COEF, n_steps=ATOM_STEPS)\n",
    "\n"
   ]
  },
  {
   "cell_type": "code",
   "execution_count": null,
   "metadata": {},
   "outputs": [],
   "source": []
  },
  {
   "cell_type": "code",
   "execution_count": 44,
   "metadata": {},
   "outputs": [
    {
     "name": "stderr",
     "output_type": "stream",
     "text": [
      "loss: 0.004, mse: 0.001, sparse: 0.032: 100%|██████████| 3000/3000 [00:10<00:00, 293.38it/s]\n"
     ]
    }
   ],
   "source": [
    "# batch, features = toy(1000)\n",
    "\n",
    "# nnmf.train(batch, n_steps=3000, frozen_atoms=True)\n",
    "\n"
   ]
  },
  {
   "cell_type": "code",
   "execution_count": 3,
   "metadata": {},
   "outputs": [
    {
     "data": {
      "application/vnd.plotly.v1+json": {
       "config": {
        "plotlyServerURL": "https://plot.ly"
       },
       "data": [
        {
         "alignmentgroup": "True",
         "bingroup": "x",
         "hovertemplate": "variable=0<br>value=%{x}<br>count=%{y}<extra></extra>",
         "legendgroup": "0",
         "marker": {
          "color": "#636efa",
          "pattern": {
           "shape": ""
          }
         },
         "name": "0",
         "offsetgroup": "0",
         "orientation": "v",
         "showlegend": true,
         "type": "histogram",
         "x": [
          0.9375419020652771,
          0.9341176748275757,
          0.9527422189712524,
          0.9380995035171509,
          0.9547146558761597,
          0.9465299248695374,
          0.9314442873001099,
          0.9435316920280457,
          0.9456059336662292,
          0.9415814876556396,
          0.9488106369972229,
          0.9466099143028259,
          0.9192118048667908,
          0.9402146339416504,
          0.9515366554260254,
          0.9343198537826538,
          0.9312778115272522,
          0.9217319488525391,
          0.9420072436332703,
          0.9492992162704468,
          0.9418288469314575,
          0.9405351281166077,
          0.9449394345283508,
          0.9069787859916687,
          0.9343500733375549,
          0.9612484574317932,
          0.9480770230293274,
          0.9352115988731384,
          0.9060114622116089,
          0.9441303014755249,
          0.9474440217018127,
          0.944162905216217,
          0.9359079599380493,
          0.9448044300079346,
          0.9551340341567993,
          0.9430281519889832,
          0.945274293422699,
          0.9310415983200073,
          0.9455189108848572,
          0.9384498596191406,
          0.9391686916351318,
          0.9462289810180664,
          0.9549911618232727,
          0.9380760192871094,
          0.9391918778419495,
          0.9367412328720093,
          0.8690541386604309,
          0.932612955570221,
          0.9293171763420105,
          0.9341534972190857,
          0.9453415870666504,
          0.9446620345115662,
          0.9402713775634766,
          0.9298657178878784,
          0.9490892291069031,
          0.9377986788749695,
          0.9313235878944397,
          0.9554415941238403,
          0.9064644575119019,
          0.9454853534698486,
          0.9396789073944092,
          0.9398055076599121,
          0.9594307541847229,
          0.9466522932052612,
          0.9316192269325256,
          0.9379767775535583,
          0.9524368643760681,
          0.9375965595245361,
          0.9478896260261536,
          0.9363436698913574,
          0.9306937456130981,
          0.9566220641136169,
          0.9475163221359253,
          0.9445396065711975,
          0.9285784959793091,
          0.9559237957000732,
          0.9205784797668457,
          0.9296828508377075,
          0.955732524394989,
          0.9544982314109802,
          0.9260486364364624,
          0.9477943778038025,
          0.9442651867866516,
          0.9499903321266174,
          0.9499713778495789,
          0.960639476776123,
          0.9380912184715271,
          0.947564959526062,
          0.9408114552497864,
          0.9249173402786255,
          0.919145941734314,
          0.9366481304168701,
          0.9325731992721558,
          0.93440181016922,
          0.9334478974342346,
          0.9322546720504761,
          0.9446454048156738,
          0.9352517127990723,
          0.9483307003974915,
          0.9330807328224182,
          0.9481230974197388,
          0.9378976821899414,
          0.9550434350967407,
          0.953949511051178,
          0.9536752700805664,
          0.9455507397651672,
          0.9250626564025879,
          0.9400496482849121,
          0.9549200534820557,
          0.939189612865448,
          0.9530122876167297,
          0.9510464668273926,
          0.9436468482017517,
          0.9098736643791199,
          0.9429205656051636,
          0.9515960216522217,
          0.9319243431091309,
          0.9343546628952026,
          0.9557030200958252,
          0.943902313709259,
          0.9401848912239075,
          0.9470968246459961,
          0.9631801843643188,
          0.9444125890731812,
          0.6788322329521179,
          0.9337787628173828,
          0.9443745017051697,
          0.9494415521621704,
          0.9457709193229675,
          0.9485286474227905,
          0.9564388394355774,
          0.9291766881942749,
          0.9531936049461365,
          0.916294515132904,
          0.9513069987297058,
          0.9427105784416199,
          0.9496361017227173,
          0.9554985761642456,
          0.9584609270095825,
          0.9145928621292114,
          0.9314925074577332,
          0.9241188764572144,
          0.9311836361885071,
          0.9551004767417908,
          0.9448826313018799,
          0.9503380656242371,
          0.9595387578010559,
          0.943287193775177,
          0.9363873600959778,
          0.9411484003067017,
          0.9500680565834045,
          0.9596031904220581,
          0.939027726650238,
          0.9269683361053467,
          0.940530002117157,
          0.944954514503479,
          0.9239462614059448,
          0.9395959377288818,
          0.950677216053009,
          0.9243519306182861,
          0.9351134300231934,
          0.9500111937522888,
          0.9472226500511169,
          0.9387036561965942,
          0.9344951510429382,
          0.9564058780670166,
          0.9045283198356628,
          0.9441909790039062,
          0.9524842500686646,
          0.942736804485321,
          0.9383825063705444,
          0.9354434013366699,
          0.9290164709091187,
          0.9234023094177246,
          0.9266177415847778,
          0.9332069158554077,
          0.945162296295166,
          0.9248419404029846,
          0.9438665509223938,
          0.9390500783920288,
          0.9479488730430603,
          0.9476027488708496,
          0.800238847732544,
          0.93133145570755,
          0.9539027214050293,
          0.9371601343154907,
          0.9498051404953003,
          0.9503226280212402,
          0.921902596950531,
          0.9395630955696106,
          0.9541201591491699,
          0.8898113369941711,
          0.9260969161987305,
          0.9386005997657776,
          0.8114543557167053,
          0.9555742740631104,
          0.933238685131073,
          0.9322284460067749,
          0.9475078582763672,
          0.9406834840774536,
          0.9361711144447327,
          0.9380890727043152,
          0.942242443561554,
          0.9333378076553345,
          0.9122592210769653,
          0.9504142999649048,
          0.9372553825378418,
          0.9544883966445923,
          0.9494670033454895,
          0.9455563426017761,
          0.9426486492156982,
          0.8259914517402649,
          0.9371435046195984,
          0.9478180408477783,
          0.9365912079811096,
          0.9455867409706116,
          0.945818305015564,
          0.9287483096122742,
          0.933776319026947,
          0.9532150030136108,
          0.9505653977394104,
          0.9448947906494141,
          0.8565888404846191,
          0.9254212975502014,
          0.9367774128913879,
          0.9249371290206909,
          0.9343986511230469,
          0.9598959684371948,
          0.9405516982078552,
          0.9302942752838135,
          0.9468973278999329,
          0.9172155857086182,
          0.9278774857521057,
          0.9550866484642029,
          0.933472216129303,
          0.9450445175170898,
          0.9461463689804077,
          0.9500820636749268,
          0.9553117156028748,
          0.9394276738166809,
          0.9404953122138977,
          0.9326897263526917,
          0.9459158778190613,
          0.9283455014228821,
          0.9304380416870117,
          0.9355790615081787,
          0.9392130970954895,
          0.9439363479614258,
          0.9446935653686523,
          0.9576122760772705,
          0.937560498714447,
          0.9428474307060242,
          0.9549643397331238,
          0.9566245079040527,
          0.9433779120445251,
          0.9449271559715271,
          0.9274544715881348,
          0.9545122981071472,
          0.9559043645858765,
          0.9181101322174072,
          0.9576944708824158,
          0.906109631061554,
          0.9412770867347717,
          0.9582533836364746,
          0.9392488598823547,
          0.9322683215141296,
          0.9108516573905945,
          0.9415812492370605,
          0.9522686004638672,
          0.9343735575675964,
          0.9458661079406738,
          0.9417885541915894,
          0.923038899898529,
          0.9232342839241028,
          0.9470486044883728,
          0.9546707272529602,
          0.9342259168624878,
          0.9477435946464539,
          0.9515420198440552,
          0.9273343682289124,
          0.9113547205924988,
          0.9488511085510254,
          0.9324632883071899,
          0.9297999143600464,
          0.9504169225692749,
          0.9453107118606567,
          0.9537864923477173,
          0.9465811252593994,
          0.9053259491920471,
          0.9473037719726562,
          0.9544625282287598,
          0.946861207485199,
          0.933566153049469,
          0.9366791248321533,
          0.924018144607544,
          0.9395967125892639,
          0.9291225671768188,
          0.9441893100738525,
          0.9585580229759216,
          0.9386892318725586
         ],
         "xaxis": "x",
         "yaxis": "y"
        }
       ],
       "layout": {
        "barmode": "relative",
        "legend": {
         "title": {
          "text": "variable"
         },
         "tracegroupgap": 0
        },
        "margin": {
         "t": 60
        },
        "showlegend": false,
        "template": {
         "data": {
          "bar": [
           {
            "error_x": {
             "color": "#2a3f5f"
            },
            "error_y": {
             "color": "#2a3f5f"
            },
            "marker": {
             "line": {
              "color": "#E5ECF6",
              "width": 0.5
             },
             "pattern": {
              "fillmode": "overlay",
              "size": 10,
              "solidity": 0.2
             }
            },
            "type": "bar"
           }
          ],
          "barpolar": [
           {
            "marker": {
             "line": {
              "color": "#E5ECF6",
              "width": 0.5
             },
             "pattern": {
              "fillmode": "overlay",
              "size": 10,
              "solidity": 0.2
             }
            },
            "type": "barpolar"
           }
          ],
          "carpet": [
           {
            "aaxis": {
             "endlinecolor": "#2a3f5f",
             "gridcolor": "white",
             "linecolor": "white",
             "minorgridcolor": "white",
             "startlinecolor": "#2a3f5f"
            },
            "baxis": {
             "endlinecolor": "#2a3f5f",
             "gridcolor": "white",
             "linecolor": "white",
             "minorgridcolor": "white",
             "startlinecolor": "#2a3f5f"
            },
            "type": "carpet"
           }
          ],
          "choropleth": [
           {
            "colorbar": {
             "outlinewidth": 0,
             "ticks": ""
            },
            "type": "choropleth"
           }
          ],
          "contour": [
           {
            "colorbar": {
             "outlinewidth": 0,
             "ticks": ""
            },
            "colorscale": [
             [
              0,
              "#0d0887"
             ],
             [
              0.1111111111111111,
              "#46039f"
             ],
             [
              0.2222222222222222,
              "#7201a8"
             ],
             [
              0.3333333333333333,
              "#9c179e"
             ],
             [
              0.4444444444444444,
              "#bd3786"
             ],
             [
              0.5555555555555556,
              "#d8576b"
             ],
             [
              0.6666666666666666,
              "#ed7953"
             ],
             [
              0.7777777777777778,
              "#fb9f3a"
             ],
             [
              0.8888888888888888,
              "#fdca26"
             ],
             [
              1,
              "#f0f921"
             ]
            ],
            "type": "contour"
           }
          ],
          "contourcarpet": [
           {
            "colorbar": {
             "outlinewidth": 0,
             "ticks": ""
            },
            "type": "contourcarpet"
           }
          ],
          "heatmap": [
           {
            "colorbar": {
             "outlinewidth": 0,
             "ticks": ""
            },
            "colorscale": [
             [
              0,
              "#0d0887"
             ],
             [
              0.1111111111111111,
              "#46039f"
             ],
             [
              0.2222222222222222,
              "#7201a8"
             ],
             [
              0.3333333333333333,
              "#9c179e"
             ],
             [
              0.4444444444444444,
              "#bd3786"
             ],
             [
              0.5555555555555556,
              "#d8576b"
             ],
             [
              0.6666666666666666,
              "#ed7953"
             ],
             [
              0.7777777777777778,
              "#fb9f3a"
             ],
             [
              0.8888888888888888,
              "#fdca26"
             ],
             [
              1,
              "#f0f921"
             ]
            ],
            "type": "heatmap"
           }
          ],
          "heatmapgl": [
           {
            "colorbar": {
             "outlinewidth": 0,
             "ticks": ""
            },
            "colorscale": [
             [
              0,
              "#0d0887"
             ],
             [
              0.1111111111111111,
              "#46039f"
             ],
             [
              0.2222222222222222,
              "#7201a8"
             ],
             [
              0.3333333333333333,
              "#9c179e"
             ],
             [
              0.4444444444444444,
              "#bd3786"
             ],
             [
              0.5555555555555556,
              "#d8576b"
             ],
             [
              0.6666666666666666,
              "#ed7953"
             ],
             [
              0.7777777777777778,
              "#fb9f3a"
             ],
             [
              0.8888888888888888,
              "#fdca26"
             ],
             [
              1,
              "#f0f921"
             ]
            ],
            "type": "heatmapgl"
           }
          ],
          "histogram": [
           {
            "marker": {
             "pattern": {
              "fillmode": "overlay",
              "size": 10,
              "solidity": 0.2
             }
            },
            "type": "histogram"
           }
          ],
          "histogram2d": [
           {
            "colorbar": {
             "outlinewidth": 0,
             "ticks": ""
            },
            "colorscale": [
             [
              0,
              "#0d0887"
             ],
             [
              0.1111111111111111,
              "#46039f"
             ],
             [
              0.2222222222222222,
              "#7201a8"
             ],
             [
              0.3333333333333333,
              "#9c179e"
             ],
             [
              0.4444444444444444,
              "#bd3786"
             ],
             [
              0.5555555555555556,
              "#d8576b"
             ],
             [
              0.6666666666666666,
              "#ed7953"
             ],
             [
              0.7777777777777778,
              "#fb9f3a"
             ],
             [
              0.8888888888888888,
              "#fdca26"
             ],
             [
              1,
              "#f0f921"
             ]
            ],
            "type": "histogram2d"
           }
          ],
          "histogram2dcontour": [
           {
            "colorbar": {
             "outlinewidth": 0,
             "ticks": ""
            },
            "colorscale": [
             [
              0,
              "#0d0887"
             ],
             [
              0.1111111111111111,
              "#46039f"
             ],
             [
              0.2222222222222222,
              "#7201a8"
             ],
             [
              0.3333333333333333,
              "#9c179e"
             ],
             [
              0.4444444444444444,
              "#bd3786"
             ],
             [
              0.5555555555555556,
              "#d8576b"
             ],
             [
              0.6666666666666666,
              "#ed7953"
             ],
             [
              0.7777777777777778,
              "#fb9f3a"
             ],
             [
              0.8888888888888888,
              "#fdca26"
             ],
             [
              1,
              "#f0f921"
             ]
            ],
            "type": "histogram2dcontour"
           }
          ],
          "mesh3d": [
           {
            "colorbar": {
             "outlinewidth": 0,
             "ticks": ""
            },
            "type": "mesh3d"
           }
          ],
          "parcoords": [
           {
            "line": {
             "colorbar": {
              "outlinewidth": 0,
              "ticks": ""
             }
            },
            "type": "parcoords"
           }
          ],
          "pie": [
           {
            "automargin": true,
            "type": "pie"
           }
          ],
          "scatter": [
           {
            "fillpattern": {
             "fillmode": "overlay",
             "size": 10,
             "solidity": 0.2
            },
            "type": "scatter"
           }
          ],
          "scatter3d": [
           {
            "line": {
             "colorbar": {
              "outlinewidth": 0,
              "ticks": ""
             }
            },
            "marker": {
             "colorbar": {
              "outlinewidth": 0,
              "ticks": ""
             }
            },
            "type": "scatter3d"
           }
          ],
          "scattercarpet": [
           {
            "marker": {
             "colorbar": {
              "outlinewidth": 0,
              "ticks": ""
             }
            },
            "type": "scattercarpet"
           }
          ],
          "scattergeo": [
           {
            "marker": {
             "colorbar": {
              "outlinewidth": 0,
              "ticks": ""
             }
            },
            "type": "scattergeo"
           }
          ],
          "scattergl": [
           {
            "marker": {
             "colorbar": {
              "outlinewidth": 0,
              "ticks": ""
             }
            },
            "type": "scattergl"
           }
          ],
          "scattermapbox": [
           {
            "marker": {
             "colorbar": {
              "outlinewidth": 0,
              "ticks": ""
             }
            },
            "type": "scattermapbox"
           }
          ],
          "scatterpolar": [
           {
            "marker": {
             "colorbar": {
              "outlinewidth": 0,
              "ticks": ""
             }
            },
            "type": "scatterpolar"
           }
          ],
          "scatterpolargl": [
           {
            "marker": {
             "colorbar": {
              "outlinewidth": 0,
              "ticks": ""
             }
            },
            "type": "scatterpolargl"
           }
          ],
          "scatterternary": [
           {
            "marker": {
             "colorbar": {
              "outlinewidth": 0,
              "ticks": ""
             }
            },
            "type": "scatterternary"
           }
          ],
          "surface": [
           {
            "colorbar": {
             "outlinewidth": 0,
             "ticks": ""
            },
            "colorscale": [
             [
              0,
              "#0d0887"
             ],
             [
              0.1111111111111111,
              "#46039f"
             ],
             [
              0.2222222222222222,
              "#7201a8"
             ],
             [
              0.3333333333333333,
              "#9c179e"
             ],
             [
              0.4444444444444444,
              "#bd3786"
             ],
             [
              0.5555555555555556,
              "#d8576b"
             ],
             [
              0.6666666666666666,
              "#ed7953"
             ],
             [
              0.7777777777777778,
              "#fb9f3a"
             ],
             [
              0.8888888888888888,
              "#fdca26"
             ],
             [
              1,
              "#f0f921"
             ]
            ],
            "type": "surface"
           }
          ],
          "table": [
           {
            "cells": {
             "fill": {
              "color": "#EBF0F8"
             },
             "line": {
              "color": "white"
             }
            },
            "header": {
             "fill": {
              "color": "#C8D4E3"
             },
             "line": {
              "color": "white"
             }
            },
            "type": "table"
           }
          ]
         },
         "layout": {
          "annotationdefaults": {
           "arrowcolor": "#2a3f5f",
           "arrowhead": 0,
           "arrowwidth": 1
          },
          "autotypenumbers": "strict",
          "coloraxis": {
           "colorbar": {
            "outlinewidth": 0,
            "ticks": ""
           }
          },
          "colorscale": {
           "diverging": [
            [
             0,
             "#8e0152"
            ],
            [
             0.1,
             "#c51b7d"
            ],
            [
             0.2,
             "#de77ae"
            ],
            [
             0.3,
             "#f1b6da"
            ],
            [
             0.4,
             "#fde0ef"
            ],
            [
             0.5,
             "#f7f7f7"
            ],
            [
             0.6,
             "#e6f5d0"
            ],
            [
             0.7,
             "#b8e186"
            ],
            [
             0.8,
             "#7fbc41"
            ],
            [
             0.9,
             "#4d9221"
            ],
            [
             1,
             "#276419"
            ]
           ],
           "sequential": [
            [
             0,
             "#0d0887"
            ],
            [
             0.1111111111111111,
             "#46039f"
            ],
            [
             0.2222222222222222,
             "#7201a8"
            ],
            [
             0.3333333333333333,
             "#9c179e"
            ],
            [
             0.4444444444444444,
             "#bd3786"
            ],
            [
             0.5555555555555556,
             "#d8576b"
            ],
            [
             0.6666666666666666,
             "#ed7953"
            ],
            [
             0.7777777777777778,
             "#fb9f3a"
            ],
            [
             0.8888888888888888,
             "#fdca26"
            ],
            [
             1,
             "#f0f921"
            ]
           ],
           "sequentialminus": [
            [
             0,
             "#0d0887"
            ],
            [
             0.1111111111111111,
             "#46039f"
            ],
            [
             0.2222222222222222,
             "#7201a8"
            ],
            [
             0.3333333333333333,
             "#9c179e"
            ],
            [
             0.4444444444444444,
             "#bd3786"
            ],
            [
             0.5555555555555556,
             "#d8576b"
            ],
            [
             0.6666666666666666,
             "#ed7953"
            ],
            [
             0.7777777777777778,
             "#fb9f3a"
            ],
            [
             0.8888888888888888,
             "#fdca26"
            ],
            [
             1,
             "#f0f921"
            ]
           ]
          },
          "colorway": [
           "#636efa",
           "#EF553B",
           "#00cc96",
           "#ab63fa",
           "#FFA15A",
           "#19d3f3",
           "#FF6692",
           "#B6E880",
           "#FF97FF",
           "#FECB52"
          ],
          "font": {
           "color": "#2a3f5f"
          },
          "geo": {
           "bgcolor": "white",
           "lakecolor": "white",
           "landcolor": "#E5ECF6",
           "showlakes": true,
           "showland": true,
           "subunitcolor": "white"
          },
          "hoverlabel": {
           "align": "left"
          },
          "hovermode": "closest",
          "mapbox": {
           "style": "light"
          },
          "paper_bgcolor": "white",
          "plot_bgcolor": "#E5ECF6",
          "polar": {
           "angularaxis": {
            "gridcolor": "white",
            "linecolor": "white",
            "ticks": ""
           },
           "bgcolor": "#E5ECF6",
           "radialaxis": {
            "gridcolor": "white",
            "linecolor": "white",
            "ticks": ""
           }
          },
          "scene": {
           "xaxis": {
            "backgroundcolor": "#E5ECF6",
            "gridcolor": "white",
            "gridwidth": 2,
            "linecolor": "white",
            "showbackground": true,
            "ticks": "",
            "zerolinecolor": "white"
           },
           "yaxis": {
            "backgroundcolor": "#E5ECF6",
            "gridcolor": "white",
            "gridwidth": 2,
            "linecolor": "white",
            "showbackground": true,
            "ticks": "",
            "zerolinecolor": "white"
           },
           "zaxis": {
            "backgroundcolor": "#E5ECF6",
            "gridcolor": "white",
            "gridwidth": 2,
            "linecolor": "white",
            "showbackground": true,
            "ticks": "",
            "zerolinecolor": "white"
           }
          },
          "shapedefaults": {
           "line": {
            "color": "#2a3f5f"
           }
          },
          "ternary": {
           "aaxis": {
            "gridcolor": "white",
            "linecolor": "white",
            "ticks": ""
           },
           "baxis": {
            "gridcolor": "white",
            "linecolor": "white",
            "ticks": ""
           },
           "bgcolor": "#E5ECF6",
           "caxis": {
            "gridcolor": "white",
            "linecolor": "white",
            "ticks": ""
           }
          },
          "title": {
           "x": 0.05
          },
          "xaxis": {
           "automargin": true,
           "gridcolor": "white",
           "linecolor": "white",
           "ticks": "",
           "title": {
            "standoff": 15
           },
           "zerolinecolor": "white",
           "zerolinewidth": 2
          },
          "yaxis": {
           "automargin": true,
           "gridcolor": "white",
           "linecolor": "white",
           "ticks": "",
           "title": {
            "standoff": 15
           },
           "zerolinecolor": "white",
           "zerolinewidth": 2
          }
         }
        },
        "xaxis": {
         "anchor": "y",
         "domain": [
          0,
          1
         ],
         "title": {
          "text": "value"
         }
        },
        "yaxis": {
         "anchor": "x",
         "domain": [
          0,
          1
         ],
         "title": {
          "text": "count"
         }
        }
       }
      }
     },
     "metadata": {},
     "output_type": "display_data"
    }
   ],
   "source": [
    "from interp_utils import hist, heatmap\n",
    "hist((nnmf.atoms @ toy.normed_features.T).max(dim=-1).values)"
   ]
  },
  {
   "cell_type": "code",
   "execution_count": null,
   "metadata": {},
   "outputs": [],
   "source": []
  },
  {
   "cell_type": "code",
   "execution_count": null,
   "metadata": {},
   "outputs": [],
   "source": []
  },
  {
   "cell_type": "code",
   "execution_count": 280,
   "metadata": {},
   "outputs": [
    {
     "name": "stderr",
     "output_type": "stream",
     "text": [
      "kurtosis: 3.85: 100%|██████████| 1000/1000 [00:01<00:00, 684.62it/s]\n"
     ]
    }
   ],
   "source": [
    "from toy_models import Tree\n",
    "class Direction(nn.Module):\n",
    "    def __init__(self, d_model):\n",
    "        super().__init__()\n",
    "        self.direction = nn.Parameter(torch.randn(d_model)/np.sqrt(d_model))\n",
    "    def forward(self, batch):\n",
    "        return batch @ self.direction\n",
    "    def norm(self):\n",
    "        with torch.no_grad():\n",
    "            self.direction.data.div_(torch.norm(self.direction.data))\n",
    "\n",
    "# directions = []\n",
    "\n",
    "# for _ in range(40):\n",
    "    \n",
    "toy = SparseIndependent(n_features=N_FEATURES, d_model=D_MODEL, feature_sparsity=0.12)\n",
    "\n",
    "direction = Direction(D_MODEL)\n",
    "direction.norm()\n",
    "\n",
    "optimizer = optim.SGD(direction.parameters(), lr=3e-2)\n",
    "scheduler = get_scheduler(optimizer, 1000)\n",
    "\n",
    "pbar = tqdm(range(1000))\n",
    "for step in pbar:\n",
    "    batch, features = toy(300)\n",
    "    dist = direction(batch)\n",
    "    kurtosis = (((dist - dist.mean())/dist.std())**4).mean()\n",
    "    # skewness = (((dist - dist.mean())/dist.std())**3).mean()\n",
    "    # loss = -skewness\n",
    "    loss = -kurtosis\n",
    "\n",
    "    optimizer.zero_grad()\n",
    "    loss.backward()\n",
    "    optimizer.step()\n",
    "    scheduler.step()\n",
    "\n",
    "    direction.norm()\n",
    "\n",
    "    pbar.set_description(f'kurtosis: {kurtosis.item():.2f}')\n",
    "    \n",
    "    # directions.append({'direction': direction.direction.detach().cpu().numpy(), 'kurtosis': kurtosis.item()})\n"
   ]
  },
  {
   "cell_type": "code",
   "execution_count": 234,
   "metadata": {},
   "outputs": [
    {
     "ename": "RuntimeError",
     "evalue": "Could not infer dtype of Direction",
     "output_type": "error",
     "traceback": [
      "\u001b[0;31m---------------------------------------------------------------------------\u001b[0m",
      "\u001b[0;31mRuntimeError\u001b[0m                              Traceback (most recent call last)",
      "Cell \u001b[0;32mIn[234], line 4\u001b[0m\n\u001b[1;32m      2\u001b[0m max_kurtosis \u001b[39m=\u001b[39m kurtosis\u001b[39m.\u001b[39mmax()\n\u001b[1;32m      3\u001b[0m max_direction \u001b[39m=\u001b[39m directions[kurtosis\u001b[39m.\u001b[39mtopk(k\u001b[39m=\u001b[39m\u001b[39m1\u001b[39m, largest\u001b[39m=\u001b[39m\u001b[39mTrue\u001b[39;00m)\u001b[39m.\u001b[39mindices[\u001b[39m0\u001b[39m]\u001b[39m.\u001b[39mitem()][\u001b[39m'\u001b[39m\u001b[39mdirection\u001b[39m\u001b[39m'\u001b[39m]\n\u001b[0;32m----> 4\u001b[0m max_direction \u001b[39m=\u001b[39m torch\u001b[39m.\u001b[39;49mtensor(direction)\n",
      "\u001b[0;31mRuntimeError\u001b[0m: Could not infer dtype of Direction"
     ]
    }
   ],
   "source": [
    "# kurtosis = torch.tensor([item['kurtosis'] for item in directions])\n",
    "# max_kurtosis = kurtosis.max()\n",
    "# max_direction = directions[kurtosis.topk(k=1, largest=True).indices[0].item()]['direction']\n",
    "# max_direction = torch.tensor(direction)"
   ]
  },
  {
   "cell_type": "code",
   "execution_count": 273,
   "metadata": {},
   "outputs": [
    {
     "data": {
      "application/vnd.plotly.v1+json": {
       "config": {
        "plotlyServerURL": "https://plot.ly"
       },
       "data": [
        {
         "alignmentgroup": "True",
         "bingroup": "x",
         "hovertemplate": "variable=0<br>value=%{x}<br>count=%{y}<extra></extra>",
         "legendgroup": "0",
         "marker": {
          "color": "#636efa",
          "pattern": {
           "shape": ""
          }
         },
         "name": "0",
         "offsetgroup": "0",
         "orientation": "v",
         "showlegend": true,
         "type": "histogram",
         "x": [
          -0.0013942420482635498,
          0.2991675138473511,
          -0.07124604284763336,
          0.23383228480815887,
          0.5593048334121704,
          -0.42145687341690063,
          -0.017412900924682617,
          -0.14954699575901031,
          0.38128992915153503,
          0.3374940752983093,
          0.08707994222640991,
          0.24330294132232666,
          0.36727243661880493,
          -0.05224353075027466,
          0.05062901973724365,
          -0.3383858799934387,
          -0.3177219331264496,
          0.0922069102525711,
          0.07438488304615021,
          0.06098354607820511,
          0.30101093649864197,
          0.0556684210896492,
          -0.10189220309257507,
          -0.14678305387496948,
          0.20874285697937012,
          -0.17979733645915985,
          0.24556416273117065,
          -0.1783371865749359,
          -0.104056715965271,
          0.2954808473587036,
          -0.1997077614068985,
          -0.09503750503063202,
          1.030085802078247,
          0.0691060796380043,
          0.12532076239585876,
          -0.4589657187461853,
          0.05702821910381317,
          -0.00951433926820755,
          -0.3156783878803253,
          0.019723013043403625,
          -0.3957834541797638,
          -0.12225648760795593,
          -0.05541807413101196,
          0.3546733558177948,
          -0.16510796546936035,
          -0.020790018141269684,
          0.1978600025177002,
          0.33005350828170776,
          -0.3240431547164917,
          -0.35101938247680664,
          -0.25933387875556946,
          -0.25350111722946167,
          -0.16130180656909943,
          0.18637292087078094,
          0.019670456647872925,
          0.04692678898572922,
          -0.21512264013290405,
          0.1520363986492157,
          -0.12758474051952362,
          0.07346956431865692,
          -0.15130355954170227,
          -0.43928462266921997,
          0.21465934813022614,
          0.32847660779953003,
          0.0023478567600250244,
          0.8195695877075195,
          -0.39074814319610596,
          0.417036235332489,
          0.444286048412323,
          0.292310893535614,
          -0.22610005736351013,
          -0.35541945695877075,
          0.5099027752876282,
          -0.016110673546791077,
          0.37509459257125854,
          -0.30444595217704773,
          0.16646432876586914,
          0.0786939486861229,
          -0.11185005307197571,
          0.24456080794334412,
          0.7969549894332886,
          -0.18252824246883392,
          -0.5546730756759644,
          -0.031731605529785156,
          -0.7035363912582397,
          0.4585059881210327,
          0.4900249242782593,
          0.20631043612957,
          0.09986579418182373,
          0.30711162090301514,
          0.020577020943164825,
          0.06617539376020432,
          -0.025988474488258362,
          -0.2050575166940689,
          0.09868155419826508,
          -0.04772227257490158,
          0.2176191210746765,
          -0.18415692448616028,
          -0.14816555380821228,
          0.09047386795282364,
          0.04593518376350403,
          0.1678624004125595,
          -0.14198216795921326,
          0.15478180348873138,
          -0.3079933524131775,
          0.21212798357009888,
          0.16370666027069092,
          -0.05121159553527832,
          -0.00942915678024292,
          -0.38267695903778076,
          0.25622621178627014,
          -0.08866328746080399,
          0.15458062291145325,
          0.11476162075996399,
          -0.07341498136520386,
          -0.12675045430660248,
          -0.3882608711719513,
          0.040069397538900375,
          -0.24432751536369324,
          -0.05263452231884003,
          -0.35230937600135803,
          -0.44897258281707764,
          -0.25182831287384033,
          -0.042586714029312134,
          -0.1562737077474594,
          -0.32103431224823,
          0.007717803120613098,
          -0.5479820966720581,
          0.30047500133514404,
          0.133790522813797,
          0.06095330789685249,
          -0.11187954246997833,
          0.021296948194503784,
          -0.1907925307750702,
          -0.06977769732475281,
          0.02774961292743683,
          0.150052011013031,
          -0.19181089103221893,
          0.011044234037399292,
          0.1735280454158783,
          0.6936875581741333,
          -0.026413962244987488,
          0.2595002055168152,
          -0.040246471762657166,
          -0.057048872113227844,
          0.04954255372285843,
          0.32861846685409546,
          -0.12804672122001648,
          0.050855159759521484,
          0.4246242642402649,
          -0.16127189993858337,
          -0.17706340551376343,
          -0.10894442349672318,
          -0.011523488909006119,
          0.4619036912918091,
          -0.16364482045173645,
          -0.007744550704956055,
          0.07177989184856415,
          0.732806921005249,
          -0.3305336833000183,
          -0.08527879416942596,
          -0.48678356409072876,
          -0.2279192954301834,
          1.161102056503296,
          -0.16378796100616455,
          -0.008437782526016235,
          0.2104996293783188,
          0.04043936729431152,
          0.38164013624191284,
          -0.0833369717001915,
          -0.23957844078540802,
          0.05108731985092163,
          -0.2566978931427002,
          -0.13030460476875305,
          0.6716467142105103,
          -0.16645801067352295,
          -0.17724159359931946,
          0.4018673300743103,
          -0.21330590546131134,
          -0.05999000370502472,
          -0.6981913447380066,
          -0.8294827938079834,
          0.3394453227519989,
          0.24127739667892456,
          -0.10851770639419556,
          -0.5283982753753662,
          0.12660619616508484,
          -0.3038489818572998,
          -0.19439880549907684,
          -0.08346720039844513,
          0.30626380443573,
          0.028553839772939682,
          0.011111278086900711,
          0.14597126841545105,
          0.6394810676574707,
          -0.10214373469352722,
          0.1587597131729126,
          0.023179031908512115,
          -0.18309247493743896,
          -0.22378526628017426,
          0.17957113683223724,
          0.5919350981712341,
          -0.34196147322654724,
          -0.30500534176826477,
          0.42936018109321594,
          0.41178107261657715,
          -0.4510692358016968,
          0.2595084309577942,
          0.007783323526382446,
          -0.10544279962778091,
          -0.05983702093362808,
          0.1733199656009674,
          -0.23171350359916687,
          -0.11974644660949707,
          -0.35747024416923523,
          0.06640903651714325,
          -0.13033823668956757,
          -0.3349151015281677,
          -0.6378605365753174,
          -0.03744223713874817,
          -0.0520133301615715,
          -0.3361172378063202,
          0.30697545409202576,
          -0.4060157835483551,
          0.03459763526916504,
          0.13314864039421082,
          -0.3333567678928375,
          -0.13390442728996277,
          -0.04107419401407242,
          -0.4159250557422638,
          0.2023310363292694,
          0.7748136520385742,
          0.08964207768440247,
          0.1609320491552353,
          0.030341342091560364,
          -0.2976071834564209,
          -0.3088003695011139,
          0.11163061112165451,
          0.1353626251220703,
          -0.1122610867023468,
          -0.20467352867126465,
          0.0946645438671112,
          0.5981773734092712,
          -0.09297680854797363,
          0.04426240921020508,
          0.16888059675693512,
          0.01607152819633484,
          0.001112222671508789,
          -0.09896717965602875,
          -0.33883368968963623,
          0.02233652025461197,
          0.37589263916015625,
          -0.17343375086784363,
          -0.3389433026313782,
          -0.21673187613487244,
          0.24381612241268158,
          0.5237482786178589,
          -0.18131768703460693,
          -0.3200604319572449,
          -0.37580496072769165,
          -0.3324970304965973,
          0.3278757333755493,
          0.07705763727426529,
          -0.34347355365753174,
          0.055969953536987305,
          0.12305319309234619,
          -0.1500927358865738,
          -0.1697213351726532,
          0.1939927637577057,
          -0.04880881309509277,
          -0.20988036692142487,
          0.17876476049423218,
          -0.028602302074432373,
          -0.16587042808532715,
          -0.007043130695819855,
          -0.18951880931854248,
          0.21560215950012207,
          -0.0028786957263946533,
          -0.4255468547344208,
          -0.11648087203502655,
          -0.027587581425905228,
          0.4779638648033142,
          0.18938064575195312,
          1.0162909030914307,
          0.11640971899032593,
          0.13792747259140015,
          -0.046072252094745636,
          -0.5522728562355042,
          -0.3597620725631714,
          0.18503403663635254,
          -0.36119958758354187,
          -0.0013474002480506897,
          -0.08676189184188843,
          0.04236297309398651,
          -0.17322659492492676,
          0.2675238251686096,
          -0.3780013620853424,
          0.06677871197462082,
          -0.01907387375831604,
          0.14053404331207275
         ],
         "xaxis": "x",
         "yaxis": "y"
        }
       ],
       "layout": {
        "barmode": "relative",
        "legend": {
         "title": {
          "text": "variable"
         },
         "tracegroupgap": 0
        },
        "margin": {
         "t": 60
        },
        "showlegend": false,
        "template": {
         "data": {
          "bar": [
           {
            "error_x": {
             "color": "#2a3f5f"
            },
            "error_y": {
             "color": "#2a3f5f"
            },
            "marker": {
             "line": {
              "color": "#E5ECF6",
              "width": 0.5
             },
             "pattern": {
              "fillmode": "overlay",
              "size": 10,
              "solidity": 0.2
             }
            },
            "type": "bar"
           }
          ],
          "barpolar": [
           {
            "marker": {
             "line": {
              "color": "#E5ECF6",
              "width": 0.5
             },
             "pattern": {
              "fillmode": "overlay",
              "size": 10,
              "solidity": 0.2
             }
            },
            "type": "barpolar"
           }
          ],
          "carpet": [
           {
            "aaxis": {
             "endlinecolor": "#2a3f5f",
             "gridcolor": "white",
             "linecolor": "white",
             "minorgridcolor": "white",
             "startlinecolor": "#2a3f5f"
            },
            "baxis": {
             "endlinecolor": "#2a3f5f",
             "gridcolor": "white",
             "linecolor": "white",
             "minorgridcolor": "white",
             "startlinecolor": "#2a3f5f"
            },
            "type": "carpet"
           }
          ],
          "choropleth": [
           {
            "colorbar": {
             "outlinewidth": 0,
             "ticks": ""
            },
            "type": "choropleth"
           }
          ],
          "contour": [
           {
            "colorbar": {
             "outlinewidth": 0,
             "ticks": ""
            },
            "colorscale": [
             [
              0,
              "#0d0887"
             ],
             [
              0.1111111111111111,
              "#46039f"
             ],
             [
              0.2222222222222222,
              "#7201a8"
             ],
             [
              0.3333333333333333,
              "#9c179e"
             ],
             [
              0.4444444444444444,
              "#bd3786"
             ],
             [
              0.5555555555555556,
              "#d8576b"
             ],
             [
              0.6666666666666666,
              "#ed7953"
             ],
             [
              0.7777777777777778,
              "#fb9f3a"
             ],
             [
              0.8888888888888888,
              "#fdca26"
             ],
             [
              1,
              "#f0f921"
             ]
            ],
            "type": "contour"
           }
          ],
          "contourcarpet": [
           {
            "colorbar": {
             "outlinewidth": 0,
             "ticks": ""
            },
            "type": "contourcarpet"
           }
          ],
          "heatmap": [
           {
            "colorbar": {
             "outlinewidth": 0,
             "ticks": ""
            },
            "colorscale": [
             [
              0,
              "#0d0887"
             ],
             [
              0.1111111111111111,
              "#46039f"
             ],
             [
              0.2222222222222222,
              "#7201a8"
             ],
             [
              0.3333333333333333,
              "#9c179e"
             ],
             [
              0.4444444444444444,
              "#bd3786"
             ],
             [
              0.5555555555555556,
              "#d8576b"
             ],
             [
              0.6666666666666666,
              "#ed7953"
             ],
             [
              0.7777777777777778,
              "#fb9f3a"
             ],
             [
              0.8888888888888888,
              "#fdca26"
             ],
             [
              1,
              "#f0f921"
             ]
            ],
            "type": "heatmap"
           }
          ],
          "heatmapgl": [
           {
            "colorbar": {
             "outlinewidth": 0,
             "ticks": ""
            },
            "colorscale": [
             [
              0,
              "#0d0887"
             ],
             [
              0.1111111111111111,
              "#46039f"
             ],
             [
              0.2222222222222222,
              "#7201a8"
             ],
             [
              0.3333333333333333,
              "#9c179e"
             ],
             [
              0.4444444444444444,
              "#bd3786"
             ],
             [
              0.5555555555555556,
              "#d8576b"
             ],
             [
              0.6666666666666666,
              "#ed7953"
             ],
             [
              0.7777777777777778,
              "#fb9f3a"
             ],
             [
              0.8888888888888888,
              "#fdca26"
             ],
             [
              1,
              "#f0f921"
             ]
            ],
            "type": "heatmapgl"
           }
          ],
          "histogram": [
           {
            "marker": {
             "pattern": {
              "fillmode": "overlay",
              "size": 10,
              "solidity": 0.2
             }
            },
            "type": "histogram"
           }
          ],
          "histogram2d": [
           {
            "colorbar": {
             "outlinewidth": 0,
             "ticks": ""
            },
            "colorscale": [
             [
              0,
              "#0d0887"
             ],
             [
              0.1111111111111111,
              "#46039f"
             ],
             [
              0.2222222222222222,
              "#7201a8"
             ],
             [
              0.3333333333333333,
              "#9c179e"
             ],
             [
              0.4444444444444444,
              "#bd3786"
             ],
             [
              0.5555555555555556,
              "#d8576b"
             ],
             [
              0.6666666666666666,
              "#ed7953"
             ],
             [
              0.7777777777777778,
              "#fb9f3a"
             ],
             [
              0.8888888888888888,
              "#fdca26"
             ],
             [
              1,
              "#f0f921"
             ]
            ],
            "type": "histogram2d"
           }
          ],
          "histogram2dcontour": [
           {
            "colorbar": {
             "outlinewidth": 0,
             "ticks": ""
            },
            "colorscale": [
             [
              0,
              "#0d0887"
             ],
             [
              0.1111111111111111,
              "#46039f"
             ],
             [
              0.2222222222222222,
              "#7201a8"
             ],
             [
              0.3333333333333333,
              "#9c179e"
             ],
             [
              0.4444444444444444,
              "#bd3786"
             ],
             [
              0.5555555555555556,
              "#d8576b"
             ],
             [
              0.6666666666666666,
              "#ed7953"
             ],
             [
              0.7777777777777778,
              "#fb9f3a"
             ],
             [
              0.8888888888888888,
              "#fdca26"
             ],
             [
              1,
              "#f0f921"
             ]
            ],
            "type": "histogram2dcontour"
           }
          ],
          "mesh3d": [
           {
            "colorbar": {
             "outlinewidth": 0,
             "ticks": ""
            },
            "type": "mesh3d"
           }
          ],
          "parcoords": [
           {
            "line": {
             "colorbar": {
              "outlinewidth": 0,
              "ticks": ""
             }
            },
            "type": "parcoords"
           }
          ],
          "pie": [
           {
            "automargin": true,
            "type": "pie"
           }
          ],
          "scatter": [
           {
            "fillpattern": {
             "fillmode": "overlay",
             "size": 10,
             "solidity": 0.2
            },
            "type": "scatter"
           }
          ],
          "scatter3d": [
           {
            "line": {
             "colorbar": {
              "outlinewidth": 0,
              "ticks": ""
             }
            },
            "marker": {
             "colorbar": {
              "outlinewidth": 0,
              "ticks": ""
             }
            },
            "type": "scatter3d"
           }
          ],
          "scattercarpet": [
           {
            "marker": {
             "colorbar": {
              "outlinewidth": 0,
              "ticks": ""
             }
            },
            "type": "scattercarpet"
           }
          ],
          "scattergeo": [
           {
            "marker": {
             "colorbar": {
              "outlinewidth": 0,
              "ticks": ""
             }
            },
            "type": "scattergeo"
           }
          ],
          "scattergl": [
           {
            "marker": {
             "colorbar": {
              "outlinewidth": 0,
              "ticks": ""
             }
            },
            "type": "scattergl"
           }
          ],
          "scattermapbox": [
           {
            "marker": {
             "colorbar": {
              "outlinewidth": 0,
              "ticks": ""
             }
            },
            "type": "scattermapbox"
           }
          ],
          "scatterpolar": [
           {
            "marker": {
             "colorbar": {
              "outlinewidth": 0,
              "ticks": ""
             }
            },
            "type": "scatterpolar"
           }
          ],
          "scatterpolargl": [
           {
            "marker": {
             "colorbar": {
              "outlinewidth": 0,
              "ticks": ""
             }
            },
            "type": "scatterpolargl"
           }
          ],
          "scatterternary": [
           {
            "marker": {
             "colorbar": {
              "outlinewidth": 0,
              "ticks": ""
             }
            },
            "type": "scatterternary"
           }
          ],
          "surface": [
           {
            "colorbar": {
             "outlinewidth": 0,
             "ticks": ""
            },
            "colorscale": [
             [
              0,
              "#0d0887"
             ],
             [
              0.1111111111111111,
              "#46039f"
             ],
             [
              0.2222222222222222,
              "#7201a8"
             ],
             [
              0.3333333333333333,
              "#9c179e"
             ],
             [
              0.4444444444444444,
              "#bd3786"
             ],
             [
              0.5555555555555556,
              "#d8576b"
             ],
             [
              0.6666666666666666,
              "#ed7953"
             ],
             [
              0.7777777777777778,
              "#fb9f3a"
             ],
             [
              0.8888888888888888,
              "#fdca26"
             ],
             [
              1,
              "#f0f921"
             ]
            ],
            "type": "surface"
           }
          ],
          "table": [
           {
            "cells": {
             "fill": {
              "color": "#EBF0F8"
             },
             "line": {
              "color": "white"
             }
            },
            "header": {
             "fill": {
              "color": "#C8D4E3"
             },
             "line": {
              "color": "white"
             }
            },
            "type": "table"
           }
          ]
         },
         "layout": {
          "annotationdefaults": {
           "arrowcolor": "#2a3f5f",
           "arrowhead": 0,
           "arrowwidth": 1
          },
          "autotypenumbers": "strict",
          "coloraxis": {
           "colorbar": {
            "outlinewidth": 0,
            "ticks": ""
           }
          },
          "colorscale": {
           "diverging": [
            [
             0,
             "#8e0152"
            ],
            [
             0.1,
             "#c51b7d"
            ],
            [
             0.2,
             "#de77ae"
            ],
            [
             0.3,
             "#f1b6da"
            ],
            [
             0.4,
             "#fde0ef"
            ],
            [
             0.5,
             "#f7f7f7"
            ],
            [
             0.6,
             "#e6f5d0"
            ],
            [
             0.7,
             "#b8e186"
            ],
            [
             0.8,
             "#7fbc41"
            ],
            [
             0.9,
             "#4d9221"
            ],
            [
             1,
             "#276419"
            ]
           ],
           "sequential": [
            [
             0,
             "#0d0887"
            ],
            [
             0.1111111111111111,
             "#46039f"
            ],
            [
             0.2222222222222222,
             "#7201a8"
            ],
            [
             0.3333333333333333,
             "#9c179e"
            ],
            [
             0.4444444444444444,
             "#bd3786"
            ],
            [
             0.5555555555555556,
             "#d8576b"
            ],
            [
             0.6666666666666666,
             "#ed7953"
            ],
            [
             0.7777777777777778,
             "#fb9f3a"
            ],
            [
             0.8888888888888888,
             "#fdca26"
            ],
            [
             1,
             "#f0f921"
            ]
           ],
           "sequentialminus": [
            [
             0,
             "#0d0887"
            ],
            [
             0.1111111111111111,
             "#46039f"
            ],
            [
             0.2222222222222222,
             "#7201a8"
            ],
            [
             0.3333333333333333,
             "#9c179e"
            ],
            [
             0.4444444444444444,
             "#bd3786"
            ],
            [
             0.5555555555555556,
             "#d8576b"
            ],
            [
             0.6666666666666666,
             "#ed7953"
            ],
            [
             0.7777777777777778,
             "#fb9f3a"
            ],
            [
             0.8888888888888888,
             "#fdca26"
            ],
            [
             1,
             "#f0f921"
            ]
           ]
          },
          "colorway": [
           "#636efa",
           "#EF553B",
           "#00cc96",
           "#ab63fa",
           "#FFA15A",
           "#19d3f3",
           "#FF6692",
           "#B6E880",
           "#FF97FF",
           "#FECB52"
          ],
          "font": {
           "color": "#2a3f5f"
          },
          "geo": {
           "bgcolor": "white",
           "lakecolor": "white",
           "landcolor": "#E5ECF6",
           "showlakes": true,
           "showland": true,
           "subunitcolor": "white"
          },
          "hoverlabel": {
           "align": "left"
          },
          "hovermode": "closest",
          "mapbox": {
           "style": "light"
          },
          "paper_bgcolor": "white",
          "plot_bgcolor": "#E5ECF6",
          "polar": {
           "angularaxis": {
            "gridcolor": "white",
            "linecolor": "white",
            "ticks": ""
           },
           "bgcolor": "#E5ECF6",
           "radialaxis": {
            "gridcolor": "white",
            "linecolor": "white",
            "ticks": ""
           }
          },
          "scene": {
           "xaxis": {
            "backgroundcolor": "#E5ECF6",
            "gridcolor": "white",
            "gridwidth": 2,
            "linecolor": "white",
            "showbackground": true,
            "ticks": "",
            "zerolinecolor": "white"
           },
           "yaxis": {
            "backgroundcolor": "#E5ECF6",
            "gridcolor": "white",
            "gridwidth": 2,
            "linecolor": "white",
            "showbackground": true,
            "ticks": "",
            "zerolinecolor": "white"
           },
           "zaxis": {
            "backgroundcolor": "#E5ECF6",
            "gridcolor": "white",
            "gridwidth": 2,
            "linecolor": "white",
            "showbackground": true,
            "ticks": "",
            "zerolinecolor": "white"
           }
          },
          "shapedefaults": {
           "line": {
            "color": "#2a3f5f"
           }
          },
          "ternary": {
           "aaxis": {
            "gridcolor": "white",
            "linecolor": "white",
            "ticks": ""
           },
           "baxis": {
            "gridcolor": "white",
            "linecolor": "white",
            "ticks": ""
           },
           "bgcolor": "#E5ECF6",
           "caxis": {
            "gridcolor": "white",
            "linecolor": "white",
            "ticks": ""
           }
          },
          "title": {
           "x": 0.05
          },
          "xaxis": {
           "automargin": true,
           "gridcolor": "white",
           "linecolor": "white",
           "ticks": "",
           "title": {
            "standoff": 15
           },
           "zerolinecolor": "white",
           "zerolinewidth": 2
          },
          "yaxis": {
           "automargin": true,
           "gridcolor": "white",
           "linecolor": "white",
           "ticks": "",
           "title": {
            "standoff": 15
           },
           "zerolinecolor": "white",
           "zerolinewidth": 2
          }
         }
        },
        "xaxis": {
         "anchor": "y",
         "domain": [
          0,
          1
         ],
         "title": {
          "text": "value"
         }
        },
        "yaxis": {
         "anchor": "x",
         "domain": [
          0,
          1
         ],
         "title": {
          "text": "count"
         }
        }
       }
      }
     },
     "metadata": {},
     "output_type": "display_data"
    },
    {
     "data": {
      "application/vnd.plotly.v1+json": {
       "config": {
        "plotlyServerURL": "https://plot.ly"
       },
       "data": [
        {
         "alignmentgroup": "True",
         "bingroup": "x",
         "hovertemplate": "variable=0<br>value=%{x}<br>count=%{y}<extra></extra>",
         "legendgroup": "0",
         "marker": {
          "color": "#636efa",
          "pattern": {
           "shape": ""
          }
         },
         "name": "0",
         "offsetgroup": "0",
         "orientation": "v",
         "showlegend": true,
         "type": "histogram",
         "x": [
          -0.15360024571418762,
          0.03641742467880249,
          -0.06184142827987671,
          -0.0025222226977348328,
          -0.008759312331676483,
          -0.020152240991592407,
          0.043412141501903534,
          -0.03126177191734314,
          0.10741742700338364,
          -0.11364497244358063,
          -0.05099434033036232,
          0.0365227647125721,
          0.007783424109220505,
          0.050862427800893784,
          -0.055079422891139984,
          0.06001550704240799,
          -0.010849244892597198,
          -0.21525919437408447,
          -0.02463463321328163,
          0.017575036734342575,
          0.004866424947977066,
          0.025152351707220078,
          0.053484998643398285,
          0.12515468895435333,
          0.04293446987867355,
          -0.05539311096072197,
          0.08440132439136505,
          -0.12715989351272583,
          -0.04403829202055931,
          0.07868141680955887,
          0.0708136111497879,
          -0.07357977330684662,
          -0.15904773771762848,
          0.015702174976468086,
          0.9220181703567505,
          -0.10417363047599792,
          0.07561951875686646,
          0.08326435089111328,
          0.050599128007888794,
          -0.0013122931122779846,
          -0.04826241359114647,
          -0.11070618033409119,
          -0.04631122201681137,
          -0.0581727959215641,
          0.0653345063328743,
          -0.02982238680124283,
          -0.07394644618034363,
          -0.0069823600351810455,
          -0.0014771074056625366,
          -0.06982805579900742,
          -0.018116941675543785,
          0.05224054306745529,
          -0.12988044321537018,
          0.00014039501547813416,
          0.07172095775604248,
          0.07528258860111237,
          0.008304367773234844,
          0.0658935159444809,
          0.08336609601974487,
          -0.017706699669361115,
          0.07039056718349457,
          -0.010609306395053864,
          -0.0630074143409729,
          -0.13179230690002441,
          0.05427803099155426,
          0.01506836712360382,
          -0.04021480679512024,
          0.07985734939575195,
          -0.027008119970560074,
          -0.009670212864875793,
          -0.056277114897966385,
          -0.15202589333057404,
          -0.012203074991703033,
          0.01968236267566681,
          0.05133794620633125,
          0.13786637783050537,
          -0.018858568742871284,
          -0.10254973918199539,
          -0.07925073802471161,
          -0.051491428166627884,
          -0.1501602977514267,
          -0.013415150344371796,
          -0.04944959282875061,
          -0.10804624855518341,
          0.05226770043373108,
          0.1250646561384201,
          -0.03772895410656929,
          -0.008166255429387093,
          0.03179192170500755,
          -0.03865358978509903,
          0.011373620480298996,
          0.03710681200027466,
          -0.10866471379995346,
          0.008294736035168171,
          -0.19012108445167542,
          -0.03227858990430832,
          0.08057840168476105,
          0.02547108381986618,
          -0.01719670742750168,
          0.05118315666913986,
          0.023077823221683502,
          0.020137224346399307,
          0.12347999960184097,
          -0.01624569296836853,
          -0.012864294461905956,
          -0.05507790297269821,
          0.030092371627688408,
          -0.12792402505874634,
          -0.08315637707710266,
          0.0056146979331970215,
          0.0001633092761039734,
          0.06300392746925354,
          -0.05943511426448822,
          -0.11766017973423004,
          0.029985051602125168,
          -0.016971684992313385,
          0.1068810522556305,
          0.012049440294504166,
          -0.033788539469242096,
          -0.10479577630758286,
          -0.06759904325008392,
          -0.011233754456043243,
          0.09977702051401138,
          0.0017501860857009888,
          0.06210529804229736,
          -0.02148057147860527,
          0.10247336328029633,
          -0.031703509390354156,
          -0.2564961910247803,
          -0.13194610178470612,
          -0.03374435380101204,
          0.1405165195465088,
          -0.01368144154548645,
          -0.058052800595760345,
          -0.03232363611459732,
          0.037741806358098984,
          -0.030622344464063644,
          0.0590367391705513,
          0.04438333585858345,
          0.016044981777668,
          0.05100381001830101,
          0.14134803414344788,
          0.04472553730010986,
          0.07390917092561722,
          -0.112370066344738,
          0.027904607355594635,
          0.08967408537864685,
          -0.0837545245885849,
          0.13086383044719696,
          -0.06577236950397491,
          -0.07093774527311325,
          -0.035679612308740616,
          -0.0033071674406528473,
          -0.05252864956855774,
          -0.00240175798535347,
          -0.03647322952747345,
          0.055663272738456726,
          0.03221235051751137,
          0.05716017633676529,
          -0.09031560271978378,
          0.0628046840429306,
          0.009659990668296814,
          0.011069968342781067,
          0.02594807744026184,
          0.0977703183889389,
          -0.045840777456760406,
          0.07666260004043579,
          0.046298082917928696,
          0.07119014114141464,
          -0.010258931666612625,
          0.05429990217089653,
          -0.09533586353063583,
          -0.074170783162117,
          -0.04363367706537247,
          0.04633630812168121,
          -0.0019304817542433739,
          -0.02816559001803398,
          -0.08874355256557465,
          -0.07534684985876083,
          0.0357636921107769,
          -0.01572594791650772,
          -0.04726886749267578,
          -0.021117888391017914,
          -0.007441621273756027,
          -0.057806238532066345,
          0.000095367431640625,
          -0.0224833432585001,
          -0.19200283288955688,
          -0.05669812858104706,
          -0.0005669407546520233,
          -0.12059297412633896,
          0.022883214056491852,
          0.009624995291233063,
          0.07948027551174164,
          0.03221256285905838,
          -0.03036154806613922,
          -0.011377386748790741,
          -0.08638548105955124,
          0.0005193576216697693,
          0.04180367663502693,
          0.08878151327371597,
          -0.019333884119987488,
          -0.054763294756412506,
          -0.040680356323719025,
          0.09890296310186386,
          0.03092285990715027,
          0.0822753757238388,
          0.01655254140496254,
          -0.045529045164585114,
          0.012734904885292053,
          0.11766388267278671,
          -0.10846011340618134,
          -0.004875984042882919,
          0.03246881067752838,
          0.10178732126951218,
          -0.05877393111586571,
          0.1668398231267929,
          0.1254010647535324,
          -0.018676137551665306,
          -0.03806477412581444,
          0.05196964740753174,
          -0.0828782394528389,
          0.0008409023284912109,
          0.0748240202665329,
          -0.0078093521296978,
          0.0007045567035675049,
          -0.01729891449213028,
          -0.061859145760536194,
          -0.05678817629814148,
          0.03385458141565323,
          0.007149972021579742,
          -0.06283142417669296,
          0.0795716792345047,
          0.07364705950021744,
          0.06160964071750641,
          0.04610395058989525,
          -0.0048540085554122925,
          0.12269662320613861,
          0.046491317451000214,
          0.060867853462696075,
          -0.012400075793266296,
          0.08437588810920715,
          0.12682315707206726,
          0.06955242156982422,
          -0.005166787654161453,
          0.03015374392271042,
          -0.0076403506100177765,
          -0.03893760219216347,
          0.059326499700546265,
          -0.03647204488515854,
          -0.06419423222541809,
          -0.0018432587385177612,
          -0.08815556019544601,
          0.0771266296505928,
          -0.06568867713212967,
          -0.016422763466835022,
          -0.08981439471244812,
          -0.037596333771944046,
          0.05256006866693497,
          -0.012424241751432419,
          0.04700973257422447,
          0.07743553817272186,
          0.00048210471868515015,
          -0.09594766795635223,
          -0.015213227830827236,
          -0.031366609036922455,
          0.06526930630207062,
          0.006318745668977499,
          -0.020904866978526115,
          -0.06194044649600983,
          -0.0976555198431015,
          -0.049660298973321915,
          0.03656748682260513,
          -0.023915551602840424,
          -0.13251720368862152,
          -0.04431561753153801,
          0.03852316737174988,
          0.060388900339603424,
          0.02893901988863945,
          -0.06114634871482849,
          0.10530450940132141,
          -0.09936223924160004,
          0.016087155789136887,
          0.07448733597993851,
          -0.05037578195333481,
          0.06132083386182785,
          0.013095132075250149,
          -0.06818822771310806,
          0.03309045732021332,
          0.04987109452486038,
          0.08603842556476593,
          0.09079581499099731,
          0.030754122883081436,
          0.01834086701273918,
          0.005915116518735886,
          0.014267461374402046,
          0.07668067514896393,
          -0.04384775832295418,
          0.06050534546375275,
          -0.016908422112464905
         ],
         "xaxis": "x",
         "yaxis": "y"
        }
       ],
       "layout": {
        "barmode": "relative",
        "legend": {
         "title": {
          "text": "variable"
         },
         "tracegroupgap": 0
        },
        "margin": {
         "t": 60
        },
        "showlegend": false,
        "template": {
         "data": {
          "bar": [
           {
            "error_x": {
             "color": "#2a3f5f"
            },
            "error_y": {
             "color": "#2a3f5f"
            },
            "marker": {
             "line": {
              "color": "#E5ECF6",
              "width": 0.5
             },
             "pattern": {
              "fillmode": "overlay",
              "size": 10,
              "solidity": 0.2
             }
            },
            "type": "bar"
           }
          ],
          "barpolar": [
           {
            "marker": {
             "line": {
              "color": "#E5ECF6",
              "width": 0.5
             },
             "pattern": {
              "fillmode": "overlay",
              "size": 10,
              "solidity": 0.2
             }
            },
            "type": "barpolar"
           }
          ],
          "carpet": [
           {
            "aaxis": {
             "endlinecolor": "#2a3f5f",
             "gridcolor": "white",
             "linecolor": "white",
             "minorgridcolor": "white",
             "startlinecolor": "#2a3f5f"
            },
            "baxis": {
             "endlinecolor": "#2a3f5f",
             "gridcolor": "white",
             "linecolor": "white",
             "minorgridcolor": "white",
             "startlinecolor": "#2a3f5f"
            },
            "type": "carpet"
           }
          ],
          "choropleth": [
           {
            "colorbar": {
             "outlinewidth": 0,
             "ticks": ""
            },
            "type": "choropleth"
           }
          ],
          "contour": [
           {
            "colorbar": {
             "outlinewidth": 0,
             "ticks": ""
            },
            "colorscale": [
             [
              0,
              "#0d0887"
             ],
             [
              0.1111111111111111,
              "#46039f"
             ],
             [
              0.2222222222222222,
              "#7201a8"
             ],
             [
              0.3333333333333333,
              "#9c179e"
             ],
             [
              0.4444444444444444,
              "#bd3786"
             ],
             [
              0.5555555555555556,
              "#d8576b"
             ],
             [
              0.6666666666666666,
              "#ed7953"
             ],
             [
              0.7777777777777778,
              "#fb9f3a"
             ],
             [
              0.8888888888888888,
              "#fdca26"
             ],
             [
              1,
              "#f0f921"
             ]
            ],
            "type": "contour"
           }
          ],
          "contourcarpet": [
           {
            "colorbar": {
             "outlinewidth": 0,
             "ticks": ""
            },
            "type": "contourcarpet"
           }
          ],
          "heatmap": [
           {
            "colorbar": {
             "outlinewidth": 0,
             "ticks": ""
            },
            "colorscale": [
             [
              0,
              "#0d0887"
             ],
             [
              0.1111111111111111,
              "#46039f"
             ],
             [
              0.2222222222222222,
              "#7201a8"
             ],
             [
              0.3333333333333333,
              "#9c179e"
             ],
             [
              0.4444444444444444,
              "#bd3786"
             ],
             [
              0.5555555555555556,
              "#d8576b"
             ],
             [
              0.6666666666666666,
              "#ed7953"
             ],
             [
              0.7777777777777778,
              "#fb9f3a"
             ],
             [
              0.8888888888888888,
              "#fdca26"
             ],
             [
              1,
              "#f0f921"
             ]
            ],
            "type": "heatmap"
           }
          ],
          "heatmapgl": [
           {
            "colorbar": {
             "outlinewidth": 0,
             "ticks": ""
            },
            "colorscale": [
             [
              0,
              "#0d0887"
             ],
             [
              0.1111111111111111,
              "#46039f"
             ],
             [
              0.2222222222222222,
              "#7201a8"
             ],
             [
              0.3333333333333333,
              "#9c179e"
             ],
             [
              0.4444444444444444,
              "#bd3786"
             ],
             [
              0.5555555555555556,
              "#d8576b"
             ],
             [
              0.6666666666666666,
              "#ed7953"
             ],
             [
              0.7777777777777778,
              "#fb9f3a"
             ],
             [
              0.8888888888888888,
              "#fdca26"
             ],
             [
              1,
              "#f0f921"
             ]
            ],
            "type": "heatmapgl"
           }
          ],
          "histogram": [
           {
            "marker": {
             "pattern": {
              "fillmode": "overlay",
              "size": 10,
              "solidity": 0.2
             }
            },
            "type": "histogram"
           }
          ],
          "histogram2d": [
           {
            "colorbar": {
             "outlinewidth": 0,
             "ticks": ""
            },
            "colorscale": [
             [
              0,
              "#0d0887"
             ],
             [
              0.1111111111111111,
              "#46039f"
             ],
             [
              0.2222222222222222,
              "#7201a8"
             ],
             [
              0.3333333333333333,
              "#9c179e"
             ],
             [
              0.4444444444444444,
              "#bd3786"
             ],
             [
              0.5555555555555556,
              "#d8576b"
             ],
             [
              0.6666666666666666,
              "#ed7953"
             ],
             [
              0.7777777777777778,
              "#fb9f3a"
             ],
             [
              0.8888888888888888,
              "#fdca26"
             ],
             [
              1,
              "#f0f921"
             ]
            ],
            "type": "histogram2d"
           }
          ],
          "histogram2dcontour": [
           {
            "colorbar": {
             "outlinewidth": 0,
             "ticks": ""
            },
            "colorscale": [
             [
              0,
              "#0d0887"
             ],
             [
              0.1111111111111111,
              "#46039f"
             ],
             [
              0.2222222222222222,
              "#7201a8"
             ],
             [
              0.3333333333333333,
              "#9c179e"
             ],
             [
              0.4444444444444444,
              "#bd3786"
             ],
             [
              0.5555555555555556,
              "#d8576b"
             ],
             [
              0.6666666666666666,
              "#ed7953"
             ],
             [
              0.7777777777777778,
              "#fb9f3a"
             ],
             [
              0.8888888888888888,
              "#fdca26"
             ],
             [
              1,
              "#f0f921"
             ]
            ],
            "type": "histogram2dcontour"
           }
          ],
          "mesh3d": [
           {
            "colorbar": {
             "outlinewidth": 0,
             "ticks": ""
            },
            "type": "mesh3d"
           }
          ],
          "parcoords": [
           {
            "line": {
             "colorbar": {
              "outlinewidth": 0,
              "ticks": ""
             }
            },
            "type": "parcoords"
           }
          ],
          "pie": [
           {
            "automargin": true,
            "type": "pie"
           }
          ],
          "scatter": [
           {
            "fillpattern": {
             "fillmode": "overlay",
             "size": 10,
             "solidity": 0.2
            },
            "type": "scatter"
           }
          ],
          "scatter3d": [
           {
            "line": {
             "colorbar": {
              "outlinewidth": 0,
              "ticks": ""
             }
            },
            "marker": {
             "colorbar": {
              "outlinewidth": 0,
              "ticks": ""
             }
            },
            "type": "scatter3d"
           }
          ],
          "scattercarpet": [
           {
            "marker": {
             "colorbar": {
              "outlinewidth": 0,
              "ticks": ""
             }
            },
            "type": "scattercarpet"
           }
          ],
          "scattergeo": [
           {
            "marker": {
             "colorbar": {
              "outlinewidth": 0,
              "ticks": ""
             }
            },
            "type": "scattergeo"
           }
          ],
          "scattergl": [
           {
            "marker": {
             "colorbar": {
              "outlinewidth": 0,
              "ticks": ""
             }
            },
            "type": "scattergl"
           }
          ],
          "scattermapbox": [
           {
            "marker": {
             "colorbar": {
              "outlinewidth": 0,
              "ticks": ""
             }
            },
            "type": "scattermapbox"
           }
          ],
          "scatterpolar": [
           {
            "marker": {
             "colorbar": {
              "outlinewidth": 0,
              "ticks": ""
             }
            },
            "type": "scatterpolar"
           }
          ],
          "scatterpolargl": [
           {
            "marker": {
             "colorbar": {
              "outlinewidth": 0,
              "ticks": ""
             }
            },
            "type": "scatterpolargl"
           }
          ],
          "scatterternary": [
           {
            "marker": {
             "colorbar": {
              "outlinewidth": 0,
              "ticks": ""
             }
            },
            "type": "scatterternary"
           }
          ],
          "surface": [
           {
            "colorbar": {
             "outlinewidth": 0,
             "ticks": ""
            },
            "colorscale": [
             [
              0,
              "#0d0887"
             ],
             [
              0.1111111111111111,
              "#46039f"
             ],
             [
              0.2222222222222222,
              "#7201a8"
             ],
             [
              0.3333333333333333,
              "#9c179e"
             ],
             [
              0.4444444444444444,
              "#bd3786"
             ],
             [
              0.5555555555555556,
              "#d8576b"
             ],
             [
              0.6666666666666666,
              "#ed7953"
             ],
             [
              0.7777777777777778,
              "#fb9f3a"
             ],
             [
              0.8888888888888888,
              "#fdca26"
             ],
             [
              1,
              "#f0f921"
             ]
            ],
            "type": "surface"
           }
          ],
          "table": [
           {
            "cells": {
             "fill": {
              "color": "#EBF0F8"
             },
             "line": {
              "color": "white"
             }
            },
            "header": {
             "fill": {
              "color": "#C8D4E3"
             },
             "line": {
              "color": "white"
             }
            },
            "type": "table"
           }
          ]
         },
         "layout": {
          "annotationdefaults": {
           "arrowcolor": "#2a3f5f",
           "arrowhead": 0,
           "arrowwidth": 1
          },
          "autotypenumbers": "strict",
          "coloraxis": {
           "colorbar": {
            "outlinewidth": 0,
            "ticks": ""
           }
          },
          "colorscale": {
           "diverging": [
            [
             0,
             "#8e0152"
            ],
            [
             0.1,
             "#c51b7d"
            ],
            [
             0.2,
             "#de77ae"
            ],
            [
             0.3,
             "#f1b6da"
            ],
            [
             0.4,
             "#fde0ef"
            ],
            [
             0.5,
             "#f7f7f7"
            ],
            [
             0.6,
             "#e6f5d0"
            ],
            [
             0.7,
             "#b8e186"
            ],
            [
             0.8,
             "#7fbc41"
            ],
            [
             0.9,
             "#4d9221"
            ],
            [
             1,
             "#276419"
            ]
           ],
           "sequential": [
            [
             0,
             "#0d0887"
            ],
            [
             0.1111111111111111,
             "#46039f"
            ],
            [
             0.2222222222222222,
             "#7201a8"
            ],
            [
             0.3333333333333333,
             "#9c179e"
            ],
            [
             0.4444444444444444,
             "#bd3786"
            ],
            [
             0.5555555555555556,
             "#d8576b"
            ],
            [
             0.6666666666666666,
             "#ed7953"
            ],
            [
             0.7777777777777778,
             "#fb9f3a"
            ],
            [
             0.8888888888888888,
             "#fdca26"
            ],
            [
             1,
             "#f0f921"
            ]
           ],
           "sequentialminus": [
            [
             0,
             "#0d0887"
            ],
            [
             0.1111111111111111,
             "#46039f"
            ],
            [
             0.2222222222222222,
             "#7201a8"
            ],
            [
             0.3333333333333333,
             "#9c179e"
            ],
            [
             0.4444444444444444,
             "#bd3786"
            ],
            [
             0.5555555555555556,
             "#d8576b"
            ],
            [
             0.6666666666666666,
             "#ed7953"
            ],
            [
             0.7777777777777778,
             "#fb9f3a"
            ],
            [
             0.8888888888888888,
             "#fdca26"
            ],
            [
             1,
             "#f0f921"
            ]
           ]
          },
          "colorway": [
           "#636efa",
           "#EF553B",
           "#00cc96",
           "#ab63fa",
           "#FFA15A",
           "#19d3f3",
           "#FF6692",
           "#B6E880",
           "#FF97FF",
           "#FECB52"
          ],
          "font": {
           "color": "#2a3f5f"
          },
          "geo": {
           "bgcolor": "white",
           "lakecolor": "white",
           "landcolor": "#E5ECF6",
           "showlakes": true,
           "showland": true,
           "subunitcolor": "white"
          },
          "hoverlabel": {
           "align": "left"
          },
          "hovermode": "closest",
          "mapbox": {
           "style": "light"
          },
          "paper_bgcolor": "white",
          "plot_bgcolor": "#E5ECF6",
          "polar": {
           "angularaxis": {
            "gridcolor": "white",
            "linecolor": "white",
            "ticks": ""
           },
           "bgcolor": "#E5ECF6",
           "radialaxis": {
            "gridcolor": "white",
            "linecolor": "white",
            "ticks": ""
           }
          },
          "scene": {
           "xaxis": {
            "backgroundcolor": "#E5ECF6",
            "gridcolor": "white",
            "gridwidth": 2,
            "linecolor": "white",
            "showbackground": true,
            "ticks": "",
            "zerolinecolor": "white"
           },
           "yaxis": {
            "backgroundcolor": "#E5ECF6",
            "gridcolor": "white",
            "gridwidth": 2,
            "linecolor": "white",
            "showbackground": true,
            "ticks": "",
            "zerolinecolor": "white"
           },
           "zaxis": {
            "backgroundcolor": "#E5ECF6",
            "gridcolor": "white",
            "gridwidth": 2,
            "linecolor": "white",
            "showbackground": true,
            "ticks": "",
            "zerolinecolor": "white"
           }
          },
          "shapedefaults": {
           "line": {
            "color": "#2a3f5f"
           }
          },
          "ternary": {
           "aaxis": {
            "gridcolor": "white",
            "linecolor": "white",
            "ticks": ""
           },
           "baxis": {
            "gridcolor": "white",
            "linecolor": "white",
            "ticks": ""
           },
           "bgcolor": "#E5ECF6",
           "caxis": {
            "gridcolor": "white",
            "linecolor": "white",
            "ticks": ""
           }
          },
          "title": {
           "x": 0.05
          },
          "xaxis": {
           "automargin": true,
           "gridcolor": "white",
           "linecolor": "white",
           "ticks": "",
           "title": {
            "standoff": 15
           },
           "zerolinecolor": "white",
           "zerolinewidth": 2
          },
          "yaxis": {
           "automargin": true,
           "gridcolor": "white",
           "linecolor": "white",
           "ticks": "",
           "title": {
            "standoff": 15
           },
           "zerolinecolor": "white",
           "zerolinewidth": 2
          }
         }
        },
        "xaxis": {
         "anchor": "y",
         "domain": [
          0,
          1
         ],
         "title": {
          "text": "value"
         }
        },
        "yaxis": {
         "anchor": "x",
         "domain": [
          0,
          1
         ],
         "title": {
          "text": "count"
         }
        }
       }
      }
     },
     "metadata": {},
     "output_type": "display_data"
    }
   ],
   "source": [
    "hist(direction.direction @ batch.T).show()\n",
    "hist(direction.direction @ toy.features.T).show()"
   ]
  },
  {
   "cell_type": "code",
   "execution_count": 251,
   "metadata": {},
   "outputs": [
    {
     "data": {
      "text/plain": [
       "tensor(140)"
      ]
     },
     "execution_count": 251,
     "metadata": {},
     "output_type": "execute_result"
    }
   ],
   "source": [
    "(direction.direction @ toy.features.T).argmax()"
   ]
  }
 ],
 "metadata": {
  "kernelspec": {
   "display_name": "gpt",
   "language": "python",
   "name": "python3"
  },
  "language_info": {
   "codemirror_mode": {
    "name": "ipython",
    "version": 3
   },
   "file_extension": ".py",
   "mimetype": "text/x-python",
   "name": "python",
   "nbconvert_exporter": "python",
   "pygments_lexer": "ipython3",
   "version": "3.10.11"
  },
  "orig_nbformat": 4
 },
 "nbformat": 4,
 "nbformat_minor": 2
}
