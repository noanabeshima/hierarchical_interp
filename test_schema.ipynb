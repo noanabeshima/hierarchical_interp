{
 "cells": [
  {
   "cell_type": "code",
   "execution_count": 21,
   "metadata": {},
   "outputs": [],
   "source": [
    "import jsonschema\n",
    "import json\n",
    "\n",
    "with open('tree.schema.json', 'r') as f:\n",
    "    schema = json.load(f)\n",
    "\n",
    "\n",
    "def validate_tree(instance):\n",
    "    jsonschema.validate(instance, schema)\n",
    "\n",
    "with open('tree.json') as f:\n",
    "    tree_dict = json.load(f)\n",
    "\n",
    "validate_tree(tree_dict)"
   ]
  },
  {
   "cell_type": "code",
   "execution_count": 22,
   "metadata": {},
   "outputs": [
    {
     "data": {
      "text/plain": [
       "{'active_prob': 1.0,\n",
       " 'id': 'Parent',\n",
       " 'is_allopatry': True,\n",
       " 'children': [{'active_prob': 0.3, 'id': 'A'},\n",
       "  {'active_prob': 0.3, 'id': 'B'}]}"
      ]
     },
     "execution_count": 22,
     "metadata": {},
     "output_type": "execute_result"
    }
   ],
   "source": [
    "tree_dict"
   ]
  }
 ],
 "metadata": {
  "kernelspec": {
   "display_name": "gpt",
   "language": "python",
   "name": "python3"
  },
  "language_info": {
   "codemirror_mode": {
    "name": "ipython",
    "version": 3
   },
   "file_extension": ".py",
   "mimetype": "text/x-python",
   "name": "python",
   "nbconvert_exporter": "python",
   "pygments_lexer": "ipython3",
   "version": "3.10.11"
  },
  "orig_nbformat": 4
 },
 "nbformat": 4,
 "nbformat_minor": 2
}
