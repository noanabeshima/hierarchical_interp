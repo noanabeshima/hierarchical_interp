{
 "cells": [
  {
   "cell_type": "code",
   "execution_count": 79,
   "metadata": {},
   "outputs": [
    {
     "data": {
      "text/plain": [
       "  B  1.0\n",
       "  0 BA 0.15\n",
       "    1 B  0.2\n",
       "    2 B  0.2\n",
       "    3 B  0.2\n",
       "      B  0.4\n",
       "  4 BA 0.15\n",
       "    5 B  0.2\n",
       "    6 B  0.2\n",
       "    7 B  0.2\n",
       "      B  0.4\n",
       "  8 BA 0.15\n",
       "    9 B  0.2\n",
       "    10 B  0.2\n",
       "    11 B  0.2\n",
       "      B  0.4\n",
       "  12 B  0.05\n",
       "  13 B  0.05\n",
       "  14 B  0.05\n",
       "  15 B  0.05\n",
       "  16 B  0.05\n",
       "  17 B  0.05"
      ]
     },
     "execution_count": 79,
     "metadata": {},
     "output_type": "execute_result"
    }
   ],
   "source": [
    "import torch\n",
    "import torch.nn as nn\n",
    "import torch.nn.functional as F\n",
    "import torch.optim as optim\n",
    "import torch.distributions as dists\n",
    "\n",
    "from interp_utils import reload_module\n",
    "\n",
    "reload_module('toy_models')\n",
    "reload_module('discrete_tree')\n",
    "from discrete_tree import Tree\n",
    "\n",
    "import json\n",
    "\n",
    "device = torch.device(\"cuda\" if torch.cuda.is_available() else \"cpu\")\n",
    "# device = 'cpu'\n",
    "\n",
    "tree_dict = json.load(open('./tree.json', 'r'))\n",
    "\n",
    "tree = Tree(tree_dict=tree_dict)\n",
    "\n",
    "batch = tree.sample(30,)\n",
    "\n",
    "tree"
   ]
  },
  {
   "cell_type": "code",
   "execution_count": 80,
   "metadata": {},
   "outputs": [
    {
     "data": {
      "application/vnd.plotly.v1+json": {
       "config": {
        "plotlyServerURL": "https://plot.ly"
       },
       "data": [
        {
         "colorscale": [
          [
           0,
           "#440154"
          ],
          [
           0.1111111111111111,
           "#482878"
          ],
          [
           0.2222222222222222,
           "#3e4989"
          ],
          [
           0.3333333333333333,
           "#31688e"
          ],
          [
           0.4444444444444444,
           "#26828e"
          ],
          [
           0.5555555555555556,
           "#1f9e89"
          ],
          [
           0.6666666666666666,
           "#35b779"
          ],
          [
           0.7777777777777778,
           "#6ece58"
          ],
          [
           0.8888888888888888,
           "#b5de2b"
          ],
          [
           1,
           "#fde725"
          ]
         ],
         "hovertemplate": "%{y}%{x}val: %{z:.2f}<extra></extra>",
         "type": "heatmap",
         "x": [
          "col: 0<br>",
          "col: 1<br>",
          "col: 2<br>",
          "col: 3<br>",
          "col: 4<br>",
          "col: 5<br>",
          "col: 6<br>",
          "col: 7<br>",
          "col: 8<br>",
          "col: 9<br>",
          "col: 10<br>",
          "col: 11<br>",
          "col: 12<br>",
          "col: 13<br>",
          "col: 14<br>",
          "col: 15<br>",
          "col: 16<br>",
          "col: 17<br>"
         ],
         "y": [
          "row: 0<br>",
          "row: 1<br>",
          "row: 2<br>",
          "row: 3<br>",
          "row: 4<br>",
          "row: 5<br>",
          "row: 6<br>",
          "row: 7<br>",
          "row: 8<br>",
          "row: 9<br>",
          "row: 10<br>",
          "row: 11<br>",
          "row: 12<br>",
          "row: 13<br>",
          "row: 14<br>",
          "row: 15<br>",
          "row: 16<br>",
          "row: 17<br>",
          "row: 18<br>",
          "row: 19<br>",
          "row: 20<br>",
          "row: 21<br>",
          "row: 22<br>",
          "row: 23<br>",
          "row: 24<br>",
          "row: 25<br>",
          "row: 26<br>",
          "row: 27<br>",
          "row: 28<br>",
          "row: 29<br>"
         ],
         "z": [
          [
           0,
           0,
           0,
           0,
           0,
           0,
           0,
           0,
           0,
           0,
           0,
           0,
           0,
           0,
           0,
           0,
           0,
           0
          ],
          [
           0,
           0,
           0,
           0,
           0,
           0,
           0,
           0,
           0,
           0,
           0,
           0,
           0,
           0,
           0,
           0,
           0,
           0
          ],
          [
           0,
           0,
           0,
           0,
           0,
           0,
           0,
           0,
           0,
           0,
           0,
           0,
           0,
           0,
           1,
           0,
           0,
           0
          ],
          [
           0,
           0,
           0,
           0,
           0,
           0,
           0,
           0,
           0,
           0,
           0,
           0,
           0,
           1,
           0,
           0,
           0,
           0
          ],
          [
           0,
           0,
           0,
           0,
           0,
           0,
           0,
           0,
           0,
           0,
           0,
           0,
           0,
           0,
           0,
           0,
           0,
           0
          ],
          [
           0,
           0,
           0,
           0,
           0,
           0,
           0,
           0,
           0,
           0,
           0,
           0,
           0,
           0,
           0,
           0,
           0,
           0
          ],
          [
           0,
           0,
           0,
           0,
           0,
           0,
           0,
           0,
           0,
           0,
           0,
           0,
           0,
           1,
           0,
           0,
           0,
           0
          ],
          [
           1,
           0,
           0,
           0,
           0,
           0,
           0,
           0,
           0,
           0,
           0,
           0,
           0,
           0,
           0,
           1,
           0,
           0
          ],
          [
           0,
           0,
           0,
           0,
           0,
           0,
           0,
           0,
           0,
           0,
           0,
           0,
           0,
           1,
           0,
           0,
           0,
           0
          ],
          [
           0,
           0,
           0,
           0,
           0,
           0,
           0,
           0,
           0,
           0,
           0,
           0,
           0,
           0,
           0,
           0,
           0,
           0
          ],
          [
           0,
           0,
           0,
           0,
           0,
           0,
           0,
           0,
           0,
           0,
           0,
           0,
           0,
           0,
           0,
           0,
           0,
           0
          ],
          [
           0,
           0,
           0,
           0,
           0,
           0,
           0,
           0,
           0,
           0,
           0,
           0,
           0,
           0,
           0,
           0,
           0,
           0
          ],
          [
           0,
           0,
           0,
           0,
           0,
           0,
           0,
           0,
           0,
           0,
           0,
           0,
           0,
           0,
           0,
           0,
           0,
           0
          ],
          [
           0,
           0,
           0,
           0,
           0,
           0,
           0,
           0,
           0,
           0,
           0,
           0,
           0,
           0,
           0,
           0,
           0,
           0
          ],
          [
           0,
           0,
           0,
           0,
           1,
           0,
           1,
           0,
           1,
           0,
           0,
           0,
           0,
           0,
           0,
           0,
           0,
           0
          ],
          [
           0,
           0,
           0,
           0,
           0,
           0,
           0,
           0,
           0,
           0,
           0,
           0,
           0,
           0,
           0,
           0,
           0,
           1
          ],
          [
           0,
           0,
           0,
           0,
           0,
           0,
           0,
           0,
           0,
           0,
           0,
           0,
           0,
           0,
           0,
           0,
           0,
           0
          ],
          [
           0,
           0,
           0,
           0,
           0,
           0,
           0,
           0,
           0,
           0,
           0,
           0,
           0,
           0,
           0,
           0,
           0,
           0
          ],
          [
           0,
           0,
           0,
           0,
           0,
           0,
           0,
           0,
           0,
           0,
           0,
           0,
           0,
           0,
           0,
           0,
           0,
           0
          ],
          [
           0,
           0,
           0,
           0,
           0,
           0,
           0,
           0,
           0,
           0,
           0,
           0,
           0,
           0,
           1,
           0,
           0,
           0
          ],
          [
           0,
           0,
           0,
           0,
           0,
           0,
           0,
           0,
           0,
           0,
           0,
           0,
           0,
           0,
           0,
           0,
           0,
           0
          ],
          [
           0,
           0,
           0,
           0,
           0,
           0,
           0,
           0,
           0,
           0,
           0,
           0,
           0,
           0,
           1,
           0,
           0,
           0
          ],
          [
           0,
           0,
           0,
           0,
           1,
           1,
           0,
           0,
           0,
           0,
           0,
           0,
           0,
           0,
           0,
           0,
           0,
           0
          ],
          [
           1,
           0,
           0,
           0,
           1,
           1,
           0,
           0,
           0,
           0,
           0,
           0,
           0,
           0,
           0,
           0,
           0,
           0
          ],
          [
           0,
           0,
           0,
           0,
           0,
           0,
           0,
           0,
           0,
           0,
           0,
           0,
           0,
           0,
           0,
           0,
           0,
           0
          ],
          [
           0,
           0,
           0,
           0,
           0,
           0,
           0,
           0,
           1,
           0,
           0,
           1,
           0,
           0,
           0,
           0,
           0,
           0
          ],
          [
           0,
           0,
           0,
           0,
           0,
           0,
           0,
           0,
           0,
           0,
           0,
           0,
           0,
           0,
           0,
           0,
           0,
           0
          ],
          [
           0,
           0,
           0,
           0,
           1,
           0,
           1,
           0,
           0,
           0,
           0,
           0,
           0,
           0,
           0,
           0,
           0,
           0
          ],
          [
           0,
           0,
           0,
           0,
           0,
           0,
           0,
           0,
           1,
           0,
           0,
           0,
           1,
           0,
           0,
           0,
           0,
           0
          ],
          [
           0,
           0,
           0,
           0,
           0,
           0,
           0,
           0,
           1,
           0,
           0,
           0,
           0,
           0,
           0,
           0,
           0,
           0
          ]
         ]
        }
       ],
       "layout": {
        "template": {
         "data": {
          "bar": [
           {
            "error_x": {
             "color": "#2a3f5f"
            },
            "error_y": {
             "color": "#2a3f5f"
            },
            "marker": {
             "line": {
              "color": "#E5ECF6",
              "width": 0.5
             },
             "pattern": {
              "fillmode": "overlay",
              "size": 10,
              "solidity": 0.2
             }
            },
            "type": "bar"
           }
          ],
          "barpolar": [
           {
            "marker": {
             "line": {
              "color": "#E5ECF6",
              "width": 0.5
             },
             "pattern": {
              "fillmode": "overlay",
              "size": 10,
              "solidity": 0.2
             }
            },
            "type": "barpolar"
           }
          ],
          "carpet": [
           {
            "aaxis": {
             "endlinecolor": "#2a3f5f",
             "gridcolor": "white",
             "linecolor": "white",
             "minorgridcolor": "white",
             "startlinecolor": "#2a3f5f"
            },
            "baxis": {
             "endlinecolor": "#2a3f5f",
             "gridcolor": "white",
             "linecolor": "white",
             "minorgridcolor": "white",
             "startlinecolor": "#2a3f5f"
            },
            "type": "carpet"
           }
          ],
          "choropleth": [
           {
            "colorbar": {
             "outlinewidth": 0,
             "ticks": ""
            },
            "type": "choropleth"
           }
          ],
          "contour": [
           {
            "colorbar": {
             "outlinewidth": 0,
             "ticks": ""
            },
            "colorscale": [
             [
              0,
              "#0d0887"
             ],
             [
              0.1111111111111111,
              "#46039f"
             ],
             [
              0.2222222222222222,
              "#7201a8"
             ],
             [
              0.3333333333333333,
              "#9c179e"
             ],
             [
              0.4444444444444444,
              "#bd3786"
             ],
             [
              0.5555555555555556,
              "#d8576b"
             ],
             [
              0.6666666666666666,
              "#ed7953"
             ],
             [
              0.7777777777777778,
              "#fb9f3a"
             ],
             [
              0.8888888888888888,
              "#fdca26"
             ],
             [
              1,
              "#f0f921"
             ]
            ],
            "type": "contour"
           }
          ],
          "contourcarpet": [
           {
            "colorbar": {
             "outlinewidth": 0,
             "ticks": ""
            },
            "type": "contourcarpet"
           }
          ],
          "heatmap": [
           {
            "colorbar": {
             "outlinewidth": 0,
             "ticks": ""
            },
            "colorscale": [
             [
              0,
              "#0d0887"
             ],
             [
              0.1111111111111111,
              "#46039f"
             ],
             [
              0.2222222222222222,
              "#7201a8"
             ],
             [
              0.3333333333333333,
              "#9c179e"
             ],
             [
              0.4444444444444444,
              "#bd3786"
             ],
             [
              0.5555555555555556,
              "#d8576b"
             ],
             [
              0.6666666666666666,
              "#ed7953"
             ],
             [
              0.7777777777777778,
              "#fb9f3a"
             ],
             [
              0.8888888888888888,
              "#fdca26"
             ],
             [
              1,
              "#f0f921"
             ]
            ],
            "type": "heatmap"
           }
          ],
          "heatmapgl": [
           {
            "colorbar": {
             "outlinewidth": 0,
             "ticks": ""
            },
            "colorscale": [
             [
              0,
              "#0d0887"
             ],
             [
              0.1111111111111111,
              "#46039f"
             ],
             [
              0.2222222222222222,
              "#7201a8"
             ],
             [
              0.3333333333333333,
              "#9c179e"
             ],
             [
              0.4444444444444444,
              "#bd3786"
             ],
             [
              0.5555555555555556,
              "#d8576b"
             ],
             [
              0.6666666666666666,
              "#ed7953"
             ],
             [
              0.7777777777777778,
              "#fb9f3a"
             ],
             [
              0.8888888888888888,
              "#fdca26"
             ],
             [
              1,
              "#f0f921"
             ]
            ],
            "type": "heatmapgl"
           }
          ],
          "histogram": [
           {
            "marker": {
             "pattern": {
              "fillmode": "overlay",
              "size": 10,
              "solidity": 0.2
             }
            },
            "type": "histogram"
           }
          ],
          "histogram2d": [
           {
            "colorbar": {
             "outlinewidth": 0,
             "ticks": ""
            },
            "colorscale": [
             [
              0,
              "#0d0887"
             ],
             [
              0.1111111111111111,
              "#46039f"
             ],
             [
              0.2222222222222222,
              "#7201a8"
             ],
             [
              0.3333333333333333,
              "#9c179e"
             ],
             [
              0.4444444444444444,
              "#bd3786"
             ],
             [
              0.5555555555555556,
              "#d8576b"
             ],
             [
              0.6666666666666666,
              "#ed7953"
             ],
             [
              0.7777777777777778,
              "#fb9f3a"
             ],
             [
              0.8888888888888888,
              "#fdca26"
             ],
             [
              1,
              "#f0f921"
             ]
            ],
            "type": "histogram2d"
           }
          ],
          "histogram2dcontour": [
           {
            "colorbar": {
             "outlinewidth": 0,
             "ticks": ""
            },
            "colorscale": [
             [
              0,
              "#0d0887"
             ],
             [
              0.1111111111111111,
              "#46039f"
             ],
             [
              0.2222222222222222,
              "#7201a8"
             ],
             [
              0.3333333333333333,
              "#9c179e"
             ],
             [
              0.4444444444444444,
              "#bd3786"
             ],
             [
              0.5555555555555556,
              "#d8576b"
             ],
             [
              0.6666666666666666,
              "#ed7953"
             ],
             [
              0.7777777777777778,
              "#fb9f3a"
             ],
             [
              0.8888888888888888,
              "#fdca26"
             ],
             [
              1,
              "#f0f921"
             ]
            ],
            "type": "histogram2dcontour"
           }
          ],
          "mesh3d": [
           {
            "colorbar": {
             "outlinewidth": 0,
             "ticks": ""
            },
            "type": "mesh3d"
           }
          ],
          "parcoords": [
           {
            "line": {
             "colorbar": {
              "outlinewidth": 0,
              "ticks": ""
             }
            },
            "type": "parcoords"
           }
          ],
          "pie": [
           {
            "automargin": true,
            "type": "pie"
           }
          ],
          "scatter": [
           {
            "fillpattern": {
             "fillmode": "overlay",
             "size": 10,
             "solidity": 0.2
            },
            "type": "scatter"
           }
          ],
          "scatter3d": [
           {
            "line": {
             "colorbar": {
              "outlinewidth": 0,
              "ticks": ""
             }
            },
            "marker": {
             "colorbar": {
              "outlinewidth": 0,
              "ticks": ""
             }
            },
            "type": "scatter3d"
           }
          ],
          "scattercarpet": [
           {
            "marker": {
             "colorbar": {
              "outlinewidth": 0,
              "ticks": ""
             }
            },
            "type": "scattercarpet"
           }
          ],
          "scattergeo": [
           {
            "marker": {
             "colorbar": {
              "outlinewidth": 0,
              "ticks": ""
             }
            },
            "type": "scattergeo"
           }
          ],
          "scattergl": [
           {
            "marker": {
             "colorbar": {
              "outlinewidth": 0,
              "ticks": ""
             }
            },
            "type": "scattergl"
           }
          ],
          "scattermapbox": [
           {
            "marker": {
             "colorbar": {
              "outlinewidth": 0,
              "ticks": ""
             }
            },
            "type": "scattermapbox"
           }
          ],
          "scatterpolar": [
           {
            "marker": {
             "colorbar": {
              "outlinewidth": 0,
              "ticks": ""
             }
            },
            "type": "scatterpolar"
           }
          ],
          "scatterpolargl": [
           {
            "marker": {
             "colorbar": {
              "outlinewidth": 0,
              "ticks": ""
             }
            },
            "type": "scatterpolargl"
           }
          ],
          "scatterternary": [
           {
            "marker": {
             "colorbar": {
              "outlinewidth": 0,
              "ticks": ""
             }
            },
            "type": "scatterternary"
           }
          ],
          "surface": [
           {
            "colorbar": {
             "outlinewidth": 0,
             "ticks": ""
            },
            "colorscale": [
             [
              0,
              "#0d0887"
             ],
             [
              0.1111111111111111,
              "#46039f"
             ],
             [
              0.2222222222222222,
              "#7201a8"
             ],
             [
              0.3333333333333333,
              "#9c179e"
             ],
             [
              0.4444444444444444,
              "#bd3786"
             ],
             [
              0.5555555555555556,
              "#d8576b"
             ],
             [
              0.6666666666666666,
              "#ed7953"
             ],
             [
              0.7777777777777778,
              "#fb9f3a"
             ],
             [
              0.8888888888888888,
              "#fdca26"
             ],
             [
              1,
              "#f0f921"
             ]
            ],
            "type": "surface"
           }
          ],
          "table": [
           {
            "cells": {
             "fill": {
              "color": "#EBF0F8"
             },
             "line": {
              "color": "white"
             }
            },
            "header": {
             "fill": {
              "color": "#C8D4E3"
             },
             "line": {
              "color": "white"
             }
            },
            "type": "table"
           }
          ]
         },
         "layout": {
          "annotationdefaults": {
           "arrowcolor": "#2a3f5f",
           "arrowhead": 0,
           "arrowwidth": 1
          },
          "autotypenumbers": "strict",
          "coloraxis": {
           "colorbar": {
            "outlinewidth": 0,
            "ticks": ""
           }
          },
          "colorscale": {
           "diverging": [
            [
             0,
             "#8e0152"
            ],
            [
             0.1,
             "#c51b7d"
            ],
            [
             0.2,
             "#de77ae"
            ],
            [
             0.3,
             "#f1b6da"
            ],
            [
             0.4,
             "#fde0ef"
            ],
            [
             0.5,
             "#f7f7f7"
            ],
            [
             0.6,
             "#e6f5d0"
            ],
            [
             0.7,
             "#b8e186"
            ],
            [
             0.8,
             "#7fbc41"
            ],
            [
             0.9,
             "#4d9221"
            ],
            [
             1,
             "#276419"
            ]
           ],
           "sequential": [
            [
             0,
             "#0d0887"
            ],
            [
             0.1111111111111111,
             "#46039f"
            ],
            [
             0.2222222222222222,
             "#7201a8"
            ],
            [
             0.3333333333333333,
             "#9c179e"
            ],
            [
             0.4444444444444444,
             "#bd3786"
            ],
            [
             0.5555555555555556,
             "#d8576b"
            ],
            [
             0.6666666666666666,
             "#ed7953"
            ],
            [
             0.7777777777777778,
             "#fb9f3a"
            ],
            [
             0.8888888888888888,
             "#fdca26"
            ],
            [
             1,
             "#f0f921"
            ]
           ],
           "sequentialminus": [
            [
             0,
             "#0d0887"
            ],
            [
             0.1111111111111111,
             "#46039f"
            ],
            [
             0.2222222222222222,
             "#7201a8"
            ],
            [
             0.3333333333333333,
             "#9c179e"
            ],
            [
             0.4444444444444444,
             "#bd3786"
            ],
            [
             0.5555555555555556,
             "#d8576b"
            ],
            [
             0.6666666666666666,
             "#ed7953"
            ],
            [
             0.7777777777777778,
             "#fb9f3a"
            ],
            [
             0.8888888888888888,
             "#fdca26"
            ],
            [
             1,
             "#f0f921"
            ]
           ]
          },
          "colorway": [
           "#636efa",
           "#EF553B",
           "#00cc96",
           "#ab63fa",
           "#FFA15A",
           "#19d3f3",
           "#FF6692",
           "#B6E880",
           "#FF97FF",
           "#FECB52"
          ],
          "font": {
           "color": "#2a3f5f"
          },
          "geo": {
           "bgcolor": "white",
           "lakecolor": "white",
           "landcolor": "#E5ECF6",
           "showlakes": true,
           "showland": true,
           "subunitcolor": "white"
          },
          "hoverlabel": {
           "align": "left"
          },
          "hovermode": "closest",
          "mapbox": {
           "style": "light"
          },
          "paper_bgcolor": "white",
          "plot_bgcolor": "#E5ECF6",
          "polar": {
           "angularaxis": {
            "gridcolor": "white",
            "linecolor": "white",
            "ticks": ""
           },
           "bgcolor": "#E5ECF6",
           "radialaxis": {
            "gridcolor": "white",
            "linecolor": "white",
            "ticks": ""
           }
          },
          "scene": {
           "xaxis": {
            "backgroundcolor": "#E5ECF6",
            "gridcolor": "white",
            "gridwidth": 2,
            "linecolor": "white",
            "showbackground": true,
            "ticks": "",
            "zerolinecolor": "white"
           },
           "yaxis": {
            "backgroundcolor": "#E5ECF6",
            "gridcolor": "white",
            "gridwidth": 2,
            "linecolor": "white",
            "showbackground": true,
            "ticks": "",
            "zerolinecolor": "white"
           },
           "zaxis": {
            "backgroundcolor": "#E5ECF6",
            "gridcolor": "white",
            "gridwidth": 2,
            "linecolor": "white",
            "showbackground": true,
            "ticks": "",
            "zerolinecolor": "white"
           }
          },
          "shapedefaults": {
           "line": {
            "color": "#2a3f5f"
           }
          },
          "ternary": {
           "aaxis": {
            "gridcolor": "white",
            "linecolor": "white",
            "ticks": ""
           },
           "baxis": {
            "gridcolor": "white",
            "linecolor": "white",
            "ticks": ""
           },
           "bgcolor": "#E5ECF6",
           "caxis": {
            "gridcolor": "white",
            "linecolor": "white",
            "ticks": ""
           }
          },
          "title": {
           "x": 0.05
          },
          "xaxis": {
           "automargin": true,
           "gridcolor": "white",
           "linecolor": "white",
           "ticks": "",
           "title": {
            "standoff": 15
           },
           "zerolinecolor": "white",
           "zerolinewidth": 2
          },
          "yaxis": {
           "automargin": true,
           "gridcolor": "white",
           "linecolor": "white",
           "ticks": "",
           "title": {
            "standoff": 15
           },
           "zerolinecolor": "white",
           "zerolinewidth": 2
          }
         }
        },
        "title": {
         "text": "(30, 18)"
        },
        "xaxis": {
         "showticklabels": false,
         "title": {
          "text": "col (18)"
         }
        },
        "yaxis": {
         "autorange": "reversed",
         "showticklabels": false,
         "title": {
          "text": "row (30)"
         }
        }
       }
      }
     },
     "metadata": {},
     "output_type": "display_data"
    }
   ],
   "source": [
    "from interp_utils import heatmap\n",
    "\n",
    "heatmap(tree.sample((30,)))\n"
   ]
  },
  {
   "cell_type": "code",
   "execution_count": 81,
   "metadata": {},
   "outputs": [
    {
     "name": "stderr",
     "output_type": "stream",
     "text": [
      "loss: 0.000: 100%|██████████| 300/300 [00:07<00:00, 41.57it/s]\n"
     ]
    }
   ],
   "source": [
    "reload_module('interp_models')\n",
    "from interp_models import Autoencoder, SparseAutoencoder, SparseNNMF\n",
    "from tqdm import tqdm\n",
    "from interp_utils import get_scheduler\n",
    "\n",
    "D_MODEL = 40\n",
    "N_STEPS = 300\n",
    "BATCH_SIZE = 100\n",
    "\n",
    "storage_autoencoder = Autoencoder(n_features=tree.n_features, d_model=D_MODEL).to(device)\n",
    "\n",
    "optimizer = optim.AdamW(storage_autoencoder.parameters(), lr=1e-2)\n",
    "scheduler = get_scheduler(optimizer, N_STEPS)\n",
    "\n",
    "pbar = tqdm(range(N_STEPS))\n",
    "for i in pbar:\n",
    "    optimizer.zero_grad()\n",
    "    batch = tree.sample(100).to(device)\n",
    "    reconstruction = storage_autoencoder(batch)\n",
    "    \n",
    "    loss = F.mse_loss(reconstruction, batch)\n",
    "    loss.backward()\n",
    "    optimizer.step()\n",
    "    scheduler.step()\n",
    "\n",
    "    if i % 10 == 0:\n",
    "        pbar.set_description(f'loss: {loss.item():.3f}')\n",
    "\n",
    "write_out = storage_autoencoder.encoder.weight.data.cpu().T\n",
    "write_out_b = storage_autoencoder.encoder.bias.data.cpu().T\n",
    "\n",
    "read_in = storage_autoencoder.decoder.weight.cpu().data\n",
    "read_in_b = storage_autoencoder.decoder.bias.cpu().data\n",
    "\n",
    "\n",
    "normed_write_out = F.normalize(write_out, dim=1)\n",
    "normed_read_in = F.normalize(read_in, dim=0)"
   ]
  },
  {
   "cell_type": "code",
   "execution_count": 89,
   "metadata": {},
   "outputs": [
    {
     "data": {
      "text/plain": [
       "  B  1.0\n",
       "  0 BA 0.15\n",
       "    1 B  0.2\n",
       "    2 B  0.2\n",
       "    3 B  0.2\n",
       "      B  0.4\n",
       "  4 BA 0.15\n",
       "    5 B  0.2\n",
       "    6 B  0.2\n",
       "    7 B  0.2\n",
       "      B  0.4\n",
       "  8 BA 0.15\n",
       "    9 B  0.2\n",
       "    10 B  0.2\n",
       "    11 B  0.2\n",
       "      B  0.4\n",
       "  12 B  0.05\n",
       "  13 B  0.05\n",
       "  14 B  0.05\n",
       "  15 B  0.05\n",
       "  16 B  0.05\n",
       "  17 B  0.05"
      ]
     },
     "execution_count": 89,
     "metadata": {},
     "output_type": "execute_result"
    }
   ],
   "source": [
    "tree"
   ]
  },
  {
   "cell_type": "code",
   "execution_count": 90,
   "metadata": {},
   "outputs": [
    {
     "data": {
      "application/vnd.plotly.v1+json": {
       "config": {
        "plotlyServerURL": "https://plot.ly"
       },
       "data": [
        {
         "colorscale": [
          [
           0,
           "#440154"
          ],
          [
           0.1111111111111111,
           "#482878"
          ],
          [
           0.2222222222222222,
           "#3e4989"
          ],
          [
           0.3333333333333333,
           "#31688e"
          ],
          [
           0.4444444444444444,
           "#26828e"
          ],
          [
           0.5555555555555556,
           "#1f9e89"
          ],
          [
           0.6666666666666666,
           "#35b779"
          ],
          [
           0.7777777777777778,
           "#6ece58"
          ],
          [
           0.8888888888888888,
           "#b5de2b"
          ],
          [
           1,
           "#fde725"
          ]
         ],
         "hovertemplate": "%{y}%{x}val: %{z:.2f}<extra></extra>",
         "type": "heatmap",
         "x": [
          "read_in: 0<br>",
          "read_in: 1<br>",
          "read_in: 2<br>",
          "read_in: 3<br>",
          "read_in: 4<br>",
          "read_in: 5<br>",
          "read_in: 6<br>",
          "read_in: 7<br>",
          "read_in: 8<br>",
          "read_in: 9<br>",
          "read_in: 10<br>",
          "read_in: 11<br>",
          "read_in: 12<br>",
          "read_in: 13<br>",
          "read_in: 14<br>",
          "read_in: 15<br>",
          "read_in: 16<br>",
          "read_in: 17<br>"
         ],
         "y": [
          "write_out: 0<br>",
          "write_out: 1<br>",
          "write_out: 2<br>",
          "write_out: 3<br>",
          "write_out: 4<br>",
          "write_out: 5<br>",
          "write_out: 6<br>",
          "write_out: 7<br>",
          "write_out: 8<br>",
          "write_out: 9<br>",
          "write_out: 10<br>",
          "write_out: 11<br>",
          "write_out: 12<br>",
          "write_out: 13<br>",
          "write_out: 14<br>",
          "write_out: 15<br>",
          "write_out: 16<br>",
          "write_out: 17<br>"
         ],
         "z": [
          [
           1.1440107822418213,
           0.001203141175210476,
           0.0010608478914946318,
           0.0005700698238797486,
           -0.000014416441445064265,
           0.0017827156698331237,
           0.00037303855060599744,
           0.0002552632358856499,
           -0.0002608487266115844,
           0.0005071470513939857,
           0.00031341935391537845,
           0.0002965387247968465,
           0.00033369509037584066,
           0.00027831154875457287,
           -0.00006132209819043055,
           -0.00002145630060113035,
           0.00018587731756269932,
           0.0002775043249130249
          ],
          [
           0.00032964814454317093,
           1.1429842710494995,
           -0.0011967397294938564,
           -0.000634769385214895,
           -0.000016088413758552633,
           -0.0025312670040875673,
           -0.0004874053120147437,
           -0.00047807313967496157,
           0.0004141531535424292,
           -0.0006007920601405203,
           -0.00045091327046975493,
           -0.0002786031400319189,
           -0.000466352968942374,
           -0.0003797259123530239,
           0.0000754123175283894,
           0.0000926263746805489,
           -0.00022364407777786255,
           -0.00039314478635787964
          ],
          [
           0.0003364965959917754,
           -0.0015079592121765018,
           1.1431442499160767,
           -0.0006148599786683917,
           -0.000016873449567356147,
           -0.0028910355176776648,
           -0.0005479993997141719,
           -0.0002713591675274074,
           0.0004033334262203425,
           -0.0009738942026160657,
           -0.0005880061071366072,
           -0.0005204105982556939,
           -0.0004721359582617879,
           -0.00040323493885807693,
           0.00016523625527042896,
           -0.00005182748645893298,
           -0.00022138655185699463,
           -0.0003433525562286377
          ],
          [
           0.00029885841649957,
           -0.0014702873304486275,
           -0.0012974338605999947,
           1.1436793804168701,
           0.00007138414366636425,
           -0.0026079597882926464,
           -0.00043929682578891516,
           -0.00045545422472059727,
           0.00029471979360096157,
           -0.0006793499924242496,
           -0.0002529968915041536,
           -0.00022477337915915996,
           -0.0005230234237387776,
           -0.0003494205593597144,
           -0.000017293119526584633,
           -0.0000359036166628357,
           -0.00026791542768478394,
           -0.000467739999294281
          ],
          [
           0.000134842746774666,
           0.00022124718816485256,
           0.00027315167244523764,
           0.0000537453088327311,
           1.1440435647964478,
           0.001705939183011651,
           0.0004895205493085086,
           0.0009513797122053802,
           -0.00015161158808041364,
           0.0006538060260936618,
           0.00024018733529374003,
           0.0007312014931812882,
           0.00034832526580430567,
           0.00008092970529105514,
           -0.000058281966630602255,
           -0.000032803342037368566,
           0.0003215000033378601,
           -0.00003455951809883118
          ],
          [
           -0.00003570636545191519,
           -0.00024761815438978374,
           -0.00038381421472877264,
           -0.0000444511097157374,
           0.00032575742807239294,
           1.142295241355896,
           -0.0004915143363177776,
           -0.0009894693503156304,
           0.00018475028628017753,
           -0.0010287578916177154,
           -0.00032842240761965513,
           -0.0009476821287535131,
           -0.00037980417255312204,
           -0.00015760463429614902,
           0.0001500125217717141,
           0.00008410593727603555,
           -0.0004264414310455322,
           0.00015194620937108994
          ],
          [
           -0.00023297994630411267,
           -0.0003854337555821985,
           -0.00042365360422991216,
           -0.00006578936881851405,
           0.0003258062351960689,
           -0.0025482317432761192,
           1.1437033414840698,
           -0.0011486685834825039,
           0.0002547286276239902,
           -0.0009539133752696216,
           -0.00037114418228156865,
           -0.0010785202030092478,
           -0.0005859470693394542,
           -0.000058182144130114466,
           0.00005912133201491088,
           0.0000839880303828977,
           -0.0004968717694282532,
           0.00005177408456802368
          ],
          [
           -0.00013251051132101566,
           -0.00029855905449949205,
           -0.0003899634175468236,
           -0.00003105504947598092,
           0.0003178507031407207,
           -0.0022177081555128098,
           -0.0004949675058014691,
           1.1431248188018799,
           0.00025681089027784765,
           -0.0009624614613130689,
           -0.00042568633216433227,
           -0.0010600993409752846,
           -0.0005539378616958857,
           -0.00014862764510326087,
           0.00012944584887009114,
           0.00008862296817824244,
           -0.00047978200018405914,
           0.000122779980301857
          ],
          [
           -0.00045929773477837443,
           0.0009906337363645434,
           0.000904044893104583,
           0.000010787954124680255,
           -0.0004059724451508373,
           0.001063703210093081,
           0.000696962233632803,
           -0.000747290498111397,
           1.1440465450286865,
           0.004489413928240538,
           0.003146783448755741,
           0.003993447870016098,
           -0.00008794310269877315,
           0.000434724148362875,
           -0.0010369127849116921,
           0.00024708951241336763,
           0.0008552270010113716,
           0.0007075034081935883
          ],
          [
           0.0006288598524406552,
           -0.0012731327442452312,
           -0.0011867951834574342,
           0.00007541326340287924,
           0.0005688956007361412,
           -0.001372836995869875,
           -0.0009079423034563661,
           0.0010672151111066341,
           0.00025659010862000287,
           1.1395386457443237,
           -0.003928466234356165,
           -0.005130819045007229,
           0.0001031099891406484,
           -0.0004851284611504525,
           0.0013543852837756276,
           -0.00025044946232810616,
           -0.0010436568409204483,
           -0.0008720383048057556
          ],
          [
           0.0007388523663394153,
           -0.001527841086499393,
           -0.0013485164381563663,
           -0.00003337153611937538,
           0.0006848155753687024,
           -0.001851046341471374,
           -0.001177194295451045,
           0.001217044424265623,
           0.00026647557388059795,
           -0.0069062779657542706,
           1.1408661603927612,
           -0.006009434349834919,
           0.00015205652744043618,
           -0.0007548274006694555,
           0.0016464929794892669,
           -0.00041985511779785156,
           -0.0012914985418319702,
           -0.001214742660522461
          ],
          [
           0.0006085883942432702,
           -0.0012795617803931236,
           -0.0013478752225637436,
           -0.00003483502587187104,
           0.0004961765371263027,
           -0.0013497313484549522,
           -0.001028192462399602,
           0.0010863231727853417,
           0.00024226542154792696,
           -0.006144458428025246,
           -0.004009698051959276,
           1.1400582790374756,
           0.0002019061503233388,
           -0.0005764093948528171,
           0.0015446147881448269,
           -0.0003569870023056865,
           -0.001118239015340805,
           -0.0008914396166801453
          ],
          [
           0.00009340849646832794,
           -0.000042919302359223366,
           -0.000019035685909329914,
           -0.00006202440999913961,
           0.000018097889551427215,
           -0.000053815962019143626,
           0.000044005526433466,
           -0.000029356870072660968,
           -0.000008175264156307094,
           0.00012518517905846238,
           0.00009231198055204004,
           0.00008592068479629233,
           1.1441917419433594,
           0.000029078682928229682,
           0.000012670323485508561,
           0.000026250943847117014,
           -0.000004626810550689697,
           -2.4959444999694824e-7
          ],
          [
           0.000045714317820966244,
           0.000017473965272074565,
           0.000028836746423621662,
           0.00001542427526146639,
           0.00008140157297020778,
           0.000036130753869656473,
           -0.00005433669502963312,
           -0.000023129343389882706,
           0.000017919666788657196,
           -0.00014698735321871936,
           -0.00012437524856068194,
           -0.000250404846156016,
           0.000011399622962926514,
           1.1442042589187622,
           -0.000006884497452119831,
           0.000052026673074578866,
           -0.00013178586959838867,
           -0.000027008354663848877
          ],
          [
           0.000020034360204590484,
           0.00002207903344242368,
           0.00004102614911971614,
           0.000006999613560765283,
           -0.000034767257602652535,
           0.00011035045463358983,
           0.000046621054934803396,
           0.0000623871965217404,
           0.000007661498784727883,
           -0.00011850952432723716,
           -0.000012028614946757443,
           -0.0001585057470947504,
           0.00007306958286790177,
           0.00003709208976943046,
           1.144163966178894,
           -0.000013943583326181397,
           -0.0000856444239616394,
           -0.00005955994129180908
          ],
          [
           -0.000018477168850949965,
           0.000026528317903284915,
           -0.000021485075194505043,
           -0.000017029706214088947,
           0.00007757430284982547,
           0.00000803468719823286,
           -0.00006286491407081485,
           0.000019080798665527254,
           0.000006400178335752571,
           -0.00009751130710355937,
           -0.00009607100946595892,
           -0.00011168164201080799,
           0.000030448756660916843,
           0.00003536475924192928,
           0.00006383647996699437,
           1.144169569015503,
           -0.00008256733417510986,
           0.0000026710331439971924
          ],
          [
           0.000021776060748379678,
           0.00008572556544095278,
           0.000023634067474631593,
           -0.00003240654041292146,
           -0.000060294591094134375,
           0.00008679768507136032,
           0.000023440352379111573,
           -0.00004779202208737843,
           0.000034650700399652123,
           0.00015051713853608817,
           0.0001449144328944385,
           0.00015652572619728744,
           -0.000042468280298635364,
           0.000007566351087007206,
           -0.00002961886639241129,
           0.000003903363449353492,
           1.1442623138427734,
           0.00002644956111907959
          ],
          [
           0.00005114202940603718,
           0.0000025989975256379694,
           -0.0000075609696068568155,
           -0.00001025444180413615,
           0.00005815508120576851,
           0.0000019337262529006694,
           -0.000029841521609341726,
           -0.000009359469913761131,
           0.000009244321518053766,
           -0.00001866050843091216,
           0.000022841426471131854,
           0.000003998394731752342,
           0.000040241575334221125,
           0.000007065837507980177,
           0.0001253160007763654,
           0.000025988225388573483,
           -0.000035881996154785156,
           1.1441969871520996
          ]
         ]
        }
       ],
       "layout": {
        "template": {
         "data": {
          "bar": [
           {
            "error_x": {
             "color": "#2a3f5f"
            },
            "error_y": {
             "color": "#2a3f5f"
            },
            "marker": {
             "line": {
              "color": "#E5ECF6",
              "width": 0.5
             },
             "pattern": {
              "fillmode": "overlay",
              "size": 10,
              "solidity": 0.2
             }
            },
            "type": "bar"
           }
          ],
          "barpolar": [
           {
            "marker": {
             "line": {
              "color": "#E5ECF6",
              "width": 0.5
             },
             "pattern": {
              "fillmode": "overlay",
              "size": 10,
              "solidity": 0.2
             }
            },
            "type": "barpolar"
           }
          ],
          "carpet": [
           {
            "aaxis": {
             "endlinecolor": "#2a3f5f",
             "gridcolor": "white",
             "linecolor": "white",
             "minorgridcolor": "white",
             "startlinecolor": "#2a3f5f"
            },
            "baxis": {
             "endlinecolor": "#2a3f5f",
             "gridcolor": "white",
             "linecolor": "white",
             "minorgridcolor": "white",
             "startlinecolor": "#2a3f5f"
            },
            "type": "carpet"
           }
          ],
          "choropleth": [
           {
            "colorbar": {
             "outlinewidth": 0,
             "ticks": ""
            },
            "type": "choropleth"
           }
          ],
          "contour": [
           {
            "colorbar": {
             "outlinewidth": 0,
             "ticks": ""
            },
            "colorscale": [
             [
              0,
              "#0d0887"
             ],
             [
              0.1111111111111111,
              "#46039f"
             ],
             [
              0.2222222222222222,
              "#7201a8"
             ],
             [
              0.3333333333333333,
              "#9c179e"
             ],
             [
              0.4444444444444444,
              "#bd3786"
             ],
             [
              0.5555555555555556,
              "#d8576b"
             ],
             [
              0.6666666666666666,
              "#ed7953"
             ],
             [
              0.7777777777777778,
              "#fb9f3a"
             ],
             [
              0.8888888888888888,
              "#fdca26"
             ],
             [
              1,
              "#f0f921"
             ]
            ],
            "type": "contour"
           }
          ],
          "contourcarpet": [
           {
            "colorbar": {
             "outlinewidth": 0,
             "ticks": ""
            },
            "type": "contourcarpet"
           }
          ],
          "heatmap": [
           {
            "colorbar": {
             "outlinewidth": 0,
             "ticks": ""
            },
            "colorscale": [
             [
              0,
              "#0d0887"
             ],
             [
              0.1111111111111111,
              "#46039f"
             ],
             [
              0.2222222222222222,
              "#7201a8"
             ],
             [
              0.3333333333333333,
              "#9c179e"
             ],
             [
              0.4444444444444444,
              "#bd3786"
             ],
             [
              0.5555555555555556,
              "#d8576b"
             ],
             [
              0.6666666666666666,
              "#ed7953"
             ],
             [
              0.7777777777777778,
              "#fb9f3a"
             ],
             [
              0.8888888888888888,
              "#fdca26"
             ],
             [
              1,
              "#f0f921"
             ]
            ],
            "type": "heatmap"
           }
          ],
          "heatmapgl": [
           {
            "colorbar": {
             "outlinewidth": 0,
             "ticks": ""
            },
            "colorscale": [
             [
              0,
              "#0d0887"
             ],
             [
              0.1111111111111111,
              "#46039f"
             ],
             [
              0.2222222222222222,
              "#7201a8"
             ],
             [
              0.3333333333333333,
              "#9c179e"
             ],
             [
              0.4444444444444444,
              "#bd3786"
             ],
             [
              0.5555555555555556,
              "#d8576b"
             ],
             [
              0.6666666666666666,
              "#ed7953"
             ],
             [
              0.7777777777777778,
              "#fb9f3a"
             ],
             [
              0.8888888888888888,
              "#fdca26"
             ],
             [
              1,
              "#f0f921"
             ]
            ],
            "type": "heatmapgl"
           }
          ],
          "histogram": [
           {
            "marker": {
             "pattern": {
              "fillmode": "overlay",
              "size": 10,
              "solidity": 0.2
             }
            },
            "type": "histogram"
           }
          ],
          "histogram2d": [
           {
            "colorbar": {
             "outlinewidth": 0,
             "ticks": ""
            },
            "colorscale": [
             [
              0,
              "#0d0887"
             ],
             [
              0.1111111111111111,
              "#46039f"
             ],
             [
              0.2222222222222222,
              "#7201a8"
             ],
             [
              0.3333333333333333,
              "#9c179e"
             ],
             [
              0.4444444444444444,
              "#bd3786"
             ],
             [
              0.5555555555555556,
              "#d8576b"
             ],
             [
              0.6666666666666666,
              "#ed7953"
             ],
             [
              0.7777777777777778,
              "#fb9f3a"
             ],
             [
              0.8888888888888888,
              "#fdca26"
             ],
             [
              1,
              "#f0f921"
             ]
            ],
            "type": "histogram2d"
           }
          ],
          "histogram2dcontour": [
           {
            "colorbar": {
             "outlinewidth": 0,
             "ticks": ""
            },
            "colorscale": [
             [
              0,
              "#0d0887"
             ],
             [
              0.1111111111111111,
              "#46039f"
             ],
             [
              0.2222222222222222,
              "#7201a8"
             ],
             [
              0.3333333333333333,
              "#9c179e"
             ],
             [
              0.4444444444444444,
              "#bd3786"
             ],
             [
              0.5555555555555556,
              "#d8576b"
             ],
             [
              0.6666666666666666,
              "#ed7953"
             ],
             [
              0.7777777777777778,
              "#fb9f3a"
             ],
             [
              0.8888888888888888,
              "#fdca26"
             ],
             [
              1,
              "#f0f921"
             ]
            ],
            "type": "histogram2dcontour"
           }
          ],
          "mesh3d": [
           {
            "colorbar": {
             "outlinewidth": 0,
             "ticks": ""
            },
            "type": "mesh3d"
           }
          ],
          "parcoords": [
           {
            "line": {
             "colorbar": {
              "outlinewidth": 0,
              "ticks": ""
             }
            },
            "type": "parcoords"
           }
          ],
          "pie": [
           {
            "automargin": true,
            "type": "pie"
           }
          ],
          "scatter": [
           {
            "fillpattern": {
             "fillmode": "overlay",
             "size": 10,
             "solidity": 0.2
            },
            "type": "scatter"
           }
          ],
          "scatter3d": [
           {
            "line": {
             "colorbar": {
              "outlinewidth": 0,
              "ticks": ""
             }
            },
            "marker": {
             "colorbar": {
              "outlinewidth": 0,
              "ticks": ""
             }
            },
            "type": "scatter3d"
           }
          ],
          "scattercarpet": [
           {
            "marker": {
             "colorbar": {
              "outlinewidth": 0,
              "ticks": ""
             }
            },
            "type": "scattercarpet"
           }
          ],
          "scattergeo": [
           {
            "marker": {
             "colorbar": {
              "outlinewidth": 0,
              "ticks": ""
             }
            },
            "type": "scattergeo"
           }
          ],
          "scattergl": [
           {
            "marker": {
             "colorbar": {
              "outlinewidth": 0,
              "ticks": ""
             }
            },
            "type": "scattergl"
           }
          ],
          "scattermapbox": [
           {
            "marker": {
             "colorbar": {
              "outlinewidth": 0,
              "ticks": ""
             }
            },
            "type": "scattermapbox"
           }
          ],
          "scatterpolar": [
           {
            "marker": {
             "colorbar": {
              "outlinewidth": 0,
              "ticks": ""
             }
            },
            "type": "scatterpolar"
           }
          ],
          "scatterpolargl": [
           {
            "marker": {
             "colorbar": {
              "outlinewidth": 0,
              "ticks": ""
             }
            },
            "type": "scatterpolargl"
           }
          ],
          "scatterternary": [
           {
            "marker": {
             "colorbar": {
              "outlinewidth": 0,
              "ticks": ""
             }
            },
            "type": "scatterternary"
           }
          ],
          "surface": [
           {
            "colorbar": {
             "outlinewidth": 0,
             "ticks": ""
            },
            "colorscale": [
             [
              0,
              "#0d0887"
             ],
             [
              0.1111111111111111,
              "#46039f"
             ],
             [
              0.2222222222222222,
              "#7201a8"
             ],
             [
              0.3333333333333333,
              "#9c179e"
             ],
             [
              0.4444444444444444,
              "#bd3786"
             ],
             [
              0.5555555555555556,
              "#d8576b"
             ],
             [
              0.6666666666666666,
              "#ed7953"
             ],
             [
              0.7777777777777778,
              "#fb9f3a"
             ],
             [
              0.8888888888888888,
              "#fdca26"
             ],
             [
              1,
              "#f0f921"
             ]
            ],
            "type": "surface"
           }
          ],
          "table": [
           {
            "cells": {
             "fill": {
              "color": "#EBF0F8"
             },
             "line": {
              "color": "white"
             }
            },
            "header": {
             "fill": {
              "color": "#C8D4E3"
             },
             "line": {
              "color": "white"
             }
            },
            "type": "table"
           }
          ]
         },
         "layout": {
          "annotationdefaults": {
           "arrowcolor": "#2a3f5f",
           "arrowhead": 0,
           "arrowwidth": 1
          },
          "autotypenumbers": "strict",
          "coloraxis": {
           "colorbar": {
            "outlinewidth": 0,
            "ticks": ""
           }
          },
          "colorscale": {
           "diverging": [
            [
             0,
             "#8e0152"
            ],
            [
             0.1,
             "#c51b7d"
            ],
            [
             0.2,
             "#de77ae"
            ],
            [
             0.3,
             "#f1b6da"
            ],
            [
             0.4,
             "#fde0ef"
            ],
            [
             0.5,
             "#f7f7f7"
            ],
            [
             0.6,
             "#e6f5d0"
            ],
            [
             0.7,
             "#b8e186"
            ],
            [
             0.8,
             "#7fbc41"
            ],
            [
             0.9,
             "#4d9221"
            ],
            [
             1,
             "#276419"
            ]
           ],
           "sequential": [
            [
             0,
             "#0d0887"
            ],
            [
             0.1111111111111111,
             "#46039f"
            ],
            [
             0.2222222222222222,
             "#7201a8"
            ],
            [
             0.3333333333333333,
             "#9c179e"
            ],
            [
             0.4444444444444444,
             "#bd3786"
            ],
            [
             0.5555555555555556,
             "#d8576b"
            ],
            [
             0.6666666666666666,
             "#ed7953"
            ],
            [
             0.7777777777777778,
             "#fb9f3a"
            ],
            [
             0.8888888888888888,
             "#fdca26"
            ],
            [
             1,
             "#f0f921"
            ]
           ],
           "sequentialminus": [
            [
             0,
             "#0d0887"
            ],
            [
             0.1111111111111111,
             "#46039f"
            ],
            [
             0.2222222222222222,
             "#7201a8"
            ],
            [
             0.3333333333333333,
             "#9c179e"
            ],
            [
             0.4444444444444444,
             "#bd3786"
            ],
            [
             0.5555555555555556,
             "#d8576b"
            ],
            [
             0.6666666666666666,
             "#ed7953"
            ],
            [
             0.7777777777777778,
             "#fb9f3a"
            ],
            [
             0.8888888888888888,
             "#fdca26"
            ],
            [
             1,
             "#f0f921"
            ]
           ]
          },
          "colorway": [
           "#636efa",
           "#EF553B",
           "#00cc96",
           "#ab63fa",
           "#FFA15A",
           "#19d3f3",
           "#FF6692",
           "#B6E880",
           "#FF97FF",
           "#FECB52"
          ],
          "font": {
           "color": "#2a3f5f"
          },
          "geo": {
           "bgcolor": "white",
           "lakecolor": "white",
           "landcolor": "#E5ECF6",
           "showlakes": true,
           "showland": true,
           "subunitcolor": "white"
          },
          "hoverlabel": {
           "align": "left"
          },
          "hovermode": "closest",
          "mapbox": {
           "style": "light"
          },
          "paper_bgcolor": "white",
          "plot_bgcolor": "#E5ECF6",
          "polar": {
           "angularaxis": {
            "gridcolor": "white",
            "linecolor": "white",
            "ticks": ""
           },
           "bgcolor": "#E5ECF6",
           "radialaxis": {
            "gridcolor": "white",
            "linecolor": "white",
            "ticks": ""
           }
          },
          "scene": {
           "xaxis": {
            "backgroundcolor": "#E5ECF6",
            "gridcolor": "white",
            "gridwidth": 2,
            "linecolor": "white",
            "showbackground": true,
            "ticks": "",
            "zerolinecolor": "white"
           },
           "yaxis": {
            "backgroundcolor": "#E5ECF6",
            "gridcolor": "white",
            "gridwidth": 2,
            "linecolor": "white",
            "showbackground": true,
            "ticks": "",
            "zerolinecolor": "white"
           },
           "zaxis": {
            "backgroundcolor": "#E5ECF6",
            "gridcolor": "white",
            "gridwidth": 2,
            "linecolor": "white",
            "showbackground": true,
            "ticks": "",
            "zerolinecolor": "white"
           }
          },
          "shapedefaults": {
           "line": {
            "color": "#2a3f5f"
           }
          },
          "ternary": {
           "aaxis": {
            "gridcolor": "white",
            "linecolor": "white",
            "ticks": ""
           },
           "baxis": {
            "gridcolor": "white",
            "linecolor": "white",
            "ticks": ""
           },
           "bgcolor": "#E5ECF6",
           "caxis": {
            "gridcolor": "white",
            "linecolor": "white",
            "ticks": ""
           }
          },
          "title": {
           "x": 0.05
          },
          "xaxis": {
           "automargin": true,
           "gridcolor": "white",
           "linecolor": "white",
           "ticks": "",
           "title": {
            "standoff": 15
           },
           "zerolinecolor": "white",
           "zerolinewidth": 2
          },
          "yaxis": {
           "automargin": true,
           "gridcolor": "white",
           "linecolor": "white",
           "ticks": "",
           "title": {
            "standoff": 15
           },
           "zerolinecolor": "white",
           "zerolinewidth": 2
          }
         }
        },
        "title": {
         "text": "(write_out, read_in)"
        },
        "xaxis": {
         "showticklabels": false,
         "title": {
          "text": "read_in (18)"
         }
        },
        "yaxis": {
         "autorange": "reversed",
         "showticklabels": false,
         "title": {
          "text": "write_out (18)"
         }
        }
       }
      }
     },
     "metadata": {},
     "output_type": "display_data"
    }
   ],
   "source": [
    "from interp_utils import heatmap\n",
    "\n",
    "\n",
    "heatmap(write_out @ read_in.T, dim_names=('write_out', 'read_in'))"
   ]
  },
  {
   "cell_type": "code",
   "execution_count": null,
   "metadata": {},
   "outputs": [],
   "source": []
  },
  {
   "cell_type": "code",
   "execution_count": 97,
   "metadata": {},
   "outputs": [
    {
     "name": "stderr",
     "output_type": "stream",
     "text": [
      "loss: 0.019, mse: 0.019, sparse: 0.044, orthog: 0.058: 100%|██████████| 30000/30000 [01:28<00:00, 337.51it/s]\n"
     ]
    }
   ],
   "source": [
    "reload_module('interp_models')\n",
    "from interp_models import Autoencoder, SparseAutoencoder, SparseNNMF, SparseNNMFWCodeBias\n",
    "from tqdm import tqdm\n",
    "from interp_utils import get_scheduler\n",
    "\n",
    "# D_MODEL = \n",
    "N_EPOCHS = 1\n",
    "CODE_STEPS = 30000\n",
    "ATOM_STEPS=1000\n",
    "BATCH_SIZE=50000\n",
    "\n",
    "SPARSE_COEF = 3e-1\n",
    "\n",
    "ORTHOG_K = 2\n",
    "ORTHOG_COEF = 1e-2\n",
    "# ORTHOG_K = 3\n",
    "# ORTHOG_COEF = 1\n",
    "ORTHOG_K = 0\n",
    "ORTHOG_COEF = 0\n",
    "\n",
    "torch.manual_seed(0)\n",
    "\n",
    "\n",
    "device = 'cuda:0'\n",
    "# device = 'cpu'\n",
    "\n",
    "storage_autoencoder = storage_autoencoder.to(device=device)\n",
    "features_batch = tree.sample(BATCH_SIZE).to(device=device)\n",
    "with torch.no_grad():\n",
    "    batch = storage_autoencoder.encoder(features_batch)\n",
    "\n",
    "\n",
    "nnmf = SparseNNMF(d_model=storage_autoencoder.d_model, n_features=tree.n_features, orthog_k=ORTHOG_K, bias=True).to(device=device)\n",
    "\n",
    "nnmf.train(batch, frozen_atoms=False, sparse_coef=SPARSE_COEF, n_epochs=CODE_STEPS, orthog_coef=ORTHOG_COEF, lr=1e-2, mean_init=True)\n",
    "# for epoch in range(N_EPOCHS):\n",
    "    \n",
    "#     # update codes\n",
    "#     nnmf.train(batch, frozen_atoms=(epoch > 0), sparse_coef=SPARSE_COEF, n_epochs=CODE_STEPS, orthog_coef=ORTHOG_COEF, lr=1e-2, mean_init=True)\n",
    "\n",
    "#     # if epoch > 0:\n",
    "#     #     # update atoms\n",
    "#     #     nnmf.train(batch, frozen_codes=False, sparse_coef=SPARSE_COEF, n_epochs=ATOM_STEPS, orthog_coef=ORTHOG_COEF, )\n",
    "\n"
   ]
  },
  {
   "cell_type": "code",
   "execution_count": 98,
   "metadata": {},
   "outputs": [
    {
     "data": {
      "application/vnd.plotly.v1+json": {
       "config": {
        "plotlyServerURL": "https://plot.ly"
       },
       "data": [
        {
         "colorscale": [
          [
           0,
           "#440154"
          ],
          [
           0.1111111111111111,
           "#482878"
          ],
          [
           0.2222222222222222,
           "#3e4989"
          ],
          [
           0.3333333333333333,
           "#31688e"
          ],
          [
           0.4444444444444444,
           "#26828e"
          ],
          [
           0.5555555555555556,
           "#1f9e89"
          ],
          [
           0.6666666666666666,
           "#35b779"
          ],
          [
           0.7777777777777778,
           "#6ece58"
          ],
          [
           0.8888888888888888,
           "#b5de2b"
          ],
          [
           1,
           "#fde725"
          ]
         ],
         "hovertemplate": "%{y}%{x}val: %{z:.2f}<extra></extra>",
         "type": "heatmap",
         "x": [
          "features: 0<br>",
          "features: 1<br>",
          "features: 2<br>",
          "features: 3<br>",
          "features: 4<br>",
          "features: 5<br>",
          "features: 6<br>",
          "features: 7<br>",
          "features: 8<br>",
          "features: 9<br>",
          "features: 10<br>",
          "features: 11<br>",
          "features: 12<br>",
          "features: 13<br>",
          "features: 14<br>",
          "features: 15<br>",
          "features: 16<br>",
          "features: 17<br>"
         ],
         "y": [
          "atoms: 0<br>",
          "atoms: 1<br>",
          "atoms: 2<br>",
          "atoms: 3<br>",
          "atoms: 4<br>",
          "atoms: 5<br>",
          "atoms: 6<br>",
          "atoms: 7<br>",
          "atoms: 8<br>",
          "atoms: 9<br>",
          "atoms: 10<br>",
          "atoms: 11<br>",
          "atoms: 12<br>",
          "atoms: 13<br>",
          "atoms: 14<br>",
          "atoms: 15<br>",
          "atoms: 16<br>",
          "atoms: 17<br>"
         ],
         "z": [
          [
           0.7891518473625183,
           -0.09670726209878922,
           -0.07214803993701935,
           0.6152163743972778,
           -0.015931395813822746,
           0.045182693749666214,
           -0.05194421857595444,
           -0.005797175690531731,
           -0.011346240527927876,
           0.030998585745692253,
           -0.030424384400248528,
           0.048580776900053024,
           0.07394827157258987,
           -0.04088795930147171,
           0.011017627082765102,
           -0.02839711494743824,
           -0.013390464708209038,
           0.008598469197750092
          ],
          [
           0.7167815566062927,
           0.7091327905654907,
           -0.022961707785725594,
           -0.09321091324090958,
           0.061972878873348236,
           0.016730964183807373,
           -0.10930310189723969,
           -0.04476626217365265,
           -0.031218688935041428,
           -0.01086416281759739,
           0.05564724653959274,
           -0.04455719143152237,
           -0.03217750042676926,
           0.009482343681156635,
           0.02036401815712452,
           0.05418534576892853,
           -0.0006561665795743465,
           0.010054349899291992
          ],
          [
           0.7398280501365662,
           0.01664217747747898,
           0.6013825535774231,
           -0.014440146274864674,
           -0.04156962037086487,
           -0.058931294828653336,
           -0.07919682562351227,
           0.05456703528761864,
           -0.009517386555671692,
           -0.03738608583807945,
           0.04977693408727646,
           -0.034837208688259125,
           0.016008328646421432,
           0.0016022619092836976,
           0.03406991437077522,
           0.0671318992972374,
           0.01839650422334671,
           -0.021877914667129517
          ],
          [
           -0.026101086288690567,
           -0.0006939413724467158,
           -0.0014063796261325479,
           0.0062767923809587955,
           -0.03632526099681854,
           -0.0684586688876152,
           -0.0020171119831502438,
           0.05079197511076927,
           0.0198658499866724,
           -0.13444259762763977,
           -0.07616779208183289,
           -0.05040086433291435,
           -0.04948962852358818,
           -0.04728773981332779,
           -0.047340214252471924,
           -0.04141080752015114,
           -0.004500249400734901,
           0.0036592609249055386
          ],
          [
           -0.020197182893753052,
           0.07080449163913727,
           -0.10795790702104568,
           0.033143676817417145,
           0.9849761724472046,
           0.03418838977813721,
           -0.0983312800526619,
           0.07103979587554932,
           -0.015531943179666996,
           0.06854559481143951,
           -0.012632728554308414,
           -0.02227710746228695,
           0.05203380808234215,
           0.012302862480282784,
           -0.08928641676902771,
           -0.017709912732243538,
           0.057524796575307846,
           0.05116096884012222
          ],
          [
           -0.050409235060214996,
           0.012392813339829445,
           -0.06464332342147827,
           -0.013719032518565655,
           0.6888065338134766,
           0.7143691778182983,
           0.018959518522024155,
           0.09381280094385147,
           -0.036967016756534576,
           0.03894968703389168,
           -0.04171967878937721,
           0.014894133433699608,
           0.0763082429766655,
           0.06526369601488113,
           0.007559838239103556,
           -0.06363177299499512,
           0.04220767691731453,
           0.07775715738534927
          ],
          [
           0.00039359432412311435,
           0.016518864780664444,
           -0.042796555906534195,
           -0.057789843529462814,
           0.6462794542312622,
           0.07558339834213257,
           0.6939980387687683,
           0.05332525819540024,
           -0.05549035593867302,
           0.060845427215099335,
           0.07980567961931229,
           0.03180046007037163,
           -0.012425488792359829,
           0.010294893756508827,
           0.005751961842179298,
           -0.012488799169659615,
           0.03768043592572212,
           0.02934938669204712
          ],
          [
           -0.01467770617455244,
           0.059612929821014404,
           -0.06431981176137924,
           0.023968590423464775,
           0.6868419647216797,
           0.013882468454539776,
           -0.02494080178439617,
           0.745855987071991,
           -0.021739451214671135,
           0.054924238473176956,
           0.014658740721642971,
           -0.030484559014439583,
           0.04130999743938446,
           0.02715926431119442,
           -0.04580778256058693,
           -0.022621124982833862,
           0.00036565959453582764,
           -0.00562819791957736
          ],
          [
           -0.01935541443526745,
           0.07392643392086029,
           0.0898766741156578,
           -0.01420903392136097,
           0.023621540516614914,
           -0.025507424026727676,
           -0.02753242291510105,
           -0.058032646775245667,
           0.7170916795730591,
           -0.14951057732105255,
           -0.14324283599853516,
           0.6107304692268372,
           -0.017551900818943977,
           0.011845141649246216,
           0.04768359288573265,
           0.04558912664651871,
           0.058127813041210175,
           -0.04739309102296829
          ],
          [
           -0.030014317482709885,
           -0.09116754680871964,
           -0.055777546018362045,
           -0.06397541612386703,
           0.018727026879787445,
           -0.1041858121752739,
           0.01751815341413021,
           0.06233491376042366,
           0.6996085047721863,
           0.6411972641944885,
           -0.07830914855003357,
           -0.08418241888284683,
           0.00413542753085494,
           0.06277259439229965,
           0.022642027586698532,
           0.047154806554317474,
           0.01605100929737091,
           -0.005597207695245743
          ],
          [
           0.019789231941103935,
           -0.04972609877586365,
           0.008122621104121208,
           -0.04614762216806412,
           -0.0399591401219368,
           -0.058805275708436966,
           0.0031671966426074505,
           0.029298700392246246,
           0.6732888221740723,
           -0.02333507500588894,
           0.7037494778633118,
           -0.15179286897182465,
           -0.043864138424396515,
           0.0665784478187561,
           -0.029890762642025948,
           0.029000751674175262,
           0.0008692964911460876,
           -0.07193286716938019
          ],
          [
           -0.034443873912096024,
           0.014409149996936321,
           0.003520583501085639,
           -0.05016971752047539,
           0.015268520452082157,
           -0.007262108381837606,
           -0.044117506593465805,
           -0.02137371525168419,
           -0.0017186545301228762,
           -0.009814539924263954,
           -0.08362919837236404,
           -0.05713580548763275,
           0.00497945211827755,
           -0.05649964511394501,
           0.025360070168972015,
           -0.03138092905282974,
           -0.010170258581638336,
           -0.014240942895412445
          ],
          [
           0.017393462359905243,
           0.042409926652908325,
           0.019544905051589012,
           -0.01579948142170906,
           -0.03530057147145271,
           0.023213354870676994,
           -0.014821127988398075,
           0.09468744695186615,
           0.028826557099819183,
           -0.021668285131454468,
           -0.04960378631949425,
           0.07618775963783264,
           0.9801597595214844,
           0.03941167891025543,
           0.029881546273827553,
           -0.02529681846499443,
           0.03239832818508148,
           0.08745381236076355
          ],
          [
           -0.03538016974925995,
           0.06378723680973053,
           0.025987524539232254,
           0.05606605485081673,
           -0.002310127252712846,
           -0.03687898442149162,
           0.0159294456243515,
           0.020956603810191154,
           0.0162753164768219,
           -0.05657073110342026,
           -0.03302820399403572,
           -0.056822892278432846,
           -0.009911483153700829,
           0.9813629388809204,
           0.0011058584786951542,
           0.06516318768262863,
           -0.003156915307044983,
           -0.022437065839767456
          ],
          [
           0.004456428345292807,
           -0.022549420595169067,
           0.06294841319322586,
           -0.019245127215981483,
           -0.06579014658927917,
           0.0056136976927518845,
           0.08943229168653488,
           0.003030584193766117,
           0.011912784539163113,
           -0.021965213119983673,
           0.03336828947067261,
           -0.04725728929042816,
           -0.020666368305683136,
           -0.05946618318557739,
           0.983842670917511,
           -0.0470220148563385,
           0.035341210663318634,
           0.023057591170072556
          ],
          [
           0.07289405167102814,
           0.08472486585378647,
           0.07131420820951462,
           -0.044453494250774384,
           0.015551682561635971,
           -0.011120479553937912,
           -0.014368255622684956,
           -0.030146826058626175,
           0.015558811835944653,
           0.048850346356630325,
           -0.03842034935951233,
           -0.015989648178219795,
           -0.032863419502973557,
           0.13012947142124176,
           0.021986933425068855,
           0.9732171893119812,
           0.007670469582080841,
           -0.03959684818983078
          ],
          [
           0.01916472427546978,
           -0.03545902296900749,
           -0.0379519984126091,
           -0.01815018244087696,
           0.030475568026304245,
           0.002460501156747341,
           -0.03296396881341934,
           -0.008427868597209454,
           -0.022270567715168,
           0.07735571265220642,
           0.044082287698984146,
           0.046326905488967896,
           0.008197799324989319,
           -0.0045528654009103775,
           -0.09482250362634659,
           -0.004020662046968937,
           0.9767389297485352,
           0.0557079091668129
          ],
          [
           0.013749009929597378,
           0.017274431884288788,
           -0.016795935109257698,
           0.003630758263170719,
           0.02205578237771988,
           0.03003651276230812,
           0.01144317165017128,
           0.055427201092243195,
           0.03537129610776901,
           -0.008908257819712162,
           -0.046637557446956635,
           0.08040642738342285,
           0.023906538262963295,
           0.015433036722242832,
           -0.0215842816978693,
           0.004290933255106211,
           0.034473150968551636,
           0.9769309759140015
          ]
         ]
        }
       ],
       "layout": {
        "template": {
         "data": {
          "bar": [
           {
            "error_x": {
             "color": "#2a3f5f"
            },
            "error_y": {
             "color": "#2a3f5f"
            },
            "marker": {
             "line": {
              "color": "#E5ECF6",
              "width": 0.5
             },
             "pattern": {
              "fillmode": "overlay",
              "size": 10,
              "solidity": 0.2
             }
            },
            "type": "bar"
           }
          ],
          "barpolar": [
           {
            "marker": {
             "line": {
              "color": "#E5ECF6",
              "width": 0.5
             },
             "pattern": {
              "fillmode": "overlay",
              "size": 10,
              "solidity": 0.2
             }
            },
            "type": "barpolar"
           }
          ],
          "carpet": [
           {
            "aaxis": {
             "endlinecolor": "#2a3f5f",
             "gridcolor": "white",
             "linecolor": "white",
             "minorgridcolor": "white",
             "startlinecolor": "#2a3f5f"
            },
            "baxis": {
             "endlinecolor": "#2a3f5f",
             "gridcolor": "white",
             "linecolor": "white",
             "minorgridcolor": "white",
             "startlinecolor": "#2a3f5f"
            },
            "type": "carpet"
           }
          ],
          "choropleth": [
           {
            "colorbar": {
             "outlinewidth": 0,
             "ticks": ""
            },
            "type": "choropleth"
           }
          ],
          "contour": [
           {
            "colorbar": {
             "outlinewidth": 0,
             "ticks": ""
            },
            "colorscale": [
             [
              0,
              "#0d0887"
             ],
             [
              0.1111111111111111,
              "#46039f"
             ],
             [
              0.2222222222222222,
              "#7201a8"
             ],
             [
              0.3333333333333333,
              "#9c179e"
             ],
             [
              0.4444444444444444,
              "#bd3786"
             ],
             [
              0.5555555555555556,
              "#d8576b"
             ],
             [
              0.6666666666666666,
              "#ed7953"
             ],
             [
              0.7777777777777778,
              "#fb9f3a"
             ],
             [
              0.8888888888888888,
              "#fdca26"
             ],
             [
              1,
              "#f0f921"
             ]
            ],
            "type": "contour"
           }
          ],
          "contourcarpet": [
           {
            "colorbar": {
             "outlinewidth": 0,
             "ticks": ""
            },
            "type": "contourcarpet"
           }
          ],
          "heatmap": [
           {
            "colorbar": {
             "outlinewidth": 0,
             "ticks": ""
            },
            "colorscale": [
             [
              0,
              "#0d0887"
             ],
             [
              0.1111111111111111,
              "#46039f"
             ],
             [
              0.2222222222222222,
              "#7201a8"
             ],
             [
              0.3333333333333333,
              "#9c179e"
             ],
             [
              0.4444444444444444,
              "#bd3786"
             ],
             [
              0.5555555555555556,
              "#d8576b"
             ],
             [
              0.6666666666666666,
              "#ed7953"
             ],
             [
              0.7777777777777778,
              "#fb9f3a"
             ],
             [
              0.8888888888888888,
              "#fdca26"
             ],
             [
              1,
              "#f0f921"
             ]
            ],
            "type": "heatmap"
           }
          ],
          "heatmapgl": [
           {
            "colorbar": {
             "outlinewidth": 0,
             "ticks": ""
            },
            "colorscale": [
             [
              0,
              "#0d0887"
             ],
             [
              0.1111111111111111,
              "#46039f"
             ],
             [
              0.2222222222222222,
              "#7201a8"
             ],
             [
              0.3333333333333333,
              "#9c179e"
             ],
             [
              0.4444444444444444,
              "#bd3786"
             ],
             [
              0.5555555555555556,
              "#d8576b"
             ],
             [
              0.6666666666666666,
              "#ed7953"
             ],
             [
              0.7777777777777778,
              "#fb9f3a"
             ],
             [
              0.8888888888888888,
              "#fdca26"
             ],
             [
              1,
              "#f0f921"
             ]
            ],
            "type": "heatmapgl"
           }
          ],
          "histogram": [
           {
            "marker": {
             "pattern": {
              "fillmode": "overlay",
              "size": 10,
              "solidity": 0.2
             }
            },
            "type": "histogram"
           }
          ],
          "histogram2d": [
           {
            "colorbar": {
             "outlinewidth": 0,
             "ticks": ""
            },
            "colorscale": [
             [
              0,
              "#0d0887"
             ],
             [
              0.1111111111111111,
              "#46039f"
             ],
             [
              0.2222222222222222,
              "#7201a8"
             ],
             [
              0.3333333333333333,
              "#9c179e"
             ],
             [
              0.4444444444444444,
              "#bd3786"
             ],
             [
              0.5555555555555556,
              "#d8576b"
             ],
             [
              0.6666666666666666,
              "#ed7953"
             ],
             [
              0.7777777777777778,
              "#fb9f3a"
             ],
             [
              0.8888888888888888,
              "#fdca26"
             ],
             [
              1,
              "#f0f921"
             ]
            ],
            "type": "histogram2d"
           }
          ],
          "histogram2dcontour": [
           {
            "colorbar": {
             "outlinewidth": 0,
             "ticks": ""
            },
            "colorscale": [
             [
              0,
              "#0d0887"
             ],
             [
              0.1111111111111111,
              "#46039f"
             ],
             [
              0.2222222222222222,
              "#7201a8"
             ],
             [
              0.3333333333333333,
              "#9c179e"
             ],
             [
              0.4444444444444444,
              "#bd3786"
             ],
             [
              0.5555555555555556,
              "#d8576b"
             ],
             [
              0.6666666666666666,
              "#ed7953"
             ],
             [
              0.7777777777777778,
              "#fb9f3a"
             ],
             [
              0.8888888888888888,
              "#fdca26"
             ],
             [
              1,
              "#f0f921"
             ]
            ],
            "type": "histogram2dcontour"
           }
          ],
          "mesh3d": [
           {
            "colorbar": {
             "outlinewidth": 0,
             "ticks": ""
            },
            "type": "mesh3d"
           }
          ],
          "parcoords": [
           {
            "line": {
             "colorbar": {
              "outlinewidth": 0,
              "ticks": ""
             }
            },
            "type": "parcoords"
           }
          ],
          "pie": [
           {
            "automargin": true,
            "type": "pie"
           }
          ],
          "scatter": [
           {
            "fillpattern": {
             "fillmode": "overlay",
             "size": 10,
             "solidity": 0.2
            },
            "type": "scatter"
           }
          ],
          "scatter3d": [
           {
            "line": {
             "colorbar": {
              "outlinewidth": 0,
              "ticks": ""
             }
            },
            "marker": {
             "colorbar": {
              "outlinewidth": 0,
              "ticks": ""
             }
            },
            "type": "scatter3d"
           }
          ],
          "scattercarpet": [
           {
            "marker": {
             "colorbar": {
              "outlinewidth": 0,
              "ticks": ""
             }
            },
            "type": "scattercarpet"
           }
          ],
          "scattergeo": [
           {
            "marker": {
             "colorbar": {
              "outlinewidth": 0,
              "ticks": ""
             }
            },
            "type": "scattergeo"
           }
          ],
          "scattergl": [
           {
            "marker": {
             "colorbar": {
              "outlinewidth": 0,
              "ticks": ""
             }
            },
            "type": "scattergl"
           }
          ],
          "scattermapbox": [
           {
            "marker": {
             "colorbar": {
              "outlinewidth": 0,
              "ticks": ""
             }
            },
            "type": "scattermapbox"
           }
          ],
          "scatterpolar": [
           {
            "marker": {
             "colorbar": {
              "outlinewidth": 0,
              "ticks": ""
             }
            },
            "type": "scatterpolar"
           }
          ],
          "scatterpolargl": [
           {
            "marker": {
             "colorbar": {
              "outlinewidth": 0,
              "ticks": ""
             }
            },
            "type": "scatterpolargl"
           }
          ],
          "scatterternary": [
           {
            "marker": {
             "colorbar": {
              "outlinewidth": 0,
              "ticks": ""
             }
            },
            "type": "scatterternary"
           }
          ],
          "surface": [
           {
            "colorbar": {
             "outlinewidth": 0,
             "ticks": ""
            },
            "colorscale": [
             [
              0,
              "#0d0887"
             ],
             [
              0.1111111111111111,
              "#46039f"
             ],
             [
              0.2222222222222222,
              "#7201a8"
             ],
             [
              0.3333333333333333,
              "#9c179e"
             ],
             [
              0.4444444444444444,
              "#bd3786"
             ],
             [
              0.5555555555555556,
              "#d8576b"
             ],
             [
              0.6666666666666666,
              "#ed7953"
             ],
             [
              0.7777777777777778,
              "#fb9f3a"
             ],
             [
              0.8888888888888888,
              "#fdca26"
             ],
             [
              1,
              "#f0f921"
             ]
            ],
            "type": "surface"
           }
          ],
          "table": [
           {
            "cells": {
             "fill": {
              "color": "#EBF0F8"
             },
             "line": {
              "color": "white"
             }
            },
            "header": {
             "fill": {
              "color": "#C8D4E3"
             },
             "line": {
              "color": "white"
             }
            },
            "type": "table"
           }
          ]
         },
         "layout": {
          "annotationdefaults": {
           "arrowcolor": "#2a3f5f",
           "arrowhead": 0,
           "arrowwidth": 1
          },
          "autotypenumbers": "strict",
          "coloraxis": {
           "colorbar": {
            "outlinewidth": 0,
            "ticks": ""
           }
          },
          "colorscale": {
           "diverging": [
            [
             0,
             "#8e0152"
            ],
            [
             0.1,
             "#c51b7d"
            ],
            [
             0.2,
             "#de77ae"
            ],
            [
             0.3,
             "#f1b6da"
            ],
            [
             0.4,
             "#fde0ef"
            ],
            [
             0.5,
             "#f7f7f7"
            ],
            [
             0.6,
             "#e6f5d0"
            ],
            [
             0.7,
             "#b8e186"
            ],
            [
             0.8,
             "#7fbc41"
            ],
            [
             0.9,
             "#4d9221"
            ],
            [
             1,
             "#276419"
            ]
           ],
           "sequential": [
            [
             0,
             "#0d0887"
            ],
            [
             0.1111111111111111,
             "#46039f"
            ],
            [
             0.2222222222222222,
             "#7201a8"
            ],
            [
             0.3333333333333333,
             "#9c179e"
            ],
            [
             0.4444444444444444,
             "#bd3786"
            ],
            [
             0.5555555555555556,
             "#d8576b"
            ],
            [
             0.6666666666666666,
             "#ed7953"
            ],
            [
             0.7777777777777778,
             "#fb9f3a"
            ],
            [
             0.8888888888888888,
             "#fdca26"
            ],
            [
             1,
             "#f0f921"
            ]
           ],
           "sequentialminus": [
            [
             0,
             "#0d0887"
            ],
            [
             0.1111111111111111,
             "#46039f"
            ],
            [
             0.2222222222222222,
             "#7201a8"
            ],
            [
             0.3333333333333333,
             "#9c179e"
            ],
            [
             0.4444444444444444,
             "#bd3786"
            ],
            [
             0.5555555555555556,
             "#d8576b"
            ],
            [
             0.6666666666666666,
             "#ed7953"
            ],
            [
             0.7777777777777778,
             "#fb9f3a"
            ],
            [
             0.8888888888888888,
             "#fdca26"
            ],
            [
             1,
             "#f0f921"
            ]
           ]
          },
          "colorway": [
           "#636efa",
           "#EF553B",
           "#00cc96",
           "#ab63fa",
           "#FFA15A",
           "#19d3f3",
           "#FF6692",
           "#B6E880",
           "#FF97FF",
           "#FECB52"
          ],
          "font": {
           "color": "#2a3f5f"
          },
          "geo": {
           "bgcolor": "white",
           "lakecolor": "white",
           "landcolor": "#E5ECF6",
           "showlakes": true,
           "showland": true,
           "subunitcolor": "white"
          },
          "hoverlabel": {
           "align": "left"
          },
          "hovermode": "closest",
          "mapbox": {
           "style": "light"
          },
          "paper_bgcolor": "white",
          "plot_bgcolor": "#E5ECF6",
          "polar": {
           "angularaxis": {
            "gridcolor": "white",
            "linecolor": "white",
            "ticks": ""
           },
           "bgcolor": "#E5ECF6",
           "radialaxis": {
            "gridcolor": "white",
            "linecolor": "white",
            "ticks": ""
           }
          },
          "scene": {
           "xaxis": {
            "backgroundcolor": "#E5ECF6",
            "gridcolor": "white",
            "gridwidth": 2,
            "linecolor": "white",
            "showbackground": true,
            "ticks": "",
            "zerolinecolor": "white"
           },
           "yaxis": {
            "backgroundcolor": "#E5ECF6",
            "gridcolor": "white",
            "gridwidth": 2,
            "linecolor": "white",
            "showbackground": true,
            "ticks": "",
            "zerolinecolor": "white"
           },
           "zaxis": {
            "backgroundcolor": "#E5ECF6",
            "gridcolor": "white",
            "gridwidth": 2,
            "linecolor": "white",
            "showbackground": true,
            "ticks": "",
            "zerolinecolor": "white"
           }
          },
          "shapedefaults": {
           "line": {
            "color": "#2a3f5f"
           }
          },
          "ternary": {
           "aaxis": {
            "gridcolor": "white",
            "linecolor": "white",
            "ticks": ""
           },
           "baxis": {
            "gridcolor": "white",
            "linecolor": "white",
            "ticks": ""
           },
           "bgcolor": "#E5ECF6",
           "caxis": {
            "gridcolor": "white",
            "linecolor": "white",
            "ticks": ""
           }
          },
          "title": {
           "x": 0.05
          },
          "xaxis": {
           "automargin": true,
           "gridcolor": "white",
           "linecolor": "white",
           "ticks": "",
           "title": {
            "standoff": 15
           },
           "zerolinecolor": "white",
           "zerolinewidth": 2
          },
          "yaxis": {
           "automargin": true,
           "gridcolor": "white",
           "linecolor": "white",
           "ticks": "",
           "title": {
            "standoff": 15
           },
           "zerolinecolor": "white",
           "zerolinewidth": 2
          }
         }
        },
        "title": {
         "text": "(atoms, features)"
        },
        "xaxis": {
         "showticklabels": false,
         "title": {
          "text": "features (18)"
         }
        },
        "yaxis": {
         "autorange": "reversed",
         "showticklabels": false,
         "title": {
          "text": "atoms (18)"
         }
        }
       }
      }
     },
     "metadata": {},
     "output_type": "display_data"
    },
    {
     "data": {
      "application/vnd.plotly.v1+json": {
       "config": {
        "plotlyServerURL": "https://plot.ly"
       },
       "data": [
        {
         "colorscale": [
          [
           0,
           "#440154"
          ],
          [
           0.1111111111111111,
           "#482878"
          ],
          [
           0.2222222222222222,
           "#3e4989"
          ],
          [
           0.3333333333333333,
           "#31688e"
          ],
          [
           0.4444444444444444,
           "#26828e"
          ],
          [
           0.5555555555555556,
           "#1f9e89"
          ],
          [
           0.6666666666666666,
           "#35b779"
          ],
          [
           0.7777777777777778,
           "#6ece58"
          ],
          [
           0.8888888888888888,
           "#b5de2b"
          ],
          [
           1,
           "#fde725"
          ]
         ],
         "hovertemplate": "%{y}%{x}val: %{z:.2f}<extra></extra>",
         "type": "heatmap",
         "x": [
          "read_in: 0<br>",
          "read_in: 1<br>",
          "read_in: 2<br>",
          "read_in: 3<br>",
          "read_in: 4<br>",
          "read_in: 5<br>",
          "read_in: 6<br>",
          "read_in: 7<br>",
          "read_in: 8<br>",
          "read_in: 9<br>",
          "read_in: 10<br>",
          "read_in: 11<br>",
          "read_in: 12<br>",
          "read_in: 13<br>",
          "read_in: 14<br>",
          "read_in: 15<br>",
          "read_in: 16<br>",
          "read_in: 17<br>"
         ],
         "y": [
          "write_out: 0<br>",
          "write_out: 1<br>",
          "write_out: 2<br>",
          "write_out: 3<br>",
          "write_out: 4<br>",
          "write_out: 5<br>",
          "write_out: 6<br>",
          "write_out: 7<br>",
          "write_out: 8<br>",
          "write_out: 9<br>",
          "write_out: 10<br>",
          "write_out: 11<br>",
          "write_out: 12<br>",
          "write_out: 13<br>",
          "write_out: 14<br>",
          "write_out: 15<br>",
          "write_out: 16<br>",
          "write_out: 17<br>"
         ],
         "z": [
          [
           1.1440107822418213,
           0.001203141175210476,
           0.0010608478914946318,
           0.0005700698238797486,
           -0.000014416441445064265,
           0.0017827156698331237,
           0.00037303855060599744,
           0.0002552632358856499,
           -0.0002608487266115844,
           0.0005071470513939857,
           0.00031341935391537845,
           0.0002965387247968465,
           0.00033369509037584066,
           0.00027831154875457287,
           -0.00006132209819043055,
           -0.00002145630060113035,
           0.00018587731756269932,
           0.0002775043249130249
          ],
          [
           0.00032964814454317093,
           1.1429842710494995,
           -0.0011967397294938564,
           -0.000634769385214895,
           -0.000016088413758552633,
           -0.0025312670040875673,
           -0.0004874053120147437,
           -0.00047807313967496157,
           0.0004141531535424292,
           -0.0006007920601405203,
           -0.00045091327046975493,
           -0.0002786031400319189,
           -0.000466352968942374,
           -0.0003797259123530239,
           0.0000754123175283894,
           0.0000926263746805489,
           -0.00022364407777786255,
           -0.00039314478635787964
          ],
          [
           0.0003364965959917754,
           -0.0015079592121765018,
           1.1431442499160767,
           -0.0006148599786683917,
           -0.000016873449567356147,
           -0.0028910355176776648,
           -0.0005479993997141719,
           -0.0002713591675274074,
           0.0004033334262203425,
           -0.0009738942026160657,
           -0.0005880061071366072,
           -0.0005204105982556939,
           -0.0004721359582617879,
           -0.00040323493885807693,
           0.00016523625527042896,
           -0.00005182748645893298,
           -0.00022138655185699463,
           -0.0003433525562286377
          ],
          [
           0.00029885841649957,
           -0.0014702873304486275,
           -0.0012974338605999947,
           1.1436793804168701,
           0.00007138414366636425,
           -0.0026079597882926464,
           -0.00043929682578891516,
           -0.00045545422472059727,
           0.00029471979360096157,
           -0.0006793499924242496,
           -0.0002529968915041536,
           -0.00022477337915915996,
           -0.0005230234237387776,
           -0.0003494205593597144,
           -0.000017293119526584633,
           -0.0000359036166628357,
           -0.00026791542768478394,
           -0.000467739999294281
          ],
          [
           0.000134842746774666,
           0.00022124718816485256,
           0.00027315167244523764,
           0.0000537453088327311,
           1.1440435647964478,
           0.001705939183011651,
           0.0004895205493085086,
           0.0009513797122053802,
           -0.00015161158808041364,
           0.0006538060260936618,
           0.00024018733529374003,
           0.0007312014931812882,
           0.00034832526580430567,
           0.00008092970529105514,
           -0.000058281966630602255,
           -0.000032803342037368566,
           0.0003215000033378601,
           -0.00003455951809883118
          ],
          [
           -0.00003570636545191519,
           -0.00024761815438978374,
           -0.00038381421472877264,
           -0.0000444511097157374,
           0.00032575742807239294,
           1.142295241355896,
           -0.0004915143363177776,
           -0.0009894693503156304,
           0.00018475028628017753,
           -0.0010287578916177154,
           -0.00032842240761965513,
           -0.0009476821287535131,
           -0.00037980417255312204,
           -0.00015760463429614902,
           0.0001500125217717141,
           0.00008410593727603555,
           -0.0004264414310455322,
           0.00015194620937108994
          ],
          [
           -0.00023297994630411267,
           -0.0003854337555821985,
           -0.00042365360422991216,
           -0.00006578936881851405,
           0.0003258062351960689,
           -0.0025482317432761192,
           1.1437033414840698,
           -0.0011486685834825039,
           0.0002547286276239902,
           -0.0009539133752696216,
           -0.00037114418228156865,
           -0.0010785202030092478,
           -0.0005859470693394542,
           -0.000058182144130114466,
           0.00005912133201491088,
           0.0000839880303828977,
           -0.0004968717694282532,
           0.00005177408456802368
          ],
          [
           -0.00013251051132101566,
           -0.00029855905449949205,
           -0.0003899634175468236,
           -0.00003105504947598092,
           0.0003178507031407207,
           -0.0022177081555128098,
           -0.0004949675058014691,
           1.1431248188018799,
           0.00025681089027784765,
           -0.0009624614613130689,
           -0.00042568633216433227,
           -0.0010600993409752846,
           -0.0005539378616958857,
           -0.00014862764510326087,
           0.00012944584887009114,
           0.00008862296817824244,
           -0.00047978200018405914,
           0.000122779980301857
          ],
          [
           -0.00045929773477837443,
           0.0009906337363645434,
           0.000904044893104583,
           0.000010787954124680255,
           -0.0004059724451508373,
           0.001063703210093081,
           0.000696962233632803,
           -0.000747290498111397,
           1.1440465450286865,
           0.004489413928240538,
           0.003146783448755741,
           0.003993447870016098,
           -0.00008794310269877315,
           0.000434724148362875,
           -0.0010369127849116921,
           0.00024708951241336763,
           0.0008552270010113716,
           0.0007075034081935883
          ],
          [
           0.0006288598524406552,
           -0.0012731327442452312,
           -0.0011867951834574342,
           0.00007541326340287924,
           0.0005688956007361412,
           -0.001372836995869875,
           -0.0009079423034563661,
           0.0010672151111066341,
           0.00025659010862000287,
           1.1395386457443237,
           -0.003928466234356165,
           -0.005130819045007229,
           0.0001031099891406484,
           -0.0004851284611504525,
           0.0013543852837756276,
           -0.00025044946232810616,
           -0.0010436568409204483,
           -0.0008720383048057556
          ],
          [
           0.0007388523663394153,
           -0.001527841086499393,
           -0.0013485164381563663,
           -0.00003337153611937538,
           0.0006848155753687024,
           -0.001851046341471374,
           -0.001177194295451045,
           0.001217044424265623,
           0.00026647557388059795,
           -0.0069062779657542706,
           1.1408661603927612,
           -0.006009434349834919,
           0.00015205652744043618,
           -0.0007548274006694555,
           0.0016464929794892669,
           -0.00041985511779785156,
           -0.0012914985418319702,
           -0.001214742660522461
          ],
          [
           0.0006085883942432702,
           -0.0012795617803931236,
           -0.0013478752225637436,
           -0.00003483502587187104,
           0.0004961765371263027,
           -0.0013497313484549522,
           -0.001028192462399602,
           0.0010863231727853417,
           0.00024226542154792696,
           -0.006144458428025246,
           -0.004009698051959276,
           1.1400582790374756,
           0.0002019061503233388,
           -0.0005764093948528171,
           0.0015446147881448269,
           -0.0003569870023056865,
           -0.001118239015340805,
           -0.0008914396166801453
          ],
          [
           0.00009340849646832794,
           -0.000042919302359223366,
           -0.000019035685909329914,
           -0.00006202440999913961,
           0.000018097889551427215,
           -0.000053815962019143626,
           0.000044005526433466,
           -0.000029356870072660968,
           -0.000008175264156307094,
           0.00012518517905846238,
           0.00009231198055204004,
           0.00008592068479629233,
           1.1441917419433594,
           0.000029078682928229682,
           0.000012670323485508561,
           0.000026250943847117014,
           -0.000004626810550689697,
           -2.4959444999694824e-7
          ],
          [
           0.000045714317820966244,
           0.000017473965272074565,
           0.000028836746423621662,
           0.00001542427526146639,
           0.00008140157297020778,
           0.000036130753869656473,
           -0.00005433669502963312,
           -0.000023129343389882706,
           0.000017919666788657196,
           -0.00014698735321871936,
           -0.00012437524856068194,
           -0.000250404846156016,
           0.000011399622962926514,
           1.1442042589187622,
           -0.000006884497452119831,
           0.000052026673074578866,
           -0.00013178586959838867,
           -0.000027008354663848877
          ],
          [
           0.000020034360204590484,
           0.00002207903344242368,
           0.00004102614911971614,
           0.000006999613560765283,
           -0.000034767257602652535,
           0.00011035045463358983,
           0.000046621054934803396,
           0.0000623871965217404,
           0.000007661498784727883,
           -0.00011850952432723716,
           -0.000012028614946757443,
           -0.0001585057470947504,
           0.00007306958286790177,
           0.00003709208976943046,
           1.144163966178894,
           -0.000013943583326181397,
           -0.0000856444239616394,
           -0.00005955994129180908
          ],
          [
           -0.000018477168850949965,
           0.000026528317903284915,
           -0.000021485075194505043,
           -0.000017029706214088947,
           0.00007757430284982547,
           0.00000803468719823286,
           -0.00006286491407081485,
           0.000019080798665527254,
           0.000006400178335752571,
           -0.00009751130710355937,
           -0.00009607100946595892,
           -0.00011168164201080799,
           0.000030448756660916843,
           0.00003536475924192928,
           0.00006383647996699437,
           1.144169569015503,
           -0.00008256733417510986,
           0.0000026710331439971924
          ],
          [
           0.000021776060748379678,
           0.00008572556544095278,
           0.000023634067474631593,
           -0.00003240654041292146,
           -0.000060294591094134375,
           0.00008679768507136032,
           0.000023440352379111573,
           -0.00004779202208737843,
           0.000034650700399652123,
           0.00015051713853608817,
           0.0001449144328944385,
           0.00015652572619728744,
           -0.000042468280298635364,
           0.000007566351087007206,
           -0.00002961886639241129,
           0.000003903363449353492,
           1.1442623138427734,
           0.00002644956111907959
          ],
          [
           0.00005114202940603718,
           0.0000025989975256379694,
           -0.0000075609696068568155,
           -0.00001025444180413615,
           0.00005815508120576851,
           0.0000019337262529006694,
           -0.000029841521609341726,
           -0.000009359469913761131,
           0.000009244321518053766,
           -0.00001866050843091216,
           0.000022841426471131854,
           0.000003998394731752342,
           0.000040241575334221125,
           0.000007065837507980177,
           0.0001253160007763654,
           0.000025988225388573483,
           -0.000035881996154785156,
           1.1441969871520996
          ]
         ]
        }
       ],
       "layout": {
        "template": {
         "data": {
          "bar": [
           {
            "error_x": {
             "color": "#2a3f5f"
            },
            "error_y": {
             "color": "#2a3f5f"
            },
            "marker": {
             "line": {
              "color": "#E5ECF6",
              "width": 0.5
             },
             "pattern": {
              "fillmode": "overlay",
              "size": 10,
              "solidity": 0.2
             }
            },
            "type": "bar"
           }
          ],
          "barpolar": [
           {
            "marker": {
             "line": {
              "color": "#E5ECF6",
              "width": 0.5
             },
             "pattern": {
              "fillmode": "overlay",
              "size": 10,
              "solidity": 0.2
             }
            },
            "type": "barpolar"
           }
          ],
          "carpet": [
           {
            "aaxis": {
             "endlinecolor": "#2a3f5f",
             "gridcolor": "white",
             "linecolor": "white",
             "minorgridcolor": "white",
             "startlinecolor": "#2a3f5f"
            },
            "baxis": {
             "endlinecolor": "#2a3f5f",
             "gridcolor": "white",
             "linecolor": "white",
             "minorgridcolor": "white",
             "startlinecolor": "#2a3f5f"
            },
            "type": "carpet"
           }
          ],
          "choropleth": [
           {
            "colorbar": {
             "outlinewidth": 0,
             "ticks": ""
            },
            "type": "choropleth"
           }
          ],
          "contour": [
           {
            "colorbar": {
             "outlinewidth": 0,
             "ticks": ""
            },
            "colorscale": [
             [
              0,
              "#0d0887"
             ],
             [
              0.1111111111111111,
              "#46039f"
             ],
             [
              0.2222222222222222,
              "#7201a8"
             ],
             [
              0.3333333333333333,
              "#9c179e"
             ],
             [
              0.4444444444444444,
              "#bd3786"
             ],
             [
              0.5555555555555556,
              "#d8576b"
             ],
             [
              0.6666666666666666,
              "#ed7953"
             ],
             [
              0.7777777777777778,
              "#fb9f3a"
             ],
             [
              0.8888888888888888,
              "#fdca26"
             ],
             [
              1,
              "#f0f921"
             ]
            ],
            "type": "contour"
           }
          ],
          "contourcarpet": [
           {
            "colorbar": {
             "outlinewidth": 0,
             "ticks": ""
            },
            "type": "contourcarpet"
           }
          ],
          "heatmap": [
           {
            "colorbar": {
             "outlinewidth": 0,
             "ticks": ""
            },
            "colorscale": [
             [
              0,
              "#0d0887"
             ],
             [
              0.1111111111111111,
              "#46039f"
             ],
             [
              0.2222222222222222,
              "#7201a8"
             ],
             [
              0.3333333333333333,
              "#9c179e"
             ],
             [
              0.4444444444444444,
              "#bd3786"
             ],
             [
              0.5555555555555556,
              "#d8576b"
             ],
             [
              0.6666666666666666,
              "#ed7953"
             ],
             [
              0.7777777777777778,
              "#fb9f3a"
             ],
             [
              0.8888888888888888,
              "#fdca26"
             ],
             [
              1,
              "#f0f921"
             ]
            ],
            "type": "heatmap"
           }
          ],
          "heatmapgl": [
           {
            "colorbar": {
             "outlinewidth": 0,
             "ticks": ""
            },
            "colorscale": [
             [
              0,
              "#0d0887"
             ],
             [
              0.1111111111111111,
              "#46039f"
             ],
             [
              0.2222222222222222,
              "#7201a8"
             ],
             [
              0.3333333333333333,
              "#9c179e"
             ],
             [
              0.4444444444444444,
              "#bd3786"
             ],
             [
              0.5555555555555556,
              "#d8576b"
             ],
             [
              0.6666666666666666,
              "#ed7953"
             ],
             [
              0.7777777777777778,
              "#fb9f3a"
             ],
             [
              0.8888888888888888,
              "#fdca26"
             ],
             [
              1,
              "#f0f921"
             ]
            ],
            "type": "heatmapgl"
           }
          ],
          "histogram": [
           {
            "marker": {
             "pattern": {
              "fillmode": "overlay",
              "size": 10,
              "solidity": 0.2
             }
            },
            "type": "histogram"
           }
          ],
          "histogram2d": [
           {
            "colorbar": {
             "outlinewidth": 0,
             "ticks": ""
            },
            "colorscale": [
             [
              0,
              "#0d0887"
             ],
             [
              0.1111111111111111,
              "#46039f"
             ],
             [
              0.2222222222222222,
              "#7201a8"
             ],
             [
              0.3333333333333333,
              "#9c179e"
             ],
             [
              0.4444444444444444,
              "#bd3786"
             ],
             [
              0.5555555555555556,
              "#d8576b"
             ],
             [
              0.6666666666666666,
              "#ed7953"
             ],
             [
              0.7777777777777778,
              "#fb9f3a"
             ],
             [
              0.8888888888888888,
              "#fdca26"
             ],
             [
              1,
              "#f0f921"
             ]
            ],
            "type": "histogram2d"
           }
          ],
          "histogram2dcontour": [
           {
            "colorbar": {
             "outlinewidth": 0,
             "ticks": ""
            },
            "colorscale": [
             [
              0,
              "#0d0887"
             ],
             [
              0.1111111111111111,
              "#46039f"
             ],
             [
              0.2222222222222222,
              "#7201a8"
             ],
             [
              0.3333333333333333,
              "#9c179e"
             ],
             [
              0.4444444444444444,
              "#bd3786"
             ],
             [
              0.5555555555555556,
              "#d8576b"
             ],
             [
              0.6666666666666666,
              "#ed7953"
             ],
             [
              0.7777777777777778,
              "#fb9f3a"
             ],
             [
              0.8888888888888888,
              "#fdca26"
             ],
             [
              1,
              "#f0f921"
             ]
            ],
            "type": "histogram2dcontour"
           }
          ],
          "mesh3d": [
           {
            "colorbar": {
             "outlinewidth": 0,
             "ticks": ""
            },
            "type": "mesh3d"
           }
          ],
          "parcoords": [
           {
            "line": {
             "colorbar": {
              "outlinewidth": 0,
              "ticks": ""
             }
            },
            "type": "parcoords"
           }
          ],
          "pie": [
           {
            "automargin": true,
            "type": "pie"
           }
          ],
          "scatter": [
           {
            "fillpattern": {
             "fillmode": "overlay",
             "size": 10,
             "solidity": 0.2
            },
            "type": "scatter"
           }
          ],
          "scatter3d": [
           {
            "line": {
             "colorbar": {
              "outlinewidth": 0,
              "ticks": ""
             }
            },
            "marker": {
             "colorbar": {
              "outlinewidth": 0,
              "ticks": ""
             }
            },
            "type": "scatter3d"
           }
          ],
          "scattercarpet": [
           {
            "marker": {
             "colorbar": {
              "outlinewidth": 0,
              "ticks": ""
             }
            },
            "type": "scattercarpet"
           }
          ],
          "scattergeo": [
           {
            "marker": {
             "colorbar": {
              "outlinewidth": 0,
              "ticks": ""
             }
            },
            "type": "scattergeo"
           }
          ],
          "scattergl": [
           {
            "marker": {
             "colorbar": {
              "outlinewidth": 0,
              "ticks": ""
             }
            },
            "type": "scattergl"
           }
          ],
          "scattermapbox": [
           {
            "marker": {
             "colorbar": {
              "outlinewidth": 0,
              "ticks": ""
             }
            },
            "type": "scattermapbox"
           }
          ],
          "scatterpolar": [
           {
            "marker": {
             "colorbar": {
              "outlinewidth": 0,
              "ticks": ""
             }
            },
            "type": "scatterpolar"
           }
          ],
          "scatterpolargl": [
           {
            "marker": {
             "colorbar": {
              "outlinewidth": 0,
              "ticks": ""
             }
            },
            "type": "scatterpolargl"
           }
          ],
          "scatterternary": [
           {
            "marker": {
             "colorbar": {
              "outlinewidth": 0,
              "ticks": ""
             }
            },
            "type": "scatterternary"
           }
          ],
          "surface": [
           {
            "colorbar": {
             "outlinewidth": 0,
             "ticks": ""
            },
            "colorscale": [
             [
              0,
              "#0d0887"
             ],
             [
              0.1111111111111111,
              "#46039f"
             ],
             [
              0.2222222222222222,
              "#7201a8"
             ],
             [
              0.3333333333333333,
              "#9c179e"
             ],
             [
              0.4444444444444444,
              "#bd3786"
             ],
             [
              0.5555555555555556,
              "#d8576b"
             ],
             [
              0.6666666666666666,
              "#ed7953"
             ],
             [
              0.7777777777777778,
              "#fb9f3a"
             ],
             [
              0.8888888888888888,
              "#fdca26"
             ],
             [
              1,
              "#f0f921"
             ]
            ],
            "type": "surface"
           }
          ],
          "table": [
           {
            "cells": {
             "fill": {
              "color": "#EBF0F8"
             },
             "line": {
              "color": "white"
             }
            },
            "header": {
             "fill": {
              "color": "#C8D4E3"
             },
             "line": {
              "color": "white"
             }
            },
            "type": "table"
           }
          ]
         },
         "layout": {
          "annotationdefaults": {
           "arrowcolor": "#2a3f5f",
           "arrowhead": 0,
           "arrowwidth": 1
          },
          "autotypenumbers": "strict",
          "coloraxis": {
           "colorbar": {
            "outlinewidth": 0,
            "ticks": ""
           }
          },
          "colorscale": {
           "diverging": [
            [
             0,
             "#8e0152"
            ],
            [
             0.1,
             "#c51b7d"
            ],
            [
             0.2,
             "#de77ae"
            ],
            [
             0.3,
             "#f1b6da"
            ],
            [
             0.4,
             "#fde0ef"
            ],
            [
             0.5,
             "#f7f7f7"
            ],
            [
             0.6,
             "#e6f5d0"
            ],
            [
             0.7,
             "#b8e186"
            ],
            [
             0.8,
             "#7fbc41"
            ],
            [
             0.9,
             "#4d9221"
            ],
            [
             1,
             "#276419"
            ]
           ],
           "sequential": [
            [
             0,
             "#0d0887"
            ],
            [
             0.1111111111111111,
             "#46039f"
            ],
            [
             0.2222222222222222,
             "#7201a8"
            ],
            [
             0.3333333333333333,
             "#9c179e"
            ],
            [
             0.4444444444444444,
             "#bd3786"
            ],
            [
             0.5555555555555556,
             "#d8576b"
            ],
            [
             0.6666666666666666,
             "#ed7953"
            ],
            [
             0.7777777777777778,
             "#fb9f3a"
            ],
            [
             0.8888888888888888,
             "#fdca26"
            ],
            [
             1,
             "#f0f921"
            ]
           ],
           "sequentialminus": [
            [
             0,
             "#0d0887"
            ],
            [
             0.1111111111111111,
             "#46039f"
            ],
            [
             0.2222222222222222,
             "#7201a8"
            ],
            [
             0.3333333333333333,
             "#9c179e"
            ],
            [
             0.4444444444444444,
             "#bd3786"
            ],
            [
             0.5555555555555556,
             "#d8576b"
            ],
            [
             0.6666666666666666,
             "#ed7953"
            ],
            [
             0.7777777777777778,
             "#fb9f3a"
            ],
            [
             0.8888888888888888,
             "#fdca26"
            ],
            [
             1,
             "#f0f921"
            ]
           ]
          },
          "colorway": [
           "#636efa",
           "#EF553B",
           "#00cc96",
           "#ab63fa",
           "#FFA15A",
           "#19d3f3",
           "#FF6692",
           "#B6E880",
           "#FF97FF",
           "#FECB52"
          ],
          "font": {
           "color": "#2a3f5f"
          },
          "geo": {
           "bgcolor": "white",
           "lakecolor": "white",
           "landcolor": "#E5ECF6",
           "showlakes": true,
           "showland": true,
           "subunitcolor": "white"
          },
          "hoverlabel": {
           "align": "left"
          },
          "hovermode": "closest",
          "mapbox": {
           "style": "light"
          },
          "paper_bgcolor": "white",
          "plot_bgcolor": "#E5ECF6",
          "polar": {
           "angularaxis": {
            "gridcolor": "white",
            "linecolor": "white",
            "ticks": ""
           },
           "bgcolor": "#E5ECF6",
           "radialaxis": {
            "gridcolor": "white",
            "linecolor": "white",
            "ticks": ""
           }
          },
          "scene": {
           "xaxis": {
            "backgroundcolor": "#E5ECF6",
            "gridcolor": "white",
            "gridwidth": 2,
            "linecolor": "white",
            "showbackground": true,
            "ticks": "",
            "zerolinecolor": "white"
           },
           "yaxis": {
            "backgroundcolor": "#E5ECF6",
            "gridcolor": "white",
            "gridwidth": 2,
            "linecolor": "white",
            "showbackground": true,
            "ticks": "",
            "zerolinecolor": "white"
           },
           "zaxis": {
            "backgroundcolor": "#E5ECF6",
            "gridcolor": "white",
            "gridwidth": 2,
            "linecolor": "white",
            "showbackground": true,
            "ticks": "",
            "zerolinecolor": "white"
           }
          },
          "shapedefaults": {
           "line": {
            "color": "#2a3f5f"
           }
          },
          "ternary": {
           "aaxis": {
            "gridcolor": "white",
            "linecolor": "white",
            "ticks": ""
           },
           "baxis": {
            "gridcolor": "white",
            "linecolor": "white",
            "ticks": ""
           },
           "bgcolor": "#E5ECF6",
           "caxis": {
            "gridcolor": "white",
            "linecolor": "white",
            "ticks": ""
           }
          },
          "title": {
           "x": 0.05
          },
          "xaxis": {
           "automargin": true,
           "gridcolor": "white",
           "linecolor": "white",
           "ticks": "",
           "title": {
            "standoff": 15
           },
           "zerolinecolor": "white",
           "zerolinewidth": 2
          },
          "yaxis": {
           "automargin": true,
           "gridcolor": "white",
           "linecolor": "white",
           "ticks": "",
           "title": {
            "standoff": 15
           },
           "zerolinecolor": "white",
           "zerolinewidth": 2
          }
         }
        },
        "title": {
         "text": "(write_out, read_in)"
        },
        "xaxis": {
         "showticklabels": false,
         "title": {
          "text": "read_in (18)"
         }
        },
        "yaxis": {
         "autorange": "reversed",
         "showticklabels": false,
         "title": {
          "text": "write_out (18)"
         }
        }
       }
      }
     },
     "metadata": {},
     "output_type": "display_data"
    }
   ],
   "source": [
    "import numpy as np\n",
    "from scipy.optimize import linear_sum_assignment\n",
    "\n",
    "atoms = nnmf.atoms.cpu().detach()\n",
    "sims = atoms @ normed_write_out.T\n",
    "max_value = sims.max()\n",
    "cost_matrix = max_value - sims\n",
    "\n",
    "row_ind, col_ind = linear_sum_assignment(cost_matrix.detach().numpy().T)\n",
    "atom_perm = col_ind\n",
    "# atom_perm\n",
    "\n",
    "features = normed_write_out.detach()\n",
    "heatmap(atoms[atom_perm] @ features.T, dim_names=('atoms', 'features')).show()\n",
    "# heatmap(features @ features.T, dim_names=('features', 'features'))\n",
    "heatmap(write_out @ read_in.T, dim_names=('write_out', 'read_in'))\n"
   ]
  },
  {
   "cell_type": "code",
   "execution_count": 99,
   "metadata": {},
   "outputs": [],
   "source": [
    "\n",
    "\n",
    "probabilities = features_batch.mean(dim=0)\n",
    "vis_probs = probabilities / probabilities.max()\n",
    "vis_probs = vis_probs[None].repeat(7, 1)\n",
    "codes = nnmf.codes().detach()\n",
    "codes = codes / codes.abs().max(dim=0, keepdim=True).values#.clamp(min=0.6)\n",
    "codes = codes[:, atom_perm]\n",
    "codes = torch.cat([vis_probs, codes], dim=0)\n",
    "f_batch = torch.cat([vis_probs, features_batch], dim=0)\n"
   ]
  },
  {
   "cell_type": "code",
   "execution_count": 100,
   "metadata": {},
   "outputs": [
    {
     "data": {
      "application/vnd.plotly.v1+json": {
       "config": {
        "plotlyServerURL": "https://plot.ly"
       },
       "data": [
        {
         "colorscale": [
          [
           0,
           "#440154"
          ],
          [
           0.1111111111111111,
           "#482878"
          ],
          [
           0.2222222222222222,
           "#3e4989"
          ],
          [
           0.3333333333333333,
           "#31688e"
          ],
          [
           0.4444444444444444,
           "#26828e"
          ],
          [
           0.5555555555555556,
           "#1f9e89"
          ],
          [
           0.6666666666666666,
           "#35b779"
          ],
          [
           0.7777777777777778,
           "#6ece58"
          ],
          [
           0.8888888888888888,
           "#b5de2b"
          ],
          [
           1,
           "#fde725"
          ]
         ],
         "hovertemplate": "%{y}%{x}val: %{z:.2f}<extra></extra>",
         "type": "heatmap",
         "x": [
          "prob: 0.15246<br>atom: 0<br>",
          "prob: 0.0299<br>atom: 1<br>",
          "prob: 0.030739998<br>atom: 2<br>",
          "prob: 0.029679999<br>atom: 3<br>",
          "prob: 0.14878<br>atom: 4<br>",
          "prob: 0.02942<br>atom: 5<br>",
          "prob: 0.02876<br>atom: 6<br>",
          "prob: 0.029919999<br>atom: 7<br>",
          "prob: 0.15076<br>atom: 8<br>",
          "prob: 0.03046<br>atom: 9<br>",
          "prob: 0.029059999<br>atom: 10<br>",
          "prob: 0.03136<br>atom: 11<br>",
          "prob: 0.050019998<br>atom: 12<br>",
          "prob: 0.0484<br>atom: 13<br>",
          "prob: 0.0502<br>atom: 14<br>",
          "prob: 0.04996<br>atom: 15<br>",
          "prob: 0.049799997<br>atom: 16<br>",
          "prob: 0.0493<br>atom: 17<br>"
         ],
         "y": [
          "batch: 0<br>",
          "batch: 1<br>",
          "batch: 2<br>",
          "batch: 3<br>",
          "batch: 4<br>",
          "batch: 5<br>",
          "batch: 6<br>",
          "batch: 7<br>",
          "batch: 8<br>",
          "batch: 9<br>",
          "batch: 10<br>",
          "batch: 11<br>",
          "batch: 12<br>",
          "batch: 13<br>",
          "batch: 14<br>",
          "batch: 15<br>",
          "batch: 16<br>",
          "batch: 17<br>",
          "batch: 18<br>",
          "batch: 19<br>",
          "batch: 20<br>",
          "batch: 21<br>",
          "batch: 22<br>",
          "batch: 23<br>",
          "batch: 24<br>",
          "batch: 25<br>",
          "batch: 26<br>",
          "batch: 27<br>",
          "batch: 28<br>",
          "batch: 29<br>",
          "batch: 30<br>",
          "batch: 31<br>",
          "batch: 32<br>",
          "batch: 33<br>",
          "batch: 34<br>",
          "batch: 35<br>",
          "batch: 36<br>",
          "batch: 37<br>",
          "batch: 38<br>",
          "batch: 39<br>",
          "batch: 40<br>",
          "batch: 41<br>",
          "batch: 42<br>",
          "batch: 43<br>",
          "batch: 44<br>",
          "batch: 45<br>",
          "batch: 46<br>",
          "batch: 47<br>",
          "batch: 48<br>",
          "batch: 49<br>",
          "batch: 50<br>",
          "batch: 51<br>",
          "batch: 52<br>",
          "batch: 53<br>",
          "batch: 54<br>",
          "batch: 55<br>",
          "batch: 56<br>",
          "batch: 57<br>",
          "batch: 58<br>",
          "batch: 59<br>",
          "batch: 60<br>",
          "batch: 61<br>",
          "batch: 62<br>",
          "batch: 63<br>",
          "batch: 64<br>",
          "batch: 65<br>",
          "batch: 66<br>",
          "batch: 67<br>",
          "batch: 68<br>",
          "batch: 69<br>",
          "batch: 70<br>",
          "batch: 71<br>",
          "batch: 72<br>",
          "batch: 73<br>",
          "batch: 74<br>",
          "batch: 75<br>",
          "batch: 76<br>",
          "batch: 77<br>",
          "batch: 78<br>",
          "batch: 79<br>",
          "batch: 80<br>",
          "batch: 81<br>",
          "batch: 82<br>",
          "batch: 83<br>",
          "batch: 84<br>",
          "batch: 85<br>",
          "batch: 86<br>",
          "batch: 87<br>",
          "batch: 88<br>",
          "batch: 89<br>",
          "batch: 90<br>",
          "batch: 91<br>",
          "batch: 92<br>",
          "batch: 93<br>",
          "batch: 94<br>",
          "batch: 95<br>",
          "batch: 96<br>",
          "batch: 97<br>",
          "batch: 98<br>",
          "batch: 99<br>",
          "batch: 100<br>",
          "batch: 101<br>",
          "batch: 102<br>",
          "batch: 103<br>",
          "batch: 104<br>",
          "batch: 105<br>",
          "batch: 106<br>",
          "batch: 107<br>",
          "batch: 108<br>",
          "batch: 109<br>",
          "batch: 110<br>",
          "batch: 111<br>",
          "batch: 112<br>",
          "batch: 113<br>",
          "batch: 114<br>",
          "batch: 115<br>",
          "batch: 116<br>",
          "batch: 117<br>",
          "batch: 118<br>",
          "batch: 119<br>",
          "batch: 120<br>",
          "batch: 121<br>",
          "batch: 122<br>",
          "batch: 123<br>",
          "batch: 124<br>",
          "batch: 125<br>",
          "batch: 126<br>",
          "batch: 127<br>",
          "batch: 128<br>",
          "batch: 129<br>",
          "batch: 130<br>",
          "batch: 131<br>",
          "batch: 132<br>",
          "batch: 133<br>",
          "batch: 134<br>",
          "batch: 135<br>",
          "batch: 136<br>",
          "batch: 137<br>",
          "batch: 138<br>",
          "batch: 139<br>",
          "batch: 140<br>",
          "batch: 141<br>",
          "batch: 142<br>",
          "batch: 143<br>",
          "batch: 144<br>",
          "batch: 145<br>",
          "batch: 146<br>",
          "batch: 147<br>",
          "batch: 148<br>",
          "batch: 149<br>",
          "batch: 150<br>",
          "batch: 151<br>",
          "batch: 152<br>",
          "batch: 153<br>",
          "batch: 154<br>",
          "batch: 155<br>",
          "batch: 156<br>",
          "batch: 157<br>",
          "batch: 158<br>",
          "batch: 159<br>",
          "batch: 160<br>",
          "batch: 161<br>",
          "batch: 162<br>",
          "batch: 163<br>",
          "batch: 164<br>",
          "batch: 165<br>",
          "batch: 166<br>",
          "batch: 167<br>",
          "batch: 168<br>",
          "batch: 169<br>",
          "batch: 170<br>",
          "batch: 171<br>",
          "batch: 172<br>",
          "batch: 173<br>",
          "batch: 174<br>",
          "batch: 175<br>",
          "batch: 176<br>",
          "batch: 177<br>",
          "batch: 178<br>",
          "batch: 179<br>",
          "batch: 180<br>",
          "batch: 181<br>",
          "batch: 182<br>",
          "batch: 183<br>",
          "batch: 184<br>",
          "batch: 185<br>",
          "batch: 186<br>",
          "batch: 187<br>",
          "batch: 188<br>",
          "batch: 189<br>",
          "batch: 190<br>",
          "batch: 191<br>",
          "batch: 192<br>",
          "batch: 193<br>",
          "batch: 194<br>",
          "batch: 195<br>",
          "batch: 196<br>",
          "batch: 197<br>",
          "batch: 198<br>",
          "batch: 199<br>"
         ],
         "z": [
          [
           1,
           0.19611701369285583,
           0.20162665843963623,
           0.19467401504516602,
           0.9758625626564026,
           0.19296865165233612,
           0.18863964080810547,
           0.19624818861484528,
           0.9888495206832886,
           0.1997901201248169,
           0.19060736894607544,
           0.2056933045387268,
           0.3280860483646393,
           0.3174603283405304,
           0.3292666971683502,
           0.32769250869750977,
           0.32664304971694946,
           0.3233635127544403
          ],
          [
           1,
           0.19611701369285583,
           0.20162665843963623,
           0.19467401504516602,
           0.9758625626564026,
           0.19296865165233612,
           0.18863964080810547,
           0.19624818861484528,
           0.9888495206832886,
           0.1997901201248169,
           0.19060736894607544,
           0.2056933045387268,
           0.3280860483646393,
           0.3174603283405304,
           0.3292666971683502,
           0.32769250869750977,
           0.32664304971694946,
           0.3233635127544403
          ],
          [
           1,
           0.19611701369285583,
           0.20162665843963623,
           0.19467401504516602,
           0.9758625626564026,
           0.19296865165233612,
           0.18863964080810547,
           0.19624818861484528,
           0.9888495206832886,
           0.1997901201248169,
           0.19060736894607544,
           0.2056933045387268,
           0.3280860483646393,
           0.3174603283405304,
           0.3292666971683502,
           0.32769250869750977,
           0.32664304971694946,
           0.3233635127544403
          ],
          [
           1,
           0.19611701369285583,
           0.20162665843963623,
           0.19467401504516602,
           0.9758625626564026,
           0.19296865165233612,
           0.18863964080810547,
           0.19624818861484528,
           0.9888495206832886,
           0.1997901201248169,
           0.19060736894607544,
           0.2056933045387268,
           0.3280860483646393,
           0.3174603283405304,
           0.3292666971683502,
           0.32769250869750977,
           0.32664304971694946,
           0.3233635127544403
          ],
          [
           1,
           0.19611701369285583,
           0.20162665843963623,
           0.19467401504516602,
           0.9758625626564026,
           0.19296865165233612,
           0.18863964080810547,
           0.19624818861484528,
           0.9888495206832886,
           0.1997901201248169,
           0.19060736894607544,
           0.2056933045387268,
           0.3280860483646393,
           0.3174603283405304,
           0.3292666971683502,
           0.32769250869750977,
           0.32664304971694946,
           0.3233635127544403
          ],
          [
           1,
           0.19611701369285583,
           0.20162665843963623,
           0.19467401504516602,
           0.9758625626564026,
           0.19296865165233612,
           0.18863964080810547,
           0.19624818861484528,
           0.9888495206832886,
           0.1997901201248169,
           0.19060736894607544,
           0.2056933045387268,
           0.3280860483646393,
           0.3174603283405304,
           0.3292666971683502,
           0.32769250869750977,
           0.32664304971694946,
           0.3233635127544403
          ],
          [
           1,
           0.19611701369285583,
           0.20162665843963623,
           0.19467401504516602,
           0.9758625626564026,
           0.19296865165233612,
           0.18863964080810547,
           0.19624818861484528,
           0.9888495206832886,
           0.1997901201248169,
           0.19060736894607544,
           0.2056933045387268,
           0.3280860483646393,
           0.3174603283405304,
           0.3292666971683502,
           0.32769250869750977,
           0.32664304971694946,
           0.3233635127544403
          ],
          [
           1.4913450741005363e-7,
           3.7802843166900857e-7,
           1.07321000086813e-7,
           0.010709208436310291,
           1.9884802782144106e-7,
           1.3753020944307082e-8,
           8.366007619997617e-8,
           1.4786196267380092e-8,
           1.0385154070036151e-7,
           1.530644766489786e-7,
           1.333869192876591e-7,
           0.08787576109170914,
           2.5593931241019163e-7,
           3.1910309417071403e-7,
           9.242513954177412e-8,
           1.557891522452337e-7,
           5.855892482031777e-8,
           1.0077177137191029e-7
          ],
          [
           2.39254944744971e-7,
           1.4186539942784293e-7,
           1.6737867269966955e-7,
           0.11433212459087372,
           3.5717934565582254e-7,
           3.214916688420999e-8,
           6.051249812344395e-8,
           3.5658501928992337e-8,
           2.633527458328899e-7,
           1.411742687196238e-7,
           1.0423458007835507e-7,
           0.21700912714004517,
           5.1141274326482744e-8,
           4.041289400902315e-7,
           1.6349258658010513e-7,
           1.8743584462299623e-7,
           8.520078154106159e-7,
           0.7586662173271179
          ],
          [
           1.1456942061727204e-8,
           3.768307692553208e-7,
           2.4086713779070124e-7,
           0.19260257482528687,
           2.6992239554601838e-8,
           1.0806096639726093e-7,
           1.726825900050244e-7,
           8.709760912495312e-9,
           1.0605604217062137e-7,
           1.575553483235126e-7,
           1.4354947097672266e-7,
           0.08835692703723907,
           4.32257323268459e-8,
           3.64610208691829e-8,
           6.123490265963483e-7,
           1.582133357658222e-8,
           1.21518681339694e-7,
           1.0814650863721909e-7
          ],
          [
           1.1537138533412872e-7,
           5.685813064815193e-8,
           2.896119610795722e-7,
           0.1815379410982132,
           6.020837872711127e-8,
           2.0915057064030407e-7,
           4.7210679809950307e-8,
           3.709124385409268e-8,
           4.317080914972848e-9,
           9.566152670004158e-8,
           0.896902859210968,
           0.37524348497390747,
           4.2436624880792806e-8,
           1.1228946306118814e-7,
           0.9072420597076416,
           8.816118679533247e-8,
           3.210492991456704e-7,
           4.286204102754709e-8
          ],
          [
           7.064181062332864e-8,
           5.8356000920412043e-8,
           5.785025081195272e-8,
           0.054106030613183975,
           4.1876967316056835e-7,
           4.7722490847945664e-8,
           2.2654626263829414e-7,
           5.355512371352233e-7,
           4.071079118261878e-8,
           0.9378249645233154,
           2.800236131861311e-7,
           0.06631165742874146,
           5.242393896764952e-8,
           1.595731369263831e-8,
           0.8541326522827148,
           1.4642643009210587e-7,
           2.8638233118272183e-8,
           7.20015336241886e-8
          ],
          [
           1.4103255452369012e-8,
           9.559665414826668e-8,
           1.2482939837354934e-7,
           0.04045684635639191,
           9.768347908334363e-9,
           1.5316594215164514e-8,
           2.9573246962399935e-8,
           1.1168013003270971e-7,
           1.713975166239834e-7,
           2.1978701525426914e-8,
           7.139191460225902e-9,
           0.022959716618061066,
           0.7950308918952942,
           5.7002740305733823e-8,
           1.5317313284413103e-7,
           2.7435939387032704e-7,
           1.2101114066354057e-7,
           2.893700390416143e-8
          ],
          [
           5.095391486520384e-8,
           2.0230153552347474e-8,
           1.1121183973727966e-7,
           0.16168370842933655,
           1.8689990000098078e-8,
           5.965246430150728e-8,
           1.0392955829274797e-7,
           2.0874711026408477e-7,
           4.255570829059252e-8,
           2.647514634190884e-7,
           8.520403049772085e-9,
           0.03237605094909668,
           7.511600585985434e-8,
           6.199170599074932e-8,
           3.642656452029769e-7,
           5.858397003066784e-7,
           0.8537580966949463,
           5.987126883155724e-7
          ],
          [
           5.397379609917152e-8,
           3.9271320417810784e-8,
           1.4064562847693196e-8,
           0.024227693676948547,
           1.2078265854142956e-7,
           1.986019384503379e-7,
           1.1819172840432657e-7,
           1.3178619440168404e-7,
           4.693015398515854e-8,
           1.5163332989232003e-7,
           0.9748483300209045,
           0.35027530789375305,
           7.626945830452314e-8,
           0.904983639717102,
           1.5026368771486887e-7,
           8.909514548349762e-8,
           4.888598255092802e-7,
           1.572537797756013e-7
          ],
          [
           0.8998199701309204,
           1.3064219217540085e-7,
           2.22605898159145e-8,
           0.1608160138130188,
           1.4167339656978584e-7,
           5.1342258444719846e-8,
           6.601182178656018e-8,
           3.6417564075463815e-8,
           1.5508477702042e-7,
           3.852901642176221e-8,
           1.8478093011253804e-7,
           0.1349148452281952,
           8.79767370065565e-8,
           9.430693381773381e-8,
           6.182641243412945e-8,
           4.577279000272938e-8,
           4.783505005434563e-7,
           6.5477809840785994e-9
          ],
          [
           7.546410785153057e-8,
           5.194865426716433e-9,
           1.6581654449510097e-7,
           0.07464426755905151,
           1.639641737938291e-7,
           3.353844135745021e-7,
           9.42309608120695e-9,
           1.0260710325837863e-7,
           1.2562597362375527e-7,
           7.839776827722744e-8,
           3.7902804450595795e-8,
           0.016477057710289955,
           6.638324379082405e-8,
           3.1177742698673683e-7,
           1.2069374122347654e-7,
           2.16514322914918e-7,
           1.6048404916091386e-7,
           4.8089810888996e-7
          ],
          [
           4.9764850018618745e-8,
           1.8813176438925439e-7,
           8.496284920056496e-8,
           0.07601641863584518,
           4.123648089660037e-9,
           2.7391982015956273e-8,
           5.787199341966698e-8,
           2.343897733680933e-7,
           1.438200456505001e-7,
           1.5997137836620823e-7,
           3.758696021094465e-9,
           0.006624076049774885,
           3.308669604962233e-8,
           2.2474516470083472e-8,
           3.2204834354843115e-8,
           3.304594287101281e-8,
           3.0401898243326286e-7,
           6.377489114584023e-8
          ],
          [
           2.5174412598971685e-7,
           2.955925637593282e-8,
           1.3319886704721284e-7,
           0.026378877460956573,
           2.8381050398706975e-8,
           1.2895914380806062e-7,
           6.070352469578211e-7,
           5.046690887411387e-8,
           1.589165208315535e-7,
           1.3257219677598187e-7,
           4.9645667132836024e-8,
           0.0844351276755333,
           1.318645956871478e-7,
           8.272362350680851e-8,
           0.8526516556739807,
           1.9892654279374256e-7,
           1.9079645596775663e-7,
           5.581562323442313e-9
          ],
          [
           8.838178899850391e-8,
           1.8449723881985847e-7,
           2.4246579855002892e-8,
           0.1969941258430481,
           8.205294221852455e-8,
           2.230969542438288e-8,
           2.5691480232126196e-7,
           4.003699771715219e-8,
           5.797718358735438e-7,
           6.545365494048383e-8,
           7.86166083344142e-8,
           0.30309832096099854,
           4.7118277279878384e-8,
           7.106109478627332e-7,
           3.3646202268755587e-7,
           7.73422925703926e-8,
           5.094715902487224e-7,
           1.4321544483664184e-7
          ],
          [
           8.837905518532807e-9,
           5.270463887541155e-8,
           1.1694758228486535e-7,
           0.1965695470571518,
           8.780567384292226e-8,
           7.12660952473243e-9,
           9.403262168916626e-8,
           7.817221359118776e-8,
           1.9856224753311835e-7,
           2.2831967783076834e-7,
           1.941169358588013e-7,
           0.0876619964838028,
           4.695181132774451e-8,
           6.622545356549381e-8,
           5.1278171042667964e-8,
           3.430378825441949e-8,
           4.430286537626671e-7,
           2.3427141115917038e-7
          ],
          [
           0.8998189568519592,
           1.2194261955755792e-7,
           2.966549317306999e-8,
           0.03707769885659218,
           2.478260512361885e-7,
           3.532034895670222e-7,
           7.084101127929898e-8,
           1.389129948847767e-7,
           2.7252943368694105e-7,
           3.196201348032446e-8,
           1.1440700120601832e-7,
           0.026054615154862404,
           2.4664058173584635e-7,
           3.534104564550944e-8,
           7.362773146724066e-8,
           2.2564000801139628e-7,
           2.0527909327938687e-7,
           1.9963137276590714e-7
          ],
          [
           4.560378954465705e-7,
           4.211220172578578e-8,
           6.643495709113267e-8,
           0.6043601632118225,
           0.8722231984138489,
           3.0666831207781797e-7,
           1.0347891077344684e-7,
           1.483585094774753e-7,
           5.899289234889693e-8,
           2.513340859877644e-7,
           2.616409062738967e-7,
           0.028141846880316734,
           3.1732417937746504e-7,
           8.257964623226144e-8,
           2.7174147021469253e-7,
           7.70106055369979e-7,
           7.088698907864455e-7,
           1.9261763384292863e-7
          ],
          [
           1.7348280323403742e-7,
           7.6211932764636e-8,
           1.5504515005204667e-8,
           0.19266867637634277,
           2.606680915562265e-8,
           3.0486024371612075e-8,
           9.536910816621003e-9,
           2.2868933058362018e-7,
           1.220132759272019e-7,
           2.2100701713156923e-8,
           2.64069228705921e-7,
           0.3029244840145111,
           3.0774256742915895e-7,
           3.4679035820772697e-7,
           3.295412511761242e-7,
           3.363170630876766e-9,
           4.575996683797712e-7,
           2.493145530024776e-7
          ],
          [
           1.9477853641092224e-7,
           9.134735989846376e-8,
           1.288763087359257e-7,
           0.28081271052360535,
           0.8722253441810608,
           9.889275531804742e-8,
           9.682951684908403e-8,
           1.1160307877844389e-7,
           5.10940729725462e-8,
           3.6399077885107545e-7,
           1.0709474906889227e-7,
           0.003440624801442027,
           2.515682240300521e-7,
           2.147933315654882e-7,
           2.414919038074004e-7,
           4.5353171884698895e-8,
           1.4866805031488184e-7,
           3.961053778311907e-7
          ],
          [
           5.608902853282416e-8,
           1.5337808179083368e-7,
           5.294292577673332e-7,
           0.12567323446273804,
           7.419576775191672e-8,
           3.7819027909336e-8,
           2.4764235106999877e-8,
           1.663861439737957e-7,
           5.556626447855706e-8,
           8.003670615153169e-9,
           1.0384009385688842e-7,
           0.03873756527900696,
           8.776751769801194e-9,
           2.272570469585844e-7,
           9.882304752295568e-9,
           2.8366804372126353e-7,
           4.807762365999224e-7,
           5.231163413554896e-7
          ],
          [
           7.872026941413424e-8,
           2.0654471200032276e-7,
           1.2849088193434e-7,
           0.004585414193570614,
           4.914415541179551e-8,
           2.373126051224972e-8,
           1.2850562391975018e-8,
           8.718867405832498e-9,
           2.3084382405613724e-8,
           2.6324277868639e-8,
           5.6724470454128095e-8,
           0.008945344015955925,
           3.080225141616211e-8,
           1.4328415431918984e-7,
           4.1090652302955277e-7,
           2.8841861876571784e-7,
           3.7225163396215066e-7,
           1.5788863549914822e-8
          ],
          [
           3.91149441725247e-8,
           1.1668119270780153e-7,
           5.980044903708404e-8,
           0.08841198682785034,
           1.511879474946909e-7,
           2.89130156261308e-7,
           0.9364986419677734,
           4.484229521040106e-7,
           4.207237225273275e-7,
           1.978147281533893e-7,
           3.649952020623459e-7,
           0.023826997727155685,
           8.724153133243817e-8,
           0.9565497636795044,
           5.18254630321735e-8,
           8.924709504753991e-8,
           8.837758258550821e-8,
           2.9484448660355156e-8
          ],
          [
           1.6537288161089236e-7,
           9.609139084432172e-8,
           2.067497462121537e-7,
           0.07405104488134384,
           0.872223973274231,
           5.215823151161203e-8,
           1.6905653410503874e-7,
           8.771406356800071e-8,
           1.5373710482435854e-7,
           6.905659688527521e-8,
           8.4401769129272e-8,
           0.05691291764378548,
           6.543075414811028e-8,
           1.7960903164748743e-7,
           1.655697019486979e-7,
           1.095957955499216e-7,
           1.158718454519203e-9,
           2.5846231821446963e-8
          ],
          [
           1.3870428006157454e-7,
           6.654509832060285e-8,
           0.9892356395721436,
           0.12108342349529266,
           2.070536275766699e-8,
           2.7552556502996595e-7,
           1.3895287054310757e-7,
           0.8993354439735413,
           3.973135775936498e-8,
           1.0115520154840851e-7,
           1.6636237276657084e-8,
           0.4787907898426056,
           2.933519027692455e-8,
           8.956715902286305e-8,
           2.9987509719830996e-7,
           2.0284207380427688e-7,
           1.8167352777709311e-7,
           4.798155259777559e-7
          ],
          [
           8.661294259582064e-8,
           1.0074960243855458e-7,
           0.9892348647117615,
           0.010362112894654274,
           6.938339680573335e-8,
           3.3004477018039324e-7,
           1.0149346252319447e-7,
           0.8993340134620667,
           5.725636853526339e-8,
           8.94609186730122e-8,
           4.034956475607032e-7,
           0.026516471058130264,
           1.4093247102664463e-7,
           2.7366054311528387e-8,
           4.074386339425473e-8,
           8.043262482715363e-7,
           1.3166243206796935e-7,
           8.717714905515095e-8
          ],
          [
           2.4287377442533398e-8,
           5.522260870804985e-9,
           3.543564730534854e-8,
           0.12622365355491638,
           1.711039914198409e-7,
           9.840704962016389e-8,
           6.719958633993883e-8,
           9.632280040250407e-8,
           3.982818341796701e-8,
           3.3881018879355906e-8,
           1.3289758271639585e-7,
           0.005781248677521944,
           6.406108088441442e-9,
           1.2186617937004485e-7,
           3.7852160517104494e-7,
           1.1182314096913615e-7,
           2.5656939328655426e-7,
           1.7207922553552635e-7
          ],
          [
           1.5789277085787035e-7,
           2.383508075354257e-7,
           9.352794450023794e-8,
           0.07593986392021179,
           2.6145409037781064e-7,
           2.9352312935770897e-7,
           6.581166900332391e-8,
           3.7886895398742126e-8,
           2.5922229696107024e-8,
           1.049686133569594e-7,
           2.4273381526995763e-8,
           0.3044944107532501,
           9.535204270605391e-8,
           4.4163098777971754e-7,
           2.2952211509164044e-7,
           6.170432698127115e-8,
           1.0591642052304451e-7,
           1.5579637135942903e-7
          ],
          [
           0.24966983497142792,
           0.14432814717292786,
           0.1686524599790573,
           0.10460292547941208,
           1.9241358018007304e-7,
           6.024350795996725e-8,
           3.3477382999080874e-7,
           2.6718211643128598e-8,
           1.4356331234921527e-7,
           4.537350051236899e-8,
           1.3868805126548978e-7,
           0.10776884853839874,
           1.5951250986745436e-7,
           7.762320564097536e-8,
           6.577531763696243e-8,
           0.9185857176780701,
           2.3330504461682722e-7,
           5.062985337644932e-7
          ],
          [
           9.611372320250666e-8,
           3.8908279975657933e-7,
           0.9437627196311951,
           0.2060113549232483,
           6.79818938920107e-8,
           1.1731557059135866e-8,
           4.750699389433066e-8,
           2.5128038316779566e-8,
           4.4434823820438396e-8,
           1.349067986211594e-7,
           5.4289966300302694e-8,
           0.04979749023914337,
           3.1568777814072746e-8,
           9.179549920190766e-8,
           2.8995273737564276e-7,
           1.4341521747951447e-8,
           3.439182876263658e-7,
           6.615737646598063e-8
          ],
          [
           1.717007620527511e-7,
           4.098661321449981e-8,
           3.3860732884249956e-8,
           0.07605471462011337,
           5.474626050272491e-7,
           1.0146656848064595e-7,
           4.057287128489406e-8,
           2.723620773359414e-10,
           9.19461342618888e-8,
           1.0615271328617837e-8,
           3.428895354318229e-7,
           0.00632197642698884,
           2.9372108656389173e-7,
           3.3150513445434626e-7,
           2.864088344267657e-7,
           1.6499286914495315e-7,
           4.40692133452103e-7,
           8.05797952807552e-8
          ],
          [
           4.3806597460616103e-8,
           2.901162758917053e-7,
           4.928258476866176e-7,
           0.004701859783381224,
           5.505415856532636e-7,
           1.6520903756145344e-8,
           3.4822708272486125e-8,
           1.0721795717927307e-7,
           1.3113570673795039e-7,
           9.215834495535091e-8,
           1.2853973885285086e-8,
           0.5649603009223938,
           1.2040760566378594e-7,
           2.51724657118757e-7,
           7.13574550559315e-8,
           3.1581288340021274e-7,
           1.4964548711304815e-7,
           7.78382940325173e-8
          ],
          [
           1.531494575601755e-7,
           6.759561443914208e-8,
           5.767654087662777e-8,
           0.1927713304758072,
           1.4586888141820964e-7,
           1.3656724640043194e-8,
           3.2882532252642704e-8,
           5.266530322955987e-8,
           1.2678560779022519e-7,
           1.6749982023611665e-7,
           7.488682740586228e-8,
           0.0032064521219581366,
           3.35631114012358e-7,
           9.722828053781996e-8,
           3.9556744013680145e-7,
           7.307949800861024e-8,
           2.9342675134103047e-7,
           3.0719682797553105e-8
          ],
          [
           4.054665936337187e-8,
           7.496350207247815e-8,
           2.544413462146622e-7,
           0.2006799280643463,
           1.2913301361550111e-7,
           9.16615672252874e-9,
           2.9522304600959615e-8,
           2.200409987551666e-8,
           2.264352438885453e-8,
           2.1986483744740326e-8,
           2.1273987726999621e-7,
           0.48256585001945496,
           3.6703028172269114e-7,
           2.1003926065077394e-7,
           1.0009299700186602e-7,
           2.961567702186585e-7,
           5.615326159613687e-8,
           1.0485731394282993e-7
          ],
          [
           8.98929763959444e-10,
           2.099797598020814e-7,
           4.421016441824577e-8,
           0.5097765326499939,
           3.3321569503641513e-7,
           9.376939402727658e-8,
           0.9303524494171143,
           2.9406736601345074e-8,
           1.1394577370538173e-7,
           6.649081285559078e-8,
           8.879102608716494e-8,
           0.14456938207149506,
           1.3241933061181044e-7,
           8.390400552116262e-8,
           1.1844731062637948e-7,
           7.832040438415788e-8,
           2.1094247415476275e-7,
           2.800088338972273e-7
          ],
          [
           1.7792004314287624e-8,
           3.6010167292488404e-8,
           1.2541516980490997e-7,
           0.027645161375403404,
           1.898232966368596e-7,
           1.351234857338568e-7,
           1.2964282802840899e-7,
           6.81213592201857e-8,
           5.205670916552663e-8,
           1.3444326896205894e-7,
           0.9229514002799988,
           0.4164200723171234,
           3.057078146184722e-8,
           4.247056324402365e-7,
           5.123350774738356e-7,
           4.3140462935298274e-7,
           1.6353594034512753e-8,
           8.573322674010342e-8
          ],
          [
           4.446040122729755e-7,
           1.1432103264041871e-7,
           1.1380448938780319e-7,
           0.01947866566479206,
           2.907290195253154e-7,
           3.8846803107617234e-8,
           1.1552090484201472e-7,
           0.9341802597045898,
           2.370498997095183e-8,
           1.3522569020096853e-7,
           2.43287303192119e-7,
           0.18753403425216675,
           5.442998372018337e-7,
           5.698845484403137e-7,
           5.835634642181731e-9,
           1.3280589428177336e-7,
           2.1227958058034346e-8,
           1.2550300709790463e-7
          ],
          [
           2.7558269266592106e-7,
           4.1627686186984647e-7,
           2.3449888431059662e-7,
           0.20047897100448608,
           1.2759157641539787e-7,
           3.626454692096104e-10,
           4.844419549954182e-7,
           9.513071219657832e-9,
           1.6761219967520447e-7,
           4.080559534713757e-8,
           4.427043904797756e-7,
           0.08924465626478195,
           1.6221127907556365e-7,
           4.713823287261221e-8,
           3.985819603258278e-7,
           9.770316111712418e-9,
           3.469268676781212e-7,
           2.444488700348302e-7
          ],
          [
           1.0156695040564045e-8,
           3.8782168587658816e-8,
           2.975189161702474e-8,
           0.2386815845966339,
           0.8722264766693115,
           5.525730983890753e-8,
           6.25581293434152e-8,
           2.146312425566066e-7,
           1.4030896444694463e-9,
           2.243317851480242e-7,
           4.068164116688422e-8,
           0.011168776080012321,
           7.761900633340701e-8,
           1.5681466436490155e-7,
           7.234461918415036e-7,
           6.096462357163546e-8,
           8.694871098668955e-7,
           1.8210042185273778e-7
          ],
          [
           3.818887250872649e-7,
           2.1335968369839975e-7,
           1.433924694538291e-7,
           0.19266849756240845,
           3.316005958708956e-8,
           2.7148553272127174e-7,
           1.9643699999960518e-7,
           6.655555750967324e-8,
           4.387457863685995e-8,
           5.1934154754462725e-8,
           1.1861808246749206e-7,
           0.006897280924022198,
           1.7009510600018984e-7,
           1.6566254146255233e-7,
           9.074409490494872e-8,
           3.2644362590872333e-7,
           4.5105932144906546e-7,
           2.399038123712671e-7
          ],
          [
           2.971906667426083e-7,
           8.41917682237181e-8,
           7.876796104255845e-8,
           0.20072704553604126,
           2.3132251669721882e-7,
           2.450826741551282e-7,
           1.3817007982197538e-7,
           1.1951583189784287e-7,
           5.008145720353241e-8,
           2.134304111223173e-8,
           3.3840027668929906e-8,
           0.0034361137077212334,
           8.185175204289408e-8,
           1.6484275988659647e-7,
           6.864173229814696e-8,
           7.046201631055737e-7,
           5.554479685088154e-7,
           6.158239074238736e-8
          ],
          [
           1.0603395850239394e-7,
           5.033285077615801e-8,
           3.4934014792042944e-8,
           0.11577437072992325,
           4.320128539347934e-7,
           8.999100487017131e-8,
           2.55953466421488e-7,
           9.374014808827269e-8,
           4.2846540537766487e-8,
           1.662742619146229e-7,
           7.78409088297849e-8,
           0.35282209515571594,
           6.130008500804252e-7,
           4.6398557174143207e-7,
           3.725012618360779e-7,
           3.0692086649963812e-9,
           0.8537580966949463,
           6.229700488802337e-7
          ],
          [
           5.9018766762619634e-8,
           1.7396172324879444e-7,
           1.177572599431187e-7,
           0.1825653612613678,
           2.3384049541164131e-7,
           1.3894075223674918e-8,
           3.6264349745351865e-8,
           7.695530968021558e-8,
           0.16985593736171722,
           0.2022160142660141,
           0.13026666641235352,
           0.16210231184959412,
           5.508041134305586e-9,
           9.447030180353977e-8,
           1.9721089472568565e-7,
           3.317861683171941e-7,
           3.421018845983781e-7,
           0.8002781271934509
          ],
          [
           3.138460158425005e-7,
           8.059761569256807e-8,
           4.918376106388678e-8,
           0.19343800842761993,
           1.9234332171436108e-7,
           7.535442847483864e-8,
           3.941696302689479e-9,
           9.28491488139116e-8,
           1.8141398383519913e-9,
           2.571619184266183e-8,
           1.1185932180524105e-7,
           0.014843129552900791,
           1.592573539710429e-7,
           1.5872014103024412e-7,
           2.1445416109600046e-7,
           3.60599905491199e-8,
           6.294948917684451e-8,
           6.707886512913319e-8
          ],
          [
           1.4973382178595784e-7,
           1.3030977186190285e-7,
           1.3994248426740796e-8,
           0.02462482638657093,
           4.059886293816817e-8,
           4.0606249029906394e-8,
           5.970426997237155e-8,
           1.0661883820262119e-8,
           4.3209222866380514e-8,
           2.3600868814810383e-7,
           1.5083308824159758e-7,
           0.10649914294481277,
           1.9311863752591307e-7,
           0.9151480197906494,
           0.8078884482383728,
           2.413404729395552e-7,
           3.726922059854587e-8,
           0.752364993095398
          ],
          [
           0.22431623935699463,
           0.16349957883358002,
           0.23385082185268402,
           0.08592943847179413,
           5.3885138129317056e-8,
           1.2548016847802046e-8,
           2.2260778109739476e-7,
           0.9306517839431763,
           4.0871977802225956e-8,
           7.854488615066657e-8,
           9.24614909081356e-8,
           0.066112220287323,
           2.7073493669149684e-8,
           3.6761640842541965e-8,
           1.237715423485497e-7,
           1.3181295344111277e-7,
           7.669108903485267e-9,
           1.4839311290870683e-7
          ],
          [
           1.090957901794809e-8,
           2.306031365861827e-9,
           0.9568974375724792,
           0.009662416763603687,
           1.9917837335015065e-7,
           9.755338936656699e-8,
           1.5100434680448416e-8,
           1.9665151285153115e-7,
           8.214895785840781e-8,
           1.4366901268658694e-7,
           1.0524936300271293e-7,
           0.09917561709880829,
           2.9184832328610355e-7,
           1.624213723516732e-7,
           0.8894098997116089,
           0.9456059336662292,
           1.339083297580146e-7,
           5.0112274330160744e-9
          ],
          [
           2.397430876044382e-8,
           8.550284924524476e-9,
           6.095026350294575e-8,
           0.3952189087867737,
           1.337433559456258e-7,
           3.086792048634379e-7,
           8.739626622400465e-8,
           8.532112616421728e-8,
           8.418813024491101e-8,
           0.9118112921714783,
           1.2552118278108537e-7,
           0.01434362307190895,
           1.1156692636404841e-7,
           2.3048934849612124e-7,
           6.130415499683295e-7,
           2.9186599803665558e-8,
           6.875398472772076e-9,
           1.3406352472600247e-8
          ],
          [
           8.606817658574073e-8,
           6.516292927472023e-8,
           5.993760598954623e-9,
           0.1269095093011856,
           4.5846997309695325e-9,
           5.925051738131515e-8,
           2.713294655620757e-8,
           1.290309228352271e-7,
           2.5825696070569393e-7,
           3.914343693622868e-8,
           3.712367657726645e-8,
           0.08836348354816437,
           5.4888527500907e-8,
           2.4665467890372383e-8,
           2.031565600191243e-7,
           1.1753933648606107e-7,
           2.274092310017295e-7,
           1.6831653226745402e-7
          ],
          [
           3.6961061766760395e-8,
           1.1429034429966123e-7,
           5.308714889906696e-7,
           0.22864381968975067,
           1.5222337879094994e-7,
           3.82896558903667e-8,
           2.0952329293777439e-7,
           3.5127543096535874e-9,
           1.1686484668871344e-7,
           2.644001710905286e-7,
           6.309228695045022e-8,
           0.6609504818916321,
           9.691238034292837e-8,
           7.401861239486607e-7,
           1.127182187588005e-7,
           3.902547405232326e-7,
           1.7121648454576643e-7,
           7.046148908784744e-8
          ],
          [
           1.2548682093438401e-7,
           9.062679851012945e-8,
           2.9390383815552923e-7,
           0.10109011083841324,
           2.800978222694539e-7,
           0.9182555675506592,
           1.368237150245477e-7,
           8.114841421047458e-8,
           1.0499688585241529e-7,
           2.66888839917101e-8,
           1.8285125236161548e-7,
           0.02419113740324974,
           2.5298616534996654e-8,
           0.853287935256958,
           3.7956758092150267e-7,
           4.117928540381399e-7,
           5.643091327556249e-8,
           1.2784870762061473e-7
          ],
          [
           0.2667914032936096,
           0.16654163599014282,
           0.16015319526195526,
           0.1189940944314003,
           1.8707608262502617e-7,
           7.06983769305225e-8,
           6.689599985065797e-8,
           3.75942299513099e-8,
           1.0982359555100629e-7,
           3.42237314043814e-8,
           6.374034455802757e-8,
           0.026030398905277252,
           1.9989229826933297e-7,
           4.3431103335933585e-7,
           2.199811177661104e-8,
           1.38686942818822e-7,
           7.128015226953721e-7,
           4.984432422361351e-8
          ],
          [
           0.8998165726661682,
           8.133891071793187e-8,
           2.591424674847076e-7,
           0.2046593278646469,
           1.3222985728589265e-7,
           3.3460699455645226e-7,
           3.7496356242172624e-8,
           1.2645897129459627e-7,
           9.318023330706637e-8,
           3.553640937070668e-8,
           2.74696780877548e-8,
           0.08755604922771454,
           1.1461533233614318e-7,
           1.730693242052439e-7,
           1.6018329063172132e-7,
           1.2591272025019862e-7,
           9.768362119189078e-9,
           7.103919585915719e-8
          ],
          [
           7.748398189733052e-8,
           1.494553032443946e-7,
           1.3067081283679727e-7,
           0.5418429374694824,
           1.3004251897541508e-8,
           1.4009708060314097e-8,
           9.20116605129806e-9,
           3.012609965935553e-7,
           2.932902987140551e-7,
           7.520240785652277e-8,
           0.928338885307312,
           0.005308135412633419,
           1.9460694034023618e-7,
           0.9015792012214661,
           1.899718782283344e-8,
           4.412073906223668e-7,
           0.9707474112510681,
           0.8295627236366272
          ],
          [
           0.9259634017944336,
           1.622946932400282e-8,
           7.146302749561073e-8,
           0.09136230498552322,
           1.4615323173927663e-8,
           0.8325815200805664,
           4.06213978010328e-8,
           3.733915718839853e-7,
           3.705436881773494e-7,
           2.718031453241565e-7,
           2.1371727143559838e-7,
           0.1345735788345337,
           1.3433911760785122e-7,
           2.3379077163099282e-7,
           1.3929958697644906e-7,
           3.2478979505867756e-7,
           1.0342263578877464e-7,
           1.3153668021459453e-7
          ],
          [
           5.833067575622408e-7,
           4.993887969817479e-8,
           4.083983071723196e-7,
           0.8357462882995605,
           2.628107438340521e-7,
           5.55203563123996e-8,
           1.1124777898885441e-7,
           3.2555894335928315e-7,
           5.629363641901364e-8,
           5.429660987488205e-8,
           0.8810015320777893,
           0.04752655699849129,
           0.7738065719604492,
           1.2598651721873466e-7,
           2.85494138552167e-7,
           1.2179371822185203e-7,
           1.1483432160730445e-7,
           9.036801884576562e-8
          ],
          [
           4.762281378134503e-7,
           2.1699287344745244e-7,
           2.4898207584556076e-7,
           0.006164855789393187,
           1.8399795465029456e-7,
           2.708354145397607e-7,
           1.4953063498523989e-7,
           1.2756875378272525e-7,
           5.84555870375425e-9,
           3.3440507252180396e-8,
           3.31069287540231e-7,
           0.3029577434062958,
           1.6955819148734008e-7,
           3.540429531767586e-7,
           3.3524602827128547e-7,
           6.453260681382744e-8,
           1.109007783384186e-7,
           1.738955859309499e-7
          ],
          [
           2.642797802820951e-8,
           8.14534999449279e-8,
           3.789849323254657e-9,
           0.07922890037298203,
           0.8268441557884216,
           4.9953044367612165e-8,
           2.522814952499175e-7,
           5.173614781028846e-8,
           0.8749211430549622,
           2.0611034656781158e-8,
           1.9176499677087122e-7,
           0.2124481350183487,
           1.947051586626003e-8,
           2.285223104081524e-7,
           6.902534437358554e-7,
           8.771370403337642e-7,
           2.1935855443189212e-7,
           1.2532223081507254e-7
          ],
          [
           2.4761524386462952e-8,
           7.351659547794043e-8,
           1.2324241538408387e-7,
           0.04054578021168709,
           1.4846511797728112e-9,
           5.87715511812803e-8,
           9.209384899122597e-8,
           2.1449706366638566e-7,
           1.1407441746769109e-7,
           8.95758578423056e-10,
           9.280901025476851e-8,
           0.022436656057834625,
           0.7950310707092285,
           1.2795863035819366e-8,
           3.19698528983281e-7,
           1.8128847045773e-7,
           2.2498497287415375e-8,
           2.9583663518906178e-8
          ],
          [
           1.023538374056443e-7,
           2.769765217180975e-7,
           4.579084844635872e-8,
           0.19303405284881592,
           8.053415001540998e-8,
           3.560532206847711e-7,
           5.118322476960202e-8,
           1.2107774693959072e-7,
           1.338685695628783e-8,
           7.218554998189575e-8,
           7.13805974328352e-8,
           0.15204334259033203,
           4.6534058384395394e-8,
           6.105360057517828e-7,
           1.8409720325962553e-7,
           2.1580920872565912e-7,
           2.205235887231538e-7,
           4.934474304718606e-7
          ],
          [
           1.4476103160632192e-7,
           6.166789745520873e-8,
           3.603325069434504e-7,
           0.061116572469472885,
           1.0888309276424479e-7,
           1.039007635483813e-8,
           3.1154581847658847e-7,
           7.185924744135264e-8,
           6.681791120399794e-8,
           2.8438897459182044e-8,
           1.1562153900968042e-7,
           0.31568408012390137,
           1.7757822945441148e-7,
           0.9441426396369934,
           2.557244727086072e-7,
           1.3117090702507994e-7,
           8.838141241085395e-8,
           1.5099348615876806e-7
          ],
          [
           8.822349428783127e-8,
           3.09245194785035e-7,
           5.368799449456674e-8,
           0.1921791136264801,
           2.3674621374425442e-8,
           6.083534742629126e-8,
           6.612494729552054e-8,
           1.5806459430223185e-7,
           4.4444118429964874e-7,
           2.911056924403965e-7,
           9.575354731339303e-9,
           0.020754588767886162,
           8.086313840749426e-8,
           1.0547216433565154e-8,
           3.5732676906263805e-7,
           3.564627775176632e-7,
           4.639344197698847e-8,
           7.002575586056992e-8
          ],
          [
           1.8076089247642813e-7,
           2.2805371813205966e-8,
           3.1527565624855924e-7,
           0.19221463799476624,
           2.4284753408210236e-7,
           1.4976011186718097e-7,
           3.500671752476592e-8,
           4.170592404761919e-8,
           1.2793530856924917e-7,
           8.241114102247593e-8,
           5.4920537451152995e-8,
           0.01535379234701395,
           1.52255310581495e-7,
           7.855308581383724e-8,
           1.1912378994338724e-7,
           0.000001101298039429821,
           1.1671381194844344e-8,
           2.143027266754416e-8
          ],
          [
           8.946756224759156e-8,
           3.695689940741431e-7,
           2.5051497232198017e-7,
           0.006367624271661043,
           2.6538455699665064e-7,
           4.39241247818245e-8,
           2.511830246021418e-7,
           1.3531574438729876e-7,
           2.413376023469027e-7,
           4.0481406671233344e-8,
           9.58437382791999e-8,
           0.00658479193225503,
           1.5146665077736543e-7,
           3.477323105016694e-7,
           6.190816748130601e-8,
           4.5890807598425454e-8,
           1.2795952386568388e-7,
           2.0369856912338946e-8
          ],
          [
           3.01832045579431e-7,
           4.4704115964577795e-8,
           2.0828350955071073e-7,
           0.0765661895275116,
           7.840182547624863e-8,
           1.4677536341878294e-7,
           1.547710581917272e-7,
           4.974449439032469e-7,
           3.116644009537595e-8,
           2.4512442564628145e-7,
           1.1438125113727438e-7,
           0.21207132935523987,
           5.4842819174893975e-9,
           6.257836275835871e-7,
           3.1212826456794573e-7,
           2.057258541299234e-7,
           9.352726948463896e-8,
           1.3351127847727184e-7
          ],
          [
           4.60149465197901e-8,
           2.2864490745178045e-7,
           2.9694181336026304e-8,
           0.06939314305782318,
           1.6284528214782767e-7,
           3.17775658231767e-7,
           7.918203692725001e-8,
           7.847689431628169e-8,
           4.5623671951489086e-8,
           1.3154780731383653e-7,
           7.971899584902076e-9,
           0.17612595856189728,
           1.8393896406010413e-9,
           4.5881414223458705e-8,
           3.4980337204615353e-7,
           0.8787711262702942,
           1.5124084029594087e-7,
           9.866587902251922e-8
          ],
          [
           2.3553320716018789e-7,
           1.2676443361669953e-7,
           2.6665652796964423e-8,
           0.1264491081237793,
           3.622038491357671e-7,
           1.1250476994462133e-8,
           7.375516730689924e-8,
           2.6147679932364554e-7,
           2.3098178303371242e-7,
           3.3411045041731313e-9,
           2.2831717672033847e-7,
           0.08940889686346054,
           1.5282435583685583e-7,
           2.406159271828301e-9,
           1.3861070513598861e-8,
           1.2953231021128886e-7,
           2.102434706330314e-7,
           3.3666022858369615e-8
          ],
          [
           1.1407723654599522e-8,
           3.457372486082022e-7,
           1.231384914035516e-7,
           0.05750834569334984,
           2.555488620714641e-8,
           1.149086692464607e-8,
           3.736179507995985e-7,
           4.035437939364783e-8,
           1.9241042537032627e-7,
           2.4323632885625557e-8,
           6.981761657698371e-8,
           0.014311503618955612,
           3.229251035463676e-7,
           1.9377598903247417e-7,
           4.496088479299942e-8,
           8.77015793321334e-8,
           0.8537578582763672,
           5.22896392851635e-10
          ],
          [
           4.237407935647752e-8,
           1.3005237775587375e-8,
           4.3106858527153236e-8,
           0.02338366210460663,
           6.656818385408769e-8,
           1.7319075951149898e-8,
           5.137952996392414e-8,
           4.205664083656302e-8,
           0.23707520961761475,
           0.18117143213748932,
           0.1907312273979187,
           0.2736411988735199,
           4.2932438049092525e-8,
           7.933370937962536e-8,
           3.436286277747058e-8,
           0.8904291987419128,
           6.244640360364428e-8,
           9.301485448531821e-8
          ],
          [
           1.5639982109405537e-7,
           3.56516878241564e-8,
           2.1693909957321011e-7,
           0.07591678947210312,
           3.9542703689221526e-7,
           3.293227734957327e-8,
           1.5760562632749497e-7,
           1.41339171477739e-7,
           2.792388329453388e-7,
           2.0270265110866603e-7,
           8.186236755136633e-8,
           0.5606974959373474,
           5.2074092593557e-8,
           1.7855768419394735e-8,
           1.581935578087723e-7,
           4.91350569120641e-8,
           1.874726152095718e-8,
           1.5406871511913778e-7
          ],
          [
           4.438788892002776e-9,
           1.0521846149913472e-7,
           0.9437626600265503,
           0.25754719972610474,
           1.8588167449706816e-8,
           1.2838009411098028e-7,
           1.2529469017863448e-7,
           5.927971002961385e-9,
           1.8285168934539797e-8,
           8.614423840924701e-9,
           3.4864498843489855e-7,
           0.2885248064994812,
           1.158259124167671e-7,
           4.626628822279599e-7,
           9.702937830979863e-8,
           1.3352821781609236e-7,
           2.7473845420900034e-7,
           5.994972696043988e-8
          ],
          [
           1.802015816565472e-7,
           2.3777018043347198e-7,
           3.550728067125419e-8,
           0.19227641820907593,
           6.693471732432954e-8,
           2.1175436870635167e-7,
           4.962252546647505e-7,
           1.309847448283108e-7,
           1.0551221230059582e-8,
           1.623233174541383e-7,
           4.699039379829628e-8,
           0.30373501777648926,
           2.3083713074356638e-7,
           1.9310137489014778e-8,
           1.0805439387695515e-7,
           6.720371743540454e-7,
           1.8549907565557078e-7,
           1.550670987171543e-7
          ],
          [
           9.687493474075382e-8,
           5.0819291885773055e-8,
           2.6286148369081275e-8,
           0.07882637530565262,
           1.959318929323217e-9,
           8.945634988322126e-8,
           4.016528265538e-8,
           1.0735441868803264e-8,
           1.14519338012542e-7,
           4.454922120089577e-8,
           4.720791366707999e-7,
           0.0552636981010437,
           7.451477586073452e-7,
           5.929474244936728e-9,
           7.535860646612491e-8,
           6.528727425347824e-8,
           1.406671312764729e-8,
           0.7586662173271179
          ],
          [
           2.518539377049933e-9,
           7.060808826508946e-8,
           7.043674798978827e-8,
           0.012403866276144981,
           7.330713458486571e-8,
           8.078210100848082e-8,
           2.122948927762991e-8,
           2.520980046938348e-7,
           9.30402279664122e-8,
           4.1222233448934276e-7,
           3.0561903230363896e-8,
           0.08958401530981064,
           1.399142490754457e-7,
           3.098918810451323e-8,
           4.064478957843676e-7,
           8.984029165048923e-8,
           4.0376033894062857e-7,
           2.0718636051242356e-7
          ],
          [
           5.519070711557106e-8,
           2.7337907226865354e-7,
           1.612088453839533e-7,
           0.1654699146747589,
           9.827598290712558e-8,
           4.1188746990883374e-7,
           1.0643539383181633e-7,
           6.656327933285411e-9,
           2.996224157669758e-9,
           1.2973733021226508e-7,
           2.2351821726829257e-8,
           0.021298300474882126,
           4.871930059380247e-7,
           2.3654304470710485e-7,
           2.259563700590661e-7,
           1.0451142884448927e-7,
           8.784724059296423e-8,
           0.7586662173271179
          ],
          [
           9.585816940216318e-8,
           3.4579917951305106e-7,
           3.519555207276426e-7,
           0.056797560304403305,
           7.90955994034448e-8,
           2.3081632605226332e-7,
           7.567355453375058e-8,
           4.8317755130256046e-8,
           0.8535216450691223,
           1.5776734585415397e-7,
           5.967309562038281e-7,
           0.17550304532051086,
           1.0527233529344926e-9,
           3.0774117476539686e-8,
           1.635445414649439e-7,
           1.0631323021925709e-7,
           1.7827343867793388e-7,
           7.829095949318798e-8
          ],
          [
           1.273747329832986e-7,
           7.665328638495339e-8,
           4.848984644922893e-7,
           0.01095484010875225,
           9.706294434863594e-8,
           1.764469104159616e-8,
           1.2053550335622276e-7,
           1.709532995164409e-7,
           1.0153791585310046e-8,
           6.025074128501728e-8,
           4.0401263845524227e-7,
           0.040546342730522156,
           8.041856602858388e-8,
           9.394484123959046e-8,
           1.6262418967016856e-7,
           6.605006319659878e-8,
           4.115613876365387e-7,
           1.4406359127860924e-7
          ],
          [
           1.3862602088465792e-7,
           7.608610275156025e-8,
           1.445824722168254e-7,
           0.1928396224975586,
           1.640149527304402e-8,
           1.1834404745059146e-7,
           1.7543375463446864e-7,
           9.65572297673134e-8,
           1.946868444235861e-9,
           8.093572034795216e-8,
           3.319153734082647e-7,
           0.21277299523353577,
           8.67722391717507e-8,
           1.025248579367144e-7,
           2.9894496833549056e-7,
           6.541355190847753e-8,
           1.7436590837860422e-8,
           1.9324372146911628e-7
          ],
          [
           1.8802842305376544e-7,
           1.7382578221258882e-7,
           1.1120324217017696e-8,
           0.008167815394699574,
           2.4800220899123815e-7,
           7.856530004346496e-8,
           0.9303538203239441,
           4.649453089200506e-8,
           3.3428176493544015e-7,
           1.904468120983438e-7,
           8.249808303162354e-8,
           0.0766318142414093,
           7.776143462479013e-8,
           7.708862170829889e-8,
           1.365502839689725e-7,
           5.759336829669337e-8,
           2.145339266235169e-7,
           1.505786073607851e-8
          ],
          [
           3.0234086345615196e-9,
           5.920161072481278e-8,
           2.0734905348263055e-8,
           0.1998903900384903,
           2.5605782383308906e-8,
           4.817547960556112e-7,
           1.0143924100702861e-7,
           1.9391939076740528e-7,
           7.47909822962356e-8,
           1.4113656732206437e-7,
           3.0738948453290504e-7,
           0.30404552817344666,
           7.877837049363734e-8,
           5.558825932894251e-7,
           3.378740416337678e-7,
           5.965219429526769e-8,
           2.0873038408808497e-7,
           2.504041596296247e-8
          ],
          [
           0.24511565268039703,
           0.16338707506656647,
           0.18549008667469025,
           0.12914717197418213,
           8.229027059769578e-8,
           3.705294915334889e-8,
           2.7987070438939554e-7,
           1.4385318536369596e-7,
           8.922862804183751e-8,
           1.501448139151762e-7,
           5.22090317645052e-7,
           0.45988544821739197,
           1.444171857656329e-7,
           2.441018693843944e-7,
           4.60535751756197e-8,
           3.255201761476201e-7,
           0.8762756586074829,
           1.3924476149895781e-7
          ],
          [
           0.22431637346744537,
           0.1634994000196457,
           0.23385082185268402,
           0.1146220713853836,
           1.6785591583357018e-7,
           9.066337014473902e-8,
           1.4963326577799307e-7,
           0.9306514859199524,
           1.4289713590187603e-7,
           8.627561953744589e-8,
           3.018817551492248e-8,
           0.1130262240767479,
           2.059364589968027e-8,
           1.7267319663005765e-7,
           7.871227580835694e-8,
           1.5586239499043586e-7,
           2.8208518187966547e-8,
           1.226063943704503e-7
          ],
          [
           1.6616502307442715e-7,
           3.811957753896422e-7,
           2.0520911903076922e-7,
           0.19358395040035248,
           2.887733216994093e-7,
           5.3467434923959445e-8,
           3.344206334077171e-8,
           1.0189074828304001e-7,
           1.69275423900217e-7,
           2.8748661407007603e-7,
           3.656246860828105e-7,
           0.3040531873703003,
           1.634301298736318e-7,
           7.973088145263318e-8,
           4.475970456496725e-7,
           1.8996247774794028e-7,
           4.221897711431666e-7,
           1.0855593046699141e-7
          ],
          [
           8.07933488999879e-8,
           3.3191858506143035e-7,
           3.7907717853613576e-8,
           0.009044290520250797,
           2.776233820611651e-8,
           8.364851034059484e-9,
           0.9303526282310486,
           4.3668410398822743e-7,
           7.37223615487892e-8,
           2.6578327094739507e-8,
           9.186255311988134e-8,
           0.21132177114486694,
           1.0315983445252641e-7,
           2.4405155674145362e-9,
           1.7635203164445556e-7,
           5.701932650481467e-7,
           2.2938105814773735e-7,
           1.1744303307636983e-8
          ],
          [
           7.360083031926479e-8,
           1.7539676377964497e-8,
           3.188576513935004e-8,
           0.8437925577163696,
           5.7012897514141514e-8,
           4.3893400913930236e-8,
           6.850333278407561e-8,
           2.8186951794850756e-7,
           4.091523564397903e-8,
           2.2995281767634879e-7,
           1.1382964792971961e-8,
           0.213540181517601,
           8.602796697232407e-8,
           9.003080947422859e-8,
           4.0896696873460314e-7,
           4.0517542743145896e-7,
           2.3889791123110626e-7,
           2.50034162263546e-7
          ],
          [
           1.0833645092134248e-7,
           2.5042456286428205e-7,
           1.4442818496718246e-7,
           0.009448193944990635,
           3.382774949045597e-8,
           9.695589220370948e-9,
           9.278356571940094e-8,
           3.3346498895525656e-8,
           4.100201067558373e-8,
           5.7760427552011606e-8,
           6.591112367004826e-8,
           0.30597785115242004,
           1.2872578736278228e-7,
           3.182347541041963e-8,
           2.3670287419008673e-7,
           3.2319559295501676e-7,
           7.636248255948885e-8,
           1.2805473659227573e-7
          ],
          [
           2.484593721874262e-7,
           6.135703500831369e-8,
           2.795085762841154e-8,
           0.14419275522232056,
           3.4929062309174697e-8,
           7.229845522260803e-8,
           3.3134506338683423e-7,
           6.350878933858439e-9,
           7.343035690610122e-8,
           2.3835873719235678e-7,
           2.4184291902429322e-8,
           0.019059836864471436,
           5.4211980682339345e-8,
           0.9137374758720398,
           4.856139526054903e-7,
           2.6410198472603952e-8,
           9.346121032649535e-8,
           0.775468647480011
          ],
          [
           3.515853919111578e-8,
           9.022927116575374e-8,
           0.9437621235847473,
           0.3141554892063141,
           9.551915525207733e-8,
           2.977836643935916e-8,
           1.9685924002033062e-8,
           3.8812709135527257e-7,
           6.726487367103573e-9,
           1.1740753080857758e-7,
           4.199843317564955e-8,
           0.06567834317684174,
           6.078961689581774e-8,
           2.2264181609443767e-7,
           1.8873363671900734e-7,
           1.438807029074951e-8,
           2.1117003257131728e-7,
           3.247393465244386e-8
          ],
          [
           1.329383820802832e-7,
           3.1211351370075135e-7,
           3.4698725670523345e-8,
           0.19231964647769928,
           1.1378043751619771e-7,
           1.8995216066741705e-7,
           6.94804214163014e-8,
           2.6019904453278286e-7,
           1.295105676035746e-7,
           2.556785716478771e-7,
           9.428541147826763e-8,
           0.9991174340248108,
           9.395779443366337e-8,
           1.3350887684282498e-7,
           4.649347999929887e-7,
           7.483460962021127e-8,
           1.8517529554173962e-7,
           5.1229562814114615e-8
          ],
          [
           1.3926380404427618e-7,
           1.1494205409690039e-7,
           1.367326518675327e-7,
           0.025836577638983727,
           2.424906710984942e-7,
           1.4802429504356951e-8,
           1.7196734347635356e-7,
           2.068459536985756e-7,
           1.943639027501831e-8,
           8.1406390961547e-8,
           0.9229518175125122,
           0.41627687215805054,
           9.976088932717175e-8,
           5.996439256250596e-8,
           8.995695566227369e-8,
           2.57387483770799e-7,
           1.3415407806860458e-7,
           1.0138667505543708e-7
          ],
          [
           0.02124534547328949,
           0.8833362460136414,
           2.752553882601205e-7,
           0.1366034746170044,
           2.0150007173924678e-7,
           3.653996571983953e-8,
           2.1540261130326144e-8,
           9.092791231068986e-8,
           2.2613738792642835e-7,
           9.71411466821337e-8,
           4.3367873558963765e-7,
           0.03551341965794563,
           0.8620873093605042,
           1.197381607198622e-7,
           3.243733033286844e-7,
           6.962312113500957e-7,
           3.5876234960596776e-7,
           1.3566999967906668e-8
          ],
          [
           1.7785254158297903e-7,
           5.526173936232226e-7,
           4.395182884309179e-8,
           0.0024104344192892313,
           1.8609011931403074e-7,
           5.216876957092609e-7,
           1.1084203066502596e-7,
           1.5262993713349715e-7,
           5.1447496929313274e-8,
           1.2274621496999316e-7,
           2.8627242798506813e-8,
           0.49485182762145996,
           0.7950310707092285,
           2.844253685907461e-7,
           4.0077327412291197e-7,
           1.8169114923693996e-7,
           2.827481466738391e-7,
           5.18327532006424e-8
          ],
          [
           1.6369695288176445e-7,
           2.996262082888279e-8,
           4.2679971556935925e-8,
           0.07666920125484467,
           9.926314703534445e-8,
           1.1130507182599558e-8,
           6.340660263504105e-8,
           1.3347634997273872e-8,
           5.9239066985128375e-8,
           3.4794599201859455e-8,
           1.2623654299659393e-7,
           0.30366963148117065,
           7.064918605692583e-8,
           3.12024013737755e-7,
           1.3572947921147716e-7,
           2.022999154860372e-7,
           2.9714479410358763e-7,
           3.8122610135360446e-7
          ],
          [
           1.3842452517565107e-7,
           3.191772890431821e-8,
           2.507191538825282e-7,
           0.19222480058670044,
           2.1256019167026352e-8,
           8.180753496844773e-8,
           1.9240196991177072e-7,
           2.92129538337349e-8,
           1.2898404122552165e-7,
           2.6666070240821682e-8,
           7.076079810985902e-8,
           0.30389755964279175,
           5.006976380173e-7,
           8.047451416359763e-8,
           4.7328214236586064e-7,
           1.0720099474781364e-8,
           4.3512648062460357e-7,
           4.294581046337953e-8
          ],
          [
           8.552037300546544e-9,
           8.256984784793531e-8,
           1.9840902254486537e-8,
           0.1926451027393341,
           1.0047127574352999e-7,
           4.923695087200031e-7,
           6.588172785093604e-10,
           5.749242149022393e-8,
           1.6991515394693124e-7,
           1.0904867053795897e-7,
           4.620521210085826e-8,
           0.08901488035917282,
           2.396015474914748e-7,
           2.474343716585281e-7,
           3.7921216744507547e-7,
           1.5847776069222164e-7,
           1.755983305429254e-7,
           4.8394525720141246e-8
          ],
          [
           8.772498460984934e-8,
           1.5173366563203672e-8,
           3.1502910502467785e-8,
           0.007318372372537851,
           3.0658816285722423e-7,
           1.682678885117639e-8,
           4.753211868546714e-8,
           2.07427386378356e-9,
           9.061034589308292e-9,
           1.4906468948083784e-7,
           1.4272995230157903e-8,
           0.03755076602101326,
           1.4446854379457363e-7,
           4.2375395992166887e-7,
           3.3582853831148896e-8,
           4.2308184333705867e-7,
           1.3505894003174035e-7,
           2.456318952681613e-7
          ],
          [
           3.120818519164459e-7,
           4.0639656617713626e-7,
           1.0112957227192965e-7,
           0.09683772176504135,
           5.489380328072002e-7,
           3.4066850673752924e-8,
           8.778575200096839e-9,
           2.8936716489624814e-7,
           1.4553468474787223e-7,
           8.003793539046455e-8,
           1.6296593230435974e-7,
           0.042017120867967606,
           2.9402794865518445e-8,
           1.0235345371256699e-7,
           8.682130925308229e-8,
           8.65651283987745e-9,
           7.813888203145325e-8,
           4.552687826731017e-8
          ],
          [
           7.793227752017629e-8,
           1.3487073147189221e-7,
           1.303707648503405e-7,
           0.005355078261345625,
           2.3297369011743285e-7,
           9.239688125717294e-8,
           3.580860550300713e-7,
           4.888100235689308e-8,
           6.508250294245954e-8,
           6.281962896537152e-7,
           1.892464354114054e-7,
           0.09148792922496796,
           1.4548916738021944e-7,
           5.921239054629268e-9,
           1.490003427306874e-7,
           1.3566756251748302e-7,
           0.8537579774856567,
           4.219229055024698e-8
          ],
          [
           2.743446714248421e-7,
           3.157187844493592e-10,
           2.733856661052414e-7,
           0.09272002428770065,
           3.406426571928023e-7,
           9.923984833903887e-8,
           4.9814225633326714e-8,
           9.056961403075547e-8,
           7.026827830713955e-8,
           1.050233962018865e-7,
           1.627956720540169e-7,
           0.48184847831726074,
           1.0526941451871608e-7,
           1.9693702668632795e-8,
           5.587823181940621e-8,
           7.357279514508264e-7,
           3.868657074690418e-7,
           8.979817778254073e-9
          ],
          [
           4.803703035349827e-8,
           3.3607523430845276e-9,
           0.9033674597740173,
           0.5103490352630615,
           1.7132787633045155e-8,
           7.30783824565151e-8,
           4.5735586695627717e-7,
           8.855837307919501e-8,
           0.9109930992126465,
           2.328052595146346e-8,
           2.709724924443435e-7,
           0.027143968269228935,
           1.1829044410660572e-8,
           7.566569593109307e-7,
           5.325210139517367e-8,
           3.611401382386248e-7,
           1.9594985189996805e-7,
           1.3745903970630025e-7
          ],
          [
           9.752596952239401e-8,
           2.3426418138683403e-8,
           4.4706450808007503e-7,
           0.6035386323928833,
           0.8722253441810608,
           7.520931433191436e-8,
           6.32300114489226e-8,
           2.83817314539192e-7,
           3.9572920940145195e-8,
           8.156606412512701e-8,
           2.3493443634947653e-8,
           0.011525589972734451,
           3.14210893748168e-7,
           4.4635089579969645e-7,
           2.5624885324759816e-7,
           6.207976355199207e-8,
           7.515427569160238e-8,
           1.5221070270854398e-7
          ],
          [
           0.27827152609825134,
           0.1678985208272934,
           0.18257904052734375,
           0.5959066152572632,
           1.8842992233203404e-7,
           3.3152196010632906e-7,
           3.7055241364214453e-7,
           9.61287653922227e-8,
           3.156161483275355e-7,
           1.7817616537740832e-7,
           1.985631286061107e-7,
           0.11155431717634201,
           1.2845879382439307e-7,
           3.797694603235868e-8,
           0.8688744306564331,
           9.307038340011786e-8,
           1.6282365322695114e-7,
           1.5605316150413273e-7
          ],
          [
           1.697960243518537e-7,
           3.048533301353018e-7,
           5.905545563678061e-8,
           0.5527217984199524,
           3.095554745868867e-7,
           5.485824416950891e-8,
           3.6981082640608065e-9,
           3.354923094889273e-8,
           5.0251657057742705e-8,
           9.040456916409312e-8,
           3.5045761848095935e-8,
           0.03877456113696098,
           1.4456080066338473e-7,
           1.555034572220393e-7,
           1.1488637596812623e-7,
           5.795918696094304e-7,
           5.334625541308924e-8,
           1.3457815839501563e-7
          ],
          [
           1.8264069012730033e-7,
           6.060206203528651e-8,
           2.444902236220514e-7,
           0.1928965449333191,
           3.5261996345070656e-7,
           4.094097505458194e-8,
           2.3697461415395082e-7,
           2.92947504476615e-7,
           3.9716351807328465e-7,
           3.938561690119968e-7,
           4.981147583293932e-8,
           0.2125164121389389,
           6.029609522784085e-8,
           8.895577963130563e-8,
           1.4904030010143288e-8,
           4.4976002300245455e-7,
           5.556563209552223e-8,
           3.779612711696245e-8
          ],
          [
           7.956965752953238e-9,
           1.5358739346993389e-7,
           4.2337646277701424e-8,
           0.1261681765317917,
           6.440708375521353e-7,
           5.551963866423648e-8,
           2.2728822557382955e-7,
           1.1898492857653764e-7,
           3.160975836635771e-8,
           2.8755279046777105e-8,
           6.873781188687644e-8,
           0.00560613302513957,
           3.0171983667059976e-7,
           3.643092441052431e-7,
           1.612648361515312e-7,
           5.2124867977454414e-8,
           2.2271468935741723e-7,
           3.9083392522343274e-8
          ],
          [
           2.307734625617286e-8,
           9.400938694170691e-8,
           2.5260135316784726e-8,
           0.03997169807553291,
           3.373232857484254e-7,
           1.620951017855532e-8,
           5.867633934286687e-9,
           2.4960142397389973e-8,
           6.582982337022258e-8,
           2.3270082749604626e-7,
           7.262324430712397e-8,
           0.04706320911645889,
           0.7950310111045837,
           7.425560966112243e-8,
           1.7481315239820105e-7,
           4.725281499418088e-8,
           2.6148680376536504e-7,
           1.6455550166938337e-7
          ],
          [
           0.8998167514801025,
           3.8936175883463875e-7,
           8.621347546977631e-8,
           0.03696519508957863,
           2.600530706331483e-7,
           1.0669875649682581e-8,
           8.352324698535085e-8,
           1.5386524410132552e-7,
           2.430803363040468e-7,
           1.5787274776357663e-7,
           2.4654841013216355e-7,
           0.13485285639762878,
           1.2994297549084877e-7,
           9.490674415246758e-7,
           1.6817379844269453e-7,
           1.848298181172936e-9,
           4.481121891330986e-7,
           1.1571950508937334e-8
          ],
          [
           6.249187833873293e-8,
           7.624330056188455e-10,
           7.279366798229603e-8,
           0.1662529855966568,
           3.842922637886659e-7,
           7.059198736669714e-8,
           4.862594593646463e-8,
           1.2598053444889956e-7,
           2.748004135355586e-7,
           2.396561455952906e-7,
           2.216050454251217e-8,
           0.04454144462943077,
           2.2526042187109852e-7,
           5.551421367044895e-8,
           6.933015583854285e-8,
           3.320014627661294e-7,
           2.1836116559370566e-7,
           3.65741747998527e-9
          ],
          [
           3.573472895368468e-7,
           1.5762549310238683e-7,
           2.1998090460328967e-8,
           0.0810517966747284,
           4.3696235962897845e-8,
           7.135831037174967e-9,
           6.312903622074373e-8,
           9.815231294396654e-8,
           4.4213328465048107e-7,
           6.512600947417013e-8,
           2.044768088182991e-8,
           0.05461878329515457,
           0.8820757269859314,
           1.130051163755752e-8,
           9.860928429361593e-8,
           9.792218236270855e-8,
           1.1292457458011995e-7,
           0.7791825532913208
          ],
          [
           3.3791575759778425e-8,
           6.140078223637602e-9,
           9.361674102592588e-9,
           0.07629315555095673,
           5.8156281568244594e-8,
           7.857332207095169e-8,
           1.0280895246239652e-8,
           2.768761930838082e-7,
           2.3759723433158797e-7,
           2.9766656695073834e-8,
           2.3768977541749337e-7,
           0.08766472339630127,
           1.674156493436385e-7,
           3.774318102500729e-8,
           2.401728238510259e-7,
           3.637398293676597e-8,
           1.0195403632451416e-7,
           6.670133245734178e-8
          ],
          [
           8.893748315585981e-8,
           7.848398553278457e-8,
           3.706930584712609e-8,
           0.1417170614004135,
           0.8722236156463623,
           5.3821281653654296e-8,
           1.1255063014914413e-7,
           2.3795956849426148e-7,
           2.549250588401719e-8,
           1.1928497656299442e-7,
           7.667787116361069e-8,
           0.0015646384563297033,
           5.471624930919461e-9,
           2.745624669842073e-7,
           4.871166936482041e-8,
           2.3842078533675704e-8,
           5.6701665585023875e-8,
           8.084306557520904e-8
          ],
          [
           1.547254946387966e-8,
           1.2075449262738402e-7,
           7.787434697092976e-8,
           0.012611845508217812,
           1.3948044852440944e-7,
           4.380475004950313e-8,
           4.5565050754703407e-7,
           2.1773658431811782e-8,
           8.120267125377723e-8,
           2.3310136043619423e-7,
           1.3723349923111527e-7,
           0.009411032311618328,
           4.784196789842099e-7,
           5.977389605504868e-8,
           2.9054754691060225e-7,
           2.7412383474256785e-8,
           1.2828874673687096e-7,
           1.4107786228123587e-7
          ],
          [
           2.7898686028038355e-8,
           3.450237215929519e-7,
           1.0326606059152255e-7,
           0.06006166711449623,
           5.994743190740337e-8,
           4.478427229059889e-8,
           3.317961727589136e-7,
           1.5656365093263958e-8,
           2.673158938648612e-8,
           2.73974070097438e-8,
           5.6926054980976915e-8,
           0.1539265513420105,
           1.532291804551278e-7,
           0.9441426992416382,
           3.3001066412907676e-7,
           2.0667432920618012e-7,
           8.09811950830408e-9,
           1.273823926339901e-7
          ],
          [
           5.5949683996914246e-8,
           4.8595904189596695e-8,
           7.38475804951122e-8,
           0.07650119066238403,
           2.3280823313598376e-7,
           6.275752806317314e-9,
           7.270186586083582e-8,
           1.9866513412125641e-7,
           1.7919948902545002e-7,
           1.2661084269893763e-7,
           2.541177401838013e-8,
           0.00712375994771719,
           1.1274257616378236e-7,
           1.1180048176129276e-7,
           4.452911284147376e-8,
           2.0742578499266529e-7,
           1.0912883396940742e-7,
           2.484727588125679e-7
          ],
          [
           0.2667902410030365,
           0.16654154658317566,
           0.16015447676181793,
           0.1629389226436615,
           3.790156313243642e-7,
           2.015976008351572e-7,
           1.3983425617425382e-7,
           3.767712541957735e-8,
           2.07251193984348e-8,
           1.1055556470296324e-8,
           7.753497754947603e-8,
           0.025833256542682648,
           3.3289037304484737e-8,
           2.40832321196649e-7,
           9.037666615085982e-8,
           9.911104115190028e-8,
           1.837069696364324e-8,
           1.3699163048386254e-7
          ],
          [
           2.0006879708489578e-7,
           1.3316628155735089e-7,
           3.886920652007575e-8,
           0.201541006565094,
           1.1765899188276308e-7,
           5.449002671298331e-8,
           7.710046645570401e-8,
           1.9052672328712106e-8,
           3.6315704221578926e-8,
           3.460980479985665e-8,
           2.0580489490384934e-7,
           0.04096252843737602,
           1.0533045724514523e-7,
           3.104964605427085e-7,
           5.5927738884520295e-8,
           4.5373218426902895e-7,
           5.462640615405689e-7,
           1.0953083062759106e-7
          ],
          [
           1.8473934915164136e-7,
           6.132220509158515e-9,
           3.2642205383126566e-8,
           0.0290659349411726,
           2.2877671312926395e-7,
           7.693904535699403e-8,
           1.0927869276144975e-8,
           5.340759301475373e-8,
           2.1834280516941362e-7,
           1.8096288556535e-7,
           4.29578648208917e-7,
           0.09947402030229568,
           7.946873381570185e-8,
           3.168525495311769e-7,
           5.161805560760513e-8,
           4.2651453924236193e-8,
           1.3602816295588127e-7,
           0.7586662173271179
          ],
          [
           1.424691475904183e-7,
           4.48149592102709e-7,
           5.3566481028610724e-8,
           0.051572754979133606,
           0.8722231984138489,
           3.3645929420345055e-7,
           5.676279002386764e-8,
           2.6748102754936554e-7,
           1.8278038282915077e-7,
           1.454888547414157e-7,
           6.63991741589598e-8,
           0.3000378906726837,
           4.327576164087077e-7,
           3.623989641710068e-7,
           1.9034926523886497e-8,
           1.3368166662530712e-7,
           7.276501037267735e-7,
           2.8437131049940945e-7
          ],
          [
           6.753693071459566e-8,
           3.652322533298502e-8,
           1.984911648378329e-7,
           0.19353780150413513,
           1.889876699578963e-7,
           1.7654394923738437e-7,
           7.755055975167124e-8,
           1.0517239701357539e-7,
           3.0488427338326574e-9,
           9.557251701153291e-8,
           1.0699000085878652e-7,
           0.009519312530755997,
           2.0765801878042112e-7,
           1.6252639056801854e-7,
           7.352542752414593e-8,
           1.620577307903659e-7,
           7.121719818314887e-7,
           4.534610908990544e-8
          ],
          [
           3.261245637986576e-7,
           2.9970524906275386e-7,
           1.2328681009421416e-7,
           0.011809727177023888,
           3.2176757258639554e-7,
           7.27750872897559e-8,
           9.721273386276152e-8,
           1.3553486155615246e-7,
           2.9489117991943203e-7,
           2.924801911774466e-8,
           1.8637449272773665e-7,
           0.0534076951444149,
           5.46407541435201e-8,
           9.447905426895886e-7,
           5.550960509026481e-7,
           9.251868249293693e-8,
           2.211723426626122e-7,
           1.5341291259574064e-7
          ],
          [
           0.2667917311191559,
           0.16654230654239655,
           0.1601516753435135,
           0.11899252235889435,
           1.804370555191781e-7,
           9.70494440366565e-9,
           1.0724346566348686e-7,
           8.798378559049524e-8,
           1.031195324685541e-7,
           1.3228225625994128e-8,
           2.3873823806752625e-7,
           0.14122307300567627,
           1.9871858825126765e-8,
           6.419288212100582e-9,
           1.1726203297257598e-7,
           1.263799163098156e-7,
           1.6513527612005419e-7,
           4.85897189150819e-8
          ],
          [
           2.456554515362086e-9,
           3.651517488378886e-8,
           8.876172330474219e-8,
           0.639385998249054,
           8.786061300725123e-8,
           7.826336911875842e-9,
           4.76959733930471e-8,
           5.038001305024409e-8,
           3.389333755876578e-7,
           4.2830052393583173e-8,
           0.8810014724731445,
           0.00440860353410244,
           0.773806631565094,
           3.303389917164168e-8,
           1.4100971057473544e-8,
           1.6582626827243985e-8,
           2.1322220788988488e-7,
           8.37648954643555e-8
          ],
          [
           7.791395262302103e-8,
           1.1351507289703022e-8,
           1.6712006001284863e-8,
           0.08924452215433121,
           7.45448005545768e-8,
           1.8982430560754437e-7,
           1.3236744678124523e-7,
           0.9341828227043152,
           1.3129010767443106e-7,
           1.8055722250664985e-7,
           5.72111353847049e-8,
           0.03633300960063934,
           2.412645727645213e-8,
           6.892996395890805e-8,
           5.393538060616265e-8,
           2.647583983161894e-7,
           3.191397865975887e-7,
           1.0295728003484328e-7
          ],
          [
           3.207034353636118e-7,
           9.988268345750839e-8,
           2.5197852693281675e-8,
           0.026210980489850044,
           9.583025928350253e-9,
           9.662432631785123e-8,
           6.837604615839155e-8,
           1.1660463172802338e-7,
           2.0331742689450039e-7,
           6.983950839867248e-8,
           9.160071812175374e-8,
           0.10152586549520493,
           3.4231254630867625e-7,
           2.1971813168875087e-7,
           0.8526515364646912,
           3.4754697253447375e-7,
           3.326586295315792e-7,
           2.821022304644316e-9
          ],
          [
           2.7749939590648864e-7,
           1.6447923201212689e-7,
           1.2275117455828877e-7,
           0.5526463389396667,
           3.800798822339857e-7,
           1.360958776785992e-7,
           2.9884878927077807e-7,
           8.701889697704246e-8,
           8.721502808839432e-8,
           7.347450150518853e-7,
           1.4208977461294126e-7,
           0.0031874324195086956,
           9.455108340716833e-8,
           3.655793179291322e-8,
           8.854869548713395e-8,
           2.933045095687703e-8,
           1.8781744870466355e-7,
           4.4093622086904816e-9
          ],
          [
           7.504010568482045e-8,
           2.387655797519983e-7,
           1.5900849348327029e-7,
           0.1262405514717102,
           8.505109150291901e-8,
           6.011919850834602e-8,
           5.145744097490024e-8,
           9.377358622941756e-8,
           4.231156935929903e-8,
           1.1454535808752553e-7,
           3.368476697573897e-8,
           0.08827979117631912,
           2.6282421572432213e-8,
           2.4501970230517145e-8,
           8.689082875434906e-8,
           2.4844837298587663e-7,
           1.0082787937903959e-8,
           2.591581846900226e-7
          ],
          [
           1.7738630120334165e-8,
           8.097094905679114e-8,
           0.9437631964683533,
           0.3128027021884918,
           1.0630802904643133e-7,
           1.060343848280354e-7,
           1.88506330545124e-8,
           3.739821963222312e-8,
           1.4510761481290047e-8,
           5.047659215051681e-7,
           3.9218690517373034e-7,
           0.06539031118154526,
           1.3700339707156672e-7,
           4.1591615485003786e-8,
           1.6109213163417735e-7,
           8.872425638628556e-8,
           4.353881593033293e-7,
           5.2254538474016954e-8
          ],
          [
           2.6398437213970283e-8,
           3.5751477867052017e-7,
           7.331318130354703e-8,
           0.0312543585896492,
           1.9379596949420375e-7,
           9.524998034748933e-8,
           3.0304047271556556e-8,
           9.242315002211399e-8,
           6.287433507168316e-8,
           6.919427164575609e-8,
           2.305621364939725e-7,
           0.040577564388513565,
           2.7048500328419323e-8,
           8.348996516360785e-8,
           0.9506043195724487,
           7.497150278368281e-8,
           0.8380183577537537,
           0.7726622819900513
          ],
          [
           0.37793922424316406,
           0.12360063195228577,
           0.10188702493906021,
           0.14575916528701782,
           8.131007689371472e-8,
           1.2027982165818685e-7,
           1.3990541170016968e-8,
           4.114865959081726e-8,
           1.3279678512390092e-7,
           8.740222057213032e-8,
           5.377906120429543e-8,
           0.12135262787342072,
           0.8079376220703125,
           3.041962770566897e-7,
           2.531990901388781e-7,
           5.568218170992623e-7,
           1.801791427169519e-7,
           3.7555128074018285e-7
          ],
          [
           1.5224481231257414e-8,
           1.3703713364066061e-7,
           2.631433382305204e-8,
           0.06740988045930862,
           1.7003574726004445e-7,
           0.8804388046264648,
           3.649797264415611e-8,
           2.32153908541477e-7,
           1.3127190356954088e-7,
           5.853775064679212e-8,
           4.521371366195126e-8,
           0.21774142980575562,
           5.3732076565893294e-9,
           9.776479004131033e-8,
           5.4549094130607045e-8,
           6.078430203615426e-8,
           2.3065724974458135e-7,
           1.0719322318664126e-7
          ],
          [
           1.4871103815039532e-7,
           2.858889658341468e-8,
           1.7801524165861338e-7,
           0.09630279988050461,
           9.87623778314628e-8,
           6.91890917892124e-8,
           8.878932078459911e-8,
           7.819139113962592e-8,
           1.599996402035231e-8,
           1.4127792269391648e-7,
           1.7828548948273237e-7,
           0.004919249098747969,
           3.9742545254739525e-8,
           1.0542406414515426e-7,
           6.772459926196461e-8,
           2.4190123681933073e-8,
           3.765239000586007e-7,
           3.852289580663637e-7
          ],
          [
           9.237349551938223e-9,
           2.421033329369493e-8,
           1.2993859854759648e-7,
           0.5531688332557678,
           9.642519671615446e-8,
           1.7994203460602876e-7,
           6.582688172329654e-8,
           1.2866881604622904e-7,
           8.31972855053209e-8,
           1.131146589727905e-7,
           3.531907850629068e-7,
           0.30443075299263,
           1.9563212561024557e-7,
           1.7236807536846754e-7,
           1.65019571340963e-7,
           3.232912604289595e-7,
           1.4124123026704183e-7,
           1.8688018244006344e-8
          ],
          [
           1.3912786300807056e-7,
           2.622635975058074e-7,
           4.0364763975730966e-8,
           0.1928572654724121,
           2.0902136554923345e-7,
           7.8634606381911e-8,
           1.9941836626458098e-8,
           1.3775293439266534e-7,
           2.843491131443443e-7,
           5.946535708289957e-8,
           2.6922228357761924e-7,
           0.01562158577144146,
           3.1827647717364016e-7,
           2.7245184242019604e-7,
           1.7270058094709384e-7,
           2.8524961948050986e-8,
           1.2213200761834742e-7,
           3.8110513855826866e-7
          ],
          [
           3.378785322638578e-7,
           1.0432908226221116e-7,
           1.088579537622536e-7,
           0.09730677306652069,
           1.2729661591492913e-7,
           3.3285303402408317e-7,
           3.4378849989025184e-8,
           1.0263531891041566e-7,
           2.651895272265392e-7,
           5.663640578745799e-8,
           1.5031274003263206e-8,
           0.00371596310287714,
           4.3886827505446036e-9,
           1.8373725652054418e-7,
           8.510097870839672e-8,
           2.7842057193083747e-7,
           1.8536769630372874e-7,
           1.0572571795819385e-7
          ],
          [
           1.4639749679190572e-7,
           3.4189554298791336e-7,
           1.654970915865306e-8,
           0.11765724420547485,
           1.9384900795671456e-8,
           0.8804359436035156,
           1.3848749347289413e-7,
           6.141159047956535e-8,
           6.122915863215894e-8,
           4.7776751443961984e-8,
           9.304666370724135e-9,
           0.024748044088482857,
           6.007348929415457e-8,
           3.869475406759193e-8,
           5.798392521683127e-7,
           2.713789548636214e-8,
           1.7576972766164545e-7,
           1.3517177421817905e-7
          ],
          [
           1.5373001360785565e-7,
           3.651337010524003e-8,
           3.652685336419381e-7,
           0.1261390596628189,
           4.331132004153915e-7,
           9.586750593371107e-8,
           1.0944805062251817e-9,
           3.1275666856345197e-7,
           1.2276191796445346e-7,
           1.9017325314507616e-7,
           1.6507446787272784e-7,
           0.19868160784244537,
           2.716819835768547e-7,
           7.76796582613315e-8,
           9.42401179315766e-9,
           1.656645736147766e-7,
           3.0153213970152137e-7,
           1.2608860799900867e-7
          ],
          [
           7.48861026522718e-8,
           8.335789658531212e-8,
           1.6681823922226613e-7,
           0.5526528358459473,
           9.105957587962621e-8,
           1.1465915150665751e-7,
           8.022357178560924e-8,
           3.2755332313172403e-7,
           1.327475160906033e-7,
           1.9512842186486523e-7,
           7.791007305968378e-8,
           0.30432119965553284,
           1.332622900918068e-7,
           6.117829798313323e-7,
           4.385070155876747e-7,
           1.7647907668560947e-7,
           3.496344334052992e-7,
           1.445662860533048e-7
          ],
          [
           6.500675908682751e-8,
           3.956354532874684e-8,
           1.3817266619753354e-7,
           0.004582721274346113,
           4.466124181590203e-8,
           1.1890024964600343e-8,
           1.028152230020396e-8,
           6.646441619295729e-8,
           1.7217685410741979e-7,
           9.287595759133183e-8,
           7.22637523153935e-8,
           0.03982085362076759,
           2.312100022550112e-8,
           2.8357169412629446e-7,
           1.2340778710040468e-7,
           7.85784209256235e-7,
           2.497915545518481e-7,
           6.759902504427373e-8
          ],
          [
           3.973382689537175e-8,
           1.2616644085028383e-7,
           3.1121385291044135e-7,
           0.1932077556848526,
           8.529285366876138e-8,
           4.930036112682501e-8,
           3.7486029214051086e-7,
           2.3833779394522026e-8,
           4.86765614482465e-8,
           9.93449873476493e-8,
           1.581108577397572e-8,
           0.003650130471214652,
           3.623290112386712e-8,
           2.3865371190368023e-7,
           7.869974893992548e-9,
           2.040272306658153e-7,
           4.309908163691034e-8,
           2.98099323003953e-8
          ],
          [
           1.6508953137872595e-7,
           4.58343606624112e-7,
           3.080118560205847e-8,
           0.07655002176761627,
           3.7306168820805397e-8,
           1.2802468063455308e-7,
           2.2686823797357647e-7,
           3.5898854999771856e-9,
           2.413198387785087e-7,
           2.6206947723039775e-7,
           8.570106757588292e-8,
           0.30428990721702576,
           3.332457509941378e-8,
           9.31354236399784e-7,
           3.925904366042232e-7,
           2.773388700916257e-7,
           4.867526470775374e-8,
           1.5861536439842894e-7
          ],
          [
           3.217097628294141e-7,
           6.92525716772252e-8,
           8.97286014378551e-8,
           0.24456676840782166,
           2.567362100691639e-9,
           1.1239824004860566e-7,
           0.9303524494171143,
           2.0530890765257936e-7,
           3.6214501619724615e-8,
           1.2698924933829403e-7,
           2.1747998957266645e-8,
           0.21096673607826233,
           7.281379765800011e-8,
           1.5956716481468902e-7,
           4.857660229617977e-8,
           4.51455434813397e-7,
           4.062247001002106e-7,
           6.717222618135565e-7
          ],
          [
           1.7738070567929753e-8,
           6.830440923977221e-8,
           0.943763017654419,
           0.2048928141593933,
           1.9236770754105237e-7,
           4.986355151004318e-8,
           6.243470807021367e-8,
           9.363119346517124e-8,
           4.819610310846656e-8,
           5.09067632492588e-8,
           2.2608372773902374e-7,
           0.485166996717453,
           6.399938712320363e-8,
           8.722281563677825e-8,
           9.126966915573576e-8,
           8.621833913480259e-9,
           3.52330232544773e-7,
           3.005727080562792e-7
          ],
          [
           1.1223628604284386e-7,
           4.1212587120753597e-8,
           7.248932831771526e-8,
           0.1925334632396698,
           1.1324052451300304e-7,
           1.1458205051440018e-7,
           1.0811827877432734e-7,
           2.457442462855397e-7,
           3.936389987302391e-7,
           9.968736947030266e-8,
           5.602560637640863e-9,
           0.019688798114657402,
           1.6272019820462447e-7,
           1.373251450331736e-7,
           1.439632080213471e-9,
           3.934738970201579e-7,
           1.3545194121888926e-7,
           1.1384912568246364e-7
          ],
          [
           1.3741536974976043e-7,
           2.8383539074638975e-8,
           4.621617577527104e-8,
           0.1756131500005722,
           1.5278055798262358e-7,
           1.920633678764716e-7,
           3.724006774064037e-7,
           5.5437826773641063e-8,
           2.434840666865057e-7,
           8.333032042173727e-8,
           2.2133286847747513e-7,
           0.21498994529247284,
           1.484550580244104e-7,
           1.9830643793739e-7,
           2.1411972639384658e-8,
           2.861815175947413e-7,
           4.4459812897912343e-7,
           1.7479591463143151e-7
          ],
          [
           1.2926722092743148e-7,
           6.675767938446597e-9,
           0.9437620639801025,
           0.31297212839126587,
           1.0839165298648368e-7,
           6.367125848782962e-8,
           3.79457389954041e-8,
           3.329160733755998e-7,
           4.0699623582440836e-7,
           5.4726069009802814e-8,
           5.069894086773274e-7,
           0.0811619982123375,
           1.4633842226885463e-7,
           1.1245012032645718e-8,
           1.2952213523931277e-8,
           1.8573820170786348e-7,
           8.569382714540552e-8,
           3.743310372783526e-8
          ],
          [
           1.1010349965090427e-7,
           1.0994605048608719e-7,
           2.082888954646478e-7,
           0.09638985991477966,
           5.1561759306650856e-8,
           3.377827226813679e-7,
           1.5820400278698799e-7,
           9.199422379424504e-8,
           9.260464395310919e-8,
           4.24338608695507e-8,
           2.3679877614313227e-8,
           0.013054725714027882,
           0.7950310707092285,
           1.5191245950063603e-7,
           1.7356526882394974e-7,
           1.7668511986812518e-7,
           1.2742692945266754e-7,
           1.3567657219937246e-8
          ],
          [
           3.973507034515933e-8,
           1.3019065647768002e-7,
           8.10675686579998e-8,
           0.010756082832813263,
           5.808360583614558e-7,
           2.0486695007093658e-7,
           1.2543068805825897e-7,
           4.852477175631975e-8,
           2.996857162429478e-8,
           4.779228675033664e-7,
           3.473886636129464e-7,
           0.30519428849220276,
           1.514834657712072e-8,
           8.074052857409697e-7,
           1.938136229284737e-8,
           1.281392201235576e-7,
           1.2310808017446107e-7,
           7.735933849062349e-8
          ],
          [
           2.8956586017869768e-9,
           4.3317515974194976e-7,
           2.788880806292582e-7,
           0.32312488555908203,
           3.800991237312701e-7,
           2.3759936240708157e-8,
           2.1486519585778296e-7,
           4.3861799525757306e-8,
           3.3268858601331885e-7,
           4.386178176218891e-8,
           8.380249738593193e-8,
           0.08788157999515533,
           6.397628737886407e-8,
           0.9390572309494019,
           2.5400566983080353e-7,
           3.135837971512956e-7,
           0.944940984249115,
           0.8125674724578857
          ],
          [
           1.5466088143512025e-7,
           9.660384847620662e-8,
           6.261827500964046e-9,
           0.19324146211147308,
           1.435444545450082e-7,
           3.739886267339898e-8,
           9.244519816320462e-8,
           2.2370487329226307e-7,
           7.973812898853794e-8,
           3.869836717740327e-8,
           2.2987342163105495e-7,
           0.005320646800100803,
           3.2507966807315825e-7,
           1.3174442869967606e-7,
           9.21392597774684e-8,
           2.3006217020338227e-7,
           2.5617163146307576e-7,
           1.7416202524600521e-7
          ],
          [
           3.1592841764904733e-7,
           7.090886100513671e-8,
           1.1539690092376986e-7,
           0.056873708963394165,
           1.0475703504653211e-7,
           1.737602275397876e-7,
           7.906320576012149e-8,
           6.668785346164441e-8,
           1.3632579509703646e-7,
           1.153173414536468e-7,
           3.6907721323586884e-7,
           0.03336462378501892,
           2.755361947492929e-7,
           1.186460281132895e-7,
           5.039756700853104e-8,
           0.8787705898284912,
           2.8014667918796476e-8,
           2.06510719635844e-7
          ],
          [
           2.0699744140983967e-8,
           3.694125041420193e-7,
           6.04980598950533e-8,
           0.00591057725250721,
           3.076530319390258e-8,
           9.357533059528578e-8,
           5.5409770993719576e-8,
           3.0923128946369616e-8,
           1.0093486935147666e-7,
           1.6654844614549802e-8,
           8.321459432636402e-8,
           0.006507405079901218,
           6.448949108062152e-8,
           1.7479526093211462e-7,
           3.987894459100971e-8,
           2.6622001314535737e-7,
           1.4862487773825706e-7,
           2.471654170221882e-7
          ],
          [
           3.8801896806717195e-8,
           3.4149426397789284e-8,
           7.287620462648192e-8,
           0.8451379537582397,
           1.5999765068386296e-8,
           1.242774487764109e-7,
           4.2098353247865816e-8,
           2.0598074002009525e-7,
           1.0264122352054983e-7,
           2.5091728161896754e-7,
           1.8466700169028627e-7,
           0.19905857741832733,
           7.436538140837001e-8,
           9.483193252890487e-8,
           1.5187080038003842e-8,
           2.038162563167134e-7,
           1.4420419347516145e-7,
           2.550622824060156e-8
          ],
          [
           4.232223460576279e-9,
           4.2820866497095267e-7,
           3.2271987038257066e-7,
           0.05712953209877014,
           1.3679714250258712e-8,
           4.089548610863858e-7,
           4.562672302199644e-7,
           1.7347649361454387e-7,
           1.7866335966232327e-8,
           3.6130526837041543e-7,
           2.633184408296074e-7,
           0.08072466403245926,
           2.1697685426147473e-8,
           2.2599472515594243e-8,
           2.526548392722816e-8,
           0.8787707090377808,
           1.961879831924307e-7,
           2.161674927947388e-7
          ],
          [
           7.80871312056064e-10,
           4.7895515109530606e-8,
           2.1667645455636375e-8,
           0.3682335913181305,
           8.549834973337056e-8,
           0.8804368376731873,
           5.65081172965165e-8,
           6.432260590827354e-8,
           2.2396733356799814e-7,
           2.7991606543764647e-7,
           4.8250941020455684e-9,
           0.14575093984603882,
           2.5456395746914495e-7,
           6.699733745563208e-8,
           2.777374277229683e-7,
           9.566889502821141e-8,
           2.878308578146971e-7,
           3.3730159998413e-8
          ],
          [
           1.0505767988888692e-7,
           7.433813209445361e-8,
           4.853018609196624e-8,
           0.02290823496878147,
           4.7102403755161504e-8,
           1.6782344403054594e-7,
           2.231224094373374e-8,
           5.192896068706432e-8,
           2.2972322710756998e-7,
           2.9174081817018305e-8,
           1.5616039661381365e-7,
           0.31452178955078125,
           4.8689230425225105e-8,
           0.9441431164741516,
           8.426195563515648e-8,
           3.467673437285157e-8,
           1.3669294673945842e-7,
           6.470585134366047e-8
          ],
          [
           2.846244342435966e-7,
           1.4125031100320484e-7,
           1.4279002868988755e-7,
           0.13331881165504456,
           5.734320893679978e-7,
           4.020058597120624e-8,
           6.923622208887537e-7,
           3.575537732558587e-8,
           3.7815517828221346e-8,
           1.9193926448224374e-7,
           6.076346181771441e-8,
           0.013864572159945965,
           0.7950310707092285,
           3.1336988115526765e-8,
           2.846137761025602e-7,
           1.6928885315792286e-7,
           7.092356923976695e-8,
           2.2946601063722483e-7
          ],
          [
           4.516037677149143e-7,
           1.0153163998438686e-7,
           1.4062456443753035e-7,
           0.1928337663412094,
           2.106828276282613e-7,
           1.5867877323216817e-7,
           2.4960931455098034e-7,
           1.1698386259695326e-7,
           3.6251856272428995e-7,
           1.3589585989848274e-7,
           2.999038315465441e-7,
           0.003895727451890707,
           2.562538270467485e-7,
           2.0149136048530636e-7,
           2.729885864027892e-7,
           7.513969535466458e-8,
           1.330951562295013e-7,
           1.2612471778084e-7
          ],
          [
           0.26679152250289917,
           0.16654253005981445,
           0.16015173494815826,
           0.16138115525245667,
           2.6486199544706324e-7,
           1.934622986254908e-7,
           2.456997663102811e-7,
           2.7562991888885335e-8,
           1.6308790407038032e-7,
           4.987444981452427e-7,
           6.711788103075378e-8,
           0.050733983516693115,
           2.386526603004313e-7,
           1.904030568766757e-7,
           2.040617346210638e-7,
           1.203210047151515e-7,
           1.250354983994839e-7,
           8.371836202059058e-8
          ],
          [
           2.652869284247572e-7,
           5.476881170807246e-8,
           2.3235728008330625e-7,
           0.01415594294667244,
           8.874174284301262e-8,
           1.6392374391216435e-7,
           1.7358095760755532e-7,
           1.8379789423761395e-7,
           9.871254036397659e-9,
           4.6699881295353407e-7,
           5.635559130467982e-9,
           0.30289411544799805,
           9.200821438071216e-9,
           8.267512185966552e-8,
           6.565219479170992e-8,
           4.6623142679891316e-8,
           1.0138301576034792e-7,
           3.0377788107216475e-7
          ],
          [
           2.0037433046127262e-8,
           1.4591794439411387e-8,
           4.2974136249540607e-7,
           0.016455916687846184,
           7.391701473125067e-8,
           1.6290893967152442e-8,
           3.1994031246540544e-7,
           6.432170351899913e-8,
           1.0025210883668478e-7,
           3.331663265271345e-7,
           0.9229524731636047,
           0.011515483260154724,
           2.2426135615205567e-8,
           3.846289065023711e-9,
           2.4641863660690433e-7,
           1.9838630294088944e-7,
           4.062972180918223e-8,
           4.486590299279669e-8
          ],
          [
           1.681474088854884e-7,
           7.835156878854832e-8,
           3.9093052350835933e-7,
           0.5570863485336304,
           3.4706107499005157e-7,
           6.435064392462664e-8,
           3.439334506083469e-8,
           1.0480588485961562e-7,
           4.599879588340627e-9,
           4.860416424889991e-7,
           2.865995440970437e-8,
           0.6585019826889038,
           1.6156447202320123e-7,
           1.0317017284933172e-7,
           3.2259066529150004e-9,
           2.5072051812458085e-7,
           1.4042257134860847e-7,
           7.990293227067014e-8
          ],
          [
           7.314765237964593e-9,
           1.3958346301023994e-7,
           2.677956274510507e-7,
           0.009624294936656952,
           0.8199599385261536,
           1.1393851195862226e-7,
           1.469143171561882e-7,
           7.119105749353594e-9,
           1.9165133835485904e-7,
           1.430399407809091e-7,
           8.707335297231111e-8,
           0.16381312906742096,
           4.886425930550331e-9,
           2.2191582615960215e-7,
           9.20326073128308e-8,
           0.8633994460105896,
           2.7709107897067042e-8,
           1.0129998173624699e-7
          ],
          [
           5.665973645818667e-8,
           1.2208511179778725e-7,
           8.826594921629294e-8,
           0.24489863216876984,
           8.745477941829449e-8,
           7.513710187367906e-8,
           0.9303522706031799,
           6.708562949597763e-8,
           1.773739910504446e-8,
           1.674087144465375e-7,
           4.874256376297126e-8,
           0.07783527672290802,
           7.949872582457829e-8,
           2.0916067455800658e-7,
           2.4569280299147067e-7,
           2.1224350632564892e-7,
           4.095653878266603e-7,
           1.3367233542282975e-8
          ],
          [
           1.908473734602012e-7,
           1.669178395502513e-8,
           2.0122870125760528e-7,
           0.07115713506937027,
           1.0481787882099525e-7,
           1.8293137671321347e-8,
           3.8889627518301495e-8,
           4.0626997588333325e-7,
           0.20691315829753876,
           0.1743040829896927,
           0.17804338037967682,
           0.21182435750961304,
           2.6427196075928805e-7,
           8.402808049368105e-8,
           1.6104087308121962e-7,
           5.134784260008018e-7,
           1.767262602925257e-7,
           3.05488647711627e-8
          ],
          [
           1.3150475375311999e-8,
           1.6463387453313771e-7,
           8.601317347256554e-8,
           0.19253282248973846,
           3.180935550517461e-7,
           2.5600051856145e-8,
           7.139150852708553e-7,
           9.127558708854622e-10,
           1.7614102887364425e-7,
           1.9234957449043577e-7,
           5.1308262527527404e-8,
           0.03857409954071045,
           1.563312252983451e-7,
           3.37850877940582e-7,
           6.031808652551263e-8,
           7.413712523884897e-7,
           4.021738959636423e-7,
           2.865387926931362e-8
          ],
          [
           3.804355941383619e-8,
           7.495327736251056e-8,
           5.1172790449527383e-8,
           0.00740715442225337,
           3.9613991020814865e-7,
           4.0848095750334323e-7,
           1.5214064452706566e-9,
           4.335016257073221e-8,
           2.7469565111459815e-7,
           1.1093272433981838e-7,
           3.7577596145865755e-8,
           0.054367829114198685,
           2.817009736588716e-8,
           0.9441425204277039,
           6.773688276950907e-10,
           1.4912860279991946e-8,
           7.061088780346836e-8,
           3.12489163434293e-7
          ],
          [
           1.4541182480343195e-8,
           2.12487671902295e-9,
           9.742758777520066e-8,
           0.0771719291806221,
           3.600121090130415e-7,
           4.352926907813526e-8,
           2.363739781685581e-7,
           1.0001046213403697e-8,
           1.9410572704714468e-8,
           3.073883547699552e-8,
           2.874478752801224e-7,
           0.009534141980111599,
           1.1568143065687764e-7,
           6.025788934493903e-7,
           4.332992986633144e-8,
           0.8256526589393616,
           5.988991347294359e-8,
           0.7631796002388
          ],
          [
           2.150043254545153e-9,
           4.4785667796531925e-7,
           3.619703292656595e-8,
           0.04319174215197563,
           1.2439313934464735e-7,
           6.706051181026851e-8,
           6.113170343269303e-7,
           1.1555517431816043e-7,
           3.0917402682462125e-7,
           1.033234653391446e-7,
           1.9567856668345485e-8,
           0.12818337976932526,
           3.1986868265221347e-8,
           2.4971180678790006e-8,
           0.8526508212089539,
           6.535929486517489e-8,
           5.878633757561147e-8,
           2.7181929596054033e-8
          ],
          [
           1.850917925594331e-7,
           8.666916073707398e-8,
           0.944168210029602,
           0.058110665529966354,
           2.1674358663403837e-7,
           6.475067948485957e-8,
           3.2774718050632146e-8,
           1.519404335681429e-8,
           1.1119461618136484e-7,
           7.565274628973384e-9,
           1.0009433282220925e-7,
           0.18603454530239105,
           1.1901502006139708e-7,
           0.9266479015350342,
           3.43870425467685e-8,
           2.205850835323986e-9,
           5.964205911368481e-7,
           1.8048420713512314e-7
          ],
          [
           1.825650457476513e-7,
           9.954788282584559e-8,
           1.2657251602377073e-7,
           0.19307413697242737,
           2.228230400191933e-8,
           6.278457931330195e-7,
           5.0884040092569194e-8,
           5.0300972276318134e-8,
           1.7229169202437333e-7,
           7.949823555009061e-8,
           2.3932707904350536e-7,
           0.01443871483206749,
           9.747635942858324e-8,
           9.29825262119266e-7,
           4.370530177766341e-7,
           7.432421966768743e-8,
           5.2344994116992893e-8,
           4.201178001039807e-7
          ],
          [
           0.8998192548751831,
           1.40470447718144e-7,
           2.0716454329772205e-8,
           0.2062346339225769,
           4.052871531712299e-7,
           6.4594352977565e-8,
           2.0116762300403934e-7,
           1.1950429268381413e-7,
           7.308485550083788e-8,
           3.725232033957582e-8,
           2.227981354963049e-8,
           0.08719208836555481,
           9.65178301726155e-8,
           5.564194225371466e-7,
           2.4120021180351614e-7,
           8.144654088937386e-7,
           1.9557117525437206e-7,
           1.59708568592265e-9
          ],
          [
           2.7732747298614413e-7,
           1.2777570645994274e-7,
           2.0826998081702186e-7,
           0.009705937467515469,
           1.3096513384880382e-7,
           1.237036713064299e-7,
           7.469070339993777e-8,
           2.4175848878371653e-8,
           4.790430239154375e-7,
           1.606450581448371e-7,
           6.660045670514592e-8,
           0.07685522735118866,
           1.0530857075252698e-8,
           4.144105147929622e-8,
           1.6310086436988058e-7,
           1.4862645514313044e-7,
           6.6559469047433595e-9,
           1.8567084225651342e-7
          ],
          [
           2.2601149396450637e-7,
           5.471409849633346e-7,
           1.0436308883754464e-7,
           0.19285942614078522,
           1.7379166195041762e-7,
           7.711939531418466e-8,
           2.3275146077139652e-7,
           4.011582461771468e-7,
           1.4161977901494538e-7,
           2.1777303516046231e-7,
           2.1447404208174703e-7,
           0.04418240860104561,
           2.0235073350249877e-7,
           2.7026666771234886e-7,
           8.94596610123699e-8,
           2.0569400760450662e-7,
           1.1390019949431007e-7,
           1.7505223581792961e-7
          ],
          [
           5.076146614158006e-9,
           1.3673282062143244e-8,
           3.639525232301821e-7,
           0.24551470577716827,
           1.4908124512658105e-7,
           8.813434249077545e-8,
           0.9303526282310486,
           5.3718451908935094e-8,
           3.7215963288872445e-7,
           1.1432830149260553e-7,
           2.215162453467201e-7,
           0.11662895232439041,
           9.355639463137777e-8,
           1.742020145911738e-7,
           3.136045378937524e-8,
           4.4667592646874255e-7,
           3.2691495732706244e-8,
           2.868339947781351e-7
          ],
          [
           3.2733375121551944e-8,
           3.4855855091109333e-8,
           1.7385683293014154e-7,
           0.027256451547145844,
           5.906380096121211e-8,
           6.379520556265561e-8,
           3.40236177009956e-8,
           7.401287405173207e-8,
           7.548864289219637e-8,
           3.8127840440438376e-8,
           0.9229510426521301,
           0.47589388489723206,
           1.1382304876406124e-8,
           3.245449988753535e-7,
           3.7843772560108846e-8,
           4.0982577331760695e-8,
           3.512843349540162e-8,
           3.289444521215046e-7
          ],
          [
           2.1643233871770917e-9,
           5.745692632785904e-8,
           2.7392763968236977e-7,
           0.19221432507038116,
           1.9092317415925208e-7,
           3.335410170279829e-8,
           1.1420242529425195e-9,
           6.360519222425864e-8,
           3.3827328138613666e-7,
           3.0853450994072773e-7,
           7.708712956855379e-8,
           0.09018933027982712,
           3.330728475248179e-7,
           8.51418064939935e-8,
           1.1986850267931004e-7,
           2.1819478490670008e-7,
           4.187137108146999e-7,
           5.158079829925555e-7
          ],
          [
           7.654075773189106e-8,
           3.595308228909744e-8,
           3.381508761890473e-8,
           0.16352525353431702,
           1.1416532430530424e-7,
           6.471130120644375e-8,
           5.203677488907488e-8,
           1.9499488246310648e-8,
           4.6676369436227105e-8,
           1.5184605572926557e-8,
           1.3944473664651014e-7,
           0.006750762928277254,
           1.6724172269277915e-7,
           8.988941999632516e-7,
           6.779200134587882e-8,
           1.7774326011021913e-7,
           1.059035437123157e-8,
           2.8532838314276887e-7
          ],
          [
           1.5147628573686234e-7,
           7.23753146303352e-8,
           3.2086092005556566e-8,
           0.15618818998336792,
           0.9342004656791687,
           4.742302661675524e-10,
           1.1246447684243321e-7,
           3.493101274898436e-8,
           4.683329990484708e-8,
           4.76675339200483e-8,
           9.578453585845637e-8,
           0.12993194162845612,
           7.749660113631762e-8,
           1.5980491241407435e-7,
           3.5922433028190426e-8,
           1.5331647773564328e-7,
           4.3974307573080296e-7,
           0.783990740776062
          ],
          [
           5.013380359741859e-7,
           2.5926152602551156e-7,
           4.913875084611163e-9,
           0.029091211035847664,
           2.6727323643171985e-7,
           6.721101186712986e-8,
           4.800999136023165e-7,
           1.2999251453038596e-7,
           1.7223264592303167e-7,
           8.41677874063862e-8,
           8.913551141631615e-8,
           0.10635477304458618,
           2.4947585330892252e-8,
           2.523838560364311e-8,
           0.9196723699569702,
           3.9073975699466246e-7,
           0.7657822966575623,
           7.543358826467284e-9
          ],
          [
           2.8971519627774e-10,
           2.5168094452965306e-7,
           3.516852871143783e-7,
           0.016771432012319565,
           3.1763659080752404e-7,
           2.592635439668811e-8,
           6.289062071118678e-8,
           1.748870346318654e-7,
           2.334879667387213e-8,
           7.838467297460738e-8,
           0.9229512810707092,
           0.03939061984419823,
           4.323227642544225e-8,
           3.4839004570130783e-7,
           1.5295489674826968e-7,
           3.5630279171527945e-7,
           3.556205285804026e-8,
           3.7030050137332182e-9
          ],
          [
           4.3073100641777273e-7,
           6.116551531931691e-8,
           2.1574089714704314e-7,
           0.12870194017887115,
           5.775438580712944e-7,
           6.69013076048941e-8,
           4.986619472902021e-8,
           6.242928662913982e-8,
           1.0742804334995526e-7,
           2.4120461716847785e-7,
           3.256953675645491e-7,
           0.30432793498039246,
           2.576989288627374e-7,
           5.034657135638554e-8,
           3.585316576959485e-8,
           1.0469167222026954e-7,
           4.060663343352644e-7,
           4.5650541125041855e-8
          ],
          [
           3.9541852459024085e-8,
           8.634215475922247e-8,
           6.661385754114235e-8,
           0.1197427362203598,
           1.448696309580555e-7,
           2.1603284494631225e-8,
           3.5581575730248005e-7,
           1.724819753690099e-7,
           7.083751540903904e-8,
           8.033858023281937e-8,
           6.116641060316397e-8,
           0.3531283736228943,
           1.108258516069327e-7,
           4.16167807770762e-7,
           4.790098984130964e-8,
           2.1024958130055893e-7,
           0.8537579774856567,
           1.6315719619797164e-7
          ],
          [
           5.367504840592119e-8,
           1.5654546814403147e-7,
           1.8677768309771636e-7,
           0.12630121409893036,
           3.868634337322874e-7,
           2.0528462130187108e-7,
           4.311727508365948e-8,
           1.0457852361867026e-8,
           8.278825447405325e-8,
           8.775054283205463e-8,
           2.8499883342192334e-8,
           0.3044376075267792,
           3.407501480978681e-7,
           6.012581934555783e-7,
           1.9979253806923225e-7,
           9.099963449443749e-8,
           3.2401587191088765e-7,
           1.60989060304928e-7
          ],
          [
           1.3205831805862545e-7,
           2.512376227059576e-7,
           5.268081508802425e-7,
           0.7454903721809387,
           8.814651231148218e-9,
           3.845293292670249e-7,
           2.0899297226151248e-7,
           3.480006967038207e-7,
           1.2155636497368505e-8,
           3.797393333115906e-8,
           1.3336988047285558e-7,
           0.006837696302682161,
           2.9820759550602816e-7,
           1.7263994678273775e-8,
           3.006447357734032e-8,
           2.1426015450742852e-7,
           4.463059894987964e-7,
           5.826030502475987e-8
          ],
          [
           1.0770884983912765e-7,
           1.963272779903491e-7,
           7.747986074946311e-8,
           0.0762772336602211,
           4.309470469365806e-8,
           4.5858314479119144e-8,
           1.7025181264784806e-8,
           3.743336307593381e-8,
           2.4843501478244434e-7,
           3.4185998032398857e-8,
           1.8855661210182006e-7,
           0.08832552284002304,
           4.6792575858489727e-7,
           1.2073107313881337e-7,
           2.8083686487434534e-8,
           1.640833247051887e-8,
           3.2409980121883564e-7,
           4.463101959117921e-7
          ],
          [
           5.25749861424174e-8,
           1.400700000431243e-7,
           6.750045145054173e-8,
           0.23901236057281494,
           0.8722271919250488,
           5.214602794012535e-8,
           2.791626485532106e-8,
           1.201633921255052e-7,
           4.573816525521579e-8,
           4.733682033020159e-7,
           5.8415881909468226e-8,
           0.0012092019896954298,
           6.198776958399321e-8,
           5.315436624186987e-7,
           1.4378471746567811e-7,
           8.120866823446704e-8,
           5.712406050406571e-7,
           4.266589712642599e-7
          ],
          [
           1.5543966114250907e-8,
           3.121274616546543e-8,
           1.3061276149528567e-7,
           0.021535798907279968,
           1.2841196905810648e-7,
           1.0980035369811958e-7,
           3.236655459204485e-7,
           0.9341816306114197,
           3.818304605829326e-7,
           3.1363587282839944e-8,
           1.8728051998095907e-7,
           0.03549809753894806,
           5.289846853884228e-7,
           2.0015862745026425e-8,
           4.831264845961414e-7,
           3.3898700735335296e-8,
           5.926615642692923e-8,
           1.2503051038947888e-7
          ],
          [
           6.638994420882227e-8,
           6.284086850882886e-8,
           4.181758583854389e-8,
           0.19321437180042267,
           3.2036732022788783e-7,
           3.713473306632409e-9,
           2.9285143909874023e-7,
           6.655395168309042e-8,
           1.528947279894055e-8,
           1.460801968278247e-7,
           3.2110051506606396e-8,
           0.006598222069442272,
           5.25614289870191e-8,
           5.049428182246629e-7,
           1.0903784186666599e-7,
           1.78707395548372e-7,
           9.296579150941398e-8,
           2.3981999675015686e-7
          ],
          [
           2.4875649273781164e-7,
           1.829773879080676e-7,
           3.897503475513986e-8,
           0.4641052186489105,
           1.5198830283225107e-7,
           1.264965554526043e-8,
           1.7139670660526463e-7,
           1.8497210874102166e-8,
           2.3518348157836044e-8,
           4.3283474582267445e-8,
           5.377509282311621e-8,
           0.16136318445205688,
           3.1019478541338685e-8,
           0.9441430568695068,
           2.397187870428752e-7,
           1.4374400336691906e-7,
           4.3543559513636865e-7,
           1.475930844208051e-7
          ],
          [
           1.049773104000451e-7,
           1.083284359992831e-7,
           1.696738536338671e-7,
           0.19747082889080048,
           6.897449225107266e-7,
           1.0109831549698356e-7,
           4.4413443589519375e-8,
           1.266956104473138e-7,
           6.772390293008357e-8,
           1.5577017009604788e-8,
           3.237292105495726e-7,
           0.21397288143634796,
           1.5875177439284016e-7,
           9.665905764677518e-8,
           2.577153281890787e-7,
           4.2538508182587975e-7,
           3.809571182955551e-7,
           7.65584644568662e-8
          ],
          [
           1.1811942357553562e-7,
           4.086889404675276e-8,
           8.293392284031142e-8,
           0.006812653969973326,
           3.403964754511435e-8,
           1.335764778787052e-7,
           1.4692974836805206e-8,
           3.720546999375074e-7,
           2.1582894760285853e-7,
           8.749083946213432e-8,
           4.573602385704589e-9,
           0.00937442947179079,
           7.427006920579515e-8,
           6.95192170496739e-8,
           5.8189744578385216e-8,
           1.5832645772206888e-7,
           1.6287209803067526e-7,
           2.7306396077619866e-7
          ],
          [
           3.3412490552109375e-7,
           6.389331730360936e-8,
           1.1588209503088365e-7,
           0.5114459991455078,
           9.243843379636019e-8,
           2.9820870395269594e-7,
           0.9303523898124695,
           2.420050471130253e-8,
           2.4073338877883543e-8,
           1.7541540842103132e-7,
           2.282884139503949e-7,
           0.3011295199394226,
           1.6787254253358697e-7,
           3.358728406510636e-8,
           3.600547060500503e-8,
           1.2697056206434354e-7,
           1.0757124080384983e-9,
           2.753470482730336e-7
          ],
          [
           1.871788413154718e-7,
           3.1357936336462444e-7,
           8.922823013790548e-8,
           0.22742314636707306,
           1.0738439470969752e-7,
           1.0237063463591767e-7,
           1.9347854163243028e-7,
           7.270426749528269e-8,
           2.3154511641365616e-10,
           5.59930626309324e-8,
           2.3725993969492265e-7,
           0.016390083357691765,
           1.584848376978698e-7,
           2.3428820838944375e-7,
           8.841956855576427e-8,
           2.494941782060778e-7,
           2.1308375153239467e-7,
           7.130629597895677e-8
          ],
          [
           8.074859181306238e-8,
           2.271307231183073e-8,
           0.9437621235847473,
           0.19923029839992523,
           1.1466483584854359e-7,
           1.2101430968414206e-7,
           4.5049077357361966e-7,
           4.035912226640903e-8,
           8.62015951952344e-8,
           1.0379250880987456e-7,
           7.203363683316866e-9,
           0.08070360869169235,
           8.947557006422358e-8,
           5.01213037296111e-7,
           1.6623734211407282e-7,
           5.739955213357462e-7,
           1.76446341981773e-8,
           2.607569804524701e-8
          ],
          [
           3.435372093463229e-7,
           1.7562573617624366e-8,
           5.007754211305837e-8,
           0.07636123895645142,
           2.848381264186628e-8,
           5.75764040888771e-8,
           5.792130863824241e-8,
           9.415786195177134e-8,
           3.0019272401204944e-8,
           1.0717604936871794e-7,
           2.9676998636318785e-9,
           0.19850686192512512,
           1.419069803887396e-7,
           3.7571402344838134e-7,
           2.31318566079608e-7,
           1.2743809341131396e-9,
           3.675144739645475e-7,
           2.3288617967409664e-7
          ]
         ]
        }
       ],
       "layout": {
        "template": {
         "data": {
          "bar": [
           {
            "error_x": {
             "color": "#2a3f5f"
            },
            "error_y": {
             "color": "#2a3f5f"
            },
            "marker": {
             "line": {
              "color": "#E5ECF6",
              "width": 0.5
             },
             "pattern": {
              "fillmode": "overlay",
              "size": 10,
              "solidity": 0.2
             }
            },
            "type": "bar"
           }
          ],
          "barpolar": [
           {
            "marker": {
             "line": {
              "color": "#E5ECF6",
              "width": 0.5
             },
             "pattern": {
              "fillmode": "overlay",
              "size": 10,
              "solidity": 0.2
             }
            },
            "type": "barpolar"
           }
          ],
          "carpet": [
           {
            "aaxis": {
             "endlinecolor": "#2a3f5f",
             "gridcolor": "white",
             "linecolor": "white",
             "minorgridcolor": "white",
             "startlinecolor": "#2a3f5f"
            },
            "baxis": {
             "endlinecolor": "#2a3f5f",
             "gridcolor": "white",
             "linecolor": "white",
             "minorgridcolor": "white",
             "startlinecolor": "#2a3f5f"
            },
            "type": "carpet"
           }
          ],
          "choropleth": [
           {
            "colorbar": {
             "outlinewidth": 0,
             "ticks": ""
            },
            "type": "choropleth"
           }
          ],
          "contour": [
           {
            "colorbar": {
             "outlinewidth": 0,
             "ticks": ""
            },
            "colorscale": [
             [
              0,
              "#0d0887"
             ],
             [
              0.1111111111111111,
              "#46039f"
             ],
             [
              0.2222222222222222,
              "#7201a8"
             ],
             [
              0.3333333333333333,
              "#9c179e"
             ],
             [
              0.4444444444444444,
              "#bd3786"
             ],
             [
              0.5555555555555556,
              "#d8576b"
             ],
             [
              0.6666666666666666,
              "#ed7953"
             ],
             [
              0.7777777777777778,
              "#fb9f3a"
             ],
             [
              0.8888888888888888,
              "#fdca26"
             ],
             [
              1,
              "#f0f921"
             ]
            ],
            "type": "contour"
           }
          ],
          "contourcarpet": [
           {
            "colorbar": {
             "outlinewidth": 0,
             "ticks": ""
            },
            "type": "contourcarpet"
           }
          ],
          "heatmap": [
           {
            "colorbar": {
             "outlinewidth": 0,
             "ticks": ""
            },
            "colorscale": [
             [
              0,
              "#0d0887"
             ],
             [
              0.1111111111111111,
              "#46039f"
             ],
             [
              0.2222222222222222,
              "#7201a8"
             ],
             [
              0.3333333333333333,
              "#9c179e"
             ],
             [
              0.4444444444444444,
              "#bd3786"
             ],
             [
              0.5555555555555556,
              "#d8576b"
             ],
             [
              0.6666666666666666,
              "#ed7953"
             ],
             [
              0.7777777777777778,
              "#fb9f3a"
             ],
             [
              0.8888888888888888,
              "#fdca26"
             ],
             [
              1,
              "#f0f921"
             ]
            ],
            "type": "heatmap"
           }
          ],
          "heatmapgl": [
           {
            "colorbar": {
             "outlinewidth": 0,
             "ticks": ""
            },
            "colorscale": [
             [
              0,
              "#0d0887"
             ],
             [
              0.1111111111111111,
              "#46039f"
             ],
             [
              0.2222222222222222,
              "#7201a8"
             ],
             [
              0.3333333333333333,
              "#9c179e"
             ],
             [
              0.4444444444444444,
              "#bd3786"
             ],
             [
              0.5555555555555556,
              "#d8576b"
             ],
             [
              0.6666666666666666,
              "#ed7953"
             ],
             [
              0.7777777777777778,
              "#fb9f3a"
             ],
             [
              0.8888888888888888,
              "#fdca26"
             ],
             [
              1,
              "#f0f921"
             ]
            ],
            "type": "heatmapgl"
           }
          ],
          "histogram": [
           {
            "marker": {
             "pattern": {
              "fillmode": "overlay",
              "size": 10,
              "solidity": 0.2
             }
            },
            "type": "histogram"
           }
          ],
          "histogram2d": [
           {
            "colorbar": {
             "outlinewidth": 0,
             "ticks": ""
            },
            "colorscale": [
             [
              0,
              "#0d0887"
             ],
             [
              0.1111111111111111,
              "#46039f"
             ],
             [
              0.2222222222222222,
              "#7201a8"
             ],
             [
              0.3333333333333333,
              "#9c179e"
             ],
             [
              0.4444444444444444,
              "#bd3786"
             ],
             [
              0.5555555555555556,
              "#d8576b"
             ],
             [
              0.6666666666666666,
              "#ed7953"
             ],
             [
              0.7777777777777778,
              "#fb9f3a"
             ],
             [
              0.8888888888888888,
              "#fdca26"
             ],
             [
              1,
              "#f0f921"
             ]
            ],
            "type": "histogram2d"
           }
          ],
          "histogram2dcontour": [
           {
            "colorbar": {
             "outlinewidth": 0,
             "ticks": ""
            },
            "colorscale": [
             [
              0,
              "#0d0887"
             ],
             [
              0.1111111111111111,
              "#46039f"
             ],
             [
              0.2222222222222222,
              "#7201a8"
             ],
             [
              0.3333333333333333,
              "#9c179e"
             ],
             [
              0.4444444444444444,
              "#bd3786"
             ],
             [
              0.5555555555555556,
              "#d8576b"
             ],
             [
              0.6666666666666666,
              "#ed7953"
             ],
             [
              0.7777777777777778,
              "#fb9f3a"
             ],
             [
              0.8888888888888888,
              "#fdca26"
             ],
             [
              1,
              "#f0f921"
             ]
            ],
            "type": "histogram2dcontour"
           }
          ],
          "mesh3d": [
           {
            "colorbar": {
             "outlinewidth": 0,
             "ticks": ""
            },
            "type": "mesh3d"
           }
          ],
          "parcoords": [
           {
            "line": {
             "colorbar": {
              "outlinewidth": 0,
              "ticks": ""
             }
            },
            "type": "parcoords"
           }
          ],
          "pie": [
           {
            "automargin": true,
            "type": "pie"
           }
          ],
          "scatter": [
           {
            "fillpattern": {
             "fillmode": "overlay",
             "size": 10,
             "solidity": 0.2
            },
            "type": "scatter"
           }
          ],
          "scatter3d": [
           {
            "line": {
             "colorbar": {
              "outlinewidth": 0,
              "ticks": ""
             }
            },
            "marker": {
             "colorbar": {
              "outlinewidth": 0,
              "ticks": ""
             }
            },
            "type": "scatter3d"
           }
          ],
          "scattercarpet": [
           {
            "marker": {
             "colorbar": {
              "outlinewidth": 0,
              "ticks": ""
             }
            },
            "type": "scattercarpet"
           }
          ],
          "scattergeo": [
           {
            "marker": {
             "colorbar": {
              "outlinewidth": 0,
              "ticks": ""
             }
            },
            "type": "scattergeo"
           }
          ],
          "scattergl": [
           {
            "marker": {
             "colorbar": {
              "outlinewidth": 0,
              "ticks": ""
             }
            },
            "type": "scattergl"
           }
          ],
          "scattermapbox": [
           {
            "marker": {
             "colorbar": {
              "outlinewidth": 0,
              "ticks": ""
             }
            },
            "type": "scattermapbox"
           }
          ],
          "scatterpolar": [
           {
            "marker": {
             "colorbar": {
              "outlinewidth": 0,
              "ticks": ""
             }
            },
            "type": "scatterpolar"
           }
          ],
          "scatterpolargl": [
           {
            "marker": {
             "colorbar": {
              "outlinewidth": 0,
              "ticks": ""
             }
            },
            "type": "scatterpolargl"
           }
          ],
          "scatterternary": [
           {
            "marker": {
             "colorbar": {
              "outlinewidth": 0,
              "ticks": ""
             }
            },
            "type": "scatterternary"
           }
          ],
          "surface": [
           {
            "colorbar": {
             "outlinewidth": 0,
             "ticks": ""
            },
            "colorscale": [
             [
              0,
              "#0d0887"
             ],
             [
              0.1111111111111111,
              "#46039f"
             ],
             [
              0.2222222222222222,
              "#7201a8"
             ],
             [
              0.3333333333333333,
              "#9c179e"
             ],
             [
              0.4444444444444444,
              "#bd3786"
             ],
             [
              0.5555555555555556,
              "#d8576b"
             ],
             [
              0.6666666666666666,
              "#ed7953"
             ],
             [
              0.7777777777777778,
              "#fb9f3a"
             ],
             [
              0.8888888888888888,
              "#fdca26"
             ],
             [
              1,
              "#f0f921"
             ]
            ],
            "type": "surface"
           }
          ],
          "table": [
           {
            "cells": {
             "fill": {
              "color": "#EBF0F8"
             },
             "line": {
              "color": "white"
             }
            },
            "header": {
             "fill": {
              "color": "#C8D4E3"
             },
             "line": {
              "color": "white"
             }
            },
            "type": "table"
           }
          ]
         },
         "layout": {
          "annotationdefaults": {
           "arrowcolor": "#2a3f5f",
           "arrowhead": 0,
           "arrowwidth": 1
          },
          "autotypenumbers": "strict",
          "coloraxis": {
           "colorbar": {
            "outlinewidth": 0,
            "ticks": ""
           }
          },
          "colorscale": {
           "diverging": [
            [
             0,
             "#8e0152"
            ],
            [
             0.1,
             "#c51b7d"
            ],
            [
             0.2,
             "#de77ae"
            ],
            [
             0.3,
             "#f1b6da"
            ],
            [
             0.4,
             "#fde0ef"
            ],
            [
             0.5,
             "#f7f7f7"
            ],
            [
             0.6,
             "#e6f5d0"
            ],
            [
             0.7,
             "#b8e186"
            ],
            [
             0.8,
             "#7fbc41"
            ],
            [
             0.9,
             "#4d9221"
            ],
            [
             1,
             "#276419"
            ]
           ],
           "sequential": [
            [
             0,
             "#0d0887"
            ],
            [
             0.1111111111111111,
             "#46039f"
            ],
            [
             0.2222222222222222,
             "#7201a8"
            ],
            [
             0.3333333333333333,
             "#9c179e"
            ],
            [
             0.4444444444444444,
             "#bd3786"
            ],
            [
             0.5555555555555556,
             "#d8576b"
            ],
            [
             0.6666666666666666,
             "#ed7953"
            ],
            [
             0.7777777777777778,
             "#fb9f3a"
            ],
            [
             0.8888888888888888,
             "#fdca26"
            ],
            [
             1,
             "#f0f921"
            ]
           ],
           "sequentialminus": [
            [
             0,
             "#0d0887"
            ],
            [
             0.1111111111111111,
             "#46039f"
            ],
            [
             0.2222222222222222,
             "#7201a8"
            ],
            [
             0.3333333333333333,
             "#9c179e"
            ],
            [
             0.4444444444444444,
             "#bd3786"
            ],
            [
             0.5555555555555556,
             "#d8576b"
            ],
            [
             0.6666666666666666,
             "#ed7953"
            ],
            [
             0.7777777777777778,
             "#fb9f3a"
            ],
            [
             0.8888888888888888,
             "#fdca26"
            ],
            [
             1,
             "#f0f921"
            ]
           ]
          },
          "colorway": [
           "#636efa",
           "#EF553B",
           "#00cc96",
           "#ab63fa",
           "#FFA15A",
           "#19d3f3",
           "#FF6692",
           "#B6E880",
           "#FF97FF",
           "#FECB52"
          ],
          "font": {
           "color": "#2a3f5f"
          },
          "geo": {
           "bgcolor": "white",
           "lakecolor": "white",
           "landcolor": "#E5ECF6",
           "showlakes": true,
           "showland": true,
           "subunitcolor": "white"
          },
          "hoverlabel": {
           "align": "left"
          },
          "hovermode": "closest",
          "mapbox": {
           "style": "light"
          },
          "paper_bgcolor": "white",
          "plot_bgcolor": "#E5ECF6",
          "polar": {
           "angularaxis": {
            "gridcolor": "white",
            "linecolor": "white",
            "ticks": ""
           },
           "bgcolor": "#E5ECF6",
           "radialaxis": {
            "gridcolor": "white",
            "linecolor": "white",
            "ticks": ""
           }
          },
          "scene": {
           "xaxis": {
            "backgroundcolor": "#E5ECF6",
            "gridcolor": "white",
            "gridwidth": 2,
            "linecolor": "white",
            "showbackground": true,
            "ticks": "",
            "zerolinecolor": "white"
           },
           "yaxis": {
            "backgroundcolor": "#E5ECF6",
            "gridcolor": "white",
            "gridwidth": 2,
            "linecolor": "white",
            "showbackground": true,
            "ticks": "",
            "zerolinecolor": "white"
           },
           "zaxis": {
            "backgroundcolor": "#E5ECF6",
            "gridcolor": "white",
            "gridwidth": 2,
            "linecolor": "white",
            "showbackground": true,
            "ticks": "",
            "zerolinecolor": "white"
           }
          },
          "shapedefaults": {
           "line": {
            "color": "#2a3f5f"
           }
          },
          "ternary": {
           "aaxis": {
            "gridcolor": "white",
            "linecolor": "white",
            "ticks": ""
           },
           "baxis": {
            "gridcolor": "white",
            "linecolor": "white",
            "ticks": ""
           },
           "bgcolor": "#E5ECF6",
           "caxis": {
            "gridcolor": "white",
            "linecolor": "white",
            "ticks": ""
           }
          },
          "title": {
           "x": 0.05
          },
          "xaxis": {
           "automargin": true,
           "gridcolor": "white",
           "linecolor": "white",
           "ticks": "",
           "title": {
            "standoff": 15
           },
           "zerolinecolor": "white",
           "zerolinewidth": 2
          },
          "yaxis": {
           "automargin": true,
           "gridcolor": "white",
           "linecolor": "white",
           "ticks": "",
           "title": {
            "standoff": 15
           },
           "zerolinecolor": "white",
           "zerolinewidth": 2
          }
         }
        },
        "title": {
         "text": "NNMF activations"
        },
        "xaxis": {
         "showticklabels": false,
         "title": {
          "text": "atom (18)"
         }
        },
        "yaxis": {
         "autorange": "reversed",
         "showticklabels": false,
         "title": {
          "text": "batch (200)"
         }
        }
       }
      }
     },
     "metadata": {},
     "output_type": "display_data"
    },
    {
     "data": {
      "application/vnd.plotly.v1+json": {
       "config": {
        "plotlyServerURL": "https://plot.ly"
       },
       "data": [
        {
         "colorscale": [
          [
           0,
           "#440154"
          ],
          [
           0.1111111111111111,
           "#482878"
          ],
          [
           0.2222222222222222,
           "#3e4989"
          ],
          [
           0.3333333333333333,
           "#31688e"
          ],
          [
           0.4444444444444444,
           "#26828e"
          ],
          [
           0.5555555555555556,
           "#1f9e89"
          ],
          [
           0.6666666666666666,
           "#35b779"
          ],
          [
           0.7777777777777778,
           "#6ece58"
          ],
          [
           0.8888888888888888,
           "#b5de2b"
          ],
          [
           1,
           "#fde725"
          ]
         ],
         "hovertemplate": "%{y}%{x}val: %{z:.2f}<extra></extra>",
         "type": "heatmap",
         "x": [
          "prob: 0.15246<br>col: 0<br>",
          "prob: 0.0299<br>col: 1<br>",
          "prob: 0.030739998<br>col: 2<br>",
          "prob: 0.029679999<br>col: 3<br>",
          "prob: 0.14878<br>col: 4<br>",
          "prob: 0.02942<br>col: 5<br>",
          "prob: 0.02876<br>col: 6<br>",
          "prob: 0.029919999<br>col: 7<br>",
          "prob: 0.15076<br>col: 8<br>",
          "prob: 0.03046<br>col: 9<br>",
          "prob: 0.029059999<br>col: 10<br>",
          "prob: 0.03136<br>col: 11<br>",
          "prob: 0.050019998<br>col: 12<br>",
          "prob: 0.0484<br>col: 13<br>",
          "prob: 0.0502<br>col: 14<br>",
          "prob: 0.04996<br>col: 15<br>",
          "prob: 0.049799997<br>col: 16<br>",
          "prob: 0.0493<br>col: 17<br>"
         ],
         "y": [
          "row: 0<br>",
          "row: 1<br>",
          "row: 2<br>",
          "row: 3<br>",
          "row: 4<br>",
          "row: 5<br>",
          "row: 6<br>",
          "row: 7<br>",
          "row: 8<br>",
          "row: 9<br>",
          "row: 10<br>",
          "row: 11<br>",
          "row: 12<br>",
          "row: 13<br>",
          "row: 14<br>",
          "row: 15<br>",
          "row: 16<br>",
          "row: 17<br>",
          "row: 18<br>",
          "row: 19<br>",
          "row: 20<br>",
          "row: 21<br>",
          "row: 22<br>",
          "row: 23<br>",
          "row: 24<br>",
          "row: 25<br>",
          "row: 26<br>",
          "row: 27<br>",
          "row: 28<br>",
          "row: 29<br>",
          "row: 30<br>",
          "row: 31<br>",
          "row: 32<br>",
          "row: 33<br>",
          "row: 34<br>",
          "row: 35<br>",
          "row: 36<br>",
          "row: 37<br>",
          "row: 38<br>",
          "row: 39<br>",
          "row: 40<br>",
          "row: 41<br>",
          "row: 42<br>",
          "row: 43<br>",
          "row: 44<br>",
          "row: 45<br>",
          "row: 46<br>",
          "row: 47<br>",
          "row: 48<br>",
          "row: 49<br>",
          "row: 50<br>",
          "row: 51<br>",
          "row: 52<br>",
          "row: 53<br>",
          "row: 54<br>",
          "row: 55<br>",
          "row: 56<br>",
          "row: 57<br>",
          "row: 58<br>",
          "row: 59<br>",
          "row: 60<br>",
          "row: 61<br>",
          "row: 62<br>",
          "row: 63<br>",
          "row: 64<br>",
          "row: 65<br>",
          "row: 66<br>",
          "row: 67<br>",
          "row: 68<br>",
          "row: 69<br>",
          "row: 70<br>",
          "row: 71<br>",
          "row: 72<br>",
          "row: 73<br>",
          "row: 74<br>",
          "row: 75<br>",
          "row: 76<br>",
          "row: 77<br>",
          "row: 78<br>",
          "row: 79<br>",
          "row: 80<br>",
          "row: 81<br>",
          "row: 82<br>",
          "row: 83<br>",
          "row: 84<br>",
          "row: 85<br>",
          "row: 86<br>",
          "row: 87<br>",
          "row: 88<br>",
          "row: 89<br>",
          "row: 90<br>",
          "row: 91<br>",
          "row: 92<br>",
          "row: 93<br>",
          "row: 94<br>",
          "row: 95<br>",
          "row: 96<br>",
          "row: 97<br>",
          "row: 98<br>",
          "row: 99<br>",
          "row: 100<br>",
          "row: 101<br>",
          "row: 102<br>",
          "row: 103<br>",
          "row: 104<br>",
          "row: 105<br>",
          "row: 106<br>",
          "row: 107<br>",
          "row: 108<br>",
          "row: 109<br>",
          "row: 110<br>",
          "row: 111<br>",
          "row: 112<br>",
          "row: 113<br>",
          "row: 114<br>",
          "row: 115<br>",
          "row: 116<br>",
          "row: 117<br>",
          "row: 118<br>",
          "row: 119<br>",
          "row: 120<br>",
          "row: 121<br>",
          "row: 122<br>",
          "row: 123<br>",
          "row: 124<br>",
          "row: 125<br>",
          "row: 126<br>",
          "row: 127<br>",
          "row: 128<br>",
          "row: 129<br>",
          "row: 130<br>",
          "row: 131<br>",
          "row: 132<br>",
          "row: 133<br>",
          "row: 134<br>",
          "row: 135<br>",
          "row: 136<br>",
          "row: 137<br>",
          "row: 138<br>",
          "row: 139<br>",
          "row: 140<br>",
          "row: 141<br>",
          "row: 142<br>",
          "row: 143<br>",
          "row: 144<br>",
          "row: 145<br>",
          "row: 146<br>",
          "row: 147<br>",
          "row: 148<br>",
          "row: 149<br>",
          "row: 150<br>",
          "row: 151<br>",
          "row: 152<br>",
          "row: 153<br>",
          "row: 154<br>",
          "row: 155<br>",
          "row: 156<br>",
          "row: 157<br>",
          "row: 158<br>",
          "row: 159<br>",
          "row: 160<br>",
          "row: 161<br>",
          "row: 162<br>",
          "row: 163<br>",
          "row: 164<br>",
          "row: 165<br>",
          "row: 166<br>",
          "row: 167<br>",
          "row: 168<br>",
          "row: 169<br>",
          "row: 170<br>",
          "row: 171<br>",
          "row: 172<br>",
          "row: 173<br>",
          "row: 174<br>",
          "row: 175<br>",
          "row: 176<br>",
          "row: 177<br>",
          "row: 178<br>",
          "row: 179<br>",
          "row: 180<br>",
          "row: 181<br>",
          "row: 182<br>",
          "row: 183<br>",
          "row: 184<br>",
          "row: 185<br>",
          "row: 186<br>",
          "row: 187<br>",
          "row: 188<br>",
          "row: 189<br>",
          "row: 190<br>",
          "row: 191<br>",
          "row: 192<br>",
          "row: 193<br>",
          "row: 194<br>",
          "row: 195<br>",
          "row: 196<br>",
          "row: 197<br>",
          "row: 198<br>",
          "row: 199<br>"
         ],
         "z": [
          [
           1,
           0.19611701369285583,
           0.20162665843963623,
           0.19467401504516602,
           0.9758625626564026,
           0.19296865165233612,
           0.18863964080810547,
           0.19624818861484528,
           0.9888495206832886,
           0.1997901201248169,
           0.19060736894607544,
           0.2056933045387268,
           0.3280860483646393,
           0.3174603283405304,
           0.3292666971683502,
           0.32769250869750977,
           0.32664304971694946,
           0.3233635127544403
          ],
          [
           1,
           0.19611701369285583,
           0.20162665843963623,
           0.19467401504516602,
           0.9758625626564026,
           0.19296865165233612,
           0.18863964080810547,
           0.19624818861484528,
           0.9888495206832886,
           0.1997901201248169,
           0.19060736894607544,
           0.2056933045387268,
           0.3280860483646393,
           0.3174603283405304,
           0.3292666971683502,
           0.32769250869750977,
           0.32664304971694946,
           0.3233635127544403
          ],
          [
           1,
           0.19611701369285583,
           0.20162665843963623,
           0.19467401504516602,
           0.9758625626564026,
           0.19296865165233612,
           0.18863964080810547,
           0.19624818861484528,
           0.9888495206832886,
           0.1997901201248169,
           0.19060736894607544,
           0.2056933045387268,
           0.3280860483646393,
           0.3174603283405304,
           0.3292666971683502,
           0.32769250869750977,
           0.32664304971694946,
           0.3233635127544403
          ],
          [
           1,
           0.19611701369285583,
           0.20162665843963623,
           0.19467401504516602,
           0.9758625626564026,
           0.19296865165233612,
           0.18863964080810547,
           0.19624818861484528,
           0.9888495206832886,
           0.1997901201248169,
           0.19060736894607544,
           0.2056933045387268,
           0.3280860483646393,
           0.3174603283405304,
           0.3292666971683502,
           0.32769250869750977,
           0.32664304971694946,
           0.3233635127544403
          ],
          [
           1,
           0.19611701369285583,
           0.20162665843963623,
           0.19467401504516602,
           0.9758625626564026,
           0.19296865165233612,
           0.18863964080810547,
           0.19624818861484528,
           0.9888495206832886,
           0.1997901201248169,
           0.19060736894607544,
           0.2056933045387268,
           0.3280860483646393,
           0.3174603283405304,
           0.3292666971683502,
           0.32769250869750977,
           0.32664304971694946,
           0.3233635127544403
          ],
          [
           1,
           0.19611701369285583,
           0.20162665843963623,
           0.19467401504516602,
           0.9758625626564026,
           0.19296865165233612,
           0.18863964080810547,
           0.19624818861484528,
           0.9888495206832886,
           0.1997901201248169,
           0.19060736894607544,
           0.2056933045387268,
           0.3280860483646393,
           0.3174603283405304,
           0.3292666971683502,
           0.32769250869750977,
           0.32664304971694946,
           0.3233635127544403
          ],
          [
           1,
           0.19611701369285583,
           0.20162665843963623,
           0.19467401504516602,
           0.9758625626564026,
           0.19296865165233612,
           0.18863964080810547,
           0.19624818861484528,
           0.9888495206832886,
           0.1997901201248169,
           0.19060736894607544,
           0.2056933045387268,
           0.3280860483646393,
           0.3174603283405304,
           0.3292666971683502,
           0.32769250869750977,
           0.32664304971694946,
           0.3233635127544403
          ],
          [
           0,
           0,
           0,
           0,
           0,
           0,
           0,
           0,
           0,
           0,
           0,
           0,
           0,
           0,
           0,
           0,
           0,
           0
          ],
          [
           0,
           0,
           0,
           0,
           0,
           0,
           0,
           0,
           0,
           0,
           0,
           0,
           0,
           0,
           0,
           0,
           0,
           1
          ],
          [
           0,
           0,
           0,
           0,
           0,
           0,
           0,
           0,
           0,
           0,
           0,
           0,
           0,
           0,
           0,
           0,
           0,
           0
          ],
          [
           0,
           0,
           0,
           0,
           0,
           0,
           0,
           0,
           1,
           0,
           1,
           0,
           0,
           0,
           1,
           0,
           0,
           0
          ],
          [
           0,
           0,
           0,
           0,
           0,
           0,
           0,
           0,
           1,
           1,
           0,
           0,
           0,
           0,
           1,
           0,
           0,
           0
          ],
          [
           0,
           0,
           0,
           0,
           0,
           0,
           0,
           0,
           0,
           0,
           0,
           0,
           1,
           0,
           0,
           0,
           0,
           0
          ],
          [
           0,
           0,
           0,
           0,
           0,
           0,
           0,
           0,
           0,
           0,
           0,
           0,
           0,
           0,
           0,
           0,
           1,
           0
          ],
          [
           0,
           0,
           0,
           0,
           0,
           0,
           0,
           0,
           1,
           0,
           1,
           0,
           0,
           1,
           0,
           0,
           0,
           0
          ],
          [
           1,
           0,
           0,
           1,
           0,
           0,
           0,
           0,
           0,
           0,
           0,
           0,
           0,
           0,
           0,
           0,
           0,
           0
          ],
          [
           0,
           0,
           0,
           0,
           0,
           0,
           0,
           0,
           0,
           0,
           0,
           0,
           0,
           0,
           0,
           0,
           0,
           0
          ],
          [
           0,
           0,
           0,
           0,
           0,
           0,
           0,
           0,
           0,
           0,
           0,
           0,
           0,
           0,
           0,
           0,
           0,
           0
          ],
          [
           0,
           0,
           0,
           0,
           0,
           0,
           0,
           0,
           0,
           0,
           0,
           0,
           0,
           0,
           1,
           0,
           0,
           0
          ],
          [
           0,
           0,
           0,
           0,
           0,
           0,
           0,
           0,
           0,
           0,
           0,
           0,
           0,
           0,
           0,
           0,
           0,
           0
          ],
          [
           0,
           0,
           0,
           0,
           0,
           0,
           0,
           0,
           0,
           0,
           0,
           0,
           0,
           0,
           0,
           0,
           0,
           0
          ],
          [
           1,
           0,
           0,
           1,
           0,
           0,
           0,
           0,
           0,
           0,
           0,
           0,
           0,
           0,
           0,
           0,
           0,
           0
          ],
          [
           0,
           0,
           0,
           0,
           1,
           0,
           0,
           0,
           0,
           0,
           0,
           0,
           0,
           0,
           0,
           0,
           0,
           0
          ],
          [
           0,
           0,
           0,
           0,
           0,
           0,
           0,
           0,
           0,
           0,
           0,
           0,
           0,
           0,
           0,
           0,
           0,
           0
          ],
          [
           0,
           0,
           0,
           0,
           1,
           0,
           0,
           0,
           0,
           0,
           0,
           0,
           0,
           0,
           0,
           0,
           0,
           0
          ],
          [
           0,
           0,
           0,
           0,
           0,
           0,
           0,
           0,
           0,
           0,
           0,
           0,
           0,
           0,
           0,
           0,
           0,
           0
          ],
          [
           0,
           0,
           0,
           0,
           0,
           0,
           0,
           0,
           0,
           0,
           0,
           0,
           0,
           0,
           0,
           0,
           0,
           0
          ],
          [
           0,
           0,
           0,
           0,
           1,
           0,
           1,
           0,
           0,
           0,
           0,
           0,
           0,
           1,
           0,
           0,
           0,
           0
          ],
          [
           0,
           0,
           0,
           0,
           1,
           0,
           0,
           0,
           0,
           0,
           0,
           0,
           0,
           0,
           0,
           0,
           0,
           0
          ],
          [
           1,
           0,
           1,
           0,
           1,
           0,
           0,
           1,
           0,
           0,
           0,
           0,
           0,
           0,
           0,
           0,
           0,
           0
          ],
          [
           1,
           0,
           1,
           0,
           1,
           0,
           0,
           1,
           0,
           0,
           0,
           0,
           0,
           0,
           0,
           0,
           0,
           0
          ],
          [
           0,
           0,
           0,
           0,
           0,
           0,
           0,
           0,
           0,
           0,
           0,
           0,
           0,
           0,
           0,
           0,
           0,
           0
          ],
          [
           0,
           0,
           0,
           0,
           0,
           0,
           0,
           0,
           0,
           0,
           0,
           0,
           0,
           0,
           0,
           0,
           0,
           0
          ],
          [
           1,
           0,
           0,
           0,
           0,
           0,
           0,
           0,
           0,
           0,
           0,
           0,
           0,
           0,
           0,
           1,
           0,
           0
          ],
          [
           1,
           0,
           1,
           0,
           0,
           0,
           0,
           0,
           0,
           0,
           0,
           0,
           0,
           0,
           0,
           0,
           0,
           0
          ],
          [
           0,
           0,
           0,
           0,
           0,
           0,
           0,
           0,
           0,
           0,
           0,
           0,
           0,
           0,
           0,
           0,
           0,
           0
          ],
          [
           0,
           0,
           0,
           0,
           0,
           0,
           0,
           0,
           0,
           0,
           0,
           0,
           0,
           0,
           0,
           0,
           0,
           0
          ],
          [
           0,
           0,
           0,
           0,
           0,
           0,
           0,
           0,
           0,
           0,
           0,
           0,
           0,
           0,
           0,
           0,
           0,
           0
          ],
          [
           0,
           0,
           0,
           0,
           0,
           0,
           0,
           0,
           0,
           0,
           0,
           0,
           0,
           0,
           0,
           0,
           0,
           0
          ],
          [
           0,
           0,
           0,
           0,
           1,
           0,
           1,
           0,
           0,
           0,
           0,
           0,
           0,
           0,
           0,
           0,
           0,
           0
          ],
          [
           0,
           0,
           0,
           0,
           0,
           0,
           0,
           0,
           1,
           0,
           1,
           0,
           0,
           0,
           0,
           0,
           0,
           0
          ],
          [
           0,
           0,
           0,
           0,
           1,
           0,
           0,
           1,
           0,
           0,
           0,
           0,
           0,
           0,
           0,
           0,
           0,
           0
          ],
          [
           0,
           0,
           0,
           0,
           0,
           0,
           0,
           0,
           0,
           0,
           0,
           0,
           0,
           0,
           0,
           0,
           0,
           0
          ],
          [
           0,
           0,
           0,
           0,
           1,
           0,
           0,
           0,
           0,
           0,
           0,
           0,
           0,
           0,
           0,
           0,
           0,
           0
          ],
          [
           0,
           0,
           0,
           0,
           0,
           0,
           0,
           0,
           0,
           0,
           0,
           0,
           0,
           0,
           0,
           0,
           0,
           0
          ],
          [
           0,
           0,
           0,
           0,
           0,
           0,
           0,
           0,
           0,
           0,
           0,
           0,
           0,
           0,
           0,
           0,
           0,
           0
          ],
          [
           0,
           0,
           0,
           0,
           0,
           0,
           0,
           0,
           0,
           0,
           0,
           0,
           0,
           0,
           0,
           0,
           1,
           0
          ],
          [
           0,
           0,
           0,
           0,
           0,
           0,
           0,
           0,
           1,
           0,
           0,
           0,
           0,
           0,
           0,
           0,
           0,
           1
          ],
          [
           0,
           0,
           0,
           0,
           0,
           0,
           0,
           0,
           0,
           0,
           0,
           0,
           0,
           0,
           0,
           0,
           0,
           0
          ],
          [
           0,
           0,
           0,
           0,
           0,
           0,
           0,
           0,
           0,
           0,
           0,
           0,
           0,
           1,
           1,
           0,
           0,
           1
          ],
          [
           1,
           0,
           0,
           0,
           1,
           0,
           0,
           1,
           0,
           0,
           0,
           0,
           0,
           0,
           0,
           0,
           0,
           0
          ],
          [
           1,
           0,
           1,
           0,
           0,
           0,
           0,
           0,
           0,
           0,
           0,
           0,
           0,
           0,
           1,
           1,
           0,
           0
          ],
          [
           0,
           0,
           0,
           0,
           0,
           0,
           0,
           0,
           1,
           1,
           0,
           0,
           0,
           0,
           0,
           0,
           0,
           0
          ],
          [
           0,
           0,
           0,
           0,
           0,
           0,
           0,
           0,
           0,
           0,
           0,
           0,
           0,
           0,
           0,
           0,
           0,
           0
          ],
          [
           0,
           0,
           0,
           0,
           0,
           0,
           0,
           0,
           0,
           0,
           0,
           0,
           0,
           0,
           0,
           0,
           0,
           0
          ],
          [
           0,
           0,
           0,
           0,
           1,
           1,
           0,
           0,
           0,
           0,
           0,
           0,
           0,
           1,
           0,
           0,
           0,
           0
          ],
          [
           1,
           0,
           0,
           0,
           0,
           0,
           0,
           0,
           0,
           0,
           0,
           0,
           0,
           0,
           0,
           0,
           0,
           0
          ],
          [
           1,
           0,
           0,
           1,
           0,
           0,
           0,
           0,
           0,
           0,
           0,
           0,
           0,
           0,
           0,
           0,
           0,
           0
          ],
          [
           0,
           0,
           0,
           0,
           0,
           0,
           0,
           0,
           1,
           0,
           1,
           0,
           0,
           1,
           0,
           0,
           1,
           1
          ],
          [
           1,
           0,
           0,
           1,
           1,
           1,
           0,
           0,
           0,
           0,
           0,
           0,
           0,
           0,
           0,
           0,
           0,
           0
          ],
          [
           0,
           0,
           0,
           0,
           0,
           0,
           0,
           0,
           1,
           0,
           1,
           0,
           1,
           0,
           0,
           0,
           0,
           0
          ],
          [
           0,
           0,
           0,
           0,
           0,
           0,
           0,
           0,
           0,
           0,
           0,
           0,
           0,
           0,
           0,
           0,
           0,
           0
          ],
          [
           0,
           0,
           0,
           0,
           1,
           0,
           0,
           0,
           1,
           0,
           0,
           1,
           0,
           0,
           0,
           0,
           0,
           0
          ],
          [
           0,
           0,
           0,
           0,
           0,
           0,
           0,
           0,
           0,
           0,
           0,
           0,
           1,
           0,
           0,
           0,
           0,
           0
          ],
          [
           0,
           0,
           0,
           0,
           0,
           0,
           0,
           0,
           0,
           0,
           0,
           0,
           0,
           0,
           0,
           0,
           0,
           0
          ],
          [
           0,
           0,
           0,
           0,
           0,
           0,
           0,
           0,
           0,
           0,
           0,
           0,
           0,
           1,
           0,
           0,
           0,
           0
          ],
          [
           0,
           0,
           0,
           0,
           0,
           0,
           0,
           0,
           0,
           0,
           0,
           0,
           0,
           0,
           0,
           0,
           0,
           0
          ],
          [
           0,
           0,
           0,
           0,
           0,
           0,
           0,
           0,
           0,
           0,
           0,
           0,
           0,
           0,
           0,
           0,
           0,
           0
          ],
          [
           0,
           0,
           0,
           0,
           0,
           0,
           0,
           0,
           0,
           0,
           0,
           0,
           0,
           0,
           0,
           0,
           0,
           0
          ],
          [
           0,
           0,
           0,
           0,
           0,
           0,
           0,
           0,
           0,
           0,
           0,
           0,
           0,
           0,
           0,
           0,
           0,
           0
          ],
          [
           0,
           0,
           0,
           0,
           0,
           0,
           0,
           0,
           0,
           0,
           0,
           0,
           0,
           0,
           0,
           1,
           0,
           0
          ],
          [
           0,
           0,
           0,
           0,
           0,
           0,
           0,
           0,
           0,
           0,
           0,
           0,
           0,
           0,
           0,
           0,
           0,
           0
          ],
          [
           0,
           0,
           0,
           0,
           0,
           0,
           0,
           0,
           0,
           0,
           0,
           0,
           0,
           0,
           0,
           0,
           1,
           0
          ],
          [
           0,
           0,
           0,
           0,
           0,
           0,
           0,
           0,
           1,
           0,
           0,
           0,
           0,
           0,
           0,
           1,
           0,
           0
          ],
          [
           0,
           0,
           0,
           0,
           0,
           0,
           0,
           0,
           0,
           0,
           0,
           0,
           0,
           0,
           0,
           0,
           0,
           0
          ],
          [
           1,
           0,
           1,
           0,
           0,
           0,
           0,
           0,
           0,
           0,
           0,
           0,
           0,
           0,
           0,
           0,
           0,
           0
          ],
          [
           0,
           0,
           0,
           0,
           0,
           0,
           0,
           0,
           0,
           0,
           0,
           0,
           0,
           0,
           0,
           0,
           0,
           0
          ],
          [
           0,
           0,
           0,
           0,
           0,
           0,
           0,
           0,
           0,
           0,
           0,
           0,
           0,
           0,
           0,
           0,
           0,
           1
          ],
          [
           0,
           0,
           0,
           0,
           0,
           0,
           0,
           0,
           0,
           0,
           0,
           0,
           0,
           0,
           0,
           0,
           0,
           0
          ],
          [
           0,
           0,
           0,
           0,
           0,
           0,
           0,
           0,
           0,
           0,
           0,
           0,
           0,
           0,
           0,
           0,
           0,
           1
          ],
          [
           0,
           0,
           0,
           0,
           0,
           0,
           0,
           0,
           1,
           0,
           0,
           1,
           0,
           0,
           0,
           0,
           0,
           0
          ],
          [
           0,
           0,
           0,
           0,
           0,
           0,
           0,
           0,
           0,
           0,
           0,
           0,
           0,
           0,
           0,
           0,
           0,
           0
          ],
          [
           0,
           0,
           0,
           0,
           0,
           0,
           0,
           0,
           0,
           0,
           0,
           0,
           0,
           0,
           0,
           0,
           0,
           0
          ],
          [
           0,
           0,
           0,
           0,
           1,
           0,
           1,
           0,
           0,
           0,
           0,
           0,
           0,
           0,
           0,
           0,
           0,
           0
          ],
          [
           0,
           0,
           0,
           0,
           0,
           0,
           0,
           0,
           0,
           0,
           0,
           0,
           0,
           0,
           0,
           0,
           0,
           0
          ],
          [
           1,
           0,
           0,
           0,
           0,
           0,
           0,
           0,
           0,
           0,
           0,
           0,
           0,
           0,
           0,
           0,
           1,
           0
          ],
          [
           1,
           0,
           0,
           0,
           1,
           0,
           0,
           1,
           0,
           0,
           0,
           0,
           0,
           0,
           0,
           0,
           0,
           0
          ],
          [
           0,
           0,
           0,
           0,
           0,
           0,
           0,
           0,
           0,
           0,
           0,
           0,
           0,
           0,
           0,
           0,
           0,
           0
          ],
          [
           0,
           0,
           0,
           0,
           1,
           0,
           1,
           0,
           0,
           0,
           0,
           0,
           0,
           0,
           0,
           0,
           0,
           0
          ],
          [
           0,
           0,
           0,
           0,
           0,
           0,
           0,
           0,
           0,
           0,
           0,
           0,
           0,
           0,
           0,
           0,
           0,
           0
          ],
          [
           0,
           0,
           0,
           0,
           0,
           0,
           0,
           0,
           0,
           0,
           0,
           0,
           0,
           0,
           0,
           0,
           0,
           0
          ],
          [
           0,
           0,
           0,
           0,
           0,
           0,
           0,
           0,
           0,
           0,
           0,
           0,
           0,
           1,
           0,
           0,
           0,
           1
          ],
          [
           1,
           0,
           1,
           0,
           0,
           0,
           0,
           0,
           0,
           0,
           0,
           0,
           0,
           0,
           0,
           0,
           0,
           0
          ],
          [
           0,
           0,
           0,
           0,
           0,
           0,
           0,
           0,
           0,
           0,
           0,
           0,
           0,
           0,
           0,
           0,
           0,
           0
          ],
          [
           0,
           0,
           0,
           0,
           0,
           0,
           0,
           0,
           1,
           0,
           1,
           0,
           0,
           0,
           0,
           0,
           0,
           0
          ],
          [
           1,
           1,
           0,
           0,
           0,
           0,
           0,
           0,
           0,
           0,
           0,
           0,
           1,
           0,
           0,
           0,
           0,
           0
          ],
          [
           0,
           0,
           0,
           0,
           0,
           0,
           0,
           0,
           0,
           0,
           0,
           0,
           1,
           0,
           0,
           0,
           0,
           0
          ],
          [
           0,
           0,
           0,
           0,
           0,
           0,
           0,
           0,
           0,
           0,
           0,
           0,
           0,
           0,
           0,
           0,
           0,
           0
          ],
          [
           0,
           0,
           0,
           0,
           0,
           0,
           0,
           0,
           0,
           0,
           0,
           0,
           0,
           0,
           0,
           0,
           0,
           0
          ],
          [
           0,
           0,
           0,
           0,
           0,
           0,
           0,
           0,
           0,
           0,
           0,
           0,
           0,
           0,
           0,
           0,
           0,
           0
          ],
          [
           0,
           0,
           0,
           0,
           0,
           0,
           0,
           0,
           0,
           0,
           0,
           0,
           0,
           0,
           0,
           0,
           0,
           0
          ],
          [
           0,
           0,
           0,
           0,
           0,
           0,
           0,
           0,
           0,
           0,
           0,
           0,
           0,
           0,
           0,
           0,
           0,
           0
          ],
          [
           0,
           0,
           0,
           0,
           0,
           0,
           0,
           0,
           0,
           0,
           0,
           0,
           0,
           0,
           0,
           0,
           1,
           0
          ],
          [
           0,
           0,
           0,
           0,
           0,
           0,
           0,
           0,
           0,
           0,
           0,
           0,
           0,
           0,
           0,
           0,
           0,
           0
          ],
          [
           1,
           0,
           1,
           0,
           0,
           0,
           0,
           0,
           1,
           0,
           0,
           1,
           0,
           0,
           0,
           0,
           0,
           0
          ],
          [
           0,
           0,
           0,
           0,
           1,
           0,
           0,
           0,
           0,
           0,
           0,
           0,
           0,
           0,
           0,
           0,
           0,
           0
          ],
          [
           1,
           0,
           0,
           0,
           0,
           0,
           0,
           0,
           0,
           0,
           0,
           0,
           0,
           0,
           1,
           0,
           0,
           0
          ],
          [
           0,
           0,
           0,
           0,
           0,
           0,
           0,
           0,
           0,
           0,
           0,
           0,
           0,
           0,
           0,
           0,
           0,
           0
          ],
          [
           0,
           0,
           0,
           0,
           0,
           0,
           0,
           0,
           0,
           0,
           0,
           0,
           0,
           0,
           0,
           0,
           0,
           0
          ],
          [
           0,
           0,
           0,
           0,
           0,
           0,
           0,
           0,
           0,
           0,
           0,
           0,
           0,
           0,
           0,
           0,
           0,
           0
          ],
          [
           0,
           0,
           0,
           0,
           0,
           0,
           0,
           0,
           0,
           0,
           0,
           0,
           1,
           0,
           0,
           0,
           0,
           0
          ],
          [
           1,
           0,
           0,
           1,
           0,
           0,
           0,
           0,
           0,
           0,
           0,
           0,
           0,
           0,
           0,
           0,
           0,
           0
          ],
          [
           0,
           0,
           0,
           0,
           0,
           0,
           0,
           0,
           0,
           0,
           0,
           0,
           0,
           0,
           0,
           0,
           0,
           0
          ],
          [
           0,
           0,
           0,
           0,
           0,
           0,
           0,
           0,
           0,
           0,
           0,
           0,
           1,
           0,
           0,
           0,
           0,
           1
          ],
          [
           0,
           0,
           0,
           0,
           0,
           0,
           0,
           0,
           0,
           0,
           0,
           0,
           0,
           0,
           0,
           0,
           0,
           0
          ],
          [
           0,
           0,
           0,
           0,
           1,
           0,
           0,
           0,
           0,
           0,
           0,
           0,
           0,
           0,
           0,
           0,
           0,
           0
          ],
          [
           0,
           0,
           0,
           0,
           0,
           0,
           0,
           0,
           0,
           0,
           0,
           0,
           0,
           0,
           0,
           0,
           0,
           0
          ],
          [
           0,
           0,
           0,
           0,
           0,
           0,
           0,
           0,
           0,
           0,
           0,
           0,
           0,
           1,
           0,
           0,
           0,
           0
          ],
          [
           0,
           0,
           0,
           0,
           0,
           0,
           0,
           0,
           0,
           0,
           0,
           0,
           0,
           0,
           0,
           0,
           0,
           0
          ],
          [
           1,
           0,
           0,
           0,
           0,
           0,
           0,
           0,
           0,
           0,
           0,
           0,
           0,
           0,
           0,
           0,
           0,
           0
          ],
          [
           0,
           0,
           0,
           0,
           0,
           0,
           0,
           0,
           0,
           0,
           0,
           0,
           0,
           0,
           0,
           0,
           0,
           0
          ],
          [
           0,
           0,
           0,
           0,
           0,
           0,
           0,
           0,
           0,
           0,
           0,
           0,
           0,
           0,
           0,
           0,
           0,
           1
          ],
          [
           0,
           0,
           0,
           0,
           1,
           0,
           0,
           0,
           0,
           0,
           0,
           0,
           0,
           0,
           0,
           0,
           0,
           0
          ],
          [
           0,
           0,
           0,
           0,
           0,
           0,
           0,
           0,
           0,
           0,
           0,
           0,
           0,
           0,
           0,
           0,
           0,
           0
          ],
          [
           0,
           0,
           0,
           0,
           0,
           0,
           0,
           0,
           0,
           0,
           0,
           0,
           0,
           0,
           0,
           0,
           0,
           0
          ],
          [
           1,
           0,
           0,
           0,
           0,
           0,
           0,
           0,
           0,
           0,
           0,
           0,
           0,
           0,
           0,
           0,
           0,
           0
          ],
          [
           0,
           0,
           0,
           0,
           0,
           0,
           0,
           0,
           1,
           0,
           1,
           0,
           1,
           0,
           0,
           0,
           0,
           0
          ],
          [
           0,
           0,
           0,
           0,
           1,
           0,
           0,
           1,
           0,
           0,
           0,
           0,
           0,
           0,
           0,
           0,
           0,
           0
          ],
          [
           0,
           0,
           0,
           0,
           0,
           0,
           0,
           0,
           0,
           0,
           0,
           0,
           0,
           0,
           1,
           0,
           0,
           0
          ],
          [
           0,
           0,
           0,
           0,
           0,
           0,
           0,
           0,
           0,
           0,
           0,
           0,
           0,
           0,
           0,
           0,
           0,
           0
          ],
          [
           0,
           0,
           0,
           0,
           0,
           0,
           0,
           0,
           0,
           0,
           0,
           0,
           0,
           0,
           0,
           0,
           0,
           0
          ],
          [
           1,
           0,
           1,
           0,
           0,
           0,
           0,
           0,
           0,
           0,
           0,
           0,
           0,
           0,
           0,
           0,
           0,
           0
          ],
          [
           0,
           0,
           0,
           0,
           0,
           0,
           0,
           0,
           0,
           0,
           0,
           0,
           0,
           0,
           1,
           0,
           1,
           1
          ],
          [
           1,
           0,
           0,
           0,
           0,
           0,
           0,
           0,
           0,
           0,
           0,
           0,
           1,
           0,
           0,
           0,
           0,
           0
          ],
          [
           0,
           0,
           0,
           0,
           1,
           1,
           0,
           0,
           0,
           0,
           0,
           0,
           0,
           0,
           0,
           0,
           0,
           0
          ],
          [
           0,
           0,
           0,
           0,
           0,
           0,
           0,
           0,
           0,
           0,
           0,
           0,
           0,
           0,
           0,
           0,
           0,
           0
          ],
          [
           0,
           0,
           0,
           0,
           0,
           0,
           0,
           0,
           0,
           0,
           0,
           0,
           0,
           0,
           0,
           0,
           0,
           0
          ],
          [
           0,
           0,
           0,
           0,
           0,
           0,
           0,
           0,
           0,
           0,
           0,
           0,
           0,
           0,
           0,
           0,
           0,
           0
          ],
          [
           0,
           0,
           0,
           0,
           0,
           0,
           0,
           0,
           0,
           0,
           0,
           0,
           0,
           0,
           0,
           0,
           0,
           0
          ],
          [
           0,
           0,
           0,
           0,
           1,
           1,
           0,
           0,
           0,
           0,
           0,
           0,
           0,
           0,
           0,
           0,
           0,
           0
          ],
          [
           0,
           0,
           0,
           0,
           0,
           0,
           0,
           0,
           0,
           0,
           0,
           0,
           0,
           0,
           0,
           0,
           0,
           0
          ],
          [
           0,
           0,
           0,
           0,
           0,
           0,
           0,
           0,
           0,
           0,
           0,
           0,
           0,
           0,
           0,
           0,
           0,
           0
          ],
          [
           0,
           0,
           0,
           0,
           0,
           0,
           0,
           0,
           0,
           0,
           0,
           0,
           0,
           0,
           0,
           0,
           0,
           0
          ],
          [
           0,
           0,
           0,
           0,
           0,
           0,
           0,
           0,
           0,
           0,
           0,
           0,
           0,
           0,
           0,
           0,
           0,
           0
          ],
          [
           0,
           0,
           0,
           0,
           0,
           0,
           0,
           0,
           0,
           0,
           0,
           0,
           0,
           0,
           0,
           0,
           0,
           0
          ],
          [
           0,
           0,
           0,
           0,
           1,
           0,
           1,
           0,
           0,
           0,
           0,
           0,
           0,
           0,
           0,
           0,
           0,
           0
          ],
          [
           1,
           0,
           1,
           0,
           0,
           0,
           0,
           0,
           0,
           0,
           0,
           0,
           0,
           0,
           0,
           0,
           0,
           0
          ],
          [
           0,
           0,
           0,
           0,
           0,
           0,
           0,
           0,
           0,
           0,
           0,
           0,
           0,
           0,
           0,
           0,
           0,
           0
          ],
          [
           0,
           0,
           0,
           0,
           0,
           0,
           0,
           0,
           0,
           0,
           0,
           0,
           0,
           0,
           0,
           0,
           0,
           0
          ],
          [
           1,
           0,
           1,
           0,
           0,
           0,
           0,
           0,
           0,
           0,
           0,
           0,
           0,
           0,
           0,
           0,
           0,
           0
          ],
          [
           0,
           0,
           0,
           0,
           0,
           0,
           0,
           0,
           0,
           0,
           0,
           0,
           1,
           0,
           0,
           0,
           0,
           0
          ],
          [
           0,
           0,
           0,
           0,
           0,
           0,
           0,
           0,
           0,
           0,
           0,
           0,
           0,
           0,
           0,
           0,
           0,
           0
          ],
          [
           0,
           0,
           0,
           0,
           0,
           0,
           0,
           0,
           0,
           0,
           0,
           0,
           0,
           1,
           0,
           0,
           1,
           1
          ],
          [
           0,
           0,
           0,
           0,
           0,
           0,
           0,
           0,
           0,
           0,
           0,
           0,
           0,
           0,
           0,
           0,
           0,
           0
          ],
          [
           0,
           0,
           0,
           0,
           0,
           0,
           0,
           0,
           0,
           0,
           0,
           0,
           0,
           0,
           0,
           1,
           0,
           0
          ],
          [
           0,
           0,
           0,
           0,
           0,
           0,
           0,
           0,
           0,
           0,
           0,
           0,
           0,
           0,
           0,
           0,
           0,
           0
          ],
          [
           0,
           0,
           0,
           0,
           0,
           0,
           0,
           0,
           0,
           0,
           0,
           0,
           0,
           0,
           0,
           0,
           0,
           0
          ],
          [
           0,
           0,
           0,
           0,
           0,
           0,
           0,
           0,
           0,
           0,
           0,
           0,
           0,
           0,
           0,
           1,
           0,
           0
          ],
          [
           0,
           0,
           0,
           0,
           1,
           1,
           0,
           0,
           0,
           0,
           0,
           0,
           0,
           0,
           0,
           0,
           0,
           0
          ],
          [
           0,
           0,
           0,
           0,
           0,
           0,
           0,
           0,
           0,
           0,
           0,
           0,
           0,
           1,
           0,
           0,
           0,
           0
          ],
          [
           0,
           0,
           0,
           0,
           0,
           0,
           0,
           0,
           0,
           0,
           0,
           0,
           1,
           0,
           0,
           0,
           0,
           0
          ],
          [
           0,
           0,
           0,
           0,
           0,
           0,
           0,
           0,
           0,
           0,
           0,
           0,
           0,
           0,
           0,
           0,
           0,
           0
          ],
          [
           1,
           0,
           0,
           0,
           0,
           0,
           0,
           0,
           0,
           0,
           0,
           0,
           0,
           0,
           0,
           0,
           0,
           0
          ],
          [
           0,
           0,
           0,
           0,
           0,
           0,
           0,
           0,
           0,
           0,
           0,
           0,
           0,
           0,
           0,
           0,
           0,
           0
          ],
          [
           0,
           0,
           0,
           0,
           0,
           0,
           0,
           0,
           1,
           0,
           1,
           0,
           0,
           0,
           0,
           0,
           0,
           0
          ],
          [
           0,
           0,
           0,
           0,
           0,
           0,
           0,
           0,
           0,
           0,
           0,
           0,
           0,
           0,
           0,
           0,
           0,
           0
          ],
          [
           0,
           0,
           0,
           0,
           1,
           0,
           0,
           0,
           0,
           0,
           0,
           0,
           0,
           0,
           0,
           1,
           0,
           0
          ],
          [
           0,
           0,
           0,
           0,
           1,
           0,
           1,
           0,
           0,
           0,
           0,
           0,
           0,
           0,
           0,
           0,
           0,
           0
          ],
          [
           0,
           0,
           0,
           0,
           0,
           0,
           0,
           0,
           1,
           0,
           0,
           0,
           0,
           0,
           0,
           0,
           0,
           0
          ],
          [
           0,
           0,
           0,
           0,
           0,
           0,
           0,
           0,
           0,
           0,
           0,
           0,
           0,
           0,
           0,
           0,
           0,
           0
          ],
          [
           0,
           0,
           0,
           0,
           0,
           0,
           0,
           0,
           0,
           0,
           0,
           0,
           0,
           1,
           0,
           0,
           0,
           0
          ],
          [
           0,
           0,
           0,
           0,
           0,
           0,
           0,
           0,
           0,
           0,
           0,
           0,
           0,
           0,
           0,
           1,
           0,
           1
          ],
          [
           0,
           0,
           0,
           0,
           0,
           0,
           0,
           0,
           0,
           0,
           0,
           0,
           0,
           0,
           1,
           0,
           0,
           0
          ],
          [
           1,
           0,
           1,
           0,
           0,
           0,
           0,
           0,
           0,
           0,
           0,
           0,
           0,
           1,
           0,
           0,
           0,
           0
          ],
          [
           0,
           0,
           0,
           0,
           0,
           0,
           0,
           0,
           0,
           0,
           0,
           0,
           0,
           0,
           0,
           0,
           0,
           0
          ],
          [
           1,
           0,
           0,
           1,
           0,
           0,
           0,
           0,
           0,
           0,
           0,
           0,
           0,
           0,
           0,
           0,
           0,
           0
          ],
          [
           0,
           0,
           0,
           0,
           0,
           0,
           0,
           0,
           0,
           0,
           0,
           0,
           0,
           0,
           0,
           0,
           0,
           0
          ],
          [
           0,
           0,
           0,
           0,
           0,
           0,
           0,
           0,
           0,
           0,
           0,
           0,
           0,
           0,
           0,
           0,
           0,
           0
          ],
          [
           0,
           0,
           0,
           0,
           1,
           0,
           1,
           0,
           0,
           0,
           0,
           0,
           0,
           0,
           0,
           0,
           0,
           0
          ],
          [
           0,
           0,
           0,
           0,
           0,
           0,
           0,
           0,
           1,
           0,
           1,
           0,
           0,
           0,
           0,
           0,
           0,
           0
          ],
          [
           0,
           0,
           0,
           0,
           0,
           0,
           0,
           0,
           0,
           0,
           0,
           0,
           0,
           0,
           0,
           0,
           0,
           0
          ],
          [
           0,
           0,
           0,
           0,
           0,
           0,
           0,
           0,
           0,
           0,
           0,
           0,
           0,
           0,
           0,
           0,
           0,
           0
          ],
          [
           0,
           0,
           0,
           0,
           1,
           0,
           0,
           0,
           0,
           0,
           0,
           0,
           0,
           0,
           0,
           0,
           0,
           1
          ],
          [
           0,
           0,
           0,
           0,
           0,
           0,
           0,
           0,
           0,
           0,
           0,
           0,
           0,
           0,
           1,
           0,
           1,
           0
          ],
          [
           0,
           0,
           0,
           0,
           0,
           0,
           0,
           0,
           1,
           0,
           1,
           0,
           0,
           0,
           0,
           0,
           0,
           0
          ],
          [
           0,
           0,
           0,
           0,
           0,
           0,
           0,
           0,
           0,
           0,
           0,
           0,
           0,
           0,
           0,
           0,
           0,
           0
          ],
          [
           0,
           0,
           0,
           0,
           0,
           0,
           0,
           0,
           0,
           0,
           0,
           0,
           0,
           0,
           0,
           0,
           1,
           0
          ],
          [
           0,
           0,
           0,
           0,
           0,
           0,
           0,
           0,
           0,
           0,
           0,
           0,
           0,
           0,
           0,
           0,
           0,
           0
          ],
          [
           0,
           0,
           0,
           0,
           0,
           0,
           0,
           0,
           0,
           0,
           0,
           0,
           0,
           0,
           0,
           0,
           0,
           0
          ],
          [
           0,
           0,
           0,
           0,
           0,
           0,
           0,
           0,
           0,
           0,
           0,
           0,
           0,
           0,
           0,
           0,
           0,
           0
          ],
          [
           0,
           0,
           0,
           0,
           1,
           0,
           0,
           0,
           0,
           0,
           0,
           0,
           0,
           0,
           0,
           0,
           0,
           0
          ],
          [
           0,
           0,
           0,
           0,
           1,
           0,
           0,
           1,
           0,
           0,
           0,
           0,
           0,
           0,
           0,
           0,
           0,
           0
          ],
          [
           0,
           0,
           0,
           0,
           0,
           0,
           0,
           0,
           0,
           0,
           0,
           0,
           0,
           0,
           0,
           0,
           0,
           0
          ],
          [
           0,
           0,
           0,
           0,
           0,
           0,
           0,
           0,
           0,
           0,
           0,
           0,
           0,
           1,
           0,
           0,
           0,
           0
          ],
          [
           0,
           0,
           0,
           0,
           0,
           0,
           0,
           0,
           0,
           0,
           0,
           0,
           0,
           0,
           0,
           0,
           0,
           0
          ],
          [
           0,
           0,
           0,
           0,
           0,
           0,
           0,
           0,
           0,
           0,
           0,
           0,
           0,
           0,
           0,
           0,
           0,
           0
          ],
          [
           0,
           0,
           0,
           0,
           1,
           0,
           1,
           0,
           0,
           0,
           0,
           0,
           0,
           0,
           0,
           0,
           0,
           0
          ],
          [
           0,
           0,
           0,
           0,
           0,
           0,
           0,
           0,
           0,
           0,
           0,
           0,
           0,
           0,
           0,
           0,
           0,
           0
          ],
          [
           1,
           0,
           1,
           0,
           0,
           0,
           0,
           0,
           0,
           0,
           0,
           0,
           0,
           0,
           0,
           0,
           0,
           0
          ],
          [
           0,
           0,
           0,
           0,
           0,
           0,
           0,
           0,
           0,
           0,
           0,
           0,
           0,
           0,
           0,
           0,
           0,
           0
          ]
         ]
        }
       ],
       "layout": {
        "template": {
         "data": {
          "bar": [
           {
            "error_x": {
             "color": "#2a3f5f"
            },
            "error_y": {
             "color": "#2a3f5f"
            },
            "marker": {
             "line": {
              "color": "#E5ECF6",
              "width": 0.5
             },
             "pattern": {
              "fillmode": "overlay",
              "size": 10,
              "solidity": 0.2
             }
            },
            "type": "bar"
           }
          ],
          "barpolar": [
           {
            "marker": {
             "line": {
              "color": "#E5ECF6",
              "width": 0.5
             },
             "pattern": {
              "fillmode": "overlay",
              "size": 10,
              "solidity": 0.2
             }
            },
            "type": "barpolar"
           }
          ],
          "carpet": [
           {
            "aaxis": {
             "endlinecolor": "#2a3f5f",
             "gridcolor": "white",
             "linecolor": "white",
             "minorgridcolor": "white",
             "startlinecolor": "#2a3f5f"
            },
            "baxis": {
             "endlinecolor": "#2a3f5f",
             "gridcolor": "white",
             "linecolor": "white",
             "minorgridcolor": "white",
             "startlinecolor": "#2a3f5f"
            },
            "type": "carpet"
           }
          ],
          "choropleth": [
           {
            "colorbar": {
             "outlinewidth": 0,
             "ticks": ""
            },
            "type": "choropleth"
           }
          ],
          "contour": [
           {
            "colorbar": {
             "outlinewidth": 0,
             "ticks": ""
            },
            "colorscale": [
             [
              0,
              "#0d0887"
             ],
             [
              0.1111111111111111,
              "#46039f"
             ],
             [
              0.2222222222222222,
              "#7201a8"
             ],
             [
              0.3333333333333333,
              "#9c179e"
             ],
             [
              0.4444444444444444,
              "#bd3786"
             ],
             [
              0.5555555555555556,
              "#d8576b"
             ],
             [
              0.6666666666666666,
              "#ed7953"
             ],
             [
              0.7777777777777778,
              "#fb9f3a"
             ],
             [
              0.8888888888888888,
              "#fdca26"
             ],
             [
              1,
              "#f0f921"
             ]
            ],
            "type": "contour"
           }
          ],
          "contourcarpet": [
           {
            "colorbar": {
             "outlinewidth": 0,
             "ticks": ""
            },
            "type": "contourcarpet"
           }
          ],
          "heatmap": [
           {
            "colorbar": {
             "outlinewidth": 0,
             "ticks": ""
            },
            "colorscale": [
             [
              0,
              "#0d0887"
             ],
             [
              0.1111111111111111,
              "#46039f"
             ],
             [
              0.2222222222222222,
              "#7201a8"
             ],
             [
              0.3333333333333333,
              "#9c179e"
             ],
             [
              0.4444444444444444,
              "#bd3786"
             ],
             [
              0.5555555555555556,
              "#d8576b"
             ],
             [
              0.6666666666666666,
              "#ed7953"
             ],
             [
              0.7777777777777778,
              "#fb9f3a"
             ],
             [
              0.8888888888888888,
              "#fdca26"
             ],
             [
              1,
              "#f0f921"
             ]
            ],
            "type": "heatmap"
           }
          ],
          "heatmapgl": [
           {
            "colorbar": {
             "outlinewidth": 0,
             "ticks": ""
            },
            "colorscale": [
             [
              0,
              "#0d0887"
             ],
             [
              0.1111111111111111,
              "#46039f"
             ],
             [
              0.2222222222222222,
              "#7201a8"
             ],
             [
              0.3333333333333333,
              "#9c179e"
             ],
             [
              0.4444444444444444,
              "#bd3786"
             ],
             [
              0.5555555555555556,
              "#d8576b"
             ],
             [
              0.6666666666666666,
              "#ed7953"
             ],
             [
              0.7777777777777778,
              "#fb9f3a"
             ],
             [
              0.8888888888888888,
              "#fdca26"
             ],
             [
              1,
              "#f0f921"
             ]
            ],
            "type": "heatmapgl"
           }
          ],
          "histogram": [
           {
            "marker": {
             "pattern": {
              "fillmode": "overlay",
              "size": 10,
              "solidity": 0.2
             }
            },
            "type": "histogram"
           }
          ],
          "histogram2d": [
           {
            "colorbar": {
             "outlinewidth": 0,
             "ticks": ""
            },
            "colorscale": [
             [
              0,
              "#0d0887"
             ],
             [
              0.1111111111111111,
              "#46039f"
             ],
             [
              0.2222222222222222,
              "#7201a8"
             ],
             [
              0.3333333333333333,
              "#9c179e"
             ],
             [
              0.4444444444444444,
              "#bd3786"
             ],
             [
              0.5555555555555556,
              "#d8576b"
             ],
             [
              0.6666666666666666,
              "#ed7953"
             ],
             [
              0.7777777777777778,
              "#fb9f3a"
             ],
             [
              0.8888888888888888,
              "#fdca26"
             ],
             [
              1,
              "#f0f921"
             ]
            ],
            "type": "histogram2d"
           }
          ],
          "histogram2dcontour": [
           {
            "colorbar": {
             "outlinewidth": 0,
             "ticks": ""
            },
            "colorscale": [
             [
              0,
              "#0d0887"
             ],
             [
              0.1111111111111111,
              "#46039f"
             ],
             [
              0.2222222222222222,
              "#7201a8"
             ],
             [
              0.3333333333333333,
              "#9c179e"
             ],
             [
              0.4444444444444444,
              "#bd3786"
             ],
             [
              0.5555555555555556,
              "#d8576b"
             ],
             [
              0.6666666666666666,
              "#ed7953"
             ],
             [
              0.7777777777777778,
              "#fb9f3a"
             ],
             [
              0.8888888888888888,
              "#fdca26"
             ],
             [
              1,
              "#f0f921"
             ]
            ],
            "type": "histogram2dcontour"
           }
          ],
          "mesh3d": [
           {
            "colorbar": {
             "outlinewidth": 0,
             "ticks": ""
            },
            "type": "mesh3d"
           }
          ],
          "parcoords": [
           {
            "line": {
             "colorbar": {
              "outlinewidth": 0,
              "ticks": ""
             }
            },
            "type": "parcoords"
           }
          ],
          "pie": [
           {
            "automargin": true,
            "type": "pie"
           }
          ],
          "scatter": [
           {
            "fillpattern": {
             "fillmode": "overlay",
             "size": 10,
             "solidity": 0.2
            },
            "type": "scatter"
           }
          ],
          "scatter3d": [
           {
            "line": {
             "colorbar": {
              "outlinewidth": 0,
              "ticks": ""
             }
            },
            "marker": {
             "colorbar": {
              "outlinewidth": 0,
              "ticks": ""
             }
            },
            "type": "scatter3d"
           }
          ],
          "scattercarpet": [
           {
            "marker": {
             "colorbar": {
              "outlinewidth": 0,
              "ticks": ""
             }
            },
            "type": "scattercarpet"
           }
          ],
          "scattergeo": [
           {
            "marker": {
             "colorbar": {
              "outlinewidth": 0,
              "ticks": ""
             }
            },
            "type": "scattergeo"
           }
          ],
          "scattergl": [
           {
            "marker": {
             "colorbar": {
              "outlinewidth": 0,
              "ticks": ""
             }
            },
            "type": "scattergl"
           }
          ],
          "scattermapbox": [
           {
            "marker": {
             "colorbar": {
              "outlinewidth": 0,
              "ticks": ""
             }
            },
            "type": "scattermapbox"
           }
          ],
          "scatterpolar": [
           {
            "marker": {
             "colorbar": {
              "outlinewidth": 0,
              "ticks": ""
             }
            },
            "type": "scatterpolar"
           }
          ],
          "scatterpolargl": [
           {
            "marker": {
             "colorbar": {
              "outlinewidth": 0,
              "ticks": ""
             }
            },
            "type": "scatterpolargl"
           }
          ],
          "scatterternary": [
           {
            "marker": {
             "colorbar": {
              "outlinewidth": 0,
              "ticks": ""
             }
            },
            "type": "scatterternary"
           }
          ],
          "surface": [
           {
            "colorbar": {
             "outlinewidth": 0,
             "ticks": ""
            },
            "colorscale": [
             [
              0,
              "#0d0887"
             ],
             [
              0.1111111111111111,
              "#46039f"
             ],
             [
              0.2222222222222222,
              "#7201a8"
             ],
             [
              0.3333333333333333,
              "#9c179e"
             ],
             [
              0.4444444444444444,
              "#bd3786"
             ],
             [
              0.5555555555555556,
              "#d8576b"
             ],
             [
              0.6666666666666666,
              "#ed7953"
             ],
             [
              0.7777777777777778,
              "#fb9f3a"
             ],
             [
              0.8888888888888888,
              "#fdca26"
             ],
             [
              1,
              "#f0f921"
             ]
            ],
            "type": "surface"
           }
          ],
          "table": [
           {
            "cells": {
             "fill": {
              "color": "#EBF0F8"
             },
             "line": {
              "color": "white"
             }
            },
            "header": {
             "fill": {
              "color": "#C8D4E3"
             },
             "line": {
              "color": "white"
             }
            },
            "type": "table"
           }
          ]
         },
         "layout": {
          "annotationdefaults": {
           "arrowcolor": "#2a3f5f",
           "arrowhead": 0,
           "arrowwidth": 1
          },
          "autotypenumbers": "strict",
          "coloraxis": {
           "colorbar": {
            "outlinewidth": 0,
            "ticks": ""
           }
          },
          "colorscale": {
           "diverging": [
            [
             0,
             "#8e0152"
            ],
            [
             0.1,
             "#c51b7d"
            ],
            [
             0.2,
             "#de77ae"
            ],
            [
             0.3,
             "#f1b6da"
            ],
            [
             0.4,
             "#fde0ef"
            ],
            [
             0.5,
             "#f7f7f7"
            ],
            [
             0.6,
             "#e6f5d0"
            ],
            [
             0.7,
             "#b8e186"
            ],
            [
             0.8,
             "#7fbc41"
            ],
            [
             0.9,
             "#4d9221"
            ],
            [
             1,
             "#276419"
            ]
           ],
           "sequential": [
            [
             0,
             "#0d0887"
            ],
            [
             0.1111111111111111,
             "#46039f"
            ],
            [
             0.2222222222222222,
             "#7201a8"
            ],
            [
             0.3333333333333333,
             "#9c179e"
            ],
            [
             0.4444444444444444,
             "#bd3786"
            ],
            [
             0.5555555555555556,
             "#d8576b"
            ],
            [
             0.6666666666666666,
             "#ed7953"
            ],
            [
             0.7777777777777778,
             "#fb9f3a"
            ],
            [
             0.8888888888888888,
             "#fdca26"
            ],
            [
             1,
             "#f0f921"
            ]
           ],
           "sequentialminus": [
            [
             0,
             "#0d0887"
            ],
            [
             0.1111111111111111,
             "#46039f"
            ],
            [
             0.2222222222222222,
             "#7201a8"
            ],
            [
             0.3333333333333333,
             "#9c179e"
            ],
            [
             0.4444444444444444,
             "#bd3786"
            ],
            [
             0.5555555555555556,
             "#d8576b"
            ],
            [
             0.6666666666666666,
             "#ed7953"
            ],
            [
             0.7777777777777778,
             "#fb9f3a"
            ],
            [
             0.8888888888888888,
             "#fdca26"
            ],
            [
             1,
             "#f0f921"
            ]
           ]
          },
          "colorway": [
           "#636efa",
           "#EF553B",
           "#00cc96",
           "#ab63fa",
           "#FFA15A",
           "#19d3f3",
           "#FF6692",
           "#B6E880",
           "#FF97FF",
           "#FECB52"
          ],
          "font": {
           "color": "#2a3f5f"
          },
          "geo": {
           "bgcolor": "white",
           "lakecolor": "white",
           "landcolor": "#E5ECF6",
           "showlakes": true,
           "showland": true,
           "subunitcolor": "white"
          },
          "hoverlabel": {
           "align": "left"
          },
          "hovermode": "closest",
          "mapbox": {
           "style": "light"
          },
          "paper_bgcolor": "white",
          "plot_bgcolor": "#E5ECF6",
          "polar": {
           "angularaxis": {
            "gridcolor": "white",
            "linecolor": "white",
            "ticks": ""
           },
           "bgcolor": "#E5ECF6",
           "radialaxis": {
            "gridcolor": "white",
            "linecolor": "white",
            "ticks": ""
           }
          },
          "scene": {
           "xaxis": {
            "backgroundcolor": "#E5ECF6",
            "gridcolor": "white",
            "gridwidth": 2,
            "linecolor": "white",
            "showbackground": true,
            "ticks": "",
            "zerolinecolor": "white"
           },
           "yaxis": {
            "backgroundcolor": "#E5ECF6",
            "gridcolor": "white",
            "gridwidth": 2,
            "linecolor": "white",
            "showbackground": true,
            "ticks": "",
            "zerolinecolor": "white"
           },
           "zaxis": {
            "backgroundcolor": "#E5ECF6",
            "gridcolor": "white",
            "gridwidth": 2,
            "linecolor": "white",
            "showbackground": true,
            "ticks": "",
            "zerolinecolor": "white"
           }
          },
          "shapedefaults": {
           "line": {
            "color": "#2a3f5f"
           }
          },
          "ternary": {
           "aaxis": {
            "gridcolor": "white",
            "linecolor": "white",
            "ticks": ""
           },
           "baxis": {
            "gridcolor": "white",
            "linecolor": "white",
            "ticks": ""
           },
           "bgcolor": "#E5ECF6",
           "caxis": {
            "gridcolor": "white",
            "linecolor": "white",
            "ticks": ""
           }
          },
          "title": {
           "x": 0.05
          },
          "xaxis": {
           "automargin": true,
           "gridcolor": "white",
           "linecolor": "white",
           "ticks": "",
           "title": {
            "standoff": 15
           },
           "zerolinecolor": "white",
           "zerolinewidth": 2
          },
          "yaxis": {
           "automargin": true,
           "gridcolor": "white",
           "linecolor": "white",
           "ticks": "",
           "title": {
            "standoff": 15
           },
           "zerolinecolor": "white",
           "zerolinewidth": 2
          }
         }
        },
        "title": {
         "text": "Ground truth feature activations"
        },
        "xaxis": {
         "showticklabels": false,
         "title": {
          "text": "col (18)"
         }
        },
        "yaxis": {
         "autorange": "reversed",
         "showticklabels": false,
         "title": {
          "text": "row (200)"
         }
        }
       }
      }
     },
     "metadata": {},
     "output_type": "display_data"
    }
   ],
   "source": [
    "\n",
    "\n",
    "# print(tree)\n",
    "# heatmap(sims[:200], title='NNMF activations', dim_names=('batch', 'atom'), info_1={'prob': probabilities}).show()\n",
    "\n",
    "heatmap(codes[:200], title='NNMF activations', dim_names=('batch', 'atom'), info_1={'prob': probabilities}).show()\n",
    "heatmap(f_batch[:200], title='Ground truth feature activations', info_1={'prob': probabilities}).show()\n"
   ]
  },
  {
   "cell_type": "code",
   "execution_count": null,
   "metadata": {},
   "outputs": [],
   "source": [
    "# atom 8: 5\n",
    "# atom 9: 4\n",
    "# 10: 1\n",
    "# 7: 6\n",
    "# 6: 7????\n",
    "# 5: 9??\n",
    "# 4: 2\n",
    "# 3: 10\n",
    "# 2: 8\n",
    "# 0: 3\n",
    "# 1: 0???\n",
    "\n",
    "perm = torch.tensor([3, 0, 8, 10, 2, 9, 7, 6, 5, 4, 1])"
   ]
  },
  {
   "cell_type": "code",
   "execution_count": null,
   "metadata": {},
   "outputs": [],
   "source": []
  },
  {
   "cell_type": "code",
   "execution_count": null,
   "metadata": {},
   "outputs": [
    {
     "data": {
      "text/plain": [
       "tensor([-0.3209,  0.0588,  0.2081,  0.0929], grad_fn=<MvBackward0>)"
      ]
     },
     "execution_count": 1045,
     "metadata": {},
     "output_type": "execute_result"
    }
   ],
   "source": [
    "# nnmf.atoms @ \n",
    "batch_mean = batch.mean(dim=0)\n",
    "mean_dir = batch_mean/torch.norm(batch_mean)\n",
    "(nnmf.normed_atoms @ mean_dir)\n"
   ]
  },
  {
   "cell_type": "code",
   "execution_count": null,
   "metadata": {},
   "outputs": [
    {
     "data": {
      "application/vnd.plotly.v1+json": {
       "config": {
        "plotlyServerURL": "https://plot.ly"
       },
       "data": [
        {
         "colorscale": [
          [
           0,
           "#440154"
          ],
          [
           0.1111111111111111,
           "#482878"
          ],
          [
           0.2222222222222222,
           "#3e4989"
          ],
          [
           0.3333333333333333,
           "#31688e"
          ],
          [
           0.4444444444444444,
           "#26828e"
          ],
          [
           0.5555555555555556,
           "#1f9e89"
          ],
          [
           0.6666666666666666,
           "#35b779"
          ],
          [
           0.7777777777777778,
           "#6ece58"
          ],
          [
           0.8888888888888888,
           "#b5de2b"
          ],
          [
           1,
           "#fde725"
          ]
         ],
         "hovertemplate": "%{y}%{x}val: %{z:.2f}<extra></extra>",
         "type": "heatmap",
         "x": [
          "col: 0<br>",
          "col: 1<br>",
          "col: 2<br>",
          "col: 3<br>",
          "col: 4<br>",
          "col: 5<br>",
          "col: 6<br>",
          "col: 7<br>",
          "col: 8<br>",
          "col: 9<br>",
          "col: 10<br>"
         ],
         "y": [
          "row: 0<br>",
          "row: 1<br>",
          "row: 2<br>",
          "row: 3<br>",
          "row: 4<br>",
          "row: 5<br>",
          "row: 6<br>",
          "row: 7<br>",
          "row: 8<br>",
          "row: 9<br>",
          "row: 10<br>",
          "row: 11<br>",
          "row: 12<br>",
          "row: 13<br>",
          "row: 14<br>",
          "row: 15<br>",
          "row: 16<br>",
          "row: 17<br>",
          "row: 18<br>",
          "row: 19<br>"
         ],
         "z": [
          [
           0,
           0,
           0,
           0,
           0,
           0,
           0,
           0,
           0,
           0,
           0
          ],
          [
           0,
           0,
           0,
           0,
           0,
           0,
           0,
           0,
           0,
           0,
           0
          ],
          [
           0,
           0,
           0,
           0,
           0,
           0,
           0,
           0,
           0,
           0,
           0
          ],
          [
           0,
           0,
           0,
           0,
           0,
           0,
           0,
           0,
           0,
           0,
           0
          ],
          [
           0,
           0,
           0,
           0,
           0,
           0,
           0,
           0,
           0,
           0,
           0
          ],
          [
           0,
           0,
           0,
           0,
           0,
           0,
           0,
           0,
           0,
           0,
           0
          ],
          [
           0,
           0,
           0,
           0,
           0,
           0,
           0,
           0,
           0,
           0,
           0
          ],
          [
           0,
           0,
           0,
           0,
           0,
           0,
           0,
           0,
           0,
           0,
           0
          ],
          [
           0,
           0,
           0,
           0,
           0,
           0,
           0,
           0,
           0,
           0,
           0
          ],
          [
           0,
           0,
           0,
           0,
           0,
           0,
           0,
           0,
           0,
           0,
           0
          ],
          [
           0,
           0,
           0,
           0,
           0,
           0,
           0,
           0,
           0,
           0,
           0
          ],
          [
           0,
           0,
           0,
           0,
           0,
           0,
           0,
           0,
           0,
           0,
           0
          ],
          [
           0,
           0,
           0,
           0,
           0,
           0,
           0,
           0,
           0,
           0,
           0
          ],
          [
           0,
           0,
           0,
           0,
           0,
           0,
           0,
           0,
           0,
           0,
           0
          ],
          [
           0,
           0,
           0,
           0,
           0,
           0,
           0,
           0,
           0,
           0,
           0
          ],
          [
           0,
           0,
           0,
           0,
           0,
           0,
           0,
           0,
           0,
           0,
           0
          ],
          [
           0,
           0,
           0,
           0,
           0,
           0,
           0,
           0,
           0,
           0,
           0
          ],
          [
           0,
           0,
           0,
           0,
           0,
           0,
           0,
           0,
           0,
           0,
           0
          ],
          [
           0,
           0,
           0,
           1,
           1,
           0,
           0,
           0,
           0,
           0,
           0
          ],
          [
           0,
           0,
           0,
           0,
           0,
           0,
           0,
           0,
           0,
           0,
           0
          ]
         ]
        }
       ],
       "layout": {
        "template": {
         "data": {
          "bar": [
           {
            "error_x": {
             "color": "#2a3f5f"
            },
            "error_y": {
             "color": "#2a3f5f"
            },
            "marker": {
             "line": {
              "color": "#E5ECF6",
              "width": 0.5
             },
             "pattern": {
              "fillmode": "overlay",
              "size": 10,
              "solidity": 0.2
             }
            },
            "type": "bar"
           }
          ],
          "barpolar": [
           {
            "marker": {
             "line": {
              "color": "#E5ECF6",
              "width": 0.5
             },
             "pattern": {
              "fillmode": "overlay",
              "size": 10,
              "solidity": 0.2
             }
            },
            "type": "barpolar"
           }
          ],
          "carpet": [
           {
            "aaxis": {
             "endlinecolor": "#2a3f5f",
             "gridcolor": "white",
             "linecolor": "white",
             "minorgridcolor": "white",
             "startlinecolor": "#2a3f5f"
            },
            "baxis": {
             "endlinecolor": "#2a3f5f",
             "gridcolor": "white",
             "linecolor": "white",
             "minorgridcolor": "white",
             "startlinecolor": "#2a3f5f"
            },
            "type": "carpet"
           }
          ],
          "choropleth": [
           {
            "colorbar": {
             "outlinewidth": 0,
             "ticks": ""
            },
            "type": "choropleth"
           }
          ],
          "contour": [
           {
            "colorbar": {
             "outlinewidth": 0,
             "ticks": ""
            },
            "colorscale": [
             [
              0,
              "#0d0887"
             ],
             [
              0.1111111111111111,
              "#46039f"
             ],
             [
              0.2222222222222222,
              "#7201a8"
             ],
             [
              0.3333333333333333,
              "#9c179e"
             ],
             [
              0.4444444444444444,
              "#bd3786"
             ],
             [
              0.5555555555555556,
              "#d8576b"
             ],
             [
              0.6666666666666666,
              "#ed7953"
             ],
             [
              0.7777777777777778,
              "#fb9f3a"
             ],
             [
              0.8888888888888888,
              "#fdca26"
             ],
             [
              1,
              "#f0f921"
             ]
            ],
            "type": "contour"
           }
          ],
          "contourcarpet": [
           {
            "colorbar": {
             "outlinewidth": 0,
             "ticks": ""
            },
            "type": "contourcarpet"
           }
          ],
          "heatmap": [
           {
            "colorbar": {
             "outlinewidth": 0,
             "ticks": ""
            },
            "colorscale": [
             [
              0,
              "#0d0887"
             ],
             [
              0.1111111111111111,
              "#46039f"
             ],
             [
              0.2222222222222222,
              "#7201a8"
             ],
             [
              0.3333333333333333,
              "#9c179e"
             ],
             [
              0.4444444444444444,
              "#bd3786"
             ],
             [
              0.5555555555555556,
              "#d8576b"
             ],
             [
              0.6666666666666666,
              "#ed7953"
             ],
             [
              0.7777777777777778,
              "#fb9f3a"
             ],
             [
              0.8888888888888888,
              "#fdca26"
             ],
             [
              1,
              "#f0f921"
             ]
            ],
            "type": "heatmap"
           }
          ],
          "heatmapgl": [
           {
            "colorbar": {
             "outlinewidth": 0,
             "ticks": ""
            },
            "colorscale": [
             [
              0,
              "#0d0887"
             ],
             [
              0.1111111111111111,
              "#46039f"
             ],
             [
              0.2222222222222222,
              "#7201a8"
             ],
             [
              0.3333333333333333,
              "#9c179e"
             ],
             [
              0.4444444444444444,
              "#bd3786"
             ],
             [
              0.5555555555555556,
              "#d8576b"
             ],
             [
              0.6666666666666666,
              "#ed7953"
             ],
             [
              0.7777777777777778,
              "#fb9f3a"
             ],
             [
              0.8888888888888888,
              "#fdca26"
             ],
             [
              1,
              "#f0f921"
             ]
            ],
            "type": "heatmapgl"
           }
          ],
          "histogram": [
           {
            "marker": {
             "pattern": {
              "fillmode": "overlay",
              "size": 10,
              "solidity": 0.2
             }
            },
            "type": "histogram"
           }
          ],
          "histogram2d": [
           {
            "colorbar": {
             "outlinewidth": 0,
             "ticks": ""
            },
            "colorscale": [
             [
              0,
              "#0d0887"
             ],
             [
              0.1111111111111111,
              "#46039f"
             ],
             [
              0.2222222222222222,
              "#7201a8"
             ],
             [
              0.3333333333333333,
              "#9c179e"
             ],
             [
              0.4444444444444444,
              "#bd3786"
             ],
             [
              0.5555555555555556,
              "#d8576b"
             ],
             [
              0.6666666666666666,
              "#ed7953"
             ],
             [
              0.7777777777777778,
              "#fb9f3a"
             ],
             [
              0.8888888888888888,
              "#fdca26"
             ],
             [
              1,
              "#f0f921"
             ]
            ],
            "type": "histogram2d"
           }
          ],
          "histogram2dcontour": [
           {
            "colorbar": {
             "outlinewidth": 0,
             "ticks": ""
            },
            "colorscale": [
             [
              0,
              "#0d0887"
             ],
             [
              0.1111111111111111,
              "#46039f"
             ],
             [
              0.2222222222222222,
              "#7201a8"
             ],
             [
              0.3333333333333333,
              "#9c179e"
             ],
             [
              0.4444444444444444,
              "#bd3786"
             ],
             [
              0.5555555555555556,
              "#d8576b"
             ],
             [
              0.6666666666666666,
              "#ed7953"
             ],
             [
              0.7777777777777778,
              "#fb9f3a"
             ],
             [
              0.8888888888888888,
              "#fdca26"
             ],
             [
              1,
              "#f0f921"
             ]
            ],
            "type": "histogram2dcontour"
           }
          ],
          "mesh3d": [
           {
            "colorbar": {
             "outlinewidth": 0,
             "ticks": ""
            },
            "type": "mesh3d"
           }
          ],
          "parcoords": [
           {
            "line": {
             "colorbar": {
              "outlinewidth": 0,
              "ticks": ""
             }
            },
            "type": "parcoords"
           }
          ],
          "pie": [
           {
            "automargin": true,
            "type": "pie"
           }
          ],
          "scatter": [
           {
            "fillpattern": {
             "fillmode": "overlay",
             "size": 10,
             "solidity": 0.2
            },
            "type": "scatter"
           }
          ],
          "scatter3d": [
           {
            "line": {
             "colorbar": {
              "outlinewidth": 0,
              "ticks": ""
             }
            },
            "marker": {
             "colorbar": {
              "outlinewidth": 0,
              "ticks": ""
             }
            },
            "type": "scatter3d"
           }
          ],
          "scattercarpet": [
           {
            "marker": {
             "colorbar": {
              "outlinewidth": 0,
              "ticks": ""
             }
            },
            "type": "scattercarpet"
           }
          ],
          "scattergeo": [
           {
            "marker": {
             "colorbar": {
              "outlinewidth": 0,
              "ticks": ""
             }
            },
            "type": "scattergeo"
           }
          ],
          "scattergl": [
           {
            "marker": {
             "colorbar": {
              "outlinewidth": 0,
              "ticks": ""
             }
            },
            "type": "scattergl"
           }
          ],
          "scattermapbox": [
           {
            "marker": {
             "colorbar": {
              "outlinewidth": 0,
              "ticks": ""
             }
            },
            "type": "scattermapbox"
           }
          ],
          "scatterpolar": [
           {
            "marker": {
             "colorbar": {
              "outlinewidth": 0,
              "ticks": ""
             }
            },
            "type": "scatterpolar"
           }
          ],
          "scatterpolargl": [
           {
            "marker": {
             "colorbar": {
              "outlinewidth": 0,
              "ticks": ""
             }
            },
            "type": "scatterpolargl"
           }
          ],
          "scatterternary": [
           {
            "marker": {
             "colorbar": {
              "outlinewidth": 0,
              "ticks": ""
             }
            },
            "type": "scatterternary"
           }
          ],
          "surface": [
           {
            "colorbar": {
             "outlinewidth": 0,
             "ticks": ""
            },
            "colorscale": [
             [
              0,
              "#0d0887"
             ],
             [
              0.1111111111111111,
              "#46039f"
             ],
             [
              0.2222222222222222,
              "#7201a8"
             ],
             [
              0.3333333333333333,
              "#9c179e"
             ],
             [
              0.4444444444444444,
              "#bd3786"
             ],
             [
              0.5555555555555556,
              "#d8576b"
             ],
             [
              0.6666666666666666,
              "#ed7953"
             ],
             [
              0.7777777777777778,
              "#fb9f3a"
             ],
             [
              0.8888888888888888,
              "#fdca26"
             ],
             [
              1,
              "#f0f921"
             ]
            ],
            "type": "surface"
           }
          ],
          "table": [
           {
            "cells": {
             "fill": {
              "color": "#EBF0F8"
             },
             "line": {
              "color": "white"
             }
            },
            "header": {
             "fill": {
              "color": "#C8D4E3"
             },
             "line": {
              "color": "white"
             }
            },
            "type": "table"
           }
          ]
         },
         "layout": {
          "annotationdefaults": {
           "arrowcolor": "#2a3f5f",
           "arrowhead": 0,
           "arrowwidth": 1
          },
          "autotypenumbers": "strict",
          "coloraxis": {
           "colorbar": {
            "outlinewidth": 0,
            "ticks": ""
           }
          },
          "colorscale": {
           "diverging": [
            [
             0,
             "#8e0152"
            ],
            [
             0.1,
             "#c51b7d"
            ],
            [
             0.2,
             "#de77ae"
            ],
            [
             0.3,
             "#f1b6da"
            ],
            [
             0.4,
             "#fde0ef"
            ],
            [
             0.5,
             "#f7f7f7"
            ],
            [
             0.6,
             "#e6f5d0"
            ],
            [
             0.7,
             "#b8e186"
            ],
            [
             0.8,
             "#7fbc41"
            ],
            [
             0.9,
             "#4d9221"
            ],
            [
             1,
             "#276419"
            ]
           ],
           "sequential": [
            [
             0,
             "#0d0887"
            ],
            [
             0.1111111111111111,
             "#46039f"
            ],
            [
             0.2222222222222222,
             "#7201a8"
            ],
            [
             0.3333333333333333,
             "#9c179e"
            ],
            [
             0.4444444444444444,
             "#bd3786"
            ],
            [
             0.5555555555555556,
             "#d8576b"
            ],
            [
             0.6666666666666666,
             "#ed7953"
            ],
            [
             0.7777777777777778,
             "#fb9f3a"
            ],
            [
             0.8888888888888888,
             "#fdca26"
            ],
            [
             1,
             "#f0f921"
            ]
           ],
           "sequentialminus": [
            [
             0,
             "#0d0887"
            ],
            [
             0.1111111111111111,
             "#46039f"
            ],
            [
             0.2222222222222222,
             "#7201a8"
            ],
            [
             0.3333333333333333,
             "#9c179e"
            ],
            [
             0.4444444444444444,
             "#bd3786"
            ],
            [
             0.5555555555555556,
             "#d8576b"
            ],
            [
             0.6666666666666666,
             "#ed7953"
            ],
            [
             0.7777777777777778,
             "#fb9f3a"
            ],
            [
             0.8888888888888888,
             "#fdca26"
            ],
            [
             1,
             "#f0f921"
            ]
           ]
          },
          "colorway": [
           "#636efa",
           "#EF553B",
           "#00cc96",
           "#ab63fa",
           "#FFA15A",
           "#19d3f3",
           "#FF6692",
           "#B6E880",
           "#FF97FF",
           "#FECB52"
          ],
          "font": {
           "color": "#2a3f5f"
          },
          "geo": {
           "bgcolor": "white",
           "lakecolor": "white",
           "landcolor": "#E5ECF6",
           "showlakes": true,
           "showland": true,
           "subunitcolor": "white"
          },
          "hoverlabel": {
           "align": "left"
          },
          "hovermode": "closest",
          "mapbox": {
           "style": "light"
          },
          "paper_bgcolor": "white",
          "plot_bgcolor": "#E5ECF6",
          "polar": {
           "angularaxis": {
            "gridcolor": "white",
            "linecolor": "white",
            "ticks": ""
           },
           "bgcolor": "#E5ECF6",
           "radialaxis": {
            "gridcolor": "white",
            "linecolor": "white",
            "ticks": ""
           }
          },
          "scene": {
           "xaxis": {
            "backgroundcolor": "#E5ECF6",
            "gridcolor": "white",
            "gridwidth": 2,
            "linecolor": "white",
            "showbackground": true,
            "ticks": "",
            "zerolinecolor": "white"
           },
           "yaxis": {
            "backgroundcolor": "#E5ECF6",
            "gridcolor": "white",
            "gridwidth": 2,
            "linecolor": "white",
            "showbackground": true,
            "ticks": "",
            "zerolinecolor": "white"
           },
           "zaxis": {
            "backgroundcolor": "#E5ECF6",
            "gridcolor": "white",
            "gridwidth": 2,
            "linecolor": "white",
            "showbackground": true,
            "ticks": "",
            "zerolinecolor": "white"
           }
          },
          "shapedefaults": {
           "line": {
            "color": "#2a3f5f"
           }
          },
          "ternary": {
           "aaxis": {
            "gridcolor": "white",
            "linecolor": "white",
            "ticks": ""
           },
           "baxis": {
            "gridcolor": "white",
            "linecolor": "white",
            "ticks": ""
           },
           "bgcolor": "#E5ECF6",
           "caxis": {
            "gridcolor": "white",
            "linecolor": "white",
            "ticks": ""
           }
          },
          "title": {
           "x": 0.05
          },
          "xaxis": {
           "automargin": true,
           "gridcolor": "white",
           "linecolor": "white",
           "ticks": "",
           "title": {
            "standoff": 15
           },
           "zerolinecolor": "white",
           "zerolinewidth": 2
          },
          "yaxis": {
           "automargin": true,
           "gridcolor": "white",
           "linecolor": "white",
           "ticks": "",
           "title": {
            "standoff": 15
           },
           "zerolinecolor": "white",
           "zerolinewidth": 2
          }
         }
        },
        "title": {
         "text": "Ground truth feature activations"
        },
        "xaxis": {
         "showticklabels": false,
         "title": {
          "text": "col (11)"
         }
        },
        "yaxis": {
         "autorange": "reversed",
         "showticklabels": false,
         "title": {
          "text": "row (20)"
         }
        }
       }
      }
     },
     "metadata": {},
     "output_type": "display_data"
    }
   ],
   "source": []
  },
  {
   "cell_type": "code",
   "execution_count": null,
   "metadata": {},
   "outputs": [],
   "source": []
  },
  {
   "cell_type": "code",
   "execution_count": null,
   "metadata": {},
   "outputs": [
    {
     "data": {
      "text/plain": [
       "tensor([[0., 0., 0.],\n",
       "        [1., 1., 0.],\n",
       "        [0., 1., 0.],\n",
       "        [0., 0., 0.],\n",
       "        [0., 0., 0.],\n",
       "        [0., 0., 0.],\n",
       "        [0., 0., 0.],\n",
       "        [0., 0., 0.],\n",
       "        [0., 0., 0.],\n",
       "        [1., 0., 0.],\n",
       "        [0., 1., 0.],\n",
       "        [0., 0., 0.],\n",
       "        [1., 0., 0.],\n",
       "        [0., 0., 0.],\n",
       "        [0., 0., 0.],\n",
       "        [0., 0., 0.],\n",
       "        [0., 0., 1.],\n",
       "        [0., 0., 0.],\n",
       "        [0., 0., 1.],\n",
       "        [0., 0., 0.]])"
      ]
     },
     "execution_count": 762,
     "metadata": {},
     "output_type": "execute_result"
    }
   ],
   "source": [
    "features_batch[:20][:,-3:]"
   ]
  },
  {
   "cell_type": "code",
   "execution_count": null,
   "metadata": {},
   "outputs": [
    {
     "data": {
      "text/plain": [
       "tensor([[1.2809e+00, 5.2178e-01, 8.3384e-04, 8.2154e-04],\n",
       "        [1.1812e-04, 5.4305e-02, 1.8370e+00, 4.4291e-04],\n",
       "        [1.2233e-03, 1.3536e+00, 6.4142e-04, 4.8705e-04],\n",
       "        ...,\n",
       "        [5.7441e-04, 1.3546e+00, 4.7168e-04, 4.7056e-04],\n",
       "        [1.1720e-03, 1.3542e+00, 5.3459e-04, 5.8248e-04],\n",
       "        [9.2144e-04, 1.3545e+00, 4.8252e-04, 5.8358e-04]],\n",
       "       grad_fn=<AbsBackward0>)"
      ]
     },
     "execution_count": 705,
     "metadata": {},
     "output_type": "execute_result"
    }
   ],
   "source": [
    "nnmf.codes()"
   ]
  },
  {
   "cell_type": "code",
   "execution_count": null,
   "metadata": {},
   "outputs": [
    {
     "data": {
      "application/vnd.plotly.v1+json": {
       "config": {
        "plotlyServerURL": "https://plot.ly"
       },
       "data": [
        {
         "colorscale": [
          [
           0,
           "#440154"
          ],
          [
           0.1111111111111111,
           "#482878"
          ],
          [
           0.2222222222222222,
           "#3e4989"
          ],
          [
           0.3333333333333333,
           "#31688e"
          ],
          [
           0.4444444444444444,
           "#26828e"
          ],
          [
           0.5555555555555556,
           "#1f9e89"
          ],
          [
           0.6666666666666666,
           "#35b779"
          ],
          [
           0.7777777777777778,
           "#6ece58"
          ],
          [
           0.8888888888888888,
           "#b5de2b"
          ],
          [
           1,
           "#fde725"
          ]
         ],
         "hovertemplate": "%{y}%{x}val: %{z:.2f}<extra></extra>",
         "type": "heatmap",
         "x": [
          "col: 0<br>",
          "col: 1<br>",
          "col: 2<br>",
          "col: 3<br>"
         ],
         "y": [
          "row: 0<br>",
          "row: 1<br>",
          "row: 2<br>",
          "row: 3<br>"
         ],
         "z": [
          [
           0.6642946004867554,
           0.0021036090329289436,
           0.0020012701861560345,
           0.00048310458078049123
          ],
          [
           0.23777195811271667,
           1.1382842063903809,
           -0.0241695549339056,
           -0.005231672432273626
          ],
          [
           -0.06875770539045334,
           -0.04549940302968025,
           1.135880708694458,
           -0.007429379504173994
          ],
          [
           -0.23558416962623596,
           -0.0023372399155050516,
           -0.004650518298149109,
           1.1429628133773804
          ]
         ]
        }
       ],
       "layout": {
        "template": {
         "data": {
          "bar": [
           {
            "error_x": {
             "color": "#2a3f5f"
            },
            "error_y": {
             "color": "#2a3f5f"
            },
            "marker": {
             "line": {
              "color": "#E5ECF6",
              "width": 0.5
             },
             "pattern": {
              "fillmode": "overlay",
              "size": 10,
              "solidity": 0.2
             }
            },
            "type": "bar"
           }
          ],
          "barpolar": [
           {
            "marker": {
             "line": {
              "color": "#E5ECF6",
              "width": 0.5
             },
             "pattern": {
              "fillmode": "overlay",
              "size": 10,
              "solidity": 0.2
             }
            },
            "type": "barpolar"
           }
          ],
          "carpet": [
           {
            "aaxis": {
             "endlinecolor": "#2a3f5f",
             "gridcolor": "white",
             "linecolor": "white",
             "minorgridcolor": "white",
             "startlinecolor": "#2a3f5f"
            },
            "baxis": {
             "endlinecolor": "#2a3f5f",
             "gridcolor": "white",
             "linecolor": "white",
             "minorgridcolor": "white",
             "startlinecolor": "#2a3f5f"
            },
            "type": "carpet"
           }
          ],
          "choropleth": [
           {
            "colorbar": {
             "outlinewidth": 0,
             "ticks": ""
            },
            "type": "choropleth"
           }
          ],
          "contour": [
           {
            "colorbar": {
             "outlinewidth": 0,
             "ticks": ""
            },
            "colorscale": [
             [
              0,
              "#0d0887"
             ],
             [
              0.1111111111111111,
              "#46039f"
             ],
             [
              0.2222222222222222,
              "#7201a8"
             ],
             [
              0.3333333333333333,
              "#9c179e"
             ],
             [
              0.4444444444444444,
              "#bd3786"
             ],
             [
              0.5555555555555556,
              "#d8576b"
             ],
             [
              0.6666666666666666,
              "#ed7953"
             ],
             [
              0.7777777777777778,
              "#fb9f3a"
             ],
             [
              0.8888888888888888,
              "#fdca26"
             ],
             [
              1,
              "#f0f921"
             ]
            ],
            "type": "contour"
           }
          ],
          "contourcarpet": [
           {
            "colorbar": {
             "outlinewidth": 0,
             "ticks": ""
            },
            "type": "contourcarpet"
           }
          ],
          "heatmap": [
           {
            "colorbar": {
             "outlinewidth": 0,
             "ticks": ""
            },
            "colorscale": [
             [
              0,
              "#0d0887"
             ],
             [
              0.1111111111111111,
              "#46039f"
             ],
             [
              0.2222222222222222,
              "#7201a8"
             ],
             [
              0.3333333333333333,
              "#9c179e"
             ],
             [
              0.4444444444444444,
              "#bd3786"
             ],
             [
              0.5555555555555556,
              "#d8576b"
             ],
             [
              0.6666666666666666,
              "#ed7953"
             ],
             [
              0.7777777777777778,
              "#fb9f3a"
             ],
             [
              0.8888888888888888,
              "#fdca26"
             ],
             [
              1,
              "#f0f921"
             ]
            ],
            "type": "heatmap"
           }
          ],
          "heatmapgl": [
           {
            "colorbar": {
             "outlinewidth": 0,
             "ticks": ""
            },
            "colorscale": [
             [
              0,
              "#0d0887"
             ],
             [
              0.1111111111111111,
              "#46039f"
             ],
             [
              0.2222222222222222,
              "#7201a8"
             ],
             [
              0.3333333333333333,
              "#9c179e"
             ],
             [
              0.4444444444444444,
              "#bd3786"
             ],
             [
              0.5555555555555556,
              "#d8576b"
             ],
             [
              0.6666666666666666,
              "#ed7953"
             ],
             [
              0.7777777777777778,
              "#fb9f3a"
             ],
             [
              0.8888888888888888,
              "#fdca26"
             ],
             [
              1,
              "#f0f921"
             ]
            ],
            "type": "heatmapgl"
           }
          ],
          "histogram": [
           {
            "marker": {
             "pattern": {
              "fillmode": "overlay",
              "size": 10,
              "solidity": 0.2
             }
            },
            "type": "histogram"
           }
          ],
          "histogram2d": [
           {
            "colorbar": {
             "outlinewidth": 0,
             "ticks": ""
            },
            "colorscale": [
             [
              0,
              "#0d0887"
             ],
             [
              0.1111111111111111,
              "#46039f"
             ],
             [
              0.2222222222222222,
              "#7201a8"
             ],
             [
              0.3333333333333333,
              "#9c179e"
             ],
             [
              0.4444444444444444,
              "#bd3786"
             ],
             [
              0.5555555555555556,
              "#d8576b"
             ],
             [
              0.6666666666666666,
              "#ed7953"
             ],
             [
              0.7777777777777778,
              "#fb9f3a"
             ],
             [
              0.8888888888888888,
              "#fdca26"
             ],
             [
              1,
              "#f0f921"
             ]
            ],
            "type": "histogram2d"
           }
          ],
          "histogram2dcontour": [
           {
            "colorbar": {
             "outlinewidth": 0,
             "ticks": ""
            },
            "colorscale": [
             [
              0,
              "#0d0887"
             ],
             [
              0.1111111111111111,
              "#46039f"
             ],
             [
              0.2222222222222222,
              "#7201a8"
             ],
             [
              0.3333333333333333,
              "#9c179e"
             ],
             [
              0.4444444444444444,
              "#bd3786"
             ],
             [
              0.5555555555555556,
              "#d8576b"
             ],
             [
              0.6666666666666666,
              "#ed7953"
             ],
             [
              0.7777777777777778,
              "#fb9f3a"
             ],
             [
              0.8888888888888888,
              "#fdca26"
             ],
             [
              1,
              "#f0f921"
             ]
            ],
            "type": "histogram2dcontour"
           }
          ],
          "mesh3d": [
           {
            "colorbar": {
             "outlinewidth": 0,
             "ticks": ""
            },
            "type": "mesh3d"
           }
          ],
          "parcoords": [
           {
            "line": {
             "colorbar": {
              "outlinewidth": 0,
              "ticks": ""
             }
            },
            "type": "parcoords"
           }
          ],
          "pie": [
           {
            "automargin": true,
            "type": "pie"
           }
          ],
          "scatter": [
           {
            "fillpattern": {
             "fillmode": "overlay",
             "size": 10,
             "solidity": 0.2
            },
            "type": "scatter"
           }
          ],
          "scatter3d": [
           {
            "line": {
             "colorbar": {
              "outlinewidth": 0,
              "ticks": ""
             }
            },
            "marker": {
             "colorbar": {
              "outlinewidth": 0,
              "ticks": ""
             }
            },
            "type": "scatter3d"
           }
          ],
          "scattercarpet": [
           {
            "marker": {
             "colorbar": {
              "outlinewidth": 0,
              "ticks": ""
             }
            },
            "type": "scattercarpet"
           }
          ],
          "scattergeo": [
           {
            "marker": {
             "colorbar": {
              "outlinewidth": 0,
              "ticks": ""
             }
            },
            "type": "scattergeo"
           }
          ],
          "scattergl": [
           {
            "marker": {
             "colorbar": {
              "outlinewidth": 0,
              "ticks": ""
             }
            },
            "type": "scattergl"
           }
          ],
          "scattermapbox": [
           {
            "marker": {
             "colorbar": {
              "outlinewidth": 0,
              "ticks": ""
             }
            },
            "type": "scattermapbox"
           }
          ],
          "scatterpolar": [
           {
            "marker": {
             "colorbar": {
              "outlinewidth": 0,
              "ticks": ""
             }
            },
            "type": "scatterpolar"
           }
          ],
          "scatterpolargl": [
           {
            "marker": {
             "colorbar": {
              "outlinewidth": 0,
              "ticks": ""
             }
            },
            "type": "scatterpolargl"
           }
          ],
          "scatterternary": [
           {
            "marker": {
             "colorbar": {
              "outlinewidth": 0,
              "ticks": ""
             }
            },
            "type": "scatterternary"
           }
          ],
          "surface": [
           {
            "colorbar": {
             "outlinewidth": 0,
             "ticks": ""
            },
            "colorscale": [
             [
              0,
              "#0d0887"
             ],
             [
              0.1111111111111111,
              "#46039f"
             ],
             [
              0.2222222222222222,
              "#7201a8"
             ],
             [
              0.3333333333333333,
              "#9c179e"
             ],
             [
              0.4444444444444444,
              "#bd3786"
             ],
             [
              0.5555555555555556,
              "#d8576b"
             ],
             [
              0.6666666666666666,
              "#ed7953"
             ],
             [
              0.7777777777777778,
              "#fb9f3a"
             ],
             [
              0.8888888888888888,
              "#fdca26"
             ],
             [
              1,
              "#f0f921"
             ]
            ],
            "type": "surface"
           }
          ],
          "table": [
           {
            "cells": {
             "fill": {
              "color": "#EBF0F8"
             },
             "line": {
              "color": "white"
             }
            },
            "header": {
             "fill": {
              "color": "#C8D4E3"
             },
             "line": {
              "color": "white"
             }
            },
            "type": "table"
           }
          ]
         },
         "layout": {
          "annotationdefaults": {
           "arrowcolor": "#2a3f5f",
           "arrowhead": 0,
           "arrowwidth": 1
          },
          "autotypenumbers": "strict",
          "coloraxis": {
           "colorbar": {
            "outlinewidth": 0,
            "ticks": ""
           }
          },
          "colorscale": {
           "diverging": [
            [
             0,
             "#8e0152"
            ],
            [
             0.1,
             "#c51b7d"
            ],
            [
             0.2,
             "#de77ae"
            ],
            [
             0.3,
             "#f1b6da"
            ],
            [
             0.4,
             "#fde0ef"
            ],
            [
             0.5,
             "#f7f7f7"
            ],
            [
             0.6,
             "#e6f5d0"
            ],
            [
             0.7,
             "#b8e186"
            ],
            [
             0.8,
             "#7fbc41"
            ],
            [
             0.9,
             "#4d9221"
            ],
            [
             1,
             "#276419"
            ]
           ],
           "sequential": [
            [
             0,
             "#0d0887"
            ],
            [
             0.1111111111111111,
             "#46039f"
            ],
            [
             0.2222222222222222,
             "#7201a8"
            ],
            [
             0.3333333333333333,
             "#9c179e"
            ],
            [
             0.4444444444444444,
             "#bd3786"
            ],
            [
             0.5555555555555556,
             "#d8576b"
            ],
            [
             0.6666666666666666,
             "#ed7953"
            ],
            [
             0.7777777777777778,
             "#fb9f3a"
            ],
            [
             0.8888888888888888,
             "#fdca26"
            ],
            [
             1,
             "#f0f921"
            ]
           ],
           "sequentialminus": [
            [
             0,
             "#0d0887"
            ],
            [
             0.1111111111111111,
             "#46039f"
            ],
            [
             0.2222222222222222,
             "#7201a8"
            ],
            [
             0.3333333333333333,
             "#9c179e"
            ],
            [
             0.4444444444444444,
             "#bd3786"
            ],
            [
             0.5555555555555556,
             "#d8576b"
            ],
            [
             0.6666666666666666,
             "#ed7953"
            ],
            [
             0.7777777777777778,
             "#fb9f3a"
            ],
            [
             0.8888888888888888,
             "#fdca26"
            ],
            [
             1,
             "#f0f921"
            ]
           ]
          },
          "colorway": [
           "#636efa",
           "#EF553B",
           "#00cc96",
           "#ab63fa",
           "#FFA15A",
           "#19d3f3",
           "#FF6692",
           "#B6E880",
           "#FF97FF",
           "#FECB52"
          ],
          "font": {
           "color": "#2a3f5f"
          },
          "geo": {
           "bgcolor": "white",
           "lakecolor": "white",
           "landcolor": "#E5ECF6",
           "showlakes": true,
           "showland": true,
           "subunitcolor": "white"
          },
          "hoverlabel": {
           "align": "left"
          },
          "hovermode": "closest",
          "mapbox": {
           "style": "light"
          },
          "paper_bgcolor": "white",
          "plot_bgcolor": "#E5ECF6",
          "polar": {
           "angularaxis": {
            "gridcolor": "white",
            "linecolor": "white",
            "ticks": ""
           },
           "bgcolor": "#E5ECF6",
           "radialaxis": {
            "gridcolor": "white",
            "linecolor": "white",
            "ticks": ""
           }
          },
          "scene": {
           "xaxis": {
            "backgroundcolor": "#E5ECF6",
            "gridcolor": "white",
            "gridwidth": 2,
            "linecolor": "white",
            "showbackground": true,
            "ticks": "",
            "zerolinecolor": "white"
           },
           "yaxis": {
            "backgroundcolor": "#E5ECF6",
            "gridcolor": "white",
            "gridwidth": 2,
            "linecolor": "white",
            "showbackground": true,
            "ticks": "",
            "zerolinecolor": "white"
           },
           "zaxis": {
            "backgroundcolor": "#E5ECF6",
            "gridcolor": "white",
            "gridwidth": 2,
            "linecolor": "white",
            "showbackground": true,
            "ticks": "",
            "zerolinecolor": "white"
           }
          },
          "shapedefaults": {
           "line": {
            "color": "#2a3f5f"
           }
          },
          "ternary": {
           "aaxis": {
            "gridcolor": "white",
            "linecolor": "white",
            "ticks": ""
           },
           "baxis": {
            "gridcolor": "white",
            "linecolor": "white",
            "ticks": ""
           },
           "bgcolor": "#E5ECF6",
           "caxis": {
            "gridcolor": "white",
            "linecolor": "white",
            "ticks": ""
           }
          },
          "title": {
           "x": 0.05
          },
          "xaxis": {
           "automargin": true,
           "gridcolor": "white",
           "linecolor": "white",
           "ticks": "",
           "title": {
            "standoff": 15
           },
           "zerolinecolor": "white",
           "zerolinewidth": 2
          },
          "yaxis": {
           "automargin": true,
           "gridcolor": "white",
           "linecolor": "white",
           "ticks": "",
           "title": {
            "standoff": 15
           },
           "zerolinecolor": "white",
           "zerolinewidth": 2
          }
         }
        },
        "title": {
         "text": "(4, 4)"
        },
        "xaxis": {
         "showticklabels": false,
         "title": {
          "text": "col (4)"
         }
        },
        "yaxis": {
         "autorange": "reversed",
         "showticklabels": false,
         "title": {
          "text": "row (4)"
         }
        }
       }
      }
     },
     "metadata": {},
     "output_type": "display_data"
    }
   ],
   "source": [
    "heatmap(read_in @ write_out.T)"
   ]
  },
  {
   "cell_type": "code",
   "execution_count": null,
   "metadata": {},
   "outputs": [
    {
     "data": {
      "text/plain": [
       "root\n",
       "├── 0 B 0.2439\n",
       "├── 1 B 0.1836\n",
       "└── 2 BA 0.0395\n",
       "    ├── 3 B 0.9133\n",
       "    └── 4 B 0.0867"
      ]
     },
     "execution_count": 22,
     "metadata": {},
     "output_type": "execute_result"
    }
   ],
   "source": [
    "tree"
   ]
  },
  {
   "cell_type": "code",
   "execution_count": null,
   "metadata": {},
   "outputs": [
    {
     "data": {
      "application/vnd.plotly.v1+json": {
       "config": {
        "plotlyServerURL": "https://plot.ly"
       },
       "data": [
        {
         "colorscale": [
          [
           0,
           "#440154"
          ],
          [
           0.1111111111111111,
           "#482878"
          ],
          [
           0.2222222222222222,
           "#3e4989"
          ],
          [
           0.3333333333333333,
           "#31688e"
          ],
          [
           0.4444444444444444,
           "#26828e"
          ],
          [
           0.5555555555555556,
           "#1f9e89"
          ],
          [
           0.6666666666666666,
           "#35b779"
          ],
          [
           0.7777777777777778,
           "#6ece58"
          ],
          [
           0.8888888888888888,
           "#b5de2b"
          ],
          [
           1,
           "#fde725"
          ]
         ],
         "hovertemplate": "%{y}%{x}val: %{z:.2f}<extra></extra>",
         "type": "heatmap",
         "x": [
          "col: 0<br>",
          "col: 1<br>",
          "col: 2<br>",
          "col: 3<br>",
          "col: 4<br>"
         ],
         "y": [
          "row: 0<br>",
          "row: 1<br>",
          "row: 2<br>",
          "row: 3<br>",
          "row: 4<br>",
          "row: 5<br>",
          "row: 6<br>",
          "row: 7<br>",
          "row: 8<br>",
          "row: 9<br>",
          "row: 10<br>",
          "row: 11<br>",
          "row: 12<br>",
          "row: 13<br>",
          "row: 14<br>",
          "row: 15<br>",
          "row: 16<br>",
          "row: 17<br>",
          "row: 18<br>",
          "row: 19<br>",
          "row: 20<br>",
          "row: 21<br>",
          "row: 22<br>",
          "row: 23<br>",
          "row: 24<br>",
          "row: 25<br>",
          "row: 26<br>",
          "row: 27<br>",
          "row: 28<br>",
          "row: 29<br>"
         ],
         "z": [
          [
           0,
           0,
           0,
           0,
           0
          ],
          [
           0,
           1,
           0,
           0,
           0
          ],
          [
           0,
           0,
           0,
           0,
           0
          ],
          [
           0,
           0,
           0,
           0,
           0
          ],
          [
           0,
           0,
           0,
           0,
           0
          ],
          [
           0,
           1,
           0,
           0,
           0
          ],
          [
           0,
           0,
           0,
           0,
           0
          ],
          [
           0,
           0,
           0,
           0,
           0
          ],
          [
           0,
           0,
           0,
           0,
           0
          ],
          [
           0,
           1,
           0,
           0,
           0
          ],
          [
           0,
           0,
           0,
           0,
           0
          ],
          [
           0,
           0,
           0,
           0,
           0
          ],
          [
           1,
           0,
           0,
           0,
           0
          ],
          [
           0,
           0,
           0,
           0,
           0
          ],
          [
           0,
           0,
           0,
           0,
           0
          ],
          [
           1,
           0,
           0,
           0,
           0
          ],
          [
           1,
           0,
           0,
           0,
           0
          ],
          [
           0,
           0,
           0,
           0,
           0
          ],
          [
           0,
           0,
           0,
           0,
           0
          ],
          [
           0,
           0,
           0,
           0,
           0
          ],
          [
           1,
           1,
           0,
           0,
           0
          ],
          [
           0,
           0,
           0,
           0,
           0
          ],
          [
           0,
           0,
           0,
           0,
           0
          ],
          [
           0,
           1,
           0,
           0,
           0
          ],
          [
           1,
           0,
           0,
           0,
           0
          ],
          [
           0,
           0,
           0,
           0,
           0
          ],
          [
           1,
           1,
           0,
           0,
           0
          ],
          [
           0,
           0,
           0,
           0,
           0
          ],
          [
           0,
           1,
           0,
           0,
           0
          ],
          [
           1,
           1,
           0,
           0,
           0
          ]
         ]
        }
       ],
       "layout": {
        "template": {
         "data": {
          "bar": [
           {
            "error_x": {
             "color": "#2a3f5f"
            },
            "error_y": {
             "color": "#2a3f5f"
            },
            "marker": {
             "line": {
              "color": "#E5ECF6",
              "width": 0.5
             },
             "pattern": {
              "fillmode": "overlay",
              "size": 10,
              "solidity": 0.2
             }
            },
            "type": "bar"
           }
          ],
          "barpolar": [
           {
            "marker": {
             "line": {
              "color": "#E5ECF6",
              "width": 0.5
             },
             "pattern": {
              "fillmode": "overlay",
              "size": 10,
              "solidity": 0.2
             }
            },
            "type": "barpolar"
           }
          ],
          "carpet": [
           {
            "aaxis": {
             "endlinecolor": "#2a3f5f",
             "gridcolor": "white",
             "linecolor": "white",
             "minorgridcolor": "white",
             "startlinecolor": "#2a3f5f"
            },
            "baxis": {
             "endlinecolor": "#2a3f5f",
             "gridcolor": "white",
             "linecolor": "white",
             "minorgridcolor": "white",
             "startlinecolor": "#2a3f5f"
            },
            "type": "carpet"
           }
          ],
          "choropleth": [
           {
            "colorbar": {
             "outlinewidth": 0,
             "ticks": ""
            },
            "type": "choropleth"
           }
          ],
          "contour": [
           {
            "colorbar": {
             "outlinewidth": 0,
             "ticks": ""
            },
            "colorscale": [
             [
              0,
              "#0d0887"
             ],
             [
              0.1111111111111111,
              "#46039f"
             ],
             [
              0.2222222222222222,
              "#7201a8"
             ],
             [
              0.3333333333333333,
              "#9c179e"
             ],
             [
              0.4444444444444444,
              "#bd3786"
             ],
             [
              0.5555555555555556,
              "#d8576b"
             ],
             [
              0.6666666666666666,
              "#ed7953"
             ],
             [
              0.7777777777777778,
              "#fb9f3a"
             ],
             [
              0.8888888888888888,
              "#fdca26"
             ],
             [
              1,
              "#f0f921"
             ]
            ],
            "type": "contour"
           }
          ],
          "contourcarpet": [
           {
            "colorbar": {
             "outlinewidth": 0,
             "ticks": ""
            },
            "type": "contourcarpet"
           }
          ],
          "heatmap": [
           {
            "colorbar": {
             "outlinewidth": 0,
             "ticks": ""
            },
            "colorscale": [
             [
              0,
              "#0d0887"
             ],
             [
              0.1111111111111111,
              "#46039f"
             ],
             [
              0.2222222222222222,
              "#7201a8"
             ],
             [
              0.3333333333333333,
              "#9c179e"
             ],
             [
              0.4444444444444444,
              "#bd3786"
             ],
             [
              0.5555555555555556,
              "#d8576b"
             ],
             [
              0.6666666666666666,
              "#ed7953"
             ],
             [
              0.7777777777777778,
              "#fb9f3a"
             ],
             [
              0.8888888888888888,
              "#fdca26"
             ],
             [
              1,
              "#f0f921"
             ]
            ],
            "type": "heatmap"
           }
          ],
          "heatmapgl": [
           {
            "colorbar": {
             "outlinewidth": 0,
             "ticks": ""
            },
            "colorscale": [
             [
              0,
              "#0d0887"
             ],
             [
              0.1111111111111111,
              "#46039f"
             ],
             [
              0.2222222222222222,
              "#7201a8"
             ],
             [
              0.3333333333333333,
              "#9c179e"
             ],
             [
              0.4444444444444444,
              "#bd3786"
             ],
             [
              0.5555555555555556,
              "#d8576b"
             ],
             [
              0.6666666666666666,
              "#ed7953"
             ],
             [
              0.7777777777777778,
              "#fb9f3a"
             ],
             [
              0.8888888888888888,
              "#fdca26"
             ],
             [
              1,
              "#f0f921"
             ]
            ],
            "type": "heatmapgl"
           }
          ],
          "histogram": [
           {
            "marker": {
             "pattern": {
              "fillmode": "overlay",
              "size": 10,
              "solidity": 0.2
             }
            },
            "type": "histogram"
           }
          ],
          "histogram2d": [
           {
            "colorbar": {
             "outlinewidth": 0,
             "ticks": ""
            },
            "colorscale": [
             [
              0,
              "#0d0887"
             ],
             [
              0.1111111111111111,
              "#46039f"
             ],
             [
              0.2222222222222222,
              "#7201a8"
             ],
             [
              0.3333333333333333,
              "#9c179e"
             ],
             [
              0.4444444444444444,
              "#bd3786"
             ],
             [
              0.5555555555555556,
              "#d8576b"
             ],
             [
              0.6666666666666666,
              "#ed7953"
             ],
             [
              0.7777777777777778,
              "#fb9f3a"
             ],
             [
              0.8888888888888888,
              "#fdca26"
             ],
             [
              1,
              "#f0f921"
             ]
            ],
            "type": "histogram2d"
           }
          ],
          "histogram2dcontour": [
           {
            "colorbar": {
             "outlinewidth": 0,
             "ticks": ""
            },
            "colorscale": [
             [
              0,
              "#0d0887"
             ],
             [
              0.1111111111111111,
              "#46039f"
             ],
             [
              0.2222222222222222,
              "#7201a8"
             ],
             [
              0.3333333333333333,
              "#9c179e"
             ],
             [
              0.4444444444444444,
              "#bd3786"
             ],
             [
              0.5555555555555556,
              "#d8576b"
             ],
             [
              0.6666666666666666,
              "#ed7953"
             ],
             [
              0.7777777777777778,
              "#fb9f3a"
             ],
             [
              0.8888888888888888,
              "#fdca26"
             ],
             [
              1,
              "#f0f921"
             ]
            ],
            "type": "histogram2dcontour"
           }
          ],
          "mesh3d": [
           {
            "colorbar": {
             "outlinewidth": 0,
             "ticks": ""
            },
            "type": "mesh3d"
           }
          ],
          "parcoords": [
           {
            "line": {
             "colorbar": {
              "outlinewidth": 0,
              "ticks": ""
             }
            },
            "type": "parcoords"
           }
          ],
          "pie": [
           {
            "automargin": true,
            "type": "pie"
           }
          ],
          "scatter": [
           {
            "fillpattern": {
             "fillmode": "overlay",
             "size": 10,
             "solidity": 0.2
            },
            "type": "scatter"
           }
          ],
          "scatter3d": [
           {
            "line": {
             "colorbar": {
              "outlinewidth": 0,
              "ticks": ""
             }
            },
            "marker": {
             "colorbar": {
              "outlinewidth": 0,
              "ticks": ""
             }
            },
            "type": "scatter3d"
           }
          ],
          "scattercarpet": [
           {
            "marker": {
             "colorbar": {
              "outlinewidth": 0,
              "ticks": ""
             }
            },
            "type": "scattercarpet"
           }
          ],
          "scattergeo": [
           {
            "marker": {
             "colorbar": {
              "outlinewidth": 0,
              "ticks": ""
             }
            },
            "type": "scattergeo"
           }
          ],
          "scattergl": [
           {
            "marker": {
             "colorbar": {
              "outlinewidth": 0,
              "ticks": ""
             }
            },
            "type": "scattergl"
           }
          ],
          "scattermapbox": [
           {
            "marker": {
             "colorbar": {
              "outlinewidth": 0,
              "ticks": ""
             }
            },
            "type": "scattermapbox"
           }
          ],
          "scatterpolar": [
           {
            "marker": {
             "colorbar": {
              "outlinewidth": 0,
              "ticks": ""
             }
            },
            "type": "scatterpolar"
           }
          ],
          "scatterpolargl": [
           {
            "marker": {
             "colorbar": {
              "outlinewidth": 0,
              "ticks": ""
             }
            },
            "type": "scatterpolargl"
           }
          ],
          "scatterternary": [
           {
            "marker": {
             "colorbar": {
              "outlinewidth": 0,
              "ticks": ""
             }
            },
            "type": "scatterternary"
           }
          ],
          "surface": [
           {
            "colorbar": {
             "outlinewidth": 0,
             "ticks": ""
            },
            "colorscale": [
             [
              0,
              "#0d0887"
             ],
             [
              0.1111111111111111,
              "#46039f"
             ],
             [
              0.2222222222222222,
              "#7201a8"
             ],
             [
              0.3333333333333333,
              "#9c179e"
             ],
             [
              0.4444444444444444,
              "#bd3786"
             ],
             [
              0.5555555555555556,
              "#d8576b"
             ],
             [
              0.6666666666666666,
              "#ed7953"
             ],
             [
              0.7777777777777778,
              "#fb9f3a"
             ],
             [
              0.8888888888888888,
              "#fdca26"
             ],
             [
              1,
              "#f0f921"
             ]
            ],
            "type": "surface"
           }
          ],
          "table": [
           {
            "cells": {
             "fill": {
              "color": "#EBF0F8"
             },
             "line": {
              "color": "white"
             }
            },
            "header": {
             "fill": {
              "color": "#C8D4E3"
             },
             "line": {
              "color": "white"
             }
            },
            "type": "table"
           }
          ]
         },
         "layout": {
          "annotationdefaults": {
           "arrowcolor": "#2a3f5f",
           "arrowhead": 0,
           "arrowwidth": 1
          },
          "autotypenumbers": "strict",
          "coloraxis": {
           "colorbar": {
            "outlinewidth": 0,
            "ticks": ""
           }
          },
          "colorscale": {
           "diverging": [
            [
             0,
             "#8e0152"
            ],
            [
             0.1,
             "#c51b7d"
            ],
            [
             0.2,
             "#de77ae"
            ],
            [
             0.3,
             "#f1b6da"
            ],
            [
             0.4,
             "#fde0ef"
            ],
            [
             0.5,
             "#f7f7f7"
            ],
            [
             0.6,
             "#e6f5d0"
            ],
            [
             0.7,
             "#b8e186"
            ],
            [
             0.8,
             "#7fbc41"
            ],
            [
             0.9,
             "#4d9221"
            ],
            [
             1,
             "#276419"
            ]
           ],
           "sequential": [
            [
             0,
             "#0d0887"
            ],
            [
             0.1111111111111111,
             "#46039f"
            ],
            [
             0.2222222222222222,
             "#7201a8"
            ],
            [
             0.3333333333333333,
             "#9c179e"
            ],
            [
             0.4444444444444444,
             "#bd3786"
            ],
            [
             0.5555555555555556,
             "#d8576b"
            ],
            [
             0.6666666666666666,
             "#ed7953"
            ],
            [
             0.7777777777777778,
             "#fb9f3a"
            ],
            [
             0.8888888888888888,
             "#fdca26"
            ],
            [
             1,
             "#f0f921"
            ]
           ],
           "sequentialminus": [
            [
             0,
             "#0d0887"
            ],
            [
             0.1111111111111111,
             "#46039f"
            ],
            [
             0.2222222222222222,
             "#7201a8"
            ],
            [
             0.3333333333333333,
             "#9c179e"
            ],
            [
             0.4444444444444444,
             "#bd3786"
            ],
            [
             0.5555555555555556,
             "#d8576b"
            ],
            [
             0.6666666666666666,
             "#ed7953"
            ],
            [
             0.7777777777777778,
             "#fb9f3a"
            ],
            [
             0.8888888888888888,
             "#fdca26"
            ],
            [
             1,
             "#f0f921"
            ]
           ]
          },
          "colorway": [
           "#636efa",
           "#EF553B",
           "#00cc96",
           "#ab63fa",
           "#FFA15A",
           "#19d3f3",
           "#FF6692",
           "#B6E880",
           "#FF97FF",
           "#FECB52"
          ],
          "font": {
           "color": "#2a3f5f"
          },
          "geo": {
           "bgcolor": "white",
           "lakecolor": "white",
           "landcolor": "#E5ECF6",
           "showlakes": true,
           "showland": true,
           "subunitcolor": "white"
          },
          "hoverlabel": {
           "align": "left"
          },
          "hovermode": "closest",
          "mapbox": {
           "style": "light"
          },
          "paper_bgcolor": "white",
          "plot_bgcolor": "#E5ECF6",
          "polar": {
           "angularaxis": {
            "gridcolor": "white",
            "linecolor": "white",
            "ticks": ""
           },
           "bgcolor": "#E5ECF6",
           "radialaxis": {
            "gridcolor": "white",
            "linecolor": "white",
            "ticks": ""
           }
          },
          "scene": {
           "xaxis": {
            "backgroundcolor": "#E5ECF6",
            "gridcolor": "white",
            "gridwidth": 2,
            "linecolor": "white",
            "showbackground": true,
            "ticks": "",
            "zerolinecolor": "white"
           },
           "yaxis": {
            "backgroundcolor": "#E5ECF6",
            "gridcolor": "white",
            "gridwidth": 2,
            "linecolor": "white",
            "showbackground": true,
            "ticks": "",
            "zerolinecolor": "white"
           },
           "zaxis": {
            "backgroundcolor": "#E5ECF6",
            "gridcolor": "white",
            "gridwidth": 2,
            "linecolor": "white",
            "showbackground": true,
            "ticks": "",
            "zerolinecolor": "white"
           }
          },
          "shapedefaults": {
           "line": {
            "color": "#2a3f5f"
           }
          },
          "ternary": {
           "aaxis": {
            "gridcolor": "white",
            "linecolor": "white",
            "ticks": ""
           },
           "baxis": {
            "gridcolor": "white",
            "linecolor": "white",
            "ticks": ""
           },
           "bgcolor": "#E5ECF6",
           "caxis": {
            "gridcolor": "white",
            "linecolor": "white",
            "ticks": ""
           }
          },
          "title": {
           "x": 0.05
          },
          "xaxis": {
           "automargin": true,
           "gridcolor": "white",
           "linecolor": "white",
           "ticks": "",
           "title": {
            "standoff": 15
           },
           "zerolinecolor": "white",
           "zerolinewidth": 2
          },
          "yaxis": {
           "automargin": true,
           "gridcolor": "white",
           "linecolor": "white",
           "ticks": "",
           "title": {
            "standoff": 15
           },
           "zerolinecolor": "white",
           "zerolinewidth": 2
          }
         }
        },
        "title": {
         "text": "(30, 5)"
        },
        "xaxis": {
         "showticklabels": false,
         "title": {
          "text": "col (5)"
         }
        },
        "yaxis": {
         "autorange": "reversed",
         "showticklabels": false,
         "title": {
          "text": "row (30)"
         }
        }
       }
      }
     },
     "metadata": {},
     "output_type": "display_data"
    }
   ],
   "source": [
    "I = 8\n",
    "f_subset = features_batch[30*I:30*(I+1)]\n",
    "c_subset = nnmf.codes()[30*I:30*(I+1)]\n",
    "\n",
    "heatmap(f_subset)"
   ]
  },
  {
   "cell_type": "code",
   "execution_count": null,
   "metadata": {},
   "outputs": [
    {
     "data": {
      "text/plain": [
       "root\n",
       "├── 0 B 0.2439\n",
       "├── 1 B 0.1836\n",
       "└── 2 BA 0.0395\n",
       "    ├── 3 B 0.9133\n",
       "    └── 4 B 0.0867"
      ]
     },
     "execution_count": 25,
     "metadata": {},
     "output_type": "execute_result"
    }
   ],
   "source": [
    "tree"
   ]
  },
  {
   "cell_type": "code",
   "execution_count": null,
   "metadata": {},
   "outputs": [
    {
     "data": {
      "application/vnd.plotly.v1+json": {
       "config": {
        "plotlyServerURL": "https://plot.ly"
       },
       "data": [
        {
         "colorscale": [
          [
           0,
           "#440154"
          ],
          [
           0.1111111111111111,
           "#482878"
          ],
          [
           0.2222222222222222,
           "#3e4989"
          ],
          [
           0.3333333333333333,
           "#31688e"
          ],
          [
           0.4444444444444444,
           "#26828e"
          ],
          [
           0.5555555555555556,
           "#1f9e89"
          ],
          [
           0.6666666666666666,
           "#35b779"
          ],
          [
           0.7777777777777778,
           "#6ece58"
          ],
          [
           0.8888888888888888,
           "#b5de2b"
          ],
          [
           1,
           "#fde725"
          ]
         ],
         "hovertemplate": "%{y}%{x}val: %{z:.2f}<extra></extra>",
         "type": "heatmap",
         "x": [
          "col: 0<br>",
          "col: 1<br>",
          "col: 2<br>",
          "col: 3<br>",
          "col: 4<br>"
         ],
         "y": [
          "row: 0<br>",
          "row: 1<br>",
          "row: 2<br>",
          "row: 3<br>",
          "row: 4<br>",
          "row: 5<br>",
          "row: 6<br>",
          "row: 7<br>",
          "row: 8<br>",
          "row: 9<br>",
          "row: 10<br>",
          "row: 11<br>",
          "row: 12<br>",
          "row: 13<br>",
          "row: 14<br>",
          "row: 15<br>",
          "row: 16<br>",
          "row: 17<br>",
          "row: 18<br>",
          "row: 19<br>",
          "row: 20<br>",
          "row: 21<br>",
          "row: 22<br>",
          "row: 23<br>",
          "row: 24<br>",
          "row: 25<br>",
          "row: 26<br>",
          "row: 27<br>",
          "row: 28<br>",
          "row: 29<br>"
         ],
         "z": [
          [
           0.00044547367724590003,
           0.0004366951179690659,
           0.0010223068529739976,
           0.35471755266189575,
           0.000521419569849968
          ],
          [
           0.0007665855227969587,
           0.9916924238204956,
           0.0004012059362139553,
           0.0006812666542828083,
           1.683937907218933
          ],
          [
           0.00010505900718271732,
           0.00090142956469208,
           0.001791161485016346,
           0.35419169068336487,
           0.0000601681531406939
          ],
          [
           0.00035864743404090405,
           1.1839135885238647,
           0.0006645726389251649,
           0.0010505118407309055,
           0.0009224743116647005
          ],
          [
           0.00012297136709094048,
           0.000918469624593854,
           0.0009277273202314973,
           0.35410019755363464,
           0.000537892512511462
          ],
          [
           0.0008089435286819935,
           0.0007584768463857472,
           1.0989515781402588,
           0.0005558336852118373,
           0.0001977387728402391
          ],
          [
           1.5262224674224854,
           0.125148206949234,
           0.18559211492538452,
           0.001026791986078024,
           0.000052269635489210486
          ],
          [
           0.0005713708815164864,
           0.0003538861928973347,
           1.099402666091919,
           0.00043186996481381357,
           0.00047482881927862763
          ],
          [
           0.00046782573917880654,
           0.002345773857086897,
           0.0005518128746189177,
           0.3542880415916443,
           0.0009163091890513897
          ],
          [
           0.0009316513314843178,
           0.0005386716220527887,
           0.0013734251260757446,
           0.35402023792266846,
           0.000458494178019464
          ],
          [
           0.0001793093397282064,
           0.0015294491313397884,
           1.099346399307251,
           0.00035601190757006407,
           0.000626501627266407
          ],
          [
           0.0002629174559842795,
           0.00023942047846503556,
           0.0006104056374169886,
           0.35451266169548035,
           0.0005437670624814928
          ],
          [
           0.0006427844637073576,
           0.0006408271146938205,
           1.0994197130203247,
           0.0004748745122924447,
           0.00022069900296628475
          ],
          [
           0.0002491789637133479,
           0.001049012877047062,
           1.0991839170455933,
           0.0015383532736450434,
           0.0006333666387945414
          ],
          [
           0.001383244525641203,
           0.0006218226626515388,
           0.0015269573777914047,
           0.35463955998420715,
           0.0003205588727723807
          ],
          [
           0.00037328945472836494,
           0.0003979609755333513,
           1.099281668663025,
           0.00020255346316844225,
           0.00021276145707815886
          ],
          [
           0.0017088742461055517,
           1.183474063873291,
           0.00035973149351775646,
           0.00023138028336688876,
           0.0006294563063420355
          ],
          [
           0.0010134109761565924,
           0.000899593229405582,
           0.000621243380010128,
           0.3544537425041199,
           0.0004955782205797732
          ],
          [
           0.00023791479179635644,
           0.00011125480523332953,
           0.00006309794844128191,
           0.3551467955112457,
           0.0009037436102516949
          ],
          [
           0.0005365409306250513,
           0.0005342037184163928,
           0.000639449106529355,
           0.35395967960357666,
           0.0005371248116716743
          ],
          [
           0.0008529397891834378,
           0.0003656742919702083,
           0.00005172044620849192,
           0.35482075810432434,
           0.0005722437053918839
          ],
          [
           0.0015335970092564821,
           0.0013861749321222305,
           0.0003658756031654775,
           0.3550902009010315,
           0.0004037749022245407
          ],
          [
           0.0023895257618278265,
           0.0002111464855261147,
           0.0006677438504993916,
           0.3559657633304596,
           0.0004401999176479876
          ],
          [
           0.0011142593575641513,
           0.0005272752023302019,
           0.000680615019518882,
           0.3544219434261322,
           0.0005389487487263978
          ],
          [
           0.001110278069972992,
           0.0013743732124567032,
           0.0015288625145331025,
           0.3541392982006073,
           0.0006081953179091215
          ],
          [
           0.0006029688520357013,
           0.0009190205601043999,
           0.0006361528066918254,
           0.35433757305145264,
           0.0013775492552667856
          ],
          [
           0.0008659100858494639,
           0.0011071593035012484,
           0.00042736291652545333,
           0.35531559586524963,
           0.0009314044145867229
          ],
          [
           0.000843937392346561,
           0.00013240630505606532,
           1.0992004871368408,
           0.0009331593755632639,
           0.00018732943863142282
          ],
          [
           1.808478832244873,
           0.0009272772585973144,
           0.0004178592935204506,
           0.0003556226729415357,
           0.00048124446766451
          ],
          [
           0.00009797191887628287,
           0.0018131230026483536,
           1.0993754863739014,
           0.000428448140155524,
           0.001388120697811246
          ]
         ]
        }
       ],
       "layout": {
        "template": {
         "data": {
          "bar": [
           {
            "error_x": {
             "color": "#2a3f5f"
            },
            "error_y": {
             "color": "#2a3f5f"
            },
            "marker": {
             "line": {
              "color": "#E5ECF6",
              "width": 0.5
             },
             "pattern": {
              "fillmode": "overlay",
              "size": 10,
              "solidity": 0.2
             }
            },
            "type": "bar"
           }
          ],
          "barpolar": [
           {
            "marker": {
             "line": {
              "color": "#E5ECF6",
              "width": 0.5
             },
             "pattern": {
              "fillmode": "overlay",
              "size": 10,
              "solidity": 0.2
             }
            },
            "type": "barpolar"
           }
          ],
          "carpet": [
           {
            "aaxis": {
             "endlinecolor": "#2a3f5f",
             "gridcolor": "white",
             "linecolor": "white",
             "minorgridcolor": "white",
             "startlinecolor": "#2a3f5f"
            },
            "baxis": {
             "endlinecolor": "#2a3f5f",
             "gridcolor": "white",
             "linecolor": "white",
             "minorgridcolor": "white",
             "startlinecolor": "#2a3f5f"
            },
            "type": "carpet"
           }
          ],
          "choropleth": [
           {
            "colorbar": {
             "outlinewidth": 0,
             "ticks": ""
            },
            "type": "choropleth"
           }
          ],
          "contour": [
           {
            "colorbar": {
             "outlinewidth": 0,
             "ticks": ""
            },
            "colorscale": [
             [
              0,
              "#0d0887"
             ],
             [
              0.1111111111111111,
              "#46039f"
             ],
             [
              0.2222222222222222,
              "#7201a8"
             ],
             [
              0.3333333333333333,
              "#9c179e"
             ],
             [
              0.4444444444444444,
              "#bd3786"
             ],
             [
              0.5555555555555556,
              "#d8576b"
             ],
             [
              0.6666666666666666,
              "#ed7953"
             ],
             [
              0.7777777777777778,
              "#fb9f3a"
             ],
             [
              0.8888888888888888,
              "#fdca26"
             ],
             [
              1,
              "#f0f921"
             ]
            ],
            "type": "contour"
           }
          ],
          "contourcarpet": [
           {
            "colorbar": {
             "outlinewidth": 0,
             "ticks": ""
            },
            "type": "contourcarpet"
           }
          ],
          "heatmap": [
           {
            "colorbar": {
             "outlinewidth": 0,
             "ticks": ""
            },
            "colorscale": [
             [
              0,
              "#0d0887"
             ],
             [
              0.1111111111111111,
              "#46039f"
             ],
             [
              0.2222222222222222,
              "#7201a8"
             ],
             [
              0.3333333333333333,
              "#9c179e"
             ],
             [
              0.4444444444444444,
              "#bd3786"
             ],
             [
              0.5555555555555556,
              "#d8576b"
             ],
             [
              0.6666666666666666,
              "#ed7953"
             ],
             [
              0.7777777777777778,
              "#fb9f3a"
             ],
             [
              0.8888888888888888,
              "#fdca26"
             ],
             [
              1,
              "#f0f921"
             ]
            ],
            "type": "heatmap"
           }
          ],
          "heatmapgl": [
           {
            "colorbar": {
             "outlinewidth": 0,
             "ticks": ""
            },
            "colorscale": [
             [
              0,
              "#0d0887"
             ],
             [
              0.1111111111111111,
              "#46039f"
             ],
             [
              0.2222222222222222,
              "#7201a8"
             ],
             [
              0.3333333333333333,
              "#9c179e"
             ],
             [
              0.4444444444444444,
              "#bd3786"
             ],
             [
              0.5555555555555556,
              "#d8576b"
             ],
             [
              0.6666666666666666,
              "#ed7953"
             ],
             [
              0.7777777777777778,
              "#fb9f3a"
             ],
             [
              0.8888888888888888,
              "#fdca26"
             ],
             [
              1,
              "#f0f921"
             ]
            ],
            "type": "heatmapgl"
           }
          ],
          "histogram": [
           {
            "marker": {
             "pattern": {
              "fillmode": "overlay",
              "size": 10,
              "solidity": 0.2
             }
            },
            "type": "histogram"
           }
          ],
          "histogram2d": [
           {
            "colorbar": {
             "outlinewidth": 0,
             "ticks": ""
            },
            "colorscale": [
             [
              0,
              "#0d0887"
             ],
             [
              0.1111111111111111,
              "#46039f"
             ],
             [
              0.2222222222222222,
              "#7201a8"
             ],
             [
              0.3333333333333333,
              "#9c179e"
             ],
             [
              0.4444444444444444,
              "#bd3786"
             ],
             [
              0.5555555555555556,
              "#d8576b"
             ],
             [
              0.6666666666666666,
              "#ed7953"
             ],
             [
              0.7777777777777778,
              "#fb9f3a"
             ],
             [
              0.8888888888888888,
              "#fdca26"
             ],
             [
              1,
              "#f0f921"
             ]
            ],
            "type": "histogram2d"
           }
          ],
          "histogram2dcontour": [
           {
            "colorbar": {
             "outlinewidth": 0,
             "ticks": ""
            },
            "colorscale": [
             [
              0,
              "#0d0887"
             ],
             [
              0.1111111111111111,
              "#46039f"
             ],
             [
              0.2222222222222222,
              "#7201a8"
             ],
             [
              0.3333333333333333,
              "#9c179e"
             ],
             [
              0.4444444444444444,
              "#bd3786"
             ],
             [
              0.5555555555555556,
              "#d8576b"
             ],
             [
              0.6666666666666666,
              "#ed7953"
             ],
             [
              0.7777777777777778,
              "#fb9f3a"
             ],
             [
              0.8888888888888888,
              "#fdca26"
             ],
             [
              1,
              "#f0f921"
             ]
            ],
            "type": "histogram2dcontour"
           }
          ],
          "mesh3d": [
           {
            "colorbar": {
             "outlinewidth": 0,
             "ticks": ""
            },
            "type": "mesh3d"
           }
          ],
          "parcoords": [
           {
            "line": {
             "colorbar": {
              "outlinewidth": 0,
              "ticks": ""
             }
            },
            "type": "parcoords"
           }
          ],
          "pie": [
           {
            "automargin": true,
            "type": "pie"
           }
          ],
          "scatter": [
           {
            "fillpattern": {
             "fillmode": "overlay",
             "size": 10,
             "solidity": 0.2
            },
            "type": "scatter"
           }
          ],
          "scatter3d": [
           {
            "line": {
             "colorbar": {
              "outlinewidth": 0,
              "ticks": ""
             }
            },
            "marker": {
             "colorbar": {
              "outlinewidth": 0,
              "ticks": ""
             }
            },
            "type": "scatter3d"
           }
          ],
          "scattercarpet": [
           {
            "marker": {
             "colorbar": {
              "outlinewidth": 0,
              "ticks": ""
             }
            },
            "type": "scattercarpet"
           }
          ],
          "scattergeo": [
           {
            "marker": {
             "colorbar": {
              "outlinewidth": 0,
              "ticks": ""
             }
            },
            "type": "scattergeo"
           }
          ],
          "scattergl": [
           {
            "marker": {
             "colorbar": {
              "outlinewidth": 0,
              "ticks": ""
             }
            },
            "type": "scattergl"
           }
          ],
          "scattermapbox": [
           {
            "marker": {
             "colorbar": {
              "outlinewidth": 0,
              "ticks": ""
             }
            },
            "type": "scattermapbox"
           }
          ],
          "scatterpolar": [
           {
            "marker": {
             "colorbar": {
              "outlinewidth": 0,
              "ticks": ""
             }
            },
            "type": "scatterpolar"
           }
          ],
          "scatterpolargl": [
           {
            "marker": {
             "colorbar": {
              "outlinewidth": 0,
              "ticks": ""
             }
            },
            "type": "scatterpolargl"
           }
          ],
          "scatterternary": [
           {
            "marker": {
             "colorbar": {
              "outlinewidth": 0,
              "ticks": ""
             }
            },
            "type": "scatterternary"
           }
          ],
          "surface": [
           {
            "colorbar": {
             "outlinewidth": 0,
             "ticks": ""
            },
            "colorscale": [
             [
              0,
              "#0d0887"
             ],
             [
              0.1111111111111111,
              "#46039f"
             ],
             [
              0.2222222222222222,
              "#7201a8"
             ],
             [
              0.3333333333333333,
              "#9c179e"
             ],
             [
              0.4444444444444444,
              "#bd3786"
             ],
             [
              0.5555555555555556,
              "#d8576b"
             ],
             [
              0.6666666666666666,
              "#ed7953"
             ],
             [
              0.7777777777777778,
              "#fb9f3a"
             ],
             [
              0.8888888888888888,
              "#fdca26"
             ],
             [
              1,
              "#f0f921"
             ]
            ],
            "type": "surface"
           }
          ],
          "table": [
           {
            "cells": {
             "fill": {
              "color": "#EBF0F8"
             },
             "line": {
              "color": "white"
             }
            },
            "header": {
             "fill": {
              "color": "#C8D4E3"
             },
             "line": {
              "color": "white"
             }
            },
            "type": "table"
           }
          ]
         },
         "layout": {
          "annotationdefaults": {
           "arrowcolor": "#2a3f5f",
           "arrowhead": 0,
           "arrowwidth": 1
          },
          "autotypenumbers": "strict",
          "coloraxis": {
           "colorbar": {
            "outlinewidth": 0,
            "ticks": ""
           }
          },
          "colorscale": {
           "diverging": [
            [
             0,
             "#8e0152"
            ],
            [
             0.1,
             "#c51b7d"
            ],
            [
             0.2,
             "#de77ae"
            ],
            [
             0.3,
             "#f1b6da"
            ],
            [
             0.4,
             "#fde0ef"
            ],
            [
             0.5,
             "#f7f7f7"
            ],
            [
             0.6,
             "#e6f5d0"
            ],
            [
             0.7,
             "#b8e186"
            ],
            [
             0.8,
             "#7fbc41"
            ],
            [
             0.9,
             "#4d9221"
            ],
            [
             1,
             "#276419"
            ]
           ],
           "sequential": [
            [
             0,
             "#0d0887"
            ],
            [
             0.1111111111111111,
             "#46039f"
            ],
            [
             0.2222222222222222,
             "#7201a8"
            ],
            [
             0.3333333333333333,
             "#9c179e"
            ],
            [
             0.4444444444444444,
             "#bd3786"
            ],
            [
             0.5555555555555556,
             "#d8576b"
            ],
            [
             0.6666666666666666,
             "#ed7953"
            ],
            [
             0.7777777777777778,
             "#fb9f3a"
            ],
            [
             0.8888888888888888,
             "#fdca26"
            ],
            [
             1,
             "#f0f921"
            ]
           ],
           "sequentialminus": [
            [
             0,
             "#0d0887"
            ],
            [
             0.1111111111111111,
             "#46039f"
            ],
            [
             0.2222222222222222,
             "#7201a8"
            ],
            [
             0.3333333333333333,
             "#9c179e"
            ],
            [
             0.4444444444444444,
             "#bd3786"
            ],
            [
             0.5555555555555556,
             "#d8576b"
            ],
            [
             0.6666666666666666,
             "#ed7953"
            ],
            [
             0.7777777777777778,
             "#fb9f3a"
            ],
            [
             0.8888888888888888,
             "#fdca26"
            ],
            [
             1,
             "#f0f921"
            ]
           ]
          },
          "colorway": [
           "#636efa",
           "#EF553B",
           "#00cc96",
           "#ab63fa",
           "#FFA15A",
           "#19d3f3",
           "#FF6692",
           "#B6E880",
           "#FF97FF",
           "#FECB52"
          ],
          "font": {
           "color": "#2a3f5f"
          },
          "geo": {
           "bgcolor": "white",
           "lakecolor": "white",
           "landcolor": "#E5ECF6",
           "showlakes": true,
           "showland": true,
           "subunitcolor": "white"
          },
          "hoverlabel": {
           "align": "left"
          },
          "hovermode": "closest",
          "mapbox": {
           "style": "light"
          },
          "paper_bgcolor": "white",
          "plot_bgcolor": "#E5ECF6",
          "polar": {
           "angularaxis": {
            "gridcolor": "white",
            "linecolor": "white",
            "ticks": ""
           },
           "bgcolor": "#E5ECF6",
           "radialaxis": {
            "gridcolor": "white",
            "linecolor": "white",
            "ticks": ""
           }
          },
          "scene": {
           "xaxis": {
            "backgroundcolor": "#E5ECF6",
            "gridcolor": "white",
            "gridwidth": 2,
            "linecolor": "white",
            "showbackground": true,
            "ticks": "",
            "zerolinecolor": "white"
           },
           "yaxis": {
            "backgroundcolor": "#E5ECF6",
            "gridcolor": "white",
            "gridwidth": 2,
            "linecolor": "white",
            "showbackground": true,
            "ticks": "",
            "zerolinecolor": "white"
           },
           "zaxis": {
            "backgroundcolor": "#E5ECF6",
            "gridcolor": "white",
            "gridwidth": 2,
            "linecolor": "white",
            "showbackground": true,
            "ticks": "",
            "zerolinecolor": "white"
           }
          },
          "shapedefaults": {
           "line": {
            "color": "#2a3f5f"
           }
          },
          "ternary": {
           "aaxis": {
            "gridcolor": "white",
            "linecolor": "white",
            "ticks": ""
           },
           "baxis": {
            "gridcolor": "white",
            "linecolor": "white",
            "ticks": ""
           },
           "bgcolor": "#E5ECF6",
           "caxis": {
            "gridcolor": "white",
            "linecolor": "white",
            "ticks": ""
           }
          },
          "title": {
           "x": 0.05
          },
          "xaxis": {
           "automargin": true,
           "gridcolor": "white",
           "linecolor": "white",
           "ticks": "",
           "title": {
            "standoff": 15
           },
           "zerolinecolor": "white",
           "zerolinewidth": 2
          },
          "yaxis": {
           "automargin": true,
           "gridcolor": "white",
           "linecolor": "white",
           "ticks": "",
           "title": {
            "standoff": 15
           },
           "zerolinecolor": "white",
           "zerolinewidth": 2
          }
         }
        },
        "title": {
         "text": "(30, 5)"
        },
        "xaxis": {
         "showticklabels": false,
         "title": {
          "text": "col (5)"
         }
        },
        "yaxis": {
         "autorange": "reversed",
         "showticklabels": false,
         "title": {
          "text": "row (30)"
         }
        }
       }
      }
     },
     "metadata": {},
     "output_type": "display_data"
    }
   ],
   "source": [
    "heatmap(nnmf.codes()[:30])"
   ]
  },
  {
   "cell_type": "code",
   "execution_count": null,
   "metadata": {},
   "outputs": [],
   "source": []
  }
 ],
 "metadata": {
  "kernelspec": {
   "display_name": "hi",
   "language": "python",
   "name": "python3"
  },
  "language_info": {
   "codemirror_mode": {
    "name": "ipython",
    "version": 3
   },
   "file_extension": ".py",
   "mimetype": "text/x-python",
   "name": "python",
   "nbconvert_exporter": "python",
   "pygments_lexer": "ipython3",
   "version": "3.10.9"
  },
  "orig_nbformat": 4,
  "vscode": {
   "interpreter": {
    "hash": "776a5a79aef52f807918b5a15909a1983e83e029af3f879858f15f741d6a3231"
   }
  }
 },
 "nbformat": 4,
 "nbformat_minor": 2
}
