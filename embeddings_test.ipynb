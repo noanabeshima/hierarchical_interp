{
 "cells": [
  {
   "cell_type": "code",
   "execution_count": 1,
   "metadata": {},
   "outputs": [],
   "source": [
    "import torch\n",
    "import torch.nn.functional as F\n",
    "import torch.nn as nn\n",
    "import torch.optim as optim\n",
    "import torch.distributions as dists\n",
    "import numpy as np\n",
    "\n",
    "from gpt_embeds import embeds, toks, enc\n",
    "from interp_utils import heatmap, reload_module, hist"
   ]
  },
  {
   "cell_type": "code",
   "execution_count": 2,
   "metadata": {},
   "outputs": [],
   "source": [
    "mean_dir = embeds.mean(dim=0)\n",
    "mean_dir = mean_dir.div(torch.norm(mean_dir))"
   ]
  },
  {
   "cell_type": "code",
   "execution_count": 8,
   "metadata": {},
   "outputs": [
    {
     "name": "stdout",
     "output_type": "stream",
     "text": [
      "init: 8.360 secs\n",
      "mean init: 0.000 secs\n"
     ]
    },
    {
     "name": "stderr",
     "output_type": "stream",
     "text": [
      "  0%|          | 0/5 [00:00<?, ?it/s]"
     ]
    },
    {
     "name": "stdout",
     "output_type": "stream",
     "text": [
      "start of loop: 0.000 secs\n",
      "get pred, coedes: 1.558 secs\n",
      "calculate mse loss: 0.644 secs\n",
      "calculate other losses: 0.028 secs\n"
     ]
    },
    {
     "name": "stderr",
     "output_type": "stream",
     "text": [
      "loss: 0.031, mse: 0.031, sparse: 0.009:  20%|██        | 1/5 [00:16<01:04, 16.02s/it]"
     ]
    },
    {
     "name": "stdout",
     "output_type": "stream",
     "text": [
      "backprop: 13.629 secs\n",
      "set description: 0.123 secs\n",
      "norm atoms: 0.033 secs\n",
      "start of loop: 0.005 secs\n",
      "get pred, coedes: 1.354 secs\n",
      "calculate mse loss: 0.075 secs\n",
      "calculate other losses: 0.019 secs\n"
     ]
    },
    {
     "name": "stderr",
     "output_type": "stream",
     "text": [
      "loss: 0.031, mse: 0.031, sparse: 0.009:  40%|████      | 2/5 [00:29<00:43, 14.36s/it]"
     ]
    },
    {
     "name": "stdout",
     "output_type": "stream",
     "text": [
      "backprop: 11.717 secs\n",
      "set description: 0.010 secs\n",
      "norm atoms: 0.016 secs\n",
      "start of loop: 0.001 secs\n",
      "get pred, coedes: 0.481 secs\n",
      "calculate mse loss: 0.110 secs\n",
      "calculate other losses: 0.017 secs\n"
     ]
    },
    {
     "name": "stderr",
     "output_type": "stream",
     "text": [
      "loss: 0.029, mse: 0.029, sparse: 0.009:  60%|██████    | 3/5 [00:41<00:27, 13.64s/it]"
     ]
    },
    {
     "name": "stdout",
     "output_type": "stream",
     "text": [
      "backprop: 12.159 secs\n",
      "set description: 0.004 secs\n",
      "norm atoms: 0.016 secs\n",
      "start of loop: 0.001 secs\n",
      "get pred, coedes: 3.666 secs\n",
      "calculate mse loss: 0.068 secs\n",
      "calculate other losses: 0.019 secs\n"
     ]
    },
    {
     "name": "stderr",
     "output_type": "stream",
     "text": [
      "loss: 0.027, mse: 0.027, sparse: 0.009:  80%|████████  | 4/5 [00:54<00:13, 13.17s/it]"
     ]
    },
    {
     "name": "stdout",
     "output_type": "stream",
     "text": [
      "backprop: 8.668 secs\n",
      "set description: 0.004 secs\n",
      "norm atoms: 0.013 secs\n",
      "start of loop: 0.002 secs\n",
      "get pred, coedes: 1.060 secs\n",
      "calculate mse loss: 0.139 secs\n",
      "calculate other losses: 0.061 secs\n"
     ]
    },
    {
     "name": "stderr",
     "output_type": "stream",
     "text": [
      "loss: 0.025, mse: 0.025, sparse: 0.009: 100%|██████████| 5/5 [01:05<00:00, 13.11s/it]"
     ]
    },
    {
     "name": "stdout",
     "output_type": "stream",
     "text": [
      "backprop: 9.812 secs\n",
      "set description: 0.005 secs\n",
      "norm atoms: 0.014 secs\n"
     ]
    },
    {
     "name": "stderr",
     "output_type": "stream",
     "text": [
      "\n"
     ]
    }
   ],
   "source": [
    "from interp_utils import reload_module\n",
    "\n",
    "reload_module('interp_models')\n",
    "from interp_models import Autoencoder, SparseAutoencoder, SparseNNMF\n",
    "from tqdm import tqdm\n",
    "from interp_utils import get_scheduler\n",
    "\n",
    "reload_module('toy_models')\n",
    "from toy_models import SparseIndependent\n",
    "\n",
    "N_FEATURES = 8000\n",
    "D_MODEL = 768\n",
    "N_EPOCHS = 5\n",
    "CODE_STEPS = 300\n",
    "ATOM_STEPS=300\n",
    "# BATCH_SIZE=10000\n",
    "SPARSE_COEF = 1\n",
    "\n",
    "\n",
    "nnmf = SparseNNMF(n_features=N_FEATURES, d_model=D_MODEL, orthog_k=False, bias=True)\n",
    "\n",
    "\n",
    "nnmf.train(embeds, n_epochs=N_EPOCHS, sparse_coef=SPARSE_COEF, reinit_codes=True)\n"
   ]
  },
  {
   "cell_type": "code",
   "execution_count": 10,
   "metadata": {},
   "outputs": [
    {
     "data": {
      "text/plain": [
       "tensor([[0.0146, 0.0034, 0.0113,  ..., 0.0052, 0.0036, 0.0056],\n",
       "        [0.0131, 0.0122, 0.0196,  ..., 0.0027, 0.0057, 0.0129],\n",
       "        [0.0022, 0.0054, 0.0234,  ..., 0.0037, 0.0136, 0.0090],\n",
       "        ...,\n",
       "        [0.0144, 0.0243, 0.0108,  ..., 0.0076, 0.0218, 0.0084],\n",
       "        [0.0056, 0.0090, 0.0079,  ..., 0.0293, 0.0134, 0.0081],\n",
       "        [0.0099, 0.0080, 0.0089,  ..., 0.0020, 0.0135, 0.0047]],\n",
       "       grad_fn=<AbsBackward0>)"
      ]
     },
     "execution_count": 10,
     "metadata": {},
     "output_type": "execute_result"
    }
   ],
   "source": []
  }
 ],
 "metadata": {
  "kernelspec": {
   "display_name": "gpt",
   "language": "python",
   "name": "python3"
  },
  "language_info": {
   "codemirror_mode": {
    "name": "ipython",
    "version": 3
   },
   "file_extension": ".py",
   "mimetype": "text/x-python",
   "name": "python",
   "nbconvert_exporter": "python",
   "pygments_lexer": "ipython3",
   "version": "3.10.11"
  },
  "orig_nbformat": 4
 },
 "nbformat": 4,
 "nbformat_minor": 2
}
